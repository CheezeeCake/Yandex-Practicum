{
 "cells": [
  {
   "cell_type": "markdown",
   "id": "46bff739",
   "metadata": {
    "toc": true
   },
   "source": [
    "<h1>Содержание<span class=\"tocSkip\"></span></h1>\n",
    "<div class=\"toc\"><ul class=\"toc-item\"><li><span><a href=\"#Описание-проекта\" data-toc-modified-id=\"Описание-проекта-1\"><span class=\"toc-item-num\">1&nbsp;&nbsp;</span>Описание проекта</a></span><ul class=\"toc-item\"><li><span><a href=\"#Описание-тарифов\" data-toc-modified-id=\"Описание-тарифов-1.1\"><span class=\"toc-item-num\">1.1&nbsp;&nbsp;</span>Описание тарифов</a></span><ul class=\"toc-item\"><li><span><a href=\"#Тариф-«Смарт»\" data-toc-modified-id=\"Тариф-«Смарт»-1.1.1\"><span class=\"toc-item-num\">1.1.1&nbsp;&nbsp;</span>Тариф «Смарт»</a></span></li><li><span><a href=\"#Тариф-«Ультра»\" data-toc-modified-id=\"Тариф-«Ультра»-1.1.2\"><span class=\"toc-item-num\">1.1.2&nbsp;&nbsp;</span>Тариф «Ультра»</a></span></li><li><span><a href=\"#Примечание\" data-toc-modified-id=\"Примечание-1.1.3\"><span class=\"toc-item-num\">1.1.3&nbsp;&nbsp;</span>Примечание</a></span></li></ul></li></ul></li><li><span><a href=\"#Описание-данных\" data-toc-modified-id=\"Описание-данных-2\"><span class=\"toc-item-num\">2&nbsp;&nbsp;</span>Описание данных</a></span><ul class=\"toc-item\"><li><ul class=\"toc-item\"><li><span><a href=\"#Таблица-users-(информация-о-пользователях)\" data-toc-modified-id=\"Таблица-users-(информация-о-пользователях)-2.0.1\"><span class=\"toc-item-num\">2.0.1&nbsp;&nbsp;</span>Таблица users (информация о пользователях)</a></span></li><li><span><a href=\"#Таблица-calls-(информация-о-звонках)\" data-toc-modified-id=\"Таблица-calls-(информация-о-звонках)-2.0.2\"><span class=\"toc-item-num\">2.0.2&nbsp;&nbsp;</span>Таблица calls (информация о звонках)</a></span></li><li><span><a href=\"#Таблица-messages-(информация-о-сообщениях)\" data-toc-modified-id=\"Таблица-messages-(информация-о-сообщениях)-2.0.3\"><span class=\"toc-item-num\">2.0.3&nbsp;&nbsp;</span>Таблица messages (информация о сообщениях)</a></span></li><li><span><a href=\"#Таблица-internet-(информация-об-интернет-сессиях)\" data-toc-modified-id=\"Таблица-internet-(информация-об-интернет-сессиях)-2.0.4\"><span class=\"toc-item-num\">2.0.4&nbsp;&nbsp;</span>Таблица internet (информация об интернет-сессиях)</a></span></li><li><span><a href=\"#Таблица-tariffs-(информация-о-тарифах)\" data-toc-modified-id=\"Таблица-tariffs-(информация-о-тарифах)-2.0.5\"><span class=\"toc-item-num\">2.0.5&nbsp;&nbsp;</span>Таблица tariffs (информация о тарифах)</a></span></li></ul></li></ul></li><li><span><a href=\"#Изучение-данных\" data-toc-modified-id=\"Изучение-данных-3\"><span class=\"toc-item-num\">3&nbsp;&nbsp;</span>Изучение данных</a></span><ul class=\"toc-item\"><li><ul class=\"toc-item\"><li><span><a href=\"#Посмотрим-данные-таблицы-users_df-(информация-о-пользователях)\" data-toc-modified-id=\"Посмотрим-данные-таблицы-users_df-(информация-о-пользователях)-3.0.1\"><span class=\"toc-item-num\">3.0.1&nbsp;&nbsp;</span>Посмотрим данные таблицы users_df (информация о пользователях)</a></span><ul class=\"toc-item\"><li><span><a href=\"#Вывод\" data-toc-modified-id=\"Вывод-3.0.1.1\"><span class=\"toc-item-num\">3.0.1.1&nbsp;&nbsp;</span>Вывод</a></span></li></ul></li><li><span><a href=\"#Посмотрим-данные-таблицы-calls_df--(информация-о-звонках)\" data-toc-modified-id=\"Посмотрим-данные-таблицы-calls_df--(информация-о-звонках)-3.0.2\"><span class=\"toc-item-num\">3.0.2&nbsp;&nbsp;</span>Посмотрим данные таблицы calls_df  (информация о звонках)</a></span><ul class=\"toc-item\"><li><span><a href=\"#Вывод\" data-toc-modified-id=\"Вывод-3.0.2.1\"><span class=\"toc-item-num\">3.0.2.1&nbsp;&nbsp;</span>Вывод</a></span></li></ul></li><li><span><a href=\"#Посмотрим-данные-таблицы-messages_df-(информация-о-сообщениях)\" data-toc-modified-id=\"Посмотрим-данные-таблицы-messages_df-(информация-о-сообщениях)-3.0.3\"><span class=\"toc-item-num\">3.0.3&nbsp;&nbsp;</span>Посмотрим данные таблицы messages_df (информация о сообщениях)</a></span><ul class=\"toc-item\"><li><span><a href=\"#Вывод\" data-toc-modified-id=\"Вывод-3.0.3.1\"><span class=\"toc-item-num\">3.0.3.1&nbsp;&nbsp;</span>Вывод</a></span></li></ul></li><li><span><a href=\"#Посмотрим-данные-таблицы-internet_df-(информация-об-интернет-сессиях)\" data-toc-modified-id=\"Посмотрим-данные-таблицы-internet_df-(информация-об-интернет-сессиях)-3.0.4\"><span class=\"toc-item-num\">3.0.4&nbsp;&nbsp;</span>Посмотрим данные таблицы internet_df (информация об интернет-сессиях)</a></span><ul class=\"toc-item\"><li><span><a href=\"#Вывод\" data-toc-modified-id=\"Вывод-3.0.4.1\"><span class=\"toc-item-num\">3.0.4.1&nbsp;&nbsp;</span>Вывод</a></span></li></ul></li><li><span><a href=\"#Посмотрим-данные-таблицы-tariffs_df-(информация-о-тарифах)\" data-toc-modified-id=\"Посмотрим-данные-таблицы-tariffs_df-(информация-о-тарифах)-3.0.5\"><span class=\"toc-item-num\">3.0.5&nbsp;&nbsp;</span>Посмотрим данные таблицы tariffs_df (информация о тарифах)</a></span><ul class=\"toc-item\"><li><span><a href=\"#Вывод\" data-toc-modified-id=\"Вывод-3.0.5.1\"><span class=\"toc-item-num\">3.0.5.1&nbsp;&nbsp;</span>Вывод</a></span></li></ul></li><li><span><a href=\"#Вывод-по-первичному-анализу-данных\" data-toc-modified-id=\"Вывод-по-первичному-анализу-данных-3.0.6\"><span class=\"toc-item-num\">3.0.6&nbsp;&nbsp;</span>Вывод по первичному анализу данных</a></span></li></ul></li></ul></li><li><span><a href=\"#Предобработка-данных\" data-toc-modified-id=\"Предобработка-данных-4\"><span class=\"toc-item-num\">4&nbsp;&nbsp;</span>Предобработка данных</a></span><ul class=\"toc-item\"><li><span><a href=\"#Займемся-таблицей-users_df\" data-toc-modified-id=\"Займемся-таблицей-users_df-4.1\"><span class=\"toc-item-num\">4.1&nbsp;&nbsp;</span>Займемся таблицей users_df</a></span><ul class=\"toc-item\"><li><span><a href=\"#Вывод\" data-toc-modified-id=\"Вывод-4.1.1\"><span class=\"toc-item-num\">4.1.1&nbsp;&nbsp;</span>Вывод</a></span></li></ul></li><li><span><a href=\"#Займемся-таблицей-calls_df\" data-toc-modified-id=\"Займемся-таблицей-calls_df-4.2\"><span class=\"toc-item-num\">4.2&nbsp;&nbsp;</span>Займемся таблицей calls_df</a></span><ul class=\"toc-item\"><li><span><a href=\"#Округлим-значения-в-столбце-duration-—-длительность-звонка-в-минутах\" data-toc-modified-id=\"Округлим-значения-в-столбце-duration-—-длительность-звонка-в-минутах-4.2.1\"><span class=\"toc-item-num\">4.2.1&nbsp;&nbsp;</span>Округлим значения в столбце <code>duration</code> — длительность звонка в минутах</a></span></li><li><span><a href=\"#Приведем-данные-к-нужному-типу-данных\" data-toc-modified-id=\"Приведем-данные-к-нужному-типу-данных-4.2.2\"><span class=\"toc-item-num\">4.2.2&nbsp;&nbsp;</span>Приведем данные к нужному типу данных</a></span></li><li><span><a href=\"#Вывод\" data-toc-modified-id=\"Вывод-4.2.3\"><span class=\"toc-item-num\">4.2.3&nbsp;&nbsp;</span>Вывод</a></span></li></ul></li><li><span><a href=\"#Займемся-таблицей-internet_df\" data-toc-modified-id=\"Займемся-таблицей-internet_df-4.3\"><span class=\"toc-item-num\">4.3&nbsp;&nbsp;</span>Займемся таблицей internet_df</a></span><ul class=\"toc-item\"><li><span><a href=\"#Посмотрим-на-нулевые-значения-в-столбце-mb_used\" data-toc-modified-id=\"Посмотрим-на-нулевые-значения-в-столбце-mb_used-4.3.1\"><span class=\"toc-item-num\">4.3.1&nbsp;&nbsp;</span>Посмотрим на нулевые значения в столбце <code>mb_used</code></a></span></li><li><span><a href=\"#Удалим-лишние-данные\" data-toc-modified-id=\"Удалим-лишние-данные-4.3.2\"><span class=\"toc-item-num\">4.3.2&nbsp;&nbsp;</span>Удалим лишние данные</a></span></li><li><span><a href=\"#Округлим-значения-в-столбце-mb_used-—-объём-потраченного-за-сессию-интернет-трафика\" data-toc-modified-id=\"Округлим-значения-в-столбце-mb_used-—-объём-потраченного-за-сессию-интернет-трафика-4.3.3\"><span class=\"toc-item-num\">4.3.3&nbsp;&nbsp;</span>Округлим значения в столбце <code>mb_used</code> — объём потраченного за сессию интернет-трафика</a></span></li><li><span><a href=\"#Приведем-данные-к-нужному-типу-данных\" data-toc-modified-id=\"Приведем-данные-к-нужному-типу-данных-4.3.4\"><span class=\"toc-item-num\">4.3.4&nbsp;&nbsp;</span>Приведем данные к нужному типу данных</a></span></li><li><span><a href=\"#Вывод\" data-toc-modified-id=\"Вывод-4.3.5\"><span class=\"toc-item-num\">4.3.5&nbsp;&nbsp;</span>Вывод</a></span></li></ul></li><li><span><a href=\"#Займемся-таблицей-messages_df\" data-toc-modified-id=\"Займемся-таблицей-messages_df-4.4\"><span class=\"toc-item-num\">4.4&nbsp;&nbsp;</span>Займемся таблицей messages_df</a></span><ul class=\"toc-item\"><li><span><a href=\"#Вывод\" data-toc-modified-id=\"Вывод-4.4.1\"><span class=\"toc-item-num\">4.4.1&nbsp;&nbsp;</span>Вывод</a></span></li></ul></li><li><span><a href=\"#Займемся-таблицей-tariffs_df\" data-toc-modified-id=\"Займемся-таблицей-tariffs_df-4.5\"><span class=\"toc-item-num\">4.5&nbsp;&nbsp;</span>Займемся таблицей tariffs_df</a></span><ul class=\"toc-item\"><li><span><a href=\"#Вывод\" data-toc-modified-id=\"Вывод-4.5.1\"><span class=\"toc-item-num\">4.5.1&nbsp;&nbsp;</span>Вывод</a></span></li></ul></li><li><span><a href=\"#Добавление-данных\" data-toc-modified-id=\"Добавление-данных-4.6\"><span class=\"toc-item-num\">4.6&nbsp;&nbsp;</span>Добавление данных</a></span><ul class=\"toc-item\"><li><span><a href=\"#Посчитаем-количество-сделанных-звонков-и-израсходованных-минут-разговора-по-месяцам\" data-toc-modified-id=\"Посчитаем-количество-сделанных-звонков-и-израсходованных-минут-разговора-по-месяцам-4.6.1\"><span class=\"toc-item-num\">4.6.1&nbsp;&nbsp;</span>Посчитаем количество сделанных звонков и израсходованных минут разговора по месяцам</a></span></li><li><span><a href=\"#Посчитаем-количество-отправленных-сообщений-по-месяцам\" data-toc-modified-id=\"Посчитаем-количество-отправленных-сообщений-по-месяцам-4.6.2\"><span class=\"toc-item-num\">4.6.2&nbsp;&nbsp;</span>Посчитаем количество отправленных сообщений по месяцам</a></span></li><li><span><a href=\"#Посчитаем-объем-израсходованного-интернет-трафика-по-месяцам\" data-toc-modified-id=\"Посчитаем-объем-израсходованного-интернет-трафика-по-месяцам-4.6.3\"><span class=\"toc-item-num\">4.6.3&nbsp;&nbsp;</span>Посчитаем объем израсходованного интернет-трафика по месяцам</a></span></li><li><span><a href=\"#Посчитаем-помесячную-выручку-с-каждого-пользователя\" data-toc-modified-id=\"Посчитаем-помесячную-выручку-с-каждого-пользователя-4.6.4\"><span class=\"toc-item-num\">4.6.4&nbsp;&nbsp;</span>Посчитаем помесячную выручку с каждого пользователя</a></span></li><li><span><a href=\"#Вывод\" data-toc-modified-id=\"Вывод-4.6.5\"><span class=\"toc-item-num\">4.6.5&nbsp;&nbsp;</span>Вывод</a></span></li></ul></li><li><span><a href=\"#Общий-вывод-после-предобработки-данных\" data-toc-modified-id=\"Общий-вывод-после-предобработки-данных-4.7\"><span class=\"toc-item-num\">4.7&nbsp;&nbsp;</span>Общий вывод после предобработки данных</a></span></li></ul></li><li><span><a href=\"#Анализ-данных\" data-toc-modified-id=\"Анализ-данных-5\"><span class=\"toc-item-num\">5&nbsp;&nbsp;</span>Анализ данных</a></span><ul class=\"toc-item\"><li><span><a href=\"#Займемся-звонками\" data-toc-modified-id=\"Займемся-звонками-5.1\"><span class=\"toc-item-num\">5.1&nbsp;&nbsp;</span>Займемся звонками</a></span><ul class=\"toc-item\"><li><span><a href=\"#Вывод\" data-toc-modified-id=\"Вывод-5.1.1\"><span class=\"toc-item-num\">5.1.1&nbsp;&nbsp;</span>Вывод</a></span></li></ul></li><li><span><a href=\"#Займемся-сообщениями\" data-toc-modified-id=\"Займемся-сообщениями-5.2\"><span class=\"toc-item-num\">5.2&nbsp;&nbsp;</span>Займемся сообщениями</a></span><ul class=\"toc-item\"><li><span><a href=\"#Вывод\" data-toc-modified-id=\"Вывод-5.2.1\"><span class=\"toc-item-num\">5.2.1&nbsp;&nbsp;</span>Вывод</a></span></li></ul></li><li><span><a href=\"#Займемся-интернет-трафиком\" data-toc-modified-id=\"Займемся-интернет-трафиком-5.3\"><span class=\"toc-item-num\">5.3&nbsp;&nbsp;</span>Займемся интернет трафиком</a></span><ul class=\"toc-item\"><li><span><a href=\"#Вывод\" data-toc-modified-id=\"Вывод-5.3.1\"><span class=\"toc-item-num\">5.3.1&nbsp;&nbsp;</span>Вывод</a></span></li></ul></li><li><span><a href=\"#Вывод-по-анализу-данных\" data-toc-modified-id=\"Вывод-по-анализу-данных-5.4\"><span class=\"toc-item-num\">5.4&nbsp;&nbsp;</span>Вывод по анализу данных</a></span></li></ul></li><li><span><a href=\"#Проверка-гипотез\" data-toc-modified-id=\"Проверка-гипотез-6\"><span class=\"toc-item-num\">6&nbsp;&nbsp;</span>Проверка гипотез</a></span><ul class=\"toc-item\"><li><span><a href=\"#Гипотеза:-средняя-выручка-пользователей-тарифов-«Ультра»-и-«Смарт»-различаются\" data-toc-modified-id=\"Гипотеза:-средняя-выручка-пользователей-тарифов-«Ультра»-и-«Смарт»-различаются-6.1\"><span class=\"toc-item-num\">6.1&nbsp;&nbsp;</span>Гипотеза: средняя выручка пользователей тарифов «Ультра» и «Смарт» различаются</a></span><ul class=\"toc-item\"><li><span><a href=\"#Вывод\" data-toc-modified-id=\"Вывод-6.1.1\"><span class=\"toc-item-num\">6.1.1&nbsp;&nbsp;</span>Вывод</a></span></li></ul></li><li><span><a href=\"#Гипотеза:-средняя-выручка-пользователей-из-Москвы-отличается-от-выручки-пользователей-из-других-регионов\" data-toc-modified-id=\"Гипотеза:-средняя-выручка-пользователей-из-Москвы-отличается-от-выручки-пользователей-из-других-регионов-6.2\"><span class=\"toc-item-num\">6.2&nbsp;&nbsp;</span>Гипотеза: средняя выручка пользователей из Москвы отличается от выручки пользователей из других регионов</a></span><ul class=\"toc-item\"><li><span><a href=\"#Вывод\" data-toc-modified-id=\"Вывод-6.2.1\"><span class=\"toc-item-num\">6.2.1&nbsp;&nbsp;</span>Вывод</a></span></li></ul></li></ul></li><li><span><a href=\"#Общий-вывод\" data-toc-modified-id=\"Общий-вывод-7\"><span class=\"toc-item-num\">7&nbsp;&nbsp;</span>Общий вывод</a></span></li></ul></div>"
   ]
  },
  {
   "cell_type": "markdown",
   "id": "9dcd6c07",
   "metadata": {},
   "source": [
    "# Описание проекта\n",
    "\n",
    "Вы аналитик компании «Мегалайн» — федерального оператора сотовой связи. Клиентам предлагают два тарифных плана: «Смарт» и «Ультра». Чтобы скорректировать рекламный бюджет, коммерческий департамент хочет понять, какой тариф приносит больше денег.  \n",
    "Вам предстоит сделать предварительный анализ тарифов на небольшой выборке клиентов. В вашем распоряжении данные 500 пользователей «Мегалайна»: кто они, откуда, каким тарифом пользуются, сколько звонков и сообщений каждый отправил за 2018 год. Нужно проанализировать поведение клиентов и сделать вывод — какой тариф лучше.\n",
    "\n",
    "## Описание тарифов\n",
    "\n",
    "### Тариф «Смарт»\n",
    "Ежемесячная плата: 550 рублей  \n",
    "Включено 500 минут разговора, 50 сообщений и 15 Гб интернет-трафика  \n",
    "Стоимость услуг сверх тарифного пакета: 1. минута разговора: 3 рубля («Мегалайн» всегда округляет вверх значения минут и мегабайтов. Если пользователь проговорил всего 1 секунду, в тарифе засчитывается целая минута); 2. сообщение: 3 рубля; 3. 1 Гб интернет-трафика: 200 рублей.\n",
    "\n",
    "### Тариф «Ультра»\n",
    "Ежемесячная плата: 1950 рублей  \n",
    "Включено 3000 минут разговора, 1000 сообщений и 30 Гб интернет-трафика  \n",
    "Стоимость услуг сверх тарифного пакета: 1. минута разговора: 1 рубль; 2. сообщение: 1 рубль; 3. 1 Гб интернет-трафика: 150 рублей.\n",
    "\n",
    "### Примечание\n",
    "«Мегалайн» всегда округляет секунды до минут, а мегабайты — до гигабайт. Каждый звонок округляется отдельно: даже если он длился всего 1 секунду, будет засчитан как 1 минута.  \n",
    "Для веб-трафика отдельные сессии не считаются. Вместо этого общая сумма за месяц округляется в бо́льшую сторону.   Если абонент использует 1025 мегабайт в этом месяце, с него возьмут плату за 2 гигабайта."
   ]
  },
  {
   "cell_type": "markdown",
   "id": "540f4cd9",
   "metadata": {},
   "source": [
    "# Описание данных\n",
    "\n",
    "### Таблица users (информация о пользователях)\n",
    "* user_id — уникальный идентификатор пользователя\n",
    "* first_name — имя пользователя\n",
    "* last_name — фамилия пользователя\n",
    "* age — возраст пользователя (годы)\n",
    "* reg_date — дата подключения тарифа (день, месяц, год)\n",
    "* churn_date — дата прекращения пользования тарифом (если значение пропущено, то тариф ещё действовал на момент выгрузки данных)\n",
    "* city — город проживания пользователя\n",
    "* tarif — название тарифного плана  \n",
    "\n",
    "### Таблица calls (информация о звонках)\n",
    "* id — уникальный номер звонка\n",
    "* call_date — дата звонка\n",
    "* duration — длительность звонка в минутах\n",
    "* user_id — идентификатор пользователя, сделавшего звонок  \n",
    "\n",
    "### Таблица messages (информация о сообщениях)\n",
    "* id — уникальный номер сообщения\n",
    "* message_date — дата сообщения\n",
    "* user_id — идентификатор пользователя, отправившего сообщение  \n",
    "\n",
    "### Таблица internet (информация об интернет-сессиях)\n",
    "* id — уникальный номер сессии\n",
    "* mb_used — объём потраченного за сессию интернет-трафика (в мегабайтах)\n",
    "* session_date — дата интернет-сессии\n",
    "* user_id — идентификатор пользователя  \n",
    "\n",
    "### Таблица tariffs (информация о тарифах)\n",
    "* tariff_name — название тарифа\n",
    "* rub_monthly_fee — ежемесячная абонентская плата в рублях\n",
    "* minutes_included — количество минут разговора в месяц, включённых в абонентскую плату\n",
    "* messages_included — количество сообщений в месяц, включённых в абонентскую плату\n",
    "* mb_per_month_included — объём интернет-трафика, включённого в абонентскую плату (в мегабайтах)\n",
    "* rub_per_minute — стоимость минуты разговора сверх тарифного пакета (например, если в тарифе 100 минут разговора в месяц, то со 101 минуты будет взиматься плата)\n",
    "* rub_per_message — стоимость отправки сообщения сверх тарифного пакета\n",
    "* rub_per_gb — стоимость дополнительного гигабайта интернет-трафика сверх тарифного пакета (1 гигабайт = 1024 мегабайта)"
   ]
  },
  {
   "cell_type": "markdown",
   "id": "ad0321f7",
   "metadata": {},
   "source": [
    "# Изучение данных"
   ]
  },
  {
   "cell_type": "markdown",
   "id": "bd46505c",
   "metadata": {},
   "source": [
    "Импортируем необходимые библиотеки"
   ]
  },
  {
   "cell_type": "code",
   "execution_count": 1,
   "id": "353e8f91",
   "metadata": {},
   "outputs": [],
   "source": [
    "import pandas as pd\n",
    "import numpy as np\n",
    "import matplotlib.pyplot as plt\n",
    "import seaborn as sns\n",
    "from scipy import stats as st"
   ]
  },
  {
   "cell_type": "markdown",
   "id": "ca38acf5",
   "metadata": {},
   "source": [
    "Загрузим данные по всем таблицам"
   ]
  },
  {
   "cell_type": "code",
   "execution_count": 2,
   "id": "221c33ab",
   "metadata": {},
   "outputs": [],
   "source": [
    "users_df = pd.read_csv('users.csv')\n",
    "calls_df = pd.read_csv('calls.csv')\n",
    "messages_df = pd.read_csv('messages.csv')\n",
    "internet_df = pd.read_csv('internet.csv', )\n",
    "tariffs_df = pd.read_csv('tariffs.csv')"
   ]
  },
  {
   "cell_type": "markdown",
   "id": "fe36724f",
   "metadata": {},
   "source": [
    "Напишем функцию для подсчета количества пропущенных значений и процента пропущенных значений по столбцам"
   ]
  },
  {
   "cell_type": "code",
   "execution_count": 3,
   "id": "97c14d41",
   "metadata": {},
   "outputs": [],
   "source": [
    "def print_isna(df):\n",
    "    isna_df = pd.DataFrame()\n",
    "    isna_df['count'] = df.isna().sum()\n",
    "    isna_df['percent'] = (isna_df['count'] / df.shape[0] * 100).round(2)\n",
    "    isna_df = isna_df.sort_values(by='count', ascending=False)\n",
    "    display(isna_df)"
   ]
  },
  {
   "cell_type": "markdown",
   "id": "064d1ef8",
   "metadata": {},
   "source": [
    "### Посмотрим данные таблицы users_df (информация о пользователях)"
   ]
  },
  {
   "cell_type": "markdown",
   "id": "3cd964ae",
   "metadata": {},
   "source": [
    "Выведем 10 строк из таблицы"
   ]
  },
  {
   "cell_type": "code",
   "execution_count": 4,
   "id": "25407864",
   "metadata": {},
   "outputs": [
    {
     "data": {
      "text/html": [
       "<div>\n",
       "<style scoped>\n",
       "    .dataframe tbody tr th:only-of-type {\n",
       "        vertical-align: middle;\n",
       "    }\n",
       "\n",
       "    .dataframe tbody tr th {\n",
       "        vertical-align: top;\n",
       "    }\n",
       "\n",
       "    .dataframe thead th {\n",
       "        text-align: right;\n",
       "    }\n",
       "</style>\n",
       "<table border=\"1\" class=\"dataframe\">\n",
       "  <thead>\n",
       "    <tr style=\"text-align: right;\">\n",
       "      <th></th>\n",
       "      <th>user_id</th>\n",
       "      <th>age</th>\n",
       "      <th>churn_date</th>\n",
       "      <th>city</th>\n",
       "      <th>first_name</th>\n",
       "      <th>last_name</th>\n",
       "      <th>reg_date</th>\n",
       "      <th>tariff</th>\n",
       "    </tr>\n",
       "  </thead>\n",
       "  <tbody>\n",
       "    <tr>\n",
       "      <th>311</th>\n",
       "      <td>1311</td>\n",
       "      <td>33</td>\n",
       "      <td>NaN</td>\n",
       "      <td>Тверь</td>\n",
       "      <td>Лолита</td>\n",
       "      <td>Крылова</td>\n",
       "      <td>2018-08-03</td>\n",
       "      <td>smart</td>\n",
       "    </tr>\n",
       "    <tr>\n",
       "      <th>429</th>\n",
       "      <td>1429</td>\n",
       "      <td>54</td>\n",
       "      <td>NaN</td>\n",
       "      <td>Санкт-Петербург</td>\n",
       "      <td>Джулия</td>\n",
       "      <td>Белякова</td>\n",
       "      <td>2018-01-26</td>\n",
       "      <td>smart</td>\n",
       "    </tr>\n",
       "    <tr>\n",
       "      <th>395</th>\n",
       "      <td>1395</td>\n",
       "      <td>66</td>\n",
       "      <td>NaN</td>\n",
       "      <td>Москва</td>\n",
       "      <td>Радомир</td>\n",
       "      <td>Кондратов</td>\n",
       "      <td>2018-01-06</td>\n",
       "      <td>smart</td>\n",
       "    </tr>\n",
       "    <tr>\n",
       "      <th>198</th>\n",
       "      <td>1198</td>\n",
       "      <td>26</td>\n",
       "      <td>NaN</td>\n",
       "      <td>Ярославль</td>\n",
       "      <td>Эдуард</td>\n",
       "      <td>Швецов</td>\n",
       "      <td>2018-08-15</td>\n",
       "      <td>smart</td>\n",
       "    </tr>\n",
       "    <tr>\n",
       "      <th>268</th>\n",
       "      <td>1268</td>\n",
       "      <td>18</td>\n",
       "      <td>NaN</td>\n",
       "      <td>Москва</td>\n",
       "      <td>Трофим</td>\n",
       "      <td>Трошин</td>\n",
       "      <td>2018-05-28</td>\n",
       "      <td>smart</td>\n",
       "    </tr>\n",
       "    <tr>\n",
       "      <th>453</th>\n",
       "      <td>1453</td>\n",
       "      <td>50</td>\n",
       "      <td>NaN</td>\n",
       "      <td>Москва</td>\n",
       "      <td>Кузьма</td>\n",
       "      <td>Акуленко</td>\n",
       "      <td>2018-01-01</td>\n",
       "      <td>ultra</td>\n",
       "    </tr>\n",
       "    <tr>\n",
       "      <th>104</th>\n",
       "      <td>1104</td>\n",
       "      <td>60</td>\n",
       "      <td>NaN</td>\n",
       "      <td>Нижний Тагил</td>\n",
       "      <td>Габриэль</td>\n",
       "      <td>Поляков</td>\n",
       "      <td>2018-02-21</td>\n",
       "      <td>ultra</td>\n",
       "    </tr>\n",
       "    <tr>\n",
       "      <th>292</th>\n",
       "      <td>1292</td>\n",
       "      <td>63</td>\n",
       "      <td>NaN</td>\n",
       "      <td>Красноярск</td>\n",
       "      <td>Веселина</td>\n",
       "      <td>Алексеенко</td>\n",
       "      <td>2018-02-21</td>\n",
       "      <td>ultra</td>\n",
       "    </tr>\n",
       "    <tr>\n",
       "      <th>402</th>\n",
       "      <td>1402</td>\n",
       "      <td>23</td>\n",
       "      <td>NaN</td>\n",
       "      <td>Пенза</td>\n",
       "      <td>Мариетта</td>\n",
       "      <td>Измайлова</td>\n",
       "      <td>2018-03-09</td>\n",
       "      <td>ultra</td>\n",
       "    </tr>\n",
       "    <tr>\n",
       "      <th>197</th>\n",
       "      <td>1197</td>\n",
       "      <td>34</td>\n",
       "      <td>NaN</td>\n",
       "      <td>Красноярск</td>\n",
       "      <td>Демьян</td>\n",
       "      <td>Черняев</td>\n",
       "      <td>2018-06-18</td>\n",
       "      <td>smart</td>\n",
       "    </tr>\n",
       "  </tbody>\n",
       "</table>\n",
       "</div>"
      ],
      "text/plain": [
       "     user_id  age churn_date             city first_name   last_name  \\\n",
       "311     1311   33        NaN            Тверь     Лолита     Крылова   \n",
       "429     1429   54        NaN  Санкт-Петербург     Джулия    Белякова   \n",
       "395     1395   66        NaN           Москва    Радомир   Кондратов   \n",
       "198     1198   26        NaN        Ярославль     Эдуард      Швецов   \n",
       "268     1268   18        NaN           Москва     Трофим      Трошин   \n",
       "453     1453   50        NaN           Москва     Кузьма    Акуленко   \n",
       "104     1104   60        NaN     Нижний Тагил   Габриэль     Поляков   \n",
       "292     1292   63        NaN       Красноярск   Веселина  Алексеенко   \n",
       "402     1402   23        NaN            Пенза   Мариетта   Измайлова   \n",
       "197     1197   34        NaN       Красноярск     Демьян     Черняев   \n",
       "\n",
       "       reg_date tariff  \n",
       "311  2018-08-03  smart  \n",
       "429  2018-01-26  smart  \n",
       "395  2018-01-06  smart  \n",
       "198  2018-08-15  smart  \n",
       "268  2018-05-28  smart  \n",
       "453  2018-01-01  ultra  \n",
       "104  2018-02-21  ultra  \n",
       "292  2018-02-21  ultra  \n",
       "402  2018-03-09  ultra  \n",
       "197  2018-06-18  smart  "
      ]
     },
     "execution_count": 4,
     "metadata": {},
     "output_type": "execute_result"
    }
   ],
   "source": [
    "users_df.sample(10)"
   ]
  },
  {
   "cell_type": "markdown",
   "id": "ad4f7c8c",
   "metadata": {},
   "source": [
    "Выведем информацию по таблице"
   ]
  },
  {
   "cell_type": "code",
   "execution_count": 5,
   "id": "a289d8bb",
   "metadata": {},
   "outputs": [
    {
     "name": "stdout",
     "output_type": "stream",
     "text": [
      "<class 'pandas.core.frame.DataFrame'>\n",
      "RangeIndex: 500 entries, 0 to 499\n",
      "Data columns (total 8 columns):\n",
      " #   Column      Non-Null Count  Dtype \n",
      "---  ------      --------------  ----- \n",
      " 0   user_id     500 non-null    int64 \n",
      " 1   age         500 non-null    int64 \n",
      " 2   churn_date  38 non-null     object\n",
      " 3   city        500 non-null    object\n",
      " 4   first_name  500 non-null    object\n",
      " 5   last_name   500 non-null    object\n",
      " 6   reg_date    500 non-null    object\n",
      " 7   tariff      500 non-null    object\n",
      "dtypes: int64(2), object(6)\n",
      "memory usage: 31.4+ KB\n"
     ]
    }
   ],
   "source": [
    "users_df.info()"
   ]
  },
  {
   "cell_type": "markdown",
   "id": "239b0200",
   "metadata": {},
   "source": [
    "Посмотрим на статистическую информацию"
   ]
  },
  {
   "cell_type": "code",
   "execution_count": 6,
   "id": "c522f569",
   "metadata": {},
   "outputs": [
    {
     "data": {
      "text/html": [
       "<div>\n",
       "<style scoped>\n",
       "    .dataframe tbody tr th:only-of-type {\n",
       "        vertical-align: middle;\n",
       "    }\n",
       "\n",
       "    .dataframe tbody tr th {\n",
       "        vertical-align: top;\n",
       "    }\n",
       "\n",
       "    .dataframe thead th {\n",
       "        text-align: right;\n",
       "    }\n",
       "</style>\n",
       "<table border=\"1\" class=\"dataframe\">\n",
       "  <thead>\n",
       "    <tr style=\"text-align: right;\">\n",
       "      <th></th>\n",
       "      <th>count</th>\n",
       "      <th>mean</th>\n",
       "      <th>std</th>\n",
       "      <th>min</th>\n",
       "      <th>25%</th>\n",
       "      <th>50%</th>\n",
       "      <th>75%</th>\n",
       "      <th>max</th>\n",
       "    </tr>\n",
       "  </thead>\n",
       "  <tbody>\n",
       "    <tr>\n",
       "      <th>user_id</th>\n",
       "      <td>500.0</td>\n",
       "      <td>1249.500</td>\n",
       "      <td>144.481833</td>\n",
       "      <td>1000.0</td>\n",
       "      <td>1124.75</td>\n",
       "      <td>1249.5</td>\n",
       "      <td>1374.25</td>\n",
       "      <td>1499.0</td>\n",
       "    </tr>\n",
       "    <tr>\n",
       "      <th>age</th>\n",
       "      <td>500.0</td>\n",
       "      <td>46.588</td>\n",
       "      <td>16.667630</td>\n",
       "      <td>18.0</td>\n",
       "      <td>32.00</td>\n",
       "      <td>46.0</td>\n",
       "      <td>62.00</td>\n",
       "      <td>75.0</td>\n",
       "    </tr>\n",
       "  </tbody>\n",
       "</table>\n",
       "</div>"
      ],
      "text/plain": [
       "         count      mean         std     min      25%     50%      75%     max\n",
       "user_id  500.0  1249.500  144.481833  1000.0  1124.75  1249.5  1374.25  1499.0\n",
       "age      500.0    46.588   16.667630    18.0    32.00    46.0    62.00    75.0"
      ]
     },
     "execution_count": 6,
     "metadata": {},
     "output_type": "execute_result"
    }
   ],
   "source": [
    "users_df.describe().T"
   ]
  },
  {
   "cell_type": "markdown",
   "id": "eeda52cd",
   "metadata": {},
   "source": [
    "Посмотрим на пропущенные значения"
   ]
  },
  {
   "cell_type": "code",
   "execution_count": 7,
   "id": "18c0a33f",
   "metadata": {},
   "outputs": [
    {
     "data": {
      "text/html": [
       "<div>\n",
       "<style scoped>\n",
       "    .dataframe tbody tr th:only-of-type {\n",
       "        vertical-align: middle;\n",
       "    }\n",
       "\n",
       "    .dataframe tbody tr th {\n",
       "        vertical-align: top;\n",
       "    }\n",
       "\n",
       "    .dataframe thead th {\n",
       "        text-align: right;\n",
       "    }\n",
       "</style>\n",
       "<table border=\"1\" class=\"dataframe\">\n",
       "  <thead>\n",
       "    <tr style=\"text-align: right;\">\n",
       "      <th></th>\n",
       "      <th>count</th>\n",
       "      <th>percent</th>\n",
       "    </tr>\n",
       "  </thead>\n",
       "  <tbody>\n",
       "    <tr>\n",
       "      <th>churn_date</th>\n",
       "      <td>462</td>\n",
       "      <td>92.4</td>\n",
       "    </tr>\n",
       "    <tr>\n",
       "      <th>user_id</th>\n",
       "      <td>0</td>\n",
       "      <td>0.0</td>\n",
       "    </tr>\n",
       "    <tr>\n",
       "      <th>age</th>\n",
       "      <td>0</td>\n",
       "      <td>0.0</td>\n",
       "    </tr>\n",
       "    <tr>\n",
       "      <th>city</th>\n",
       "      <td>0</td>\n",
       "      <td>0.0</td>\n",
       "    </tr>\n",
       "    <tr>\n",
       "      <th>first_name</th>\n",
       "      <td>0</td>\n",
       "      <td>0.0</td>\n",
       "    </tr>\n",
       "    <tr>\n",
       "      <th>last_name</th>\n",
       "      <td>0</td>\n",
       "      <td>0.0</td>\n",
       "    </tr>\n",
       "    <tr>\n",
       "      <th>reg_date</th>\n",
       "      <td>0</td>\n",
       "      <td>0.0</td>\n",
       "    </tr>\n",
       "    <tr>\n",
       "      <th>tariff</th>\n",
       "      <td>0</td>\n",
       "      <td>0.0</td>\n",
       "    </tr>\n",
       "  </tbody>\n",
       "</table>\n",
       "</div>"
      ],
      "text/plain": [
       "            count  percent\n",
       "churn_date    462     92.4\n",
       "user_id         0      0.0\n",
       "age             0      0.0\n",
       "city            0      0.0\n",
       "first_name      0      0.0\n",
       "last_name       0      0.0\n",
       "reg_date        0      0.0\n",
       "tariff          0      0.0"
      ]
     },
     "metadata": {},
     "output_type": "display_data"
    }
   ],
   "source": [
    "print_isna(users_df)"
   ]
  },
  {
   "cell_type": "markdown",
   "id": "ee9e0c90",
   "metadata": {},
   "source": [
    "#### Вывод"
   ]
  },
  {
   "cell_type": "markdown",
   "id": "1faec13c",
   "metadata": {},
   "source": [
    "- Есть пропущенные значения в столбце `churn_date` — дата прекращения пользования тарифом, но это лишь означет что пользователь продолжает пользоваться тарифом на момент выгрузки данных.  \n",
    "- Так же необходимо привести столбцы `reg_date` - дата подключения тарифа и `churn_date` - дата прекращения пользования тарифом к типу данных datetime."
   ]
  },
  {
   "cell_type": "markdown",
   "id": "c50409c2",
   "metadata": {},
   "source": [
    "### Посмотрим данные таблицы calls_df  (информация о звонках)"
   ]
  },
  {
   "cell_type": "markdown",
   "id": "22124081",
   "metadata": {},
   "source": [
    "Выведем 10 строк из таблицы"
   ]
  },
  {
   "cell_type": "code",
   "execution_count": 8,
   "id": "e991e0ac",
   "metadata": {},
   "outputs": [
    {
     "data": {
      "text/html": [
       "<div>\n",
       "<style scoped>\n",
       "    .dataframe tbody tr th:only-of-type {\n",
       "        vertical-align: middle;\n",
       "    }\n",
       "\n",
       "    .dataframe tbody tr th {\n",
       "        vertical-align: top;\n",
       "    }\n",
       "\n",
       "    .dataframe thead th {\n",
       "        text-align: right;\n",
       "    }\n",
       "</style>\n",
       "<table border=\"1\" class=\"dataframe\">\n",
       "  <thead>\n",
       "    <tr style=\"text-align: right;\">\n",
       "      <th></th>\n",
       "      <th>id</th>\n",
       "      <th>call_date</th>\n",
       "      <th>duration</th>\n",
       "      <th>user_id</th>\n",
       "    </tr>\n",
       "  </thead>\n",
       "  <tbody>\n",
       "    <tr>\n",
       "      <th>184519</th>\n",
       "      <td>1457_491</td>\n",
       "      <td>2018-08-10</td>\n",
       "      <td>7.93</td>\n",
       "      <td>1457</td>\n",
       "    </tr>\n",
       "    <tr>\n",
       "      <th>160000</th>\n",
       "      <td>1394_405</td>\n",
       "      <td>2018-01-24</td>\n",
       "      <td>6.98</td>\n",
       "      <td>1394</td>\n",
       "    </tr>\n",
       "    <tr>\n",
       "      <th>28344</th>\n",
       "      <td>1070_219</td>\n",
       "      <td>2018-08-10</td>\n",
       "      <td>2.01</td>\n",
       "      <td>1070</td>\n",
       "    </tr>\n",
       "    <tr>\n",
       "      <th>40557</th>\n",
       "      <td>1100_80</td>\n",
       "      <td>2018-12-13</td>\n",
       "      <td>7.55</td>\n",
       "      <td>1100</td>\n",
       "    </tr>\n",
       "    <tr>\n",
       "      <th>71882</th>\n",
       "      <td>1179_154</td>\n",
       "      <td>2018-09-08</td>\n",
       "      <td>0.00</td>\n",
       "      <td>1179</td>\n",
       "    </tr>\n",
       "    <tr>\n",
       "      <th>172105</th>\n",
       "      <td>1425_717</td>\n",
       "      <td>2018-10-28</td>\n",
       "      <td>8.65</td>\n",
       "      <td>1425</td>\n",
       "    </tr>\n",
       "    <tr>\n",
       "      <th>138897</th>\n",
       "      <td>1355_125</td>\n",
       "      <td>2018-11-15</td>\n",
       "      <td>1.23</td>\n",
       "      <td>1355</td>\n",
       "    </tr>\n",
       "    <tr>\n",
       "      <th>113502</th>\n",
       "      <td>1291_128</td>\n",
       "      <td>2018-05-21</td>\n",
       "      <td>11.55</td>\n",
       "      <td>1291</td>\n",
       "    </tr>\n",
       "    <tr>\n",
       "      <th>73468</th>\n",
       "      <td>1185_262</td>\n",
       "      <td>2018-08-22</td>\n",
       "      <td>11.78</td>\n",
       "      <td>1185</td>\n",
       "    </tr>\n",
       "    <tr>\n",
       "      <th>33458</th>\n",
       "      <td>1081_703</td>\n",
       "      <td>2018-10-30</td>\n",
       "      <td>0.91</td>\n",
       "      <td>1081</td>\n",
       "    </tr>\n",
       "  </tbody>\n",
       "</table>\n",
       "</div>"
      ],
      "text/plain": [
       "              id   call_date  duration  user_id\n",
       "184519  1457_491  2018-08-10      7.93     1457\n",
       "160000  1394_405  2018-01-24      6.98     1394\n",
       "28344   1070_219  2018-08-10      2.01     1070\n",
       "40557    1100_80  2018-12-13      7.55     1100\n",
       "71882   1179_154  2018-09-08      0.00     1179\n",
       "172105  1425_717  2018-10-28      8.65     1425\n",
       "138897  1355_125  2018-11-15      1.23     1355\n",
       "113502  1291_128  2018-05-21     11.55     1291\n",
       "73468   1185_262  2018-08-22     11.78     1185\n",
       "33458   1081_703  2018-10-30      0.91     1081"
      ]
     },
     "execution_count": 8,
     "metadata": {},
     "output_type": "execute_result"
    }
   ],
   "source": [
    "calls_df.sample(10)"
   ]
  },
  {
   "cell_type": "markdown",
   "id": "693ac59a",
   "metadata": {},
   "source": [
    "Посмотрим на информацию по таблице"
   ]
  },
  {
   "cell_type": "code",
   "execution_count": 9,
   "id": "03af047b",
   "metadata": {},
   "outputs": [
    {
     "name": "stdout",
     "output_type": "stream",
     "text": [
      "<class 'pandas.core.frame.DataFrame'>\n",
      "RangeIndex: 202607 entries, 0 to 202606\n",
      "Data columns (total 4 columns):\n",
      " #   Column     Non-Null Count   Dtype  \n",
      "---  ------     --------------   -----  \n",
      " 0   id         202607 non-null  object \n",
      " 1   call_date  202607 non-null  object \n",
      " 2   duration   202607 non-null  float64\n",
      " 3   user_id    202607 non-null  int64  \n",
      "dtypes: float64(1), int64(1), object(2)\n",
      "memory usage: 6.2+ MB\n"
     ]
    }
   ],
   "source": [
    "calls_df.info()"
   ]
  },
  {
   "cell_type": "markdown",
   "id": "14939e68",
   "metadata": {},
   "source": [
    "Посмотрим на статистическую информацию"
   ]
  },
  {
   "cell_type": "code",
   "execution_count": 10,
   "id": "75c854e6",
   "metadata": {},
   "outputs": [
    {
     "data": {
      "text/html": [
       "<div>\n",
       "<style scoped>\n",
       "    .dataframe tbody tr th:only-of-type {\n",
       "        vertical-align: middle;\n",
       "    }\n",
       "\n",
       "    .dataframe tbody tr th {\n",
       "        vertical-align: top;\n",
       "    }\n",
       "\n",
       "    .dataframe thead th {\n",
       "        text-align: right;\n",
       "    }\n",
       "</style>\n",
       "<table border=\"1\" class=\"dataframe\">\n",
       "  <thead>\n",
       "    <tr style=\"text-align: right;\">\n",
       "      <th></th>\n",
       "      <th>count</th>\n",
       "      <th>mean</th>\n",
       "      <th>std</th>\n",
       "      <th>min</th>\n",
       "      <th>25%</th>\n",
       "      <th>50%</th>\n",
       "      <th>75%</th>\n",
       "      <th>max</th>\n",
       "    </tr>\n",
       "  </thead>\n",
       "  <tbody>\n",
       "    <tr>\n",
       "      <th>duration</th>\n",
       "      <td>202607.0</td>\n",
       "      <td>6.755887</td>\n",
       "      <td>5.843365</td>\n",
       "      <td>0.0</td>\n",
       "      <td>1.3</td>\n",
       "      <td>6.0</td>\n",
       "      <td>10.7</td>\n",
       "      <td>38.0</td>\n",
       "    </tr>\n",
       "    <tr>\n",
       "      <th>user_id</th>\n",
       "      <td>202607.0</td>\n",
       "      <td>1253.940619</td>\n",
       "      <td>144.722751</td>\n",
       "      <td>1000.0</td>\n",
       "      <td>1126.0</td>\n",
       "      <td>1260.0</td>\n",
       "      <td>1379.0</td>\n",
       "      <td>1499.0</td>\n",
       "    </tr>\n",
       "  </tbody>\n",
       "</table>\n",
       "</div>"
      ],
      "text/plain": [
       "             count         mean         std     min     25%     50%     75%  \\\n",
       "duration  202607.0     6.755887    5.843365     0.0     1.3     6.0    10.7   \n",
       "user_id   202607.0  1253.940619  144.722751  1000.0  1126.0  1260.0  1379.0   \n",
       "\n",
       "             max  \n",
       "duration    38.0  \n",
       "user_id   1499.0  "
      ]
     },
     "execution_count": 10,
     "metadata": {},
     "output_type": "execute_result"
    }
   ],
   "source": [
    "calls_df.describe().T"
   ]
  },
  {
   "cell_type": "markdown",
   "id": "85c687fd",
   "metadata": {},
   "source": [
    "Посмотрим на пропущенные значения"
   ]
  },
  {
   "cell_type": "code",
   "execution_count": 11,
   "id": "52bb3a60",
   "metadata": {},
   "outputs": [
    {
     "data": {
      "text/html": [
       "<div>\n",
       "<style scoped>\n",
       "    .dataframe tbody tr th:only-of-type {\n",
       "        vertical-align: middle;\n",
       "    }\n",
       "\n",
       "    .dataframe tbody tr th {\n",
       "        vertical-align: top;\n",
       "    }\n",
       "\n",
       "    .dataframe thead th {\n",
       "        text-align: right;\n",
       "    }\n",
       "</style>\n",
       "<table border=\"1\" class=\"dataframe\">\n",
       "  <thead>\n",
       "    <tr style=\"text-align: right;\">\n",
       "      <th></th>\n",
       "      <th>count</th>\n",
       "      <th>percent</th>\n",
       "    </tr>\n",
       "  </thead>\n",
       "  <tbody>\n",
       "    <tr>\n",
       "      <th>id</th>\n",
       "      <td>0</td>\n",
       "      <td>0.0</td>\n",
       "    </tr>\n",
       "    <tr>\n",
       "      <th>call_date</th>\n",
       "      <td>0</td>\n",
       "      <td>0.0</td>\n",
       "    </tr>\n",
       "    <tr>\n",
       "      <th>duration</th>\n",
       "      <td>0</td>\n",
       "      <td>0.0</td>\n",
       "    </tr>\n",
       "    <tr>\n",
       "      <th>user_id</th>\n",
       "      <td>0</td>\n",
       "      <td>0.0</td>\n",
       "    </tr>\n",
       "  </tbody>\n",
       "</table>\n",
       "</div>"
      ],
      "text/plain": [
       "           count  percent\n",
       "id             0      0.0\n",
       "call_date      0      0.0\n",
       "duration       0      0.0\n",
       "user_id        0      0.0"
      ]
     },
     "metadata": {},
     "output_type": "display_data"
    }
   ],
   "source": [
    "print_isna(calls_df)"
   ]
  },
  {
   "cell_type": "markdown",
   "id": "798c3051",
   "metadata": {},
   "source": [
    "#### Вывод"
   ]
  },
  {
   "cell_type": "markdown",
   "id": "a174a46f",
   "metadata": {},
   "source": [
    "- В столбце `duration` — длительность звонка в минутах, есть звонки с нулевой продолжительностью. Это не ошибка: нулями обозначены пропущенные звонки, поэтому их не нужно удалять. \n",
    "- Необходимо округлить значения в столбце `duration` — длительность звонка в минутах, до целых минут в большую сторону.\n",
    "- Так же необходимо, столбец `call_date` — дата звонка, привести к типу данных datetime."
   ]
  },
  {
   "cell_type": "markdown",
   "id": "3ac5217b",
   "metadata": {},
   "source": [
    "### Посмотрим данные таблицы messages_df (информация о сообщениях)"
   ]
  },
  {
   "cell_type": "markdown",
   "id": "21384125",
   "metadata": {},
   "source": [
    "Выведем 10 строк из таблицы"
   ]
  },
  {
   "cell_type": "code",
   "execution_count": 12,
   "id": "760f5c0a",
   "metadata": {},
   "outputs": [
    {
     "data": {
      "text/html": [
       "<div>\n",
       "<style scoped>\n",
       "    .dataframe tbody tr th:only-of-type {\n",
       "        vertical-align: middle;\n",
       "    }\n",
       "\n",
       "    .dataframe tbody tr th {\n",
       "        vertical-align: top;\n",
       "    }\n",
       "\n",
       "    .dataframe thead th {\n",
       "        text-align: right;\n",
       "    }\n",
       "</style>\n",
       "<table border=\"1\" class=\"dataframe\">\n",
       "  <thead>\n",
       "    <tr style=\"text-align: right;\">\n",
       "      <th></th>\n",
       "      <th>id</th>\n",
       "      <th>message_date</th>\n",
       "      <th>user_id</th>\n",
       "    </tr>\n",
       "  </thead>\n",
       "  <tbody>\n",
       "    <tr>\n",
       "      <th>1141</th>\n",
       "      <td>1004_195</td>\n",
       "      <td>2018-12-06</td>\n",
       "      <td>1004</td>\n",
       "    </tr>\n",
       "    <tr>\n",
       "      <th>10105</th>\n",
       "      <td>1039_761</td>\n",
       "      <td>2018-07-09</td>\n",
       "      <td>1039</td>\n",
       "    </tr>\n",
       "    <tr>\n",
       "      <th>99661</th>\n",
       "      <td>1408_10</td>\n",
       "      <td>2018-12-05</td>\n",
       "      <td>1408</td>\n",
       "    </tr>\n",
       "    <tr>\n",
       "      <th>61783</th>\n",
       "      <td>1271_368</td>\n",
       "      <td>2018-10-31</td>\n",
       "      <td>1271</td>\n",
       "    </tr>\n",
       "    <tr>\n",
       "      <th>56093</th>\n",
       "      <td>1249_27</td>\n",
       "      <td>2018-11-28</td>\n",
       "      <td>1249</td>\n",
       "    </tr>\n",
       "    <tr>\n",
       "      <th>58176</th>\n",
       "      <td>1256_260</td>\n",
       "      <td>2018-12-30</td>\n",
       "      <td>1256</td>\n",
       "    </tr>\n",
       "    <tr>\n",
       "      <th>103737</th>\n",
       "      <td>1423_70</td>\n",
       "      <td>2018-02-22</td>\n",
       "      <td>1423</td>\n",
       "    </tr>\n",
       "    <tr>\n",
       "      <th>77591</th>\n",
       "      <td>1327_88</td>\n",
       "      <td>2018-10-10</td>\n",
       "      <td>1327</td>\n",
       "    </tr>\n",
       "    <tr>\n",
       "      <th>43774</th>\n",
       "      <td>1189_149</td>\n",
       "      <td>2018-03-03</td>\n",
       "      <td>1189</td>\n",
       "    </tr>\n",
       "    <tr>\n",
       "      <th>17398</th>\n",
       "      <td>1076_547</td>\n",
       "      <td>2018-03-13</td>\n",
       "      <td>1076</td>\n",
       "    </tr>\n",
       "  </tbody>\n",
       "</table>\n",
       "</div>"
      ],
      "text/plain": [
       "              id message_date  user_id\n",
       "1141    1004_195   2018-12-06     1004\n",
       "10105   1039_761   2018-07-09     1039\n",
       "99661    1408_10   2018-12-05     1408\n",
       "61783   1271_368   2018-10-31     1271\n",
       "56093    1249_27   2018-11-28     1249\n",
       "58176   1256_260   2018-12-30     1256\n",
       "103737   1423_70   2018-02-22     1423\n",
       "77591    1327_88   2018-10-10     1327\n",
       "43774   1189_149   2018-03-03     1189\n",
       "17398   1076_547   2018-03-13     1076"
      ]
     },
     "execution_count": 12,
     "metadata": {},
     "output_type": "execute_result"
    }
   ],
   "source": [
    "messages_df.sample(10)"
   ]
  },
  {
   "cell_type": "markdown",
   "id": "08739432",
   "metadata": {},
   "source": [
    "Посмотрим на информацию по таблице"
   ]
  },
  {
   "cell_type": "code",
   "execution_count": 13,
   "id": "c66ac0f1",
   "metadata": {},
   "outputs": [
    {
     "name": "stdout",
     "output_type": "stream",
     "text": [
      "<class 'pandas.core.frame.DataFrame'>\n",
      "RangeIndex: 123036 entries, 0 to 123035\n",
      "Data columns (total 3 columns):\n",
      " #   Column        Non-Null Count   Dtype \n",
      "---  ------        --------------   ----- \n",
      " 0   id            123036 non-null  object\n",
      " 1   message_date  123036 non-null  object\n",
      " 2   user_id       123036 non-null  int64 \n",
      "dtypes: int64(1), object(2)\n",
      "memory usage: 2.8+ MB\n"
     ]
    }
   ],
   "source": [
    "messages_df.info()"
   ]
  },
  {
   "cell_type": "markdown",
   "id": "846b5a8d",
   "metadata": {},
   "source": [
    "Посмотрим на статистическую информацию"
   ]
  },
  {
   "cell_type": "code",
   "execution_count": 14,
   "id": "96490a57",
   "metadata": {},
   "outputs": [
    {
     "data": {
      "text/html": [
       "<div>\n",
       "<style scoped>\n",
       "    .dataframe tbody tr th:only-of-type {\n",
       "        vertical-align: middle;\n",
       "    }\n",
       "\n",
       "    .dataframe tbody tr th {\n",
       "        vertical-align: top;\n",
       "    }\n",
       "\n",
       "    .dataframe thead th {\n",
       "        text-align: right;\n",
       "    }\n",
       "</style>\n",
       "<table border=\"1\" class=\"dataframe\">\n",
       "  <thead>\n",
       "    <tr style=\"text-align: right;\">\n",
       "      <th></th>\n",
       "      <th>count</th>\n",
       "      <th>mean</th>\n",
       "      <th>std</th>\n",
       "      <th>min</th>\n",
       "      <th>25%</th>\n",
       "      <th>50%</th>\n",
       "      <th>75%</th>\n",
       "      <th>max</th>\n",
       "    </tr>\n",
       "  </thead>\n",
       "  <tbody>\n",
       "    <tr>\n",
       "      <th>user_id</th>\n",
       "      <td>123036.0</td>\n",
       "      <td>1256.98941</td>\n",
       "      <td>143.523967</td>\n",
       "      <td>1000.0</td>\n",
       "      <td>1134.0</td>\n",
       "      <td>1271.0</td>\n",
       "      <td>1381.0</td>\n",
       "      <td>1499.0</td>\n",
       "    </tr>\n",
       "  </tbody>\n",
       "</table>\n",
       "</div>"
      ],
      "text/plain": [
       "            count        mean         std     min     25%     50%     75%  \\\n",
       "user_id  123036.0  1256.98941  143.523967  1000.0  1134.0  1271.0  1381.0   \n",
       "\n",
       "            max  \n",
       "user_id  1499.0  "
      ]
     },
     "execution_count": 14,
     "metadata": {},
     "output_type": "execute_result"
    }
   ],
   "source": [
    "messages_df.describe().T"
   ]
  },
  {
   "cell_type": "markdown",
   "id": "aec66948",
   "metadata": {},
   "source": [
    "Посмотрим на пропущенные значения"
   ]
  },
  {
   "cell_type": "code",
   "execution_count": 15,
   "id": "61c8731a",
   "metadata": {},
   "outputs": [
    {
     "data": {
      "text/html": [
       "<div>\n",
       "<style scoped>\n",
       "    .dataframe tbody tr th:only-of-type {\n",
       "        vertical-align: middle;\n",
       "    }\n",
       "\n",
       "    .dataframe tbody tr th {\n",
       "        vertical-align: top;\n",
       "    }\n",
       "\n",
       "    .dataframe thead th {\n",
       "        text-align: right;\n",
       "    }\n",
       "</style>\n",
       "<table border=\"1\" class=\"dataframe\">\n",
       "  <thead>\n",
       "    <tr style=\"text-align: right;\">\n",
       "      <th></th>\n",
       "      <th>count</th>\n",
       "      <th>percent</th>\n",
       "    </tr>\n",
       "  </thead>\n",
       "  <tbody>\n",
       "    <tr>\n",
       "      <th>id</th>\n",
       "      <td>0</td>\n",
       "      <td>0.0</td>\n",
       "    </tr>\n",
       "    <tr>\n",
       "      <th>message_date</th>\n",
       "      <td>0</td>\n",
       "      <td>0.0</td>\n",
       "    </tr>\n",
       "    <tr>\n",
       "      <th>user_id</th>\n",
       "      <td>0</td>\n",
       "      <td>0.0</td>\n",
       "    </tr>\n",
       "  </tbody>\n",
       "</table>\n",
       "</div>"
      ],
      "text/plain": [
       "              count  percent\n",
       "id                0      0.0\n",
       "message_date      0      0.0\n",
       "user_id           0      0.0"
      ]
     },
     "metadata": {},
     "output_type": "display_data"
    }
   ],
   "source": [
    "print_isna(messages_df)"
   ]
  },
  {
   "cell_type": "markdown",
   "id": "0f8835b1",
   "metadata": {},
   "source": [
    "#### Вывод"
   ]
  },
  {
   "cell_type": "markdown",
   "id": "1e255e29",
   "metadata": {},
   "source": [
    "- Пропущенных значений в таблице нет.  \n",
    "- Так же необходимо, столбец `message_date` — дата сообщения, привести к типу данных datetime."
   ]
  },
  {
   "cell_type": "markdown",
   "id": "aef2d932",
   "metadata": {},
   "source": [
    "### Посмотрим данные таблицы internet_df (информация об интернет-сессиях)"
   ]
  },
  {
   "cell_type": "markdown",
   "id": "ae6b92ab",
   "metadata": {},
   "source": [
    "Выведем 10 строк из таблицы"
   ]
  },
  {
   "cell_type": "code",
   "execution_count": 16,
   "id": "378097b8",
   "metadata": {},
   "outputs": [
    {
     "data": {
      "text/html": [
       "<div>\n",
       "<style scoped>\n",
       "    .dataframe tbody tr th:only-of-type {\n",
       "        vertical-align: middle;\n",
       "    }\n",
       "\n",
       "    .dataframe tbody tr th {\n",
       "        vertical-align: top;\n",
       "    }\n",
       "\n",
       "    .dataframe thead th {\n",
       "        text-align: right;\n",
       "    }\n",
       "</style>\n",
       "<table border=\"1\" class=\"dataframe\">\n",
       "  <thead>\n",
       "    <tr style=\"text-align: right;\">\n",
       "      <th></th>\n",
       "      <th>Unnamed: 0</th>\n",
       "      <th>id</th>\n",
       "      <th>mb_used</th>\n",
       "      <th>session_date</th>\n",
       "      <th>user_id</th>\n",
       "    </tr>\n",
       "  </thead>\n",
       "  <tbody>\n",
       "    <tr>\n",
       "      <th>123077</th>\n",
       "      <td>123077</td>\n",
       "      <td>1414_170</td>\n",
       "      <td>0.00</td>\n",
       "      <td>2018-09-07</td>\n",
       "      <td>1414</td>\n",
       "    </tr>\n",
       "    <tr>\n",
       "      <th>51239</th>\n",
       "      <td>51239</td>\n",
       "      <td>1174_447</td>\n",
       "      <td>0.00</td>\n",
       "      <td>2018-03-15</td>\n",
       "      <td>1174</td>\n",
       "    </tr>\n",
       "    <tr>\n",
       "      <th>27030</th>\n",
       "      <td>27030</td>\n",
       "      <td>1093_233</td>\n",
       "      <td>224.62</td>\n",
       "      <td>2018-07-12</td>\n",
       "      <td>1093</td>\n",
       "    </tr>\n",
       "    <tr>\n",
       "      <th>148696</th>\n",
       "      <td>148696</td>\n",
       "      <td>1496_644</td>\n",
       "      <td>273.67</td>\n",
       "      <td>2018-03-11</td>\n",
       "      <td>1496</td>\n",
       "    </tr>\n",
       "    <tr>\n",
       "      <th>22708</th>\n",
       "      <td>22708</td>\n",
       "      <td>1076_348</td>\n",
       "      <td>0.00</td>\n",
       "      <td>2018-11-04</td>\n",
       "      <td>1076</td>\n",
       "    </tr>\n",
       "    <tr>\n",
       "      <th>80528</th>\n",
       "      <td>80528</td>\n",
       "      <td>1271_85</td>\n",
       "      <td>0.00</td>\n",
       "      <td>2018-08-28</td>\n",
       "      <td>1271</td>\n",
       "    </tr>\n",
       "    <tr>\n",
       "      <th>142898</th>\n",
       "      <td>142898</td>\n",
       "      <td>1478_262</td>\n",
       "      <td>371.25</td>\n",
       "      <td>2018-09-19</td>\n",
       "      <td>1478</td>\n",
       "    </tr>\n",
       "    <tr>\n",
       "      <th>40293</th>\n",
       "      <td>40293</td>\n",
       "      <td>1142_374</td>\n",
       "      <td>569.04</td>\n",
       "      <td>2018-05-11</td>\n",
       "      <td>1142</td>\n",
       "    </tr>\n",
       "    <tr>\n",
       "      <th>23141</th>\n",
       "      <td>23141</td>\n",
       "      <td>1078_58</td>\n",
       "      <td>574.75</td>\n",
       "      <td>2018-10-11</td>\n",
       "      <td>1078</td>\n",
       "    </tr>\n",
       "    <tr>\n",
       "      <th>104893</th>\n",
       "      <td>104893</td>\n",
       "      <td>1355_105</td>\n",
       "      <td>67.14</td>\n",
       "      <td>2018-10-30</td>\n",
       "      <td>1355</td>\n",
       "    </tr>\n",
       "  </tbody>\n",
       "</table>\n",
       "</div>"
      ],
      "text/plain": [
       "        Unnamed: 0        id  mb_used session_date  user_id\n",
       "123077      123077  1414_170     0.00   2018-09-07     1414\n",
       "51239        51239  1174_447     0.00   2018-03-15     1174\n",
       "27030        27030  1093_233   224.62   2018-07-12     1093\n",
       "148696      148696  1496_644   273.67   2018-03-11     1496\n",
       "22708        22708  1076_348     0.00   2018-11-04     1076\n",
       "80528        80528   1271_85     0.00   2018-08-28     1271\n",
       "142898      142898  1478_262   371.25   2018-09-19     1478\n",
       "40293        40293  1142_374   569.04   2018-05-11     1142\n",
       "23141        23141   1078_58   574.75   2018-10-11     1078\n",
       "104893      104893  1355_105    67.14   2018-10-30     1355"
      ]
     },
     "execution_count": 16,
     "metadata": {},
     "output_type": "execute_result"
    }
   ],
   "source": [
    "internet_df.sample(10)"
   ]
  },
  {
   "cell_type": "markdown",
   "id": "05091bbb",
   "metadata": {},
   "source": [
    "Посмотрим на информацию по таблице"
   ]
  },
  {
   "cell_type": "code",
   "execution_count": 17,
   "id": "d9e7d3f5",
   "metadata": {},
   "outputs": [
    {
     "name": "stdout",
     "output_type": "stream",
     "text": [
      "<class 'pandas.core.frame.DataFrame'>\n",
      "RangeIndex: 149396 entries, 0 to 149395\n",
      "Data columns (total 5 columns):\n",
      " #   Column        Non-Null Count   Dtype  \n",
      "---  ------        --------------   -----  \n",
      " 0   Unnamed: 0    149396 non-null  int64  \n",
      " 1   id            149396 non-null  object \n",
      " 2   mb_used       149396 non-null  float64\n",
      " 3   session_date  149396 non-null  object \n",
      " 4   user_id       149396 non-null  int64  \n",
      "dtypes: float64(1), int64(2), object(2)\n",
      "memory usage: 5.7+ MB\n"
     ]
    }
   ],
   "source": [
    "internet_df.info()"
   ]
  },
  {
   "cell_type": "markdown",
   "id": "746a86e7",
   "metadata": {},
   "source": [
    "Посмотрим на статистическую информацию"
   ]
  },
  {
   "cell_type": "code",
   "execution_count": 18,
   "id": "ccb8733e",
   "metadata": {},
   "outputs": [
    {
     "data": {
      "text/html": [
       "<div>\n",
       "<style scoped>\n",
       "    .dataframe tbody tr th:only-of-type {\n",
       "        vertical-align: middle;\n",
       "    }\n",
       "\n",
       "    .dataframe tbody tr th {\n",
       "        vertical-align: top;\n",
       "    }\n",
       "\n",
       "    .dataframe thead th {\n",
       "        text-align: right;\n",
       "    }\n",
       "</style>\n",
       "<table border=\"1\" class=\"dataframe\">\n",
       "  <thead>\n",
       "    <tr style=\"text-align: right;\">\n",
       "      <th></th>\n",
       "      <th>count</th>\n",
       "      <th>mean</th>\n",
       "      <th>std</th>\n",
       "      <th>min</th>\n",
       "      <th>25%</th>\n",
       "      <th>50%</th>\n",
       "      <th>75%</th>\n",
       "      <th>max</th>\n",
       "    </tr>\n",
       "  </thead>\n",
       "  <tbody>\n",
       "    <tr>\n",
       "      <th>Unnamed: 0</th>\n",
       "      <td>149396.0</td>\n",
       "      <td>74697.500000</td>\n",
       "      <td>43127.054745</td>\n",
       "      <td>0.0</td>\n",
       "      <td>37348.7500</td>\n",
       "      <td>74697.500</td>\n",
       "      <td>112046.2500</td>\n",
       "      <td>149395.00</td>\n",
       "    </tr>\n",
       "    <tr>\n",
       "      <th>mb_used</th>\n",
       "      <td>149396.0</td>\n",
       "      <td>370.192426</td>\n",
       "      <td>278.300951</td>\n",
       "      <td>0.0</td>\n",
       "      <td>138.1875</td>\n",
       "      <td>348.015</td>\n",
       "      <td>559.5525</td>\n",
       "      <td>1724.83</td>\n",
       "    </tr>\n",
       "    <tr>\n",
       "      <th>user_id</th>\n",
       "      <td>149396.0</td>\n",
       "      <td>1252.099842</td>\n",
       "      <td>144.050823</td>\n",
       "      <td>1000.0</td>\n",
       "      <td>1130.0000</td>\n",
       "      <td>1251.000</td>\n",
       "      <td>1380.0000</td>\n",
       "      <td>1499.00</td>\n",
       "    </tr>\n",
       "  </tbody>\n",
       "</table>\n",
       "</div>"
      ],
      "text/plain": [
       "               count          mean           std     min         25%  \\\n",
       "Unnamed: 0  149396.0  74697.500000  43127.054745     0.0  37348.7500   \n",
       "mb_used     149396.0    370.192426    278.300951     0.0    138.1875   \n",
       "user_id     149396.0   1252.099842    144.050823  1000.0   1130.0000   \n",
       "\n",
       "                  50%          75%        max  \n",
       "Unnamed: 0  74697.500  112046.2500  149395.00  \n",
       "mb_used       348.015     559.5525    1724.83  \n",
       "user_id      1251.000    1380.0000    1499.00  "
      ]
     },
     "execution_count": 18,
     "metadata": {},
     "output_type": "execute_result"
    }
   ],
   "source": [
    "internet_df.describe().T"
   ]
  },
  {
   "cell_type": "markdown",
   "id": "89c146aa",
   "metadata": {},
   "source": [
    "Посмотрим на пропущенные значения"
   ]
  },
  {
   "cell_type": "code",
   "execution_count": 19,
   "id": "6533c059",
   "metadata": {},
   "outputs": [
    {
     "data": {
      "text/html": [
       "<div>\n",
       "<style scoped>\n",
       "    .dataframe tbody tr th:only-of-type {\n",
       "        vertical-align: middle;\n",
       "    }\n",
       "\n",
       "    .dataframe tbody tr th {\n",
       "        vertical-align: top;\n",
       "    }\n",
       "\n",
       "    .dataframe thead th {\n",
       "        text-align: right;\n",
       "    }\n",
       "</style>\n",
       "<table border=\"1\" class=\"dataframe\">\n",
       "  <thead>\n",
       "    <tr style=\"text-align: right;\">\n",
       "      <th></th>\n",
       "      <th>count</th>\n",
       "      <th>percent</th>\n",
       "    </tr>\n",
       "  </thead>\n",
       "  <tbody>\n",
       "    <tr>\n",
       "      <th>Unnamed: 0</th>\n",
       "      <td>0</td>\n",
       "      <td>0.0</td>\n",
       "    </tr>\n",
       "    <tr>\n",
       "      <th>id</th>\n",
       "      <td>0</td>\n",
       "      <td>0.0</td>\n",
       "    </tr>\n",
       "    <tr>\n",
       "      <th>mb_used</th>\n",
       "      <td>0</td>\n",
       "      <td>0.0</td>\n",
       "    </tr>\n",
       "    <tr>\n",
       "      <th>session_date</th>\n",
       "      <td>0</td>\n",
       "      <td>0.0</td>\n",
       "    </tr>\n",
       "    <tr>\n",
       "      <th>user_id</th>\n",
       "      <td>0</td>\n",
       "      <td>0.0</td>\n",
       "    </tr>\n",
       "  </tbody>\n",
       "</table>\n",
       "</div>"
      ],
      "text/plain": [
       "              count  percent\n",
       "Unnamed: 0        0      0.0\n",
       "id                0      0.0\n",
       "mb_used           0      0.0\n",
       "session_date      0      0.0\n",
       "user_id           0      0.0"
      ]
     },
     "metadata": {},
     "output_type": "display_data"
    }
   ],
   "source": [
    "print_isna(internet_df)"
   ]
  },
  {
   "cell_type": "markdown",
   "id": "a9f73cb5",
   "metadata": {},
   "source": [
    "#### Вывод"
   ]
  },
  {
   "cell_type": "markdown",
   "id": "1f6199fc",
   "metadata": {},
   "source": [
    "- Пропущенных значений в таблице нет.\n",
    "- Есть столбец `Unnamed: 0` который дублирует индексы, возможно произошла ошибка при выгрузке данных. Нужно его удалить.\n",
    "- В столбце `mb_used` — объём потраченного за сессию интернет-трафика, есть нулевые значения, возможно клиент просто не пользовался интернетом.\n",
    "- Необходимо округлить значения в столбце `mb_used` — объём потраченного за сессию интернет-трафика, до целых гигабайт в большую сторону.\n",
    "- Так же необходимо, столбец `session_date` — дата интернет-сессии, привести к типу данных datetime."
   ]
  },
  {
   "cell_type": "markdown",
   "id": "de3537da",
   "metadata": {},
   "source": [
    "### Посмотрим данные таблицы tariffs_df (информация о тарифах)"
   ]
  },
  {
   "cell_type": "markdown",
   "id": "5949517f",
   "metadata": {},
   "source": [
    "Выведем информацию из таблицы"
   ]
  },
  {
   "cell_type": "code",
   "execution_count": 20,
   "id": "bc316373",
   "metadata": {},
   "outputs": [
    {
     "data": {
      "text/html": [
       "<div>\n",
       "<style scoped>\n",
       "    .dataframe tbody tr th:only-of-type {\n",
       "        vertical-align: middle;\n",
       "    }\n",
       "\n",
       "    .dataframe tbody tr th {\n",
       "        vertical-align: top;\n",
       "    }\n",
       "\n",
       "    .dataframe thead th {\n",
       "        text-align: right;\n",
       "    }\n",
       "</style>\n",
       "<table border=\"1\" class=\"dataframe\">\n",
       "  <thead>\n",
       "    <tr style=\"text-align: right;\">\n",
       "      <th></th>\n",
       "      <th>messages_included</th>\n",
       "      <th>mb_per_month_included</th>\n",
       "      <th>minutes_included</th>\n",
       "      <th>rub_monthly_fee</th>\n",
       "      <th>rub_per_gb</th>\n",
       "      <th>rub_per_message</th>\n",
       "      <th>rub_per_minute</th>\n",
       "      <th>tariff_name</th>\n",
       "    </tr>\n",
       "  </thead>\n",
       "  <tbody>\n",
       "    <tr>\n",
       "      <th>0</th>\n",
       "      <td>50</td>\n",
       "      <td>15360</td>\n",
       "      <td>500</td>\n",
       "      <td>550</td>\n",
       "      <td>200</td>\n",
       "      <td>3</td>\n",
       "      <td>3</td>\n",
       "      <td>smart</td>\n",
       "    </tr>\n",
       "    <tr>\n",
       "      <th>1</th>\n",
       "      <td>1000</td>\n",
       "      <td>30720</td>\n",
       "      <td>3000</td>\n",
       "      <td>1950</td>\n",
       "      <td>150</td>\n",
       "      <td>1</td>\n",
       "      <td>1</td>\n",
       "      <td>ultra</td>\n",
       "    </tr>\n",
       "  </tbody>\n",
       "</table>\n",
       "</div>"
      ],
      "text/plain": [
       "   messages_included  mb_per_month_included  minutes_included  \\\n",
       "0                 50                  15360               500   \n",
       "1               1000                  30720              3000   \n",
       "\n",
       "   rub_monthly_fee  rub_per_gb  rub_per_message  rub_per_minute tariff_name  \n",
       "0              550         200                3               3       smart  \n",
       "1             1950         150                1               1       ultra  "
      ]
     },
     "execution_count": 20,
     "metadata": {},
     "output_type": "execute_result"
    }
   ],
   "source": [
    "tariffs_df"
   ]
  },
  {
   "cell_type": "markdown",
   "id": "9688e0d8",
   "metadata": {},
   "source": [
    "Посмотрим на информацию по таблице"
   ]
  },
  {
   "cell_type": "code",
   "execution_count": 21,
   "id": "32398052",
   "metadata": {},
   "outputs": [
    {
     "name": "stdout",
     "output_type": "stream",
     "text": [
      "<class 'pandas.core.frame.DataFrame'>\n",
      "RangeIndex: 2 entries, 0 to 1\n",
      "Data columns (total 8 columns):\n",
      " #   Column                 Non-Null Count  Dtype \n",
      "---  ------                 --------------  ----- \n",
      " 0   messages_included      2 non-null      int64 \n",
      " 1   mb_per_month_included  2 non-null      int64 \n",
      " 2   minutes_included       2 non-null      int64 \n",
      " 3   rub_monthly_fee        2 non-null      int64 \n",
      " 4   rub_per_gb             2 non-null      int64 \n",
      " 5   rub_per_message        2 non-null      int64 \n",
      " 6   rub_per_minute         2 non-null      int64 \n",
      " 7   tariff_name            2 non-null      object\n",
      "dtypes: int64(7), object(1)\n",
      "memory usage: 256.0+ bytes\n"
     ]
    }
   ],
   "source": [
    "tariffs_df.info()"
   ]
  },
  {
   "cell_type": "markdown",
   "id": "477af3f9",
   "metadata": {},
   "source": [
    "Посмотрим на статистическую информацию"
   ]
  },
  {
   "cell_type": "code",
   "execution_count": 22,
   "id": "13157df1",
   "metadata": {},
   "outputs": [
    {
     "data": {
      "text/html": [
       "<div>\n",
       "<style scoped>\n",
       "    .dataframe tbody tr th:only-of-type {\n",
       "        vertical-align: middle;\n",
       "    }\n",
       "\n",
       "    .dataframe tbody tr th {\n",
       "        vertical-align: top;\n",
       "    }\n",
       "\n",
       "    .dataframe thead th {\n",
       "        text-align: right;\n",
       "    }\n",
       "</style>\n",
       "<table border=\"1\" class=\"dataframe\">\n",
       "  <thead>\n",
       "    <tr style=\"text-align: right;\">\n",
       "      <th></th>\n",
       "      <th>count</th>\n",
       "      <th>mean</th>\n",
       "      <th>std</th>\n",
       "      <th>min</th>\n",
       "      <th>25%</th>\n",
       "      <th>50%</th>\n",
       "      <th>75%</th>\n",
       "      <th>max</th>\n",
       "    </tr>\n",
       "  </thead>\n",
       "  <tbody>\n",
       "    <tr>\n",
       "      <th>messages_included</th>\n",
       "      <td>2.0</td>\n",
       "      <td>525.0</td>\n",
       "      <td>671.751442</td>\n",
       "      <td>50.0</td>\n",
       "      <td>287.5</td>\n",
       "      <td>525.0</td>\n",
       "      <td>762.5</td>\n",
       "      <td>1000.0</td>\n",
       "    </tr>\n",
       "    <tr>\n",
       "      <th>mb_per_month_included</th>\n",
       "      <td>2.0</td>\n",
       "      <td>23040.0</td>\n",
       "      <td>10861.160159</td>\n",
       "      <td>15360.0</td>\n",
       "      <td>19200.0</td>\n",
       "      <td>23040.0</td>\n",
       "      <td>26880.0</td>\n",
       "      <td>30720.0</td>\n",
       "    </tr>\n",
       "    <tr>\n",
       "      <th>minutes_included</th>\n",
       "      <td>2.0</td>\n",
       "      <td>1750.0</td>\n",
       "      <td>1767.766953</td>\n",
       "      <td>500.0</td>\n",
       "      <td>1125.0</td>\n",
       "      <td>1750.0</td>\n",
       "      <td>2375.0</td>\n",
       "      <td>3000.0</td>\n",
       "    </tr>\n",
       "    <tr>\n",
       "      <th>rub_monthly_fee</th>\n",
       "      <td>2.0</td>\n",
       "      <td>1250.0</td>\n",
       "      <td>989.949494</td>\n",
       "      <td>550.0</td>\n",
       "      <td>900.0</td>\n",
       "      <td>1250.0</td>\n",
       "      <td>1600.0</td>\n",
       "      <td>1950.0</td>\n",
       "    </tr>\n",
       "    <tr>\n",
       "      <th>rub_per_gb</th>\n",
       "      <td>2.0</td>\n",
       "      <td>175.0</td>\n",
       "      <td>35.355339</td>\n",
       "      <td>150.0</td>\n",
       "      <td>162.5</td>\n",
       "      <td>175.0</td>\n",
       "      <td>187.5</td>\n",
       "      <td>200.0</td>\n",
       "    </tr>\n",
       "    <tr>\n",
       "      <th>rub_per_message</th>\n",
       "      <td>2.0</td>\n",
       "      <td>2.0</td>\n",
       "      <td>1.414214</td>\n",
       "      <td>1.0</td>\n",
       "      <td>1.5</td>\n",
       "      <td>2.0</td>\n",
       "      <td>2.5</td>\n",
       "      <td>3.0</td>\n",
       "    </tr>\n",
       "    <tr>\n",
       "      <th>rub_per_minute</th>\n",
       "      <td>2.0</td>\n",
       "      <td>2.0</td>\n",
       "      <td>1.414214</td>\n",
       "      <td>1.0</td>\n",
       "      <td>1.5</td>\n",
       "      <td>2.0</td>\n",
       "      <td>2.5</td>\n",
       "      <td>3.0</td>\n",
       "    </tr>\n",
       "  </tbody>\n",
       "</table>\n",
       "</div>"
      ],
      "text/plain": [
       "                       count     mean           std      min      25%  \\\n",
       "messages_included        2.0    525.0    671.751442     50.0    287.5   \n",
       "mb_per_month_included    2.0  23040.0  10861.160159  15360.0  19200.0   \n",
       "minutes_included         2.0   1750.0   1767.766953    500.0   1125.0   \n",
       "rub_monthly_fee          2.0   1250.0    989.949494    550.0    900.0   \n",
       "rub_per_gb               2.0    175.0     35.355339    150.0    162.5   \n",
       "rub_per_message          2.0      2.0      1.414214      1.0      1.5   \n",
       "rub_per_minute           2.0      2.0      1.414214      1.0      1.5   \n",
       "\n",
       "                           50%      75%      max  \n",
       "messages_included        525.0    762.5   1000.0  \n",
       "mb_per_month_included  23040.0  26880.0  30720.0  \n",
       "minutes_included        1750.0   2375.0   3000.0  \n",
       "rub_monthly_fee         1250.0   1600.0   1950.0  \n",
       "rub_per_gb               175.0    187.5    200.0  \n",
       "rub_per_message            2.0      2.5      3.0  \n",
       "rub_per_minute             2.0      2.5      3.0  "
      ]
     },
     "execution_count": 22,
     "metadata": {},
     "output_type": "execute_result"
    }
   ],
   "source": [
    "tariffs_df.describe().T"
   ]
  },
  {
   "cell_type": "markdown",
   "id": "52196f1d",
   "metadata": {},
   "source": [
    "Посмотрим на пропущенные значения"
   ]
  },
  {
   "cell_type": "code",
   "execution_count": 23,
   "id": "228a2909",
   "metadata": {},
   "outputs": [
    {
     "data": {
      "text/html": [
       "<div>\n",
       "<style scoped>\n",
       "    .dataframe tbody tr th:only-of-type {\n",
       "        vertical-align: middle;\n",
       "    }\n",
       "\n",
       "    .dataframe tbody tr th {\n",
       "        vertical-align: top;\n",
       "    }\n",
       "\n",
       "    .dataframe thead th {\n",
       "        text-align: right;\n",
       "    }\n",
       "</style>\n",
       "<table border=\"1\" class=\"dataframe\">\n",
       "  <thead>\n",
       "    <tr style=\"text-align: right;\">\n",
       "      <th></th>\n",
       "      <th>count</th>\n",
       "      <th>percent</th>\n",
       "    </tr>\n",
       "  </thead>\n",
       "  <tbody>\n",
       "    <tr>\n",
       "      <th>messages_included</th>\n",
       "      <td>0</td>\n",
       "      <td>0.0</td>\n",
       "    </tr>\n",
       "    <tr>\n",
       "      <th>mb_per_month_included</th>\n",
       "      <td>0</td>\n",
       "      <td>0.0</td>\n",
       "    </tr>\n",
       "    <tr>\n",
       "      <th>minutes_included</th>\n",
       "      <td>0</td>\n",
       "      <td>0.0</td>\n",
       "    </tr>\n",
       "    <tr>\n",
       "      <th>rub_monthly_fee</th>\n",
       "      <td>0</td>\n",
       "      <td>0.0</td>\n",
       "    </tr>\n",
       "    <tr>\n",
       "      <th>rub_per_gb</th>\n",
       "      <td>0</td>\n",
       "      <td>0.0</td>\n",
       "    </tr>\n",
       "    <tr>\n",
       "      <th>rub_per_message</th>\n",
       "      <td>0</td>\n",
       "      <td>0.0</td>\n",
       "    </tr>\n",
       "    <tr>\n",
       "      <th>rub_per_minute</th>\n",
       "      <td>0</td>\n",
       "      <td>0.0</td>\n",
       "    </tr>\n",
       "    <tr>\n",
       "      <th>tariff_name</th>\n",
       "      <td>0</td>\n",
       "      <td>0.0</td>\n",
       "    </tr>\n",
       "  </tbody>\n",
       "</table>\n",
       "</div>"
      ],
      "text/plain": [
       "                       count  percent\n",
       "messages_included          0      0.0\n",
       "mb_per_month_included      0      0.0\n",
       "minutes_included           0      0.0\n",
       "rub_monthly_fee            0      0.0\n",
       "rub_per_gb                 0      0.0\n",
       "rub_per_message            0      0.0\n",
       "rub_per_minute             0      0.0\n",
       "tariff_name                0      0.0"
      ]
     },
     "metadata": {},
     "output_type": "display_data"
    }
   ],
   "source": [
    "print_isna(tariffs_df)"
   ]
  },
  {
   "cell_type": "markdown",
   "id": "feb5aaff",
   "metadata": {},
   "source": [
    "#### Вывод"
   ]
  },
  {
   "cell_type": "markdown",
   "id": "6e569cb6",
   "metadata": {},
   "source": [
    "С данными все впорядке, пропущенных значений нет"
   ]
  },
  {
   "cell_type": "markdown",
   "id": "b9807195",
   "metadata": {},
   "source": [
    "### Вывод по первичному анализу данных"
   ]
  },
  {
   "cell_type": "markdown",
   "id": "3903c774",
   "metadata": {},
   "source": [
    "- Столбцы в таблицах именованы понятным образом и не требуют замены.  \n",
    "- В таблице **users_df**, в столбце `churn_date` — дата прекращения пользования тарифом, есть пропущенные значения, но это лишь означет, что пользователь продолжает пользоваться тарифом на момент выгрузки данных. В остальных таблицах пропущенных значений нет.\n",
    "- В таблице **calls_df**, в столбце `duration` — длительность звонка в минутах, есть звонки с нулевой продолжительностью. Это не ошибка: нулями обозначены пропущенные звонки, поэтому их не нужно удалять. Так же в таблице **internet_df**, в столбце `mb_used` — объём потраченного за сессию интернет-трафика, есть нулевые значения, возможно клиент просто не пользовался интернетом.  \n",
    "- В таблице **internet_df** есть столбец `Unnamed: 0` который дублирует индексы, возможно произошла ошибка при выгрузке данных, нужно его удалить.  \n",
    "- Необходимо округлить значения в таблице **calls_df** в столбце `duration` — длительность звонка в минутах, до целых минут в большую сторону. Так же округлить значения в таблице **internet_df** в столбце `mb_used` — объём потраченного за сессию интернет-трафика, до целых гигабайт в большую сторону.\n",
    "- Так же необходимо привести столбцы в таблицах с содержанием даты к типу данных datetime."
   ]
  },
  {
   "cell_type": "markdown",
   "id": "6dbcdc81",
   "metadata": {},
   "source": [
    "# Предобработка данных"
   ]
  },
  {
   "cell_type": "markdown",
   "id": "d30b7253",
   "metadata": {},
   "source": [
    "## Займемся таблицей users_df"
   ]
  },
  {
   "cell_type": "markdown",
   "id": "7dca4bc7",
   "metadata": {},
   "source": [
    "Еще раз посмотрим на информацию по таблице"
   ]
  },
  {
   "cell_type": "code",
   "execution_count": 24,
   "id": "877b1d85",
   "metadata": {},
   "outputs": [
    {
     "data": {
      "text/html": [
       "<div>\n",
       "<style scoped>\n",
       "    .dataframe tbody tr th:only-of-type {\n",
       "        vertical-align: middle;\n",
       "    }\n",
       "\n",
       "    .dataframe tbody tr th {\n",
       "        vertical-align: top;\n",
       "    }\n",
       "\n",
       "    .dataframe thead th {\n",
       "        text-align: right;\n",
       "    }\n",
       "</style>\n",
       "<table border=\"1\" class=\"dataframe\">\n",
       "  <thead>\n",
       "    <tr style=\"text-align: right;\">\n",
       "      <th></th>\n",
       "      <th>user_id</th>\n",
       "      <th>age</th>\n",
       "      <th>churn_date</th>\n",
       "      <th>city</th>\n",
       "      <th>first_name</th>\n",
       "      <th>last_name</th>\n",
       "      <th>reg_date</th>\n",
       "      <th>tariff</th>\n",
       "    </tr>\n",
       "  </thead>\n",
       "  <tbody>\n",
       "    <tr>\n",
       "      <th>0</th>\n",
       "      <td>1000</td>\n",
       "      <td>52</td>\n",
       "      <td>NaN</td>\n",
       "      <td>Краснодар</td>\n",
       "      <td>Рафаил</td>\n",
       "      <td>Верещагин</td>\n",
       "      <td>2018-05-25</td>\n",
       "      <td>ultra</td>\n",
       "    </tr>\n",
       "    <tr>\n",
       "      <th>1</th>\n",
       "      <td>1001</td>\n",
       "      <td>41</td>\n",
       "      <td>NaN</td>\n",
       "      <td>Москва</td>\n",
       "      <td>Иван</td>\n",
       "      <td>Ежов</td>\n",
       "      <td>2018-11-01</td>\n",
       "      <td>smart</td>\n",
       "    </tr>\n",
       "    <tr>\n",
       "      <th>2</th>\n",
       "      <td>1002</td>\n",
       "      <td>59</td>\n",
       "      <td>NaN</td>\n",
       "      <td>Стерлитамак</td>\n",
       "      <td>Евгений</td>\n",
       "      <td>Абрамович</td>\n",
       "      <td>2018-06-17</td>\n",
       "      <td>smart</td>\n",
       "    </tr>\n",
       "    <tr>\n",
       "      <th>3</th>\n",
       "      <td>1003</td>\n",
       "      <td>23</td>\n",
       "      <td>NaN</td>\n",
       "      <td>Москва</td>\n",
       "      <td>Белла</td>\n",
       "      <td>Белякова</td>\n",
       "      <td>2018-08-17</td>\n",
       "      <td>ultra</td>\n",
       "    </tr>\n",
       "    <tr>\n",
       "      <th>4</th>\n",
       "      <td>1004</td>\n",
       "      <td>68</td>\n",
       "      <td>NaN</td>\n",
       "      <td>Новокузнецк</td>\n",
       "      <td>Татьяна</td>\n",
       "      <td>Авдеенко</td>\n",
       "      <td>2018-05-14</td>\n",
       "      <td>ultra</td>\n",
       "    </tr>\n",
       "  </tbody>\n",
       "</table>\n",
       "</div>"
      ],
      "text/plain": [
       "   user_id  age churn_date         city first_name  last_name    reg_date  \\\n",
       "0     1000   52        NaN    Краснодар     Рафаил  Верещагин  2018-05-25   \n",
       "1     1001   41        NaN       Москва       Иван       Ежов  2018-11-01   \n",
       "2     1002   59        NaN  Стерлитамак    Евгений  Абрамович  2018-06-17   \n",
       "3     1003   23        NaN       Москва      Белла   Белякова  2018-08-17   \n",
       "4     1004   68        NaN  Новокузнецк    Татьяна   Авдеенко  2018-05-14   \n",
       "\n",
       "  tariff  \n",
       "0  ultra  \n",
       "1  smart  \n",
       "2  smart  \n",
       "3  ultra  \n",
       "4  ultra  "
      ]
     },
     "execution_count": 24,
     "metadata": {},
     "output_type": "execute_result"
    }
   ],
   "source": [
    "users_df.head()"
   ]
  },
  {
   "cell_type": "code",
   "execution_count": 25,
   "id": "ee2f81f4",
   "metadata": {},
   "outputs": [
    {
     "name": "stdout",
     "output_type": "stream",
     "text": [
      "<class 'pandas.core.frame.DataFrame'>\n",
      "RangeIndex: 500 entries, 0 to 499\n",
      "Data columns (total 8 columns):\n",
      " #   Column      Non-Null Count  Dtype \n",
      "---  ------      --------------  ----- \n",
      " 0   user_id     500 non-null    int64 \n",
      " 1   age         500 non-null    int64 \n",
      " 2   churn_date  38 non-null     object\n",
      " 3   city        500 non-null    object\n",
      " 4   first_name  500 non-null    object\n",
      " 5   last_name   500 non-null    object\n",
      " 6   reg_date    500 non-null    object\n",
      " 7   tariff      500 non-null    object\n",
      "dtypes: int64(2), object(6)\n",
      "memory usage: 31.4+ KB\n"
     ]
    }
   ],
   "source": [
    "users_df.info()"
   ]
  },
  {
   "cell_type": "markdown",
   "id": "a53098d4",
   "metadata": {},
   "source": [
    "Приведем столбцы `churn_date` и `reg_date ` к типу данных datetime"
   ]
  },
  {
   "cell_type": "code",
   "execution_count": 26,
   "id": "c3a46389",
   "metadata": {},
   "outputs": [],
   "source": [
    "users_df['churn_date'] = pd.to_datetime(users_df['churn_date'], format='%Y-%m-%d')\n",
    "users_df['reg_date'] = pd.to_datetime(users_df['reg_date'], format='%Y-%m-%d')"
   ]
  },
  {
   "cell_type": "markdown",
   "id": "a468fb5b",
   "metadata": {},
   "source": [
    "Посмотрим изменился ли тип данных"
   ]
  },
  {
   "cell_type": "code",
   "execution_count": 27,
   "id": "e1641730",
   "metadata": {},
   "outputs": [
    {
     "name": "stdout",
     "output_type": "stream",
     "text": [
      "Тип данных столбца churn_date - datetime64[ns]\n",
      "Тип данных столбца reg_date - datetime64[ns]\n"
     ]
    }
   ],
   "source": [
    "print('Тип данных столбца churn_date - {}'.format(users_df['churn_date'].dtype))\n",
    "print('Тип данных столбца reg_date - {}'.format(users_df['reg_date'].dtype))"
   ]
  },
  {
   "cell_type": "markdown",
   "id": "72a91d6b",
   "metadata": {},
   "source": [
    "### Вывод"
   ]
  },
  {
   "cell_type": "markdown",
   "id": "204522a5",
   "metadata": {},
   "source": [
    "С таблицей все хорошо, привели столбцы `churn_date` и `reg_date` к типу данных **datetime**"
   ]
  },
  {
   "cell_type": "markdown",
   "id": "15a612fe",
   "metadata": {},
   "source": [
    "## Займемся таблицей calls_df"
   ]
  },
  {
   "cell_type": "markdown",
   "id": "4db3a152",
   "metadata": {},
   "source": [
    "### Округлим значения в столбце `duration` — длительность звонка в минутах"
   ]
  },
  {
   "cell_type": "markdown",
   "id": "ad241e9f",
   "metadata": {},
   "source": [
    "Посмотрим на данные в таблице calls_df"
   ]
  },
  {
   "cell_type": "code",
   "execution_count": 28,
   "id": "a7e24234",
   "metadata": {},
   "outputs": [
    {
     "data": {
      "text/html": [
       "<div>\n",
       "<style scoped>\n",
       "    .dataframe tbody tr th:only-of-type {\n",
       "        vertical-align: middle;\n",
       "    }\n",
       "\n",
       "    .dataframe tbody tr th {\n",
       "        vertical-align: top;\n",
       "    }\n",
       "\n",
       "    .dataframe thead th {\n",
       "        text-align: right;\n",
       "    }\n",
       "</style>\n",
       "<table border=\"1\" class=\"dataframe\">\n",
       "  <thead>\n",
       "    <tr style=\"text-align: right;\">\n",
       "      <th></th>\n",
       "      <th>id</th>\n",
       "      <th>call_date</th>\n",
       "      <th>duration</th>\n",
       "      <th>user_id</th>\n",
       "    </tr>\n",
       "  </thead>\n",
       "  <tbody>\n",
       "    <tr>\n",
       "      <th>0</th>\n",
       "      <td>1000_0</td>\n",
       "      <td>2018-07-25</td>\n",
       "      <td>0.00</td>\n",
       "      <td>1000</td>\n",
       "    </tr>\n",
       "    <tr>\n",
       "      <th>1</th>\n",
       "      <td>1000_1</td>\n",
       "      <td>2018-08-17</td>\n",
       "      <td>0.00</td>\n",
       "      <td>1000</td>\n",
       "    </tr>\n",
       "    <tr>\n",
       "      <th>2</th>\n",
       "      <td>1000_2</td>\n",
       "      <td>2018-06-11</td>\n",
       "      <td>2.85</td>\n",
       "      <td>1000</td>\n",
       "    </tr>\n",
       "    <tr>\n",
       "      <th>3</th>\n",
       "      <td>1000_3</td>\n",
       "      <td>2018-09-21</td>\n",
       "      <td>13.80</td>\n",
       "      <td>1000</td>\n",
       "    </tr>\n",
       "    <tr>\n",
       "      <th>4</th>\n",
       "      <td>1000_4</td>\n",
       "      <td>2018-12-15</td>\n",
       "      <td>5.18</td>\n",
       "      <td>1000</td>\n",
       "    </tr>\n",
       "    <tr>\n",
       "      <th>5</th>\n",
       "      <td>1000_5</td>\n",
       "      <td>2018-11-02</td>\n",
       "      <td>0.00</td>\n",
       "      <td>1000</td>\n",
       "    </tr>\n",
       "    <tr>\n",
       "      <th>6</th>\n",
       "      <td>1000_6</td>\n",
       "      <td>2018-10-18</td>\n",
       "      <td>0.00</td>\n",
       "      <td>1000</td>\n",
       "    </tr>\n",
       "    <tr>\n",
       "      <th>7</th>\n",
       "      <td>1000_7</td>\n",
       "      <td>2018-08-22</td>\n",
       "      <td>18.31</td>\n",
       "      <td>1000</td>\n",
       "    </tr>\n",
       "    <tr>\n",
       "      <th>8</th>\n",
       "      <td>1000_8</td>\n",
       "      <td>2018-09-15</td>\n",
       "      <td>18.44</td>\n",
       "      <td>1000</td>\n",
       "    </tr>\n",
       "    <tr>\n",
       "      <th>9</th>\n",
       "      <td>1000_9</td>\n",
       "      <td>2018-08-15</td>\n",
       "      <td>0.00</td>\n",
       "      <td>1000</td>\n",
       "    </tr>\n",
       "  </tbody>\n",
       "</table>\n",
       "</div>"
      ],
      "text/plain": [
       "       id   call_date  duration  user_id\n",
       "0  1000_0  2018-07-25      0.00     1000\n",
       "1  1000_1  2018-08-17      0.00     1000\n",
       "2  1000_2  2018-06-11      2.85     1000\n",
       "3  1000_3  2018-09-21     13.80     1000\n",
       "4  1000_4  2018-12-15      5.18     1000\n",
       "5  1000_5  2018-11-02      0.00     1000\n",
       "6  1000_6  2018-10-18      0.00     1000\n",
       "7  1000_7  2018-08-22     18.31     1000\n",
       "8  1000_8  2018-09-15     18.44     1000\n",
       "9  1000_9  2018-08-15      0.00     1000"
      ]
     },
     "execution_count": 28,
     "metadata": {},
     "output_type": "execute_result"
    }
   ],
   "source": [
    "calls_df.head(10)"
   ]
  },
  {
   "cell_type": "code",
   "execution_count": 29,
   "id": "26328861",
   "metadata": {},
   "outputs": [
    {
     "name": "stdout",
     "output_type": "stream",
     "text": [
      "<class 'pandas.core.frame.DataFrame'>\n",
      "RangeIndex: 202607 entries, 0 to 202606\n",
      "Data columns (total 4 columns):\n",
      " #   Column     Non-Null Count   Dtype  \n",
      "---  ------     --------------   -----  \n",
      " 0   id         202607 non-null  object \n",
      " 1   call_date  202607 non-null  object \n",
      " 2   duration   202607 non-null  float64\n",
      " 3   user_id    202607 non-null  int64  \n",
      "dtypes: float64(1), int64(1), object(2)\n",
      "memory usage: 6.2+ MB\n"
     ]
    }
   ],
   "source": [
    "calls_df.info()"
   ]
  },
  {
   "cell_type": "markdown",
   "id": "8d8cfab8",
   "metadata": {},
   "source": [
    "Округлим время звонка в столбце `duration` до целых минут в большую сторону и посмотрим на результат"
   ]
  },
  {
   "cell_type": "code",
   "execution_count": 30,
   "id": "bb0d6092",
   "metadata": {},
   "outputs": [],
   "source": [
    "calls_df['duration'] = calls_df['duration'].apply(np.ceil)"
   ]
  },
  {
   "cell_type": "code",
   "execution_count": 31,
   "id": "67ac1527",
   "metadata": {},
   "outputs": [
    {
     "data": {
      "text/html": [
       "<div>\n",
       "<style scoped>\n",
       "    .dataframe tbody tr th:only-of-type {\n",
       "        vertical-align: middle;\n",
       "    }\n",
       "\n",
       "    .dataframe tbody tr th {\n",
       "        vertical-align: top;\n",
       "    }\n",
       "\n",
       "    .dataframe thead th {\n",
       "        text-align: right;\n",
       "    }\n",
       "</style>\n",
       "<table border=\"1\" class=\"dataframe\">\n",
       "  <thead>\n",
       "    <tr style=\"text-align: right;\">\n",
       "      <th></th>\n",
       "      <th>id</th>\n",
       "      <th>call_date</th>\n",
       "      <th>duration</th>\n",
       "      <th>user_id</th>\n",
       "    </tr>\n",
       "  </thead>\n",
       "  <tbody>\n",
       "    <tr>\n",
       "      <th>0</th>\n",
       "      <td>1000_0</td>\n",
       "      <td>2018-07-25</td>\n",
       "      <td>0.0</td>\n",
       "      <td>1000</td>\n",
       "    </tr>\n",
       "    <tr>\n",
       "      <th>1</th>\n",
       "      <td>1000_1</td>\n",
       "      <td>2018-08-17</td>\n",
       "      <td>0.0</td>\n",
       "      <td>1000</td>\n",
       "    </tr>\n",
       "    <tr>\n",
       "      <th>2</th>\n",
       "      <td>1000_2</td>\n",
       "      <td>2018-06-11</td>\n",
       "      <td>3.0</td>\n",
       "      <td>1000</td>\n",
       "    </tr>\n",
       "    <tr>\n",
       "      <th>3</th>\n",
       "      <td>1000_3</td>\n",
       "      <td>2018-09-21</td>\n",
       "      <td>14.0</td>\n",
       "      <td>1000</td>\n",
       "    </tr>\n",
       "    <tr>\n",
       "      <th>4</th>\n",
       "      <td>1000_4</td>\n",
       "      <td>2018-12-15</td>\n",
       "      <td>6.0</td>\n",
       "      <td>1000</td>\n",
       "    </tr>\n",
       "    <tr>\n",
       "      <th>5</th>\n",
       "      <td>1000_5</td>\n",
       "      <td>2018-11-02</td>\n",
       "      <td>0.0</td>\n",
       "      <td>1000</td>\n",
       "    </tr>\n",
       "    <tr>\n",
       "      <th>6</th>\n",
       "      <td>1000_6</td>\n",
       "      <td>2018-10-18</td>\n",
       "      <td>0.0</td>\n",
       "      <td>1000</td>\n",
       "    </tr>\n",
       "    <tr>\n",
       "      <th>7</th>\n",
       "      <td>1000_7</td>\n",
       "      <td>2018-08-22</td>\n",
       "      <td>19.0</td>\n",
       "      <td>1000</td>\n",
       "    </tr>\n",
       "    <tr>\n",
       "      <th>8</th>\n",
       "      <td>1000_8</td>\n",
       "      <td>2018-09-15</td>\n",
       "      <td>19.0</td>\n",
       "      <td>1000</td>\n",
       "    </tr>\n",
       "    <tr>\n",
       "      <th>9</th>\n",
       "      <td>1000_9</td>\n",
       "      <td>2018-08-15</td>\n",
       "      <td>0.0</td>\n",
       "      <td>1000</td>\n",
       "    </tr>\n",
       "  </tbody>\n",
       "</table>\n",
       "</div>"
      ],
      "text/plain": [
       "       id   call_date  duration  user_id\n",
       "0  1000_0  2018-07-25       0.0     1000\n",
       "1  1000_1  2018-08-17       0.0     1000\n",
       "2  1000_2  2018-06-11       3.0     1000\n",
       "3  1000_3  2018-09-21      14.0     1000\n",
       "4  1000_4  2018-12-15       6.0     1000\n",
       "5  1000_5  2018-11-02       0.0     1000\n",
       "6  1000_6  2018-10-18       0.0     1000\n",
       "7  1000_7  2018-08-22      19.0     1000\n",
       "8  1000_8  2018-09-15      19.0     1000\n",
       "9  1000_9  2018-08-15       0.0     1000"
      ]
     },
     "execution_count": 31,
     "metadata": {},
     "output_type": "execute_result"
    }
   ],
   "source": [
    "calls_df.head(10)"
   ]
  },
  {
   "cell_type": "markdown",
   "id": "9b7146b8",
   "metadata": {},
   "source": [
    "Видно, что значения окрглились до целых минут в большую сторону"
   ]
  },
  {
   "cell_type": "markdown",
   "id": "232ec37e",
   "metadata": {},
   "source": [
    "### Приведем данные к нужному типу данных"
   ]
  },
  {
   "cell_type": "markdown",
   "id": "ade5a3f3",
   "metadata": {},
   "source": [
    "Поменяем тип данных в столбце `duration` на **int**"
   ]
  },
  {
   "cell_type": "code",
   "execution_count": 32,
   "id": "eac22e48",
   "metadata": {},
   "outputs": [],
   "source": [
    "calls_df['duration'] = calls_df['duration'].astype('int')"
   ]
  },
  {
   "cell_type": "code",
   "execution_count": 33,
   "id": "3e963de9",
   "metadata": {},
   "outputs": [
    {
     "name": "stdout",
     "output_type": "stream",
     "text": [
      "Тип данных столбца duration - int64\n"
     ]
    }
   ],
   "source": [
    "print('Тип данных столбца duration - {}'.format(calls_df['duration'] .dtype))"
   ]
  },
  {
   "cell_type": "markdown",
   "id": "1558811c",
   "metadata": {},
   "source": [
    "Приведем тип данных в столбце `call_date` к типу данных **datetime**"
   ]
  },
  {
   "cell_type": "code",
   "execution_count": 34,
   "id": "3f334c3d",
   "metadata": {},
   "outputs": [],
   "source": [
    "calls_df['call_date'] = pd.to_datetime(calls_df['call_date'], format='%Y-%m-%d')"
   ]
  },
  {
   "cell_type": "code",
   "execution_count": 35,
   "id": "2b75eb2a",
   "metadata": {},
   "outputs": [
    {
     "name": "stdout",
     "output_type": "stream",
     "text": [
      "Тип данных столбца churn_date - datetime64[ns]\n"
     ]
    }
   ],
   "source": [
    "print('Тип данных столбца churn_date - {}'.format(calls_df['call_date'] .dtype))"
   ]
  },
  {
   "cell_type": "markdown",
   "id": "f90835fd",
   "metadata": {},
   "source": [
    "Выведем еще раз информацию о таблице"
   ]
  },
  {
   "cell_type": "code",
   "execution_count": 36,
   "id": "2c4a0170",
   "metadata": {},
   "outputs": [
    {
     "name": "stdout",
     "output_type": "stream",
     "text": [
      "<class 'pandas.core.frame.DataFrame'>\n",
      "RangeIndex: 202607 entries, 0 to 202606\n",
      "Data columns (total 4 columns):\n",
      " #   Column     Non-Null Count   Dtype         \n",
      "---  ------     --------------   -----         \n",
      " 0   id         202607 non-null  object        \n",
      " 1   call_date  202607 non-null  datetime64[ns]\n",
      " 2   duration   202607 non-null  int64         \n",
      " 3   user_id    202607 non-null  int64         \n",
      "dtypes: datetime64[ns](1), int64(2), object(1)\n",
      "memory usage: 6.2+ MB\n"
     ]
    }
   ],
   "source": [
    "calls_df.info()"
   ]
  },
  {
   "cell_type": "markdown",
   "id": "1dba86e8",
   "metadata": {},
   "source": [
    "Как мы видим, данные теперь с нужным типом"
   ]
  },
  {
   "cell_type": "markdown",
   "id": "cad39ed5",
   "metadata": {},
   "source": [
    "### Вывод"
   ]
  },
  {
   "cell_type": "markdown",
   "id": "555f75cf",
   "metadata": {},
   "source": [
    "Округлили время звонка в столбце `duration` до целых минут в большую сторону и привели столбцы к нужным типам данных:\n",
    "- столбец `duration` к типу **int**\n",
    "- столбец `call_date` к типу **datetime**"
   ]
  },
  {
   "cell_type": "markdown",
   "id": "6f3a2bb3",
   "metadata": {},
   "source": [
    "## Займемся таблицей internet_df"
   ]
  },
  {
   "cell_type": "markdown",
   "id": "efc396b4",
   "metadata": {},
   "source": [
    "### Посмотрим на нулевые значения в столбце `mb_used`"
   ]
  },
  {
   "cell_type": "code",
   "execution_count": 37,
   "id": "6cb414c1",
   "metadata": {},
   "outputs": [
    {
     "data": {
      "text/html": [
       "<div>\n",
       "<style scoped>\n",
       "    .dataframe tbody tr th:only-of-type {\n",
       "        vertical-align: middle;\n",
       "    }\n",
       "\n",
       "    .dataframe tbody tr th {\n",
       "        vertical-align: top;\n",
       "    }\n",
       "\n",
       "    .dataframe thead th {\n",
       "        text-align: right;\n",
       "    }\n",
       "</style>\n",
       "<table border=\"1\" class=\"dataframe\">\n",
       "  <thead>\n",
       "    <tr style=\"text-align: right;\">\n",
       "      <th></th>\n",
       "      <th>Unnamed: 0</th>\n",
       "      <th>id</th>\n",
       "      <th>mb_used</th>\n",
       "      <th>session_date</th>\n",
       "      <th>user_id</th>\n",
       "    </tr>\n",
       "  </thead>\n",
       "  <tbody>\n",
       "    <tr>\n",
       "      <th>93298</th>\n",
       "      <td>93298</td>\n",
       "      <td>1314_652</td>\n",
       "      <td>0.0</td>\n",
       "      <td>2018-09-02</td>\n",
       "      <td>1314</td>\n",
       "    </tr>\n",
       "    <tr>\n",
       "      <th>14647</th>\n",
       "      <td>14647</td>\n",
       "      <td>1052_18</td>\n",
       "      <td>0.0</td>\n",
       "      <td>2018-11-11</td>\n",
       "      <td>1052</td>\n",
       "    </tr>\n",
       "    <tr>\n",
       "      <th>136937</th>\n",
       "      <td>136937</td>\n",
       "      <td>1459_17</td>\n",
       "      <td>0.0</td>\n",
       "      <td>2018-12-05</td>\n",
       "      <td>1459</td>\n",
       "    </tr>\n",
       "    <tr>\n",
       "      <th>74710</th>\n",
       "      <td>74710</td>\n",
       "      <td>1251_272</td>\n",
       "      <td>0.0</td>\n",
       "      <td>2018-04-03</td>\n",
       "      <td>1251</td>\n",
       "    </tr>\n",
       "    <tr>\n",
       "      <th>89345</th>\n",
       "      <td>89345</td>\n",
       "      <td>1302_145</td>\n",
       "      <td>0.0</td>\n",
       "      <td>2018-12-14</td>\n",
       "      <td>1302</td>\n",
       "    </tr>\n",
       "    <tr>\n",
       "      <th>142149</th>\n",
       "      <td>142149</td>\n",
       "      <td>1477_46</td>\n",
       "      <td>0.0</td>\n",
       "      <td>2018-06-16</td>\n",
       "      <td>1477</td>\n",
       "    </tr>\n",
       "    <tr>\n",
       "      <th>146525</th>\n",
       "      <td>146525</td>\n",
       "      <td>1490_268</td>\n",
       "      <td>0.0</td>\n",
       "      <td>2018-09-22</td>\n",
       "      <td>1490</td>\n",
       "    </tr>\n",
       "    <tr>\n",
       "      <th>24936</th>\n",
       "      <td>24936</td>\n",
       "      <td>1086_143</td>\n",
       "      <td>0.0</td>\n",
       "      <td>2018-05-23</td>\n",
       "      <td>1086</td>\n",
       "    </tr>\n",
       "    <tr>\n",
       "      <th>15802</th>\n",
       "      <td>15802</td>\n",
       "      <td>1055_260</td>\n",
       "      <td>0.0</td>\n",
       "      <td>2018-01-19</td>\n",
       "      <td>1055</td>\n",
       "    </tr>\n",
       "    <tr>\n",
       "      <th>100188</th>\n",
       "      <td>100188</td>\n",
       "      <td>1337_225</td>\n",
       "      <td>0.0</td>\n",
       "      <td>2018-04-23</td>\n",
       "      <td>1337</td>\n",
       "    </tr>\n",
       "  </tbody>\n",
       "</table>\n",
       "</div>"
      ],
      "text/plain": [
       "        Unnamed: 0        id  mb_used session_date  user_id\n",
       "93298        93298  1314_652      0.0   2018-09-02     1314\n",
       "14647        14647   1052_18      0.0   2018-11-11     1052\n",
       "136937      136937   1459_17      0.0   2018-12-05     1459\n",
       "74710        74710  1251_272      0.0   2018-04-03     1251\n",
       "89345        89345  1302_145      0.0   2018-12-14     1302\n",
       "142149      142149   1477_46      0.0   2018-06-16     1477\n",
       "146525      146525  1490_268      0.0   2018-09-22     1490\n",
       "24936        24936  1086_143      0.0   2018-05-23     1086\n",
       "15802        15802  1055_260      0.0   2018-01-19     1055\n",
       "100188      100188  1337_225      0.0   2018-04-23     1337"
      ]
     },
     "execution_count": 37,
     "metadata": {},
     "output_type": "execute_result"
    }
   ],
   "source": [
    "internet_df[internet_df['mb_used'] == 0].sample(10)"
   ]
  },
  {
   "cell_type": "code",
   "execution_count": 38,
   "id": "704ad029",
   "metadata": {},
   "outputs": [
    {
     "name": "stdout",
     "output_type": "stream",
     "text": [
      "Количество нулевых значений равно 19598 шт, это составляет 13.1% от общего количества данных\n"
     ]
    }
   ],
   "source": [
    "print('Количество нулевых значений равно {} шт, это составляет {:.1%} от общего количества данных'.\n",
    "      format(len(internet_df[internet_df['mb_used'] == 0]),\n",
    "            len(internet_df[internet_df['mb_used'] == 0])/len(internet_df)))"
   ]
  },
  {
   "cell_type": "markdown",
   "id": "06017ba1",
   "metadata": {},
   "source": [
    "Количесвто нулевых значений действительно высокое, но они все принадлежат разным пользователям, поэтому вряд ли тут есть какая-то ошибка. Скорее всего данные пользователи не пользовались интернетом."
   ]
  },
  {
   "cell_type": "markdown",
   "id": "950dd5da",
   "metadata": {},
   "source": [
    "### Удалим лишние данные"
   ]
  },
  {
   "cell_type": "markdown",
   "id": "f7cd8139",
   "metadata": {},
   "source": [
    "Из таблицы **internet_df** удалим столбец `Unnamed: 0` так как он дублирует значение индексов и посмотрим на изменения в таблице."
   ]
  },
  {
   "cell_type": "code",
   "execution_count": 39,
   "id": "c302b63c",
   "metadata": {},
   "outputs": [
    {
     "data": {
      "text/html": [
       "<div>\n",
       "<style scoped>\n",
       "    .dataframe tbody tr th:only-of-type {\n",
       "        vertical-align: middle;\n",
       "    }\n",
       "\n",
       "    .dataframe tbody tr th {\n",
       "        vertical-align: top;\n",
       "    }\n",
       "\n",
       "    .dataframe thead th {\n",
       "        text-align: right;\n",
       "    }\n",
       "</style>\n",
       "<table border=\"1\" class=\"dataframe\">\n",
       "  <thead>\n",
       "    <tr style=\"text-align: right;\">\n",
       "      <th></th>\n",
       "      <th>id</th>\n",
       "      <th>mb_used</th>\n",
       "      <th>session_date</th>\n",
       "      <th>user_id</th>\n",
       "    </tr>\n",
       "  </thead>\n",
       "  <tbody>\n",
       "    <tr>\n",
       "      <th>108530</th>\n",
       "      <td>1370_335</td>\n",
       "      <td>338.74</td>\n",
       "      <td>2018-06-28</td>\n",
       "      <td>1370</td>\n",
       "    </tr>\n",
       "    <tr>\n",
       "      <th>6684</th>\n",
       "      <td>1021_328</td>\n",
       "      <td>364.70</td>\n",
       "      <td>2018-10-24</td>\n",
       "      <td>1021</td>\n",
       "    </tr>\n",
       "    <tr>\n",
       "      <th>4045</th>\n",
       "      <td>1012_318</td>\n",
       "      <td>493.91</td>\n",
       "      <td>2018-09-21</td>\n",
       "      <td>1012</td>\n",
       "    </tr>\n",
       "    <tr>\n",
       "      <th>78841</th>\n",
       "      <td>1264_460</td>\n",
       "      <td>0.00</td>\n",
       "      <td>2018-04-29</td>\n",
       "      <td>1264</td>\n",
       "    </tr>\n",
       "    <tr>\n",
       "      <th>126625</th>\n",
       "      <td>1425_154</td>\n",
       "      <td>441.35</td>\n",
       "      <td>2018-10-23</td>\n",
       "      <td>1425</td>\n",
       "    </tr>\n",
       "    <tr>\n",
       "      <th>111349</th>\n",
       "      <td>1378_142</td>\n",
       "      <td>177.80</td>\n",
       "      <td>2018-10-01</td>\n",
       "      <td>1378</td>\n",
       "    </tr>\n",
       "    <tr>\n",
       "      <th>104217</th>\n",
       "      <td>1353_153</td>\n",
       "      <td>459.57</td>\n",
       "      <td>2018-04-24</td>\n",
       "      <td>1353</td>\n",
       "    </tr>\n",
       "    <tr>\n",
       "      <th>85146</th>\n",
       "      <td>1290_176</td>\n",
       "      <td>905.10</td>\n",
       "      <td>2018-12-13</td>\n",
       "      <td>1290</td>\n",
       "    </tr>\n",
       "    <tr>\n",
       "      <th>4735</th>\n",
       "      <td>1014_341</td>\n",
       "      <td>0.00</td>\n",
       "      <td>2018-06-21</td>\n",
       "      <td>1014</td>\n",
       "    </tr>\n",
       "    <tr>\n",
       "      <th>92333</th>\n",
       "      <td>1312_188</td>\n",
       "      <td>399.34</td>\n",
       "      <td>2018-12-03</td>\n",
       "      <td>1312</td>\n",
       "    </tr>\n",
       "  </tbody>\n",
       "</table>\n",
       "</div>"
      ],
      "text/plain": [
       "              id  mb_used session_date  user_id\n",
       "108530  1370_335   338.74   2018-06-28     1370\n",
       "6684    1021_328   364.70   2018-10-24     1021\n",
       "4045    1012_318   493.91   2018-09-21     1012\n",
       "78841   1264_460     0.00   2018-04-29     1264\n",
       "126625  1425_154   441.35   2018-10-23     1425\n",
       "111349  1378_142   177.80   2018-10-01     1378\n",
       "104217  1353_153   459.57   2018-04-24     1353\n",
       "85146   1290_176   905.10   2018-12-13     1290\n",
       "4735    1014_341     0.00   2018-06-21     1014\n",
       "92333   1312_188   399.34   2018-12-03     1312"
      ]
     },
     "execution_count": 39,
     "metadata": {},
     "output_type": "execute_result"
    }
   ],
   "source": [
    "internet_df.drop(columns=['Unnamed: 0'], axis=1, inplace=True)\n",
    "internet_df.sample(10)"
   ]
  },
  {
   "cell_type": "markdown",
   "id": "41e2bacc",
   "metadata": {},
   "source": [
    "### Округлим значения в столбце `mb_used` — объём потраченного за сессию интернет-трафика"
   ]
  },
  {
   "cell_type": "markdown",
   "id": "5d9f3051",
   "metadata": {},
   "source": [
    "Посмотрим на данные в таблице **internet_df**"
   ]
  },
  {
   "cell_type": "code",
   "execution_count": 40,
   "id": "c525cbd3",
   "metadata": {},
   "outputs": [
    {
     "data": {
      "text/html": [
       "<div>\n",
       "<style scoped>\n",
       "    .dataframe tbody tr th:only-of-type {\n",
       "        vertical-align: middle;\n",
       "    }\n",
       "\n",
       "    .dataframe tbody tr th {\n",
       "        vertical-align: top;\n",
       "    }\n",
       "\n",
       "    .dataframe thead th {\n",
       "        text-align: right;\n",
       "    }\n",
       "</style>\n",
       "<table border=\"1\" class=\"dataframe\">\n",
       "  <thead>\n",
       "    <tr style=\"text-align: right;\">\n",
       "      <th></th>\n",
       "      <th>id</th>\n",
       "      <th>mb_used</th>\n",
       "      <th>session_date</th>\n",
       "      <th>user_id</th>\n",
       "    </tr>\n",
       "  </thead>\n",
       "  <tbody>\n",
       "    <tr>\n",
       "      <th>0</th>\n",
       "      <td>1000_0</td>\n",
       "      <td>112.95</td>\n",
       "      <td>2018-11-25</td>\n",
       "      <td>1000</td>\n",
       "    </tr>\n",
       "    <tr>\n",
       "      <th>1</th>\n",
       "      <td>1000_1</td>\n",
       "      <td>1052.81</td>\n",
       "      <td>2018-09-07</td>\n",
       "      <td>1000</td>\n",
       "    </tr>\n",
       "    <tr>\n",
       "      <th>2</th>\n",
       "      <td>1000_2</td>\n",
       "      <td>1197.26</td>\n",
       "      <td>2018-06-25</td>\n",
       "      <td>1000</td>\n",
       "    </tr>\n",
       "    <tr>\n",
       "      <th>3</th>\n",
       "      <td>1000_3</td>\n",
       "      <td>550.27</td>\n",
       "      <td>2018-08-22</td>\n",
       "      <td>1000</td>\n",
       "    </tr>\n",
       "    <tr>\n",
       "      <th>4</th>\n",
       "      <td>1000_4</td>\n",
       "      <td>302.56</td>\n",
       "      <td>2018-09-24</td>\n",
       "      <td>1000</td>\n",
       "    </tr>\n",
       "    <tr>\n",
       "      <th>5</th>\n",
       "      <td>1000_5</td>\n",
       "      <td>399.97</td>\n",
       "      <td>2018-10-02</td>\n",
       "      <td>1000</td>\n",
       "    </tr>\n",
       "    <tr>\n",
       "      <th>6</th>\n",
       "      <td>1000_6</td>\n",
       "      <td>540.08</td>\n",
       "      <td>2018-09-07</td>\n",
       "      <td>1000</td>\n",
       "    </tr>\n",
       "    <tr>\n",
       "      <th>7</th>\n",
       "      <td>1000_7</td>\n",
       "      <td>415.70</td>\n",
       "      <td>2018-07-11</td>\n",
       "      <td>1000</td>\n",
       "    </tr>\n",
       "    <tr>\n",
       "      <th>8</th>\n",
       "      <td>1000_8</td>\n",
       "      <td>505.40</td>\n",
       "      <td>2018-10-08</td>\n",
       "      <td>1000</td>\n",
       "    </tr>\n",
       "    <tr>\n",
       "      <th>9</th>\n",
       "      <td>1000_9</td>\n",
       "      <td>345.54</td>\n",
       "      <td>2018-09-03</td>\n",
       "      <td>1000</td>\n",
       "    </tr>\n",
       "  </tbody>\n",
       "</table>\n",
       "</div>"
      ],
      "text/plain": [
       "       id  mb_used session_date  user_id\n",
       "0  1000_0   112.95   2018-11-25     1000\n",
       "1  1000_1  1052.81   2018-09-07     1000\n",
       "2  1000_2  1197.26   2018-06-25     1000\n",
       "3  1000_3   550.27   2018-08-22     1000\n",
       "4  1000_4   302.56   2018-09-24     1000\n",
       "5  1000_5   399.97   2018-10-02     1000\n",
       "6  1000_6   540.08   2018-09-07     1000\n",
       "7  1000_7   415.70   2018-07-11     1000\n",
       "8  1000_8   505.40   2018-10-08     1000\n",
       "9  1000_9   345.54   2018-09-03     1000"
      ]
     },
     "execution_count": 40,
     "metadata": {},
     "output_type": "execute_result"
    }
   ],
   "source": [
    "internet_df.head(10)"
   ]
  },
  {
   "cell_type": "markdown",
   "id": "948bbf00",
   "metadata": {},
   "source": [
    "Округлим значения в столбце `mb_used` до целых чисел"
   ]
  },
  {
   "cell_type": "code",
   "execution_count": 41,
   "id": "161c9a94",
   "metadata": {},
   "outputs": [],
   "source": [
    "internet_df['mb_used'] = internet_df['mb_used'].apply(np.ceil)"
   ]
  },
  {
   "cell_type": "markdown",
   "id": "0705a00a",
   "metadata": {},
   "source": [
    "### Приведем данные к нужному типу данных"
   ]
  },
  {
   "cell_type": "markdown",
   "id": "0b4d50e6",
   "metadata": {},
   "source": [
    "Выведем информацию о таблице"
   ]
  },
  {
   "cell_type": "code",
   "execution_count": 42,
   "id": "9c2f27e1",
   "metadata": {},
   "outputs": [
    {
     "name": "stdout",
     "output_type": "stream",
     "text": [
      "<class 'pandas.core.frame.DataFrame'>\n",
      "RangeIndex: 149396 entries, 0 to 149395\n",
      "Data columns (total 4 columns):\n",
      " #   Column        Non-Null Count   Dtype  \n",
      "---  ------        --------------   -----  \n",
      " 0   id            149396 non-null  object \n",
      " 1   mb_used       149396 non-null  float64\n",
      " 2   session_date  149396 non-null  object \n",
      " 3   user_id       149396 non-null  int64  \n",
      "dtypes: float64(1), int64(1), object(2)\n",
      "memory usage: 4.6+ MB\n"
     ]
    }
   ],
   "source": [
    "internet_df.info()"
   ]
  },
  {
   "cell_type": "markdown",
   "id": "50cdc489",
   "metadata": {},
   "source": [
    "Приведем столбцы к нужным форматам данных:\n",
    "- `mb_used` к типу **int**\n",
    "- `session_date` к типу **datetime**"
   ]
  },
  {
   "cell_type": "code",
   "execution_count": 43,
   "id": "19b5ad8d",
   "metadata": {},
   "outputs": [],
   "source": [
    "internet_df['mb_used'] = internet_df['mb_used'].astype('int')\n",
    "internet_df['session_date'] = pd.to_datetime(internet_df['session_date'], format='%Y-%m-%d')"
   ]
  },
  {
   "cell_type": "code",
   "execution_count": 44,
   "id": "7e2323b2",
   "metadata": {},
   "outputs": [
    {
     "name": "stdout",
     "output_type": "stream",
     "text": [
      "Тип данных столбца mb_used - int64\n",
      "Тип данных столбца session_date - datetime64[ns]\n"
     ]
    }
   ],
   "source": [
    "print('Тип данных столбца mb_used - {}'.format(internet_df['mb_used'].dtype))\n",
    "print('Тип данных столбца session_date - {}'.format(internet_df['session_date'].dtype))"
   ]
  },
  {
   "cell_type": "markdown",
   "id": "a9deb8f1",
   "metadata": {},
   "source": [
    "Как мы видим, все получилось"
   ]
  },
  {
   "cell_type": "markdown",
   "id": "3d9a0884",
   "metadata": {},
   "source": [
    "### Вывод"
   ]
  },
  {
   "cell_type": "markdown",
   "id": "c07b4bbc",
   "metadata": {},
   "source": [
    "1) Из таблицы **internet_df** удалим столбец `Unnamed: 0` так как он дублирует значение индексов.  \n",
    "2) Округлили значения в столбце `mb_used` до целых чисел.  \n",
    "3) Привели столбцы к нужным форматам данных:\n",
    "- столбец `mb_used` к типу **int**\n",
    "- столбец `session_date` к типу **datetime**"
   ]
  },
  {
   "cell_type": "markdown",
   "id": "c3e9a366",
   "metadata": {},
   "source": [
    "## Займемся таблицей messages_df"
   ]
  },
  {
   "cell_type": "markdown",
   "id": "9c15f195",
   "metadata": {},
   "source": [
    "Посмотрим на данные из таблицы"
   ]
  },
  {
   "cell_type": "code",
   "execution_count": 45,
   "id": "fd44edeb",
   "metadata": {},
   "outputs": [
    {
     "data": {
      "text/html": [
       "<div>\n",
       "<style scoped>\n",
       "    .dataframe tbody tr th:only-of-type {\n",
       "        vertical-align: middle;\n",
       "    }\n",
       "\n",
       "    .dataframe tbody tr th {\n",
       "        vertical-align: top;\n",
       "    }\n",
       "\n",
       "    .dataframe thead th {\n",
       "        text-align: right;\n",
       "    }\n",
       "</style>\n",
       "<table border=\"1\" class=\"dataframe\">\n",
       "  <thead>\n",
       "    <tr style=\"text-align: right;\">\n",
       "      <th></th>\n",
       "      <th>id</th>\n",
       "      <th>message_date</th>\n",
       "      <th>user_id</th>\n",
       "    </tr>\n",
       "  </thead>\n",
       "  <tbody>\n",
       "    <tr>\n",
       "      <th>0</th>\n",
       "      <td>1000_0</td>\n",
       "      <td>2018-06-27</td>\n",
       "      <td>1000</td>\n",
       "    </tr>\n",
       "    <tr>\n",
       "      <th>1</th>\n",
       "      <td>1000_1</td>\n",
       "      <td>2018-10-08</td>\n",
       "      <td>1000</td>\n",
       "    </tr>\n",
       "    <tr>\n",
       "      <th>2</th>\n",
       "      <td>1000_2</td>\n",
       "      <td>2018-08-04</td>\n",
       "      <td>1000</td>\n",
       "    </tr>\n",
       "    <tr>\n",
       "      <th>3</th>\n",
       "      <td>1000_3</td>\n",
       "      <td>2018-06-16</td>\n",
       "      <td>1000</td>\n",
       "    </tr>\n",
       "    <tr>\n",
       "      <th>4</th>\n",
       "      <td>1000_4</td>\n",
       "      <td>2018-12-05</td>\n",
       "      <td>1000</td>\n",
       "    </tr>\n",
       "    <tr>\n",
       "      <th>5</th>\n",
       "      <td>1000_5</td>\n",
       "      <td>2018-06-20</td>\n",
       "      <td>1000</td>\n",
       "    </tr>\n",
       "    <tr>\n",
       "      <th>6</th>\n",
       "      <td>1000_6</td>\n",
       "      <td>2018-11-19</td>\n",
       "      <td>1000</td>\n",
       "    </tr>\n",
       "    <tr>\n",
       "      <th>7</th>\n",
       "      <td>1000_7</td>\n",
       "      <td>2018-10-29</td>\n",
       "      <td>1000</td>\n",
       "    </tr>\n",
       "    <tr>\n",
       "      <th>8</th>\n",
       "      <td>1000_8</td>\n",
       "      <td>2018-06-25</td>\n",
       "      <td>1000</td>\n",
       "    </tr>\n",
       "    <tr>\n",
       "      <th>9</th>\n",
       "      <td>1000_9</td>\n",
       "      <td>2018-12-18</td>\n",
       "      <td>1000</td>\n",
       "    </tr>\n",
       "  </tbody>\n",
       "</table>\n",
       "</div>"
      ],
      "text/plain": [
       "       id message_date  user_id\n",
       "0  1000_0   2018-06-27     1000\n",
       "1  1000_1   2018-10-08     1000\n",
       "2  1000_2   2018-08-04     1000\n",
       "3  1000_3   2018-06-16     1000\n",
       "4  1000_4   2018-12-05     1000\n",
       "5  1000_5   2018-06-20     1000\n",
       "6  1000_6   2018-11-19     1000\n",
       "7  1000_7   2018-10-29     1000\n",
       "8  1000_8   2018-06-25     1000\n",
       "9  1000_9   2018-12-18     1000"
      ]
     },
     "execution_count": 45,
     "metadata": {},
     "output_type": "execute_result"
    }
   ],
   "source": [
    "messages_df.head(10)"
   ]
  },
  {
   "cell_type": "markdown",
   "id": "693dfa87",
   "metadata": {},
   "source": [
    "Поменяем тип данных в столбце `message_date` на **datetime**"
   ]
  },
  {
   "cell_type": "code",
   "execution_count": 46,
   "id": "a9cb510b",
   "metadata": {},
   "outputs": [],
   "source": [
    "messages_df['message_date'] = pd.to_datetime(messages_df['message_date'], format='%Y-%m-%d')"
   ]
  },
  {
   "cell_type": "code",
   "execution_count": 47,
   "id": "2c93c377",
   "metadata": {},
   "outputs": [
    {
     "name": "stdout",
     "output_type": "stream",
     "text": [
      "Тип данных столбца message_date - datetime64[ns]\n"
     ]
    }
   ],
   "source": [
    "print('Тип данных столбца message_date - {}'.format(messages_df['message_date'].dtype))"
   ]
  },
  {
   "cell_type": "markdown",
   "id": "924818fa",
   "metadata": {},
   "source": [
    "### Вывод"
   ]
  },
  {
   "cell_type": "markdown",
   "id": "9cb51414",
   "metadata": {},
   "source": [
    "С таблицей все хорошо, привели столбец `message_date` к типу данных **datetime**"
   ]
  },
  {
   "cell_type": "markdown",
   "id": "562e675b",
   "metadata": {},
   "source": [
    "## Займемся таблицей tariffs_df"
   ]
  },
  {
   "cell_type": "code",
   "execution_count": 48,
   "id": "fee1bda3",
   "metadata": {},
   "outputs": [
    {
     "data": {
      "text/html": [
       "<div>\n",
       "<style scoped>\n",
       "    .dataframe tbody tr th:only-of-type {\n",
       "        vertical-align: middle;\n",
       "    }\n",
       "\n",
       "    .dataframe tbody tr th {\n",
       "        vertical-align: top;\n",
       "    }\n",
       "\n",
       "    .dataframe thead th {\n",
       "        text-align: right;\n",
       "    }\n",
       "</style>\n",
       "<table border=\"1\" class=\"dataframe\">\n",
       "  <thead>\n",
       "    <tr style=\"text-align: right;\">\n",
       "      <th></th>\n",
       "      <th>messages_included</th>\n",
       "      <th>mb_per_month_included</th>\n",
       "      <th>minutes_included</th>\n",
       "      <th>rub_monthly_fee</th>\n",
       "      <th>rub_per_gb</th>\n",
       "      <th>rub_per_message</th>\n",
       "      <th>rub_per_minute</th>\n",
       "      <th>tariff_name</th>\n",
       "    </tr>\n",
       "  </thead>\n",
       "  <tbody>\n",
       "    <tr>\n",
       "      <th>0</th>\n",
       "      <td>50</td>\n",
       "      <td>15360</td>\n",
       "      <td>500</td>\n",
       "      <td>550</td>\n",
       "      <td>200</td>\n",
       "      <td>3</td>\n",
       "      <td>3</td>\n",
       "      <td>smart</td>\n",
       "    </tr>\n",
       "    <tr>\n",
       "      <th>1</th>\n",
       "      <td>1000</td>\n",
       "      <td>30720</td>\n",
       "      <td>3000</td>\n",
       "      <td>1950</td>\n",
       "      <td>150</td>\n",
       "      <td>1</td>\n",
       "      <td>1</td>\n",
       "      <td>ultra</td>\n",
       "    </tr>\n",
       "  </tbody>\n",
       "</table>\n",
       "</div>"
      ],
      "text/plain": [
       "   messages_included  mb_per_month_included  minutes_included  \\\n",
       "0                 50                  15360               500   \n",
       "1               1000                  30720              3000   \n",
       "\n",
       "   rub_monthly_fee  rub_per_gb  rub_per_message  rub_per_minute tariff_name  \n",
       "0              550         200                3               3       smart  \n",
       "1             1950         150                1               1       ultra  "
      ]
     },
     "execution_count": 48,
     "metadata": {},
     "output_type": "execute_result"
    }
   ],
   "source": [
    "tariffs_df"
   ]
  },
  {
   "cell_type": "markdown",
   "id": "d892f500",
   "metadata": {},
   "source": [
    "### Вывод"
   ]
  },
  {
   "cell_type": "markdown",
   "id": "2c4c1186",
   "metadata": {},
   "source": [
    "С таблицей все хорошо"
   ]
  },
  {
   "cell_type": "markdown",
   "id": "c7b97efc",
   "metadata": {},
   "source": [
    "## Добавление данных"
   ]
  },
  {
   "cell_type": "markdown",
   "id": "caea2d72",
   "metadata": {},
   "source": [
    "Добавим сводные таблицы со следующей информацией:\n",
    "- количество сделанных звонков и израсходованных минут разговора по месяцам;\n",
    "- количество отправленных сообщений по месяцам;\n",
    "- объем израсходованного интернет-трафика по месяцам;\n",
    "- помесячную выручку с каждого пользователя (вычтем бесплатный лимит из суммарного количества звонков, сообщений и интернет-трафика; остаток умножим на значение из тарифного плана; прибавим абонентскую плату, соответствующую тарифному плану)."
   ]
  },
  {
   "cell_type": "markdown",
   "id": "e8048ca8",
   "metadata": {},
   "source": [
    "### Посчитаем количество сделанных звонков и израсходованных минут разговора по месяцам"
   ]
  },
  {
   "cell_type": "markdown",
   "id": "67646ec3",
   "metadata": {},
   "source": [
    "Добавим столбец `month` в таблицу **calls_df**"
   ]
  },
  {
   "cell_type": "code",
   "execution_count": 49,
   "id": "98007185",
   "metadata": {},
   "outputs": [
    {
     "data": {
      "text/html": [
       "<div>\n",
       "<style scoped>\n",
       "    .dataframe tbody tr th:only-of-type {\n",
       "        vertical-align: middle;\n",
       "    }\n",
       "\n",
       "    .dataframe tbody tr th {\n",
       "        vertical-align: top;\n",
       "    }\n",
       "\n",
       "    .dataframe thead th {\n",
       "        text-align: right;\n",
       "    }\n",
       "</style>\n",
       "<table border=\"1\" class=\"dataframe\">\n",
       "  <thead>\n",
       "    <tr style=\"text-align: right;\">\n",
       "      <th></th>\n",
       "      <th>id</th>\n",
       "      <th>call_date</th>\n",
       "      <th>duration</th>\n",
       "      <th>user_id</th>\n",
       "      <th>month</th>\n",
       "    </tr>\n",
       "  </thead>\n",
       "  <tbody>\n",
       "    <tr>\n",
       "      <th>0</th>\n",
       "      <td>1000_0</td>\n",
       "      <td>2018-07-25</td>\n",
       "      <td>0</td>\n",
       "      <td>1000</td>\n",
       "      <td>7</td>\n",
       "    </tr>\n",
       "    <tr>\n",
       "      <th>1</th>\n",
       "      <td>1000_1</td>\n",
       "      <td>2018-08-17</td>\n",
       "      <td>0</td>\n",
       "      <td>1000</td>\n",
       "      <td>8</td>\n",
       "    </tr>\n",
       "    <tr>\n",
       "      <th>2</th>\n",
       "      <td>1000_2</td>\n",
       "      <td>2018-06-11</td>\n",
       "      <td>3</td>\n",
       "      <td>1000</td>\n",
       "      <td>6</td>\n",
       "    </tr>\n",
       "    <tr>\n",
       "      <th>3</th>\n",
       "      <td>1000_3</td>\n",
       "      <td>2018-09-21</td>\n",
       "      <td>14</td>\n",
       "      <td>1000</td>\n",
       "      <td>9</td>\n",
       "    </tr>\n",
       "    <tr>\n",
       "      <th>4</th>\n",
       "      <td>1000_4</td>\n",
       "      <td>2018-12-15</td>\n",
       "      <td>6</td>\n",
       "      <td>1000</td>\n",
       "      <td>12</td>\n",
       "    </tr>\n",
       "    <tr>\n",
       "      <th>5</th>\n",
       "      <td>1000_5</td>\n",
       "      <td>2018-11-02</td>\n",
       "      <td>0</td>\n",
       "      <td>1000</td>\n",
       "      <td>11</td>\n",
       "    </tr>\n",
       "    <tr>\n",
       "      <th>6</th>\n",
       "      <td>1000_6</td>\n",
       "      <td>2018-10-18</td>\n",
       "      <td>0</td>\n",
       "      <td>1000</td>\n",
       "      <td>10</td>\n",
       "    </tr>\n",
       "    <tr>\n",
       "      <th>7</th>\n",
       "      <td>1000_7</td>\n",
       "      <td>2018-08-22</td>\n",
       "      <td>19</td>\n",
       "      <td>1000</td>\n",
       "      <td>8</td>\n",
       "    </tr>\n",
       "    <tr>\n",
       "      <th>8</th>\n",
       "      <td>1000_8</td>\n",
       "      <td>2018-09-15</td>\n",
       "      <td>19</td>\n",
       "      <td>1000</td>\n",
       "      <td>9</td>\n",
       "    </tr>\n",
       "    <tr>\n",
       "      <th>9</th>\n",
       "      <td>1000_9</td>\n",
       "      <td>2018-08-15</td>\n",
       "      <td>0</td>\n",
       "      <td>1000</td>\n",
       "      <td>8</td>\n",
       "    </tr>\n",
       "  </tbody>\n",
       "</table>\n",
       "</div>"
      ],
      "text/plain": [
       "       id  call_date  duration  user_id  month\n",
       "0  1000_0 2018-07-25         0     1000      7\n",
       "1  1000_1 2018-08-17         0     1000      8\n",
       "2  1000_2 2018-06-11         3     1000      6\n",
       "3  1000_3 2018-09-21        14     1000      9\n",
       "4  1000_4 2018-12-15         6     1000     12\n",
       "5  1000_5 2018-11-02         0     1000     11\n",
       "6  1000_6 2018-10-18         0     1000     10\n",
       "7  1000_7 2018-08-22        19     1000      8\n",
       "8  1000_8 2018-09-15        19     1000      9\n",
       "9  1000_9 2018-08-15         0     1000      8"
      ]
     },
     "execution_count": 49,
     "metadata": {},
     "output_type": "execute_result"
    }
   ],
   "source": [
    "calls_df['month'] = calls_df['call_date'].dt.month\n",
    "calls_df.head(10)"
   ]
  },
  {
   "cell_type": "markdown",
   "id": "f4b131c0",
   "metadata": {},
   "source": [
    "Теперь сгруппируем данные по пользователям и по месяцам, затем посчитаем количество звонков и сумму потраченных минут"
   ]
  },
  {
   "cell_type": "code",
   "execution_count": 50,
   "id": "a69dcea2",
   "metadata": {},
   "outputs": [
    {
     "data": {
      "text/html": [
       "<div>\n",
       "<style scoped>\n",
       "    .dataframe tbody tr th:only-of-type {\n",
       "        vertical-align: middle;\n",
       "    }\n",
       "\n",
       "    .dataframe tbody tr th {\n",
       "        vertical-align: top;\n",
       "    }\n",
       "\n",
       "    .dataframe thead th {\n",
       "        text-align: right;\n",
       "    }\n",
       "</style>\n",
       "<table border=\"1\" class=\"dataframe\">\n",
       "  <thead>\n",
       "    <tr style=\"text-align: right;\">\n",
       "      <th></th>\n",
       "      <th></th>\n",
       "      <th>calls_count</th>\n",
       "      <th>calls_sum</th>\n",
       "    </tr>\n",
       "    <tr>\n",
       "      <th>user_id</th>\n",
       "      <th>month</th>\n",
       "      <th></th>\n",
       "      <th></th>\n",
       "    </tr>\n",
       "  </thead>\n",
       "  <tbody>\n",
       "    <tr>\n",
       "      <th rowspan=\"5\" valign=\"top\">1000</th>\n",
       "      <th>5</th>\n",
       "      <td>22</td>\n",
       "      <td>159</td>\n",
       "    </tr>\n",
       "    <tr>\n",
       "      <th>6</th>\n",
       "      <td>43</td>\n",
       "      <td>172</td>\n",
       "    </tr>\n",
       "    <tr>\n",
       "      <th>7</th>\n",
       "      <td>47</td>\n",
       "      <td>340</td>\n",
       "    </tr>\n",
       "    <tr>\n",
       "      <th>8</th>\n",
       "      <td>52</td>\n",
       "      <td>408</td>\n",
       "    </tr>\n",
       "    <tr>\n",
       "      <th>9</th>\n",
       "      <td>58</td>\n",
       "      <td>466</td>\n",
       "    </tr>\n",
       "    <tr>\n",
       "      <th>...</th>\n",
       "      <th>...</th>\n",
       "      <td>...</td>\n",
       "      <td>...</td>\n",
       "    </tr>\n",
       "    <tr>\n",
       "      <th>1498</th>\n",
       "      <th>10</th>\n",
       "      <td>41</td>\n",
       "      <td>247</td>\n",
       "    </tr>\n",
       "    <tr>\n",
       "      <th rowspan=\"4\" valign=\"top\">1499</th>\n",
       "      <th>9</th>\n",
       "      <td>9</td>\n",
       "      <td>70</td>\n",
       "    </tr>\n",
       "    <tr>\n",
       "      <th>10</th>\n",
       "      <td>68</td>\n",
       "      <td>449</td>\n",
       "    </tr>\n",
       "    <tr>\n",
       "      <th>11</th>\n",
       "      <td>74</td>\n",
       "      <td>612</td>\n",
       "    </tr>\n",
       "    <tr>\n",
       "      <th>12</th>\n",
       "      <td>69</td>\n",
       "      <td>492</td>\n",
       "    </tr>\n",
       "  </tbody>\n",
       "</table>\n",
       "<p>3174 rows × 2 columns</p>\n",
       "</div>"
      ],
      "text/plain": [
       "               calls_count  calls_sum\n",
       "user_id month                        \n",
       "1000    5               22        159\n",
       "        6               43        172\n",
       "        7               47        340\n",
       "        8               52        408\n",
       "        9               58        466\n",
       "...                    ...        ...\n",
       "1498    10              41        247\n",
       "1499    9                9         70\n",
       "        10              68        449\n",
       "        11              74        612\n",
       "        12              69        492\n",
       "\n",
       "[3174 rows x 2 columns]"
      ]
     },
     "execution_count": 50,
     "metadata": {},
     "output_type": "execute_result"
    }
   ],
   "source": [
    "calls_per_month = calls_df.pivot_table(index=['user_id', 'month'], \n",
    "                                       values='duration', \n",
    "                                       aggfunc=['count', 'sum'])\n",
    "calls_per_month.columns = ['calls_count', 'calls_sum']\n",
    "calls_per_month"
   ]
  },
  {
   "cell_type": "markdown",
   "id": "401d9c57",
   "metadata": {},
   "source": [
    "### Посчитаем количество отправленных сообщений по месяцам"
   ]
  },
  {
   "cell_type": "markdown",
   "id": "a0f233b8",
   "metadata": {},
   "source": [
    "Добавим столбец `month` в таблицу **messages_df**"
   ]
  },
  {
   "cell_type": "code",
   "execution_count": 51,
   "id": "602c1521",
   "metadata": {},
   "outputs": [
    {
     "data": {
      "text/html": [
       "<div>\n",
       "<style scoped>\n",
       "    .dataframe tbody tr th:only-of-type {\n",
       "        vertical-align: middle;\n",
       "    }\n",
       "\n",
       "    .dataframe tbody tr th {\n",
       "        vertical-align: top;\n",
       "    }\n",
       "\n",
       "    .dataframe thead th {\n",
       "        text-align: right;\n",
       "    }\n",
       "</style>\n",
       "<table border=\"1\" class=\"dataframe\">\n",
       "  <thead>\n",
       "    <tr style=\"text-align: right;\">\n",
       "      <th></th>\n",
       "      <th>id</th>\n",
       "      <th>message_date</th>\n",
       "      <th>user_id</th>\n",
       "      <th>month</th>\n",
       "    </tr>\n",
       "  </thead>\n",
       "  <tbody>\n",
       "    <tr>\n",
       "      <th>0</th>\n",
       "      <td>1000_0</td>\n",
       "      <td>2018-06-27</td>\n",
       "      <td>1000</td>\n",
       "      <td>6</td>\n",
       "    </tr>\n",
       "    <tr>\n",
       "      <th>1</th>\n",
       "      <td>1000_1</td>\n",
       "      <td>2018-10-08</td>\n",
       "      <td>1000</td>\n",
       "      <td>10</td>\n",
       "    </tr>\n",
       "    <tr>\n",
       "      <th>2</th>\n",
       "      <td>1000_2</td>\n",
       "      <td>2018-08-04</td>\n",
       "      <td>1000</td>\n",
       "      <td>8</td>\n",
       "    </tr>\n",
       "    <tr>\n",
       "      <th>3</th>\n",
       "      <td>1000_3</td>\n",
       "      <td>2018-06-16</td>\n",
       "      <td>1000</td>\n",
       "      <td>6</td>\n",
       "    </tr>\n",
       "    <tr>\n",
       "      <th>4</th>\n",
       "      <td>1000_4</td>\n",
       "      <td>2018-12-05</td>\n",
       "      <td>1000</td>\n",
       "      <td>12</td>\n",
       "    </tr>\n",
       "    <tr>\n",
       "      <th>5</th>\n",
       "      <td>1000_5</td>\n",
       "      <td>2018-06-20</td>\n",
       "      <td>1000</td>\n",
       "      <td>6</td>\n",
       "    </tr>\n",
       "    <tr>\n",
       "      <th>6</th>\n",
       "      <td>1000_6</td>\n",
       "      <td>2018-11-19</td>\n",
       "      <td>1000</td>\n",
       "      <td>11</td>\n",
       "    </tr>\n",
       "    <tr>\n",
       "      <th>7</th>\n",
       "      <td>1000_7</td>\n",
       "      <td>2018-10-29</td>\n",
       "      <td>1000</td>\n",
       "      <td>10</td>\n",
       "    </tr>\n",
       "    <tr>\n",
       "      <th>8</th>\n",
       "      <td>1000_8</td>\n",
       "      <td>2018-06-25</td>\n",
       "      <td>1000</td>\n",
       "      <td>6</td>\n",
       "    </tr>\n",
       "    <tr>\n",
       "      <th>9</th>\n",
       "      <td>1000_9</td>\n",
       "      <td>2018-12-18</td>\n",
       "      <td>1000</td>\n",
       "      <td>12</td>\n",
       "    </tr>\n",
       "  </tbody>\n",
       "</table>\n",
       "</div>"
      ],
      "text/plain": [
       "       id message_date  user_id  month\n",
       "0  1000_0   2018-06-27     1000      6\n",
       "1  1000_1   2018-10-08     1000     10\n",
       "2  1000_2   2018-08-04     1000      8\n",
       "3  1000_3   2018-06-16     1000      6\n",
       "4  1000_4   2018-12-05     1000     12\n",
       "5  1000_5   2018-06-20     1000      6\n",
       "6  1000_6   2018-11-19     1000     11\n",
       "7  1000_7   2018-10-29     1000     10\n",
       "8  1000_8   2018-06-25     1000      6\n",
       "9  1000_9   2018-12-18     1000     12"
      ]
     },
     "execution_count": 51,
     "metadata": {},
     "output_type": "execute_result"
    }
   ],
   "source": [
    "messages_df['month'] = messages_df['message_date'].dt.month\n",
    "messages_df.head(10)"
   ]
  },
  {
   "cell_type": "markdown",
   "id": "9f5015e6",
   "metadata": {},
   "source": [
    "Теперь сгруппируем данные по пользователям и месяцам, затем посчитаем количество отправленных сообщений"
   ]
  },
  {
   "cell_type": "code",
   "execution_count": 52,
   "id": "5a399741",
   "metadata": {},
   "outputs": [
    {
     "data": {
      "text/html": [
       "<div>\n",
       "<style scoped>\n",
       "    .dataframe tbody tr th:only-of-type {\n",
       "        vertical-align: middle;\n",
       "    }\n",
       "\n",
       "    .dataframe tbody tr th {\n",
       "        vertical-align: top;\n",
       "    }\n",
       "\n",
       "    .dataframe thead th {\n",
       "        text-align: right;\n",
       "    }\n",
       "</style>\n",
       "<table border=\"1\" class=\"dataframe\">\n",
       "  <thead>\n",
       "    <tr style=\"text-align: right;\">\n",
       "      <th></th>\n",
       "      <th></th>\n",
       "      <th>messages_count</th>\n",
       "    </tr>\n",
       "    <tr>\n",
       "      <th>user_id</th>\n",
       "      <th>month</th>\n",
       "      <th></th>\n",
       "    </tr>\n",
       "  </thead>\n",
       "  <tbody>\n",
       "    <tr>\n",
       "      <th rowspan=\"5\" valign=\"top\">1000</th>\n",
       "      <th>5</th>\n",
       "      <td>22</td>\n",
       "    </tr>\n",
       "    <tr>\n",
       "      <th>6</th>\n",
       "      <td>60</td>\n",
       "    </tr>\n",
       "    <tr>\n",
       "      <th>7</th>\n",
       "      <td>75</td>\n",
       "    </tr>\n",
       "    <tr>\n",
       "      <th>8</th>\n",
       "      <td>81</td>\n",
       "    </tr>\n",
       "    <tr>\n",
       "      <th>9</th>\n",
       "      <td>57</td>\n",
       "    </tr>\n",
       "    <tr>\n",
       "      <th>...</th>\n",
       "      <th>...</th>\n",
       "      <td>...</td>\n",
       "    </tr>\n",
       "    <tr>\n",
       "      <th>1498</th>\n",
       "      <th>10</th>\n",
       "      <td>42</td>\n",
       "    </tr>\n",
       "    <tr>\n",
       "      <th rowspan=\"4\" valign=\"top\">1499</th>\n",
       "      <th>9</th>\n",
       "      <td>11</td>\n",
       "    </tr>\n",
       "    <tr>\n",
       "      <th>10</th>\n",
       "      <td>48</td>\n",
       "    </tr>\n",
       "    <tr>\n",
       "      <th>11</th>\n",
       "      <td>59</td>\n",
       "    </tr>\n",
       "    <tr>\n",
       "      <th>12</th>\n",
       "      <td>66</td>\n",
       "    </tr>\n",
       "  </tbody>\n",
       "</table>\n",
       "<p>2717 rows × 1 columns</p>\n",
       "</div>"
      ],
      "text/plain": [
       "               messages_count\n",
       "user_id month                \n",
       "1000    5                  22\n",
       "        6                  60\n",
       "        7                  75\n",
       "        8                  81\n",
       "        9                  57\n",
       "...                       ...\n",
       "1498    10                 42\n",
       "1499    9                  11\n",
       "        10                 48\n",
       "        11                 59\n",
       "        12                 66\n",
       "\n",
       "[2717 rows x 1 columns]"
      ]
     },
     "execution_count": 52,
     "metadata": {},
     "output_type": "execute_result"
    }
   ],
   "source": [
    "messages_per_month = messages_df.pivot_table(index=['user_id', 'month'], values='id', aggfunc='count')\n",
    "messages_per_month.columns = ['messages_count']\n",
    "messages_per_month"
   ]
  },
  {
   "cell_type": "markdown",
   "id": "d41b72b5",
   "metadata": {},
   "source": [
    "### Посчитаем объем израсходованного интернет-трафика по месяцам"
   ]
  },
  {
   "cell_type": "markdown",
   "id": "d0649df8",
   "metadata": {},
   "source": [
    "Добавим столбец month в таблицу internet_df"
   ]
  },
  {
   "cell_type": "code",
   "execution_count": 53,
   "id": "df92822a",
   "metadata": {},
   "outputs": [
    {
     "data": {
      "text/html": [
       "<div>\n",
       "<style scoped>\n",
       "    .dataframe tbody tr th:only-of-type {\n",
       "        vertical-align: middle;\n",
       "    }\n",
       "\n",
       "    .dataframe tbody tr th {\n",
       "        vertical-align: top;\n",
       "    }\n",
       "\n",
       "    .dataframe thead th {\n",
       "        text-align: right;\n",
       "    }\n",
       "</style>\n",
       "<table border=\"1\" class=\"dataframe\">\n",
       "  <thead>\n",
       "    <tr style=\"text-align: right;\">\n",
       "      <th></th>\n",
       "      <th>id</th>\n",
       "      <th>mb_used</th>\n",
       "      <th>session_date</th>\n",
       "      <th>user_id</th>\n",
       "      <th>month</th>\n",
       "    </tr>\n",
       "  </thead>\n",
       "  <tbody>\n",
       "    <tr>\n",
       "      <th>0</th>\n",
       "      <td>1000_0</td>\n",
       "      <td>113</td>\n",
       "      <td>2018-11-25</td>\n",
       "      <td>1000</td>\n",
       "      <td>11</td>\n",
       "    </tr>\n",
       "    <tr>\n",
       "      <th>1</th>\n",
       "      <td>1000_1</td>\n",
       "      <td>1053</td>\n",
       "      <td>2018-09-07</td>\n",
       "      <td>1000</td>\n",
       "      <td>9</td>\n",
       "    </tr>\n",
       "    <tr>\n",
       "      <th>2</th>\n",
       "      <td>1000_2</td>\n",
       "      <td>1198</td>\n",
       "      <td>2018-06-25</td>\n",
       "      <td>1000</td>\n",
       "      <td>6</td>\n",
       "    </tr>\n",
       "    <tr>\n",
       "      <th>3</th>\n",
       "      <td>1000_3</td>\n",
       "      <td>551</td>\n",
       "      <td>2018-08-22</td>\n",
       "      <td>1000</td>\n",
       "      <td>8</td>\n",
       "    </tr>\n",
       "    <tr>\n",
       "      <th>4</th>\n",
       "      <td>1000_4</td>\n",
       "      <td>303</td>\n",
       "      <td>2018-09-24</td>\n",
       "      <td>1000</td>\n",
       "      <td>9</td>\n",
       "    </tr>\n",
       "    <tr>\n",
       "      <th>5</th>\n",
       "      <td>1000_5</td>\n",
       "      <td>400</td>\n",
       "      <td>2018-10-02</td>\n",
       "      <td>1000</td>\n",
       "      <td>10</td>\n",
       "    </tr>\n",
       "    <tr>\n",
       "      <th>6</th>\n",
       "      <td>1000_6</td>\n",
       "      <td>541</td>\n",
       "      <td>2018-09-07</td>\n",
       "      <td>1000</td>\n",
       "      <td>9</td>\n",
       "    </tr>\n",
       "    <tr>\n",
       "      <th>7</th>\n",
       "      <td>1000_7</td>\n",
       "      <td>416</td>\n",
       "      <td>2018-07-11</td>\n",
       "      <td>1000</td>\n",
       "      <td>7</td>\n",
       "    </tr>\n",
       "    <tr>\n",
       "      <th>8</th>\n",
       "      <td>1000_8</td>\n",
       "      <td>506</td>\n",
       "      <td>2018-10-08</td>\n",
       "      <td>1000</td>\n",
       "      <td>10</td>\n",
       "    </tr>\n",
       "    <tr>\n",
       "      <th>9</th>\n",
       "      <td>1000_9</td>\n",
       "      <td>346</td>\n",
       "      <td>2018-09-03</td>\n",
       "      <td>1000</td>\n",
       "      <td>9</td>\n",
       "    </tr>\n",
       "  </tbody>\n",
       "</table>\n",
       "</div>"
      ],
      "text/plain": [
       "       id  mb_used session_date  user_id  month\n",
       "0  1000_0      113   2018-11-25     1000     11\n",
       "1  1000_1     1053   2018-09-07     1000      9\n",
       "2  1000_2     1198   2018-06-25     1000      6\n",
       "3  1000_3      551   2018-08-22     1000      8\n",
       "4  1000_4      303   2018-09-24     1000      9\n",
       "5  1000_5      400   2018-10-02     1000     10\n",
       "6  1000_6      541   2018-09-07     1000      9\n",
       "7  1000_7      416   2018-07-11     1000      7\n",
       "8  1000_8      506   2018-10-08     1000     10\n",
       "9  1000_9      346   2018-09-03     1000      9"
      ]
     },
     "execution_count": 53,
     "metadata": {},
     "output_type": "execute_result"
    }
   ],
   "source": [
    "internet_df['month'] = internet_df['session_date'].dt.month\n",
    "internet_df.head(10)"
   ]
  },
  {
   "cell_type": "markdown",
   "id": "562296c1",
   "metadata": {},
   "source": [
    "Теперь сгруппируем данные по пользователям и месяцам, затем посчитаем объем израсходованного интернет-трафика и переведем мегабайты в гигабайты округленные до целых чисел"
   ]
  },
  {
   "cell_type": "code",
   "execution_count": 54,
   "id": "913a9fc3",
   "metadata": {},
   "outputs": [
    {
     "data": {
      "text/html": [
       "<div>\n",
       "<style scoped>\n",
       "    .dataframe tbody tr th:only-of-type {\n",
       "        vertical-align: middle;\n",
       "    }\n",
       "\n",
       "    .dataframe tbody tr th {\n",
       "        vertical-align: top;\n",
       "    }\n",
       "\n",
       "    .dataframe thead th {\n",
       "        text-align: right;\n",
       "    }\n",
       "</style>\n",
       "<table border=\"1\" class=\"dataframe\">\n",
       "  <thead>\n",
       "    <tr style=\"text-align: right;\">\n",
       "      <th></th>\n",
       "      <th></th>\n",
       "      <th>mb_used_sum</th>\n",
       "      <th>gb_used_sum</th>\n",
       "    </tr>\n",
       "    <tr>\n",
       "      <th>user_id</th>\n",
       "      <th>month</th>\n",
       "      <th></th>\n",
       "      <th></th>\n",
       "    </tr>\n",
       "  </thead>\n",
       "  <tbody>\n",
       "    <tr>\n",
       "      <th rowspan=\"5\" valign=\"top\">1000</th>\n",
       "      <th>5</th>\n",
       "      <td>2256</td>\n",
       "      <td>3.0</td>\n",
       "    </tr>\n",
       "    <tr>\n",
       "      <th>6</th>\n",
       "      <td>23257</td>\n",
       "      <td>24.0</td>\n",
       "    </tr>\n",
       "    <tr>\n",
       "      <th>7</th>\n",
       "      <td>14016</td>\n",
       "      <td>15.0</td>\n",
       "    </tr>\n",
       "    <tr>\n",
       "      <th>8</th>\n",
       "      <td>14070</td>\n",
       "      <td>15.0</td>\n",
       "    </tr>\n",
       "    <tr>\n",
       "      <th>9</th>\n",
       "      <td>14581</td>\n",
       "      <td>15.0</td>\n",
       "    </tr>\n",
       "    <tr>\n",
       "      <th>...</th>\n",
       "      <th>...</th>\n",
       "      <td>...</td>\n",
       "      <td>...</td>\n",
       "    </tr>\n",
       "    <tr>\n",
       "      <th>1498</th>\n",
       "      <th>10</th>\n",
       "      <td>20604</td>\n",
       "      <td>21.0</td>\n",
       "    </tr>\n",
       "    <tr>\n",
       "      <th rowspan=\"4\" valign=\"top\">1499</th>\n",
       "      <th>9</th>\n",
       "      <td>1848</td>\n",
       "      <td>2.0</td>\n",
       "    </tr>\n",
       "    <tr>\n",
       "      <th>10</th>\n",
       "      <td>17809</td>\n",
       "      <td>18.0</td>\n",
       "    </tr>\n",
       "    <tr>\n",
       "      <th>11</th>\n",
       "      <td>17984</td>\n",
       "      <td>18.0</td>\n",
       "    </tr>\n",
       "    <tr>\n",
       "      <th>12</th>\n",
       "      <td>13077</td>\n",
       "      <td>14.0</td>\n",
       "    </tr>\n",
       "  </tbody>\n",
       "</table>\n",
       "<p>3203 rows × 2 columns</p>\n",
       "</div>"
      ],
      "text/plain": [
       "               mb_used_sum  gb_used_sum\n",
       "user_id month                          \n",
       "1000    5             2256          3.0\n",
       "        6            23257         24.0\n",
       "        7            14016         15.0\n",
       "        8            14070         15.0\n",
       "        9            14581         15.0\n",
       "...                    ...          ...\n",
       "1498    10           20604         21.0\n",
       "1499    9             1848          2.0\n",
       "        10           17809         18.0\n",
       "        11           17984         18.0\n",
       "        12           13077         14.0\n",
       "\n",
       "[3203 rows x 2 columns]"
      ]
     },
     "execution_count": 54,
     "metadata": {},
     "output_type": "execute_result"
    }
   ],
   "source": [
    "internet_per_month = internet_df.pivot_table(index=['user_id', 'month'], \n",
    "                                             values='mb_used', \n",
    "                                             aggfunc='sum')\n",
    "internet_per_month['gb_used_sum'] = (internet_per_month['mb_used']/1000).apply(np.ceil)\n",
    "internet_per_month.columns = ['mb_used_sum', 'gb_used_sum']\n",
    "internet_per_month"
   ]
  },
  {
   "cell_type": "markdown",
   "id": "3f530b05",
   "metadata": {},
   "source": [
    "### Посчитаем помесячную выручку с каждого пользователя "
   ]
  },
  {
   "cell_type": "markdown",
   "id": "3a18e65d",
   "metadata": {},
   "source": [
    "Объеденим полученные таблицы ранее"
   ]
  },
  {
   "cell_type": "code",
   "execution_count": 55,
   "id": "04085b72",
   "metadata": {},
   "outputs": [
    {
     "data": {
      "text/html": [
       "<div>\n",
       "<style scoped>\n",
       "    .dataframe tbody tr th:only-of-type {\n",
       "        vertical-align: middle;\n",
       "    }\n",
       "\n",
       "    .dataframe tbody tr th {\n",
       "        vertical-align: top;\n",
       "    }\n",
       "\n",
       "    .dataframe thead th {\n",
       "        text-align: right;\n",
       "    }\n",
       "</style>\n",
       "<table border=\"1\" class=\"dataframe\">\n",
       "  <thead>\n",
       "    <tr style=\"text-align: right;\">\n",
       "      <th></th>\n",
       "      <th>user_id</th>\n",
       "      <th>month</th>\n",
       "      <th>calls_count</th>\n",
       "      <th>calls_sum</th>\n",
       "      <th>messages_count</th>\n",
       "      <th>mb_used_sum</th>\n",
       "      <th>gb_used_sum</th>\n",
       "    </tr>\n",
       "  </thead>\n",
       "  <tbody>\n",
       "    <tr>\n",
       "      <th>482</th>\n",
       "      <td>1076</td>\n",
       "      <td>11</td>\n",
       "      <td>83.0</td>\n",
       "      <td>541.0</td>\n",
       "      <td>93.0</td>\n",
       "      <td>13816.0</td>\n",
       "      <td>14.0</td>\n",
       "    </tr>\n",
       "    <tr>\n",
       "      <th>358</th>\n",
       "      <td>1056</td>\n",
       "      <td>9</td>\n",
       "      <td>50.0</td>\n",
       "      <td>338.0</td>\n",
       "      <td>39.0</td>\n",
       "      <td>21373.0</td>\n",
       "      <td>22.0</td>\n",
       "    </tr>\n",
       "    <tr>\n",
       "      <th>243</th>\n",
       "      <td>1039</td>\n",
       "      <td>6</td>\n",
       "      <td>21.0</td>\n",
       "      <td>156.0</td>\n",
       "      <td>62.0</td>\n",
       "      <td>6352.0</td>\n",
       "      <td>7.0</td>\n",
       "    </tr>\n",
       "    <tr>\n",
       "      <th>1004</th>\n",
       "      <td>1160</td>\n",
       "      <td>10</td>\n",
       "      <td>47.0</td>\n",
       "      <td>336.0</td>\n",
       "      <td>41.0</td>\n",
       "      <td>17303.0</td>\n",
       "      <td>18.0</td>\n",
       "    </tr>\n",
       "    <tr>\n",
       "      <th>2716</th>\n",
       "      <td>1427</td>\n",
       "      <td>8</td>\n",
       "      <td>73.0</td>\n",
       "      <td>577.0</td>\n",
       "      <td>11.0</td>\n",
       "      <td>17607.0</td>\n",
       "      <td>18.0</td>\n",
       "    </tr>\n",
       "    <tr>\n",
       "      <th>589</th>\n",
       "      <td>1094</td>\n",
       "      <td>10</td>\n",
       "      <td>117.0</td>\n",
       "      <td>868.0</td>\n",
       "      <td>28.0</td>\n",
       "      <td>17755.0</td>\n",
       "      <td>18.0</td>\n",
       "    </tr>\n",
       "    <tr>\n",
       "      <th>1728</th>\n",
       "      <td>1277</td>\n",
       "      <td>5</td>\n",
       "      <td>47.0</td>\n",
       "      <td>418.0</td>\n",
       "      <td>145.0</td>\n",
       "      <td>18620.0</td>\n",
       "      <td>19.0</td>\n",
       "    </tr>\n",
       "    <tr>\n",
       "      <th>3106</th>\n",
       "      <td>1486</td>\n",
       "      <td>12</td>\n",
       "      <td>133.0</td>\n",
       "      <td>1007.0</td>\n",
       "      <td>83.0</td>\n",
       "      <td>38610.0</td>\n",
       "      <td>39.0</td>\n",
       "    </tr>\n",
       "    <tr>\n",
       "      <th>392</th>\n",
       "      <td>1063</td>\n",
       "      <td>4</td>\n",
       "      <td>78.0</td>\n",
       "      <td>581.0</td>\n",
       "      <td>NaN</td>\n",
       "      <td>17075.0</td>\n",
       "      <td>18.0</td>\n",
       "    </tr>\n",
       "    <tr>\n",
       "      <th>2495</th>\n",
       "      <td>1394</td>\n",
       "      <td>6</td>\n",
       "      <td>67.0</td>\n",
       "      <td>428.0</td>\n",
       "      <td>4.0</td>\n",
       "      <td>5141.0</td>\n",
       "      <td>6.0</td>\n",
       "    </tr>\n",
       "  </tbody>\n",
       "</table>\n",
       "</div>"
      ],
      "text/plain": [
       "      user_id  month  calls_count  calls_sum  messages_count  mb_used_sum  \\\n",
       "482      1076     11         83.0      541.0            93.0      13816.0   \n",
       "358      1056      9         50.0      338.0            39.0      21373.0   \n",
       "243      1039      6         21.0      156.0            62.0       6352.0   \n",
       "1004     1160     10         47.0      336.0            41.0      17303.0   \n",
       "2716     1427      8         73.0      577.0            11.0      17607.0   \n",
       "589      1094     10        117.0      868.0            28.0      17755.0   \n",
       "1728     1277      5         47.0      418.0           145.0      18620.0   \n",
       "3106     1486     12        133.0     1007.0            83.0      38610.0   \n",
       "392      1063      4         78.0      581.0             NaN      17075.0   \n",
       "2495     1394      6         67.0      428.0             4.0       5141.0   \n",
       "\n",
       "      gb_used_sum  \n",
       "482          14.0  \n",
       "358          22.0  \n",
       "243           7.0  \n",
       "1004         18.0  \n",
       "2716         18.0  \n",
       "589          18.0  \n",
       "1728         19.0  \n",
       "3106         39.0  \n",
       "392          18.0  \n",
       "2495          6.0  "
      ]
     },
     "execution_count": 55,
     "metadata": {},
     "output_type": "execute_result"
    }
   ],
   "source": [
    "data_per_month = calls_per_month.merge(messages_per_month, on=['user_id', 'month'], how='outer')\n",
    "data_per_month = data_per_month.merge(internet_per_month, on=['user_id', 'month'], how='outer')\n",
    "data_per_month.reset_index(inplace=True)\n",
    "data_per_month.sample(10)"
   ]
  },
  {
   "cell_type": "markdown",
   "id": "513a1889",
   "metadata": {},
   "source": [
    "Объеденим таблицу **data_per_month** с таблицами **users_df** и **tariffs_df** и удалим лишние столбцы"
   ]
  },
  {
   "cell_type": "code",
   "execution_count": 56,
   "id": "84a320ad",
   "metadata": {},
   "outputs": [
    {
     "data": {
      "text/html": [
       "<div>\n",
       "<style scoped>\n",
       "    .dataframe tbody tr th:only-of-type {\n",
       "        vertical-align: middle;\n",
       "    }\n",
       "\n",
       "    .dataframe tbody tr th {\n",
       "        vertical-align: top;\n",
       "    }\n",
       "\n",
       "    .dataframe thead th {\n",
       "        text-align: right;\n",
       "    }\n",
       "</style>\n",
       "<table border=\"1\" class=\"dataframe\">\n",
       "  <thead>\n",
       "    <tr style=\"text-align: right;\">\n",
       "      <th></th>\n",
       "      <th>user_id</th>\n",
       "      <th>month</th>\n",
       "      <th>calls_count</th>\n",
       "      <th>calls_sum</th>\n",
       "      <th>messages_count</th>\n",
       "      <th>gb_used_sum</th>\n",
       "      <th>city</th>\n",
       "      <th>tariff_name</th>\n",
       "      <th>messages_included</th>\n",
       "      <th>mb_per_month_included</th>\n",
       "      <th>minutes_included</th>\n",
       "      <th>rub_monthly_fee</th>\n",
       "      <th>rub_per_gb</th>\n",
       "      <th>rub_per_message</th>\n",
       "      <th>rub_per_minute</th>\n",
       "    </tr>\n",
       "  </thead>\n",
       "  <tbody>\n",
       "    <tr>\n",
       "      <th>3182</th>\n",
       "      <td>1494</td>\n",
       "      <td>8.0</td>\n",
       "      <td>32.0</td>\n",
       "      <td>262.0</td>\n",
       "      <td>NaN</td>\n",
       "      <td>7.0</td>\n",
       "      <td>Омск</td>\n",
       "      <td>smart</td>\n",
       "      <td>50</td>\n",
       "      <td>15360</td>\n",
       "      <td>500</td>\n",
       "      <td>550</td>\n",
       "      <td>200</td>\n",
       "      <td>3</td>\n",
       "      <td>3</td>\n",
       "    </tr>\n",
       "    <tr>\n",
       "      <th>2881</th>\n",
       "      <td>1427</td>\n",
       "      <td>8.0</td>\n",
       "      <td>73.0</td>\n",
       "      <td>577.0</td>\n",
       "      <td>11.0</td>\n",
       "      <td>18.0</td>\n",
       "      <td>Казань</td>\n",
       "      <td>smart</td>\n",
       "      <td>50</td>\n",
       "      <td>15360</td>\n",
       "      <td>500</td>\n",
       "      <td>550</td>\n",
       "      <td>200</td>\n",
       "      <td>3</td>\n",
       "      <td>3</td>\n",
       "    </tr>\n",
       "    <tr>\n",
       "      <th>779</th>\n",
       "      <td>1402</td>\n",
       "      <td>8.0</td>\n",
       "      <td>90.0</td>\n",
       "      <td>671.0</td>\n",
       "      <td>36.0</td>\n",
       "      <td>32.0</td>\n",
       "      <td>Пенза</td>\n",
       "      <td>ultra</td>\n",
       "      <td>1000</td>\n",
       "      <td>30720</td>\n",
       "      <td>3000</td>\n",
       "      <td>1950</td>\n",
       "      <td>150</td>\n",
       "      <td>1</td>\n",
       "      <td>1</td>\n",
       "    </tr>\n",
       "    <tr>\n",
       "      <th>2838</th>\n",
       "      <td>1421</td>\n",
       "      <td>4.0</td>\n",
       "      <td>45.0</td>\n",
       "      <td>379.0</td>\n",
       "      <td>44.0</td>\n",
       "      <td>16.0</td>\n",
       "      <td>Калининград</td>\n",
       "      <td>smart</td>\n",
       "      <td>50</td>\n",
       "      <td>15360</td>\n",
       "      <td>500</td>\n",
       "      <td>550</td>\n",
       "      <td>200</td>\n",
       "      <td>3</td>\n",
       "      <td>3</td>\n",
       "    </tr>\n",
       "    <tr>\n",
       "      <th>2046</th>\n",
       "      <td>1227</td>\n",
       "      <td>9.0</td>\n",
       "      <td>89.0</td>\n",
       "      <td>698.0</td>\n",
       "      <td>30.0</td>\n",
       "      <td>25.0</td>\n",
       "      <td>Санкт-Петербург</td>\n",
       "      <td>smart</td>\n",
       "      <td>50</td>\n",
       "      <td>15360</td>\n",
       "      <td>500</td>\n",
       "      <td>550</td>\n",
       "      <td>200</td>\n",
       "      <td>3</td>\n",
       "      <td>3</td>\n",
       "    </tr>\n",
       "    <tr>\n",
       "      <th>615</th>\n",
       "      <td>1350</td>\n",
       "      <td>10.0</td>\n",
       "      <td>65.0</td>\n",
       "      <td>456.0</td>\n",
       "      <td>55.0</td>\n",
       "      <td>25.0</td>\n",
       "      <td>Омск</td>\n",
       "      <td>ultra</td>\n",
       "      <td>1000</td>\n",
       "      <td>30720</td>\n",
       "      <td>3000</td>\n",
       "      <td>1950</td>\n",
       "      <td>150</td>\n",
       "      <td>1</td>\n",
       "      <td>1</td>\n",
       "    </tr>\n",
       "    <tr>\n",
       "      <th>1419</th>\n",
       "      <td>1095</td>\n",
       "      <td>12.0</td>\n",
       "      <td>64.0</td>\n",
       "      <td>540.0</td>\n",
       "      <td>NaN</td>\n",
       "      <td>19.0</td>\n",
       "      <td>Новосибирск</td>\n",
       "      <td>smart</td>\n",
       "      <td>50</td>\n",
       "      <td>15360</td>\n",
       "      <td>500</td>\n",
       "      <td>550</td>\n",
       "      <td>200</td>\n",
       "      <td>3</td>\n",
       "      <td>3</td>\n",
       "    </tr>\n",
       "    <tr>\n",
       "      <th>2855</th>\n",
       "      <td>1423</td>\n",
       "      <td>6.0</td>\n",
       "      <td>31.0</td>\n",
       "      <td>228.0</td>\n",
       "      <td>45.0</td>\n",
       "      <td>12.0</td>\n",
       "      <td>Астрахань</td>\n",
       "      <td>smart</td>\n",
       "      <td>50</td>\n",
       "      <td>15360</td>\n",
       "      <td>500</td>\n",
       "      <td>550</td>\n",
       "      <td>200</td>\n",
       "      <td>3</td>\n",
       "      <td>3</td>\n",
       "    </tr>\n",
       "    <tr>\n",
       "      <th>1585</th>\n",
       "      <td>1133</td>\n",
       "      <td>10.0</td>\n",
       "      <td>33.0</td>\n",
       "      <td>224.0</td>\n",
       "      <td>15.0</td>\n",
       "      <td>7.0</td>\n",
       "      <td>Барнаул</td>\n",
       "      <td>smart</td>\n",
       "      <td>50</td>\n",
       "      <td>15360</td>\n",
       "      <td>500</td>\n",
       "      <td>550</td>\n",
       "      <td>200</td>\n",
       "      <td>3</td>\n",
       "      <td>3</td>\n",
       "    </tr>\n",
       "    <tr>\n",
       "      <th>530</th>\n",
       "      <td>1310</td>\n",
       "      <td>10.0</td>\n",
       "      <td>63.0</td>\n",
       "      <td>469.0</td>\n",
       "      <td>56.0</td>\n",
       "      <td>17.0</td>\n",
       "      <td>Уфа</td>\n",
       "      <td>ultra</td>\n",
       "      <td>1000</td>\n",
       "      <td>30720</td>\n",
       "      <td>3000</td>\n",
       "      <td>1950</td>\n",
       "      <td>150</td>\n",
       "      <td>1</td>\n",
       "      <td>1</td>\n",
       "    </tr>\n",
       "  </tbody>\n",
       "</table>\n",
       "</div>"
      ],
      "text/plain": [
       "      user_id  month  calls_count  calls_sum  messages_count  gb_used_sum  \\\n",
       "3182     1494    8.0         32.0      262.0             NaN          7.0   \n",
       "2881     1427    8.0         73.0      577.0            11.0         18.0   \n",
       "779      1402    8.0         90.0      671.0            36.0         32.0   \n",
       "2838     1421    4.0         45.0      379.0            44.0         16.0   \n",
       "2046     1227    9.0         89.0      698.0            30.0         25.0   \n",
       "615      1350   10.0         65.0      456.0            55.0         25.0   \n",
       "1419     1095   12.0         64.0      540.0             NaN         19.0   \n",
       "2855     1423    6.0         31.0      228.0            45.0         12.0   \n",
       "1585     1133   10.0         33.0      224.0            15.0          7.0   \n",
       "530      1310   10.0         63.0      469.0            56.0         17.0   \n",
       "\n",
       "                 city tariff_name  messages_included  mb_per_month_included  \\\n",
       "3182             Омск       smart                 50                  15360   \n",
       "2881           Казань       smart                 50                  15360   \n",
       "779             Пенза       ultra               1000                  30720   \n",
       "2838      Калининград       smart                 50                  15360   \n",
       "2046  Санкт-Петербург       smart                 50                  15360   \n",
       "615              Омск       ultra               1000                  30720   \n",
       "1419      Новосибирск       smart                 50                  15360   \n",
       "2855        Астрахань       smart                 50                  15360   \n",
       "1585          Барнаул       smart                 50                  15360   \n",
       "530               Уфа       ultra               1000                  30720   \n",
       "\n",
       "      minutes_included  rub_monthly_fee  rub_per_gb  rub_per_message  \\\n",
       "3182               500              550         200                3   \n",
       "2881               500              550         200                3   \n",
       "779               3000             1950         150                1   \n",
       "2838               500              550         200                3   \n",
       "2046               500              550         200                3   \n",
       "615               3000             1950         150                1   \n",
       "1419               500              550         200                3   \n",
       "2855               500              550         200                3   \n",
       "1585               500              550         200                3   \n",
       "530               3000             1950         150                1   \n",
       "\n",
       "      rub_per_minute  \n",
       "3182               3  \n",
       "2881               3  \n",
       "779                1  \n",
       "2838               3  \n",
       "2046               3  \n",
       "615                1  \n",
       "1419               3  \n",
       "2855               3  \n",
       "1585               3  \n",
       "530                1  "
      ]
     },
     "execution_count": 56,
     "metadata": {},
     "output_type": "execute_result"
    }
   ],
   "source": [
    "data_per_month = data_per_month.merge(users_df, on='user_id', how='outer')\n",
    "data_per_month.rename(columns={'tariff':'tariff_name'}, inplace=True)\n",
    "data_per_month = data_per_month.merge(tariffs_df, on='tariff_name', how='outer')\n",
    "data_per_month.drop(columns=['first_name', 'last_name', 'age', 'churn_date', 'reg_date', 'mb_used_sum'], inplace=True)\n",
    "data_per_month.sample(10)"
   ]
  },
  {
   "cell_type": "markdown",
   "id": "c9f5db56",
   "metadata": {},
   "source": [
    "Заполним пропущенные значения и переведем столбец `mb_per_month_included` из мегабайт в гигабайты"
   ]
  },
  {
   "cell_type": "code",
   "execution_count": 57,
   "id": "042a3bd8",
   "metadata": {},
   "outputs": [],
   "source": [
    "data_per_month.fillna(0, inplace=True)"
   ]
  },
  {
   "cell_type": "code",
   "execution_count": 58,
   "id": "1c8dace8",
   "metadata": {},
   "outputs": [],
   "source": [
    "data_per_month['mb_per_month_included'] = data_per_month['mb_per_month_included']/1024"
   ]
  },
  {
   "cell_type": "code",
   "execution_count": 59,
   "id": "cd149205",
   "metadata": {},
   "outputs": [],
   "source": [
    "data_per_month.rename(columns={'mb_per_month_included':'gb_per_month_included'}, inplace=True)"
   ]
  },
  {
   "cell_type": "code",
   "execution_count": 60,
   "id": "1d9404ee",
   "metadata": {},
   "outputs": [],
   "source": [
    "data_per_month.sort_values(by=['user_id', 'month'], inplace=True)"
   ]
  },
  {
   "cell_type": "markdown",
   "id": "a91f7ca5",
   "metadata": {},
   "source": [
    "Напишем фонкцию для замены типа данных"
   ]
  },
  {
   "cell_type": "code",
   "execution_count": 61,
   "id": "d267a8d4",
   "metadata": {},
   "outputs": [],
   "source": [
    "def change_type(df, column, dtype):\n",
    "    df[column] = df[column].astype(dtype)\n",
    "    return df"
   ]
  },
  {
   "cell_type": "code",
   "execution_count": 62,
   "id": "684ba047",
   "metadata": {},
   "outputs": [],
   "source": [
    "data_per_month_columns = ['month', 'calls_count', 'calls_sum', \n",
    "                          'messages_count', 'gb_used_sum', 'gb_per_month_included']\n",
    "for column in data_per_month_columns:\n",
    "    change_type(data_per_month, column, 'int')"
   ]
  },
  {
   "cell_type": "code",
   "execution_count": 63,
   "id": "3ecb886a",
   "metadata": {},
   "outputs": [
    {
     "data": {
      "text/html": [
       "<div>\n",
       "<style scoped>\n",
       "    .dataframe tbody tr th:only-of-type {\n",
       "        vertical-align: middle;\n",
       "    }\n",
       "\n",
       "    .dataframe tbody tr th {\n",
       "        vertical-align: top;\n",
       "    }\n",
       "\n",
       "    .dataframe thead th {\n",
       "        text-align: right;\n",
       "    }\n",
       "</style>\n",
       "<table border=\"1\" class=\"dataframe\">\n",
       "  <thead>\n",
       "    <tr style=\"text-align: right;\">\n",
       "      <th></th>\n",
       "      <th>user_id</th>\n",
       "      <th>month</th>\n",
       "      <th>calls_count</th>\n",
       "      <th>calls_sum</th>\n",
       "      <th>messages_count</th>\n",
       "      <th>gb_used_sum</th>\n",
       "      <th>city</th>\n",
       "      <th>tariff_name</th>\n",
       "      <th>messages_included</th>\n",
       "      <th>gb_per_month_included</th>\n",
       "      <th>minutes_included</th>\n",
       "      <th>rub_monthly_fee</th>\n",
       "      <th>rub_per_gb</th>\n",
       "      <th>rub_per_message</th>\n",
       "      <th>rub_per_minute</th>\n",
       "    </tr>\n",
       "  </thead>\n",
       "  <tbody>\n",
       "    <tr>\n",
       "      <th>0</th>\n",
       "      <td>1000</td>\n",
       "      <td>5</td>\n",
       "      <td>22</td>\n",
       "      <td>159</td>\n",
       "      <td>22</td>\n",
       "      <td>3</td>\n",
       "      <td>Краснодар</td>\n",
       "      <td>ultra</td>\n",
       "      <td>1000</td>\n",
       "      <td>30</td>\n",
       "      <td>3000</td>\n",
       "      <td>1950</td>\n",
       "      <td>150</td>\n",
       "      <td>1</td>\n",
       "      <td>1</td>\n",
       "    </tr>\n",
       "    <tr>\n",
       "      <th>1</th>\n",
       "      <td>1000</td>\n",
       "      <td>6</td>\n",
       "      <td>43</td>\n",
       "      <td>172</td>\n",
       "      <td>60</td>\n",
       "      <td>24</td>\n",
       "      <td>Краснодар</td>\n",
       "      <td>ultra</td>\n",
       "      <td>1000</td>\n",
       "      <td>30</td>\n",
       "      <td>3000</td>\n",
       "      <td>1950</td>\n",
       "      <td>150</td>\n",
       "      <td>1</td>\n",
       "      <td>1</td>\n",
       "    </tr>\n",
       "    <tr>\n",
       "      <th>2</th>\n",
       "      <td>1000</td>\n",
       "      <td>7</td>\n",
       "      <td>47</td>\n",
       "      <td>340</td>\n",
       "      <td>75</td>\n",
       "      <td>15</td>\n",
       "      <td>Краснодар</td>\n",
       "      <td>ultra</td>\n",
       "      <td>1000</td>\n",
       "      <td>30</td>\n",
       "      <td>3000</td>\n",
       "      <td>1950</td>\n",
       "      <td>150</td>\n",
       "      <td>1</td>\n",
       "      <td>1</td>\n",
       "    </tr>\n",
       "    <tr>\n",
       "      <th>3</th>\n",
       "      <td>1000</td>\n",
       "      <td>8</td>\n",
       "      <td>52</td>\n",
       "      <td>408</td>\n",
       "      <td>81</td>\n",
       "      <td>15</td>\n",
       "      <td>Краснодар</td>\n",
       "      <td>ultra</td>\n",
       "      <td>1000</td>\n",
       "      <td>30</td>\n",
       "      <td>3000</td>\n",
       "      <td>1950</td>\n",
       "      <td>150</td>\n",
       "      <td>1</td>\n",
       "      <td>1</td>\n",
       "    </tr>\n",
       "    <tr>\n",
       "      <th>4</th>\n",
       "      <td>1000</td>\n",
       "      <td>9</td>\n",
       "      <td>58</td>\n",
       "      <td>466</td>\n",
       "      <td>57</td>\n",
       "      <td>15</td>\n",
       "      <td>Краснодар</td>\n",
       "      <td>ultra</td>\n",
       "      <td>1000</td>\n",
       "      <td>30</td>\n",
       "      <td>3000</td>\n",
       "      <td>1950</td>\n",
       "      <td>150</td>\n",
       "      <td>1</td>\n",
       "      <td>1</td>\n",
       "    </tr>\n",
       "    <tr>\n",
       "      <th>5</th>\n",
       "      <td>1000</td>\n",
       "      <td>10</td>\n",
       "      <td>57</td>\n",
       "      <td>350</td>\n",
       "      <td>73</td>\n",
       "      <td>15</td>\n",
       "      <td>Краснодар</td>\n",
       "      <td>ultra</td>\n",
       "      <td>1000</td>\n",
       "      <td>30</td>\n",
       "      <td>3000</td>\n",
       "      <td>1950</td>\n",
       "      <td>150</td>\n",
       "      <td>1</td>\n",
       "      <td>1</td>\n",
       "    </tr>\n",
       "    <tr>\n",
       "      <th>6</th>\n",
       "      <td>1000</td>\n",
       "      <td>11</td>\n",
       "      <td>43</td>\n",
       "      <td>338</td>\n",
       "      <td>58</td>\n",
       "      <td>15</td>\n",
       "      <td>Краснодар</td>\n",
       "      <td>ultra</td>\n",
       "      <td>1000</td>\n",
       "      <td>30</td>\n",
       "      <td>3000</td>\n",
       "      <td>1950</td>\n",
       "      <td>150</td>\n",
       "      <td>1</td>\n",
       "      <td>1</td>\n",
       "    </tr>\n",
       "    <tr>\n",
       "      <th>7</th>\n",
       "      <td>1000</td>\n",
       "      <td>12</td>\n",
       "      <td>46</td>\n",
       "      <td>333</td>\n",
       "      <td>70</td>\n",
       "      <td>10</td>\n",
       "      <td>Краснодар</td>\n",
       "      <td>ultra</td>\n",
       "      <td>1000</td>\n",
       "      <td>30</td>\n",
       "      <td>3000</td>\n",
       "      <td>1950</td>\n",
       "      <td>150</td>\n",
       "      <td>1</td>\n",
       "      <td>1</td>\n",
       "    </tr>\n",
       "    <tr>\n",
       "      <th>986</th>\n",
       "      <td>1001</td>\n",
       "      <td>11</td>\n",
       "      <td>59</td>\n",
       "      <td>430</td>\n",
       "      <td>0</td>\n",
       "      <td>19</td>\n",
       "      <td>Москва</td>\n",
       "      <td>smart</td>\n",
       "      <td>50</td>\n",
       "      <td>15</td>\n",
       "      <td>500</td>\n",
       "      <td>550</td>\n",
       "      <td>200</td>\n",
       "      <td>3</td>\n",
       "      <td>3</td>\n",
       "    </tr>\n",
       "    <tr>\n",
       "      <th>987</th>\n",
       "      <td>1001</td>\n",
       "      <td>12</td>\n",
       "      <td>63</td>\n",
       "      <td>414</td>\n",
       "      <td>0</td>\n",
       "      <td>15</td>\n",
       "      <td>Москва</td>\n",
       "      <td>smart</td>\n",
       "      <td>50</td>\n",
       "      <td>15</td>\n",
       "      <td>500</td>\n",
       "      <td>550</td>\n",
       "      <td>200</td>\n",
       "      <td>3</td>\n",
       "      <td>3</td>\n",
       "    </tr>\n",
       "  </tbody>\n",
       "</table>\n",
       "</div>"
      ],
      "text/plain": [
       "     user_id  month  calls_count  calls_sum  messages_count  gb_used_sum  \\\n",
       "0       1000      5           22        159              22            3   \n",
       "1       1000      6           43        172              60           24   \n",
       "2       1000      7           47        340              75           15   \n",
       "3       1000      8           52        408              81           15   \n",
       "4       1000      9           58        466              57           15   \n",
       "5       1000     10           57        350              73           15   \n",
       "6       1000     11           43        338              58           15   \n",
       "7       1000     12           46        333              70           10   \n",
       "986     1001     11           59        430               0           19   \n",
       "987     1001     12           63        414               0           15   \n",
       "\n",
       "          city tariff_name  messages_included  gb_per_month_included  \\\n",
       "0    Краснодар       ultra               1000                     30   \n",
       "1    Краснодар       ultra               1000                     30   \n",
       "2    Краснодар       ultra               1000                     30   \n",
       "3    Краснодар       ultra               1000                     30   \n",
       "4    Краснодар       ultra               1000                     30   \n",
       "5    Краснодар       ultra               1000                     30   \n",
       "6    Краснодар       ultra               1000                     30   \n",
       "7    Краснодар       ultra               1000                     30   \n",
       "986     Москва       smart                 50                     15   \n",
       "987     Москва       smart                 50                     15   \n",
       "\n",
       "     minutes_included  rub_monthly_fee  rub_per_gb  rub_per_message  \\\n",
       "0                3000             1950         150                1   \n",
       "1                3000             1950         150                1   \n",
       "2                3000             1950         150                1   \n",
       "3                3000             1950         150                1   \n",
       "4                3000             1950         150                1   \n",
       "5                3000             1950         150                1   \n",
       "6                3000             1950         150                1   \n",
       "7                3000             1950         150                1   \n",
       "986               500              550         200                3   \n",
       "987               500              550         200                3   \n",
       "\n",
       "     rub_per_minute  \n",
       "0                 1  \n",
       "1                 1  \n",
       "2                 1  \n",
       "3                 1  \n",
       "4                 1  \n",
       "5                 1  \n",
       "6                 1  \n",
       "7                 1  \n",
       "986               3  \n",
       "987               3  "
      ]
     },
     "execution_count": 63,
     "metadata": {},
     "output_type": "execute_result"
    }
   ],
   "source": [
    "data_per_month.head(10)"
   ]
  },
  {
   "cell_type": "markdown",
   "id": "67f8856f",
   "metadata": {},
   "source": [
    "Напишем функцию для подсчета помесячной выручки с каждого пользователя. Для этого вычтем бесплатный лимит из суммарного количества звонков, сообщений и интернет-трафика; остаток умножим на значение из тарифного плана; прибавим абонентскую плату, соответствующую тарифному плану"
   ]
  },
  {
   "cell_type": "code",
   "execution_count": 64,
   "id": "3701bfba",
   "metadata": {},
   "outputs": [],
   "source": [
    "# на вход функции подается строка датасета\n",
    "def income_sum(row):\n",
    "    \n",
    "    # считаем прибыль от звонков\n",
    "    calls_income = (row['calls_sum'] - row['minutes_included']) * row['rub_per_minute']\n",
    "    \n",
    "    # если значение отрицательно, то пользователь не привысил лимит, следовательно значение зануляем\n",
    "    if calls_income < 0:\n",
    "        calls_income = 0\n",
    "        \n",
    "    # считаем прибыль от сообщений\n",
    "    messages_income = (row['messages_count'] - row['messages_included']) * row['rub_per_message']\n",
    "    \n",
    "    # если значение отрицательно, то пользователь не привысил лимит, следовательно значение зануляем\n",
    "    if messages_income < 0:\n",
    "        messages_income = 0\n",
    "        \n",
    "    # считаем прибыль от интернета\n",
    "    internet_income = (row['gb_used_sum'] - row['gb_per_month_included']) * row['rub_per_gb']\n",
    "    \n",
    "    # если значение отрицательно, то пользователь не привысил лимит, следовательно значение зануляем\n",
    "    if internet_income < 0:\n",
    "        internet_income = 0\n",
    "        \n",
    "    # к стоимости тарифа прибавляем дополнительную прибыль    \n",
    "    income = row['rub_monthly_fee'] + calls_income + messages_income + internet_income\n",
    "    \n",
    "    # возращаем сумму прибыли\n",
    "    return income"
   ]
  },
  {
   "cell_type": "markdown",
   "id": "dd367cb7",
   "metadata": {},
   "source": [
    "Создадим столбец `income` с помесячной выручкой для каждого пользователя и посмотрим на результат"
   ]
  },
  {
   "cell_type": "code",
   "execution_count": 65,
   "id": "38362010",
   "metadata": {},
   "outputs": [],
   "source": [
    "data_per_month['income'] = data_per_month.apply(income_sum, axis=1)"
   ]
  },
  {
   "cell_type": "code",
   "execution_count": 66,
   "id": "46d2f781",
   "metadata": {},
   "outputs": [
    {
     "data": {
      "text/html": [
       "<div>\n",
       "<style scoped>\n",
       "    .dataframe tbody tr th:only-of-type {\n",
       "        vertical-align: middle;\n",
       "    }\n",
       "\n",
       "    .dataframe tbody tr th {\n",
       "        vertical-align: top;\n",
       "    }\n",
       "\n",
       "    .dataframe thead th {\n",
       "        text-align: right;\n",
       "    }\n",
       "</style>\n",
       "<table border=\"1\" class=\"dataframe\">\n",
       "  <thead>\n",
       "    <tr style=\"text-align: right;\">\n",
       "      <th></th>\n",
       "      <th>user_id</th>\n",
       "      <th>month</th>\n",
       "      <th>calls_count</th>\n",
       "      <th>calls_sum</th>\n",
       "      <th>messages_count</th>\n",
       "      <th>gb_used_sum</th>\n",
       "      <th>city</th>\n",
       "      <th>tariff_name</th>\n",
       "      <th>messages_included</th>\n",
       "      <th>gb_per_month_included</th>\n",
       "      <th>minutes_included</th>\n",
       "      <th>rub_monthly_fee</th>\n",
       "      <th>rub_per_gb</th>\n",
       "      <th>rub_per_message</th>\n",
       "      <th>rub_per_minute</th>\n",
       "      <th>income</th>\n",
       "    </tr>\n",
       "  </thead>\n",
       "  <tbody>\n",
       "    <tr>\n",
       "      <th>0</th>\n",
       "      <td>1000</td>\n",
       "      <td>5</td>\n",
       "      <td>22</td>\n",
       "      <td>159</td>\n",
       "      <td>22</td>\n",
       "      <td>3</td>\n",
       "      <td>Краснодар</td>\n",
       "      <td>ultra</td>\n",
       "      <td>1000</td>\n",
       "      <td>30</td>\n",
       "      <td>3000</td>\n",
       "      <td>1950</td>\n",
       "      <td>150</td>\n",
       "      <td>1</td>\n",
       "      <td>1</td>\n",
       "      <td>1950</td>\n",
       "    </tr>\n",
       "    <tr>\n",
       "      <th>1</th>\n",
       "      <td>1000</td>\n",
       "      <td>6</td>\n",
       "      <td>43</td>\n",
       "      <td>172</td>\n",
       "      <td>60</td>\n",
       "      <td>24</td>\n",
       "      <td>Краснодар</td>\n",
       "      <td>ultra</td>\n",
       "      <td>1000</td>\n",
       "      <td>30</td>\n",
       "      <td>3000</td>\n",
       "      <td>1950</td>\n",
       "      <td>150</td>\n",
       "      <td>1</td>\n",
       "      <td>1</td>\n",
       "      <td>1950</td>\n",
       "    </tr>\n",
       "    <tr>\n",
       "      <th>2</th>\n",
       "      <td>1000</td>\n",
       "      <td>7</td>\n",
       "      <td>47</td>\n",
       "      <td>340</td>\n",
       "      <td>75</td>\n",
       "      <td>15</td>\n",
       "      <td>Краснодар</td>\n",
       "      <td>ultra</td>\n",
       "      <td>1000</td>\n",
       "      <td>30</td>\n",
       "      <td>3000</td>\n",
       "      <td>1950</td>\n",
       "      <td>150</td>\n",
       "      <td>1</td>\n",
       "      <td>1</td>\n",
       "      <td>1950</td>\n",
       "    </tr>\n",
       "    <tr>\n",
       "      <th>3</th>\n",
       "      <td>1000</td>\n",
       "      <td>8</td>\n",
       "      <td>52</td>\n",
       "      <td>408</td>\n",
       "      <td>81</td>\n",
       "      <td>15</td>\n",
       "      <td>Краснодар</td>\n",
       "      <td>ultra</td>\n",
       "      <td>1000</td>\n",
       "      <td>30</td>\n",
       "      <td>3000</td>\n",
       "      <td>1950</td>\n",
       "      <td>150</td>\n",
       "      <td>1</td>\n",
       "      <td>1</td>\n",
       "      <td>1950</td>\n",
       "    </tr>\n",
       "    <tr>\n",
       "      <th>4</th>\n",
       "      <td>1000</td>\n",
       "      <td>9</td>\n",
       "      <td>58</td>\n",
       "      <td>466</td>\n",
       "      <td>57</td>\n",
       "      <td>15</td>\n",
       "      <td>Краснодар</td>\n",
       "      <td>ultra</td>\n",
       "      <td>1000</td>\n",
       "      <td>30</td>\n",
       "      <td>3000</td>\n",
       "      <td>1950</td>\n",
       "      <td>150</td>\n",
       "      <td>1</td>\n",
       "      <td>1</td>\n",
       "      <td>1950</td>\n",
       "    </tr>\n",
       "    <tr>\n",
       "      <th>5</th>\n",
       "      <td>1000</td>\n",
       "      <td>10</td>\n",
       "      <td>57</td>\n",
       "      <td>350</td>\n",
       "      <td>73</td>\n",
       "      <td>15</td>\n",
       "      <td>Краснодар</td>\n",
       "      <td>ultra</td>\n",
       "      <td>1000</td>\n",
       "      <td>30</td>\n",
       "      <td>3000</td>\n",
       "      <td>1950</td>\n",
       "      <td>150</td>\n",
       "      <td>1</td>\n",
       "      <td>1</td>\n",
       "      <td>1950</td>\n",
       "    </tr>\n",
       "    <tr>\n",
       "      <th>6</th>\n",
       "      <td>1000</td>\n",
       "      <td>11</td>\n",
       "      <td>43</td>\n",
       "      <td>338</td>\n",
       "      <td>58</td>\n",
       "      <td>15</td>\n",
       "      <td>Краснодар</td>\n",
       "      <td>ultra</td>\n",
       "      <td>1000</td>\n",
       "      <td>30</td>\n",
       "      <td>3000</td>\n",
       "      <td>1950</td>\n",
       "      <td>150</td>\n",
       "      <td>1</td>\n",
       "      <td>1</td>\n",
       "      <td>1950</td>\n",
       "    </tr>\n",
       "    <tr>\n",
       "      <th>7</th>\n",
       "      <td>1000</td>\n",
       "      <td>12</td>\n",
       "      <td>46</td>\n",
       "      <td>333</td>\n",
       "      <td>70</td>\n",
       "      <td>10</td>\n",
       "      <td>Краснодар</td>\n",
       "      <td>ultra</td>\n",
       "      <td>1000</td>\n",
       "      <td>30</td>\n",
       "      <td>3000</td>\n",
       "      <td>1950</td>\n",
       "      <td>150</td>\n",
       "      <td>1</td>\n",
       "      <td>1</td>\n",
       "      <td>1950</td>\n",
       "    </tr>\n",
       "    <tr>\n",
       "      <th>986</th>\n",
       "      <td>1001</td>\n",
       "      <td>11</td>\n",
       "      <td>59</td>\n",
       "      <td>430</td>\n",
       "      <td>0</td>\n",
       "      <td>19</td>\n",
       "      <td>Москва</td>\n",
       "      <td>smart</td>\n",
       "      <td>50</td>\n",
       "      <td>15</td>\n",
       "      <td>500</td>\n",
       "      <td>550</td>\n",
       "      <td>200</td>\n",
       "      <td>3</td>\n",
       "      <td>3</td>\n",
       "      <td>1350</td>\n",
       "    </tr>\n",
       "    <tr>\n",
       "      <th>987</th>\n",
       "      <td>1001</td>\n",
       "      <td>12</td>\n",
       "      <td>63</td>\n",
       "      <td>414</td>\n",
       "      <td>0</td>\n",
       "      <td>15</td>\n",
       "      <td>Москва</td>\n",
       "      <td>smart</td>\n",
       "      <td>50</td>\n",
       "      <td>15</td>\n",
       "      <td>500</td>\n",
       "      <td>550</td>\n",
       "      <td>200</td>\n",
       "      <td>3</td>\n",
       "      <td>3</td>\n",
       "      <td>550</td>\n",
       "    </tr>\n",
       "  </tbody>\n",
       "</table>\n",
       "</div>"
      ],
      "text/plain": [
       "     user_id  month  calls_count  calls_sum  messages_count  gb_used_sum  \\\n",
       "0       1000      5           22        159              22            3   \n",
       "1       1000      6           43        172              60           24   \n",
       "2       1000      7           47        340              75           15   \n",
       "3       1000      8           52        408              81           15   \n",
       "4       1000      9           58        466              57           15   \n",
       "5       1000     10           57        350              73           15   \n",
       "6       1000     11           43        338              58           15   \n",
       "7       1000     12           46        333              70           10   \n",
       "986     1001     11           59        430               0           19   \n",
       "987     1001     12           63        414               0           15   \n",
       "\n",
       "          city tariff_name  messages_included  gb_per_month_included  \\\n",
       "0    Краснодар       ultra               1000                     30   \n",
       "1    Краснодар       ultra               1000                     30   \n",
       "2    Краснодар       ultra               1000                     30   \n",
       "3    Краснодар       ultra               1000                     30   \n",
       "4    Краснодар       ultra               1000                     30   \n",
       "5    Краснодар       ultra               1000                     30   \n",
       "6    Краснодар       ultra               1000                     30   \n",
       "7    Краснодар       ultra               1000                     30   \n",
       "986     Москва       smart                 50                     15   \n",
       "987     Москва       smart                 50                     15   \n",
       "\n",
       "     minutes_included  rub_monthly_fee  rub_per_gb  rub_per_message  \\\n",
       "0                3000             1950         150                1   \n",
       "1                3000             1950         150                1   \n",
       "2                3000             1950         150                1   \n",
       "3                3000             1950         150                1   \n",
       "4                3000             1950         150                1   \n",
       "5                3000             1950         150                1   \n",
       "6                3000             1950         150                1   \n",
       "7                3000             1950         150                1   \n",
       "986               500              550         200                3   \n",
       "987               500              550         200                3   \n",
       "\n",
       "     rub_per_minute  income  \n",
       "0                 1    1950  \n",
       "1                 1    1950  \n",
       "2                 1    1950  \n",
       "3                 1    1950  \n",
       "4                 1    1950  \n",
       "5                 1    1950  \n",
       "6                 1    1950  \n",
       "7                 1    1950  \n",
       "986               3    1350  \n",
       "987               3     550  "
      ]
     },
     "execution_count": 66,
     "metadata": {},
     "output_type": "execute_result"
    }
   ],
   "source": [
    "data_per_month.head(10)"
   ]
  },
  {
   "cell_type": "markdown",
   "id": "cab431c7",
   "metadata": {},
   "source": [
    "Для дальнейшего анализа нам больше не нужна информация о стоимости внутри тарифа, поэтому предлагаю удалить лишние столбцы"
   ]
  },
  {
   "cell_type": "code",
   "execution_count": 67,
   "id": "34556ad7",
   "metadata": {},
   "outputs": [],
   "source": [
    "data_per_month.drop(columns=['messages_included', 'gb_per_month_included', \n",
    "                     'minutes_included', 'rub_per_gb',\n",
    "                    'rub_per_message', 'rub_per_minute'], inplace=True)"
   ]
  },
  {
   "cell_type": "code",
   "execution_count": 68,
   "id": "dd0512c4",
   "metadata": {},
   "outputs": [
    {
     "data": {
      "text/html": [
       "<div>\n",
       "<style scoped>\n",
       "    .dataframe tbody tr th:only-of-type {\n",
       "        vertical-align: middle;\n",
       "    }\n",
       "\n",
       "    .dataframe tbody tr th {\n",
       "        vertical-align: top;\n",
       "    }\n",
       "\n",
       "    .dataframe thead th {\n",
       "        text-align: right;\n",
       "    }\n",
       "</style>\n",
       "<table border=\"1\" class=\"dataframe\">\n",
       "  <thead>\n",
       "    <tr style=\"text-align: right;\">\n",
       "      <th></th>\n",
       "      <th>user_id</th>\n",
       "      <th>month</th>\n",
       "      <th>calls_count</th>\n",
       "      <th>calls_sum</th>\n",
       "      <th>messages_count</th>\n",
       "      <th>gb_used_sum</th>\n",
       "      <th>city</th>\n",
       "      <th>tariff_name</th>\n",
       "      <th>rub_monthly_fee</th>\n",
       "      <th>income</th>\n",
       "    </tr>\n",
       "  </thead>\n",
       "  <tbody>\n",
       "    <tr>\n",
       "      <th>0</th>\n",
       "      <td>1000</td>\n",
       "      <td>5</td>\n",
       "      <td>22</td>\n",
       "      <td>159</td>\n",
       "      <td>22</td>\n",
       "      <td>3</td>\n",
       "      <td>Краснодар</td>\n",
       "      <td>ultra</td>\n",
       "      <td>1950</td>\n",
       "      <td>1950</td>\n",
       "    </tr>\n",
       "    <tr>\n",
       "      <th>1</th>\n",
       "      <td>1000</td>\n",
       "      <td>6</td>\n",
       "      <td>43</td>\n",
       "      <td>172</td>\n",
       "      <td>60</td>\n",
       "      <td>24</td>\n",
       "      <td>Краснодар</td>\n",
       "      <td>ultra</td>\n",
       "      <td>1950</td>\n",
       "      <td>1950</td>\n",
       "    </tr>\n",
       "    <tr>\n",
       "      <th>2</th>\n",
       "      <td>1000</td>\n",
       "      <td>7</td>\n",
       "      <td>47</td>\n",
       "      <td>340</td>\n",
       "      <td>75</td>\n",
       "      <td>15</td>\n",
       "      <td>Краснодар</td>\n",
       "      <td>ultra</td>\n",
       "      <td>1950</td>\n",
       "      <td>1950</td>\n",
       "    </tr>\n",
       "    <tr>\n",
       "      <th>3</th>\n",
       "      <td>1000</td>\n",
       "      <td>8</td>\n",
       "      <td>52</td>\n",
       "      <td>408</td>\n",
       "      <td>81</td>\n",
       "      <td>15</td>\n",
       "      <td>Краснодар</td>\n",
       "      <td>ultra</td>\n",
       "      <td>1950</td>\n",
       "      <td>1950</td>\n",
       "    </tr>\n",
       "    <tr>\n",
       "      <th>4</th>\n",
       "      <td>1000</td>\n",
       "      <td>9</td>\n",
       "      <td>58</td>\n",
       "      <td>466</td>\n",
       "      <td>57</td>\n",
       "      <td>15</td>\n",
       "      <td>Краснодар</td>\n",
       "      <td>ultra</td>\n",
       "      <td>1950</td>\n",
       "      <td>1950</td>\n",
       "    </tr>\n",
       "    <tr>\n",
       "      <th>5</th>\n",
       "      <td>1000</td>\n",
       "      <td>10</td>\n",
       "      <td>57</td>\n",
       "      <td>350</td>\n",
       "      <td>73</td>\n",
       "      <td>15</td>\n",
       "      <td>Краснодар</td>\n",
       "      <td>ultra</td>\n",
       "      <td>1950</td>\n",
       "      <td>1950</td>\n",
       "    </tr>\n",
       "    <tr>\n",
       "      <th>6</th>\n",
       "      <td>1000</td>\n",
       "      <td>11</td>\n",
       "      <td>43</td>\n",
       "      <td>338</td>\n",
       "      <td>58</td>\n",
       "      <td>15</td>\n",
       "      <td>Краснодар</td>\n",
       "      <td>ultra</td>\n",
       "      <td>1950</td>\n",
       "      <td>1950</td>\n",
       "    </tr>\n",
       "    <tr>\n",
       "      <th>7</th>\n",
       "      <td>1000</td>\n",
       "      <td>12</td>\n",
       "      <td>46</td>\n",
       "      <td>333</td>\n",
       "      <td>70</td>\n",
       "      <td>10</td>\n",
       "      <td>Краснодар</td>\n",
       "      <td>ultra</td>\n",
       "      <td>1950</td>\n",
       "      <td>1950</td>\n",
       "    </tr>\n",
       "    <tr>\n",
       "      <th>986</th>\n",
       "      <td>1001</td>\n",
       "      <td>11</td>\n",
       "      <td>59</td>\n",
       "      <td>430</td>\n",
       "      <td>0</td>\n",
       "      <td>19</td>\n",
       "      <td>Москва</td>\n",
       "      <td>smart</td>\n",
       "      <td>550</td>\n",
       "      <td>1350</td>\n",
       "    </tr>\n",
       "    <tr>\n",
       "      <th>987</th>\n",
       "      <td>1001</td>\n",
       "      <td>12</td>\n",
       "      <td>63</td>\n",
       "      <td>414</td>\n",
       "      <td>0</td>\n",
       "      <td>15</td>\n",
       "      <td>Москва</td>\n",
       "      <td>smart</td>\n",
       "      <td>550</td>\n",
       "      <td>550</td>\n",
       "    </tr>\n",
       "  </tbody>\n",
       "</table>\n",
       "</div>"
      ],
      "text/plain": [
       "     user_id  month  calls_count  calls_sum  messages_count  gb_used_sum  \\\n",
       "0       1000      5           22        159              22            3   \n",
       "1       1000      6           43        172              60           24   \n",
       "2       1000      7           47        340              75           15   \n",
       "3       1000      8           52        408              81           15   \n",
       "4       1000      9           58        466              57           15   \n",
       "5       1000     10           57        350              73           15   \n",
       "6       1000     11           43        338              58           15   \n",
       "7       1000     12           46        333              70           10   \n",
       "986     1001     11           59        430               0           19   \n",
       "987     1001     12           63        414               0           15   \n",
       "\n",
       "          city tariff_name  rub_monthly_fee  income  \n",
       "0    Краснодар       ultra             1950    1950  \n",
       "1    Краснодар       ultra             1950    1950  \n",
       "2    Краснодар       ultra             1950    1950  \n",
       "3    Краснодар       ultra             1950    1950  \n",
       "4    Краснодар       ultra             1950    1950  \n",
       "5    Краснодар       ultra             1950    1950  \n",
       "6    Краснодар       ultra             1950    1950  \n",
       "7    Краснодар       ultra             1950    1950  \n",
       "986     Москва       smart              550    1350  \n",
       "987     Москва       smart              550     550  "
      ]
     },
     "execution_count": 68,
     "metadata": {},
     "output_type": "execute_result"
    }
   ],
   "source": [
    "data_per_month.head(10)"
   ]
  },
  {
   "cell_type": "markdown",
   "id": "6f0db4a1",
   "metadata": {},
   "source": [
    "### Вывод"
   ]
  },
  {
   "cell_type": "markdown",
   "id": "acb0496e",
   "metadata": {},
   "source": [
    "На данном шаге мы создавали сводные таблицы со следующей информацией:\n",
    "- количество сделанных звонков и израсходованных минут разговора по месяцам;\n",
    "- количество отправленных сообщений по месяцам;\n",
    "- объем израсходованного интернет-трафика по месяцам. \n",
    "\n",
    "После их создания, мы объеденили их в одну таблицу, так же объеденили с таблицей с информацией о тарифах, после чего расчитали помесячную выручку по каждому пользователю. Теперь таблица готова для дальнейшего анализа."
   ]
  },
  {
   "cell_type": "markdown",
   "id": "6095d36e",
   "metadata": {},
   "source": [
    "## Общий вывод после предобработки данных"
   ]
  },
  {
   "cell_type": "markdown",
   "id": "a43593fc",
   "metadata": {},
   "source": [
    "На данном шаге мы предобработали таблицы `users_df`, `calls_df`, `internet_df`, `messages_df`.  \n",
    "1) В таблице `users_df` привели столбцы `churn_date` и `reg_date` к типу данных **datetime**.\n",
    "\n",
    "2) В таблице `calls_df` округлили время звонка в столбце `duration` до целых минут в большую сторону и привели столбцы к нужным типам данных:\n",
    "- столбец `duration` к типу **int**\n",
    "- столбец `call_date` к типу **datetime**  \n",
    "\n",
    "3) Из таблицы **internet_df** удалим столбец `Unnamed: 0` так как он дублирует значение индексов.  \n",
    "Округлили значения в столбце `mb_used` до целых чисел.  \n",
    "Привели столбцы к нужным форматам данных:\n",
    "- столбец `mb_used` к типу **int**\n",
    "- столбец `session_date` к типу **datetime**\n",
    "\n",
    "4) В таблице `messages_df` привели столбец `message_date` к типу данных **datetime**.\n",
    "\n",
    "Так же мы создали сводные таблицы со следующей информацией:\n",
    "- количество сделанных звонков и израсходованных минут разговора по месяцам;\n",
    "- количество отправленных сообщений по месяцам;\n",
    "- объем израсходованного интернет-трафика по месяцам. \n",
    "\n",
    "После их создания, мы объеденили их в одну таблицу, так же объеденили с таблицей с информацией о тарифах, после чего расчитали помесячную выручку по каждому пользователю и теперь можем использовать таблицу для дальнейшего анализа."
   ]
  },
  {
   "cell_type": "markdown",
   "id": "1dff79e8",
   "metadata": {},
   "source": [
    "# Анализ данных"
   ]
  },
  {
   "cell_type": "markdown",
   "id": "16d61560",
   "metadata": {},
   "source": [
    "Построим сводную таблицу с информацией о том сколько минут разговора, сколько сообщений и какой объём интернет-трафика требуется пользователям каждого тарифа в месяц. Посчитаем среднее количество, дисперсию и стандартное отклонение, и для наглядности построим гистограммы."
   ]
  },
  {
   "cell_type": "code",
   "execution_count": 69,
   "id": "78b1a537",
   "metadata": {},
   "outputs": [
    {
     "data": {
      "text/html": [
       "<div>\n",
       "<style scoped>\n",
       "    .dataframe tbody tr th:only-of-type {\n",
       "        vertical-align: middle;\n",
       "    }\n",
       "\n",
       "    .dataframe tbody tr th {\n",
       "        vertical-align: top;\n",
       "    }\n",
       "\n",
       "    .dataframe thead th {\n",
       "        text-align: right;\n",
       "    }\n",
       "</style>\n",
       "<table border=\"1\" class=\"dataframe\">\n",
       "  <thead>\n",
       "    <tr style=\"text-align: right;\">\n",
       "      <th></th>\n",
       "      <th>tariff_name</th>\n",
       "      <th>calls_sum</th>\n",
       "      <th>gb_used_sum</th>\n",
       "      <th>messages_count</th>\n",
       "    </tr>\n",
       "    <tr>\n",
       "      <th>user_id</th>\n",
       "      <th></th>\n",
       "      <th></th>\n",
       "      <th></th>\n",
       "      <th></th>\n",
       "    </tr>\n",
       "  </thead>\n",
       "  <tbody>\n",
       "    <tr>\n",
       "      <th>1000</th>\n",
       "      <td>ultra</td>\n",
       "      <td>339.0</td>\n",
       "      <td>15.0</td>\n",
       "      <td>65.0</td>\n",
       "    </tr>\n",
       "    <tr>\n",
       "      <th>1001</th>\n",
       "      <td>smart</td>\n",
       "      <td>422.0</td>\n",
       "      <td>17.0</td>\n",
       "      <td>0.0</td>\n",
       "    </tr>\n",
       "    <tr>\n",
       "      <th>1002</th>\n",
       "      <td>smart</td>\n",
       "      <td>214.0</td>\n",
       "      <td>18.0</td>\n",
       "      <td>11.0</td>\n",
       "    </tr>\n",
       "    <tr>\n",
       "      <th>1003</th>\n",
       "      <td>ultra</td>\n",
       "      <td>824.0</td>\n",
       "      <td>12.0</td>\n",
       "      <td>83.0</td>\n",
       "    </tr>\n",
       "    <tr>\n",
       "      <th>1004</th>\n",
       "      <td>ultra</td>\n",
       "      <td>132.5</td>\n",
       "      <td>18.5</td>\n",
       "      <td>154.5</td>\n",
       "    </tr>\n",
       "    <tr>\n",
       "      <th>...</th>\n",
       "      <td>...</td>\n",
       "      <td>...</td>\n",
       "      <td>...</td>\n",
       "      <td>...</td>\n",
       "    </tr>\n",
       "    <tr>\n",
       "      <th>1495</th>\n",
       "      <td>ultra</td>\n",
       "      <td>954.0</td>\n",
       "      <td>30.0</td>\n",
       "      <td>82.0</td>\n",
       "    </tr>\n",
       "    <tr>\n",
       "      <th>1496</th>\n",
       "      <td>smart</td>\n",
       "      <td>524.0</td>\n",
       "      <td>24.5</td>\n",
       "      <td>41.5</td>\n",
       "    </tr>\n",
       "    <tr>\n",
       "      <th>1497</th>\n",
       "      <td>smart</td>\n",
       "      <td>490.0</td>\n",
       "      <td>15.0</td>\n",
       "      <td>17.0</td>\n",
       "    </tr>\n",
       "    <tr>\n",
       "      <th>1498</th>\n",
       "      <td>smart</td>\n",
       "      <td>323.5</td>\n",
       "      <td>22.0</td>\n",
       "      <td>43.0</td>\n",
       "    </tr>\n",
       "    <tr>\n",
       "      <th>1499</th>\n",
       "      <td>smart</td>\n",
       "      <td>470.5</td>\n",
       "      <td>16.0</td>\n",
       "      <td>53.5</td>\n",
       "    </tr>\n",
       "  </tbody>\n",
       "</table>\n",
       "<p>500 rows × 4 columns</p>\n",
       "</div>"
      ],
      "text/plain": [
       "        tariff_name  calls_sum  gb_used_sum  messages_count\n",
       "user_id                                                    \n",
       "1000          ultra      339.0         15.0            65.0\n",
       "1001          smart      422.0         17.0             0.0\n",
       "1002          smart      214.0         18.0            11.0\n",
       "1003          ultra      824.0         12.0            83.0\n",
       "1004          ultra      132.5         18.5           154.5\n",
       "...             ...        ...          ...             ...\n",
       "1495          ultra      954.0         30.0            82.0\n",
       "1496          smart      524.0         24.5            41.5\n",
       "1497          smart      490.0         15.0            17.0\n",
       "1498          smart      323.5         22.0            43.0\n",
       "1499          smart      470.5         16.0            53.5\n",
       "\n",
       "[500 rows x 4 columns]"
      ]
     },
     "execution_count": 69,
     "metadata": {},
     "output_type": "execute_result"
    }
   ],
   "source": [
    "data_per_month_avg = data_per_month.pivot_table(index=['user_id', 'tariff_name'], \n",
    "                           values=['calls_sum', 'messages_count', 'gb_used_sum'], \n",
    "                           aggfunc= 'median')\n",
    "\n",
    "data_per_month_avg.reset_index(level=['tariff_name'], inplace=True)\n",
    "\n",
    "data_per_month_avg"
   ]
  },
  {
   "cell_type": "markdown",
   "id": "0abe5044",
   "metadata": {},
   "source": [
    "## Займемся звонками"
   ]
  },
  {
   "cell_type": "markdown",
   "id": "46d9b062",
   "metadata": {},
   "source": [
    "Для каждого тарифа посчитаем среднее количество, медиану, дисперсию и стандартное отклонение минут разговора"
   ]
  },
  {
   "cell_type": "code",
   "execution_count": 70,
   "id": "1da09d17",
   "metadata": {},
   "outputs": [
    {
     "data": {
      "text/html": [
       "<div>\n",
       "<style scoped>\n",
       "    .dataframe tbody tr th:only-of-type {\n",
       "        vertical-align: middle;\n",
       "    }\n",
       "\n",
       "    .dataframe tbody tr th {\n",
       "        vertical-align: top;\n",
       "    }\n",
       "\n",
       "    .dataframe thead th {\n",
       "        text-align: right;\n",
       "    }\n",
       "</style>\n",
       "<table border=\"1\" class=\"dataframe\">\n",
       "  <thead>\n",
       "    <tr style=\"text-align: right;\">\n",
       "      <th></th>\n",
       "      <th>tariff_name</th>\n",
       "      <th>mean</th>\n",
       "      <th>median</th>\n",
       "      <th>std</th>\n",
       "      <th>var</th>\n",
       "    </tr>\n",
       "  </thead>\n",
       "  <tbody>\n",
       "    <tr>\n",
       "      <th>0</th>\n",
       "      <td>smart</td>\n",
       "      <td>436.222222</td>\n",
       "      <td>439.5</td>\n",
       "      <td>161.732006</td>\n",
       "      <td>26157.241905</td>\n",
       "    </tr>\n",
       "    <tr>\n",
       "      <th>1</th>\n",
       "      <td>ultra</td>\n",
       "      <td>553.761745</td>\n",
       "      <td>533.5</td>\n",
       "      <td>306.191059</td>\n",
       "      <td>93752.964810</td>\n",
       "    </tr>\n",
       "  </tbody>\n",
       "</table>\n",
       "</div>"
      ],
      "text/plain": [
       "  tariff_name        mean  median         std           var\n",
       "0       smart  436.222222   439.5  161.732006  26157.241905\n",
       "1       ultra  553.761745   533.5  306.191059  93752.964810"
      ]
     },
     "execution_count": 70,
     "metadata": {},
     "output_type": "execute_result"
    }
   ],
   "source": [
    "calls_stat = data_per_month_avg.pivot_table(index='tariff_name', values='calls_sum', \n",
    "                    aggfunc={'calls_sum': [np.mean, np.median, np.var, np.std]})\n",
    "calls_stat.reset_index(inplace=True)\n",
    "calls_stat"
   ]
  },
  {
   "cell_type": "markdown",
   "id": "d75ed1c9",
   "metadata": {},
   "source": [
    "Для наглядности отрисуем графики"
   ]
  },
  {
   "cell_type": "code",
   "execution_count": 71,
   "id": "49725461",
   "metadata": {},
   "outputs": [
    {
     "data": {
      "text/plain": [
       "Text(0, 0.5, 'Количество записей')"
      ]
     },
     "execution_count": 71,
     "metadata": {},
     "output_type": "execute_result"
    },
    {
     "data": {
      "image/png": "[encoded data removed]",
      "text/plain": [
       "<Figure size 1080x360 with 1 Axes>"
      ]
     },
     "metadata": {
      "needs_background": "light"
     },
     "output_type": "display_data"
    }
   ],
   "source": [
    "fig, ax = plt.subplots(figsize=(15,5))\n",
    "sns.histplot(data_per_month_avg, x='calls_sum', hue='tariff_name', stat='density', kde=True, ax=ax)\n",
    "plt.title('Среднее количество использованных минут')\n",
    "plt.xlabel('Количество использованных минут')\n",
    "plt.ylabel('Количество записей')"
   ]
  },
  {
   "cell_type": "code",
   "execution_count": 72,
   "id": "c4d320e0",
   "metadata": {},
   "outputs": [
    {
     "data": {
      "text/plain": [
       "Text(0, 0.5, 'Количество минут')"
      ]
     },
     "execution_count": 72,
     "metadata": {},
     "output_type": "execute_result"
    },
    {
     "data": {
      "image/png": "[encoded data removed]",
      "text/plain": [
       "<Figure size 1080x360 with 1 Axes>"
      ]
     },
     "metadata": {
      "needs_background": "light"
     },
     "output_type": "display_data"
    }
   ],
   "source": [
    "fig, ax = plt.subplots(figsize=(15,5))\n",
    "sns.boxplot(data=data_per_month_avg, x='tariff_name', y='calls_sum', ax=ax)\n",
    "plt.title('Среднее количество использованных минут')\n",
    "plt.xlabel('Название тарифа')\n",
    "plt.ylabel('Количество минут')"
   ]
  },
  {
   "cell_type": "markdown",
   "id": "adbdfe4a",
   "metadata": {},
   "source": [
    "### Вывод"
   ]
  },
  {
   "cell_type": "markdown",
   "id": "57a251c4",
   "metadata": {},
   "source": [
    "По тарифу **Смарт** получили следующие данные:\n",
    "1) Среднее время разговора по тарифу составляет 436 минут;   \n",
    "2) График имеет нормальное распределение;  \n",
    "3) Стандартное отклонение получили равное 161, следовательно разброс потраченных минут среди пользователей есть, но не очень большой по сравнению с тарифом **Ультра**, что видно из графика, он получился более вытяутый;  \n",
    "4) Из графиков видно, что есть небольшое количество выбросов.\n",
    "\n",
    "По тарифу **Ультра** получили следующие данные:\n",
    "1) Среднее время разговора по тарифу составляет 553 минуты;  \n",
    "2) График имеет нормальное распределение;  \n",
    "3) Стандартное отклонение получили равное 306, следовательно разброс потраченных минут среди пользователей есть и он больше чем у тарифа **Смарт**, что видно из графика, он получился более растянутый."
   ]
  },
  {
   "cell_type": "markdown",
   "id": "fbc0d49c",
   "metadata": {},
   "source": [
    "## Займемся сообщениями"
   ]
  },
  {
   "cell_type": "markdown",
   "id": "9d487257",
   "metadata": {},
   "source": [
    "Для каждого тарифа посчитаем среднее количество, медиану, дисперсию и стандартное отклонение отправленных сообщений"
   ]
  },
  {
   "cell_type": "code",
   "execution_count": 73,
   "id": "4e098fc1",
   "metadata": {},
   "outputs": [
    {
     "data": {
      "text/html": [
       "<div>\n",
       "<style scoped>\n",
       "    .dataframe tbody tr th:only-of-type {\n",
       "        vertical-align: middle;\n",
       "    }\n",
       "\n",
       "    .dataframe tbody tr th {\n",
       "        vertical-align: top;\n",
       "    }\n",
       "\n",
       "    .dataframe thead th {\n",
       "        text-align: right;\n",
       "    }\n",
       "</style>\n",
       "<table border=\"1\" class=\"dataframe\">\n",
       "  <thead>\n",
       "    <tr style=\"text-align: right;\">\n",
       "      <th></th>\n",
       "      <th>tariff_name</th>\n",
       "      <th>mean</th>\n",
       "      <th>median</th>\n",
       "      <th>std</th>\n",
       "      <th>var</th>\n",
       "    </tr>\n",
       "  </thead>\n",
       "  <tbody>\n",
       "    <tr>\n",
       "      <th>0</th>\n",
       "      <td>smart</td>\n",
       "      <td>33.673789</td>\n",
       "      <td>28.5</td>\n",
       "      <td>28.028628</td>\n",
       "      <td>785.603997</td>\n",
       "    </tr>\n",
       "    <tr>\n",
       "      <th>1</th>\n",
       "      <td>ultra</td>\n",
       "      <td>56.600671</td>\n",
       "      <td>47.5</td>\n",
       "      <td>49.291740</td>\n",
       "      <td>2429.675608</td>\n",
       "    </tr>\n",
       "  </tbody>\n",
       "</table>\n",
       "</div>"
      ],
      "text/plain": [
       "  tariff_name       mean  median        std          var\n",
       "0       smart  33.673789    28.5  28.028628   785.603997\n",
       "1       ultra  56.600671    47.5  49.291740  2429.675608"
      ]
     },
     "execution_count": 73,
     "metadata": {},
     "output_type": "execute_result"
    }
   ],
   "source": [
    "messages_stat = data_per_month_avg.pivot_table(index='tariff_name', values='messages_count', \n",
    "                    aggfunc={'messages_count': [np.mean, np.median, np.var, np.std]})\n",
    "messages_stat.reset_index(inplace=True)\n",
    "messages_stat"
   ]
  },
  {
   "cell_type": "markdown",
   "id": "f8d2b320",
   "metadata": {},
   "source": [
    "Для наглядности отрисуем графики"
   ]
  },
  {
   "cell_type": "code",
   "execution_count": 74,
   "id": "a207af68",
   "metadata": {},
   "outputs": [
    {
     "data": {
      "text/plain": [
       "Text(0, 0.5, 'Количество записей')"
      ]
     },
     "execution_count": 74,
     "metadata": {},
     "output_type": "execute_result"
    },
    {
     "data": {
      "image/png": "[encoded data removed]",
      "text/plain": [
       "<Figure size 1080x360 with 1 Axes>"
      ]
     },
     "metadata": {
      "needs_background": "light"
     },
     "output_type": "display_data"
    }
   ],
   "source": [
    "fig, ax = plt.subplots(figsize=(15,5))\n",
    "sns.histplot(data_per_month_avg, x='messages_count', hue='tariff_name', stat='density', kde=True, ax=ax)\n",
    "plt.title('Среднее количество отправленных сообщений')\n",
    "plt.xlabel('Количество отправленных сообщений')\n",
    "plt.ylabel('Количество записей')"
   ]
  },
  {
   "cell_type": "code",
   "execution_count": 75,
   "id": "a4011641",
   "metadata": {},
   "outputs": [
    {
     "data": {
      "text/plain": [
       "Text(0, 0.5, 'Количество отправленных сообщений')"
      ]
     },
     "execution_count": 75,
     "metadata": {},
     "output_type": "execute_result"
    },
    {
     "data": {
      "image/png": "[encoded data removed]",
      "text/plain": [
       "<Figure size 1080x360 with 1 Axes>"
      ]
     },
     "metadata": {
      "needs_background": "light"
     },
     "output_type": "display_data"
    }
   ],
   "source": [
    "fig, ax = plt.subplots(figsize=(15,5))\n",
    "sns.boxplot(data=data_per_month_avg, x='tariff_name', y='messages_count', ax=ax)\n",
    "plt.title('Среднее количество отправленных сообщений')\n",
    "plt.xlabel('Название тарифа')\n",
    "plt.ylabel('Количество отправленных сообщений')"
   ]
  },
  {
   "cell_type": "markdown",
   "id": "37e8dc88",
   "metadata": {},
   "source": [
    "### Вывод"
   ]
  },
  {
   "cell_type": "markdown",
   "id": "70c68357",
   "metadata": {},
   "source": [
    "По тарифу **Смарт** получили следующие данные:\n",
    "1) Среднее количество отправленных сообщений по тарифу составляет 33 штуки;   \n",
    "2) Стандартное отклонение получили равное 28, следовательно разброс отправленных сообщений среди пользователей есть, но он не очень большой по сравнению с тарифом **Ультра**  \n",
    "3) Имеется небольшое количество выбросов;  \n",
    "4) График имеет нормальное распределение Пуассона.\n",
    "\n",
    "По тарифу **Ультра** получили следующие данные:\n",
    "1) Среднее количество отправленных сообщений по тарифу составляет 56 штук;     \n",
    "2) Стандартное отклонение получили равное 49, следовательно разброс отправленных сообщений среди пользователей есть, но он больше чем на тарифе **Смарт**     \n",
    "3) Имеется небольшое количество выбросов;  \n",
    "4) График имеет нормальное распределение Пуассона."
   ]
  },
  {
   "cell_type": "markdown",
   "id": "12c13514",
   "metadata": {},
   "source": [
    "## Займемся интернет трафиком"
   ]
  },
  {
   "cell_type": "markdown",
   "id": "159641ed",
   "metadata": {},
   "source": [
    "Для каждого тарифа посчитаем среднее количество, медиану, дисперсию и стандартное отклонение потраченного интернет трафика"
   ]
  },
  {
   "cell_type": "code",
   "execution_count": 76,
   "id": "650a42b3",
   "metadata": {},
   "outputs": [
    {
     "data": {
      "text/html": [
       "<div>\n",
       "<style scoped>\n",
       "    .dataframe tbody tr th:only-of-type {\n",
       "        vertical-align: middle;\n",
       "    }\n",
       "\n",
       "    .dataframe tbody tr th {\n",
       "        vertical-align: top;\n",
       "    }\n",
       "\n",
       "    .dataframe thead th {\n",
       "        text-align: right;\n",
       "    }\n",
       "</style>\n",
       "<table border=\"1\" class=\"dataframe\">\n",
       "  <thead>\n",
       "    <tr style=\"text-align: right;\">\n",
       "      <th></th>\n",
       "      <th>tariff_name</th>\n",
       "      <th>mean</th>\n",
       "      <th>median</th>\n",
       "      <th>std</th>\n",
       "      <th>var</th>\n",
       "    </tr>\n",
       "  </thead>\n",
       "  <tbody>\n",
       "    <tr>\n",
       "      <th>0</th>\n",
       "      <td>smart</td>\n",
       "      <td>17.307692</td>\n",
       "      <td>17.5</td>\n",
       "      <td>4.278942</td>\n",
       "      <td>18.309341</td>\n",
       "    </tr>\n",
       "    <tr>\n",
       "      <th>1</th>\n",
       "      <td>ultra</td>\n",
       "      <td>20.694631</td>\n",
       "      <td>20.0</td>\n",
       "      <td>9.076572</td>\n",
       "      <td>82.384160</td>\n",
       "    </tr>\n",
       "  </tbody>\n",
       "</table>\n",
       "</div>"
      ],
      "text/plain": [
       "  tariff_name       mean  median       std        var\n",
       "0       smart  17.307692    17.5  4.278942  18.309341\n",
       "1       ultra  20.694631    20.0  9.076572  82.384160"
      ]
     },
     "execution_count": 76,
     "metadata": {},
     "output_type": "execute_result"
    }
   ],
   "source": [
    "internet_stat = data_per_month_avg.pivot_table(index='tariff_name', values='gb_used_sum', \n",
    "                    aggfunc={'gb_used_sum': [np.mean, np.median, np.var, np.std]})\n",
    "internet_stat.reset_index(inplace=True)\n",
    "internet_stat"
   ]
  },
  {
   "cell_type": "markdown",
   "id": "8f2e659a",
   "metadata": {},
   "source": [
    "Для наглядности отрисуем графики"
   ]
  },
  {
   "cell_type": "code",
   "execution_count": 77,
   "id": "2cd5cca0",
   "metadata": {},
   "outputs": [
    {
     "data": {
      "text/plain": [
       "Text(0, 0.5, 'Количество записей')"
      ]
     },
     "execution_count": 77,
     "metadata": {},
     "output_type": "execute_result"
    },
    {
     "data": {
      "image/png": "[encoded data removed]",
      "text/plain": [
       "<Figure size 1080x360 with 1 Axes>"
      ]
     },
     "metadata": {
      "needs_background": "light"
     },
     "output_type": "display_data"
    }
   ],
   "source": [
    "fig, ax = plt.subplots(figsize=(15,5))\n",
    "sns.histplot(data_per_month_avg, x='gb_used_sum', hue='tariff_name', stat='density', kde=True, ax=ax)\n",
    "plt.title('Среднее количество потраченного интернет трафика')\n",
    "plt.xlabel('Количество потраченного интернет трафика(гигабайт)')\n",
    "plt.ylabel('Количество записей')"
   ]
  },
  {
   "cell_type": "code",
   "execution_count": 78,
   "id": "394c268d",
   "metadata": {},
   "outputs": [
    {
     "data": {
      "text/plain": [
       "Text(0, 0.5, 'Количество потраченного интернет трафика(гигабайт)')"
      ]
     },
     "execution_count": 78,
     "metadata": {},
     "output_type": "execute_result"
    },
    {
     "data": {
      "image/png": "[encoded data removed]",
      "text/plain": [
       "<Figure size 1080x360 with 1 Axes>"
      ]
     },
     "metadata": {
      "needs_background": "light"
     },
     "output_type": "display_data"
    }
   ],
   "source": [
    "fig, ax = plt.subplots(figsize=(15,5))\n",
    "sns.boxplot(data=data_per_month_avg, x='tariff_name', y='gb_used_sum', ax=ax)\n",
    "plt.title('Среднее количество потраченного интернет трафика')\n",
    "plt.xlabel('Название тарифа')\n",
    "plt.ylabel('Количество потраченного интернет трафика(гигабайт)')"
   ]
  },
  {
   "cell_type": "markdown",
   "id": "8a57d6a8",
   "metadata": {},
   "source": [
    "### Вывод"
   ]
  },
  {
   "cell_type": "markdown",
   "id": "0928e554",
   "metadata": {},
   "source": [
    "По тарифу **Смарт** получили следующие данные:\n",
    "1) Среднее количество потраченного интернет трафика по тарифу составляет 17 гигабайт;   \n",
    "2) График имеет нормальное распределение;  \n",
    "3) Стандартное отклонение получили равное 4, следовательно разброс потраченного интернет трафика среди пользователей есть, но не очень большой по сравнению с тарифом **Ультра**, что видно из графика, он получился более вытяутый;  \n",
    "4) Из графиков видно, что есть большое количество выбросов.\n",
    "\n",
    "По тарифу **Ультра** получили следующие данные:\n",
    "1) Среднее количество потраченного интернет трафика по тарифу составляет 20 гигабайт;  \n",
    "2) График имеет нормальное распределение;  \n",
    "3) Стандартное отклонение получили равное 9, следовательно разброс потраченного интернет трафика  среди пользователей есть и он больше чем у тарифа **Смарт**, что видно из графика, он получился более растянутый."
   ]
  },
  {
   "cell_type": "markdown",
   "id": "c52f1ec2",
   "metadata": {},
   "source": [
    "## Вывод по анализу данных"
   ]
  },
  {
   "cell_type": "markdown",
   "id": "e028f8d8",
   "metadata": {},
   "source": [
    "Тариф **Смарт** :  \n",
    "Можно сделать вывод, что пользователи тарифа **Смарт** чаще выходят за рамки тарифного плана по звонкам, сообщениям и использованию интернет трафика, но при этом основная масса пользователей стремится укладываться в отведенные лимиты:\n",
    "* Среднее время разговора пользователей 436 минут, при ограничении тарифа в 500 минут;\n",
    "* Среднее количество отправленных сообщений 33 штуки, при ограничении тарифа в 50 штук;\n",
    "* Среднее количество использованного интернет трафика 17 гигабайт, при ограничении тарифа в 15 гигабайт.\n",
    "\n",
    "Тариф **Ультра** :  \n",
    "Можно сделать вывод, что пользователи тарифа **Ультра** почти не выходят за рамки отведенного лимата по звонкам, сообщениям и интернет трафика. В основном они даже не тратят большую часть оплачнного тарифа:\n",
    "* Среднее время разговора пользователей 553 минут, при ограничении тарифа в 3000 минут;\n",
    "* Среднее количество отправленных сообщений 56 штуки, при ограничении тарифа в 1000 штук;\n",
    "* Среднее количество использованного интернет трафика 20 гигабайт, при ограничении тарифа в 30 гигабайт.\n",
    "\n",
    "По двум тарифам, в основном, тратят интернет трафик, такой вывод можно сделать так как пользователи тарифа **Смарт** дополнительно за него переплачивают, а пользовтаели тарифа **Ультра** расходуют больше его чем звонки и сообщения из которых они не тратят даже половины из оплаченой стоимости тарифа."
   ]
  },
  {
   "cell_type": "markdown",
   "id": "f147d630",
   "metadata": {},
   "source": [
    "# Проверка гипотез"
   ]
  },
  {
   "cell_type": "markdown",
   "id": "adfd84cf",
   "metadata": {},
   "source": [
    "## Гипотеза: средняя выручка пользователей тарифов «Ультра» и «Смарт» различаются"
   ]
  },
  {
   "cell_type": "markdown",
   "id": "11dd823a",
   "metadata": {},
   "source": [
    "Сформируем гипотезу следующим образом:  \n",
    "$H_{0}$ = средняя выручка пользователей тарифов «Ультра» и «Смарт» равны друг другу;  \n",
    "$H_{1}$ = средняя выручка пользователей тарифов «Ультра» и «Смарт» различаются.\n",
    "\n",
    "Для оценки будет использовать Т-тест с двусторонним критерием.  \n",
    "Уровень значимости зададим равный 0.05"
   ]
  },
  {
   "cell_type": "code",
   "execution_count": 79,
   "id": "875d62ad",
   "metadata": {},
   "outputs": [
    {
     "name": "stdout",
     "output_type": "stream",
     "text": [
      "p-значение:  7.798534648122286e-134\n",
      "\n",
      "Отвергаем нулевую гипотезу\n",
      "\n",
      "Средняя выручка по тарифу \"Смарт\" составляет 1150.0 руб\n",
      "Средняя выручка по тарифу \"Ультра\" составляет 1950.0 руб\n"
     ]
    }
   ],
   "source": [
    "smart = data_per_month[data_per_month['tariff_name']=='smart']['income']\n",
    "ultra = data_per_month[data_per_month['tariff_name']=='ultra']['income']\n",
    "\n",
    "alpha = 0.05\n",
    "\n",
    "results = st.ttest_ind(\n",
    "    smart,\n",
    "    ultra\n",
    ")\n",
    "\n",
    "print('p-значение: ', results.pvalue)\n",
    "print()\n",
    "\n",
    "if results.pvalue < alpha:\n",
    "    print(\"Отвергаем нулевую гипотезу\")\n",
    "else:\n",
    "    print(\"Не получилось отвергнуть нулевую гипотезу\")\n",
    "print()\n",
    "\n",
    "print('Средняя выручка по тарифу \"Смарт\" составляет {} руб'.format(\n",
    "    data_per_month[data_per_month['tariff_name']=='smart']['income'].median()))\n",
    "\n",
    "print('Средняя выручка по тарифу \"Ультра\" составляет {} руб'.format(\n",
    "    data_per_month[data_per_month['tariff_name']=='ultra']['income'].median()))"
   ]
  },
  {
   "cell_type": "markdown",
   "id": "7e7c0e45",
   "metadata": {},
   "source": [
    "### Вывод"
   ]
  },
  {
   "cell_type": "markdown",
   "id": "7053657d",
   "metadata": {},
   "source": [
    "p-уровень значимости слишком мал, гораздо меньше определенного нами порогового значения в 5%, следовательно средняя выручка пользователей тарифов **Смарт** и **Ультра** значимо отличаются друг от друга."
   ]
  },
  {
   "cell_type": "markdown",
   "id": "a7da98dc",
   "metadata": {},
   "source": [
    "## Гипотеза: средняя выручка пользователей из Москвы отличается от выручки пользователей из других регионов"
   ]
  },
  {
   "cell_type": "markdown",
   "id": "63896bce",
   "metadata": {},
   "source": [
    "Сформируем гипотезу следующим образом:  \n",
    "$H_{0}$ = средняя выручка пользователей из Москвы и пользователей из регионов равны друг другу;  \n",
    "$H_{1}$ = средняя выручка пользователей из Москвы и пользователей из регионов различаются.\n",
    "\n",
    "Для оценки будет использовать Т-тест с двусторонним критерием.  \n",
    "Уровень значимости зададим равный 0.05"
   ]
  },
  {
   "cell_type": "code",
   "execution_count": 80,
   "id": "349bdcec",
   "metadata": {},
   "outputs": [
    {
     "name": "stdout",
     "output_type": "stream",
     "text": [
      "p-значение:  0.5933795316207562\n",
      "\n",
      "Не получилось отвергнуть нулевую гипотезу\n",
      "\n",
      "Средняя выручка по Москве составляет 1923.0 руб\n",
      "Средняя выручка по регионам составляет 1750.0 руб\n"
     ]
    }
   ],
   "source": [
    "moscow = data_per_month[data_per_month['city']=='Москва']['income']\n",
    "regions = data_per_month[data_per_month['city']!='Москва']['income']\n",
    "\n",
    "alpha = 0.05\n",
    "\n",
    "results = st.ttest_ind(\n",
    "    moscow,\n",
    "    regions\n",
    ")\n",
    "\n",
    "print('p-значение: ', results.pvalue)\n",
    "print()\n",
    "\n",
    "if results.pvalue < alpha:\n",
    "    print(\"Отвергаем нулевую гипотезу\")\n",
    "else:\n",
    "    print(\"Не получилось отвергнуть нулевую гипотезу\")\n",
    "print()\n",
    "\n",
    "print('Средняя выручка по Москве составляет {} руб'.format(\n",
    "    data_per_month[data_per_month['city']=='Москва']['income'].median()))\n",
    "\n",
    "print('Средняя выручка по регионам составляет {} руб'.format(\n",
    "    data_per_month[data_per_month['city']!='Москва']['income'].median()))"
   ]
  },
  {
   "cell_type": "markdown",
   "id": "b52d4af7",
   "metadata": {},
   "source": [
    "### Вывод"
   ]
  },
  {
   "cell_type": "markdown",
   "id": "db210afd",
   "metadata": {},
   "source": [
    "р-уровень значимости составил почти 59%, что значительно выше 5%, следовательно средняя выручка по Москве статистически значимо не отличается от средней выручки по другим регионам."
   ]
  },
  {
   "cell_type": "markdown",
   "id": "bec4f99e",
   "metadata": {},
   "source": [
    "# Общий вывод"
   ]
  },
  {
   "cell_type": "markdown",
   "id": "a8a91bb6",
   "metadata": {},
   "source": [
    "\n",
    "При подготовке данных к анализу мы предобработали таблицы `users_df`, `calls_df`, `internet_df`, `messages_df`.  \n",
    "1) В таблице `users_df` привели столбцы `churn_date` и `reg_date` к типу данных **datetime**.\n",
    "\n",
    "2) В таблице `calls_df` округлили время звонка в столбце `duration` до целых минут в большую сторону и привели столбцы к нужным типам данных:\n",
    "- столбец `duration` к типу **int**\n",
    "- столбец `call_date` к типу **datetime**  \n",
    "\n",
    "3) Из таблицы **internet_df** удалим столбец `Unnamed: 0` так как он дублирует значение индексов.  \n",
    "Округлили значения в столбце `mb_used` до целых чисел.  \n",
    "Привели столбцы к нужным форматам данных:\n",
    "- столбец `mb_used` к типу **int**\n",
    "- столбец `session_date` к типу **datetime**\n",
    "\n",
    "4) В таблице `messages_df` привели столбец `message_date` к типу данных **datetime**.\n",
    "\n",
    "Так же мы создали сводные таблицы со следующей информацией:\n",
    "- количество сделанных звонков и израсходованных минут разговора по месяцам;\n",
    "- количество отправленных сообщений по месяцам;\n",
    "- объем израсходованного интернет-трафика по месяцам. \n",
    "\n",
    "После их создания, мы объеденили их в одну таблицу, так же объеденили с таблицей с информацией о тарифах, после чего расчитали помесячную выручку по каждому пользователю и получили таблицу готовую для дальнейшего анализа.\n",
    "\n",
    "При проведении анализа мы следали следующие выводы по тарифам:\n",
    "\n",
    "Тариф **Смарт** :  \n",
    "Можно сделать вывод, что пользователи тарифа **Смарт** чаще выходят за рамки тарифного плана по звонкам, сообщениям и использованию интернет трафика, но при этом основная масса пользователей стремится укладываться в отведенные лимиты:\n",
    "* Среднее время разговора пользователей 436 минут, при ограничении тарифа в 500 минут;\n",
    "* Среднее количество отправленных сообщений 33 штуки, при ограничении тарифа в 50 штук;\n",
    "* Среднее количество использованного интернет трафика 17 гигабайт, при ограничении тарифа в 15 гигабайт.\n",
    "\n",
    "Тариф **Ультра** :  \n",
    "Можно сделать вывод, что пользователи тарифа **Ультра** почти не выходят за рамки отведенного лимата по звонкам, сообщениям и интернет трафика. В основном они даже не тратят большую часть оплачнного тарифа:\n",
    "* Среднее время разговора пользователей 553 минут, при ограничении тарифа в 3000 минут;\n",
    "* Среднее количество отправленных сообщений 56 штуки, при ограничении тарифа в 1000 штук;\n",
    "* Среднее количество использованного интернет трафика 20 гигабайт, при ограничении тарифа в 30 гигабайт.\n",
    "\n",
    "По двум тарифам, в основном, тратят интернет трафик, такой вывод можно сделать так как пользователи тарифа **Смарт** дополнительно за него переплачивают, а пользовтаели тарифа **Ультра** расходуют больше его чем звонки и сообщения из которых они не тратят даже половины из оплаченой стоимости тарифа.\n",
    "\n",
    "Далее были выдвинуты гипотезы:  \n",
    "1) Гипотеза сформирована следеюущим образом:   \n",
    "$H_{0}$ = средняя выручка пользователей тарифов «Ультра» и «Смарт» равны друг другу;    \n",
    "$H_{1}$ = средняя выручка пользователей тарифов «Ультра» и «Смарт» различаются.  \n",
    "Для оценки будет использовали Т-тест с двусторонним критерием.  \n",
    "Уровень значимости задан равный 0.05  \n",
    "Получили, что p-уровень значимости слишком мал, гораздо меньше определенного нами порогового значения в 5%, следовательно средняя выручка пользователей тарифов Смарт и Ультра значимо отличаются друг от друга.  \n",
    "\n",
    "2) Гипотеза сформирована следеюущим образом:   \n",
    "$H_{0}$ = средняя выручка пользователей из Москвы и пользователей из регионов равны друг другу;    \n",
    "$H_{1}$ = средняя выручка пользователей из Москвы и пользователей из регионов различаются.  \n",
    "Для оценки будет использовали Т-тест с двусторонним критерием.  \n",
    "Уровень значимости задан равный 0.05  \n",
    "Получили, р-уровень значимости составил почти 59%, что значительно выше 5%, следовательно средняя выручка по Москве статистически значимо не отличается от средней выручки по другим регионам.  \n",
    "\n",
    "Можно сделать вывод, что тариф **Смарт** не подходит для многих абонентов так как они выходят за его рамки, но это все равно получается выгоднее чем переплачивать за тариф **Ультра**, можно рекомендовать сделать промежуточный тариф для привлечения новых клиентов."
   ]
  },
  {
   "cell_type": "code",
   "execution_count": null,
   "id": "bb8404af",
   "metadata": {},
   "outputs": [],
   "source": []
  }
 ],
 "metadata": {
  "kernelspec": {
   "display_name": "Python 3.9.0 64-bit",
   "language": "python",
   "name": "python3"
  },
  "language_info": {
   "codemirror_mode": {
    "name": "ipython",
    "version": 3
   },
   "file_extension": ".py",
   "mimetype": "text/x-python",
   "name": "python",
   "nbconvert_exporter": "python",
   "pygments_lexer": "ipython3",
   "version": "3.9.0"
  },
  "toc": {
   "base_numbering": 1,
   "nav_menu": {
    "height": "301px",
    "width": "489px"
   },
   "number_sections": true,
   "sideBar": true,
   "skip_h1_title": false,
   "title_cell": "Содержание",
   "title_sidebar": "Contents",
   "toc_cell": true,
   "toc_position": {
    "height": "calc(100% - 180px)",
    "left": "10px",
    "top": "150px",
    "width": "289px"
   },
   "toc_section_display": true,
   "toc_window_display": true
  },
  "vscode": {
   "interpreter": {
    "hash": "aee8b7b246df8f9039afb4144a1f6fd8d2ca17a180786b69acc140d282b71a49"
   }
  }
 },
 "nbformat": 4,
 "nbformat_minor": 5
}
