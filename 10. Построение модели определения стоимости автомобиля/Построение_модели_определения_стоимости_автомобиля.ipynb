{
 "cells": [
  {
   "cell_type": "markdown",
   "metadata": {
    "toc": true
   },
   "source": [
    "<h1>Содержание<span class=\"tocSkip\"></span></h1>\n",
    "<div class=\"toc\"><ul class=\"toc-item\"><li><span><a href=\"#Подготовка-данных\" data-toc-modified-id=\"Подготовка-данных-1\"><span class=\"toc-item-num\">1&nbsp;&nbsp;</span>Подготовка данных</a></span><ul class=\"toc-item\"><li><span><a href=\"#Вывод\" data-toc-modified-id=\"Вывод-1.1\"><span class=\"toc-item-num\">1.1&nbsp;&nbsp;</span>Вывод</a></span></li></ul></li><li><span><a href=\"#Предобработка-данных\" data-toc-modified-id=\"Предобработка-данных-2\"><span class=\"toc-item-num\">2&nbsp;&nbsp;</span>Предобработка данных</a></span><ul class=\"toc-item\"><li><span><a href=\"#Изменение-названий-столбцов\" data-toc-modified-id=\"Изменение-названий-столбцов-2.1\"><span class=\"toc-item-num\">2.1&nbsp;&nbsp;</span>Изменение названий столбцов</a></span></li><li><span><a href=\"#Удаление-столбцов\" data-toc-modified-id=\"Удаление-столбцов-2.2\"><span class=\"toc-item-num\">2.2&nbsp;&nbsp;</span>Удаление столбцов</a></span></li><li><span><a href=\"#Обработка-пропущенных-значений\" data-toc-modified-id=\"Обработка-пропущенных-значений-2.3\"><span class=\"toc-item-num\">2.3&nbsp;&nbsp;</span>Обработка пропущенных значений</a></span><ul class=\"toc-item\"><li><span><a href=\"#Пропущенные-значения-столбца-model\" data-toc-modified-id=\"Пропущенные-значения-столбца-model-2.3.1\"><span class=\"toc-item-num\">2.3.1&nbsp;&nbsp;</span>Пропущенные значения столбца <code>model</code></a></span></li><li><span><a href=\"#Пропущенные-значения-столбца-gearbox\" data-toc-modified-id=\"Пропущенные-значения-столбца-gearbox-2.3.2\"><span class=\"toc-item-num\">2.3.2&nbsp;&nbsp;</span>Пропущенные значения столбца <code>gearbox</code></a></span></li><li><span><a href=\"#Пропущенные-значения-столбца-fuel_type\" data-toc-modified-id=\"Пропущенные-значения-столбца-fuel_type-2.3.3\"><span class=\"toc-item-num\">2.3.3&nbsp;&nbsp;</span>Пропущенные значения столбца <code>fuel_type</code></a></span></li><li><span><a href=\"#Пропущенные-значения-столбца-vehicle_type\" data-toc-modified-id=\"Пропущенные-значения-столбца-vehicle_type-2.3.4\"><span class=\"toc-item-num\">2.3.4&nbsp;&nbsp;</span>Пропущенные значения столбца <code>vehicle_type</code></a></span></li><li><span><a href=\"#Пропущенные-значения-столбца-not_repaired\" data-toc-modified-id=\"Пропущенные-значения-столбца-not_repaired-2.3.5\"><span class=\"toc-item-num\">2.3.5&nbsp;&nbsp;</span>Пропущенные значения столбца <code>not_repaired</code></a></span></li></ul></li><li><span><a href=\"#Обработка-выбросов\" data-toc-modified-id=\"Обработка-выбросов-2.4\"><span class=\"toc-item-num\">2.4&nbsp;&nbsp;</span>Обработка выбросов</a></span><ul class=\"toc-item\"><li><span><a href=\"#Выбросы-столбца-price\" data-toc-modified-id=\"Выбросы-столбца-price-2.4.1\"><span class=\"toc-item-num\">2.4.1&nbsp;&nbsp;</span>Выбросы столбца <code>price</code></a></span></li><li><span><a href=\"#Выбросы-столбца-power\" data-toc-modified-id=\"Выбросы-столбца-power-2.4.2\"><span class=\"toc-item-num\">2.4.2&nbsp;&nbsp;</span>Выбросы столбца <code>power</code></a></span></li><li><span><a href=\"#Выбросы-столбца-registration_year\" data-toc-modified-id=\"Выбросы-столбца-registration_year-2.4.3\"><span class=\"toc-item-num\">2.4.3&nbsp;&nbsp;</span>Выбросы столбца <code>registration_year</code></a></span></li><li><span><a href=\"#Выбросы-столбца-kilometer\" data-toc-modified-id=\"Выбросы-столбца-kilometer-2.4.4\"><span class=\"toc-item-num\">2.4.4&nbsp;&nbsp;</span>Выбросы столбца <code>kilometer</code></a></span></li></ul></li><li><span><a href=\"#Вывод\" data-toc-modified-id=\"Вывод-2.5\"><span class=\"toc-item-num\">2.5&nbsp;&nbsp;</span>Вывод</a></span></li></ul></li><li><span><a href=\"#Обучение-моделей\" data-toc-modified-id=\"Обучение-моделей-3\"><span class=\"toc-item-num\">3&nbsp;&nbsp;</span>Обучение моделей</a></span><ul class=\"toc-item\"><li><span><a href=\"#Подготовка-и-разбиение-данных\" data-toc-modified-id=\"Подготовка-и-разбиение-данных-3.1\"><span class=\"toc-item-num\">3.1&nbsp;&nbsp;</span>Подготовка и разбиение данных</a></span></li><li><span><a href=\"#Модель-LinearRegression\" data-toc-modified-id=\"Модель-LinearRegression-3.2\"><span class=\"toc-item-num\">3.2&nbsp;&nbsp;</span>Модель LinearRegression</a></span></li><li><span><a href=\"#Модель-LGBMRegressor\" data-toc-modified-id=\"Модель-LGBMRegressor-3.3\"><span class=\"toc-item-num\">3.3&nbsp;&nbsp;</span>Модель LGBMRegressor</a></span></li><li><span><a href=\"#Модель-CatBoostRegressor\" data-toc-modified-id=\"Модель-CatBoostRegressor-3.4\"><span class=\"toc-item-num\">3.4&nbsp;&nbsp;</span>Модель CatBoostRegressor</a></span></li><li><span><a href=\"#Вывод\" data-toc-modified-id=\"Вывод-3.5\"><span class=\"toc-item-num\">3.5&nbsp;&nbsp;</span>Вывод</a></span></li></ul></li><li><span><a href=\"#Анализ-моделей\" data-toc-modified-id=\"Анализ-моделей-4\"><span class=\"toc-item-num\">4&nbsp;&nbsp;</span>Анализ моделей</a></span><ul class=\"toc-item\"><li><span><a href=\"#Вывод\" data-toc-modified-id=\"Вывод-4.1\"><span class=\"toc-item-num\">4.1&nbsp;&nbsp;</span>Вывод</a></span></li></ul></li><li><span><a href=\"#Общий-вывод\" data-toc-modified-id=\"Общий-вывод-5\"><span class=\"toc-item-num\">5&nbsp;&nbsp;</span>Общий вывод</a></span></li><li><span><a href=\"#Чек-лист-проверки\" data-toc-modified-id=\"Чек-лист-проверки-6\"><span class=\"toc-item-num\">6&nbsp;&nbsp;</span>Чек-лист проверки</a></span></li></ul></div>"
   ]
  },
  {
   "cell_type": "markdown",
   "metadata": {},
   "source": [
    "# Определение стоимости автомобилей"
   ]
  },
  {
   "cell_type": "markdown",
   "metadata": {},
   "source": [
    "Сервис по продаже автомобилей с пробегом «Не бит, не крашен» разрабатывает приложение для привлечения новых клиентов. В нём можно быстро узнать рыночную стоимость своего автомобиля. В вашем распоряжении исторические данные: технические характеристики, комплектации и цены автомобилей. Вам нужно построить модель для определения стоимости. \n",
    "\n",
    "Заказчику важны:\n",
    "\n",
    "- качество предсказания;\n",
    "- скорость предсказания;\n",
    "- время обучения."
   ]
  },
  {
   "cell_type": "markdown",
   "metadata": {},
   "source": [
    "# Описание данных"
   ]
  },
  {
   "cell_type": "markdown",
   "metadata": {},
   "source": [
    "**Признаки**\n",
    "\n",
    "- DateCrawled — дата скачивания анкеты из базы\n",
    "- VehicleType — тип автомобильного кузова\n",
    "- RegistrationYear — год регистрации автомобиля\n",
    "- Gearbox — тип коробки передач\n",
    "- Power — мощность (л. с.)\n",
    "- Model — модель автомобиля\n",
    "- Kilometer — пробег (км)\n",
    "- RegistrationMonth — месяц регистрации автомобиля\n",
    "- FuelType — тип топлива\n",
    "- Brand — марка автомобиля\n",
    "- NotRepaired — была машина в ремонте или нет\n",
    "- DateCreated — дата создания анкеты\n",
    "- NumberOfPictures — количество фотографий автомобиля\n",
    "- PostalCode — почтовый индекс владельца анкеты (пользователя)\n",
    "- LastSeen — дата последней активности пользователя\n",
    "\n",
    "**Целевой признак**\n",
    "\n",
    "- Price — цена (евро)"
   ]
  },
  {
   "cell_type": "markdown",
   "metadata": {},
   "source": [
    "## Подготовка данных"
   ]
  },
  {
   "cell_type": "markdown",
   "metadata": {},
   "source": [
    "Загрузим необходимые библиотеки"
   ]
  },
  {
   "cell_type": "code",
   "execution_count": 1,
   "metadata": {},
   "outputs": [],
   "source": [
    "import pandas as pd\n",
    "import numpy as np\n",
    "import matplotlib.pyplot as plt\n",
    "import seaborn as sns\n",
    "\n",
    "from sklearn.model_selection import train_test_split\n",
    "from sklearn.preprocessing import StandardScaler, OrdinalEncoder\n",
    "from sklearn.metrics import mean_squared_error\n",
    "\n",
    "import time\n",
    "\n",
    "from sklearn.linear_model import LinearRegression\n",
    "from lightgbm import LGBMRegressor\n",
    "from catboost import CatBoostRegressor\n",
    "from sklearn.dummy import DummyRegressor"
   ]
  },
  {
   "cell_type": "markdown",
   "metadata": {},
   "source": [
    "Загрузим наш датафрейм"
   ]
  },
  {
   "cell_type": "code",
   "execution_count": 2,
   "metadata": {},
   "outputs": [],
   "source": [
    "try:\n",
    "    df = pd.read_csv('./autos.csv')\n",
    "except:\n",
    "    df = pd.read_csv('/datasets/autos.csv')"
   ]
  },
  {
   "cell_type": "code",
   "execution_count": 3,
   "metadata": {},
   "outputs": [
    {
     "data": {
      "text/html": [
       "<div>\n",
       "<style scoped>\n",
       "    .dataframe tbody tr th:only-of-type {\n",
       "        vertical-align: middle;\n",
       "    }\n",
       "\n",
       "    .dataframe tbody tr th {\n",
       "        vertical-align: top;\n",
       "    }\n",
       "\n",
       "    .dataframe thead th {\n",
       "        text-align: right;\n",
       "    }\n",
       "</style>\n",
       "<table border=\"1\" class=\"dataframe\">\n",
       "  <thead>\n",
       "    <tr style=\"text-align: right;\">\n",
       "      <th></th>\n",
       "      <th>DateCrawled</th>\n",
       "      <th>Price</th>\n",
       "      <th>VehicleType</th>\n",
       "      <th>RegistrationYear</th>\n",
       "      <th>Gearbox</th>\n",
       "      <th>Power</th>\n",
       "      <th>Model</th>\n",
       "      <th>Kilometer</th>\n",
       "      <th>RegistrationMonth</th>\n",
       "      <th>FuelType</th>\n",
       "      <th>Brand</th>\n",
       "      <th>NotRepaired</th>\n",
       "      <th>DateCreated</th>\n",
       "      <th>NumberOfPictures</th>\n",
       "      <th>PostalCode</th>\n",
       "      <th>LastSeen</th>\n",
       "    </tr>\n",
       "  </thead>\n",
       "  <tbody>\n",
       "    <tr>\n",
       "      <th>0</th>\n",
       "      <td>2016-03-24 11:52:17</td>\n",
       "      <td>480</td>\n",
       "      <td>NaN</td>\n",
       "      <td>1993</td>\n",
       "      <td>manual</td>\n",
       "      <td>0</td>\n",
       "      <td>golf</td>\n",
       "      <td>150000</td>\n",
       "      <td>0</td>\n",
       "      <td>petrol</td>\n",
       "      <td>volkswagen</td>\n",
       "      <td>NaN</td>\n",
       "      <td>2016-03-24 00:00:00</td>\n",
       "      <td>0</td>\n",
       "      <td>70435</td>\n",
       "      <td>2016-04-07 03:16:57</td>\n",
       "    </tr>\n",
       "    <tr>\n",
       "      <th>1</th>\n",
       "      <td>2016-03-24 10:58:45</td>\n",
       "      <td>18300</td>\n",
       "      <td>coupe</td>\n",
       "      <td>2011</td>\n",
       "      <td>manual</td>\n",
       "      <td>190</td>\n",
       "      <td>NaN</td>\n",
       "      <td>125000</td>\n",
       "      <td>5</td>\n",
       "      <td>gasoline</td>\n",
       "      <td>audi</td>\n",
       "      <td>yes</td>\n",
       "      <td>2016-03-24 00:00:00</td>\n",
       "      <td>0</td>\n",
       "      <td>66954</td>\n",
       "      <td>2016-04-07 01:46:50</td>\n",
       "    </tr>\n",
       "    <tr>\n",
       "      <th>2</th>\n",
       "      <td>2016-03-14 12:52:21</td>\n",
       "      <td>9800</td>\n",
       "      <td>suv</td>\n",
       "      <td>2004</td>\n",
       "      <td>auto</td>\n",
       "      <td>163</td>\n",
       "      <td>grand</td>\n",
       "      <td>125000</td>\n",
       "      <td>8</td>\n",
       "      <td>gasoline</td>\n",
       "      <td>jeep</td>\n",
       "      <td>NaN</td>\n",
       "      <td>2016-03-14 00:00:00</td>\n",
       "      <td>0</td>\n",
       "      <td>90480</td>\n",
       "      <td>2016-04-05 12:47:46</td>\n",
       "    </tr>\n",
       "    <tr>\n",
       "      <th>3</th>\n",
       "      <td>2016-03-17 16:54:04</td>\n",
       "      <td>1500</td>\n",
       "      <td>small</td>\n",
       "      <td>2001</td>\n",
       "      <td>manual</td>\n",
       "      <td>75</td>\n",
       "      <td>golf</td>\n",
       "      <td>150000</td>\n",
       "      <td>6</td>\n",
       "      <td>petrol</td>\n",
       "      <td>volkswagen</td>\n",
       "      <td>no</td>\n",
       "      <td>2016-03-17 00:00:00</td>\n",
       "      <td>0</td>\n",
       "      <td>91074</td>\n",
       "      <td>2016-03-17 17:40:17</td>\n",
       "    </tr>\n",
       "    <tr>\n",
       "      <th>4</th>\n",
       "      <td>2016-03-31 17:25:20</td>\n",
       "      <td>3600</td>\n",
       "      <td>small</td>\n",
       "      <td>2008</td>\n",
       "      <td>manual</td>\n",
       "      <td>69</td>\n",
       "      <td>fabia</td>\n",
       "      <td>90000</td>\n",
       "      <td>7</td>\n",
       "      <td>gasoline</td>\n",
       "      <td>skoda</td>\n",
       "      <td>no</td>\n",
       "      <td>2016-03-31 00:00:00</td>\n",
       "      <td>0</td>\n",
       "      <td>60437</td>\n",
       "      <td>2016-04-06 10:17:21</td>\n",
       "    </tr>\n",
       "    <tr>\n",
       "      <th>5</th>\n",
       "      <td>2016-04-04 17:36:23</td>\n",
       "      <td>650</td>\n",
       "      <td>sedan</td>\n",
       "      <td>1995</td>\n",
       "      <td>manual</td>\n",
       "      <td>102</td>\n",
       "      <td>3er</td>\n",
       "      <td>150000</td>\n",
       "      <td>10</td>\n",
       "      <td>petrol</td>\n",
       "      <td>bmw</td>\n",
       "      <td>yes</td>\n",
       "      <td>2016-04-04 00:00:00</td>\n",
       "      <td>0</td>\n",
       "      <td>33775</td>\n",
       "      <td>2016-04-06 19:17:07</td>\n",
       "    </tr>\n",
       "    <tr>\n",
       "      <th>6</th>\n",
       "      <td>2016-04-01 20:48:51</td>\n",
       "      <td>2200</td>\n",
       "      <td>convertible</td>\n",
       "      <td>2004</td>\n",
       "      <td>manual</td>\n",
       "      <td>109</td>\n",
       "      <td>2_reihe</td>\n",
       "      <td>150000</td>\n",
       "      <td>8</td>\n",
       "      <td>petrol</td>\n",
       "      <td>peugeot</td>\n",
       "      <td>no</td>\n",
       "      <td>2016-04-01 00:00:00</td>\n",
       "      <td>0</td>\n",
       "      <td>67112</td>\n",
       "      <td>2016-04-05 18:18:39</td>\n",
       "    </tr>\n",
       "    <tr>\n",
       "      <th>7</th>\n",
       "      <td>2016-03-21 18:54:38</td>\n",
       "      <td>0</td>\n",
       "      <td>sedan</td>\n",
       "      <td>1980</td>\n",
       "      <td>manual</td>\n",
       "      <td>50</td>\n",
       "      <td>other</td>\n",
       "      <td>40000</td>\n",
       "      <td>7</td>\n",
       "      <td>petrol</td>\n",
       "      <td>volkswagen</td>\n",
       "      <td>no</td>\n",
       "      <td>2016-03-21 00:00:00</td>\n",
       "      <td>0</td>\n",
       "      <td>19348</td>\n",
       "      <td>2016-03-25 16:47:58</td>\n",
       "    </tr>\n",
       "    <tr>\n",
       "      <th>8</th>\n",
       "      <td>2016-04-04 23:42:13</td>\n",
       "      <td>14500</td>\n",
       "      <td>bus</td>\n",
       "      <td>2014</td>\n",
       "      <td>manual</td>\n",
       "      <td>125</td>\n",
       "      <td>c_max</td>\n",
       "      <td>30000</td>\n",
       "      <td>8</td>\n",
       "      <td>petrol</td>\n",
       "      <td>ford</td>\n",
       "      <td>NaN</td>\n",
       "      <td>2016-04-04 00:00:00</td>\n",
       "      <td>0</td>\n",
       "      <td>94505</td>\n",
       "      <td>2016-04-04 23:42:13</td>\n",
       "    </tr>\n",
       "    <tr>\n",
       "      <th>9</th>\n",
       "      <td>2016-03-17 10:53:50</td>\n",
       "      <td>999</td>\n",
       "      <td>small</td>\n",
       "      <td>1998</td>\n",
       "      <td>manual</td>\n",
       "      <td>101</td>\n",
       "      <td>golf</td>\n",
       "      <td>150000</td>\n",
       "      <td>0</td>\n",
       "      <td>NaN</td>\n",
       "      <td>volkswagen</td>\n",
       "      <td>NaN</td>\n",
       "      <td>2016-03-17 00:00:00</td>\n",
       "      <td>0</td>\n",
       "      <td>27472</td>\n",
       "      <td>2016-03-31 17:17:06</td>\n",
       "    </tr>\n",
       "  </tbody>\n",
       "</table>\n",
       "</div>"
      ],
      "text/plain": [
       "           DateCrawled  Price  VehicleType  RegistrationYear Gearbox  Power  \\\n",
       "0  2016-03-24 11:52:17    480          NaN              1993  manual      0   \n",
       "1  2016-03-24 10:58:45  18300        coupe              2011  manual    190   \n",
       "2  2016-03-14 12:52:21   9800          suv              2004    auto    163   \n",
       "3  2016-03-17 16:54:04   1500        small              2001  manual     75   \n",
       "4  2016-03-31 17:25:20   3600        small              2008  manual     69   \n",
       "5  2016-04-04 17:36:23    650        sedan              1995  manual    102   \n",
       "6  2016-04-01 20:48:51   2200  convertible              2004  manual    109   \n",
       "7  2016-03-21 18:54:38      0        sedan              1980  manual     50   \n",
       "8  2016-04-04 23:42:13  14500          bus              2014  manual    125   \n",
       "9  2016-03-17 10:53:50    999        small              1998  manual    101   \n",
       "\n",
       "     Model  Kilometer  RegistrationMonth  FuelType       Brand NotRepaired  \\\n",
       "0     golf     150000                  0    petrol  volkswagen         NaN   \n",
       "1      NaN     125000                  5  gasoline        audi         yes   \n",
       "2    grand     125000                  8  gasoline        jeep         NaN   \n",
       "3     golf     150000                  6    petrol  volkswagen          no   \n",
       "4    fabia      90000                  7  gasoline       skoda          no   \n",
       "5      3er     150000                 10    petrol         bmw         yes   \n",
       "6  2_reihe     150000                  8    petrol     peugeot          no   \n",
       "7    other      40000                  7    petrol  volkswagen          no   \n",
       "8    c_max      30000                  8    petrol        ford         NaN   \n",
       "9     golf     150000                  0       NaN  volkswagen         NaN   \n",
       "\n",
       "           DateCreated  NumberOfPictures  PostalCode             LastSeen  \n",
       "0  2016-03-24 00:00:00                 0       70435  2016-04-07 03:16:57  \n",
       "1  2016-03-24 00:00:00                 0       66954  2016-04-07 01:46:50  \n",
       "2  2016-03-14 00:00:00                 0       90480  2016-04-05 12:47:46  \n",
       "3  2016-03-17 00:00:00                 0       91074  2016-03-17 17:40:17  \n",
       "4  2016-03-31 00:00:00                 0       60437  2016-04-06 10:17:21  \n",
       "5  2016-04-04 00:00:00                 0       33775  2016-04-06 19:17:07  \n",
       "6  2016-04-01 00:00:00                 0       67112  2016-04-05 18:18:39  \n",
       "7  2016-03-21 00:00:00                 0       19348  2016-03-25 16:47:58  \n",
       "8  2016-04-04 00:00:00                 0       94505  2016-04-04 23:42:13  \n",
       "9  2016-03-17 00:00:00                 0       27472  2016-03-31 17:17:06  "
      ]
     },
     "execution_count": 3,
     "metadata": {},
     "output_type": "execute_result"
    }
   ],
   "source": [
    "df.head(10)"
   ]
  },
  {
   "cell_type": "markdown",
   "metadata": {},
   "source": [
    "Посмотрим на информацию по таблице"
   ]
  },
  {
   "cell_type": "code",
   "execution_count": 4,
   "metadata": {},
   "outputs": [
    {
     "name": "stdout",
     "output_type": "stream",
     "text": [
      "<class 'pandas.core.frame.DataFrame'>\n",
      "RangeIndex: 354369 entries, 0 to 354368\n",
      "Data columns (total 16 columns):\n",
      " #   Column             Non-Null Count   Dtype \n",
      "---  ------             --------------   ----- \n",
      " 0   DateCrawled        354369 non-null  object\n",
      " 1   Price              354369 non-null  int64 \n",
      " 2   VehicleType        316879 non-null  object\n",
      " 3   RegistrationYear   354369 non-null  int64 \n",
      " 4   Gearbox            334536 non-null  object\n",
      " 5   Power              354369 non-null  int64 \n",
      " 6   Model              334664 non-null  object\n",
      " 7   Kilometer          354369 non-null  int64 \n",
      " 8   RegistrationMonth  354369 non-null  int64 \n",
      " 9   FuelType           321474 non-null  object\n",
      " 10  Brand              354369 non-null  object\n",
      " 11  NotRepaired        283215 non-null  object\n",
      " 12  DateCreated        354369 non-null  object\n",
      " 13  NumberOfPictures   354369 non-null  int64 \n",
      " 14  PostalCode         354369 non-null  int64 \n",
      " 15  LastSeen           354369 non-null  object\n",
      "dtypes: int64(7), object(9)\n",
      "memory usage: 43.3+ MB\n"
     ]
    }
   ],
   "source": [
    "df.info()"
   ]
  },
  {
   "cell_type": "markdown",
   "metadata": {},
   "source": [
    "Посмотрим на статистические данные"
   ]
  },
  {
   "cell_type": "code",
   "execution_count": 5,
   "metadata": {},
   "outputs": [
    {
     "data": {
      "text/html": [
       "<div>\n",
       "<style scoped>\n",
       "    .dataframe tbody tr th:only-of-type {\n",
       "        vertical-align: middle;\n",
       "    }\n",
       "\n",
       "    .dataframe tbody tr th {\n",
       "        vertical-align: top;\n",
       "    }\n",
       "\n",
       "    .dataframe thead th {\n",
       "        text-align: right;\n",
       "    }\n",
       "</style>\n",
       "<table border=\"1\" class=\"dataframe\">\n",
       "  <thead>\n",
       "    <tr style=\"text-align: right;\">\n",
       "      <th></th>\n",
       "      <th>count</th>\n",
       "      <th>mean</th>\n",
       "      <th>std</th>\n",
       "      <th>min</th>\n",
       "      <th>25%</th>\n",
       "      <th>50%</th>\n",
       "      <th>75%</th>\n",
       "      <th>max</th>\n",
       "    </tr>\n",
       "  </thead>\n",
       "  <tbody>\n",
       "    <tr>\n",
       "      <th>Price</th>\n",
       "      <td>354369.0</td>\n",
       "      <td>4416.656776</td>\n",
       "      <td>4514.158514</td>\n",
       "      <td>0.0</td>\n",
       "      <td>1050.0</td>\n",
       "      <td>2700.0</td>\n",
       "      <td>6400.0</td>\n",
       "      <td>20000.0</td>\n",
       "    </tr>\n",
       "    <tr>\n",
       "      <th>RegistrationYear</th>\n",
       "      <td>354369.0</td>\n",
       "      <td>2004.234448</td>\n",
       "      <td>90.227958</td>\n",
       "      <td>1000.0</td>\n",
       "      <td>1999.0</td>\n",
       "      <td>2003.0</td>\n",
       "      <td>2008.0</td>\n",
       "      <td>9999.0</td>\n",
       "    </tr>\n",
       "    <tr>\n",
       "      <th>Power</th>\n",
       "      <td>354369.0</td>\n",
       "      <td>110.094337</td>\n",
       "      <td>189.850405</td>\n",
       "      <td>0.0</td>\n",
       "      <td>69.0</td>\n",
       "      <td>105.0</td>\n",
       "      <td>143.0</td>\n",
       "      <td>20000.0</td>\n",
       "    </tr>\n",
       "    <tr>\n",
       "      <th>Kilometer</th>\n",
       "      <td>354369.0</td>\n",
       "      <td>128211.172535</td>\n",
       "      <td>37905.341530</td>\n",
       "      <td>5000.0</td>\n",
       "      <td>125000.0</td>\n",
       "      <td>150000.0</td>\n",
       "      <td>150000.0</td>\n",
       "      <td>150000.0</td>\n",
       "    </tr>\n",
       "    <tr>\n",
       "      <th>RegistrationMonth</th>\n",
       "      <td>354369.0</td>\n",
       "      <td>5.714645</td>\n",
       "      <td>3.726421</td>\n",
       "      <td>0.0</td>\n",
       "      <td>3.0</td>\n",
       "      <td>6.0</td>\n",
       "      <td>9.0</td>\n",
       "      <td>12.0</td>\n",
       "    </tr>\n",
       "    <tr>\n",
       "      <th>NumberOfPictures</th>\n",
       "      <td>354369.0</td>\n",
       "      <td>0.000000</td>\n",
       "      <td>0.000000</td>\n",
       "      <td>0.0</td>\n",
       "      <td>0.0</td>\n",
       "      <td>0.0</td>\n",
       "      <td>0.0</td>\n",
       "      <td>0.0</td>\n",
       "    </tr>\n",
       "    <tr>\n",
       "      <th>PostalCode</th>\n",
       "      <td>354369.0</td>\n",
       "      <td>50508.689087</td>\n",
       "      <td>25783.096248</td>\n",
       "      <td>1067.0</td>\n",
       "      <td>30165.0</td>\n",
       "      <td>49413.0</td>\n",
       "      <td>71083.0</td>\n",
       "      <td>99998.0</td>\n",
       "    </tr>\n",
       "  </tbody>\n",
       "</table>\n",
       "</div>"
      ],
      "text/plain": [
       "                      count           mean           std     min       25%  \\\n",
       "Price              354369.0    4416.656776   4514.158514     0.0    1050.0   \n",
       "RegistrationYear   354369.0    2004.234448     90.227958  1000.0    1999.0   \n",
       "Power              354369.0     110.094337    189.850405     0.0      69.0   \n",
       "Kilometer          354369.0  128211.172535  37905.341530  5000.0  125000.0   \n",
       "RegistrationMonth  354369.0       5.714645      3.726421     0.0       3.0   \n",
       "NumberOfPictures   354369.0       0.000000      0.000000     0.0       0.0   \n",
       "PostalCode         354369.0   50508.689087  25783.096248  1067.0   30165.0   \n",
       "\n",
       "                        50%       75%       max  \n",
       "Price                2700.0    6400.0   20000.0  \n",
       "RegistrationYear     2003.0    2008.0    9999.0  \n",
       "Power                 105.0     143.0   20000.0  \n",
       "Kilometer          150000.0  150000.0  150000.0  \n",
       "RegistrationMonth       6.0       9.0      12.0  \n",
       "NumberOfPictures        0.0       0.0       0.0  \n",
       "PostalCode          49413.0   71083.0   99998.0  "
      ]
     },
     "execution_count": 5,
     "metadata": {},
     "output_type": "execute_result"
    }
   ],
   "source": [
    "df.describe().T"
   ]
  },
  {
   "cell_type": "markdown",
   "metadata": {},
   "source": [
    "Посмотрим на количество пропущенных значений"
   ]
  },
  {
   "cell_type": "code",
   "execution_count": 6,
   "metadata": {},
   "outputs": [
    {
     "data": {
      "text/html": [
       "<div>\n",
       "<style scoped>\n",
       "    .dataframe tbody tr th:only-of-type {\n",
       "        vertical-align: middle;\n",
       "    }\n",
       "\n",
       "    .dataframe tbody tr th {\n",
       "        vertical-align: top;\n",
       "    }\n",
       "\n",
       "    .dataframe thead th {\n",
       "        text-align: right;\n",
       "    }\n",
       "</style>\n",
       "<table border=\"1\" class=\"dataframe\">\n",
       "  <thead>\n",
       "    <tr style=\"text-align: right;\">\n",
       "      <th></th>\n",
       "      <th>count_missing</th>\n",
       "      <th>percent_missing</th>\n",
       "    </tr>\n",
       "  </thead>\n",
       "  <tbody>\n",
       "    <tr>\n",
       "      <th>NotRepaired</th>\n",
       "      <td>71154</td>\n",
       "      <td>20.08</td>\n",
       "    </tr>\n",
       "    <tr>\n",
       "      <th>VehicleType</th>\n",
       "      <td>37490</td>\n",
       "      <td>10.58</td>\n",
       "    </tr>\n",
       "    <tr>\n",
       "      <th>FuelType</th>\n",
       "      <td>32895</td>\n",
       "      <td>9.28</td>\n",
       "    </tr>\n",
       "    <tr>\n",
       "      <th>Gearbox</th>\n",
       "      <td>19833</td>\n",
       "      <td>5.60</td>\n",
       "    </tr>\n",
       "    <tr>\n",
       "      <th>Model</th>\n",
       "      <td>19705</td>\n",
       "      <td>5.56</td>\n",
       "    </tr>\n",
       "    <tr>\n",
       "      <th>DateCrawled</th>\n",
       "      <td>0</td>\n",
       "      <td>0.00</td>\n",
       "    </tr>\n",
       "    <tr>\n",
       "      <th>Price</th>\n",
       "      <td>0</td>\n",
       "      <td>0.00</td>\n",
       "    </tr>\n",
       "    <tr>\n",
       "      <th>RegistrationYear</th>\n",
       "      <td>0</td>\n",
       "      <td>0.00</td>\n",
       "    </tr>\n",
       "    <tr>\n",
       "      <th>Power</th>\n",
       "      <td>0</td>\n",
       "      <td>0.00</td>\n",
       "    </tr>\n",
       "    <tr>\n",
       "      <th>Kilometer</th>\n",
       "      <td>0</td>\n",
       "      <td>0.00</td>\n",
       "    </tr>\n",
       "    <tr>\n",
       "      <th>RegistrationMonth</th>\n",
       "      <td>0</td>\n",
       "      <td>0.00</td>\n",
       "    </tr>\n",
       "    <tr>\n",
       "      <th>Brand</th>\n",
       "      <td>0</td>\n",
       "      <td>0.00</td>\n",
       "    </tr>\n",
       "    <tr>\n",
       "      <th>DateCreated</th>\n",
       "      <td>0</td>\n",
       "      <td>0.00</td>\n",
       "    </tr>\n",
       "    <tr>\n",
       "      <th>NumberOfPictures</th>\n",
       "      <td>0</td>\n",
       "      <td>0.00</td>\n",
       "    </tr>\n",
       "    <tr>\n",
       "      <th>PostalCode</th>\n",
       "      <td>0</td>\n",
       "      <td>0.00</td>\n",
       "    </tr>\n",
       "    <tr>\n",
       "      <th>LastSeen</th>\n",
       "      <td>0</td>\n",
       "      <td>0.00</td>\n",
       "    </tr>\n",
       "  </tbody>\n",
       "</table>\n",
       "</div>"
      ],
      "text/plain": [
       "                   count_missing  percent_missing\n",
       "NotRepaired                71154            20.08\n",
       "VehicleType                37490            10.58\n",
       "FuelType                   32895             9.28\n",
       "Gearbox                    19833             5.60\n",
       "Model                      19705             5.56\n",
       "DateCrawled                    0             0.00\n",
       "Price                          0             0.00\n",
       "RegistrationYear               0             0.00\n",
       "Power                          0             0.00\n",
       "Kilometer                      0             0.00\n",
       "RegistrationMonth              0             0.00\n",
       "Brand                          0             0.00\n",
       "DateCreated                    0             0.00\n",
       "NumberOfPictures               0             0.00\n",
       "PostalCode                     0             0.00\n",
       "LastSeen                       0             0.00"
      ]
     },
     "execution_count": 6,
     "metadata": {},
     "output_type": "execute_result"
    }
   ],
   "source": [
    "pd.DataFrame({\n",
    "    'count_missing': df.isna().sum(),\n",
    "    'percent_missing': np.round(df.isna().mean()*100,2)\n",
    "}).sort_values(by='count_missing', ascending=False)"
   ]
  },
  {
   "cell_type": "code",
   "execution_count": 7,
   "metadata": {},
   "outputs": [
    {
     "name": "stdout",
     "output_type": "stream",
     "text": [
      "Количество дубликатов в данных равно 4 шт\n"
     ]
    }
   ],
   "source": [
    "print('Количество дубликатов в данных равно {} шт'.format(df.duplicated().sum()))"
   ]
  },
  {
   "cell_type": "markdown",
   "metadata": {},
   "source": [
    "Избавимся от дубликатов"
   ]
  },
  {
   "cell_type": "code",
   "execution_count": 8,
   "metadata": {},
   "outputs": [],
   "source": [
    "df = df.drop_duplicates()"
   ]
  },
  {
   "cell_type": "code",
   "execution_count": 9,
   "metadata": {},
   "outputs": [
    {
     "name": "stdout",
     "output_type": "stream",
     "text": [
      "Количество дубликатов в данных равно 0 шт\n"
     ]
    }
   ],
   "source": [
    "print('Количество дубликатов в данных равно {} шт'.format(df.duplicated().sum()))"
   ]
  },
  {
   "cell_type": "markdown",
   "metadata": {},
   "source": [
    "### Вывод"
   ]
  },
  {
   "cell_type": "markdown",
   "metadata": {},
   "source": [
    "Мы загрузили данные и посмотрели на них. Необходимо выполнить следующее:\n",
    "1) Привести столбцы к snake_case  \n",
    "2) Удалить лишние столбцы которые никак не влияют на стоимость автомобиля  \n",
    "3) В данных большое количество пропущенных значений, нужно посмотреть на них  \n",
    "4) По статистической информации видим, что в некоторых столбцах явно есть выбросы, надо разобраться с ними  "
   ]
  },
  {
   "cell_type": "markdown",
   "metadata": {},
   "source": [
    "## Предобработка данных"
   ]
  },
  {
   "cell_type": "markdown",
   "metadata": {},
   "source": [
    "### Изменение названий столбцов"
   ]
  },
  {
   "cell_type": "markdown",
   "metadata": {},
   "source": [
    "Приведем столбцы к snake_case"
   ]
  },
  {
   "cell_type": "code",
   "execution_count": 10,
   "metadata": {},
   "outputs": [],
   "source": [
    "df.columns = ['date_crawled',\n",
    " 'price',\n",
    " 'vehicle_type',\n",
    " 'registration_year',\n",
    " 'gearbox',\n",
    " 'power',\n",
    " 'model',\n",
    " 'kilometer',\n",
    " 'registration_month',\n",
    " 'fuel_type',\n",
    " 'brand',\n",
    " 'not_repaired',\n",
    " 'date_created',\n",
    " 'number_of_pictures',\n",
    " 'postal_code',\n",
    " 'last_seen']"
   ]
  },
  {
   "cell_type": "markdown",
   "metadata": {},
   "source": [
    "### Удаление столбцов"
   ]
  },
  {
   "cell_type": "markdown",
   "metadata": {},
   "source": [
    "В нашем датафрейме есть столбцы которые никак не влияют на стоимость автомобиля:\n",
    "- date_crawled — дата скачивания анкеты из базы\n",
    "- registration_month — месяц регистрации автомобиля (у нас есть год регистрации)\n",
    "- date_created — дата создания анкеты\n",
    "- number_of_pictures — количество фотографий автомобиля\n",
    "- postal_code — почтовый индекс владельца анкеты (пользователя)\n",
    "- last_seen — дата последней активности пользователя  \n",
    "\n",
    "Предлагаю их удалить"
   ]
  },
  {
   "cell_type": "code",
   "execution_count": 11,
   "metadata": {},
   "outputs": [],
   "source": [
    "df = df.drop([\n",
    "    'date_crawled', \n",
    "    'registration_month', \n",
    "    'date_created', \n",
    "    'number_of_pictures',\n",
    "    'postal_code', \n",
    "    'last_seen'\n",
    "], axis=1)"
   ]
  },
  {
   "cell_type": "markdown",
   "metadata": {},
   "source": [
    "Посмотрим на получившийся датафрейм"
   ]
  },
  {
   "cell_type": "code",
   "execution_count": 12,
   "metadata": {},
   "outputs": [
    {
     "data": {
      "text/html": [
       "<div>\n",
       "<style scoped>\n",
       "    .dataframe tbody tr th:only-of-type {\n",
       "        vertical-align: middle;\n",
       "    }\n",
       "\n",
       "    .dataframe tbody tr th {\n",
       "        vertical-align: top;\n",
       "    }\n",
       "\n",
       "    .dataframe thead th {\n",
       "        text-align: right;\n",
       "    }\n",
       "</style>\n",
       "<table border=\"1\" class=\"dataframe\">\n",
       "  <thead>\n",
       "    <tr style=\"text-align: right;\">\n",
       "      <th></th>\n",
       "      <th>price</th>\n",
       "      <th>vehicle_type</th>\n",
       "      <th>registration_year</th>\n",
       "      <th>gearbox</th>\n",
       "      <th>power</th>\n",
       "      <th>model</th>\n",
       "      <th>kilometer</th>\n",
       "      <th>fuel_type</th>\n",
       "      <th>brand</th>\n",
       "      <th>not_repaired</th>\n",
       "    </tr>\n",
       "  </thead>\n",
       "  <tbody>\n",
       "    <tr>\n",
       "      <th>0</th>\n",
       "      <td>480</td>\n",
       "      <td>NaN</td>\n",
       "      <td>1993</td>\n",
       "      <td>manual</td>\n",
       "      <td>0</td>\n",
       "      <td>golf</td>\n",
       "      <td>150000</td>\n",
       "      <td>petrol</td>\n",
       "      <td>volkswagen</td>\n",
       "      <td>NaN</td>\n",
       "    </tr>\n",
       "    <tr>\n",
       "      <th>1</th>\n",
       "      <td>18300</td>\n",
       "      <td>coupe</td>\n",
       "      <td>2011</td>\n",
       "      <td>manual</td>\n",
       "      <td>190</td>\n",
       "      <td>NaN</td>\n",
       "      <td>125000</td>\n",
       "      <td>gasoline</td>\n",
       "      <td>audi</td>\n",
       "      <td>yes</td>\n",
       "    </tr>\n",
       "    <tr>\n",
       "      <th>2</th>\n",
       "      <td>9800</td>\n",
       "      <td>suv</td>\n",
       "      <td>2004</td>\n",
       "      <td>auto</td>\n",
       "      <td>163</td>\n",
       "      <td>grand</td>\n",
       "      <td>125000</td>\n",
       "      <td>gasoline</td>\n",
       "      <td>jeep</td>\n",
       "      <td>NaN</td>\n",
       "    </tr>\n",
       "    <tr>\n",
       "      <th>3</th>\n",
       "      <td>1500</td>\n",
       "      <td>small</td>\n",
       "      <td>2001</td>\n",
       "      <td>manual</td>\n",
       "      <td>75</td>\n",
       "      <td>golf</td>\n",
       "      <td>150000</td>\n",
       "      <td>petrol</td>\n",
       "      <td>volkswagen</td>\n",
       "      <td>no</td>\n",
       "    </tr>\n",
       "    <tr>\n",
       "      <th>4</th>\n",
       "      <td>3600</td>\n",
       "      <td>small</td>\n",
       "      <td>2008</td>\n",
       "      <td>manual</td>\n",
       "      <td>69</td>\n",
       "      <td>fabia</td>\n",
       "      <td>90000</td>\n",
       "      <td>gasoline</td>\n",
       "      <td>skoda</td>\n",
       "      <td>no</td>\n",
       "    </tr>\n",
       "  </tbody>\n",
       "</table>\n",
       "</div>"
      ],
      "text/plain": [
       "   price vehicle_type  registration_year gearbox  power  model  kilometer  \\\n",
       "0    480          NaN               1993  manual      0   golf     150000   \n",
       "1  18300        coupe               2011  manual    190    NaN     125000   \n",
       "2   9800          suv               2004    auto    163  grand     125000   \n",
       "3   1500        small               2001  manual     75   golf     150000   \n",
       "4   3600        small               2008  manual     69  fabia      90000   \n",
       "\n",
       "  fuel_type       brand not_repaired  \n",
       "0    petrol  volkswagen          NaN  \n",
       "1  gasoline        audi          yes  \n",
       "2  gasoline        jeep          NaN  \n",
       "3    petrol  volkswagen           no  \n",
       "4  gasoline       skoda           no  "
      ]
     },
     "execution_count": 12,
     "metadata": {},
     "output_type": "execute_result"
    }
   ],
   "source": [
    "df.head()"
   ]
  },
  {
   "cell_type": "markdown",
   "metadata": {},
   "source": [
    "### Обработка пропущенных значений"
   ]
  },
  {
   "cell_type": "markdown",
   "metadata": {},
   "source": [
    "Выведем еще раз пропущенные значения"
   ]
  },
  {
   "cell_type": "code",
   "execution_count": 13,
   "metadata": {},
   "outputs": [
    {
     "data": {
      "text/html": [
       "<div>\n",
       "<style scoped>\n",
       "    .dataframe tbody tr th:only-of-type {\n",
       "        vertical-align: middle;\n",
       "    }\n",
       "\n",
       "    .dataframe tbody tr th {\n",
       "        vertical-align: top;\n",
       "    }\n",
       "\n",
       "    .dataframe thead th {\n",
       "        text-align: right;\n",
       "    }\n",
       "</style>\n",
       "<table border=\"1\" class=\"dataframe\">\n",
       "  <thead>\n",
       "    <tr style=\"text-align: right;\">\n",
       "      <th></th>\n",
       "      <th>count_missing</th>\n",
       "      <th>percent_missing</th>\n",
       "    </tr>\n",
       "  </thead>\n",
       "  <tbody>\n",
       "    <tr>\n",
       "      <th>not_repaired</th>\n",
       "      <td>71154</td>\n",
       "      <td>20.08</td>\n",
       "    </tr>\n",
       "    <tr>\n",
       "      <th>vehicle_type</th>\n",
       "      <td>37490</td>\n",
       "      <td>10.58</td>\n",
       "    </tr>\n",
       "    <tr>\n",
       "      <th>fuel_type</th>\n",
       "      <td>32895</td>\n",
       "      <td>9.28</td>\n",
       "    </tr>\n",
       "    <tr>\n",
       "      <th>gearbox</th>\n",
       "      <td>19833</td>\n",
       "      <td>5.60</td>\n",
       "    </tr>\n",
       "    <tr>\n",
       "      <th>model</th>\n",
       "      <td>19705</td>\n",
       "      <td>5.56</td>\n",
       "    </tr>\n",
       "    <tr>\n",
       "      <th>price</th>\n",
       "      <td>0</td>\n",
       "      <td>0.00</td>\n",
       "    </tr>\n",
       "    <tr>\n",
       "      <th>registration_year</th>\n",
       "      <td>0</td>\n",
       "      <td>0.00</td>\n",
       "    </tr>\n",
       "    <tr>\n",
       "      <th>power</th>\n",
       "      <td>0</td>\n",
       "      <td>0.00</td>\n",
       "    </tr>\n",
       "    <tr>\n",
       "      <th>kilometer</th>\n",
       "      <td>0</td>\n",
       "      <td>0.00</td>\n",
       "    </tr>\n",
       "    <tr>\n",
       "      <th>brand</th>\n",
       "      <td>0</td>\n",
       "      <td>0.00</td>\n",
       "    </tr>\n",
       "  </tbody>\n",
       "</table>\n",
       "</div>"
      ],
      "text/plain": [
       "                   count_missing  percent_missing\n",
       "not_repaired               71154            20.08\n",
       "vehicle_type               37490            10.58\n",
       "fuel_type                  32895             9.28\n",
       "gearbox                    19833             5.60\n",
       "model                      19705             5.56\n",
       "price                          0             0.00\n",
       "registration_year              0             0.00\n",
       "power                          0             0.00\n",
       "kilometer                      0             0.00\n",
       "brand                          0             0.00"
      ]
     },
     "execution_count": 13,
     "metadata": {},
     "output_type": "execute_result"
    }
   ],
   "source": [
    "pd.DataFrame({\n",
    "    'count_missing': df.isna().sum(),\n",
    "    'percent_missing': np.round(df.isna().mean()*100,2)\n",
    "}).sort_values(by='count_missing', ascending=False)"
   ]
  },
  {
   "cell_type": "markdown",
   "metadata": {},
   "source": [
    "Очень большое количество пропущенных значений от 5.56 до 20.08%"
   ]
  },
  {
   "cell_type": "markdown",
   "metadata": {},
   "source": [
    "#### Пропущенные значения столбца `model`"
   ]
  },
  {
   "cell_type": "markdown",
   "metadata": {},
   "source": [
    "Посмотрим на пропущенные значения"
   ]
  },
  {
   "cell_type": "code",
   "execution_count": 14,
   "metadata": {},
   "outputs": [
    {
     "data": {
      "text/html": [
       "<div>\n",
       "<style scoped>\n",
       "    .dataframe tbody tr th:only-of-type {\n",
       "        vertical-align: middle;\n",
       "    }\n",
       "\n",
       "    .dataframe tbody tr th {\n",
       "        vertical-align: top;\n",
       "    }\n",
       "\n",
       "    .dataframe thead th {\n",
       "        text-align: right;\n",
       "    }\n",
       "</style>\n",
       "<table border=\"1\" class=\"dataframe\">\n",
       "  <thead>\n",
       "    <tr style=\"text-align: right;\">\n",
       "      <th></th>\n",
       "      <th>price</th>\n",
       "      <th>vehicle_type</th>\n",
       "      <th>registration_year</th>\n",
       "      <th>gearbox</th>\n",
       "      <th>power</th>\n",
       "      <th>model</th>\n",
       "      <th>kilometer</th>\n",
       "      <th>fuel_type</th>\n",
       "      <th>brand</th>\n",
       "      <th>not_repaired</th>\n",
       "    </tr>\n",
       "  </thead>\n",
       "  <tbody>\n",
       "    <tr>\n",
       "      <th>81813</th>\n",
       "      <td>3700</td>\n",
       "      <td>other</td>\n",
       "      <td>2004</td>\n",
       "      <td>manual</td>\n",
       "      <td>105</td>\n",
       "      <td>NaN</td>\n",
       "      <td>150000</td>\n",
       "      <td>gasoline</td>\n",
       "      <td>citroen</td>\n",
       "      <td>NaN</td>\n",
       "    </tr>\n",
       "    <tr>\n",
       "      <th>132359</th>\n",
       "      <td>0</td>\n",
       "      <td>convertible</td>\n",
       "      <td>2004</td>\n",
       "      <td>manual</td>\n",
       "      <td>163</td>\n",
       "      <td>NaN</td>\n",
       "      <td>150000</td>\n",
       "      <td>gasoline</td>\n",
       "      <td>audi</td>\n",
       "      <td>NaN</td>\n",
       "    </tr>\n",
       "    <tr>\n",
       "      <th>143426</th>\n",
       "      <td>4500</td>\n",
       "      <td>NaN</td>\n",
       "      <td>2005</td>\n",
       "      <td>manual</td>\n",
       "      <td>0</td>\n",
       "      <td>NaN</td>\n",
       "      <td>150000</td>\n",
       "      <td>gasoline</td>\n",
       "      <td>mercedes_benz</td>\n",
       "      <td>no</td>\n",
       "    </tr>\n",
       "    <tr>\n",
       "      <th>21105</th>\n",
       "      <td>600</td>\n",
       "      <td>NaN</td>\n",
       "      <td>2016</td>\n",
       "      <td>manual</td>\n",
       "      <td>101</td>\n",
       "      <td>NaN</td>\n",
       "      <td>150000</td>\n",
       "      <td>petrol</td>\n",
       "      <td>audi</td>\n",
       "      <td>no</td>\n",
       "    </tr>\n",
       "    <tr>\n",
       "      <th>284583</th>\n",
       "      <td>3100</td>\n",
       "      <td>NaN</td>\n",
       "      <td>2000</td>\n",
       "      <td>NaN</td>\n",
       "      <td>120</td>\n",
       "      <td>NaN</td>\n",
       "      <td>150000</td>\n",
       "      <td>NaN</td>\n",
       "      <td>volkswagen</td>\n",
       "      <td>NaN</td>\n",
       "    </tr>\n",
       "  </tbody>\n",
       "</table>\n",
       "</div>"
      ],
      "text/plain": [
       "        price vehicle_type  registration_year gearbox  power model  kilometer  \\\n",
       "81813    3700        other               2004  manual    105   NaN     150000   \n",
       "132359      0  convertible               2004  manual    163   NaN     150000   \n",
       "143426   4500          NaN               2005  manual      0   NaN     150000   \n",
       "21105     600          NaN               2016  manual    101   NaN     150000   \n",
       "284583   3100          NaN               2000     NaN    120   NaN     150000   \n",
       "\n",
       "       fuel_type          brand not_repaired  \n",
       "81813   gasoline        citroen          NaN  \n",
       "132359  gasoline           audi          NaN  \n",
       "143426  gasoline  mercedes_benz           no  \n",
       "21105     petrol           audi           no  \n",
       "284583       NaN     volkswagen          NaN  "
      ]
     },
     "execution_count": 14,
     "metadata": {},
     "output_type": "execute_result"
    }
   ],
   "source": [
    "df[df['model'].isna()].sample(5)"
   ]
  },
  {
   "cell_type": "code",
   "execution_count": 15,
   "metadata": {},
   "outputs": [
    {
     "data": {
      "text/plain": [
       "golf                  29232\n",
       "other                 24420\n",
       "3er                   19761\n",
       "polo                  13066\n",
       "corsa                 12570\n",
       "                      ...  \n",
       "serie_2                   8\n",
       "serie_3                   4\n",
       "rangerover                4\n",
       "serie_1                   2\n",
       "range_rover_evoque        2\n",
       "Name: model, Length: 250, dtype: int64"
      ]
     },
     "execution_count": 15,
     "metadata": {},
     "output_type": "execute_result"
    }
   ],
   "source": [
    "df['model'].value_counts()"
   ]
  },
  {
   "cell_type": "markdown",
   "metadata": {},
   "source": [
    "Как мы видим, пропущенные значения относятся к различным брендам и вряд ли их получится восстановить однозначно, поэтому предлагаю заменить пропущенные значения на **unknown**"
   ]
  },
  {
   "cell_type": "code",
   "execution_count": 16,
   "metadata": {},
   "outputs": [],
   "source": [
    "df['model'] = df['model'].fillna('unknown')"
   ]
  },
  {
   "cell_type": "markdown",
   "metadata": {},
   "source": [
    "#### Пропущенные значения столбца `gearbox`"
   ]
  },
  {
   "cell_type": "markdown",
   "metadata": {},
   "source": [
    "Посмотрим на пропущенные значения"
   ]
  },
  {
   "cell_type": "code",
   "execution_count": 17,
   "metadata": {},
   "outputs": [
    {
     "data": {
      "text/html": [
       "<div>\n",
       "<style scoped>\n",
       "    .dataframe tbody tr th:only-of-type {\n",
       "        vertical-align: middle;\n",
       "    }\n",
       "\n",
       "    .dataframe tbody tr th {\n",
       "        vertical-align: top;\n",
       "    }\n",
       "\n",
       "    .dataframe thead th {\n",
       "        text-align: right;\n",
       "    }\n",
       "</style>\n",
       "<table border=\"1\" class=\"dataframe\">\n",
       "  <thead>\n",
       "    <tr style=\"text-align: right;\">\n",
       "      <th></th>\n",
       "      <th>price</th>\n",
       "      <th>vehicle_type</th>\n",
       "      <th>registration_year</th>\n",
       "      <th>gearbox</th>\n",
       "      <th>power</th>\n",
       "      <th>model</th>\n",
       "      <th>kilometer</th>\n",
       "      <th>fuel_type</th>\n",
       "      <th>brand</th>\n",
       "      <th>not_repaired</th>\n",
       "    </tr>\n",
       "  </thead>\n",
       "  <tbody>\n",
       "    <tr>\n",
       "      <th>149446</th>\n",
       "      <td>950</td>\n",
       "      <td>small</td>\n",
       "      <td>1997</td>\n",
       "      <td>NaN</td>\n",
       "      <td>45</td>\n",
       "      <td>corsa</td>\n",
       "      <td>150000</td>\n",
       "      <td>petrol</td>\n",
       "      <td>opel</td>\n",
       "      <td>no</td>\n",
       "    </tr>\n",
       "    <tr>\n",
       "      <th>222562</th>\n",
       "      <td>2350</td>\n",
       "      <td>NaN</td>\n",
       "      <td>2017</td>\n",
       "      <td>NaN</td>\n",
       "      <td>105</td>\n",
       "      <td>golf</td>\n",
       "      <td>125000</td>\n",
       "      <td>petrol</td>\n",
       "      <td>volkswagen</td>\n",
       "      <td>NaN</td>\n",
       "    </tr>\n",
       "    <tr>\n",
       "      <th>257956</th>\n",
       "      <td>27</td>\n",
       "      <td>NaN</td>\n",
       "      <td>2006</td>\n",
       "      <td>NaN</td>\n",
       "      <td>0</td>\n",
       "      <td>ka</td>\n",
       "      <td>125000</td>\n",
       "      <td>petrol</td>\n",
       "      <td>ford</td>\n",
       "      <td>NaN</td>\n",
       "    </tr>\n",
       "    <tr>\n",
       "      <th>346978</th>\n",
       "      <td>2000</td>\n",
       "      <td>wagon</td>\n",
       "      <td>2003</td>\n",
       "      <td>NaN</td>\n",
       "      <td>0</td>\n",
       "      <td>passat</td>\n",
       "      <td>150000</td>\n",
       "      <td>gasoline</td>\n",
       "      <td>volkswagen</td>\n",
       "      <td>NaN</td>\n",
       "    </tr>\n",
       "    <tr>\n",
       "      <th>8297</th>\n",
       "      <td>1500</td>\n",
       "      <td>small</td>\n",
       "      <td>2004</td>\n",
       "      <td>NaN</td>\n",
       "      <td>0</td>\n",
       "      <td>arosa</td>\n",
       "      <td>150000</td>\n",
       "      <td>petrol</td>\n",
       "      <td>seat</td>\n",
       "      <td>NaN</td>\n",
       "    </tr>\n",
       "  </tbody>\n",
       "</table>\n",
       "</div>"
      ],
      "text/plain": [
       "        price vehicle_type  registration_year gearbox  power   model  \\\n",
       "149446    950        small               1997     NaN     45   corsa   \n",
       "222562   2350          NaN               2017     NaN    105    golf   \n",
       "257956     27          NaN               2006     NaN      0      ka   \n",
       "346978   2000        wagon               2003     NaN      0  passat   \n",
       "8297     1500        small               2004     NaN      0   arosa   \n",
       "\n",
       "        kilometer fuel_type       brand not_repaired  \n",
       "149446     150000    petrol        opel           no  \n",
       "222562     125000    petrol  volkswagen          NaN  \n",
       "257956     125000    petrol        ford          NaN  \n",
       "346978     150000  gasoline  volkswagen          NaN  \n",
       "8297       150000    petrol        seat          NaN  "
      ]
     },
     "execution_count": 17,
     "metadata": {},
     "output_type": "execute_result"
    }
   ],
   "source": [
    "df[df['gearbox'].isna()].sample(5)"
   ]
  },
  {
   "cell_type": "code",
   "execution_count": 18,
   "metadata": {},
   "outputs": [
    {
     "data": {
      "text/plain": [
       "manual    268249\n",
       "auto       66283\n",
       "Name: gearbox, dtype: int64"
      ]
     },
     "execution_count": 18,
     "metadata": {},
     "output_type": "execute_result"
    }
   ],
   "source": [
    "df['gearbox'].value_counts()"
   ]
  },
  {
   "cell_type": "markdown",
   "metadata": {},
   "source": [
    "Скорее всего, тут тоже вряд ли получится восстановить данные однозначно, поэтому предлагаю заменить пропущенные значения на **unknown**"
   ]
  },
  {
   "cell_type": "code",
   "execution_count": 19,
   "metadata": {},
   "outputs": [],
   "source": [
    "df['gearbox'] = df['gearbox'].fillna('unknown')"
   ]
  },
  {
   "cell_type": "markdown",
   "metadata": {},
   "source": [
    "#### Пропущенные значения столбца `fuel_type`"
   ]
  },
  {
   "cell_type": "markdown",
   "metadata": {},
   "source": [
    "Посмотрим на пропущенные значения"
   ]
  },
  {
   "cell_type": "code",
   "execution_count": 20,
   "metadata": {},
   "outputs": [
    {
     "data": {
      "text/html": [
       "<div>\n",
       "<style scoped>\n",
       "    .dataframe tbody tr th:only-of-type {\n",
       "        vertical-align: middle;\n",
       "    }\n",
       "\n",
       "    .dataframe tbody tr th {\n",
       "        vertical-align: top;\n",
       "    }\n",
       "\n",
       "    .dataframe thead th {\n",
       "        text-align: right;\n",
       "    }\n",
       "</style>\n",
       "<table border=\"1\" class=\"dataframe\">\n",
       "  <thead>\n",
       "    <tr style=\"text-align: right;\">\n",
       "      <th></th>\n",
       "      <th>price</th>\n",
       "      <th>vehicle_type</th>\n",
       "      <th>registration_year</th>\n",
       "      <th>gearbox</th>\n",
       "      <th>power</th>\n",
       "      <th>model</th>\n",
       "      <th>kilometer</th>\n",
       "      <th>fuel_type</th>\n",
       "      <th>brand</th>\n",
       "      <th>not_repaired</th>\n",
       "    </tr>\n",
       "  </thead>\n",
       "  <tbody>\n",
       "    <tr>\n",
       "      <th>141254</th>\n",
       "      <td>1100</td>\n",
       "      <td>sedan</td>\n",
       "      <td>1997</td>\n",
       "      <td>manual</td>\n",
       "      <td>122</td>\n",
       "      <td>c_klasse</td>\n",
       "      <td>125000</td>\n",
       "      <td>NaN</td>\n",
       "      <td>mercedes_benz</td>\n",
       "      <td>NaN</td>\n",
       "    </tr>\n",
       "    <tr>\n",
       "      <th>250803</th>\n",
       "      <td>3700</td>\n",
       "      <td>NaN</td>\n",
       "      <td>2017</td>\n",
       "      <td>manual</td>\n",
       "      <td>69</td>\n",
       "      <td>unknown</td>\n",
       "      <td>90000</td>\n",
       "      <td>NaN</td>\n",
       "      <td>daihatsu</td>\n",
       "      <td>NaN</td>\n",
       "    </tr>\n",
       "    <tr>\n",
       "      <th>171124</th>\n",
       "      <td>3400</td>\n",
       "      <td>bus</td>\n",
       "      <td>2005</td>\n",
       "      <td>manual</td>\n",
       "      <td>91</td>\n",
       "      <td>other</td>\n",
       "      <td>150000</td>\n",
       "      <td>NaN</td>\n",
       "      <td>mercedes_benz</td>\n",
       "      <td>NaN</td>\n",
       "    </tr>\n",
       "    <tr>\n",
       "      <th>213199</th>\n",
       "      <td>500</td>\n",
       "      <td>NaN</td>\n",
       "      <td>2000</td>\n",
       "      <td>auto</td>\n",
       "      <td>150</td>\n",
       "      <td>a4</td>\n",
       "      <td>150000</td>\n",
       "      <td>NaN</td>\n",
       "      <td>audi</td>\n",
       "      <td>NaN</td>\n",
       "    </tr>\n",
       "    <tr>\n",
       "      <th>123679</th>\n",
       "      <td>699</td>\n",
       "      <td>sedan</td>\n",
       "      <td>2000</td>\n",
       "      <td>manual</td>\n",
       "      <td>170</td>\n",
       "      <td>omega</td>\n",
       "      <td>150000</td>\n",
       "      <td>NaN</td>\n",
       "      <td>opel</td>\n",
       "      <td>no</td>\n",
       "    </tr>\n",
       "  </tbody>\n",
       "</table>\n",
       "</div>"
      ],
      "text/plain": [
       "        price vehicle_type  registration_year gearbox  power     model  \\\n",
       "141254   1100        sedan               1997  manual    122  c_klasse   \n",
       "250803   3700          NaN               2017  manual     69   unknown   \n",
       "171124   3400          bus               2005  manual     91     other   \n",
       "213199    500          NaN               2000    auto    150        a4   \n",
       "123679    699        sedan               2000  manual    170     omega   \n",
       "\n",
       "        kilometer fuel_type          brand not_repaired  \n",
       "141254     125000       NaN  mercedes_benz          NaN  \n",
       "250803      90000       NaN       daihatsu          NaN  \n",
       "171124     150000       NaN  mercedes_benz          NaN  \n",
       "213199     150000       NaN           audi          NaN  \n",
       "123679     150000       NaN           opel           no  "
      ]
     },
     "execution_count": 20,
     "metadata": {},
     "output_type": "execute_result"
    }
   ],
   "source": [
    "df[df['fuel_type'].isna()].sample(5)"
   ]
  },
  {
   "cell_type": "code",
   "execution_count": 21,
   "metadata": {},
   "outputs": [
    {
     "data": {
      "text/plain": [
       "petrol      216349\n",
       "gasoline     98719\n",
       "lpg           5310\n",
       "cng            565\n",
       "hybrid         233\n",
       "other          204\n",
       "electric        90\n",
       "Name: fuel_type, dtype: int64"
      ]
     },
     "execution_count": 21,
     "metadata": {},
     "output_type": "execute_result"
    }
   ],
   "source": [
    "df['fuel_type'].value_counts()"
   ]
  },
  {
   "cell_type": "markdown",
   "metadata": {},
   "source": [
    "В интернете пишут, что терминами **petrol** и **gasoline** обозначают бензин, но один вариант британский, а второй американский. Предлагаю объеденить их в один американский вариант **gasoline**, а пропущенные значения заменим на **unknown**"
   ]
  },
  {
   "cell_type": "code",
   "execution_count": 22,
   "metadata": {},
   "outputs": [],
   "source": [
    "df['fuel_type'] = np.where(df['fuel_type']=='petrol', 'gasoline', df['fuel_type'])\n",
    "df['fuel_type'] = df['fuel_type'].fillna('unknown')"
   ]
  },
  {
   "cell_type": "markdown",
   "metadata": {},
   "source": [
    "Посмотрим что получилось"
   ]
  },
  {
   "cell_type": "code",
   "execution_count": 23,
   "metadata": {
    "scrolled": true
   },
   "outputs": [
    {
     "data": {
      "text/plain": [
       "gasoline    315068\n",
       "unknown      32895\n",
       "lpg           5310\n",
       "cng            565\n",
       "hybrid         233\n",
       "other          204\n",
       "electric        90\n",
       "Name: fuel_type, dtype: int64"
      ]
     },
     "execution_count": 23,
     "metadata": {},
     "output_type": "execute_result"
    }
   ],
   "source": [
    "df['fuel_type'].value_counts()"
   ]
  },
  {
   "cell_type": "markdown",
   "metadata": {},
   "source": [
    "#### Пропущенные значения столбца `vehicle_type`"
   ]
  },
  {
   "cell_type": "markdown",
   "metadata": {},
   "source": [
    "Посмотрим на пропущенные значения"
   ]
  },
  {
   "cell_type": "code",
   "execution_count": 24,
   "metadata": {},
   "outputs": [
    {
     "data": {
      "text/html": [
       "<div>\n",
       "<style scoped>\n",
       "    .dataframe tbody tr th:only-of-type {\n",
       "        vertical-align: middle;\n",
       "    }\n",
       "\n",
       "    .dataframe tbody tr th {\n",
       "        vertical-align: top;\n",
       "    }\n",
       "\n",
       "    .dataframe thead th {\n",
       "        text-align: right;\n",
       "    }\n",
       "</style>\n",
       "<table border=\"1\" class=\"dataframe\">\n",
       "  <thead>\n",
       "    <tr style=\"text-align: right;\">\n",
       "      <th></th>\n",
       "      <th>price</th>\n",
       "      <th>vehicle_type</th>\n",
       "      <th>registration_year</th>\n",
       "      <th>gearbox</th>\n",
       "      <th>power</th>\n",
       "      <th>model</th>\n",
       "      <th>kilometer</th>\n",
       "      <th>fuel_type</th>\n",
       "      <th>brand</th>\n",
       "      <th>not_repaired</th>\n",
       "    </tr>\n",
       "  </thead>\n",
       "  <tbody>\n",
       "    <tr>\n",
       "      <th>314379</th>\n",
       "      <td>1800</td>\n",
       "      <td>NaN</td>\n",
       "      <td>2017</td>\n",
       "      <td>manual</td>\n",
       "      <td>0</td>\n",
       "      <td>a_klasse</td>\n",
       "      <td>150000</td>\n",
       "      <td>gasoline</td>\n",
       "      <td>mercedes_benz</td>\n",
       "      <td>NaN</td>\n",
       "    </tr>\n",
       "    <tr>\n",
       "      <th>74174</th>\n",
       "      <td>1500</td>\n",
       "      <td>NaN</td>\n",
       "      <td>2018</td>\n",
       "      <td>manual</td>\n",
       "      <td>0</td>\n",
       "      <td>caddy</td>\n",
       "      <td>150000</td>\n",
       "      <td>gasoline</td>\n",
       "      <td>volkswagen</td>\n",
       "      <td>no</td>\n",
       "    </tr>\n",
       "    <tr>\n",
       "      <th>334987</th>\n",
       "      <td>1300</td>\n",
       "      <td>NaN</td>\n",
       "      <td>2017</td>\n",
       "      <td>manual</td>\n",
       "      <td>75</td>\n",
       "      <td>golf</td>\n",
       "      <td>150000</td>\n",
       "      <td>unknown</td>\n",
       "      <td>volkswagen</td>\n",
       "      <td>no</td>\n",
       "    </tr>\n",
       "    <tr>\n",
       "      <th>350463</th>\n",
       "      <td>600</td>\n",
       "      <td>NaN</td>\n",
       "      <td>2000</td>\n",
       "      <td>unknown</td>\n",
       "      <td>0</td>\n",
       "      <td>unknown</td>\n",
       "      <td>150000</td>\n",
       "      <td>unknown</td>\n",
       "      <td>volkswagen</td>\n",
       "      <td>NaN</td>\n",
       "    </tr>\n",
       "    <tr>\n",
       "      <th>282742</th>\n",
       "      <td>80</td>\n",
       "      <td>NaN</td>\n",
       "      <td>1990</td>\n",
       "      <td>unknown</td>\n",
       "      <td>0</td>\n",
       "      <td>sl</td>\n",
       "      <td>5000</td>\n",
       "      <td>unknown</td>\n",
       "      <td>mercedes_benz</td>\n",
       "      <td>NaN</td>\n",
       "    </tr>\n",
       "  </tbody>\n",
       "</table>\n",
       "</div>"
      ],
      "text/plain": [
       "        price vehicle_type  registration_year  gearbox  power     model  \\\n",
       "314379   1800          NaN               2017   manual      0  a_klasse   \n",
       "74174    1500          NaN               2018   manual      0     caddy   \n",
       "334987   1300          NaN               2017   manual     75      golf   \n",
       "350463    600          NaN               2000  unknown      0   unknown   \n",
       "282742     80          NaN               1990  unknown      0        sl   \n",
       "\n",
       "        kilometer fuel_type          brand not_repaired  \n",
       "314379     150000  gasoline  mercedes_benz          NaN  \n",
       "74174      150000  gasoline     volkswagen           no  \n",
       "334987     150000   unknown     volkswagen           no  \n",
       "350463     150000   unknown     volkswagen          NaN  \n",
       "282742       5000   unknown  mercedes_benz          NaN  "
      ]
     },
     "execution_count": 24,
     "metadata": {},
     "output_type": "execute_result"
    }
   ],
   "source": [
    "df[df['vehicle_type'].isna()].sample(5)"
   ]
  },
  {
   "cell_type": "markdown",
   "metadata": {},
   "source": [
    "Скорее всего, тут тоже вряд ли получится восстановить данные однозначно, поэтому предлагаю заменить пропущенные значения на **unknown**"
   ]
  },
  {
   "cell_type": "code",
   "execution_count": 25,
   "metadata": {},
   "outputs": [],
   "source": [
    "df['vehicle_type'] = df['vehicle_type'].fillna('unknown')"
   ]
  },
  {
   "cell_type": "markdown",
   "metadata": {},
   "source": [
    "#### Пропущенные значения столбца `not_repaired`"
   ]
  },
  {
   "cell_type": "markdown",
   "metadata": {},
   "source": [
    "Посмотрим на пропущенные значения"
   ]
  },
  {
   "cell_type": "code",
   "execution_count": 26,
   "metadata": {},
   "outputs": [
    {
     "data": {
      "text/html": [
       "<div>\n",
       "<style scoped>\n",
       "    .dataframe tbody tr th:only-of-type {\n",
       "        vertical-align: middle;\n",
       "    }\n",
       "\n",
       "    .dataframe tbody tr th {\n",
       "        vertical-align: top;\n",
       "    }\n",
       "\n",
       "    .dataframe thead th {\n",
       "        text-align: right;\n",
       "    }\n",
       "</style>\n",
       "<table border=\"1\" class=\"dataframe\">\n",
       "  <thead>\n",
       "    <tr style=\"text-align: right;\">\n",
       "      <th></th>\n",
       "      <th>price</th>\n",
       "      <th>vehicle_type</th>\n",
       "      <th>registration_year</th>\n",
       "      <th>gearbox</th>\n",
       "      <th>power</th>\n",
       "      <th>model</th>\n",
       "      <th>kilometer</th>\n",
       "      <th>fuel_type</th>\n",
       "      <th>brand</th>\n",
       "      <th>not_repaired</th>\n",
       "    </tr>\n",
       "  </thead>\n",
       "  <tbody>\n",
       "    <tr>\n",
       "      <th>170776</th>\n",
       "      <td>1399</td>\n",
       "      <td>unknown</td>\n",
       "      <td>2017</td>\n",
       "      <td>manual</td>\n",
       "      <td>125</td>\n",
       "      <td>a3</td>\n",
       "      <td>150000</td>\n",
       "      <td>gasoline</td>\n",
       "      <td>audi</td>\n",
       "      <td>NaN</td>\n",
       "    </tr>\n",
       "    <tr>\n",
       "      <th>193831</th>\n",
       "      <td>250</td>\n",
       "      <td>unknown</td>\n",
       "      <td>1995</td>\n",
       "      <td>manual</td>\n",
       "      <td>75</td>\n",
       "      <td>golf</td>\n",
       "      <td>150000</td>\n",
       "      <td>unknown</td>\n",
       "      <td>volkswagen</td>\n",
       "      <td>NaN</td>\n",
       "    </tr>\n",
       "    <tr>\n",
       "      <th>209760</th>\n",
       "      <td>14200</td>\n",
       "      <td>coupe</td>\n",
       "      <td>2010</td>\n",
       "      <td>manual</td>\n",
       "      <td>143</td>\n",
       "      <td>cc</td>\n",
       "      <td>150000</td>\n",
       "      <td>gasoline</td>\n",
       "      <td>volkswagen</td>\n",
       "      <td>NaN</td>\n",
       "    </tr>\n",
       "    <tr>\n",
       "      <th>169576</th>\n",
       "      <td>1200</td>\n",
       "      <td>small</td>\n",
       "      <td>1999</td>\n",
       "      <td>manual</td>\n",
       "      <td>60</td>\n",
       "      <td>polo</td>\n",
       "      <td>150000</td>\n",
       "      <td>gasoline</td>\n",
       "      <td>volkswagen</td>\n",
       "      <td>NaN</td>\n",
       "    </tr>\n",
       "    <tr>\n",
       "      <th>174741</th>\n",
       "      <td>2000</td>\n",
       "      <td>sedan</td>\n",
       "      <td>2001</td>\n",
       "      <td>manual</td>\n",
       "      <td>129</td>\n",
       "      <td>c_klasse</td>\n",
       "      <td>150000</td>\n",
       "      <td>gasoline</td>\n",
       "      <td>mercedes_benz</td>\n",
       "      <td>NaN</td>\n",
       "    </tr>\n",
       "  </tbody>\n",
       "</table>\n",
       "</div>"
      ],
      "text/plain": [
       "        price vehicle_type  registration_year gearbox  power     model  \\\n",
       "170776   1399      unknown               2017  manual    125        a3   \n",
       "193831    250      unknown               1995  manual     75      golf   \n",
       "209760  14200        coupe               2010  manual    143        cc   \n",
       "169576   1200        small               1999  manual     60      polo   \n",
       "174741   2000        sedan               2001  manual    129  c_klasse   \n",
       "\n",
       "        kilometer fuel_type          brand not_repaired  \n",
       "170776     150000  gasoline           audi          NaN  \n",
       "193831     150000   unknown     volkswagen          NaN  \n",
       "209760     150000  gasoline     volkswagen          NaN  \n",
       "169576     150000  gasoline     volkswagen          NaN  \n",
       "174741     150000  gasoline  mercedes_benz          NaN  "
      ]
     },
     "execution_count": 26,
     "metadata": {},
     "output_type": "execute_result"
    }
   ],
   "source": [
    "df[df['not_repaired'].isna()].sample(5)"
   ]
  },
  {
   "cell_type": "markdown",
   "metadata": {},
   "source": [
    "Скорее всего, тут тоже вряд ли получится восстановить данные однозначно, поэтому предлагаю заменить пропущенные значения на **unknown**"
   ]
  },
  {
   "cell_type": "code",
   "execution_count": 27,
   "metadata": {},
   "outputs": [],
   "source": [
    "df['not_repaired'] = df['not_repaired'].fillna('unknown')"
   ]
  },
  {
   "cell_type": "markdown",
   "metadata": {},
   "source": [
    "Убедимся, что пропущенных значений не осталось"
   ]
  },
  {
   "cell_type": "code",
   "execution_count": 28,
   "metadata": {},
   "outputs": [
    {
     "data": {
      "text/html": [
       "<div>\n",
       "<style scoped>\n",
       "    .dataframe tbody tr th:only-of-type {\n",
       "        vertical-align: middle;\n",
       "    }\n",
       "\n",
       "    .dataframe tbody tr th {\n",
       "        vertical-align: top;\n",
       "    }\n",
       "\n",
       "    .dataframe thead th {\n",
       "        text-align: right;\n",
       "    }\n",
       "</style>\n",
       "<table border=\"1\" class=\"dataframe\">\n",
       "  <thead>\n",
       "    <tr style=\"text-align: right;\">\n",
       "      <th></th>\n",
       "      <th>count_missing</th>\n",
       "      <th>percent_missing</th>\n",
       "    </tr>\n",
       "  </thead>\n",
       "  <tbody>\n",
       "    <tr>\n",
       "      <th>price</th>\n",
       "      <td>0</td>\n",
       "      <td>0.0</td>\n",
       "    </tr>\n",
       "    <tr>\n",
       "      <th>vehicle_type</th>\n",
       "      <td>0</td>\n",
       "      <td>0.0</td>\n",
       "    </tr>\n",
       "    <tr>\n",
       "      <th>registration_year</th>\n",
       "      <td>0</td>\n",
       "      <td>0.0</td>\n",
       "    </tr>\n",
       "    <tr>\n",
       "      <th>gearbox</th>\n",
       "      <td>0</td>\n",
       "      <td>0.0</td>\n",
       "    </tr>\n",
       "    <tr>\n",
       "      <th>power</th>\n",
       "      <td>0</td>\n",
       "      <td>0.0</td>\n",
       "    </tr>\n",
       "    <tr>\n",
       "      <th>model</th>\n",
       "      <td>0</td>\n",
       "      <td>0.0</td>\n",
       "    </tr>\n",
       "    <tr>\n",
       "      <th>kilometer</th>\n",
       "      <td>0</td>\n",
       "      <td>0.0</td>\n",
       "    </tr>\n",
       "    <tr>\n",
       "      <th>fuel_type</th>\n",
       "      <td>0</td>\n",
       "      <td>0.0</td>\n",
       "    </tr>\n",
       "    <tr>\n",
       "      <th>brand</th>\n",
       "      <td>0</td>\n",
       "      <td>0.0</td>\n",
       "    </tr>\n",
       "    <tr>\n",
       "      <th>not_repaired</th>\n",
       "      <td>0</td>\n",
       "      <td>0.0</td>\n",
       "    </tr>\n",
       "  </tbody>\n",
       "</table>\n",
       "</div>"
      ],
      "text/plain": [
       "                   count_missing  percent_missing\n",
       "price                          0              0.0\n",
       "vehicle_type                   0              0.0\n",
       "registration_year              0              0.0\n",
       "gearbox                        0              0.0\n",
       "power                          0              0.0\n",
       "model                          0              0.0\n",
       "kilometer                      0              0.0\n",
       "fuel_type                      0              0.0\n",
       "brand                          0              0.0\n",
       "not_repaired                   0              0.0"
      ]
     },
     "execution_count": 28,
     "metadata": {},
     "output_type": "execute_result"
    }
   ],
   "source": [
    "pd.DataFrame({\n",
    "    'count_missing': df.isna().sum(),\n",
    "    'percent_missing': np.round(df.isna().mean()*100,2)\n",
    "}).sort_values(by='count_missing', ascending=False)"
   ]
  },
  {
   "cell_type": "markdown",
   "metadata": {},
   "source": [
    "Посмотрим сколько неинформативных строк получилось"
   ]
  },
  {
   "cell_type": "code",
   "execution_count": 29,
   "metadata": {},
   "outputs": [
    {
     "data": {
      "text/html": [
       "<div>\n",
       "<style scoped>\n",
       "    .dataframe tbody tr th:only-of-type {\n",
       "        vertical-align: middle;\n",
       "    }\n",
       "\n",
       "    .dataframe tbody tr th {\n",
       "        vertical-align: top;\n",
       "    }\n",
       "\n",
       "    .dataframe thead th {\n",
       "        text-align: right;\n",
       "    }\n",
       "</style>\n",
       "<table border=\"1\" class=\"dataframe\">\n",
       "  <thead>\n",
       "    <tr style=\"text-align: right;\">\n",
       "      <th></th>\n",
       "      <th>price</th>\n",
       "      <th>vehicle_type</th>\n",
       "      <th>registration_year</th>\n",
       "      <th>gearbox</th>\n",
       "      <th>power</th>\n",
       "      <th>model</th>\n",
       "      <th>kilometer</th>\n",
       "      <th>fuel_type</th>\n",
       "      <th>brand</th>\n",
       "      <th>not_repaired</th>\n",
       "    </tr>\n",
       "  </thead>\n",
       "  <tbody>\n",
       "    <tr>\n",
       "      <th>306</th>\n",
       "      <td>200</td>\n",
       "      <td>unknown</td>\n",
       "      <td>2009</td>\n",
       "      <td>unknown</td>\n",
       "      <td>0</td>\n",
       "      <td>unknown</td>\n",
       "      <td>10000</td>\n",
       "      <td>unknown</td>\n",
       "      <td>sonstige_autos</td>\n",
       "      <td>unknown</td>\n",
       "    </tr>\n",
       "    <tr>\n",
       "      <th>522</th>\n",
       "      <td>0</td>\n",
       "      <td>unknown</td>\n",
       "      <td>2000</td>\n",
       "      <td>unknown</td>\n",
       "      <td>0</td>\n",
       "      <td>unknown</td>\n",
       "      <td>150000</td>\n",
       "      <td>unknown</td>\n",
       "      <td>volvo</td>\n",
       "      <td>unknown</td>\n",
       "    </tr>\n",
       "    <tr>\n",
       "      <th>538</th>\n",
       "      <td>2600</td>\n",
       "      <td>unknown</td>\n",
       "      <td>2005</td>\n",
       "      <td>unknown</td>\n",
       "      <td>0</td>\n",
       "      <td>unknown</td>\n",
       "      <td>125000</td>\n",
       "      <td>unknown</td>\n",
       "      <td>chevrolet</td>\n",
       "      <td>unknown</td>\n",
       "    </tr>\n",
       "    <tr>\n",
       "      <th>552</th>\n",
       "      <td>50</td>\n",
       "      <td>unknown</td>\n",
       "      <td>1985</td>\n",
       "      <td>unknown</td>\n",
       "      <td>0</td>\n",
       "      <td>unknown</td>\n",
       "      <td>150000</td>\n",
       "      <td>unknown</td>\n",
       "      <td>trabant</td>\n",
       "      <td>unknown</td>\n",
       "    </tr>\n",
       "    <tr>\n",
       "      <th>622</th>\n",
       "      <td>0</td>\n",
       "      <td>unknown</td>\n",
       "      <td>1111</td>\n",
       "      <td>unknown</td>\n",
       "      <td>0</td>\n",
       "      <td>unknown</td>\n",
       "      <td>5000</td>\n",
       "      <td>unknown</td>\n",
       "      <td>opel</td>\n",
       "      <td>unknown</td>\n",
       "    </tr>\n",
       "    <tr>\n",
       "      <th>...</th>\n",
       "      <td>...</td>\n",
       "      <td>...</td>\n",
       "      <td>...</td>\n",
       "      <td>...</td>\n",
       "      <td>...</td>\n",
       "      <td>...</td>\n",
       "      <td>...</td>\n",
       "      <td>...</td>\n",
       "      <td>...</td>\n",
       "      <td>...</td>\n",
       "    </tr>\n",
       "    <tr>\n",
       "      <th>353727</th>\n",
       "      <td>1</td>\n",
       "      <td>unknown</td>\n",
       "      <td>2000</td>\n",
       "      <td>unknown</td>\n",
       "      <td>0</td>\n",
       "      <td>unknown</td>\n",
       "      <td>150000</td>\n",
       "      <td>unknown</td>\n",
       "      <td>bmw</td>\n",
       "      <td>unknown</td>\n",
       "    </tr>\n",
       "    <tr>\n",
       "      <th>354073</th>\n",
       "      <td>1750</td>\n",
       "      <td>unknown</td>\n",
       "      <td>1995</td>\n",
       "      <td>unknown</td>\n",
       "      <td>0</td>\n",
       "      <td>unknown</td>\n",
       "      <td>100000</td>\n",
       "      <td>unknown</td>\n",
       "      <td>sonstige_autos</td>\n",
       "      <td>unknown</td>\n",
       "    </tr>\n",
       "    <tr>\n",
       "      <th>354083</th>\n",
       "      <td>0</td>\n",
       "      <td>unknown</td>\n",
       "      <td>2000</td>\n",
       "      <td>unknown</td>\n",
       "      <td>0</td>\n",
       "      <td>unknown</td>\n",
       "      <td>150000</td>\n",
       "      <td>unknown</td>\n",
       "      <td>sonstige_autos</td>\n",
       "      <td>unknown</td>\n",
       "    </tr>\n",
       "    <tr>\n",
       "      <th>354162</th>\n",
       "      <td>1500</td>\n",
       "      <td>unknown</td>\n",
       "      <td>1995</td>\n",
       "      <td>unknown</td>\n",
       "      <td>0</td>\n",
       "      <td>unknown</td>\n",
       "      <td>150000</td>\n",
       "      <td>unknown</td>\n",
       "      <td>volkswagen</td>\n",
       "      <td>unknown</td>\n",
       "    </tr>\n",
       "    <tr>\n",
       "      <th>354365</th>\n",
       "      <td>2200</td>\n",
       "      <td>unknown</td>\n",
       "      <td>2005</td>\n",
       "      <td>unknown</td>\n",
       "      <td>0</td>\n",
       "      <td>unknown</td>\n",
       "      <td>20000</td>\n",
       "      <td>unknown</td>\n",
       "      <td>sonstige_autos</td>\n",
       "      <td>unknown</td>\n",
       "    </tr>\n",
       "  </tbody>\n",
       "</table>\n",
       "<p>2392 rows × 10 columns</p>\n",
       "</div>"
      ],
      "text/plain": [
       "        price vehicle_type  registration_year  gearbox  power    model  \\\n",
       "306       200      unknown               2009  unknown      0  unknown   \n",
       "522         0      unknown               2000  unknown      0  unknown   \n",
       "538      2600      unknown               2005  unknown      0  unknown   \n",
       "552        50      unknown               1985  unknown      0  unknown   \n",
       "622         0      unknown               1111  unknown      0  unknown   \n",
       "...       ...          ...                ...      ...    ...      ...   \n",
       "353727      1      unknown               2000  unknown      0  unknown   \n",
       "354073   1750      unknown               1995  unknown      0  unknown   \n",
       "354083      0      unknown               2000  unknown      0  unknown   \n",
       "354162   1500      unknown               1995  unknown      0  unknown   \n",
       "354365   2200      unknown               2005  unknown      0  unknown   \n",
       "\n",
       "        kilometer fuel_type           brand not_repaired  \n",
       "306         10000   unknown  sonstige_autos      unknown  \n",
       "522        150000   unknown           volvo      unknown  \n",
       "538        125000   unknown       chevrolet      unknown  \n",
       "552        150000   unknown         trabant      unknown  \n",
       "622          5000   unknown            opel      unknown  \n",
       "...           ...       ...             ...          ...  \n",
       "353727     150000   unknown             bmw      unknown  \n",
       "354073     100000   unknown  sonstige_autos      unknown  \n",
       "354083     150000   unknown  sonstige_autos      unknown  \n",
       "354162     150000   unknown      volkswagen      unknown  \n",
       "354365      20000   unknown  sonstige_autos      unknown  \n",
       "\n",
       "[2392 rows x 10 columns]"
      ]
     },
     "execution_count": 29,
     "metadata": {},
     "output_type": "execute_result"
    }
   ],
   "source": [
    "uninformative_df = df[(df['vehicle_type'] == 'unknown') & (df['gearbox'] == 'unknown') &\n",
    "   (df['model'] == 'unknown') & (df['fuel_type'] == 'unknown')]\n",
    "uninformative_df"
   ]
  },
  {
   "cell_type": "code",
   "execution_count": 30,
   "metadata": {},
   "outputs": [
    {
     "name": "stdout",
     "output_type": "stream",
     "text": [
      "Количество неинформативных строк равно 2392 шт, это составляет 0.68 % от данных\n"
     ]
    }
   ],
   "source": [
    "print(\n",
    "    'Количество неинформативных строк равно {} шт, это составляет {} % от данных'\n",
    "    .format(uninformative_df.shape[0],\n",
    "            np.round(uninformative_df.shape[0] / len(df) * 100, 2)))"
   ]
  },
  {
   "cell_type": "markdown",
   "metadata": {},
   "source": [
    "Предлагаю удалить эти строки"
   ]
  },
  {
   "cell_type": "code",
   "execution_count": 31,
   "metadata": {},
   "outputs": [],
   "source": [
    "df = df[~df.isin(uninformative_df)].dropna(axis=0)"
   ]
  },
  {
   "cell_type": "markdown",
   "metadata": {},
   "source": [
    "### Обработка выбросов"
   ]
  },
  {
   "cell_type": "markdown",
   "metadata": {},
   "source": [
    "Посмотрим еще раз на статистическую информацию"
   ]
  },
  {
   "cell_type": "code",
   "execution_count": 32,
   "metadata": {},
   "outputs": [
    {
     "data": {
      "text/html": [
       "<div>\n",
       "<style scoped>\n",
       "    .dataframe tbody tr th:only-of-type {\n",
       "        vertical-align: middle;\n",
       "    }\n",
       "\n",
       "    .dataframe tbody tr th {\n",
       "        vertical-align: top;\n",
       "    }\n",
       "\n",
       "    .dataframe thead th {\n",
       "        text-align: right;\n",
       "    }\n",
       "</style>\n",
       "<table border=\"1\" class=\"dataframe\">\n",
       "  <thead>\n",
       "    <tr style=\"text-align: right;\">\n",
       "      <th></th>\n",
       "      <th>price</th>\n",
       "      <th>registration_year</th>\n",
       "      <th>power</th>\n",
       "      <th>kilometer</th>\n",
       "    </tr>\n",
       "  </thead>\n",
       "  <tbody>\n",
       "    <tr>\n",
       "      <th>count</th>\n",
       "      <td>351973.000000</td>\n",
       "      <td>351973.000000</td>\n",
       "      <td>351973.000000</td>\n",
       "      <td>351973.000000</td>\n",
       "    </tr>\n",
       "    <tr>\n",
       "      <th>mean</th>\n",
       "      <td>4439.022354</td>\n",
       "      <td>2003.875405</td>\n",
       "      <td>110.742494</td>\n",
       "      <td>128447.480347</td>\n",
       "    </tr>\n",
       "    <tr>\n",
       "      <th>std</th>\n",
       "      <td>4516.855274</td>\n",
       "      <td>70.489037</td>\n",
       "      <td>190.226857</td>\n",
       "      <td>37548.055738</td>\n",
       "    </tr>\n",
       "    <tr>\n",
       "      <th>min</th>\n",
       "      <td>0.000000</td>\n",
       "      <td>1000.000000</td>\n",
       "      <td>0.000000</td>\n",
       "      <td>5000.000000</td>\n",
       "    </tr>\n",
       "    <tr>\n",
       "      <th>25%</th>\n",
       "      <td>1100.000000</td>\n",
       "      <td>1999.000000</td>\n",
       "      <td>69.000000</td>\n",
       "      <td>125000.000000</td>\n",
       "    </tr>\n",
       "    <tr>\n",
       "      <th>50%</th>\n",
       "      <td>2750.000000</td>\n",
       "      <td>2003.000000</td>\n",
       "      <td>105.000000</td>\n",
       "      <td>150000.000000</td>\n",
       "    </tr>\n",
       "    <tr>\n",
       "      <th>75%</th>\n",
       "      <td>6450.000000</td>\n",
       "      <td>2008.000000</td>\n",
       "      <td>143.000000</td>\n",
       "      <td>150000.000000</td>\n",
       "    </tr>\n",
       "    <tr>\n",
       "      <th>max</th>\n",
       "      <td>20000.000000</td>\n",
       "      <td>9999.000000</td>\n",
       "      <td>20000.000000</td>\n",
       "      <td>150000.000000</td>\n",
       "    </tr>\n",
       "  </tbody>\n",
       "</table>\n",
       "</div>"
      ],
      "text/plain": [
       "               price  registration_year          power      kilometer\n",
       "count  351973.000000      351973.000000  351973.000000  351973.000000\n",
       "mean     4439.022354        2003.875405     110.742494  128447.480347\n",
       "std      4516.855274          70.489037     190.226857   37548.055738\n",
       "min         0.000000        1000.000000       0.000000    5000.000000\n",
       "25%      1100.000000        1999.000000      69.000000  125000.000000\n",
       "50%      2750.000000        2003.000000     105.000000  150000.000000\n",
       "75%      6450.000000        2008.000000     143.000000  150000.000000\n",
       "max     20000.000000        9999.000000   20000.000000  150000.000000"
      ]
     },
     "execution_count": 32,
     "metadata": {},
     "output_type": "execute_result"
    }
   ],
   "source": [
    "df.describe()"
   ]
  },
  {
   "cell_type": "markdown",
   "metadata": {},
   "source": [
    "Построим по эти переменным гистограммы и ящик с усами. Для этого напишем функцию для отрисовки графиков"
   ]
  },
  {
   "cell_type": "code",
   "execution_count": 33,
   "metadata": {},
   "outputs": [],
   "source": [
    "def hist_box_plot(df, col, title):\n",
    "    fig, ax = plt.subplots(2,1, figsize=(15,8))\n",
    "    plt.subplots_adjust(wspace=0, hspace=0.5)\n",
    "    sns.histplot(data=df, x=col, ax=ax[0])\n",
    "    sns.boxplot(data=df, x=col, ax=ax[1])\n",
    "    ax[0].set_title(f'Распределение значений автомобилей по колонке {title}')\n",
    "    ax[0].set_xlabel(f'{title}')\n",
    "    ax[0].set_ylabel('Количество записей')\n",
    "    ax[1].set_title(f'Диаграмма размаха по колонке {title}')\n",
    "    ax[1].set_xlabel(f'{title}')\n",
    "    plt.show()"
   ]
  },
  {
   "cell_type": "code",
   "execution_count": 34,
   "metadata": {},
   "outputs": [],
   "source": [
    "def hist_plot(df, col, xlim, title):\n",
    "    fig, ax = plt.subplots(figsize=(15,5))\n",
    "    sns.histplot(data=df, x=col)\n",
    "    plt.xlim(xlim)\n",
    "    plt.title(f'Распределение значений автомобилей по колонке {title}')\n",
    "    plt.xlabel(f'{title}')\n",
    "    plt.ylabel('Количество записей')"
   ]
  },
  {
   "cell_type": "markdown",
   "metadata": {},
   "source": [
    "#### Выбросы столбца `price`"
   ]
  },
  {
   "cell_type": "markdown",
   "metadata": {},
   "source": [
    "Нарисуем гистрограмму и ящик с усами"
   ]
  },
  {
   "cell_type": "code",
   "execution_count": 35,
   "metadata": {},
   "outputs": [
    {
     "data": {
      "image/png": "[encoded data removed]",
      "text/plain": [
       "<Figure size 1080x576 with 2 Axes>"
      ]
     },
     "metadata": {
      "needs_background": "light"
     },
     "output_type": "display_data"
    }
   ],
   "source": [
    "hist_box_plot(df, 'price', 'цена (евро)')"
   ]
  },
  {
   "cell_type": "code",
   "execution_count": 36,
   "metadata": {},
   "outputs": [
    {
     "name": "stdout",
     "output_type": "stream",
     "text": [
      "Количество автомобилей с нулевой ценой равно 9996\n"
     ]
    }
   ],
   "source": [
    "print('Количество автомобилей с нулевой ценой равно {}'.format(df[df['price']==0].shape[0]))"
   ]
  },
  {
   "cell_type": "markdown",
   "metadata": {},
   "source": [
    "Вряд ли кто-то отдает свой автомобиль бесплатно, предлагаю избавиться от этих данных"
   ]
  },
  {
   "cell_type": "code",
   "execution_count": 37,
   "metadata": {},
   "outputs": [],
   "source": [
    "df_filtered = df[df['price']!=0].copy()"
   ]
  },
  {
   "cell_type": "markdown",
   "metadata": {},
   "source": [
    "Так же мы видим, что есть большое количество выбросов, посмотрим на их количество"
   ]
  },
  {
   "cell_type": "code",
   "execution_count": 38,
   "metadata": {},
   "outputs": [],
   "source": [
    "iqr_max = df_filtered['price'].quantile(0.75) + 1.5 * (\n",
    "    df_filtered['price'].quantile(0.75) - df_filtered['price'].quantile(0.25))"
   ]
  },
  {
   "cell_type": "code",
   "execution_count": 39,
   "metadata": {},
   "outputs": [
    {
     "name": "stdout",
     "output_type": "stream",
     "text": [
      "Количество выбросов равно 18887\n"
     ]
    }
   ],
   "source": [
    "print('Количество выбросов равно {}'.format(df_filtered[df_filtered['price']>iqr_max].shape[0]))"
   ]
  },
  {
   "cell_type": "markdown",
   "metadata": {},
   "source": [
    "Посмотрим как распределены выбросы по бренду автомобиля"
   ]
  },
  {
   "cell_type": "code",
   "execution_count": 40,
   "metadata": {},
   "outputs": [
    {
     "data": {
      "text/plain": [
       "<AxesSubplot:>"
      ]
     },
     "execution_count": 40,
     "metadata": {},
     "output_type": "execute_result"
    },
    {
     "data": {
      "image/png": "[encoded data removed]",
      "text/plain": [
       "<Figure size 1080x360 with 1 Axes>"
      ]
     },
     "metadata": {
      "needs_background": "light"
     },
     "output_type": "display_data"
    }
   ],
   "source": [
    "df_filtered[df_filtered['price']>iqr_max]['brand'].value_counts()[:10].plot(kind='bar', figsize=(15,5))"
   ]
  },
  {
   "cell_type": "markdown",
   "metadata": {},
   "source": [
    "Как мы видим, большинство выбросов приходится на премиальные бренды, поэтому скорее всего это не выбросы, оставим их в датафрейме"
   ]
  },
  {
   "cell_type": "markdown",
   "metadata": {},
   "source": [
    "#### Выбросы столбца `power`"
   ]
  },
  {
   "cell_type": "markdown",
   "metadata": {},
   "source": [
    "Нарисуем гистрограмму и ящик с усами"
   ]
  },
  {
   "cell_type": "code",
   "execution_count": 41,
   "metadata": {},
   "outputs": [
    {
     "data": {
      "image/png": "[encoded data removed]",
      "text/plain": [
       "<Figure size 1080x576 with 2 Axes>"
      ]
     },
     "metadata": {
      "needs_background": "light"
     },
     "output_type": "display_data"
    }
   ],
   "source": [
    "hist_box_plot(df_filtered, 'power', 'мощность (л. с.)')"
   ]
  },
  {
   "cell_type": "markdown",
   "metadata": {},
   "source": [
    "Из-за выбросов получился сплюснутая гистрограмма, приблизим ее до верхнего уса"
   ]
  },
  {
   "cell_type": "code",
   "execution_count": 42,
   "metadata": {},
   "outputs": [],
   "source": [
    "iqr_max_power = df_filtered['power'].quantile(0.75) + 1.5 * (\n",
    "    df_filtered['power'].quantile(0.75) - df_filtered['power'].quantile(0.25))"
   ]
  },
  {
   "cell_type": "code",
   "execution_count": 43,
   "metadata": {},
   "outputs": [
    {
     "data": {
      "image/png": "[encoded data removed]",
      "text/plain": [
       "<Figure size 1080x360 with 1 Axes>"
      ]
     },
     "metadata": {
      "needs_background": "light"
     },
     "output_type": "display_data"
    }
   ],
   "source": [
    "hist_plot(df_filtered, 'power', (0,iqr_max_power), 'мощность (л. с.)')"
   ]
  },
  {
   "cell_type": "code",
   "execution_count": 44,
   "metadata": {},
   "outputs": [
    {
     "name": "stdout",
     "output_type": "stream",
     "text": [
      "Количество нулевых значений мощности равно 34956\n"
     ]
    }
   ],
   "source": [
    "print('Количество нулевых значений мощности равно {}'.format(\n",
    "    df_filtered[df_filtered['power'] == 0].shape[0]))"
   ]
  },
  {
   "cell_type": "markdown",
   "metadata": {},
   "source": [
    "Однозначно, что бала допущенна какая то ошибка при выгрузке данных. Значения мощности, которые выше 1000 л.с. предлагаю приравнять к нулю, затем сгруппировать данные по бренду, модели, типу кузова, типу топлива и присвоить среднее значение мощности нулевым значениям.\n",
    "Так же предлагаю приравнять к нулю значения мощности ниже 40 л.с."
   ]
  },
  {
   "cell_type": "code",
   "execution_count": 45,
   "metadata": {},
   "outputs": [
    {
     "data": {
      "text/html": [
       "<div>\n",
       "<style scoped>\n",
       "    .dataframe tbody tr th:only-of-type {\n",
       "        vertical-align: middle;\n",
       "    }\n",
       "\n",
       "    .dataframe tbody tr th {\n",
       "        vertical-align: top;\n",
       "    }\n",
       "\n",
       "    .dataframe thead th {\n",
       "        text-align: right;\n",
       "    }\n",
       "</style>\n",
       "<table border=\"1\" class=\"dataframe\">\n",
       "  <thead>\n",
       "    <tr style=\"text-align: right;\">\n",
       "      <th></th>\n",
       "      <th>price</th>\n",
       "      <th>vehicle_type</th>\n",
       "      <th>registration_year</th>\n",
       "      <th>gearbox</th>\n",
       "      <th>power</th>\n",
       "      <th>model</th>\n",
       "      <th>kilometer</th>\n",
       "      <th>fuel_type</th>\n",
       "      <th>brand</th>\n",
       "      <th>not_repaired</th>\n",
       "    </tr>\n",
       "  </thead>\n",
       "  <tbody>\n",
       "    <tr>\n",
       "      <th>0</th>\n",
       "      <td>480.0</td>\n",
       "      <td>unknown</td>\n",
       "      <td>1993.0</td>\n",
       "      <td>manual</td>\n",
       "      <td>0.0</td>\n",
       "      <td>golf</td>\n",
       "      <td>150000.0</td>\n",
       "      <td>gasoline</td>\n",
       "      <td>volkswagen</td>\n",
       "      <td>unknown</td>\n",
       "    </tr>\n",
       "    <tr>\n",
       "      <th>15</th>\n",
       "      <td>450.0</td>\n",
       "      <td>small</td>\n",
       "      <td>1910.0</td>\n",
       "      <td>unknown</td>\n",
       "      <td>0.0</td>\n",
       "      <td>ka</td>\n",
       "      <td>5000.0</td>\n",
       "      <td>gasoline</td>\n",
       "      <td>ford</td>\n",
       "      <td>unknown</td>\n",
       "    </tr>\n",
       "    <tr>\n",
       "      <th>32</th>\n",
       "      <td>245.0</td>\n",
       "      <td>sedan</td>\n",
       "      <td>1994.0</td>\n",
       "      <td>unknown</td>\n",
       "      <td>0.0</td>\n",
       "      <td>golf</td>\n",
       "      <td>150000.0</td>\n",
       "      <td>gasoline</td>\n",
       "      <td>volkswagen</td>\n",
       "      <td>no</td>\n",
       "    </tr>\n",
       "    <tr>\n",
       "      <th>37</th>\n",
       "      <td>1500.0</td>\n",
       "      <td>unknown</td>\n",
       "      <td>2016.0</td>\n",
       "      <td>unknown</td>\n",
       "      <td>0.0</td>\n",
       "      <td>kangoo</td>\n",
       "      <td>150000.0</td>\n",
       "      <td>gasoline</td>\n",
       "      <td>renault</td>\n",
       "      <td>no</td>\n",
       "    </tr>\n",
       "    <tr>\n",
       "      <th>54</th>\n",
       "      <td>4700.0</td>\n",
       "      <td>wagon</td>\n",
       "      <td>2005.0</td>\n",
       "      <td>manual</td>\n",
       "      <td>0.0</td>\n",
       "      <td>signum</td>\n",
       "      <td>150000.0</td>\n",
       "      <td>unknown</td>\n",
       "      <td>opel</td>\n",
       "      <td>no</td>\n",
       "    </tr>\n",
       "    <tr>\n",
       "      <th>...</th>\n",
       "      <td>...</td>\n",
       "      <td>...</td>\n",
       "      <td>...</td>\n",
       "      <td>...</td>\n",
       "      <td>...</td>\n",
       "      <td>...</td>\n",
       "      <td>...</td>\n",
       "      <td>...</td>\n",
       "      <td>...</td>\n",
       "      <td>...</td>\n",
       "    </tr>\n",
       "    <tr>\n",
       "      <th>354335</th>\n",
       "      <td>390.0</td>\n",
       "      <td>small</td>\n",
       "      <td>1997.0</td>\n",
       "      <td>auto</td>\n",
       "      <td>0.0</td>\n",
       "      <td>corsa</td>\n",
       "      <td>100000.0</td>\n",
       "      <td>gasoline</td>\n",
       "      <td>opel</td>\n",
       "      <td>yes</td>\n",
       "    </tr>\n",
       "    <tr>\n",
       "      <th>354336</th>\n",
       "      <td>3299.0</td>\n",
       "      <td>unknown</td>\n",
       "      <td>2005.0</td>\n",
       "      <td>auto</td>\n",
       "      <td>0.0</td>\n",
       "      <td>outlander</td>\n",
       "      <td>150000.0</td>\n",
       "      <td>gasoline</td>\n",
       "      <td>mitsubishi</td>\n",
       "      <td>unknown</td>\n",
       "    </tr>\n",
       "    <tr>\n",
       "      <th>354338</th>\n",
       "      <td>180.0</td>\n",
       "      <td>unknown</td>\n",
       "      <td>1995.0</td>\n",
       "      <td>unknown</td>\n",
       "      <td>0.0</td>\n",
       "      <td>unknown</td>\n",
       "      <td>125000.0</td>\n",
       "      <td>gasoline</td>\n",
       "      <td>opel</td>\n",
       "      <td>unknown</td>\n",
       "    </tr>\n",
       "    <tr>\n",
       "      <th>354346</th>\n",
       "      <td>2600.0</td>\n",
       "      <td>unknown</td>\n",
       "      <td>2005.0</td>\n",
       "      <td>auto</td>\n",
       "      <td>0.0</td>\n",
       "      <td>c_klasse</td>\n",
       "      <td>150000.0</td>\n",
       "      <td>unknown</td>\n",
       "      <td>mercedes_benz</td>\n",
       "      <td>unknown</td>\n",
       "    </tr>\n",
       "    <tr>\n",
       "      <th>354363</th>\n",
       "      <td>1150.0</td>\n",
       "      <td>bus</td>\n",
       "      <td>2000.0</td>\n",
       "      <td>manual</td>\n",
       "      <td>0.0</td>\n",
       "      <td>zafira</td>\n",
       "      <td>150000.0</td>\n",
       "      <td>gasoline</td>\n",
       "      <td>opel</td>\n",
       "      <td>no</td>\n",
       "    </tr>\n",
       "  </tbody>\n",
       "</table>\n",
       "<p>34956 rows × 10 columns</p>\n",
       "</div>"
      ],
      "text/plain": [
       "         price vehicle_type  registration_year  gearbox  power      model  \\\n",
       "0        480.0      unknown             1993.0   manual    0.0       golf   \n",
       "15       450.0        small             1910.0  unknown    0.0         ka   \n",
       "32       245.0        sedan             1994.0  unknown    0.0       golf   \n",
       "37      1500.0      unknown             2016.0  unknown    0.0     kangoo   \n",
       "54      4700.0        wagon             2005.0   manual    0.0     signum   \n",
       "...        ...          ...                ...      ...    ...        ...   \n",
       "354335   390.0        small             1997.0     auto    0.0      corsa   \n",
       "354336  3299.0      unknown             2005.0     auto    0.0  outlander   \n",
       "354338   180.0      unknown             1995.0  unknown    0.0    unknown   \n",
       "354346  2600.0      unknown             2005.0     auto    0.0   c_klasse   \n",
       "354363  1150.0          bus             2000.0   manual    0.0     zafira   \n",
       "\n",
       "        kilometer fuel_type          brand not_repaired  \n",
       "0        150000.0  gasoline     volkswagen      unknown  \n",
       "15         5000.0  gasoline           ford      unknown  \n",
       "32       150000.0  gasoline     volkswagen           no  \n",
       "37       150000.0  gasoline        renault           no  \n",
       "54       150000.0   unknown           opel           no  \n",
       "...           ...       ...            ...          ...  \n",
       "354335   100000.0  gasoline           opel          yes  \n",
       "354336   150000.0  gasoline     mitsubishi      unknown  \n",
       "354338   125000.0  gasoline           opel      unknown  \n",
       "354346   150000.0   unknown  mercedes_benz      unknown  \n",
       "354363   150000.0  gasoline           opel           no  \n",
       "\n",
       "[34956 rows x 10 columns]"
      ]
     },
     "execution_count": 45,
     "metadata": {},
     "output_type": "execute_result"
    }
   ],
   "source": [
    "df_filtered[df_filtered['power']==0]"
   ]
  },
  {
   "cell_type": "code",
   "execution_count": 46,
   "metadata": {},
   "outputs": [],
   "source": [
    "df_filtered.loc[(df_filtered['power']>1000), 'power'] = 0"
   ]
  },
  {
   "cell_type": "code",
   "execution_count": 47,
   "metadata": {},
   "outputs": [],
   "source": [
    "df_filtered.loc[(df_filtered['power']<50), 'power'] = 0"
   ]
  },
  {
   "cell_type": "code",
   "execution_count": 48,
   "metadata": {},
   "outputs": [],
   "source": [
    "df_filtered['power'] = df_filtered['power'].replace(0, np.nan)"
   ]
  },
  {
   "cell_type": "code",
   "execution_count": 49,
   "metadata": {},
   "outputs": [],
   "source": [
    "df_filtered['power'] = df_filtered['power'].fillna(\n",
    "    df_filtered.groupby(['model', 'fuel_type',\n",
    "                         'brand'])['power'].transform('median'))\n",
    "df_filtered = df_filtered.dropna(subset=['power'])"
   ]
  },
  {
   "cell_type": "markdown",
   "metadata": {},
   "source": [
    "#### Выбросы столбца `registration_year`"
   ]
  },
  {
   "cell_type": "markdown",
   "metadata": {},
   "source": [
    "Нарисуем гистрограмму и ящик с усами"
   ]
  },
  {
   "cell_type": "code",
   "execution_count": 50,
   "metadata": {},
   "outputs": [
    {
     "data": {
      "image/png": "[encoded data removed]",
      "text/plain": [
       "<Figure size 1080x576 with 2 Axes>"
      ]
     },
     "metadata": {
      "needs_background": "light"
     },
     "output_type": "display_data"
    }
   ],
   "source": [
    "hist_box_plot(df_filtered, 'registration_year', 'год регистрации')"
   ]
  },
  {
   "cell_type": "markdown",
   "metadata": {},
   "source": [
    "Значения опять сплющились из-за выбросов, приблизим значения по верхнему и нижнему усу"
   ]
  },
  {
   "cell_type": "code",
   "execution_count": 51,
   "metadata": {},
   "outputs": [],
   "source": [
    "iqr_year = df_filtered['registration_year'].quantile(0.75) - df_filtered['registration_year'].quantile(0.25)\n",
    "high_year = df_filtered['registration_year'].quantile(0.75) + 1.5 * iqr_year\n",
    "bottom_year = df_filtered['registration_year'].quantile(0.25) - 1.5 * iqr_year"
   ]
  },
  {
   "cell_type": "code",
   "execution_count": 52,
   "metadata": {},
   "outputs": [
    {
     "data": {
      "image/png": "[encoded data removed]",
      "text/plain": [
       "<Figure size 1080x360 with 1 Axes>"
      ]
     },
     "metadata": {
      "needs_background": "light"
     },
     "output_type": "display_data"
    }
   ],
   "source": [
    "hist_plot(df_filtered, 'registration_year', (bottom_year,high_year), 'год регистрации')"
   ]
  },
  {
   "cell_type": "markdown",
   "metadata": {},
   "source": [
    "Однозначно можно сделать вывод, что вряд ли есть машины выпущенные после 2022 года, но машины выпущенные раньше 1980 года могут быть. Предлагаю посмотреть сколько данных меньше 1970 года и больше 2022 года"
   ]
  },
  {
   "cell_type": "code",
   "execution_count": 53,
   "metadata": {},
   "outputs": [
    {
     "name": "stdout",
     "output_type": "stream",
     "text": [
      "Количество данных меньше 1970 года и больше 2022 года равно 1156 шт, это составляет 0.34 % от общего количества\n"
     ]
    }
   ],
   "source": [
    "outliers_year = df_filtered[(df_filtered['registration_year'] < 1970) |\n",
    "                        ((df_filtered['registration_year'] > 2022))]\n",
    "print(\n",
    "    'Количество данных меньше 1970 года и больше 2022 года равно {} шт, это составляет {} % от общего количества'\n",
    "    .format(outliers_year.shape[0], np.round(outliers_year.shape[0]/len(df_filtered)*100,2)))"
   ]
  },
  {
   "cell_type": "markdown",
   "metadata": {},
   "source": [
    "Предлагаю удалить эти строки"
   ]
  },
  {
   "cell_type": "code",
   "execution_count": 55,
   "metadata": {},
   "outputs": [],
   "source": [
    "df_filtered['registration_year'] = df_filtered['registration_year'].apply(\n",
    "    lambda x: 1970 if x < 1970 else (2022 if x > 2022 else x))"
   ]
  },
  {
   "cell_type": "code",
   "execution_count": 56,
   "metadata": {},
   "outputs": [
    {
     "data": {
      "image/png": "[encoded data removed]",
      "text/plain": [
       "<Figure size 1080x576 with 2 Axes>"
      ]
     },
     "metadata": {
      "needs_background": "light"
     },
     "output_type": "display_data"
    }
   ],
   "source": [
    "hist_box_plot(df_filtered, 'registration_year', 'год регистрации')"
   ]
  },
  {
   "cell_type": "markdown",
   "metadata": {},
   "source": [
    "#### Выбросы столбца `kilometer`"
   ]
  },
  {
   "cell_type": "markdown",
   "metadata": {},
   "source": [
    "Нарисуем гистрограмму и ящик с усами"
   ]
  },
  {
   "cell_type": "code",
   "execution_count": 57,
   "metadata": {},
   "outputs": [
    {
     "data": {
      "image/png": "[encoded data removed]",
      "text/plain": [
       "<Figure size 1080x576 with 2 Axes>"
      ]
     },
     "metadata": {
      "needs_background": "light"
     },
     "output_type": "display_data"
    }
   ],
   "source": [
    "hist_box_plot(df_filtered, 'kilometer', 'километраж')"
   ]
  },
  {
   "cell_type": "markdown",
   "metadata": {},
   "source": [
    "Данные по километражу выглядят адекватно, поэтому трогать их не будем"
   ]
  },
  {
   "cell_type": "markdown",
   "metadata": {},
   "source": [
    "### Вывод"
   ]
  },
  {
   "cell_type": "markdown",
   "metadata": {},
   "source": [
    "На данном этапе мы провели предобработку данных:\n",
    "\n",
    "1) Привели названия столбцов к snake_case \n",
    "\n",
    "2) Удалили столбцы которые никак не влияют на стоимость автомобиля:\n",
    "\n",
    "- date_crawled — дата скачивания анкеты из базы\n",
    "- registration_month — месяц регистрации автомобиля (у нас есть год регистрации)\n",
    "- date_created — дата создания анкеты\n",
    "- number_of_pictures — количество фотографий автомобиля\n",
    "- postal_code — почтовый индекс владельца анкеты (пользователя)\n",
    "- last_seen — дата последней активности пользователя  \n",
    "\n",
    "3) Обработали пропущенные значения:  \n",
    "\n",
    "- Пропущенные значения столбца `model` заменили на **unknown**  \n",
    "- Пропущенные значения столбца `gearbox` заменили на **unknown**  \n",
    "- Пропущенные значения столбца `fuel_type` заменили на **unknown** и объеденили значения **petrol** и **gasoline** в одно тк это одно и тоже на разных языках  \n",
    "- Пропущенные значения столбца `vehicle_type` заменили на **unknown**  \n",
    "- Пропущенные значения столбца `not_repaired` заменили на **unknown** \n",
    "\n",
    "Таким образом мы получили 2392 шт неинформативных строк, это составляет 0.68 % от данных, поэтому мы их удалили.  \n",
    "\n",
    "4) Обработали выбросы\n",
    "- Выбросы столбца `price` равные 0 мы отбросили тк вряд ли кто-то отдает свой автомобиль бесплатно  \n",
    "- Выбросы столбца `power`, однозначно, что бала допущенна какая то ошибка при выгрузке данных. Значения мощности, которые выше 1000 л.с. и ниже 40 л.с., мы приравняли к нулю, затем сгруппировали данные по бренду, модели, типу кузова, типу топлива, типу коробки передач и году регистрации и присвоили среднее значение мощности нулевым значениям.\n",
    "- Выбросы столбца `registration_year`, мы отбросили значения ниже 1970 года и выше 2022 года  \n",
    "- Выбросы столбца `kilometer`, данный столбец выглядит нормально поэтому мы его не трогали"
   ]
  },
  {
   "cell_type": "markdown",
   "metadata": {},
   "source": [
    "## Обучение моделей"
   ]
  },
  {
   "cell_type": "markdown",
   "metadata": {},
   "source": [
    "### Подготовка и разбиение данных"
   ]
  },
  {
   "cell_type": "markdown",
   "metadata": {},
   "source": [
    "Перед обучением моделей разобъем данные на обучающую, валидационную и тестовую выборку.\n",
    "Целевой переменной у нас будет выступать колонка `price`, а остальные колонки будут предикторами.\n",
    "Так же необходимо закодировать категоральные признаки, для этого воспользуемся функцией **get_dummies()** из библиотеки **pandas**"
   ]
  },
  {
   "cell_type": "code",
   "execution_count": 58,
   "metadata": {},
   "outputs": [
    {
     "data": {
      "text/html": [
       "<div>\n",
       "<style scoped>\n",
       "    .dataframe tbody tr th:only-of-type {\n",
       "        vertical-align: middle;\n",
       "    }\n",
       "\n",
       "    .dataframe tbody tr th {\n",
       "        vertical-align: top;\n",
       "    }\n",
       "\n",
       "    .dataframe thead th {\n",
       "        text-align: right;\n",
       "    }\n",
       "</style>\n",
       "<table border=\"1\" class=\"dataframe\">\n",
       "  <thead>\n",
       "    <tr style=\"text-align: right;\">\n",
       "      <th></th>\n",
       "      <th>price</th>\n",
       "      <th>vehicle_type</th>\n",
       "      <th>registration_year</th>\n",
       "      <th>gearbox</th>\n",
       "      <th>power</th>\n",
       "      <th>model</th>\n",
       "      <th>kilometer</th>\n",
       "      <th>fuel_type</th>\n",
       "      <th>brand</th>\n",
       "      <th>not_repaired</th>\n",
       "    </tr>\n",
       "  </thead>\n",
       "  <tbody>\n",
       "    <tr>\n",
       "      <th>0</th>\n",
       "      <td>480.0</td>\n",
       "      <td>unknown</td>\n",
       "      <td>1993.0</td>\n",
       "      <td>manual</td>\n",
       "      <td>101.0</td>\n",
       "      <td>golf</td>\n",
       "      <td>150000.0</td>\n",
       "      <td>gasoline</td>\n",
       "      <td>volkswagen</td>\n",
       "      <td>unknown</td>\n",
       "    </tr>\n",
       "    <tr>\n",
       "      <th>1</th>\n",
       "      <td>18300.0</td>\n",
       "      <td>coupe</td>\n",
       "      <td>2011.0</td>\n",
       "      <td>manual</td>\n",
       "      <td>190.0</td>\n",
       "      <td>unknown</td>\n",
       "      <td>125000.0</td>\n",
       "      <td>gasoline</td>\n",
       "      <td>audi</td>\n",
       "      <td>yes</td>\n",
       "    </tr>\n",
       "    <tr>\n",
       "      <th>2</th>\n",
       "      <td>9800.0</td>\n",
       "      <td>suv</td>\n",
       "      <td>2004.0</td>\n",
       "      <td>auto</td>\n",
       "      <td>163.0</td>\n",
       "      <td>grand</td>\n",
       "      <td>125000.0</td>\n",
       "      <td>gasoline</td>\n",
       "      <td>jeep</td>\n",
       "      <td>unknown</td>\n",
       "    </tr>\n",
       "    <tr>\n",
       "      <th>3</th>\n",
       "      <td>1500.0</td>\n",
       "      <td>small</td>\n",
       "      <td>2001.0</td>\n",
       "      <td>manual</td>\n",
       "      <td>75.0</td>\n",
       "      <td>golf</td>\n",
       "      <td>150000.0</td>\n",
       "      <td>gasoline</td>\n",
       "      <td>volkswagen</td>\n",
       "      <td>no</td>\n",
       "    </tr>\n",
       "    <tr>\n",
       "      <th>4</th>\n",
       "      <td>3600.0</td>\n",
       "      <td>small</td>\n",
       "      <td>2008.0</td>\n",
       "      <td>manual</td>\n",
       "      <td>69.0</td>\n",
       "      <td>fabia</td>\n",
       "      <td>90000.0</td>\n",
       "      <td>gasoline</td>\n",
       "      <td>skoda</td>\n",
       "      <td>no</td>\n",
       "    </tr>\n",
       "  </tbody>\n",
       "</table>\n",
       "</div>"
      ],
      "text/plain": [
       "     price vehicle_type  registration_year gearbox  power    model  kilometer  \\\n",
       "0    480.0      unknown             1993.0  manual  101.0     golf   150000.0   \n",
       "1  18300.0        coupe             2011.0  manual  190.0  unknown   125000.0   \n",
       "2   9800.0          suv             2004.0    auto  163.0    grand   125000.0   \n",
       "3   1500.0        small             2001.0  manual   75.0     golf   150000.0   \n",
       "4   3600.0        small             2008.0  manual   69.0    fabia    90000.0   \n",
       "\n",
       "  fuel_type       brand not_repaired  \n",
       "0  gasoline  volkswagen      unknown  \n",
       "1  gasoline        audi          yes  \n",
       "2  gasoline        jeep      unknown  \n",
       "3  gasoline  volkswagen           no  \n",
       "4  gasoline       skoda           no  "
      ]
     },
     "execution_count": 58,
     "metadata": {},
     "output_type": "execute_result"
    }
   ],
   "source": [
    "df_filtered.head()"
   ]
  },
  {
   "cell_type": "code",
   "execution_count": 59,
   "metadata": {},
   "outputs": [],
   "source": [
    "cat_col = ['vehicle_type', 'gearbox','model', 'fuel_type', 'brand', 'not_repaired']\n",
    "df_filtered[cat_col] = df_filtered[cat_col].astype('category')"
   ]
  },
  {
   "cell_type": "code",
   "execution_count": 60,
   "metadata": {},
   "outputs": [
    {
     "data": {
      "text/html": [
       "<div>\n",
       "<style scoped>\n",
       "    .dataframe tbody tr th:only-of-type {\n",
       "        vertical-align: middle;\n",
       "    }\n",
       "\n",
       "    .dataframe tbody tr th {\n",
       "        vertical-align: top;\n",
       "    }\n",
       "\n",
       "    .dataframe thead th {\n",
       "        text-align: right;\n",
       "    }\n",
       "</style>\n",
       "<table border=\"1\" class=\"dataframe\">\n",
       "  <thead>\n",
       "    <tr style=\"text-align: right;\">\n",
       "      <th></th>\n",
       "      <th>price</th>\n",
       "      <th>registration_year</th>\n",
       "      <th>power</th>\n",
       "      <th>kilometer</th>\n",
       "      <th>vehicle_type_convertible</th>\n",
       "      <th>vehicle_type_coupe</th>\n",
       "      <th>vehicle_type_other</th>\n",
       "      <th>vehicle_type_sedan</th>\n",
       "      <th>vehicle_type_small</th>\n",
       "      <th>vehicle_type_suv</th>\n",
       "      <th>...</th>\n",
       "      <th>brand_smart</th>\n",
       "      <th>brand_sonstige_autos</th>\n",
       "      <th>brand_subaru</th>\n",
       "      <th>brand_suzuki</th>\n",
       "      <th>brand_toyota</th>\n",
       "      <th>brand_trabant</th>\n",
       "      <th>brand_volkswagen</th>\n",
       "      <th>brand_volvo</th>\n",
       "      <th>not_repaired_unknown</th>\n",
       "      <th>not_repaired_yes</th>\n",
       "    </tr>\n",
       "  </thead>\n",
       "  <tbody>\n",
       "    <tr>\n",
       "      <th>0</th>\n",
       "      <td>480.0</td>\n",
       "      <td>1993.0</td>\n",
       "      <td>101.0</td>\n",
       "      <td>150000.0</td>\n",
       "      <td>0</td>\n",
       "      <td>0</td>\n",
       "      <td>0</td>\n",
       "      <td>0</td>\n",
       "      <td>0</td>\n",
       "      <td>0</td>\n",
       "      <td>...</td>\n",
       "      <td>0</td>\n",
       "      <td>0</td>\n",
       "      <td>0</td>\n",
       "      <td>0</td>\n",
       "      <td>0</td>\n",
       "      <td>0</td>\n",
       "      <td>1</td>\n",
       "      <td>0</td>\n",
       "      <td>1</td>\n",
       "      <td>0</td>\n",
       "    </tr>\n",
       "    <tr>\n",
       "      <th>1</th>\n",
       "      <td>18300.0</td>\n",
       "      <td>2011.0</td>\n",
       "      <td>190.0</td>\n",
       "      <td>125000.0</td>\n",
       "      <td>0</td>\n",
       "      <td>1</td>\n",
       "      <td>0</td>\n",
       "      <td>0</td>\n",
       "      <td>0</td>\n",
       "      <td>0</td>\n",
       "      <td>...</td>\n",
       "      <td>0</td>\n",
       "      <td>0</td>\n",
       "      <td>0</td>\n",
       "      <td>0</td>\n",
       "      <td>0</td>\n",
       "      <td>0</td>\n",
       "      <td>0</td>\n",
       "      <td>0</td>\n",
       "      <td>0</td>\n",
       "      <td>1</td>\n",
       "    </tr>\n",
       "    <tr>\n",
       "      <th>2</th>\n",
       "      <td>9800.0</td>\n",
       "      <td>2004.0</td>\n",
       "      <td>163.0</td>\n",
       "      <td>125000.0</td>\n",
       "      <td>0</td>\n",
       "      <td>0</td>\n",
       "      <td>0</td>\n",
       "      <td>0</td>\n",
       "      <td>0</td>\n",
       "      <td>1</td>\n",
       "      <td>...</td>\n",
       "      <td>0</td>\n",
       "      <td>0</td>\n",
       "      <td>0</td>\n",
       "      <td>0</td>\n",
       "      <td>0</td>\n",
       "      <td>0</td>\n",
       "      <td>0</td>\n",
       "      <td>0</td>\n",
       "      <td>1</td>\n",
       "      <td>0</td>\n",
       "    </tr>\n",
       "    <tr>\n",
       "      <th>3</th>\n",
       "      <td>1500.0</td>\n",
       "      <td>2001.0</td>\n",
       "      <td>75.0</td>\n",
       "      <td>150000.0</td>\n",
       "      <td>0</td>\n",
       "      <td>0</td>\n",
       "      <td>0</td>\n",
       "      <td>0</td>\n",
       "      <td>1</td>\n",
       "      <td>0</td>\n",
       "      <td>...</td>\n",
       "      <td>0</td>\n",
       "      <td>0</td>\n",
       "      <td>0</td>\n",
       "      <td>0</td>\n",
       "      <td>0</td>\n",
       "      <td>0</td>\n",
       "      <td>1</td>\n",
       "      <td>0</td>\n",
       "      <td>0</td>\n",
       "      <td>0</td>\n",
       "    </tr>\n",
       "    <tr>\n",
       "      <th>4</th>\n",
       "      <td>3600.0</td>\n",
       "      <td>2008.0</td>\n",
       "      <td>69.0</td>\n",
       "      <td>90000.0</td>\n",
       "      <td>0</td>\n",
       "      <td>0</td>\n",
       "      <td>0</td>\n",
       "      <td>0</td>\n",
       "      <td>1</td>\n",
       "      <td>0</td>\n",
       "      <td>...</td>\n",
       "      <td>0</td>\n",
       "      <td>0</td>\n",
       "      <td>0</td>\n",
       "      <td>0</td>\n",
       "      <td>0</td>\n",
       "      <td>0</td>\n",
       "      <td>0</td>\n",
       "      <td>0</td>\n",
       "      <td>0</td>\n",
       "      <td>0</td>\n",
       "    </tr>\n",
       "  </tbody>\n",
       "</table>\n",
       "<p>5 rows × 310 columns</p>\n",
       "</div>"
      ],
      "text/plain": [
       "     price  registration_year  power  kilometer  vehicle_type_convertible  \\\n",
       "0    480.0             1993.0  101.0   150000.0                         0   \n",
       "1  18300.0             2011.0  190.0   125000.0                         0   \n",
       "2   9800.0             2004.0  163.0   125000.0                         0   \n",
       "3   1500.0             2001.0   75.0   150000.0                         0   \n",
       "4   3600.0             2008.0   69.0    90000.0                         0   \n",
       "\n",
       "   vehicle_type_coupe  vehicle_type_other  vehicle_type_sedan  \\\n",
       "0                   0                   0                   0   \n",
       "1                   1                   0                   0   \n",
       "2                   0                   0                   0   \n",
       "3                   0                   0                   0   \n",
       "4                   0                   0                   0   \n",
       "\n",
       "   vehicle_type_small  vehicle_type_suv  ...  brand_smart  \\\n",
       "0                   0                 0  ...            0   \n",
       "1                   0                 0  ...            0   \n",
       "2                   0                 1  ...            0   \n",
       "3                   1                 0  ...            0   \n",
       "4                   1                 0  ...            0   \n",
       "\n",
       "   brand_sonstige_autos  brand_subaru  brand_suzuki  brand_toyota  \\\n",
       "0                     0             0             0             0   \n",
       "1                     0             0             0             0   \n",
       "2                     0             0             0             0   \n",
       "3                     0             0             0             0   \n",
       "4                     0             0             0             0   \n",
       "\n",
       "   brand_trabant  brand_volkswagen  brand_volvo  not_repaired_unknown  \\\n",
       "0              0                 1            0                     1   \n",
       "1              0                 0            0                     0   \n",
       "2              0                 0            0                     1   \n",
       "3              0                 1            0                     0   \n",
       "4              0                 0            0                     0   \n",
       "\n",
       "   not_repaired_yes  \n",
       "0                 0  \n",
       "1                 1  \n",
       "2                 0  \n",
       "3                 0  \n",
       "4                 0  \n",
       "\n",
       "[5 rows x 310 columns]"
      ]
     },
     "execution_count": 60,
     "metadata": {},
     "output_type": "execute_result"
    }
   ],
   "source": [
    "features_categorical = pd.get_dummies(df_filtered, drop_first=True)\n",
    "features_categorical.head()"
   ]
  },
  {
   "cell_type": "markdown",
   "metadata": {},
   "source": [
    "Теперь поделим наши данные на тренировочную, валидационную и тестовую выборку в соотношении 3:1:1"
   ]
  },
  {
   "cell_type": "code",
   "execution_count": 99,
   "metadata": {},
   "outputs": [],
   "source": [
    "features = features_categorical.drop('price', axis=1)\n",
    "target = features_categorical['price']\n",
    "features_train, features_valid, target_train, target_valid = train_test_split(features, \n",
    "                                                                              target, \n",
    "                                                                              test_size=0.2, \n",
    "                                                                              random_state=123)\n",
    "features_train, features_test, target_train, target_test = train_test_split(features_train, \n",
    "                                                                            target_train, \n",
    "                                                                            test_size=0.25, \n",
    "                                                                            random_state=123)"
   ]
  },
  {
   "cell_type": "code",
   "execution_count": 62,
   "metadata": {},
   "outputs": [
    {
     "name": "stdout",
     "output_type": "stream",
     "text": [
      "Размер выборки features_train: (205050, 309)\n",
      "Размер выборки target_train: (205050,)\n",
      "Размер выборки features_valid: (68350, 309)\n",
      "Размер выборки target_valid: (68350,)\n",
      "Размер выборки features_test: (68350, 309)\n",
      "Размер выборки target_test: (68350,)\n"
     ]
    }
   ],
   "source": [
    "print('Размер выборки features_train:', features_train.shape)\n",
    "print('Размер выборки target_train:', target_train.shape)\n",
    "print('Размер выборки features_valid:', features_valid.shape)\n",
    "print('Размер выборки target_valid:', target_valid.shape)\n",
    "print('Размер выборки features_test:', features_test.shape)\n",
    "print('Размер выборки target_test:', target_test.shape)"
   ]
  },
  {
   "cell_type": "markdown",
   "metadata": {},
   "source": [
    "Теперь масштабируем признаки с помощью **StandardScaler()**."
   ]
  },
  {
   "cell_type": "code",
   "execution_count": 63,
   "metadata": {},
   "outputs": [
    {
     "data": {
      "text/plain": [
       "StandardScaler()"
      ]
     },
     "execution_count": 63,
     "metadata": {},
     "output_type": "execute_result"
    }
   ],
   "source": [
    "numeric = ['registration_year', 'power', 'kilometer']\n",
    "scaler = StandardScaler()\n",
    "scaler.fit(features_train[numeric])"
   ]
  },
  {
   "cell_type": "code",
   "execution_count": 105,
   "metadata": {},
   "outputs": [],
   "source": [
    "features_valid = features_valid.copy()"
   ]
  },
  {
   "cell_type": "code",
   "execution_count": 108,
   "metadata": {},
   "outputs": [
    {
     "name": "stdout",
     "output_type": "stream",
     "text": [
      "None\n"
     ]
    }
   ],
   "source": [
    "print(features_valid._is_copy)"
   ]
  },
  {
   "cell_type": "code",
   "execution_count": 103,
   "metadata": {},
   "outputs": [
    {
     "data": {
      "text/plain": [
       "<weakref at 0x7f135c8c1e50; to 'DataFrame' at 0x7f135c8a27c0>"
      ]
     },
     "execution_count": 103,
     "metadata": {},
     "output_type": "execute_result"
    }
   ],
   "source": [
    "features_valid._is_copy"
   ]
  },
  {
   "cell_type": "code",
   "execution_count": 104,
   "metadata": {},
   "outputs": [
    {
     "data": {
      "text/plain": [
       "<weakref at 0x7f1345fe56d0; dead>"
      ]
     },
     "execution_count": 104,
     "metadata": {},
     "output_type": "execute_result"
    }
   ],
   "source": [
    "features_test._is_copy"
   ]
  },
  {
   "cell_type": "code",
   "execution_count": 93,
   "metadata": {},
   "outputs": [],
   "source": [
    "features_valid_c.loc[:,numeric] = scaler.transform(features_valid.loc[:,numeric]) "
   ]
  },
  {
   "cell_type": "code",
   "execution_count": 97,
   "metadata": {},
   "outputs": [],
   "source": [
    "features_valid.loc[:,numeric] = scaler.transform(features_valid.loc[:,numeric])\n"
   ]
  },
  {
   "cell_type": "code",
   "execution_count": 66,
   "metadata": {},
   "outputs": [
    {
     "name": "stderr",
     "output_type": "stream",
     "text": [
      "/tmp/ipykernel_36/3295986046.py:2: SettingWithCopyWarning: \n",
      "A value is trying to be set on a copy of a slice from a DataFrame.\n",
      "Try using .loc[row_indexer,col_indexer] = value instead\n",
      "\n",
      "See the caveats in the documentation: https://pandas.pydata.org/pandas-docs/stable/user_guide/indexing.html#returning-a-view-versus-a-copy\n",
      "  features_valid[numeric] = scaler.transform(features_valid[numeric])\n",
      "/opt/conda/lib/python3.9/site-packages/pandas/core/indexing.py:1738: SettingWithCopyWarning: \n",
      "A value is trying to be set on a copy of a slice from a DataFrame.\n",
      "Try using .loc[row_indexer,col_indexer] = value instead\n",
      "\n",
      "See the caveats in the documentation: https://pandas.pydata.org/pandas-docs/stable/user_guide/indexing.html#returning-a-view-versus-a-copy\n",
      "  self._setitem_single_column(loc, value[:, i].tolist(), pi)\n"
     ]
    }
   ],
   "source": [
    "features_train[numeric] = scaler.transform(features_train[numeric])\n",
    "features_valid[numeric] = scaler.transform(features_valid[numeric])\n",
    "features_test[numeric] = scaler.transform(features_test[numeric])"
   ]
  },
  {
   "cell_type": "markdown",
   "metadata": {},
   "source": [
    "Посмотрим что получилось"
   ]
  },
  {
   "cell_type": "code",
   "execution_count": 65,
   "metadata": {},
   "outputs": [
    {
     "data": {
      "text/html": [
       "<div>\n",
       "<style scoped>\n",
       "    .dataframe tbody tr th:only-of-type {\n",
       "        vertical-align: middle;\n",
       "    }\n",
       "\n",
       "    .dataframe tbody tr th {\n",
       "        vertical-align: top;\n",
       "    }\n",
       "\n",
       "    .dataframe thead th {\n",
       "        text-align: right;\n",
       "    }\n",
       "</style>\n",
       "<table border=\"1\" class=\"dataframe\">\n",
       "  <thead>\n",
       "    <tr style=\"text-align: right;\">\n",
       "      <th></th>\n",
       "      <th>registration_year</th>\n",
       "      <th>power</th>\n",
       "      <th>kilometer</th>\n",
       "      <th>vehicle_type_convertible</th>\n",
       "      <th>vehicle_type_coupe</th>\n",
       "      <th>vehicle_type_other</th>\n",
       "      <th>vehicle_type_sedan</th>\n",
       "      <th>vehicle_type_small</th>\n",
       "      <th>vehicle_type_suv</th>\n",
       "      <th>vehicle_type_unknown</th>\n",
       "      <th>...</th>\n",
       "      <th>brand_smart</th>\n",
       "      <th>brand_sonstige_autos</th>\n",
       "      <th>brand_subaru</th>\n",
       "      <th>brand_suzuki</th>\n",
       "      <th>brand_toyota</th>\n",
       "      <th>brand_trabant</th>\n",
       "      <th>brand_volkswagen</th>\n",
       "      <th>brand_volvo</th>\n",
       "      <th>not_repaired_unknown</th>\n",
       "      <th>not_repaired_yes</th>\n",
       "    </tr>\n",
       "  </thead>\n",
       "  <tbody>\n",
       "    <tr>\n",
       "      <th>115249</th>\n",
       "      <td>-0.454598</td>\n",
       "      <td>-0.556857</td>\n",
       "      <td>0.575284</td>\n",
       "      <td>0</td>\n",
       "      <td>0</td>\n",
       "      <td>0</td>\n",
       "      <td>0</td>\n",
       "      <td>1</td>\n",
       "      <td>0</td>\n",
       "      <td>0</td>\n",
       "      <td>...</td>\n",
       "      <td>0</td>\n",
       "      <td>0</td>\n",
       "      <td>0</td>\n",
       "      <td>0</td>\n",
       "      <td>0</td>\n",
       "      <td>0</td>\n",
       "      <td>0</td>\n",
       "      <td>0</td>\n",
       "      <td>0</td>\n",
       "      <td>0</td>\n",
       "    </tr>\n",
       "    <tr>\n",
       "      <th>162800</th>\n",
       "      <td>0.530156</td>\n",
       "      <td>-0.067104</td>\n",
       "      <td>-0.768475</td>\n",
       "      <td>0</td>\n",
       "      <td>0</td>\n",
       "      <td>0</td>\n",
       "      <td>1</td>\n",
       "      <td>0</td>\n",
       "      <td>0</td>\n",
       "      <td>0</td>\n",
       "      <td>...</td>\n",
       "      <td>0</td>\n",
       "      <td>0</td>\n",
       "      <td>0</td>\n",
       "      <td>0</td>\n",
       "      <td>0</td>\n",
       "      <td>0</td>\n",
       "      <td>0</td>\n",
       "      <td>0</td>\n",
       "      <td>0</td>\n",
       "      <td>0</td>\n",
       "    </tr>\n",
       "    <tr>\n",
       "      <th>22733</th>\n",
       "      <td>0.811514</td>\n",
       "      <td>-0.198961</td>\n",
       "      <td>-0.096595</td>\n",
       "      <td>0</td>\n",
       "      <td>0</td>\n",
       "      <td>0</td>\n",
       "      <td>0</td>\n",
       "      <td>0</td>\n",
       "      <td>0</td>\n",
       "      <td>0</td>\n",
       "      <td>...</td>\n",
       "      <td>0</td>\n",
       "      <td>0</td>\n",
       "      <td>0</td>\n",
       "      <td>0</td>\n",
       "      <td>0</td>\n",
       "      <td>0</td>\n",
       "      <td>0</td>\n",
       "      <td>0</td>\n",
       "      <td>0</td>\n",
       "      <td>0</td>\n",
       "    </tr>\n",
       "    <tr>\n",
       "      <th>138332</th>\n",
       "      <td>0.389477</td>\n",
       "      <td>0.384975</td>\n",
       "      <td>0.575284</td>\n",
       "      <td>0</td>\n",
       "      <td>0</td>\n",
       "      <td>0</td>\n",
       "      <td>1</td>\n",
       "      <td>0</td>\n",
       "      <td>0</td>\n",
       "      <td>0</td>\n",
       "      <td>...</td>\n",
       "      <td>0</td>\n",
       "      <td>0</td>\n",
       "      <td>0</td>\n",
       "      <td>0</td>\n",
       "      <td>0</td>\n",
       "      <td>0</td>\n",
       "      <td>0</td>\n",
       "      <td>0</td>\n",
       "      <td>1</td>\n",
       "      <td>0</td>\n",
       "    </tr>\n",
       "    <tr>\n",
       "      <th>259496</th>\n",
       "      <td>1.936947</td>\n",
       "      <td>-0.462674</td>\n",
       "      <td>-1.574730</td>\n",
       "      <td>0</td>\n",
       "      <td>0</td>\n",
       "      <td>0</td>\n",
       "      <td>0</td>\n",
       "      <td>0</td>\n",
       "      <td>0</td>\n",
       "      <td>1</td>\n",
       "      <td>...</td>\n",
       "      <td>0</td>\n",
       "      <td>0</td>\n",
       "      <td>0</td>\n",
       "      <td>0</td>\n",
       "      <td>0</td>\n",
       "      <td>0</td>\n",
       "      <td>0</td>\n",
       "      <td>0</td>\n",
       "      <td>0</td>\n",
       "      <td>1</td>\n",
       "    </tr>\n",
       "  </tbody>\n",
       "</table>\n",
       "<p>5 rows × 309 columns</p>\n",
       "</div>"
      ],
      "text/plain": [
       "        registration_year     power  kilometer  vehicle_type_convertible  \\\n",
       "115249          -0.454598 -0.556857   0.575284                         0   \n",
       "162800           0.530156 -0.067104  -0.768475                         0   \n",
       "22733            0.811514 -0.198961  -0.096595                         0   \n",
       "138332           0.389477  0.384975   0.575284                         0   \n",
       "259496           1.936947 -0.462674  -1.574730                         0   \n",
       "\n",
       "        vehicle_type_coupe  vehicle_type_other  vehicle_type_sedan  \\\n",
       "115249                   0                   0                   0   \n",
       "162800                   0                   0                   1   \n",
       "22733                    0                   0                   0   \n",
       "138332                   0                   0                   1   \n",
       "259496                   0                   0                   0   \n",
       "\n",
       "        vehicle_type_small  vehicle_type_suv  vehicle_type_unknown  ...  \\\n",
       "115249                   1                 0                     0  ...   \n",
       "162800                   0                 0                     0  ...   \n",
       "22733                    0                 0                     0  ...   \n",
       "138332                   0                 0                     0  ...   \n",
       "259496                   0                 0                     1  ...   \n",
       "\n",
       "        brand_smart  brand_sonstige_autos  brand_subaru  brand_suzuki  \\\n",
       "115249            0                     0             0             0   \n",
       "162800            0                     0             0             0   \n",
       "22733             0                     0             0             0   \n",
       "138332            0                     0             0             0   \n",
       "259496            0                     0             0             0   \n",
       "\n",
       "        brand_toyota  brand_trabant  brand_volkswagen  brand_volvo  \\\n",
       "115249             0              0                 0            0   \n",
       "162800             0              0                 0            0   \n",
       "22733              0              0                 0            0   \n",
       "138332             0              0                 0            0   \n",
       "259496             0              0                 0            0   \n",
       "\n",
       "        not_repaired_unknown  not_repaired_yes  \n",
       "115249                     0                 0  \n",
       "162800                     0                 0  \n",
       "22733                      0                 0  \n",
       "138332                     1                 0  \n",
       "259496                     0                 1  \n",
       "\n",
       "[5 rows x 309 columns]"
      ]
     },
     "execution_count": 65,
     "metadata": {},
     "output_type": "execute_result"
    }
   ],
   "source": [
    "features_train.head()"
   ]
  },
  {
   "cell_type": "markdown",
   "metadata": {},
   "source": [
    "### Модель LinearRegression"
   ]
  },
  {
   "cell_type": "markdown",
   "metadata": {},
   "source": [
    "Создадим модель линейно регресии и засечем время ее обучения и предсказания. Для этого напишем функцию fit_predict_time()"
   ]
  },
  {
   "cell_type": "code",
   "execution_count": 66,
   "metadata": {},
   "outputs": [],
   "source": [
    "results = []"
   ]
  },
  {
   "cell_type": "code",
   "execution_count": 67,
   "metadata": {},
   "outputs": [],
   "source": [
    "def fit_predict_time(model_name, model, features_train, target_train, features_valid,\n",
    "                     target_valid, params=np.nan):\n",
    "\n",
    "    start = time.time()\n",
    "    model.fit(features_train, target_train)\n",
    "    end_time_fit = time.time() - start\n",
    "    print('End time fit: ', end_time_fit)\n",
    "\n",
    "    start = time.time()\n",
    "    predictions = model.predict(features_valid)\n",
    "    end_time_predict = time.time() - start\n",
    "    print('End time predict: ', end_time_predict)\n",
    "\n",
    "    return {\n",
    "        'Модель': model_name,\n",
    "        'Параметры': params,\n",
    "        'Время обучения': end_time_fit,\n",
    "        'Время предсказания': end_time_predict,\n",
    "        'RMSE': np.sqrt(mean_squared_error(target_valid, predictions))\n",
    "    }"
   ]
  },
  {
   "cell_type": "code",
   "execution_count": 68,
   "metadata": {},
   "outputs": [],
   "source": [
    "model_lr = LinearRegression()"
   ]
  },
  {
   "cell_type": "code",
   "execution_count": 69,
   "metadata": {},
   "outputs": [
    {
     "name": "stdout",
     "output_type": "stream",
     "text": [
      "End time fit:  2.446441888809204\n",
      "End time predict:  0.10473108291625977\n"
     ]
    }
   ],
   "source": [
    "lr_result = fit_predict_time('LinearRegression', model_lr, features_train,\n",
    "                             target_train, features_valid, target_valid)"
   ]
  },
  {
   "cell_type": "markdown",
   "metadata": {},
   "source": [
    "Добавим результаты работы линейной регрессии в список **results**"
   ]
  },
  {
   "cell_type": "code",
   "execution_count": 70,
   "metadata": {},
   "outputs": [],
   "source": [
    "results.append(lr_result)"
   ]
  },
  {
   "cell_type": "code",
   "execution_count": 71,
   "metadata": {},
   "outputs": [
    {
     "data": {
      "text/html": [
       "<div>\n",
       "<style scoped>\n",
       "    .dataframe tbody tr th:only-of-type {\n",
       "        vertical-align: middle;\n",
       "    }\n",
       "\n",
       "    .dataframe tbody tr th {\n",
       "        vertical-align: top;\n",
       "    }\n",
       "\n",
       "    .dataframe thead th {\n",
       "        text-align: right;\n",
       "    }\n",
       "</style>\n",
       "<table border=\"1\" class=\"dataframe\">\n",
       "  <thead>\n",
       "    <tr style=\"text-align: right;\">\n",
       "      <th></th>\n",
       "      <th>Модель</th>\n",
       "      <th>Параметры</th>\n",
       "      <th>Время обучения</th>\n",
       "      <th>Время предсказания</th>\n",
       "      <th>RMSE</th>\n",
       "    </tr>\n",
       "  </thead>\n",
       "  <tbody>\n",
       "    <tr>\n",
       "      <th>0</th>\n",
       "      <td>LinearRegression</td>\n",
       "      <td>NaN</td>\n",
       "      <td>2.446442</td>\n",
       "      <td>0.104731</td>\n",
       "      <td>2702.222076</td>\n",
       "    </tr>\n",
       "  </tbody>\n",
       "</table>\n",
       "</div>"
      ],
      "text/plain": [
       "             Модель  Параметры  Время обучения  Время предсказания  \\\n",
       "0  LinearRegression        NaN        2.446442            0.104731   \n",
       "\n",
       "          RMSE  \n",
       "0  2702.222076  "
      ]
     },
     "execution_count": 71,
     "metadata": {},
     "output_type": "execute_result"
    }
   ],
   "source": [
    "pd.DataFrame(results)"
   ]
  },
  {
   "cell_type": "markdown",
   "metadata": {},
   "source": [
    "Как мы видим, получилась очень большая RMSE, но при этом время обучения и предсказания небольшие. "
   ]
  },
  {
   "cell_type": "markdown",
   "metadata": {},
   "source": [
    "### Модель LGBMRegressor"
   ]
  },
  {
   "cell_type": "markdown",
   "metadata": {},
   "source": [
    "Создадим модель и зададим ей параметры, а далее так же получим результаты работы"
   ]
  },
  {
   "cell_type": "code",
   "execution_count": 72,
   "metadata": {},
   "outputs": [],
   "source": [
    "categories = ['vehicle_type', 'gearbox', 'model', 'fuel_type', 'brand', 'not_repaired']\n",
    "df_filtered_ord = df_filtered.copy()\n",
    "encoder = OrdinalEncoder()\n",
    "encoder.fit(df_filtered[categories])\n",
    "df_filtered_ord[categories] = encoder.transform(df_filtered_ord[categories])"
   ]
  },
  {
   "cell_type": "code",
   "execution_count": 73,
   "metadata": {},
   "outputs": [
    {
     "data": {
      "text/html": [
       "<div>\n",
       "<style scoped>\n",
       "    .dataframe tbody tr th:only-of-type {\n",
       "        vertical-align: middle;\n",
       "    }\n",
       "\n",
       "    .dataframe tbody tr th {\n",
       "        vertical-align: top;\n",
       "    }\n",
       "\n",
       "    .dataframe thead th {\n",
       "        text-align: right;\n",
       "    }\n",
       "</style>\n",
       "<table border=\"1\" class=\"dataframe\">\n",
       "  <thead>\n",
       "    <tr style=\"text-align: right;\">\n",
       "      <th></th>\n",
       "      <th>price</th>\n",
       "      <th>vehicle_type</th>\n",
       "      <th>registration_year</th>\n",
       "      <th>gearbox</th>\n",
       "      <th>power</th>\n",
       "      <th>model</th>\n",
       "      <th>kilometer</th>\n",
       "      <th>fuel_type</th>\n",
       "      <th>brand</th>\n",
       "      <th>not_repaired</th>\n",
       "    </tr>\n",
       "  </thead>\n",
       "  <tbody>\n",
       "    <tr>\n",
       "      <th>0</th>\n",
       "      <td>480.0</td>\n",
       "      <td>7.0</td>\n",
       "      <td>1993.0</td>\n",
       "      <td>1.0</td>\n",
       "      <td>101.0</td>\n",
       "      <td>116.0</td>\n",
       "      <td>150000.0</td>\n",
       "      <td>2.0</td>\n",
       "      <td>38.0</td>\n",
       "      <td>1.0</td>\n",
       "    </tr>\n",
       "    <tr>\n",
       "      <th>1</th>\n",
       "      <td>18300.0</td>\n",
       "      <td>2.0</td>\n",
       "      <td>2011.0</td>\n",
       "      <td>1.0</td>\n",
       "      <td>190.0</td>\n",
       "      <td>227.0</td>\n",
       "      <td>125000.0</td>\n",
       "      <td>2.0</td>\n",
       "      <td>1.0</td>\n",
       "      <td>2.0</td>\n",
       "    </tr>\n",
       "    <tr>\n",
       "      <th>2</th>\n",
       "      <td>9800.0</td>\n",
       "      <td>6.0</td>\n",
       "      <td>2004.0</td>\n",
       "      <td>0.0</td>\n",
       "      <td>163.0</td>\n",
       "      <td>117.0</td>\n",
       "      <td>125000.0</td>\n",
       "      <td>2.0</td>\n",
       "      <td>14.0</td>\n",
       "      <td>1.0</td>\n",
       "    </tr>\n",
       "    <tr>\n",
       "      <th>3</th>\n",
       "      <td>1500.0</td>\n",
       "      <td>5.0</td>\n",
       "      <td>2001.0</td>\n",
       "      <td>1.0</td>\n",
       "      <td>75.0</td>\n",
       "      <td>116.0</td>\n",
       "      <td>150000.0</td>\n",
       "      <td>2.0</td>\n",
       "      <td>38.0</td>\n",
       "      <td>0.0</td>\n",
       "    </tr>\n",
       "    <tr>\n",
       "      <th>4</th>\n",
       "      <td>3600.0</td>\n",
       "      <td>5.0</td>\n",
       "      <td>2008.0</td>\n",
       "      <td>1.0</td>\n",
       "      <td>69.0</td>\n",
       "      <td>101.0</td>\n",
       "      <td>90000.0</td>\n",
       "      <td>2.0</td>\n",
       "      <td>31.0</td>\n",
       "      <td>0.0</td>\n",
       "    </tr>\n",
       "  </tbody>\n",
       "</table>\n",
       "</div>"
      ],
      "text/plain": [
       "     price  vehicle_type  registration_year  gearbox  power  model  kilometer  \\\n",
       "0    480.0           7.0             1993.0      1.0  101.0  116.0   150000.0   \n",
       "1  18300.0           2.0             2011.0      1.0  190.0  227.0   125000.0   \n",
       "2   9800.0           6.0             2004.0      0.0  163.0  117.0   125000.0   \n",
       "3   1500.0           5.0             2001.0      1.0   75.0  116.0   150000.0   \n",
       "4   3600.0           5.0             2008.0      1.0   69.0  101.0    90000.0   \n",
       "\n",
       "   fuel_type  brand  not_repaired  \n",
       "0        2.0   38.0           1.0  \n",
       "1        2.0    1.0           2.0  \n",
       "2        2.0   14.0           1.0  \n",
       "3        2.0   38.0           0.0  \n",
       "4        2.0   31.0           0.0  "
      ]
     },
     "execution_count": 73,
     "metadata": {},
     "output_type": "execute_result"
    }
   ],
   "source": [
    "df_filtered_ord.head()"
   ]
  },
  {
   "cell_type": "code",
   "execution_count": 74,
   "metadata": {},
   "outputs": [],
   "source": [
    "features_ord = df_filtered_ord.drop('price', axis=1)\n",
    "target_ord = df_filtered_ord['price']\n",
    "features_train, features_valid, target_train, target_valid = train_test_split(features_ord, \n",
    "                                                                              target_ord, \n",
    "                                                                              test_size=0.2, \n",
    "                                                                              random_state=123)\n",
    "features_train, features_test, target_train, target_test = train_test_split(features_train, \n",
    "                                                                            target_train, \n",
    "                                                                            test_size=0.25, \n",
    "                                                                            random_state=123)"
   ]
  },
  {
   "cell_type": "code",
   "execution_count": 75,
   "metadata": {},
   "outputs": [
    {
     "name": "stdout",
     "output_type": "stream",
     "text": [
      "Размер выборки features_train: (205050, 9)\n",
      "Размер выборки target_train: (205050,)\n",
      "Размер выборки features_valid: (68350, 9)\n",
      "Размер выборки target_valid: (68350,)\n",
      "Размер выборки features_test: (68350, 9)\n",
      "Размер выборки target_test: (68350,)\n"
     ]
    }
   ],
   "source": [
    "print('Размер выборки features_train:', features_train.shape)\n",
    "print('Размер выборки target_train:', target_train.shape)\n",
    "print('Размер выборки features_valid:', features_valid.shape)\n",
    "print('Размер выборки target_valid:', target_valid.shape)\n",
    "print('Размер выборки features_test:', features_test.shape)\n",
    "print('Размер выборки target_test:', target_test.shape)"
   ]
  },
  {
   "cell_type": "code",
   "execution_count": 76,
   "metadata": {},
   "outputs": [
    {
     "data": {
      "text/plain": [
       "StandardScaler()"
      ]
     },
     "execution_count": 76,
     "metadata": {},
     "output_type": "execute_result"
    }
   ],
   "source": [
    "numeric = ['registration_year', 'power', 'kilometer']\n",
    "scaler = StandardScaler()\n",
    "scaler.fit(features_train[numeric])"
   ]
  },
  {
   "cell_type": "code",
   "execution_count": 77,
   "metadata": {},
   "outputs": [
    {
     "name": "stderr",
     "output_type": "stream",
     "text": [
      "/Users/maxim/opt/anaconda3/lib/python3.9/site-packages/pandas/core/frame.py:3678: SettingWithCopyWarning: \n",
      "A value is trying to be set on a copy of a slice from a DataFrame.\n",
      "Try using .loc[row_indexer,col_indexer] = value instead\n",
      "\n",
      "See the caveats in the documentation: https://pandas.pydata.org/pandas-docs/stable/user_guide/indexing.html#returning-a-view-versus-a-copy\n",
      "  self[col] = igetitem(value, i)\n"
     ]
    }
   ],
   "source": [
    "features_train[numeric] = scaler.transform(features_train[numeric])\n",
    "features_valid[numeric] = scaler.transform(features_valid[numeric])\n",
    "features_test[numeric] = scaler.transform(features_test[numeric])"
   ]
  },
  {
   "cell_type": "code",
   "execution_count": 78,
   "metadata": {},
   "outputs": [
    {
     "data": {
      "text/plain": [
       "vehicle_type         float64\n",
       "registration_year    float64\n",
       "gearbox              float64\n",
       "power                float64\n",
       "model                float64\n",
       "kilometer            float64\n",
       "fuel_type            float64\n",
       "brand                float64\n",
       "not_repaired         float64\n",
       "dtype: object"
      ]
     },
     "execution_count": 78,
     "metadata": {},
     "output_type": "execute_result"
    }
   ],
   "source": [
    "features_train.dtypes"
   ]
  },
  {
   "cell_type": "code",
   "execution_count": 79,
   "metadata": {},
   "outputs": [],
   "source": [
    "def LGBM_fit_predict(model_name, features_train, target_train, features_valid,\n",
    "                     target_valid):\n",
    "    \n",
    "    top_rmse = 10000\n",
    "    top_fit_time = 0\n",
    "    top_prediction_time = 0\n",
    "    top_est = 0\n",
    "    top_depth = 0\n",
    "    \n",
    "    for depth in range(5, 16, 1):\n",
    "\n",
    "        for est in range(50, 151, 10):\n",
    "            model_lgbm = LGBMRegressor(max_depth=depth, n_estimators=est, random_state=123)\n",
    "            \n",
    "            start = time.time()\n",
    "            model_lgbm.fit(features_train, target_train)\n",
    "            end_time_fit = time.time() - start\n",
    "            \n",
    "            start = time.time()\n",
    "            predictions = model_lgbm.predict(features_valid)\n",
    "            end_time_predict = time.time() - start\n",
    "            \n",
    "            rmse_value = np.sqrt(mean_squared_error(target_valid, predictions))\n",
    "\n",
    "            if (top_rmse > rmse_value):\n",
    "                top_rmse = rmse_value\n",
    "                top_fit_time = end_time_fit\n",
    "                top_prediction_time = end_time_predict\n",
    "                top_est = est\n",
    "                top_depth = depth\n",
    "                \n",
    "    return {\n",
    "        'Модель': model_name,\n",
    "        'Параметры': {'depth':top_depth, 'n_estimators':top_est},\n",
    "        'Время обучения': top_fit_time,\n",
    "        'Время предсказания': top_prediction_time,\n",
    "        'RMSE': top_rmse\n",
    "    }"
   ]
  },
  {
   "cell_type": "code",
   "execution_count": 80,
   "metadata": {},
   "outputs": [],
   "source": [
    "lgb_result = LGBM_fit_predict('LGBMRegressor', \n",
    "                 features_train, target_train, \n",
    "                 features_valid, target_valid)"
   ]
  },
  {
   "cell_type": "code",
   "execution_count": 81,
   "metadata": {},
   "outputs": [],
   "source": [
    "results.append(lgb_result)"
   ]
  },
  {
   "cell_type": "code",
   "execution_count": 82,
   "metadata": {},
   "outputs": [
    {
     "data": {
      "text/html": [
       "<div>\n",
       "<style scoped>\n",
       "    .dataframe tbody tr th:only-of-type {\n",
       "        vertical-align: middle;\n",
       "    }\n",
       "\n",
       "    .dataframe tbody tr th {\n",
       "        vertical-align: top;\n",
       "    }\n",
       "\n",
       "    .dataframe thead th {\n",
       "        text-align: right;\n",
       "    }\n",
       "</style>\n",
       "<table border=\"1\" class=\"dataframe\">\n",
       "  <thead>\n",
       "    <tr style=\"text-align: right;\">\n",
       "      <th></th>\n",
       "      <th>Модель</th>\n",
       "      <th>Параметры</th>\n",
       "      <th>Время обучения</th>\n",
       "      <th>Время предсказания</th>\n",
       "      <th>RMSE</th>\n",
       "    </tr>\n",
       "  </thead>\n",
       "  <tbody>\n",
       "    <tr>\n",
       "      <th>0</th>\n",
       "      <td>LinearRegression</td>\n",
       "      <td>NaN</td>\n",
       "      <td>2.446442</td>\n",
       "      <td>0.104731</td>\n",
       "      <td>2702.222076</td>\n",
       "    </tr>\n",
       "    <tr>\n",
       "      <th>1</th>\n",
       "      <td>LGBMRegressor</td>\n",
       "      <td>{'depth': 13, 'n_estimators': 150}</td>\n",
       "      <td>0.751824</td>\n",
       "      <td>0.160942</td>\n",
       "      <td>1745.507149</td>\n",
       "    </tr>\n",
       "  </tbody>\n",
       "</table>\n",
       "</div>"
      ],
      "text/plain": [
       "             Модель                           Параметры  Время обучения  \\\n",
       "0  LinearRegression                                 NaN        2.446442   \n",
       "1     LGBMRegressor  {'depth': 13, 'n_estimators': 150}        0.751824   \n",
       "\n",
       "   Время предсказания         RMSE  \n",
       "0            0.104731  2702.222076  \n",
       "1            0.160942  1745.507149  "
      ]
     },
     "execution_count": 82,
     "metadata": {},
     "output_type": "execute_result"
    }
   ],
   "source": [
    "pd.DataFrame(results)"
   ]
  },
  {
   "cell_type": "markdown",
   "metadata": {},
   "source": [
    "LGBMRegressor улучшил показатель RMSE, но время обучения и время предсказания значительно выше."
   ]
  },
  {
   "cell_type": "markdown",
   "metadata": {},
   "source": [
    "### Модель CatBoostRegressor"
   ]
  },
  {
   "cell_type": "markdown",
   "metadata": {},
   "source": [
    "Для обучения модели **CatBoostRegressor** воспользуемся нашими стандартными данными, разобьем их на тренировочную, валидационную и тестовую выборки. Далее обучим модель с нужными параметрами"
   ]
  },
  {
   "cell_type": "code",
   "execution_count": 83,
   "metadata": {},
   "outputs": [],
   "source": [
    "categories = ['vehicle_type', 'gearbox', 'model', 'fuel_type', 'brand', 'not_repaired']\n",
    "df_filtered_ord = df_filtered.copy()\n",
    "encoder = OrdinalEncoder()\n",
    "encoder.fit(df_filtered[categories])\n",
    "df_filtered_ord[categories] = encoder.transform(df_filtered_ord[categories])\n",
    "df_filtered_ord[categories] = df_filtered_ord[categories].astype('str')"
   ]
  },
  {
   "cell_type": "code",
   "execution_count": 84,
   "metadata": {},
   "outputs": [],
   "source": [
    "features_ord = df_filtered_ord.drop('price', axis=1)\n",
    "target_ord = df_filtered_ord['price']\n",
    "features_train, features_valid, target_train, target_valid = train_test_split(features_ord, \n",
    "                                                                              target_ord, \n",
    "                                                                              test_size=0.2, \n",
    "                                                                              random_state=123)\n",
    "features_train, features_test, target_train, target_test = train_test_split(features_train, \n",
    "                                                                            target_train, \n",
    "                                                                            test_size=0.25, \n",
    "                                                                            random_state=123)"
   ]
  },
  {
   "cell_type": "code",
   "execution_count": 85,
   "metadata": {},
   "outputs": [],
   "source": [
    "def CatBoost_fit_predict(model_name, features_train, target_train, features_valid,\n",
    "                     target_valid, categories=None):\n",
    "    \n",
    "    top_rmse = 10000\n",
    "    top_fit_time = 0\n",
    "    top_prediction_time = 0\n",
    "    top_iterations = 0\n",
    "    top_depth = 0\n",
    "    \n",
    "    for depth in range(13, 17, 3):\n",
    "\n",
    "        for iteration in range(150, 251, 50):\n",
    "            \n",
    "            catboost = CatBoostRegressor(depth=depth, iterations=iteration, \n",
    "                                         cat_features=categories, random_state=123)\n",
    "            \n",
    "            start = time.time()\n",
    "            catboost.fit(features_train, target_train)\n",
    "            end_time_fit = time.time() - start\n",
    "            \n",
    "            start = time.time()\n",
    "            predictions = catboost.predict(features_valid)\n",
    "            end_time_predict = time.time() - start\n",
    "            \n",
    "            rmse_value = np.sqrt(mean_squared_error(target_valid, predictions))\n",
    "\n",
    "            if (top_rmse > rmse_value):\n",
    "                top_rmse = rmse_value\n",
    "                top_fit_time = end_time_fit\n",
    "                top_prediction_time = end_time_predict\n",
    "                top_iterations = iteration\n",
    "                top_depth = depth\n",
    "    \n",
    "    return {\n",
    "        'Модель': model_name,\n",
    "        'Параметры': {'depth':top_depth, 'iterations':top_iterations},\n",
    "        'Время обучения': top_fit_time,\n",
    "        'Время предсказания': top_prediction_time,\n",
    "        'RMSE': top_rmse\n",
    "    }"
   ]
  },
  {
   "cell_type": "code",
   "execution_count": 86,
   "metadata": {
    "scrolled": true
   },
   "outputs": [
    {
     "name": "stdout",
     "output_type": "stream",
     "text": [
      "Learning rate set to 0.425679\n",
      "0:\tlearn: 3230.6495766\ttotal: 265ms\tremaining: 39.5s\n",
      "1:\tlearn: 2572.5237937\ttotal: 454ms\tremaining: 33.6s\n",
      "2:\tlearn: 2208.1466051\ttotal: 673ms\tremaining: 33s\n",
      "3:\tlearn: 2039.9842130\ttotal: 870ms\tremaining: 31.7s\n",
      "4:\tlearn: 1933.2030564\ttotal: 1.07s\tremaining: 31s\n",
      "5:\tlearn: 1878.1409485\ttotal: 1.25s\tremaining: 30s\n",
      "6:\tlearn: 1819.5454333\ttotal: 1.44s\tremaining: 29.5s\n",
      "7:\tlearn: 1791.1168795\ttotal: 1.61s\tremaining: 28.7s\n",
      "8:\tlearn: 1757.3785869\ttotal: 1.8s\tremaining: 28.3s\n",
      "9:\tlearn: 1739.2930561\ttotal: 2s\tremaining: 28s\n",
      "10:\tlearn: 1724.0520041\ttotal: 2.19s\tremaining: 27.7s\n",
      "11:\tlearn: 1714.0029899\ttotal: 2.38s\tremaining: 27.3s\n",
      "12:\tlearn: 1707.0434652\ttotal: 2.56s\tremaining: 27s\n",
      "13:\tlearn: 1700.0379464\ttotal: 2.74s\tremaining: 26.6s\n",
      "14:\tlearn: 1692.7935020\ttotal: 2.93s\tremaining: 26.4s\n",
      "15:\tlearn: 1680.5738018\ttotal: 3.11s\tremaining: 26s\n",
      "16:\tlearn: 1674.4089751\ttotal: 3.3s\tremaining: 25.8s\n",
      "17:\tlearn: 1667.9807728\ttotal: 3.47s\tremaining: 25.5s\n",
      "18:\tlearn: 1658.0288408\ttotal: 3.66s\tremaining: 25.2s\n",
      "19:\tlearn: 1649.9504660\ttotal: 3.84s\tremaining: 25s\n",
      "20:\tlearn: 1637.0838698\ttotal: 4.04s\tremaining: 24.8s\n",
      "21:\tlearn: 1625.5229512\ttotal: 4.24s\tremaining: 24.7s\n",
      "22:\tlearn: 1625.5176392\ttotal: 4.26s\tremaining: 23.5s\n",
      "23:\tlearn: 1615.3415927\ttotal: 4.45s\tremaining: 23.4s\n",
      "24:\tlearn: 1605.9333985\ttotal: 4.64s\tremaining: 23.2s\n",
      "25:\tlearn: 1601.8312187\ttotal: 4.84s\tremaining: 23.1s\n",
      "26:\tlearn: 1594.2244926\ttotal: 5.02s\tremaining: 22.9s\n",
      "27:\tlearn: 1589.8059201\ttotal: 5.21s\tremaining: 22.7s\n",
      "28:\tlearn: 1584.6520063\ttotal: 5.39s\tremaining: 22.5s\n",
      "29:\tlearn: 1581.0002070\ttotal: 5.58s\tremaining: 22.3s\n",
      "30:\tlearn: 1576.1241840\ttotal: 5.75s\tremaining: 22.1s\n",
      "31:\tlearn: 1574.3309840\ttotal: 5.93s\tremaining: 21.9s\n",
      "32:\tlearn: 1569.1242865\ttotal: 6.11s\tremaining: 21.6s\n",
      "33:\tlearn: 1563.7212939\ttotal: 6.28s\tremaining: 21.4s\n",
      "34:\tlearn: 1558.5635214\ttotal: 6.46s\tremaining: 21.2s\n",
      "35:\tlearn: 1553.4309645\ttotal: 6.65s\tremaining: 21s\n",
      "36:\tlearn: 1549.1246777\ttotal: 6.82s\tremaining: 20.8s\n",
      "37:\tlearn: 1546.7586280\ttotal: 7.01s\tremaining: 20.6s\n",
      "38:\tlearn: 1544.1355549\ttotal: 7.18s\tremaining: 20.4s\n",
      "39:\tlearn: 1539.7468162\ttotal: 7.39s\tremaining: 20.3s\n",
      "40:\tlearn: 1532.8329885\ttotal: 7.67s\tremaining: 20.4s\n",
      "41:\tlearn: 1530.4295711\ttotal: 7.88s\tremaining: 20.3s\n",
      "42:\tlearn: 1526.0109113\ttotal: 8.11s\tremaining: 20.2s\n",
      "43:\tlearn: 1517.8802734\ttotal: 8.32s\tremaining: 20s\n",
      "44:\tlearn: 1512.5947573\ttotal: 8.49s\tremaining: 19.8s\n",
      "45:\tlearn: 1508.5213290\ttotal: 8.67s\tremaining: 19.6s\n",
      "46:\tlearn: 1507.6474369\ttotal: 8.71s\tremaining: 19.1s\n",
      "47:\tlearn: 1497.7004551\ttotal: 8.91s\tremaining: 18.9s\n",
      "48:\tlearn: 1494.1339872\ttotal: 9.11s\tremaining: 18.8s\n",
      "49:\tlearn: 1490.8423825\ttotal: 9.3s\tremaining: 18.6s\n",
      "50:\tlearn: 1486.0599072\ttotal: 9.48s\tremaining: 18.4s\n",
      "51:\tlearn: 1483.7992735\ttotal: 9.67s\tremaining: 18.2s\n",
      "52:\tlearn: 1479.8859237\ttotal: 9.9s\tremaining: 18.1s\n",
      "53:\tlearn: 1471.7587024\ttotal: 10.1s\tremaining: 18s\n",
      "54:\tlearn: 1468.6959301\ttotal: 10.3s\tremaining: 17.8s\n",
      "55:\tlearn: 1467.8100837\ttotal: 10.5s\tremaining: 17.6s\n",
      "56:\tlearn: 1463.2148766\ttotal: 10.7s\tremaining: 17.5s\n",
      "57:\tlearn: 1460.7941407\ttotal: 10.9s\tremaining: 17.3s\n",
      "58:\tlearn: 1458.7982878\ttotal: 11.1s\tremaining: 17.1s\n",
      "59:\tlearn: 1456.8263881\ttotal: 11.3s\tremaining: 16.9s\n",
      "60:\tlearn: 1449.4359122\ttotal: 11.5s\tremaining: 16.8s\n",
      "61:\tlearn: 1446.1019670\ttotal: 11.7s\tremaining: 16.7s\n",
      "62:\tlearn: 1440.8983724\ttotal: 12s\tremaining: 16.5s\n",
      "63:\tlearn: 1437.6498732\ttotal: 12.2s\tremaining: 16.4s\n",
      "64:\tlearn: 1435.3031583\ttotal: 12.4s\tremaining: 16.3s\n",
      "65:\tlearn: 1432.4514206\ttotal: 12.6s\tremaining: 16.1s\n",
      "66:\tlearn: 1430.0475264\ttotal: 12.9s\tremaining: 15.9s\n",
      "67:\tlearn: 1430.0147893\ttotal: 13.1s\tremaining: 15.8s\n",
      "68:\tlearn: 1425.3464299\ttotal: 13.3s\tremaining: 15.6s\n",
      "69:\tlearn: 1421.9801063\ttotal: 13.5s\tremaining: 15.4s\n",
      "70:\tlearn: 1419.0579971\ttotal: 13.7s\tremaining: 15.2s\n",
      "71:\tlearn: 1414.1851632\ttotal: 13.9s\tremaining: 15s\n",
      "72:\tlearn: 1410.9539019\ttotal: 14.1s\tremaining: 14.9s\n",
      "73:\tlearn: 1409.0318615\ttotal: 14.3s\tremaining: 14.7s\n",
      "74:\tlearn: 1407.2421678\ttotal: 14.5s\tremaining: 14.5s\n",
      "75:\tlearn: 1404.5818489\ttotal: 14.8s\tremaining: 14.4s\n",
      "76:\tlearn: 1402.0065079\ttotal: 15s\tremaining: 14.2s\n",
      "77:\tlearn: 1399.9606415\ttotal: 15.1s\tremaining: 14s\n",
      "78:\tlearn: 1398.4280752\ttotal: 15.3s\tremaining: 13.8s\n",
      "79:\tlearn: 1396.7186542\ttotal: 15.5s\tremaining: 13.5s\n",
      "80:\tlearn: 1393.6317124\ttotal: 15.7s\tremaining: 13.3s\n",
      "81:\tlearn: 1391.4952280\ttotal: 15.8s\tremaining: 13.1s\n",
      "82:\tlearn: 1389.4842891\ttotal: 16s\tremaining: 12.9s\n",
      "83:\tlearn: 1387.0320404\ttotal: 16.2s\tremaining: 12.7s\n",
      "84:\tlearn: 1384.9934574\ttotal: 16.4s\tremaining: 12.5s\n",
      "85:\tlearn: 1382.6797606\ttotal: 16.5s\tremaining: 12.3s\n",
      "86:\tlearn: 1380.5303112\ttotal: 16.7s\tremaining: 12.1s\n",
      "87:\tlearn: 1379.0951522\ttotal: 16.9s\tremaining: 11.9s\n",
      "88:\tlearn: 1379.0264269\ttotal: 17.1s\tremaining: 11.7s\n",
      "89:\tlearn: 1377.5798857\ttotal: 17.3s\tremaining: 11.5s\n",
      "90:\tlearn: 1375.8737579\ttotal: 17.5s\tremaining: 11.3s\n",
      "91:\tlearn: 1370.4244444\ttotal: 17.6s\tremaining: 11.1s\n",
      "92:\tlearn: 1368.3562841\ttotal: 17.8s\tremaining: 10.9s\n",
      "93:\tlearn: 1365.5289356\ttotal: 18s\tremaining: 10.7s\n",
      "94:\tlearn: 1362.9665700\ttotal: 18.2s\tremaining: 10.5s\n",
      "95:\tlearn: 1361.3390810\ttotal: 18.4s\tremaining: 10.3s\n",
      "96:\tlearn: 1358.7497074\ttotal: 18.6s\tremaining: 10.1s\n",
      "97:\tlearn: 1357.1892442\ttotal: 18.8s\tremaining: 9.95s\n",
      "98:\tlearn: 1356.5118536\ttotal: 18.9s\tremaining: 9.76s\n",
      "99:\tlearn: 1355.4575028\ttotal: 19.2s\tremaining: 9.58s\n",
      "100:\tlearn: 1353.0075943\ttotal: 19.4s\tremaining: 9.4s\n",
      "101:\tlearn: 1349.8581832\ttotal: 19.6s\tremaining: 9.21s\n",
      "102:\tlearn: 1348.5036199\ttotal: 19.8s\tremaining: 9.01s\n",
      "103:\tlearn: 1348.1530281\ttotal: 19.9s\tremaining: 8.81s\n",
      "104:\tlearn: 1346.7240060\ttotal: 20.1s\tremaining: 8.62s\n",
      "105:\tlearn: 1345.2438149\ttotal: 20.3s\tremaining: 8.42s\n",
      "106:\tlearn: 1342.7792653\ttotal: 20.5s\tremaining: 8.23s\n",
      "107:\tlearn: 1339.8571457\ttotal: 20.7s\tremaining: 8.03s\n",
      "108:\tlearn: 1337.2999823\ttotal: 20.8s\tremaining: 7.84s\n",
      "109:\tlearn: 1334.6535890\ttotal: 21s\tremaining: 7.64s\n",
      "110:\tlearn: 1332.3426034\ttotal: 21.2s\tremaining: 7.45s\n",
      "111:\tlearn: 1330.6959777\ttotal: 21.4s\tremaining: 7.25s\n",
      "112:\tlearn: 1329.8502821\ttotal: 21.6s\tremaining: 7.06s\n",
      "113:\tlearn: 1327.8021173\ttotal: 21.8s\tremaining: 6.87s\n",
      "114:\tlearn: 1326.1188933\ttotal: 22s\tremaining: 6.68s\n",
      "115:\tlearn: 1324.4288238\ttotal: 22.2s\tremaining: 6.5s\n",
      "116:\tlearn: 1321.6958527\ttotal: 22.4s\tremaining: 6.31s\n",
      "117:\tlearn: 1320.6316140\ttotal: 22.6s\tremaining: 6.12s\n",
      "118:\tlearn: 1320.1771549\ttotal: 22.7s\tremaining: 5.92s\n",
      "119:\tlearn: 1318.8049761\ttotal: 22.9s\tremaining: 5.73s\n",
      "120:\tlearn: 1316.9800727\ttotal: 23.1s\tremaining: 5.54s\n",
      "121:\tlearn: 1315.4802756\ttotal: 23.3s\tremaining: 5.34s\n",
      "122:\tlearn: 1314.2833663\ttotal: 23.4s\tremaining: 5.15s\n",
      "123:\tlearn: 1312.7554147\ttotal: 23.6s\tremaining: 4.95s\n",
      "124:\tlearn: 1311.6498978\ttotal: 23.8s\tremaining: 4.76s\n",
      "125:\tlearn: 1310.0999587\ttotal: 24s\tremaining: 4.57s\n",
      "126:\tlearn: 1308.5968259\ttotal: 24.2s\tremaining: 4.38s\n",
      "127:\tlearn: 1307.4571551\ttotal: 24.4s\tremaining: 4.2s\n",
      "128:\tlearn: 1305.7427659\ttotal: 24.6s\tremaining: 4.01s\n",
      "129:\tlearn: 1304.9751663\ttotal: 24.8s\tremaining: 3.82s\n",
      "130:\tlearn: 1303.4816254\ttotal: 25s\tremaining: 3.63s\n",
      "131:\tlearn: 1302.2917560\ttotal: 25.2s\tremaining: 3.43s\n",
      "132:\tlearn: 1301.8237556\ttotal: 25.4s\tremaining: 3.25s\n",
      "133:\tlearn: 1300.6467192\ttotal: 25.6s\tremaining: 3.06s\n",
      "134:\tlearn: 1298.9581530\ttotal: 25.8s\tremaining: 2.87s\n",
      "135:\tlearn: 1296.6386452\ttotal: 26s\tremaining: 2.67s\n",
      "136:\tlearn: 1295.4291181\ttotal: 26.1s\tremaining: 2.48s\n",
      "137:\tlearn: 1293.3159179\ttotal: 26.3s\tremaining: 2.29s\n",
      "138:\tlearn: 1292.6232812\ttotal: 26.5s\tremaining: 2.1s\n",
      "139:\tlearn: 1290.7815549\ttotal: 26.7s\tremaining: 1.91s\n",
      "140:\tlearn: 1289.9288356\ttotal: 26.9s\tremaining: 1.72s\n",
      "141:\tlearn: 1288.7160163\ttotal: 27.1s\tremaining: 1.52s\n",
      "142:\tlearn: 1288.2485419\ttotal: 27.3s\tremaining: 1.34s\n",
      "143:\tlearn: 1287.1232982\ttotal: 27.5s\tremaining: 1.15s\n",
      "144:\tlearn: 1285.9736474\ttotal: 27.7s\tremaining: 956ms\n",
      "145:\tlearn: 1284.9964971\ttotal: 27.9s\tremaining: 764ms\n",
      "146:\tlearn: 1283.8871791\ttotal: 28.1s\tremaining: 573ms\n",
      "147:\tlearn: 1282.1645932\ttotal: 28.3s\tremaining: 382ms\n",
      "148:\tlearn: 1280.5668255\ttotal: 28.5s\tremaining: 191ms\n",
      "149:\tlearn: 1279.5537547\ttotal: 28.7s\tremaining: 0us\n",
      "Learning rate set to 0.342081\n",
      "0:\tlearn: 3456.0454898\ttotal: 350ms\tremaining: 1m 9s\n",
      "1:\tlearn: 2772.6470684\ttotal: 731ms\tremaining: 1m 12s\n",
      "2:\tlearn: 2368.2650255\ttotal: 1.07s\tremaining: 1m 10s\n",
      "3:\tlearn: 2140.1282351\ttotal: 1.4s\tremaining: 1m 8s\n",
      "4:\tlearn: 1988.7747117\ttotal: 1.73s\tremaining: 1m 7s\n",
      "5:\tlearn: 1905.1516656\ttotal: 2.08s\tremaining: 1m 7s\n",
      "6:\tlearn: 1848.1716382\ttotal: 2.39s\tremaining: 1m 5s\n",
      "7:\tlearn: 1814.2537038\ttotal: 2.77s\tremaining: 1m 6s\n",
      "8:\tlearn: 1782.4275977\ttotal: 3.1s\tremaining: 1m 5s\n",
      "9:\tlearn: 1752.7696056\ttotal: 3.43s\tremaining: 1m 5s\n",
      "10:\tlearn: 1736.3921416\ttotal: 3.74s\tremaining: 1m 4s\n",
      "11:\tlearn: 1722.2206525\ttotal: 4.07s\tremaining: 1m 3s\n",
      "12:\tlearn: 1715.6040736\ttotal: 4.41s\tremaining: 1m 3s\n",
      "13:\tlearn: 1704.5901473\ttotal: 4.8s\tremaining: 1m 3s\n",
      "14:\tlearn: 1692.7591873\ttotal: 5.19s\tremaining: 1m 3s\n",
      "15:\tlearn: 1681.1068987\ttotal: 5.56s\tremaining: 1m 3s\n",
      "16:\tlearn: 1669.6483765\ttotal: 5.88s\tremaining: 1m 3s\n",
      "17:\tlearn: 1661.0365937\ttotal: 6.25s\tremaining: 1m 3s\n",
      "18:\tlearn: 1654.9646629\ttotal: 6.6s\tremaining: 1m 2s\n",
      "19:\tlearn: 1647.7767863\ttotal: 6.97s\tremaining: 1m 2s\n",
      "20:\tlearn: 1635.4953511\ttotal: 7.32s\tremaining: 1m 2s\n",
      "21:\tlearn: 1632.1632845\ttotal: 7.7s\tremaining: 1m 2s\n",
      "22:\tlearn: 1632.1579474\ttotal: 7.72s\tremaining: 59.4s\n",
      "23:\tlearn: 1631.9177068\ttotal: 7.78s\tremaining: 57.1s\n",
      "24:\tlearn: 1628.1735265\ttotal: 8.13s\tremaining: 56.9s\n",
      "25:\tlearn: 1624.0295605\ttotal: 8.5s\tremaining: 56.9s\n",
      "26:\tlearn: 1615.8984572\ttotal: 8.84s\tremaining: 56.6s\n",
      "27:\tlearn: 1611.5812625\ttotal: 9.23s\tremaining: 56.7s\n",
      "28:\tlearn: 1605.2581402\ttotal: 9.56s\tremaining: 56.4s\n",
      "29:\tlearn: 1601.0027712\ttotal: 9.93s\tremaining: 56.2s\n",
      "30:\tlearn: 1596.6532133\ttotal: 10.3s\tremaining: 56s\n",
      "31:\tlearn: 1595.1151972\ttotal: 10.6s\tremaining: 55.8s\n",
      "32:\tlearn: 1580.6060842\ttotal: 11s\tremaining: 55.6s\n",
      "33:\tlearn: 1573.3172126\ttotal: 11.4s\tremaining: 55.5s\n",
      "34:\tlearn: 1565.7151463\ttotal: 11.7s\tremaining: 55.3s\n",
      "35:\tlearn: 1560.4043170\ttotal: 12.1s\tremaining: 55.1s\n",
      "36:\tlearn: 1554.6242034\ttotal: 12.5s\tremaining: 55s\n",
      "37:\tlearn: 1549.2582347\ttotal: 12.9s\tremaining: 54.8s\n",
      "38:\tlearn: 1545.4192405\ttotal: 13.2s\tremaining: 54.6s\n",
      "39:\tlearn: 1537.8519692\ttotal: 13.6s\tremaining: 54.4s\n",
      "40:\tlearn: 1532.4823736\ttotal: 14s\tremaining: 54.3s\n",
      "41:\tlearn: 1527.5384323\ttotal: 14.3s\tremaining: 54s\n",
      "42:\tlearn: 1524.5270528\ttotal: 14.8s\tremaining: 53.9s\n",
      "43:\tlearn: 1519.6120050\ttotal: 15.2s\tremaining: 53.7s\n",
      "44:\tlearn: 1517.1062282\ttotal: 15.5s\tremaining: 53.4s\n",
      "45:\tlearn: 1512.1031719\ttotal: 15.9s\tremaining: 53.1s\n",
      "46:\tlearn: 1508.1678524\ttotal: 16.2s\tremaining: 52.8s\n",
      "47:\tlearn: 1503.8919571\ttotal: 16.6s\tremaining: 52.4s\n",
      "48:\tlearn: 1501.4298710\ttotal: 16.9s\tremaining: 52.2s\n",
      "49:\tlearn: 1498.6354285\ttotal: 17.3s\tremaining: 52s\n",
      "50:\tlearn: 1498.4823785\ttotal: 17.7s\tremaining: 51.7s\n",
      "51:\tlearn: 1494.2992377\ttotal: 18.1s\tremaining: 51.4s\n",
      "52:\tlearn: 1490.9672518\ttotal: 18.4s\tremaining: 51.1s\n",
      "53:\tlearn: 1486.2805490\ttotal: 18.8s\tremaining: 50.8s\n",
      "54:\tlearn: 1483.0579475\ttotal: 19.2s\tremaining: 50.6s\n",
      "55:\tlearn: 1478.1610229\ttotal: 19.5s\tremaining: 50.3s\n",
      "56:\tlearn: 1475.7070774\ttotal: 19.9s\tremaining: 49.9s\n",
      "57:\tlearn: 1472.6675689\ttotal: 20.3s\tremaining: 49.7s\n",
      "58:\tlearn: 1468.7782030\ttotal: 20.7s\tremaining: 49.5s\n",
      "59:\tlearn: 1465.1992640\ttotal: 21.1s\tremaining: 49.1s\n",
      "60:\tlearn: 1460.7771990\ttotal: 21.4s\tremaining: 48.8s\n",
      "61:\tlearn: 1457.0303385\ttotal: 21.8s\tremaining: 48.5s\n",
      "62:\tlearn: 1456.6731395\ttotal: 22.2s\tremaining: 48.3s\n",
      "63:\tlearn: 1454.3804116\ttotal: 22.6s\tremaining: 48s\n",
      "64:\tlearn: 1451.0128482\ttotal: 22.9s\tremaining: 47.6s\n",
      "65:\tlearn: 1448.6654116\ttotal: 23.3s\tremaining: 47.4s\n",
      "66:\tlearn: 1446.0292304\ttotal: 23.7s\tremaining: 47.1s\n",
      "67:\tlearn: 1441.0738521\ttotal: 24.1s\tremaining: 46.8s\n",
      "68:\tlearn: 1438.2762263\ttotal: 24.5s\tremaining: 46.5s\n",
      "69:\tlearn: 1436.9726033\ttotal: 24.9s\tremaining: 46.2s\n",
      "70:\tlearn: 1435.5118641\ttotal: 25.3s\tremaining: 45.9s\n",
      "71:\tlearn: 1433.1930548\ttotal: 25.6s\tremaining: 45.6s\n",
      "72:\tlearn: 1431.3209784\ttotal: 26s\tremaining: 45.3s\n",
      "73:\tlearn: 1429.2730326\ttotal: 26.4s\tremaining: 45s\n",
      "74:\tlearn: 1428.0227089\ttotal: 26.8s\tremaining: 44.6s\n",
      "75:\tlearn: 1427.6111807\ttotal: 27.2s\tremaining: 44.3s\n",
      "76:\tlearn: 1427.1420456\ttotal: 27.5s\tremaining: 44s\n",
      "77:\tlearn: 1425.6602949\ttotal: 27.9s\tremaining: 43.6s\n",
      "78:\tlearn: 1425.1523345\ttotal: 28.3s\tremaining: 43.3s\n",
      "79:\tlearn: 1422.1439240\ttotal: 28.6s\tremaining: 42.9s\n",
      "80:\tlearn: 1419.2432764\ttotal: 29s\tremaining: 42.6s\n",
      "81:\tlearn: 1418.5270529\ttotal: 29.3s\tremaining: 42.2s\n",
      "82:\tlearn: 1416.5107324\ttotal: 29.8s\tremaining: 41.9s\n",
      "83:\tlearn: 1415.0709104\ttotal: 30.2s\tremaining: 41.7s\n",
      "84:\tlearn: 1413.7486968\ttotal: 30.5s\tremaining: 41.3s\n",
      "85:\tlearn: 1411.7434246\ttotal: 30.9s\tremaining: 41s\n",
      "86:\tlearn: 1411.0948490\ttotal: 31.3s\tremaining: 40.7s\n",
      "87:\tlearn: 1409.6326744\ttotal: 31.8s\tremaining: 40.4s\n",
      "88:\tlearn: 1407.1576851\ttotal: 32.2s\tremaining: 40.2s\n",
      "89:\tlearn: 1404.0651187\ttotal: 32.6s\tremaining: 39.8s\n",
      "90:\tlearn: 1403.1482111\ttotal: 33s\tremaining: 39.5s\n",
      "91:\tlearn: 1402.3454740\ttotal: 33.3s\tremaining: 39.1s\n",
      "92:\tlearn: 1398.7806803\ttotal: 33.7s\tremaining: 38.8s\n",
      "93:\tlearn: 1397.8495934\ttotal: 34.1s\tremaining: 38.5s\n",
      "94:\tlearn: 1395.9301799\ttotal: 34.5s\tremaining: 38.2s\n",
      "95:\tlearn: 1394.9561575\ttotal: 35s\tremaining: 37.9s\n",
      "96:\tlearn: 1393.3465407\ttotal: 35.4s\tremaining: 37.6s\n",
      "97:\tlearn: 1392.0260248\ttotal: 35.8s\tremaining: 37.3s\n",
      "98:\tlearn: 1390.3848624\ttotal: 36.2s\tremaining: 37s\n",
      "99:\tlearn: 1389.0660113\ttotal: 36.7s\tremaining: 36.7s\n",
      "100:\tlearn: 1385.6797864\ttotal: 37.1s\tremaining: 36.3s\n",
      "101:\tlearn: 1382.9559618\ttotal: 37.5s\tremaining: 36s\n",
      "102:\tlearn: 1378.7573111\ttotal: 37.9s\tremaining: 35.7s\n",
      "103:\tlearn: 1378.0968689\ttotal: 38.3s\tremaining: 35.4s\n",
      "104:\tlearn: 1375.2798505\ttotal: 38.7s\tremaining: 35s\n",
      "105:\tlearn: 1373.8690748\ttotal: 39.1s\tremaining: 34.7s\n",
      "106:\tlearn: 1370.3365656\ttotal: 39.5s\tremaining: 34.3s\n",
      "107:\tlearn: 1365.9846442\ttotal: 39.8s\tremaining: 33.9s\n",
      "108:\tlearn: 1364.3287844\ttotal: 40.3s\tremaining: 33.6s\n",
      "109:\tlearn: 1362.2698842\ttotal: 40.7s\tremaining: 33.3s\n",
      "110:\tlearn: 1358.6745767\ttotal: 41.1s\tremaining: 32.9s\n",
      "111:\tlearn: 1357.4526581\ttotal: 41.5s\tremaining: 32.6s\n",
      "112:\tlearn: 1354.7283583\ttotal: 41.9s\tremaining: 32.3s\n",
      "113:\tlearn: 1352.9461859\ttotal: 42.4s\tremaining: 32s\n",
      "114:\tlearn: 1351.6775817\ttotal: 42.8s\tremaining: 31.6s\n",
      "115:\tlearn: 1349.9983573\ttotal: 43.2s\tremaining: 31.3s\n",
      "116:\tlearn: 1346.9627302\ttotal: 43.6s\tremaining: 30.9s\n",
      "117:\tlearn: 1346.1403562\ttotal: 44s\tremaining: 30.6s\n",
      "118:\tlearn: 1345.3360434\ttotal: 44.5s\tremaining: 30.3s\n",
      "119:\tlearn: 1344.7929966\ttotal: 44.9s\tremaining: 29.9s\n",
      "120:\tlearn: 1342.6253399\ttotal: 45.3s\tremaining: 29.6s\n",
      "121:\tlearn: 1341.0769624\ttotal: 45.7s\tremaining: 29.2s\n",
      "122:\tlearn: 1339.4672415\ttotal: 46.1s\tremaining: 28.9s\n",
      "123:\tlearn: 1337.4882692\ttotal: 46.5s\tremaining: 28.5s\n",
      "124:\tlearn: 1335.6260883\ttotal: 46.9s\tremaining: 28.1s\n",
      "125:\tlearn: 1334.7582190\ttotal: 47.3s\tremaining: 27.8s\n",
      "126:\tlearn: 1333.2948393\ttotal: 47.7s\tremaining: 27.4s\n",
      "127:\tlearn: 1331.8639427\ttotal: 48.2s\tremaining: 27.1s\n",
      "128:\tlearn: 1331.4952412\ttotal: 48.6s\tremaining: 26.7s\n",
      "129:\tlearn: 1330.7545037\ttotal: 49s\tremaining: 26.4s\n",
      "130:\tlearn: 1330.3132952\ttotal: 49.4s\tremaining: 26s\n",
      "131:\tlearn: 1328.3054041\ttotal: 49.8s\tremaining: 25.7s\n",
      "132:\tlearn: 1326.5350695\ttotal: 50.2s\tremaining: 25.3s\n",
      "133:\tlearn: 1324.2629418\ttotal: 50.6s\tremaining: 24.9s\n",
      "134:\tlearn: 1323.4954975\ttotal: 51s\tremaining: 24.6s\n",
      "135:\tlearn: 1322.8872690\ttotal: 51.4s\tremaining: 24.2s\n",
      "136:\tlearn: 1320.5959047\ttotal: 51.9s\tremaining: 23.9s\n",
      "137:\tlearn: 1320.1612844\ttotal: 52.3s\tremaining: 23.5s\n",
      "138:\tlearn: 1319.5442058\ttotal: 52.7s\tremaining: 23.1s\n",
      "139:\tlearn: 1318.1995086\ttotal: 53.1s\tremaining: 22.8s\n",
      "140:\tlearn: 1316.7865583\ttotal: 53.5s\tremaining: 22.4s\n",
      "141:\tlearn: 1315.0047699\ttotal: 53.9s\tremaining: 22s\n",
      "142:\tlearn: 1313.5415812\ttotal: 54.3s\tremaining: 21.6s\n",
      "143:\tlearn: 1312.6407215\ttotal: 54.7s\tremaining: 21.3s\n",
      "144:\tlearn: 1310.6023665\ttotal: 55.1s\tremaining: 20.9s\n",
      "145:\tlearn: 1310.0718421\ttotal: 55.6s\tremaining: 20.6s\n",
      "146:\tlearn: 1309.4700067\ttotal: 56s\tremaining: 20.2s\n",
      "147:\tlearn: 1308.8384358\ttotal: 56.5s\tremaining: 19.8s\n",
      "148:\tlearn: 1307.3148959\ttotal: 56.9s\tremaining: 19.5s\n",
      "149:\tlearn: 1304.2276132\ttotal: 57.2s\tremaining: 19.1s\n",
      "150:\tlearn: 1300.8035514\ttotal: 57.6s\tremaining: 18.7s\n",
      "151:\tlearn: 1299.6456939\ttotal: 58s\tremaining: 18.3s\n",
      "152:\tlearn: 1298.4433794\ttotal: 58.4s\tremaining: 17.9s\n",
      "153:\tlearn: 1298.3263581\ttotal: 58.8s\tremaining: 17.6s\n",
      "154:\tlearn: 1297.4298709\ttotal: 59.2s\tremaining: 17.2s\n",
      "155:\tlearn: 1296.2157560\ttotal: 59.6s\tremaining: 16.8s\n",
      "156:\tlearn: 1295.3260609\ttotal: 1m\tremaining: 16.4s\n",
      "157:\tlearn: 1293.7128434\ttotal: 1m\tremaining: 16.1s\n",
      "158:\tlearn: 1292.6878283\ttotal: 1m\tremaining: 15.7s\n",
      "159:\tlearn: 1291.9675841\ttotal: 1m 1s\tremaining: 15.3s\n",
      "160:\tlearn: 1290.9236416\ttotal: 1m 1s\tremaining: 14.9s\n",
      "161:\tlearn: 1289.4255552\ttotal: 1m 1s\tremaining: 14.5s\n",
      "162:\tlearn: 1288.4053274\ttotal: 1m 2s\tremaining: 14.2s\n",
      "163:\tlearn: 1287.4663448\ttotal: 1m 2s\tremaining: 13.8s\n",
      "164:\tlearn: 1286.0915832\ttotal: 1m 3s\tremaining: 13.4s\n",
      "165:\tlearn: 1285.1779625\ttotal: 1m 3s\tremaining: 13s\n",
      "166:\tlearn: 1283.7581354\ttotal: 1m 4s\tremaining: 12.6s\n",
      "167:\tlearn: 1282.0829691\ttotal: 1m 4s\tremaining: 12.3s\n",
      "168:\tlearn: 1280.3145923\ttotal: 1m 4s\tremaining: 11.9s\n",
      "169:\tlearn: 1278.9514675\ttotal: 1m 5s\tremaining: 11.5s\n",
      "170:\tlearn: 1277.9380962\ttotal: 1m 5s\tremaining: 11.1s\n",
      "171:\tlearn: 1276.6384229\ttotal: 1m 6s\tremaining: 10.7s\n",
      "172:\tlearn: 1275.6945413\ttotal: 1m 6s\tremaining: 10.4s\n",
      "173:\tlearn: 1274.9217403\ttotal: 1m 6s\tremaining: 9.98s\n",
      "174:\tlearn: 1274.7207488\ttotal: 1m 7s\tremaining: 9.61s\n",
      "175:\tlearn: 1273.2379117\ttotal: 1m 7s\tremaining: 9.22s\n",
      "176:\tlearn: 1272.6624568\ttotal: 1m 8s\tremaining: 8.85s\n",
      "177:\tlearn: 1271.9626536\ttotal: 1m 8s\tremaining: 8.46s\n",
      "178:\tlearn: 1270.9964069\ttotal: 1m 8s\tremaining: 8.09s\n",
      "179:\tlearn: 1269.6049687\ttotal: 1m 9s\tremaining: 7.72s\n",
      "180:\tlearn: 1268.5274130\ttotal: 1m 9s\tremaining: 7.34s\n",
      "181:\tlearn: 1267.6977898\ttotal: 1m 10s\tremaining: 6.96s\n",
      "182:\tlearn: 1267.2181503\ttotal: 1m 10s\tremaining: 6.58s\n",
      "183:\tlearn: 1264.9250281\ttotal: 1m 11s\tremaining: 6.2s\n",
      "184:\tlearn: 1263.5046313\ttotal: 1m 11s\tremaining: 5.82s\n",
      "185:\tlearn: 1262.7350027\ttotal: 1m 12s\tremaining: 5.43s\n",
      "186:\tlearn: 1262.3361919\ttotal: 1m 12s\tremaining: 5.06s\n",
      "187:\tlearn: 1261.4627198\ttotal: 1m 13s\tremaining: 4.67s\n",
      "188:\tlearn: 1260.2532571\ttotal: 1m 13s\tremaining: 4.29s\n",
      "189:\tlearn: 1258.5833985\ttotal: 1m 14s\tremaining: 3.9s\n",
      "190:\tlearn: 1257.3537304\ttotal: 1m 14s\tremaining: 3.51s\n",
      "191:\tlearn: 1256.6934806\ttotal: 1m 15s\tremaining: 3.13s\n",
      "192:\tlearn: 1256.1581833\ttotal: 1m 15s\tremaining: 2.74s\n",
      "193:\tlearn: 1255.8559590\ttotal: 1m 16s\tremaining: 2.35s\n",
      "194:\tlearn: 1254.3042790\ttotal: 1m 16s\tremaining: 1.96s\n",
      "195:\tlearn: 1253.1408981\ttotal: 1m 16s\tremaining: 1.57s\n",
      "196:\tlearn: 1251.2707461\ttotal: 1m 17s\tremaining: 1.18s\n",
      "197:\tlearn: 1250.8464043\ttotal: 1m 17s\tremaining: 787ms\n",
      "198:\tlearn: 1249.7294355\ttotal: 1m 18s\tremaining: 394ms\n",
      "199:\tlearn: 1248.7918087\ttotal: 1m 18s\tremaining: 0us\n",
      "Learning rate set to 0.28872\n",
      "0:\tlearn: 3611.8669676\ttotal: 364ms\tremaining: 1m 30s\n",
      "1:\tlearn: 2967.4477138\ttotal: 751ms\tremaining: 1m 33s\n",
      "2:\tlearn: 2552.0464676\ttotal: 1.12s\tremaining: 1m 31s\n",
      "3:\tlearn: 2295.9254796\ttotal: 1.48s\tremaining: 1m 31s\n",
      "4:\tlearn: 2120.6786549\ttotal: 1.8s\tremaining: 1m 28s\n",
      "5:\tlearn: 2017.7733281\ttotal: 2.15s\tremaining: 1m 27s\n",
      "6:\tlearn: 1927.5018139\ttotal: 2.49s\tremaining: 1m 26s\n",
      "7:\tlearn: 1866.8260003\ttotal: 2.86s\tremaining: 1m 26s\n",
      "8:\tlearn: 1824.2501612\ttotal: 3.24s\tremaining: 1m 26s\n",
      "9:\tlearn: 1792.6272236\ttotal: 3.57s\tremaining: 1m 25s\n",
      "10:\tlearn: 1768.9276776\ttotal: 3.93s\tremaining: 1m 25s\n",
      "11:\tlearn: 1750.6500881\ttotal: 4.26s\tremaining: 1m 24s\n",
      "12:\tlearn: 1733.3966479\ttotal: 4.61s\tremaining: 1m 24s\n",
      "13:\tlearn: 1720.4850784\ttotal: 4.97s\tremaining: 1m 23s\n",
      "14:\tlearn: 1708.5802264\ttotal: 5.34s\tremaining: 1m 23s\n",
      "15:\tlearn: 1700.2899508\ttotal: 5.65s\tremaining: 1m 22s\n",
      "16:\tlearn: 1690.0152270\ttotal: 6.03s\tremaining: 1m 22s\n",
      "17:\tlearn: 1681.4051069\ttotal: 6.37s\tremaining: 1m 22s\n",
      "18:\tlearn: 1671.5768136\ttotal: 6.67s\tremaining: 1m 21s\n",
      "19:\tlearn: 1661.4641194\ttotal: 7.06s\tremaining: 1m 21s\n",
      "20:\tlearn: 1654.2454247\ttotal: 7.46s\tremaining: 1m 21s\n",
      "21:\tlearn: 1648.8909370\ttotal: 7.84s\tremaining: 1m 21s\n",
      "22:\tlearn: 1641.8217980\ttotal: 8.24s\tremaining: 1m 21s\n",
      "23:\tlearn: 1636.4031933\ttotal: 8.61s\tremaining: 1m 21s\n",
      "24:\tlearn: 1629.0344455\ttotal: 8.99s\tremaining: 1m 20s\n",
      "25:\tlearn: 1623.9454171\ttotal: 9.4s\tremaining: 1m 20s\n",
      "26:\tlearn: 1621.9962794\ttotal: 9.78s\tremaining: 1m 20s\n",
      "27:\tlearn: 1614.3644048\ttotal: 10.2s\tremaining: 1m 20s\n",
      "28:\tlearn: 1607.5679285\ttotal: 10.5s\tremaining: 1m 19s\n",
      "29:\tlearn: 1602.0554199\ttotal: 10.8s\tremaining: 1m 19s\n",
      "30:\tlearn: 1594.8876573\ttotal: 11.2s\tremaining: 1m 19s\n",
      "31:\tlearn: 1593.1081910\ttotal: 11.7s\tremaining: 1m 19s\n",
      "32:\tlearn: 1589.1936391\ttotal: 12.1s\tremaining: 1m 19s\n",
      "33:\tlearn: 1583.6209199\ttotal: 12.5s\tremaining: 1m 19s\n",
      "34:\tlearn: 1579.9513607\ttotal: 12.8s\tremaining: 1m 18s\n",
      "35:\tlearn: 1576.0899957\ttotal: 13.2s\tremaining: 1m 18s\n",
      "36:\tlearn: 1570.9684347\ttotal: 13.6s\tremaining: 1m 18s\n",
      "37:\tlearn: 1563.6371380\ttotal: 14s\tremaining: 1m 18s\n",
      "38:\tlearn: 1556.2041548\ttotal: 14.4s\tremaining: 1m 17s\n",
      "39:\tlearn: 1552.7792993\ttotal: 14.8s\tremaining: 1m 17s\n",
      "40:\tlearn: 1548.5495249\ttotal: 15.2s\tremaining: 1m 17s\n",
      "41:\tlearn: 1544.5699542\ttotal: 15.6s\tremaining: 1m 17s\n",
      "42:\tlearn: 1541.5649784\ttotal: 16s\tremaining: 1m 17s\n",
      "43:\tlearn: 1537.3978026\ttotal: 16.5s\tremaining: 1m 17s\n",
      "44:\tlearn: 1535.3150492\ttotal: 16.9s\tremaining: 1m 16s\n",
      "45:\tlearn: 1529.6715352\ttotal: 17.2s\tremaining: 1m 16s\n",
      "46:\tlearn: 1525.3800324\ttotal: 17.6s\tremaining: 1m 16s\n",
      "47:\tlearn: 1520.9475246\ttotal: 18s\tremaining: 1m 15s\n",
      "48:\tlearn: 1519.1364143\ttotal: 18.4s\tremaining: 1m 15s\n",
      "49:\tlearn: 1514.2900780\ttotal: 18.8s\tremaining: 1m 15s\n",
      "50:\tlearn: 1511.7028785\ttotal: 19.1s\tremaining: 1m 14s\n",
      "51:\tlearn: 1506.6166282\ttotal: 19.5s\tremaining: 1m 14s\n",
      "52:\tlearn: 1501.0955495\ttotal: 19.9s\tremaining: 1m 13s\n",
      "53:\tlearn: 1498.8106238\ttotal: 20.3s\tremaining: 1m 13s\n",
      "54:\tlearn: 1495.2563538\ttotal: 20.7s\tremaining: 1m 13s\n",
      "55:\tlearn: 1489.2271621\ttotal: 21.1s\tremaining: 1m 13s\n",
      "56:\tlearn: 1485.3298628\ttotal: 21.5s\tremaining: 1m 12s\n",
      "57:\tlearn: 1483.9988669\ttotal: 21.8s\tremaining: 1m 12s\n",
      "58:\tlearn: 1480.7680891\ttotal: 22.2s\tremaining: 1m 11s\n",
      "59:\tlearn: 1477.2150824\ttotal: 22.6s\tremaining: 1m 11s\n",
      "60:\tlearn: 1475.1553098\ttotal: 23s\tremaining: 1m 11s\n",
      "61:\tlearn: 1472.8374509\ttotal: 23.3s\tremaining: 1m 10s\n",
      "62:\tlearn: 1468.6901736\ttotal: 23.8s\tremaining: 1m 10s\n",
      "63:\tlearn: 1466.3533898\ttotal: 24.2s\tremaining: 1m 10s\n",
      "64:\tlearn: 1465.1497728\ttotal: 24.6s\tremaining: 1m 9s\n",
      "65:\tlearn: 1464.3244720\ttotal: 24.9s\tremaining: 1m 9s\n",
      "66:\tlearn: 1462.0205529\ttotal: 25.3s\tremaining: 1m 9s\n",
      "67:\tlearn: 1459.9282822\ttotal: 25.7s\tremaining: 1m 8s\n",
      "68:\tlearn: 1455.7677308\ttotal: 26.1s\tremaining: 1m 8s\n",
      "69:\tlearn: 1454.4924312\ttotal: 26.5s\tremaining: 1m 8s\n",
      "70:\tlearn: 1451.5128364\ttotal: 26.9s\tremaining: 1m 7s\n",
      "71:\tlearn: 1448.7828273\ttotal: 27.3s\tremaining: 1m 7s\n",
      "72:\tlearn: 1447.2979981\ttotal: 27.7s\tremaining: 1m 7s\n",
      "73:\tlearn: 1446.2981541\ttotal: 28.1s\tremaining: 1m 6s\n",
      "74:\tlearn: 1440.2932732\ttotal: 28.4s\tremaining: 1m 6s\n",
      "75:\tlearn: 1439.5434098\ttotal: 28.8s\tremaining: 1m 5s\n",
      "76:\tlearn: 1436.4792948\ttotal: 29.2s\tremaining: 1m 5s\n",
      "77:\tlearn: 1433.2593282\ttotal: 29.6s\tremaining: 1m 5s\n",
      "78:\tlearn: 1431.8818971\ttotal: 30s\tremaining: 1m 4s\n",
      "79:\tlearn: 1429.5024483\ttotal: 30.4s\tremaining: 1m 4s\n",
      "80:\tlearn: 1428.3191998\ttotal: 30.8s\tremaining: 1m 4s\n",
      "81:\tlearn: 1425.7788247\ttotal: 31.3s\tremaining: 1m 4s\n",
      "82:\tlearn: 1422.8552168\ttotal: 31.7s\tremaining: 1m 3s\n",
      "83:\tlearn: 1421.1092475\ttotal: 32.1s\tremaining: 1m 3s\n",
      "84:\tlearn: 1418.9670868\ttotal: 32.5s\tremaining: 1m 3s\n",
      "85:\tlearn: 1417.1405651\ttotal: 32.9s\tremaining: 1m 2s\n",
      "86:\tlearn: 1415.5454515\ttotal: 33.3s\tremaining: 1m 2s\n",
      "87:\tlearn: 1413.2717243\ttotal: 33.7s\tremaining: 1m 2s\n",
      "88:\tlearn: 1411.0904507\ttotal: 34.1s\tremaining: 1m 1s\n",
      "89:\tlearn: 1408.2662021\ttotal: 34.5s\tremaining: 1m 1s\n",
      "90:\tlearn: 1407.5616509\ttotal: 34.9s\tremaining: 1m\n",
      "91:\tlearn: 1406.8185523\ttotal: 35.3s\tremaining: 1m\n",
      "92:\tlearn: 1404.0793070\ttotal: 35.7s\tremaining: 1m\n",
      "93:\tlearn: 1401.5149118\ttotal: 36.1s\tremaining: 59.9s\n",
      "94:\tlearn: 1399.5491876\ttotal: 36.4s\tremaining: 59.4s\n",
      "95:\tlearn: 1396.6548450\ttotal: 36.9s\tremaining: 59.1s\n",
      "96:\tlearn: 1395.0055101\ttotal: 37.2s\tremaining: 58.7s\n",
      "97:\tlearn: 1392.7339378\ttotal: 37.6s\tremaining: 58.3s\n",
      "98:\tlearn: 1391.0105857\ttotal: 38s\tremaining: 58s\n",
      "99:\tlearn: 1390.7640726\ttotal: 38.4s\tremaining: 57.6s\n",
      "100:\tlearn: 1389.2981531\ttotal: 38.8s\tremaining: 57.3s\n",
      "101:\tlearn: 1387.6534708\ttotal: 39.2s\tremaining: 56.9s\n",
      "102:\tlearn: 1384.7675203\ttotal: 39.7s\tremaining: 56.6s\n",
      "103:\tlearn: 1380.6960918\ttotal: 40s\tremaining: 56.2s\n",
      "104:\tlearn: 1379.9027953\ttotal: 40.4s\tremaining: 55.8s\n",
      "105:\tlearn: 1378.7614001\ttotal: 40.8s\tremaining: 55.5s\n",
      "106:\tlearn: 1375.8668409\ttotal: 41.3s\tremaining: 55.2s\n",
      "107:\tlearn: 1375.1187402\ttotal: 41.6s\tremaining: 54.8s\n",
      "108:\tlearn: 1374.0554504\ttotal: 42s\tremaining: 54.4s\n",
      "109:\tlearn: 1372.7623500\ttotal: 42.4s\tremaining: 54s\n",
      "110:\tlearn: 1371.7603893\ttotal: 42.8s\tremaining: 53.7s\n",
      "111:\tlearn: 1371.3685889\ttotal: 43.2s\tremaining: 53.2s\n",
      "112:\tlearn: 1369.1533152\ttotal: 43.5s\tremaining: 52.8s\n",
      "113:\tlearn: 1368.1486166\ttotal: 43.9s\tremaining: 52.4s\n",
      "114:\tlearn: 1364.8982169\ttotal: 44.3s\tremaining: 52s\n",
      "115:\tlearn: 1363.0195049\ttotal: 44.7s\tremaining: 51.6s\n",
      "116:\tlearn: 1361.1110427\ttotal: 45.1s\tremaining: 51.3s\n",
      "117:\tlearn: 1359.9138757\ttotal: 45.5s\tremaining: 50.9s\n",
      "118:\tlearn: 1358.5461115\ttotal: 45.9s\tremaining: 50.5s\n",
      "119:\tlearn: 1356.1876837\ttotal: 46.4s\tremaining: 50.2s\n",
      "120:\tlearn: 1354.8542280\ttotal: 46.8s\tremaining: 49.9s\n",
      "121:\tlearn: 1352.5225339\ttotal: 47.2s\tremaining: 49.5s\n",
      "122:\tlearn: 1352.1431053\ttotal: 47.6s\tremaining: 49.2s\n",
      "123:\tlearn: 1351.3179342\ttotal: 48.1s\tremaining: 48.8s\n",
      "124:\tlearn: 1349.4564007\ttotal: 48.5s\tremaining: 48.5s\n",
      "125:\tlearn: 1348.0617293\ttotal: 48.9s\tremaining: 48.1s\n",
      "126:\tlearn: 1347.2100807\ttotal: 49.3s\tremaining: 47.7s\n",
      "127:\tlearn: 1346.0981560\ttotal: 49.7s\tremaining: 47.4s\n",
      "128:\tlearn: 1345.2547388\ttotal: 50.1s\tremaining: 47s\n",
      "129:\tlearn: 1344.1024513\ttotal: 50.5s\tremaining: 46.6s\n",
      "130:\tlearn: 1342.2924813\ttotal: 50.9s\tremaining: 46.2s\n",
      "131:\tlearn: 1340.9648773\ttotal: 51.3s\tremaining: 45.9s\n",
      "132:\tlearn: 1340.3425669\ttotal: 51.8s\tremaining: 45.5s\n",
      "133:\tlearn: 1338.7074544\ttotal: 52.2s\tremaining: 45.1s\n",
      "134:\tlearn: 1337.3094296\ttotal: 52.6s\tremaining: 44.8s\n",
      "135:\tlearn: 1335.6473315\ttotal: 52.9s\tremaining: 44.4s\n",
      "136:\tlearn: 1333.4979789\ttotal: 53.3s\tremaining: 44s\n",
      "137:\tlearn: 1332.8192003\ttotal: 53.7s\tremaining: 43.6s\n",
      "138:\tlearn: 1331.8336156\ttotal: 54.2s\tremaining: 43.2s\n",
      "139:\tlearn: 1329.5571050\ttotal: 54.6s\tremaining: 42.9s\n",
      "140:\tlearn: 1327.3055722\ttotal: 54.9s\tremaining: 42.5s\n",
      "141:\tlearn: 1326.4968509\ttotal: 55.3s\tremaining: 42.1s\n",
      "142:\tlearn: 1323.5648620\ttotal: 55.7s\tremaining: 41.7s\n",
      "143:\tlearn: 1322.1184853\ttotal: 56.1s\tremaining: 41.3s\n",
      "144:\tlearn: 1319.8087916\ttotal: 56.5s\tremaining: 40.9s\n",
      "145:\tlearn: 1319.4016768\ttotal: 56.9s\tremaining: 40.6s\n",
      "146:\tlearn: 1318.5289225\ttotal: 57.4s\tremaining: 40.2s\n",
      "147:\tlearn: 1317.9361123\ttotal: 57.8s\tremaining: 39.8s\n",
      "148:\tlearn: 1317.8807061\ttotal: 58.2s\tremaining: 39.5s\n",
      "149:\tlearn: 1316.5347064\ttotal: 58.6s\tremaining: 39.1s\n",
      "150:\tlearn: 1315.7843838\ttotal: 59.1s\tremaining: 38.7s\n",
      "151:\tlearn: 1314.5031971\ttotal: 59.5s\tremaining: 38.3s\n",
      "152:\tlearn: 1313.0160498\ttotal: 59.9s\tremaining: 38s\n",
      "153:\tlearn: 1312.2950250\ttotal: 1m\tremaining: 37.6s\n",
      "154:\tlearn: 1310.5425429\ttotal: 1m\tremaining: 37.2s\n",
      "155:\tlearn: 1308.3777494\ttotal: 1m 1s\tremaining: 36.8s\n",
      "156:\tlearn: 1307.6898189\ttotal: 1m 1s\tremaining: 36.5s\n",
      "157:\tlearn: 1306.2314565\ttotal: 1m 1s\tremaining: 36.1s\n",
      "158:\tlearn: 1304.9392264\ttotal: 1m 2s\tremaining: 35.7s\n",
      "159:\tlearn: 1304.1186093\ttotal: 1m 2s\tremaining: 35.3s\n",
      "160:\tlearn: 1303.1456918\ttotal: 1m 3s\tremaining: 34.9s\n",
      "161:\tlearn: 1302.4631856\ttotal: 1m 3s\tremaining: 34.5s\n",
      "162:\tlearn: 1301.4670332\ttotal: 1m 4s\tremaining: 34.2s\n",
      "163:\tlearn: 1300.2758595\ttotal: 1m 4s\tremaining: 33.8s\n",
      "164:\tlearn: 1299.7726166\ttotal: 1m 4s\tremaining: 33.4s\n",
      "165:\tlearn: 1299.3810246\ttotal: 1m 5s\tremaining: 33s\n",
      "166:\tlearn: 1297.8598777\ttotal: 1m 5s\tremaining: 32.6s\n",
      "167:\tlearn: 1297.7784685\ttotal: 1m 6s\tremaining: 32.2s\n",
      "168:\tlearn: 1297.1617793\ttotal: 1m 6s\tremaining: 31.8s\n",
      "169:\tlearn: 1296.1701541\ttotal: 1m 6s\tremaining: 31.5s\n",
      "170:\tlearn: 1294.5624657\ttotal: 1m 7s\tremaining: 31.1s\n",
      "171:\tlearn: 1293.5860086\ttotal: 1m 7s\tremaining: 30.7s\n",
      "172:\tlearn: 1292.4147076\ttotal: 1m 8s\tremaining: 30.3s\n",
      "173:\tlearn: 1292.2842798\ttotal: 1m 8s\tremaining: 29.9s\n",
      "174:\tlearn: 1291.0487323\ttotal: 1m 8s\tremaining: 29.5s\n",
      "175:\tlearn: 1290.3691716\ttotal: 1m 9s\tremaining: 29.1s\n",
      "176:\tlearn: 1289.7704833\ttotal: 1m 9s\tremaining: 28.8s\n",
      "177:\tlearn: 1289.2288657\ttotal: 1m 10s\tremaining: 28.4s\n",
      "178:\tlearn: 1286.4055486\ttotal: 1m 10s\tremaining: 28s\n",
      "179:\tlearn: 1286.1479567\ttotal: 1m 10s\tremaining: 27.6s\n",
      "180:\tlearn: 1285.8096189\ttotal: 1m 11s\tremaining: 27.2s\n",
      "181:\tlearn: 1285.2833283\ttotal: 1m 11s\tremaining: 26.8s\n",
      "182:\tlearn: 1282.8785176\ttotal: 1m 12s\tremaining: 26.4s\n",
      "183:\tlearn: 1281.5046445\ttotal: 1m 12s\tremaining: 26s\n",
      "184:\tlearn: 1280.0872052\ttotal: 1m 12s\tremaining: 25.6s\n",
      "185:\tlearn: 1279.6197190\ttotal: 1m 13s\tremaining: 25.2s\n",
      "186:\tlearn: 1279.2614337\ttotal: 1m 13s\tremaining: 24.9s\n",
      "187:\tlearn: 1278.6274850\ttotal: 1m 14s\tremaining: 24.5s\n",
      "188:\tlearn: 1278.1235445\ttotal: 1m 14s\tremaining: 24.1s\n",
      "189:\tlearn: 1277.4649297\ttotal: 1m 15s\tremaining: 23.7s\n",
      "190:\tlearn: 1276.5051019\ttotal: 1m 15s\tremaining: 23.3s\n",
      "191:\tlearn: 1276.0914260\ttotal: 1m 15s\tremaining: 22.9s\n",
      "192:\tlearn: 1275.3571585\ttotal: 1m 16s\tremaining: 22.6s\n",
      "193:\tlearn: 1274.1143386\ttotal: 1m 16s\tremaining: 22.2s\n",
      "194:\tlearn: 1272.8129604\ttotal: 1m 17s\tremaining: 21.8s\n",
      "195:\tlearn: 1272.4167758\ttotal: 1m 17s\tremaining: 21.4s\n",
      "196:\tlearn: 1270.3684978\ttotal: 1m 18s\tremaining: 21s\n",
      "197:\tlearn: 1269.3482148\ttotal: 1m 18s\tremaining: 20.6s\n",
      "198:\tlearn: 1268.7956791\ttotal: 1m 18s\tremaining: 20.2s\n",
      "199:\tlearn: 1267.9186141\ttotal: 1m 19s\tremaining: 19.8s\n",
      "200:\tlearn: 1267.6681284\ttotal: 1m 19s\tremaining: 19.4s\n",
      "201:\tlearn: 1266.4194775\ttotal: 1m 20s\tremaining: 19s\n",
      "202:\tlearn: 1265.7805567\ttotal: 1m 20s\tremaining: 18.6s\n",
      "203:\tlearn: 1264.8203995\ttotal: 1m 20s\tremaining: 18.2s\n",
      "204:\tlearn: 1263.4510029\ttotal: 1m 21s\tremaining: 17.9s\n",
      "205:\tlearn: 1262.3717976\ttotal: 1m 21s\tremaining: 17.5s\n",
      "206:\tlearn: 1262.1059234\ttotal: 1m 22s\tremaining: 17.1s\n",
      "207:\tlearn: 1261.6446111\ttotal: 1m 22s\tremaining: 16.7s\n",
      "208:\tlearn: 1260.6579227\ttotal: 1m 23s\tremaining: 16.3s\n",
      "209:\tlearn: 1260.1864689\ttotal: 1m 23s\tremaining: 15.9s\n",
      "210:\tlearn: 1258.5595924\ttotal: 1m 23s\tremaining: 15.5s\n",
      "211:\tlearn: 1258.3317842\ttotal: 1m 24s\tremaining: 15.1s\n",
      "212:\tlearn: 1257.5606706\ttotal: 1m 24s\tremaining: 14.7s\n",
      "213:\tlearn: 1256.6904097\ttotal: 1m 25s\tremaining: 14.3s\n",
      "214:\tlearn: 1255.8594022\ttotal: 1m 25s\tremaining: 13.9s\n",
      "215:\tlearn: 1255.7819448\ttotal: 1m 25s\tremaining: 13.5s\n",
      "216:\tlearn: 1255.1501367\ttotal: 1m 26s\tremaining: 13.1s\n",
      "217:\tlearn: 1253.9193633\ttotal: 1m 26s\tremaining: 12.7s\n",
      "218:\tlearn: 1253.3281948\ttotal: 1m 27s\tremaining: 12.3s\n",
      "219:\tlearn: 1252.2392124\ttotal: 1m 27s\tremaining: 11.9s\n",
      "220:\tlearn: 1250.9383027\ttotal: 1m 27s\tremaining: 11.5s\n",
      "221:\tlearn: 1248.6270940\ttotal: 1m 28s\tremaining: 11.1s\n",
      "222:\tlearn: 1248.3657105\ttotal: 1m 28s\tremaining: 10.7s\n",
      "223:\tlearn: 1247.8709446\ttotal: 1m 29s\tremaining: 10.3s\n",
      "224:\tlearn: 1247.2985517\ttotal: 1m 29s\tremaining: 9.95s\n",
      "225:\tlearn: 1247.0712395\ttotal: 1m 30s\tremaining: 9.56s\n",
      "226:\tlearn: 1246.2137252\ttotal: 1m 30s\tremaining: 9.16s\n",
      "227:\tlearn: 1245.8799381\ttotal: 1m 30s\tremaining: 8.77s\n",
      "228:\tlearn: 1245.4724455\ttotal: 1m 31s\tremaining: 8.37s\n",
      "229:\tlearn: 1243.6775621\ttotal: 1m 31s\tremaining: 7.97s\n",
      "230:\tlearn: 1243.2374048\ttotal: 1m 32s\tremaining: 7.58s\n",
      "231:\tlearn: 1242.4798937\ttotal: 1m 32s\tremaining: 7.18s\n",
      "232:\tlearn: 1241.3073840\ttotal: 1m 32s\tremaining: 6.78s\n",
      "233:\tlearn: 1240.7116805\ttotal: 1m 33s\tremaining: 6.38s\n",
      "234:\tlearn: 1240.5583548\ttotal: 1m 33s\tremaining: 5.98s\n",
      "235:\tlearn: 1239.6222571\ttotal: 1m 34s\tremaining: 5.59s\n",
      "236:\tlearn: 1239.5626688\ttotal: 1m 34s\tremaining: 5.19s\n",
      "237:\tlearn: 1239.0339607\ttotal: 1m 35s\tremaining: 4.79s\n",
      "238:\tlearn: 1237.7909907\ttotal: 1m 35s\tremaining: 4.39s\n",
      "239:\tlearn: 1237.0364411\ttotal: 1m 35s\tremaining: 3.99s\n",
      "240:\tlearn: 1236.4014077\ttotal: 1m 36s\tremaining: 3.59s\n",
      "241:\tlearn: 1235.6106717\ttotal: 1m 36s\tremaining: 3.2s\n",
      "242:\tlearn: 1235.2962150\ttotal: 1m 37s\tremaining: 2.8s\n",
      "243:\tlearn: 1235.0688599\ttotal: 1m 37s\tremaining: 2.4s\n",
      "244:\tlearn: 1234.5411960\ttotal: 1m 37s\tremaining: 2s\n",
      "245:\tlearn: 1234.2175584\ttotal: 1m 38s\tremaining: 1.6s\n",
      "246:\tlearn: 1233.5781284\ttotal: 1m 38s\tremaining: 1.2s\n",
      "247:\tlearn: 1233.2258689\ttotal: 1m 39s\tremaining: 800ms\n",
      "248:\tlearn: 1232.2051423\ttotal: 1m 39s\tremaining: 400ms\n",
      "249:\tlearn: 1230.7329678\ttotal: 1m 40s\tremaining: 0us\n",
      "Learning rate set to 0.425679\n",
      "0:\tlearn: 3210.7189771\ttotal: 1.46s\tremaining: 3m 37s\n",
      "1:\tlearn: 2546.1866120\ttotal: 2.72s\tremaining: 3m 21s\n",
      "2:\tlearn: 2175.8337691\ttotal: 3.97s\tremaining: 3m 14s\n",
      "3:\tlearn: 2005.5254017\ttotal: 5.22s\tremaining: 3m 10s\n",
      "4:\tlearn: 1891.9219956\ttotal: 6.44s\tremaining: 3m 6s\n",
      "5:\tlearn: 1794.0674991\ttotal: 7.67s\tremaining: 3m 4s\n",
      "6:\tlearn: 1735.9422272\ttotal: 8.86s\tremaining: 3m\n",
      "7:\tlearn: 1703.6768114\ttotal: 10s\tremaining: 2m 58s\n",
      "8:\tlearn: 1675.7130444\ttotal: 11.2s\tremaining: 2m 55s\n",
      "9:\tlearn: 1657.2174950\ttotal: 12.4s\tremaining: 2m 53s\n",
      "10:\tlearn: 1638.3191787\ttotal: 13.5s\tremaining: 2m 50s\n",
      "11:\tlearn: 1620.9770930\ttotal: 14.6s\tremaining: 2m 48s\n",
      "12:\tlearn: 1609.1080821\ttotal: 15.7s\tremaining: 2m 45s\n",
      "13:\tlearn: 1586.8645835\ttotal: 16.8s\tremaining: 2m 43s\n",
      "14:\tlearn: 1572.3717882\ttotal: 17.9s\tremaining: 2m 41s\n",
      "15:\tlearn: 1562.9509248\ttotal: 19s\tremaining: 2m 39s\n",
      "16:\tlearn: 1548.1406430\ttotal: 20.1s\tremaining: 2m 37s\n",
      "17:\tlearn: 1539.0922425\ttotal: 21.2s\tremaining: 2m 35s\n",
      "18:\tlearn: 1532.6309267\ttotal: 22.2s\tremaining: 2m 33s\n",
      "19:\tlearn: 1527.8612096\ttotal: 23.3s\tremaining: 2m 31s\n",
      "20:\tlearn: 1521.0435422\ttotal: 24.3s\tremaining: 2m 29s\n",
      "21:\tlearn: 1512.5094161\ttotal: 25.3s\tremaining: 2m 27s\n",
      "22:\tlearn: 1512.5082931\ttotal: 25.3s\tremaining: 2m 19s\n",
      "23:\tlearn: 1500.8285855\ttotal: 26.3s\tremaining: 2m 18s\n",
      "24:\tlearn: 1492.9352261\ttotal: 27.3s\tremaining: 2m 16s\n",
      "25:\tlearn: 1485.8890819\ttotal: 28.3s\tremaining: 2m 14s\n",
      "26:\tlearn: 1475.5426400\ttotal: 29.3s\tremaining: 2m 13s\n",
      "27:\tlearn: 1462.4802511\ttotal: 30.3s\tremaining: 2m 11s\n",
      "28:\tlearn: 1452.2190287\ttotal: 31.3s\tremaining: 2m 10s\n",
      "29:\tlearn: 1446.2971608\ttotal: 32.2s\tremaining: 2m 8s\n",
      "30:\tlearn: 1432.0337890\ttotal: 33.2s\tremaining: 2m 7s\n",
      "31:\tlearn: 1425.5196564\ttotal: 34.4s\tremaining: 2m 6s\n",
      "32:\tlearn: 1421.3159407\ttotal: 35.4s\tremaining: 2m 5s\n",
      "33:\tlearn: 1412.8505666\ttotal: 36.4s\tremaining: 2m 4s\n",
      "34:\tlearn: 1404.3675156\ttotal: 37.3s\tremaining: 2m 2s\n",
      "35:\tlearn: 1401.6866612\ttotal: 38.3s\tremaining: 2m 1s\n",
      "36:\tlearn: 1392.8368103\ttotal: 39.4s\tremaining: 2m\n",
      "37:\tlearn: 1388.0474175\ttotal: 40.4s\tremaining: 1m 59s\n",
      "38:\tlearn: 1380.5891010\ttotal: 41.4s\tremaining: 1m 57s\n",
      "39:\tlearn: 1376.5660732\ttotal: 42.3s\tremaining: 1m 56s\n",
      "40:\tlearn: 1371.7889737\ttotal: 43.3s\tremaining: 1m 55s\n",
      "41:\tlearn: 1367.6623604\ttotal: 44.3s\tremaining: 1m 53s\n",
      "42:\tlearn: 1363.4029535\ttotal: 45.3s\tremaining: 1m 52s\n",
      "43:\tlearn: 1357.9813273\ttotal: 46.3s\tremaining: 1m 51s\n",
      "44:\tlearn: 1352.5472710\ttotal: 47.3s\tremaining: 1m 50s\n",
      "45:\tlearn: 1348.9397763\ttotal: 48.2s\tremaining: 1m 49s\n",
      "46:\tlearn: 1343.2426067\ttotal: 49.2s\tremaining: 1m 47s\n",
      "47:\tlearn: 1339.1527730\ttotal: 50.2s\tremaining: 1m 46s\n",
      "48:\tlearn: 1333.4625165\ttotal: 51.1s\tremaining: 1m 45s\n",
      "49:\tlearn: 1328.4903356\ttotal: 52.1s\tremaining: 1m 44s\n",
      "50:\tlearn: 1324.4235176\ttotal: 53.1s\tremaining: 1m 42s\n",
      "51:\tlearn: 1320.2623126\ttotal: 54s\tremaining: 1m 41s\n",
      "52:\tlearn: 1316.0876836\ttotal: 55s\tremaining: 1m 40s\n",
      "53:\tlearn: 1313.5632681\ttotal: 56s\tremaining: 1m 39s\n",
      "54:\tlearn: 1309.8228564\ttotal: 57s\tremaining: 1m 38s\n",
      "55:\tlearn: 1306.1337415\ttotal: 57.9s\tremaining: 1m 37s\n",
      "56:\tlearn: 1305.8053195\ttotal: 58.9s\tremaining: 1m 36s\n",
      "57:\tlearn: 1300.3090836\ttotal: 59.9s\tremaining: 1m 34s\n",
      "58:\tlearn: 1297.3796699\ttotal: 1m\tremaining: 1m 33s\n",
      "59:\tlearn: 1295.1924748\ttotal: 1m 1s\tremaining: 1m 32s\n",
      "60:\tlearn: 1293.5921955\ttotal: 1m 2s\tremaining: 1m 31s\n",
      "61:\tlearn: 1288.1486505\ttotal: 1m 3s\tremaining: 1m 30s\n",
      "62:\tlearn: 1284.6296985\ttotal: 1m 4s\tremaining: 1m 29s\n",
      "63:\tlearn: 1281.0360896\ttotal: 1m 5s\tremaining: 1m 28s\n",
      "64:\tlearn: 1280.2970212\ttotal: 1m 5s\tremaining: 1m 26s\n",
      "65:\tlearn: 1278.4833943\ttotal: 1m 6s\tremaining: 1m 25s\n",
      "66:\tlearn: 1274.6243344\ttotal: 1m 8s\tremaining: 1m 24s\n",
      "67:\tlearn: 1270.9413871\ttotal: 1m 9s\tremaining: 1m 23s\n",
      "68:\tlearn: 1269.1112142\ttotal: 1m 9s\tremaining: 1m 22s\n",
      "69:\tlearn: 1267.5966139\ttotal: 1m 10s\tremaining: 1m 21s\n",
      "70:\tlearn: 1265.0506212\ttotal: 1m 11s\tremaining: 1m 20s\n",
      "71:\tlearn: 1260.4739569\ttotal: 1m 12s\tremaining: 1m 18s\n",
      "72:\tlearn: 1257.0246499\ttotal: 1m 13s\tremaining: 1m 17s\n",
      "73:\tlearn: 1254.9735572\ttotal: 1m 14s\tremaining: 1m 16s\n",
      "74:\tlearn: 1254.8324236\ttotal: 1m 15s\tremaining: 1m 15s\n",
      "75:\tlearn: 1252.1886448\ttotal: 1m 16s\tremaining: 1m 14s\n",
      "76:\tlearn: 1248.0594707\ttotal: 1m 17s\tremaining: 1m 13s\n",
      "77:\tlearn: 1246.2445021\ttotal: 1m 18s\tremaining: 1m 12s\n",
      "78:\tlearn: 1243.8151106\ttotal: 1m 19s\tremaining: 1m 11s\n",
      "79:\tlearn: 1240.4062041\ttotal: 1m 20s\tremaining: 1m 10s\n",
      "80:\tlearn: 1238.5128011\ttotal: 1m 21s\tremaining: 1m 9s\n",
      "81:\tlearn: 1237.8197441\ttotal: 1m 22s\tremaining: 1m 8s\n",
      "82:\tlearn: 1235.0681626\ttotal: 1m 23s\tremaining: 1m 7s\n",
      "83:\tlearn: 1231.7931734\ttotal: 1m 24s\tremaining: 1m 6s\n",
      "84:\tlearn: 1231.2061421\ttotal: 1m 25s\tremaining: 1m 5s\n",
      "85:\tlearn: 1229.3895911\ttotal: 1m 26s\tremaining: 1m 4s\n",
      "86:\tlearn: 1227.3150026\ttotal: 1m 27s\tremaining: 1m 3s\n",
      "87:\tlearn: 1225.5296262\ttotal: 1m 28s\tremaining: 1m 2s\n",
      "88:\tlearn: 1225.1032128\ttotal: 1m 29s\tremaining: 1m 1s\n",
      "89:\tlearn: 1223.6732043\ttotal: 1m 30s\tremaining: 1m\n",
      "90:\tlearn: 1222.3715735\ttotal: 1m 31s\tremaining: 59.3s\n",
      "91:\tlearn: 1221.0723382\ttotal: 1m 32s\tremaining: 58.3s\n",
      "92:\tlearn: 1219.0958203\ttotal: 1m 33s\tremaining: 57.3s\n",
      "93:\tlearn: 1215.4962784\ttotal: 1m 34s\tremaining: 56.3s\n",
      "94:\tlearn: 1214.8407455\ttotal: 1m 35s\tremaining: 55.3s\n",
      "95:\tlearn: 1213.8184665\ttotal: 1m 36s\tremaining: 54.3s\n",
      "96:\tlearn: 1209.1086317\ttotal: 1m 37s\tremaining: 53.3s\n",
      "97:\tlearn: 1203.8565505\ttotal: 1m 38s\tremaining: 52.3s\n",
      "98:\tlearn: 1201.8999506\ttotal: 1m 39s\tremaining: 51.3s\n",
      "99:\tlearn: 1200.1784615\ttotal: 1m 40s\tremaining: 50.3s\n",
      "100:\tlearn: 1196.0543382\ttotal: 1m 41s\tremaining: 49.3s\n",
      "101:\tlearn: 1194.6963011\ttotal: 1m 42s\tremaining: 48.3s\n",
      "102:\tlearn: 1192.1089977\ttotal: 1m 43s\tremaining: 47.3s\n",
      "103:\tlearn: 1190.1937694\ttotal: 1m 44s\tremaining: 46.3s\n",
      "104:\tlearn: 1187.7657149\ttotal: 1m 45s\tremaining: 45.3s\n",
      "105:\tlearn: 1185.7038050\ttotal: 1m 46s\tremaining: 44.3s\n",
      "106:\tlearn: 1183.7428155\ttotal: 1m 47s\tremaining: 43.3s\n",
      "107:\tlearn: 1180.8368133\ttotal: 1m 48s\tremaining: 42.3s\n",
      "108:\tlearn: 1180.7465101\ttotal: 1m 48s\tremaining: 41s\n",
      "109:\tlearn: 1179.1603440\ttotal: 1m 50s\tremaining: 40s\n",
      "110:\tlearn: 1177.7835437\ttotal: 1m 51s\tremaining: 39s\n",
      "111:\tlearn: 1175.6050055\ttotal: 1m 52s\tremaining: 38s\n",
      "112:\tlearn: 1174.0483205\ttotal: 1m 53s\tremaining: 37s\n",
      "113:\tlearn: 1172.2636645\ttotal: 1m 54s\tremaining: 36s\n",
      "114:\tlearn: 1170.6332981\ttotal: 1m 55s\tremaining: 35s\n",
      "115:\tlearn: 1169.1797746\ttotal: 1m 56s\tremaining: 34s\n",
      "116:\tlearn: 1167.1194387\ttotal: 1m 57s\tremaining: 33s\n",
      "117:\tlearn: 1164.4024161\ttotal: 1m 58s\tremaining: 32s\n",
      "118:\tlearn: 1163.5462473\ttotal: 1m 59s\tremaining: 31.1s\n",
      "119:\tlearn: 1162.2282541\ttotal: 2m\tremaining: 30.1s\n",
      "120:\tlearn: 1160.3001193\ttotal: 2m 1s\tremaining: 29.1s\n",
      "121:\tlearn: 1159.6503696\ttotal: 2m 2s\tremaining: 28.1s\n",
      "122:\tlearn: 1158.4779876\ttotal: 2m 3s\tremaining: 27.1s\n",
      "123:\tlearn: 1157.4262058\ttotal: 2m 4s\tremaining: 26.1s\n",
      "124:\tlearn: 1156.8025090\ttotal: 2m 5s\tremaining: 25.1s\n",
      "125:\tlearn: 1155.7218104\ttotal: 2m 6s\tremaining: 24.1s\n",
      "126:\tlearn: 1153.2982792\ttotal: 2m 7s\tremaining: 23.2s\n",
      "127:\tlearn: 1150.1648321\ttotal: 2m 8s\tremaining: 22.2s\n",
      "128:\tlearn: 1148.4300536\ttotal: 2m 10s\tremaining: 21.2s\n",
      "129:\tlearn: 1147.2403529\ttotal: 2m 11s\tremaining: 20.2s\n",
      "130:\tlearn: 1145.9710279\ttotal: 2m 12s\tremaining: 19.2s\n",
      "131:\tlearn: 1143.5930597\ttotal: 2m 13s\tremaining: 18.2s\n",
      "132:\tlearn: 1142.6123815\ttotal: 2m 14s\tremaining: 17.2s\n",
      "133:\tlearn: 1141.4157049\ttotal: 2m 15s\tremaining: 16.2s\n",
      "134:\tlearn: 1139.4314267\ttotal: 2m 16s\tremaining: 15.2s\n",
      "135:\tlearn: 1137.2128206\ttotal: 2m 17s\tremaining: 14.2s\n",
      "136:\tlearn: 1136.0169924\ttotal: 2m 18s\tremaining: 13.2s\n",
      "137:\tlearn: 1134.5865848\ttotal: 2m 20s\tremaining: 12.2s\n",
      "138:\tlearn: 1132.5181234\ttotal: 2m 21s\tremaining: 11.2s\n",
      "139:\tlearn: 1131.5701698\ttotal: 2m 22s\tremaining: 10.2s\n",
      "140:\tlearn: 1130.9215632\ttotal: 2m 23s\tremaining: 9.16s\n",
      "141:\tlearn: 1129.4001881\ttotal: 2m 24s\tremaining: 8.15s\n",
      "142:\tlearn: 1128.7054066\ttotal: 2m 25s\tremaining: 7.14s\n",
      "143:\tlearn: 1128.6933786\ttotal: 2m 25s\tremaining: 6.08s\n",
      "144:\tlearn: 1127.3684874\ttotal: 2m 27s\tremaining: 5.07s\n",
      "145:\tlearn: 1125.2498041\ttotal: 2m 28s\tremaining: 4.06s\n",
      "146:\tlearn: 1124.5650322\ttotal: 2m 29s\tremaining: 3.05s\n",
      "147:\tlearn: 1123.4908297\ttotal: 2m 30s\tremaining: 2.04s\n",
      "148:\tlearn: 1122.4273915\ttotal: 2m 31s\tremaining: 1.02s\n",
      "149:\tlearn: 1121.4744878\ttotal: 2m 33s\tremaining: 0us\n",
      "Learning rate set to 0.342081\n",
      "0:\tlearn: 3429.0482686\ttotal: 1.58s\tremaining: 5m 14s\n",
      "1:\tlearn: 2719.4316924\ttotal: 3s\tremaining: 4m 56s\n",
      "2:\tlearn: 2309.6425720\ttotal: 4.63s\tremaining: 5m 3s\n",
      "3:\tlearn: 2071.9194852\ttotal: 6.2s\tremaining: 5m 3s\n",
      "4:\tlearn: 1923.0370054\ttotal: 7.77s\tremaining: 5m 3s\n",
      "5:\tlearn: 1838.0093144\ttotal: 9.25s\tremaining: 4m 59s\n",
      "6:\tlearn: 1774.1412521\ttotal: 10.8s\tremaining: 4m 58s\n",
      "7:\tlearn: 1727.2927069\ttotal: 12.5s\tremaining: 4m 59s\n",
      "8:\tlearn: 1690.8846488\ttotal: 14.1s\tremaining: 4m 59s\n",
      "9:\tlearn: 1667.0389537\ttotal: 15.6s\tremaining: 4m 56s\n",
      "10:\tlearn: 1650.3380964\ttotal: 17.1s\tremaining: 4m 54s\n",
      "11:\tlearn: 1636.4008717\ttotal: 18.7s\tremaining: 4m 53s\n",
      "12:\tlearn: 1626.0773528\ttotal: 20.4s\tremaining: 4m 53s\n",
      "13:\tlearn: 1610.7442643\ttotal: 22.2s\tremaining: 4m 54s\n",
      "14:\tlearn: 1592.2887914\ttotal: 23.9s\tremaining: 4m 54s\n",
      "15:\tlearn: 1583.1158069\ttotal: 25.7s\tremaining: 4m 55s\n",
      "16:\tlearn: 1565.6378058\ttotal: 27.6s\tremaining: 4m 57s\n",
      "17:\tlearn: 1553.6526764\ttotal: 29.6s\tremaining: 4m 59s\n",
      "18:\tlearn: 1541.4216367\ttotal: 31.4s\tremaining: 4m 59s\n",
      "19:\tlearn: 1532.1865561\ttotal: 33.3s\tremaining: 4m 59s\n",
      "20:\tlearn: 1518.8474219\ttotal: 35s\tremaining: 4m 58s\n",
      "21:\tlearn: 1510.3223734\ttotal: 37.3s\tremaining: 5m 1s\n",
      "22:\tlearn: 1505.4361801\ttotal: 39.6s\tremaining: 5m 4s\n",
      "23:\tlearn: 1499.5781517\ttotal: 41.6s\tremaining: 5m 5s\n",
      "24:\tlearn: 1491.1159043\ttotal: 43.6s\tremaining: 5m 5s\n",
      "25:\tlearn: 1484.1267508\ttotal: 45.6s\tremaining: 5m 5s\n",
      "26:\tlearn: 1480.2801393\ttotal: 47.5s\tremaining: 5m 4s\n",
      "27:\tlearn: 1473.3837120\ttotal: 49.6s\tremaining: 5m 4s\n",
      "28:\tlearn: 1464.6177784\ttotal: 51.4s\tremaining: 5m 2s\n",
      "29:\tlearn: 1456.1427463\ttotal: 53.1s\tremaining: 5m\n",
      "30:\tlearn: 1456.1422247\ttotal: 53.1s\tremaining: 4m 49s\n",
      "31:\tlearn: 1449.6916573\ttotal: 55s\tremaining: 4m 48s\n",
      "32:\tlearn: 1440.0183916\ttotal: 56.9s\tremaining: 4m 48s\n",
      "33:\tlearn: 1432.9770306\ttotal: 59s\tremaining: 4m 47s\n",
      "34:\tlearn: 1429.9953480\ttotal: 1m 1s\tremaining: 4m 47s\n",
      "35:\tlearn: 1423.7389627\ttotal: 1m 3s\tremaining: 4m 47s\n",
      "36:\tlearn: 1416.5406074\ttotal: 1m 4s\tremaining: 4m 45s\n",
      "37:\tlearn: 1409.4254458\ttotal: 1m 6s\tremaining: 4m 45s\n",
      "38:\tlearn: 1406.0921711\ttotal: 1m 8s\tremaining: 4m 44s\n",
      "39:\tlearn: 1401.2540124\ttotal: 1m 10s\tremaining: 4m 42s\n",
      "40:\tlearn: 1396.9075232\ttotal: 1m 12s\tremaining: 4m 40s\n",
      "41:\tlearn: 1394.8954913\ttotal: 1m 14s\tremaining: 4m 39s\n",
      "42:\tlearn: 1389.4663279\ttotal: 1m 16s\tremaining: 4m 38s\n",
      "43:\tlearn: 1383.3240008\ttotal: 1m 18s\tremaining: 4m 36s\n",
      "44:\tlearn: 1380.7749018\ttotal: 1m 19s\tremaining: 4m 35s\n",
      "45:\tlearn: 1372.3143551\ttotal: 1m 22s\tremaining: 4m 34s\n",
      "46:\tlearn: 1364.2632657\ttotal: 1m 23s\tremaining: 4m 33s\n",
      "47:\tlearn: 1356.2966998\ttotal: 1m 25s\tremaining: 4m 31s\n",
      "48:\tlearn: 1351.5201354\ttotal: 1m 27s\tremaining: 4m 29s\n",
      "49:\tlearn: 1344.9934209\ttotal: 1m 29s\tremaining: 4m 27s\n",
      "50:\tlearn: 1340.4603105\ttotal: 1m 31s\tremaining: 4m 26s\n",
      "51:\tlearn: 1333.7213102\ttotal: 1m 32s\tremaining: 4m 24s\n",
      "52:\tlearn: 1327.1756710\ttotal: 1m 34s\tremaining: 4m 23s\n",
      "53:\tlearn: 1322.5857642\ttotal: 1m 36s\tremaining: 4m 21s\n",
      "54:\tlearn: 1317.9100248\ttotal: 1m 38s\tremaining: 4m 20s\n",
      "55:\tlearn: 1315.2585656\ttotal: 1m 40s\tremaining: 4m 19s\n",
      "56:\tlearn: 1311.5356879\ttotal: 1m 43s\tremaining: 4m 19s\n",
      "57:\tlearn: 1308.4669404\ttotal: 1m 45s\tremaining: 4m 18s\n",
      "58:\tlearn: 1304.9949512\ttotal: 1m 48s\tremaining: 4m 18s\n",
      "59:\tlearn: 1302.7207233\ttotal: 1m 50s\tremaining: 4m 17s\n",
      "60:\tlearn: 1298.6742775\ttotal: 1m 52s\tremaining: 4m 16s\n",
      "61:\tlearn: 1294.7508117\ttotal: 1m 55s\tremaining: 4m 17s\n",
      "62:\tlearn: 1292.1973184\ttotal: 1m 58s\tremaining: 4m 16s\n",
      "63:\tlearn: 1289.9804009\ttotal: 2m\tremaining: 4m 15s\n",
      "64:\tlearn: 1288.1246130\ttotal: 2m 2s\tremaining: 4m 14s\n",
      "65:\tlearn: 1284.4855813\ttotal: 2m 5s\tremaining: 4m 13s\n",
      "66:\tlearn: 1281.1729225\ttotal: 2m 7s\tremaining: 4m 13s\n",
      "67:\tlearn: 1276.9506339\ttotal: 2m 10s\tremaining: 4m 13s\n",
      "68:\tlearn: 1273.9756128\ttotal: 2m 13s\tremaining: 4m 12s\n",
      "69:\tlearn: 1271.1156329\ttotal: 2m 15s\tremaining: 4m 11s\n",
      "70:\tlearn: 1267.0011631\ttotal: 2m 18s\tremaining: 4m 10s\n",
      "71:\tlearn: 1262.1484865\ttotal: 2m 20s\tremaining: 4m 9s\n",
      "72:\tlearn: 1260.4283048\ttotal: 2m 22s\tremaining: 4m 7s\n",
      "73:\tlearn: 1258.5739934\ttotal: 2m 24s\tremaining: 4m 6s\n",
      "74:\tlearn: 1255.7514199\ttotal: 2m 27s\tremaining: 4m 5s\n",
      "75:\tlearn: 1254.2256707\ttotal: 2m 29s\tremaining: 4m 4s\n",
      "76:\tlearn: 1251.3075607\ttotal: 2m 32s\tremaining: 4m 2s\n",
      "77:\tlearn: 1249.6804358\ttotal: 2m 34s\tremaining: 4m 1s\n",
      "78:\tlearn: 1247.1848971\ttotal: 2m 36s\tremaining: 4m\n",
      "79:\tlearn: 1243.4909070\ttotal: 2m 39s\tremaining: 3m 59s\n",
      "80:\tlearn: 1242.6908173\ttotal: 2m 41s\tremaining: 3m 57s\n",
      "81:\tlearn: 1239.8613439\ttotal: 2m 44s\tremaining: 3m 56s\n",
      "82:\tlearn: 1237.8915390\ttotal: 2m 47s\tremaining: 3m 55s\n",
      "83:\tlearn: 1235.2650472\ttotal: 2m 49s\tremaining: 3m 53s\n",
      "84:\tlearn: 1232.9532922\ttotal: 2m 51s\tremaining: 3m 51s\n",
      "85:\tlearn: 1232.3902550\ttotal: 2m 53s\tremaining: 3m 49s\n",
      "86:\tlearn: 1231.3438667\ttotal: 2m 55s\tremaining: 3m 48s\n",
      "87:\tlearn: 1229.4268344\ttotal: 2m 58s\tremaining: 3m 46s\n",
      "88:\tlearn: 1229.3268285\ttotal: 3m\tremaining: 3m 44s\n",
      "89:\tlearn: 1227.3387773\ttotal: 3m 2s\tremaining: 3m 42s\n",
      "90:\tlearn: 1226.5274568\ttotal: 3m 4s\tremaining: 3m 40s\n",
      "91:\tlearn: 1223.3296237\ttotal: 3m 6s\tremaining: 3m 38s\n",
      "92:\tlearn: 1220.3643097\ttotal: 3m 8s\tremaining: 3m 36s\n",
      "93:\tlearn: 1217.4496989\ttotal: 3m 10s\tremaining: 3m 34s\n",
      "94:\tlearn: 1215.2546821\ttotal: 3m 12s\tremaining: 3m 32s\n",
      "95:\tlearn: 1213.1324823\ttotal: 3m 13s\tremaining: 3m 30s\n",
      "96:\tlearn: 1211.2922726\ttotal: 3m 15s\tremaining: 3m 28s\n",
      "97:\tlearn: 1207.9034826\ttotal: 3m 17s\tremaining: 3m 25s\n",
      "98:\tlearn: 1203.9931452\ttotal: 3m 19s\tremaining: 3m 23s\n",
      "99:\tlearn: 1202.9015937\ttotal: 3m 21s\tremaining: 3m 21s\n",
      "100:\tlearn: 1202.2928061\ttotal: 3m 23s\tremaining: 3m 19s\n",
      "101:\tlearn: 1201.4477740\ttotal: 3m 25s\tremaining: 3m 17s\n",
      "102:\tlearn: 1198.7633368\ttotal: 3m 27s\tremaining: 3m 15s\n",
      "103:\tlearn: 1197.4931349\ttotal: 3m 29s\tremaining: 3m 13s\n",
      "104:\tlearn: 1194.6018972\ttotal: 3m 31s\tremaining: 3m 11s\n",
      "105:\tlearn: 1193.0812176\ttotal: 3m 33s\tremaining: 3m 9s\n",
      "106:\tlearn: 1191.6891202\ttotal: 3m 35s\tremaining: 3m 7s\n",
      "107:\tlearn: 1188.0997901\ttotal: 3m 37s\tremaining: 3m 5s\n",
      "108:\tlearn: 1186.5581957\ttotal: 3m 39s\tremaining: 3m 3s\n",
      "109:\tlearn: 1185.9853638\ttotal: 3m 41s\tremaining: 3m 1s\n",
      "110:\tlearn: 1183.3562576\ttotal: 3m 43s\tremaining: 2m 59s\n",
      "111:\tlearn: 1179.6249650\ttotal: 3m 45s\tremaining: 2m 57s\n",
      "112:\tlearn: 1177.0673958\ttotal: 3m 47s\tremaining: 2m 55s\n",
      "113:\tlearn: 1174.5366015\ttotal: 3m 49s\tremaining: 2m 53s\n",
      "114:\tlearn: 1174.1419633\ttotal: 3m 52s\tremaining: 2m 51s\n",
      "115:\tlearn: 1173.3055548\ttotal: 3m 54s\tremaining: 2m 49s\n",
      "116:\tlearn: 1172.4088471\ttotal: 3m 56s\tremaining: 2m 47s\n",
      "117:\tlearn: 1169.8935596\ttotal: 3m 58s\tremaining: 2m 45s\n",
      "118:\tlearn: 1167.2252312\ttotal: 4m\tremaining: 2m 44s\n",
      "119:\tlearn: 1165.2531912\ttotal: 4m 3s\tremaining: 2m 42s\n",
      "120:\tlearn: 1163.0931409\ttotal: 4m 5s\tremaining: 2m 40s\n",
      "121:\tlearn: 1161.4812210\ttotal: 4m 8s\tremaining: 2m 38s\n",
      "122:\tlearn: 1160.1771107\ttotal: 4m 10s\tremaining: 2m 36s\n",
      "123:\tlearn: 1159.6138315\ttotal: 4m 12s\tremaining: 2m 34s\n",
      "124:\tlearn: 1158.0801404\ttotal: 4m 15s\tremaining: 2m 33s\n",
      "125:\tlearn: 1157.8687579\ttotal: 4m 17s\tremaining: 2m 31s\n",
      "126:\tlearn: 1155.7852130\ttotal: 4m 20s\tremaining: 2m 29s\n",
      "127:\tlearn: 1154.8942174\ttotal: 4m 23s\tremaining: 2m 27s\n",
      "128:\tlearn: 1153.5743569\ttotal: 4m 25s\tremaining: 2m 26s\n",
      "129:\tlearn: 1149.1476497\ttotal: 4m 28s\tremaining: 2m 24s\n",
      "130:\tlearn: 1147.9897088\ttotal: 4m 30s\tremaining: 2m 22s\n",
      "131:\tlearn: 1146.7950771\ttotal: 4m 33s\tremaining: 2m 20s\n",
      "132:\tlearn: 1144.8107148\ttotal: 4m 36s\tremaining: 2m 19s\n",
      "133:\tlearn: 1143.9973916\ttotal: 4m 38s\tremaining: 2m 17s\n",
      "134:\tlearn: 1143.3485065\ttotal: 4m 41s\tremaining: 2m 15s\n",
      "135:\tlearn: 1141.6219990\ttotal: 4m 44s\tremaining: 2m 13s\n",
      "136:\tlearn: 1140.3173612\ttotal: 4m 46s\tremaining: 2m 11s\n",
      "137:\tlearn: 1138.6405119\ttotal: 4m 49s\tremaining: 2m 9s\n",
      "138:\tlearn: 1136.2004427\ttotal: 4m 51s\tremaining: 2m 7s\n",
      "139:\tlearn: 1135.7821684\ttotal: 4m 54s\tremaining: 2m 6s\n",
      "140:\tlearn: 1134.9551306\ttotal: 4m 56s\tremaining: 2m 4s\n",
      "141:\tlearn: 1133.8126219\ttotal: 4m 58s\tremaining: 2m 1s\n",
      "142:\tlearn: 1132.8493614\ttotal: 5m\tremaining: 1m 59s\n",
      "143:\tlearn: 1131.9610905\ttotal: 5m 3s\tremaining: 1m 58s\n",
      "144:\tlearn: 1131.4395404\ttotal: 5m 6s\tremaining: 1m 56s\n",
      "145:\tlearn: 1129.1661512\ttotal: 5m 9s\tremaining: 1m 54s\n",
      "146:\tlearn: 1127.2860257\ttotal: 5m 12s\tremaining: 1m 52s\n",
      "147:\tlearn: 1125.7100320\ttotal: 5m 14s\tremaining: 1m 50s\n",
      "148:\tlearn: 1125.2730170\ttotal: 5m 17s\tremaining: 1m 48s\n",
      "149:\tlearn: 1121.5110901\ttotal: 5m 19s\tremaining: 1m 46s\n",
      "150:\tlearn: 1119.4085013\ttotal: 5m 22s\tremaining: 1m 44s\n",
      "151:\tlearn: 1119.0942803\ttotal: 5m 24s\tremaining: 1m 42s\n",
      "152:\tlearn: 1117.6279964\ttotal: 5m 26s\tremaining: 1m 40s\n",
      "153:\tlearn: 1115.3647063\ttotal: 5m 28s\tremaining: 1m 38s\n",
      "154:\tlearn: 1114.5663451\ttotal: 5m 31s\tremaining: 1m 36s\n",
      "155:\tlearn: 1113.3018350\ttotal: 5m 33s\tremaining: 1m 34s\n",
      "156:\tlearn: 1111.7113339\ttotal: 5m 35s\tremaining: 1m 31s\n",
      "157:\tlearn: 1110.0722268\ttotal: 5m 37s\tremaining: 1m 29s\n",
      "158:\tlearn: 1109.6054843\ttotal: 5m 40s\tremaining: 1m 27s\n",
      "159:\tlearn: 1108.7488473\ttotal: 5m 42s\tremaining: 1m 25s\n",
      "160:\tlearn: 1108.7264198\ttotal: 5m 42s\tremaining: 1m 22s\n",
      "161:\tlearn: 1106.0853382\ttotal: 5m 44s\tremaining: 1m 20s\n",
      "162:\tlearn: 1103.8380992\ttotal: 5m 46s\tremaining: 1m 18s\n",
      "163:\tlearn: 1101.5172729\ttotal: 5m 47s\tremaining: 1m 16s\n",
      "164:\tlearn: 1100.0799874\ttotal: 5m 50s\tremaining: 1m 14s\n",
      "165:\tlearn: 1098.2384891\ttotal: 5m 52s\tremaining: 1m 12s\n",
      "166:\tlearn: 1095.0585194\ttotal: 5m 53s\tremaining: 1m 9s\n",
      "167:\tlearn: 1093.9799246\ttotal: 5m 55s\tremaining: 1m 7s\n",
      "168:\tlearn: 1092.8786888\ttotal: 5m 57s\tremaining: 1m 5s\n",
      "169:\tlearn: 1091.9392734\ttotal: 5m 59s\tremaining: 1m 3s\n",
      "170:\tlearn: 1090.4289311\ttotal: 6m 1s\tremaining: 1m 1s\n",
      "171:\tlearn: 1089.6926241\ttotal: 6m 3s\tremaining: 59.2s\n",
      "172:\tlearn: 1088.7400519\ttotal: 6m 5s\tremaining: 57s\n",
      "173:\tlearn: 1087.8878424\ttotal: 6m 7s\tremaining: 54.9s\n",
      "174:\tlearn: 1086.5634246\ttotal: 6m 9s\tremaining: 52.7s\n",
      "175:\tlearn: 1086.1182440\ttotal: 6m 10s\tremaining: 50.6s\n",
      "176:\tlearn: 1086.0188701\ttotal: 6m 11s\tremaining: 48.3s\n",
      "177:\tlearn: 1084.4048370\ttotal: 6m 13s\tremaining: 46.2s\n",
      "178:\tlearn: 1082.8448796\ttotal: 6m 15s\tremaining: 44.1s\n",
      "179:\tlearn: 1081.9652301\ttotal: 6m 17s\tremaining: 42s\n",
      "180:\tlearn: 1080.6407865\ttotal: 6m 19s\tremaining: 39.8s\n",
      "181:\tlearn: 1079.1030243\ttotal: 6m 21s\tremaining: 37.7s\n",
      "182:\tlearn: 1077.2412469\ttotal: 6m 23s\tremaining: 35.6s\n",
      "183:\tlearn: 1076.7528383\ttotal: 6m 25s\tremaining: 33.5s\n",
      "184:\tlearn: 1076.0354857\ttotal: 6m 27s\tremaining: 31.4s\n",
      "185:\tlearn: 1074.2913832\ttotal: 6m 28s\tremaining: 29.3s\n",
      "186:\tlearn: 1073.7837294\ttotal: 6m 30s\tremaining: 27.2s\n",
      "187:\tlearn: 1072.9161817\ttotal: 6m 32s\tremaining: 25.1s\n",
      "188:\tlearn: 1072.3341845\ttotal: 6m 34s\tremaining: 22.9s\n",
      "189:\tlearn: 1071.5551739\ttotal: 6m 36s\tremaining: 20.8s\n",
      "190:\tlearn: 1071.2464721\ttotal: 6m 37s\tremaining: 18.7s\n",
      "191:\tlearn: 1068.8293065\ttotal: 6m 39s\tremaining: 16.7s\n",
      "192:\tlearn: 1068.7389504\ttotal: 6m 41s\tremaining: 14.6s\n",
      "193:\tlearn: 1067.5715143\ttotal: 6m 43s\tremaining: 12.5s\n",
      "194:\tlearn: 1067.0986572\ttotal: 6m 44s\tremaining: 10.4s\n",
      "195:\tlearn: 1066.7793567\ttotal: 6m 46s\tremaining: 8.3s\n",
      "196:\tlearn: 1065.1832860\ttotal: 6m 48s\tremaining: 6.22s\n",
      "197:\tlearn: 1064.1582898\ttotal: 6m 50s\tremaining: 4.14s\n",
      "198:\tlearn: 1062.7303616\ttotal: 6m 51s\tremaining: 2.07s\n",
      "199:\tlearn: 1062.3290386\ttotal: 6m 53s\tremaining: 0us\n",
      "Learning rate set to 0.28872\n",
      "0:\tlearn: 3589.8268875\ttotal: 1.62s\tremaining: 6m 42s\n",
      "1:\tlearn: 2934.0913413\ttotal: 3.26s\tremaining: 6m 44s\n",
      "2:\tlearn: 2507.8059950\ttotal: 4.81s\tremaining: 6m 36s\n",
      "3:\tlearn: 2227.1979074\ttotal: 6.38s\tremaining: 6m 32s\n",
      "4:\tlearn: 2055.0189921\ttotal: 7.94s\tremaining: 6m 29s\n",
      "5:\tlearn: 1928.9770934\ttotal: 9.59s\tremaining: 6m 30s\n",
      "6:\tlearn: 1847.2869733\ttotal: 11.3s\tremaining: 6m 30s\n",
      "7:\tlearn: 1787.0878905\ttotal: 12.9s\tremaining: 6m 29s\n",
      "8:\tlearn: 1731.8556393\ttotal: 14.4s\tremaining: 6m 25s\n",
      "9:\tlearn: 1696.7894516\ttotal: 16s\tremaining: 6m 24s\n",
      "10:\tlearn: 1668.9253455\ttotal: 17.6s\tremaining: 6m 22s\n",
      "11:\tlearn: 1647.3568994\ttotal: 19.2s\tremaining: 6m 20s\n",
      "12:\tlearn: 1630.3913682\ttotal: 20.8s\tremaining: 6m 18s\n",
      "13:\tlearn: 1614.5266444\ttotal: 22.4s\tremaining: 6m 17s\n",
      "14:\tlearn: 1603.2743686\ttotal: 24.1s\tremaining: 6m 17s\n",
      "15:\tlearn: 1589.6579007\ttotal: 25.9s\tremaining: 6m 18s\n",
      "16:\tlearn: 1577.9509647\ttotal: 27.5s\tremaining: 6m 16s\n",
      "17:\tlearn: 1564.1821747\ttotal: 29.1s\tremaining: 6m 15s\n",
      "18:\tlearn: 1556.4590040\ttotal: 30.9s\tremaining: 6m 15s\n",
      "19:\tlearn: 1542.9379069\ttotal: 32.7s\tremaining: 6m 15s\n",
      "20:\tlearn: 1536.4948573\ttotal: 34.4s\tremaining: 6m 14s\n",
      "21:\tlearn: 1525.7910568\ttotal: 36s\tremaining: 6m 13s\n",
      "22:\tlearn: 1516.4193745\ttotal: 37.7s\tremaining: 6m 11s\n",
      "23:\tlearn: 1510.7432411\ttotal: 39.2s\tremaining: 6m 9s\n",
      "24:\tlearn: 1505.7542688\ttotal: 40.9s\tremaining: 6m 8s\n",
      "25:\tlearn: 1500.8532430\ttotal: 42.7s\tremaining: 6m 8s\n",
      "26:\tlearn: 1494.8415130\ttotal: 44.5s\tremaining: 6m 7s\n",
      "27:\tlearn: 1484.0207468\ttotal: 46.2s\tremaining: 6m 6s\n",
      "28:\tlearn: 1478.9289138\ttotal: 48s\tremaining: 6m 5s\n",
      "29:\tlearn: 1473.7387979\ttotal: 49.8s\tremaining: 6m 5s\n",
      "30:\tlearn: 1466.8506293\ttotal: 51.5s\tremaining: 6m 4s\n",
      "31:\tlearn: 1458.3507469\ttotal: 53.3s\tremaining: 6m 2s\n",
      "32:\tlearn: 1454.0957637\ttotal: 55s\tremaining: 6m 1s\n",
      "33:\tlearn: 1448.8119157\ttotal: 56.8s\tremaining: 6m\n",
      "34:\tlearn: 1444.4801729\ttotal: 58.4s\tremaining: 5m 58s\n",
      "35:\tlearn: 1440.2635087\ttotal: 1m\tremaining: 5m 57s\n",
      "36:\tlearn: 1433.4481196\ttotal: 1m 1s\tremaining: 5m 55s\n",
      "37:\tlearn: 1429.3393637\ttotal: 1m 3s\tremaining: 5m 54s\n",
      "38:\tlearn: 1422.3013406\ttotal: 1m 5s\tremaining: 5m 53s\n",
      "39:\tlearn: 1418.0300969\ttotal: 1m 7s\tremaining: 5m 52s\n",
      "40:\tlearn: 1413.1669558\ttotal: 1m 9s\tremaining: 5m 52s\n",
      "41:\tlearn: 1410.7184210\ttotal: 1m 10s\tremaining: 5m 51s\n",
      "42:\tlearn: 1405.8706821\ttotal: 1m 12s\tremaining: 5m 49s\n",
      "43:\tlearn: 1402.0581817\ttotal: 1m 14s\tremaining: 5m 49s\n",
      "44:\tlearn: 1391.6249375\ttotal: 1m 16s\tremaining: 5m 48s\n",
      "45:\tlearn: 1387.1560222\ttotal: 1m 18s\tremaining: 5m 47s\n",
      "46:\tlearn: 1379.8264879\ttotal: 1m 20s\tremaining: 5m 46s\n",
      "47:\tlearn: 1378.4444621\ttotal: 1m 20s\tremaining: 5m 39s\n",
      "48:\tlearn: 1374.9456473\ttotal: 1m 22s\tremaining: 5m 38s\n",
      "49:\tlearn: 1369.6025323\ttotal: 1m 24s\tremaining: 5m 37s\n",
      "50:\tlearn: 1365.4232810\ttotal: 1m 26s\tremaining: 5m 36s\n",
      "51:\tlearn: 1360.2765532\ttotal: 1m 28s\tremaining: 5m 35s\n",
      "52:\tlearn: 1354.0933757\ttotal: 1m 29s\tremaining: 5m 33s\n",
      "53:\tlearn: 1350.2076841\ttotal: 1m 31s\tremaining: 5m 32s\n",
      "54:\tlearn: 1346.9939348\ttotal: 1m 33s\tremaining: 5m 30s\n",
      "55:\tlearn: 1343.8938080\ttotal: 1m 34s\tremaining: 5m 29s\n",
      "56:\tlearn: 1338.6085025\ttotal: 1m 36s\tremaining: 5m 27s\n",
      "57:\tlearn: 1334.6431447\ttotal: 1m 38s\tremaining: 5m 26s\n",
      "58:\tlearn: 1328.5614832\ttotal: 1m 40s\tremaining: 5m 24s\n",
      "59:\tlearn: 1326.4163917\ttotal: 1m 42s\tremaining: 5m 23s\n",
      "60:\tlearn: 1323.2670831\ttotal: 1m 44s\tremaining: 5m 22s\n",
      "61:\tlearn: 1320.4009469\ttotal: 1m 46s\tremaining: 5m 21s\n",
      "62:\tlearn: 1316.0478873\ttotal: 1m 47s\tremaining: 5m 20s\n",
      "63:\tlearn: 1313.6319736\ttotal: 1m 49s\tremaining: 5m 18s\n",
      "64:\tlearn: 1312.0947221\ttotal: 1m 51s\tremaining: 5m 17s\n",
      "65:\tlearn: 1309.0185964\ttotal: 1m 53s\tremaining: 5m 16s\n",
      "66:\tlearn: 1303.6455138\ttotal: 1m 55s\tremaining: 5m 14s\n",
      "67:\tlearn: 1300.8988396\ttotal: 1m 57s\tremaining: 5m 13s\n",
      "68:\tlearn: 1297.3008016\ttotal: 1m 58s\tremaining: 5m 11s\n",
      "69:\tlearn: 1295.5163245\ttotal: 2m\tremaining: 5m 10s\n",
      "70:\tlearn: 1291.4691422\ttotal: 2m 2s\tremaining: 5m 8s\n",
      "71:\tlearn: 1290.5371900\ttotal: 2m 4s\tremaining: 5m 7s\n",
      "72:\tlearn: 1286.3899808\ttotal: 2m 6s\tremaining: 5m 5s\n",
      "73:\tlearn: 1284.2021352\ttotal: 2m 8s\tremaining: 5m 4s\n",
      "74:\tlearn: 1280.6142886\ttotal: 2m 9s\tremaining: 5m 2s\n",
      "75:\tlearn: 1277.0172296\ttotal: 2m 11s\tremaining: 5m 1s\n",
      "76:\tlearn: 1272.7374001\ttotal: 2m 13s\tremaining: 4m 59s\n",
      "77:\tlearn: 1268.8672036\ttotal: 2m 15s\tremaining: 4m 58s\n",
      "78:\tlearn: 1264.4243667\ttotal: 2m 17s\tremaining: 4m 56s\n",
      "79:\tlearn: 1261.4801604\ttotal: 2m 18s\tremaining: 4m 55s\n",
      "80:\tlearn: 1257.3800968\ttotal: 2m 20s\tremaining: 4m 53s\n",
      "81:\tlearn: 1255.1340748\ttotal: 2m 22s\tremaining: 4m 52s\n",
      "82:\tlearn: 1252.8907233\ttotal: 2m 24s\tremaining: 4m 50s\n",
      "83:\tlearn: 1250.8566300\ttotal: 2m 26s\tremaining: 4m 49s\n",
      "84:\tlearn: 1249.9803844\ttotal: 2m 28s\tremaining: 4m 48s\n",
      "85:\tlearn: 1248.9126347\ttotal: 2m 30s\tremaining: 4m 47s\n",
      "86:\tlearn: 1246.0329279\ttotal: 2m 32s\tremaining: 4m 45s\n",
      "87:\tlearn: 1244.0424208\ttotal: 2m 34s\tremaining: 4m 43s\n",
      "88:\tlearn: 1243.9901055\ttotal: 2m 34s\tremaining: 4m 38s\n",
      "89:\tlearn: 1243.0013474\ttotal: 2m 35s\tremaining: 4m 37s\n",
      "90:\tlearn: 1240.5593129\ttotal: 2m 37s\tremaining: 4m 35s\n",
      "91:\tlearn: 1235.8118071\ttotal: 2m 39s\tremaining: 4m 34s\n",
      "92:\tlearn: 1233.5768841\ttotal: 2m 41s\tremaining: 4m 32s\n",
      "93:\tlearn: 1232.7243993\ttotal: 2m 43s\tremaining: 4m 31s\n",
      "94:\tlearn: 1230.4338624\ttotal: 2m 45s\tremaining: 4m 29s\n",
      "95:\tlearn: 1229.1864466\ttotal: 2m 47s\tremaining: 4m 28s\n",
      "96:\tlearn: 1228.0445946\ttotal: 2m 49s\tremaining: 4m 26s\n",
      "97:\tlearn: 1226.9603814\ttotal: 2m 51s\tremaining: 4m 25s\n",
      "98:\tlearn: 1226.8705090\ttotal: 2m 53s\tremaining: 4m 24s\n",
      "99:\tlearn: 1225.7416630\ttotal: 2m 55s\tremaining: 4m 23s\n",
      "100:\tlearn: 1222.1250489\ttotal: 2m 57s\tremaining: 4m 21s\n",
      "101:\tlearn: 1221.5520501\ttotal: 2m 59s\tremaining: 4m 19s\n",
      "102:\tlearn: 1219.7426790\ttotal: 3m\tremaining: 4m 18s\n",
      "103:\tlearn: 1218.8758891\ttotal: 3m 2s\tremaining: 4m 16s\n",
      "104:\tlearn: 1218.2755438\ttotal: 3m 4s\tremaining: 4m 15s\n",
      "105:\tlearn: 1216.3883952\ttotal: 3m 6s\tremaining: 4m 13s\n",
      "106:\tlearn: 1212.1028609\ttotal: 3m 8s\tremaining: 4m 11s\n",
      "107:\tlearn: 1210.7922720\ttotal: 3m 10s\tremaining: 4m 9s\n",
      "108:\tlearn: 1209.6305433\ttotal: 3m 12s\tremaining: 4m 8s\n",
      "109:\tlearn: 1205.4052173\ttotal: 3m 13s\tremaining: 4m 6s\n",
      "110:\tlearn: 1203.7184403\ttotal: 3m 15s\tremaining: 4m 4s\n",
      "111:\tlearn: 1201.2662035\ttotal: 3m 17s\tremaining: 4m 3s\n",
      "112:\tlearn: 1199.6419198\ttotal: 3m 19s\tremaining: 4m 1s\n",
      "113:\tlearn: 1197.4500748\ttotal: 3m 21s\tremaining: 4m\n",
      "114:\tlearn: 1194.5379849\ttotal: 3m 23s\tremaining: 3m 58s\n",
      "115:\tlearn: 1192.9245126\ttotal: 3m 24s\tremaining: 3m 56s\n",
      "116:\tlearn: 1192.1467587\ttotal: 3m 26s\tremaining: 3m 55s\n",
      "117:\tlearn: 1191.5329308\ttotal: 3m 28s\tremaining: 3m 53s\n",
      "118:\tlearn: 1190.4003101\ttotal: 3m 30s\tremaining: 3m 51s\n",
      "119:\tlearn: 1189.0529936\ttotal: 3m 32s\tremaining: 3m 50s\n",
      "120:\tlearn: 1188.0078488\ttotal: 3m 34s\tremaining: 3m 48s\n",
      "121:\tlearn: 1186.4716994\ttotal: 3m 36s\tremaining: 3m 47s\n",
      "122:\tlearn: 1183.3471251\ttotal: 3m 38s\tremaining: 3m 45s\n",
      "123:\tlearn: 1181.7195754\ttotal: 3m 39s\tremaining: 3m 43s\n",
      "124:\tlearn: 1178.9557181\ttotal: 3m 41s\tremaining: 3m 41s\n",
      "125:\tlearn: 1177.3339057\ttotal: 3m 43s\tremaining: 3m 39s\n",
      "126:\tlearn: 1175.1937683\ttotal: 3m 45s\tremaining: 3m 38s\n",
      "127:\tlearn: 1174.8103648\ttotal: 3m 47s\tremaining: 3m 36s\n",
      "128:\tlearn: 1172.3291415\ttotal: 3m 48s\tremaining: 3m 34s\n",
      "129:\tlearn: 1171.5943097\ttotal: 3m 50s\tremaining: 3m 32s\n",
      "130:\tlearn: 1171.2835944\ttotal: 3m 50s\tremaining: 3m 29s\n",
      "131:\tlearn: 1169.3175351\ttotal: 3m 52s\tremaining: 3m 27s\n",
      "132:\tlearn: 1168.5546582\ttotal: 3m 54s\tremaining: 3m 26s\n",
      "133:\tlearn: 1166.6122749\ttotal: 3m 55s\tremaining: 3m 24s\n",
      "134:\tlearn: 1164.2752442\ttotal: 3m 57s\tremaining: 3m 22s\n",
      "135:\tlearn: 1162.4005001\ttotal: 3m 59s\tremaining: 3m 20s\n",
      "136:\tlearn: 1161.9795509\ttotal: 4m\tremaining: 3m 18s\n",
      "137:\tlearn: 1160.8992268\ttotal: 4m 2s\tremaining: 3m 16s\n",
      "138:\tlearn: 1160.2242994\ttotal: 4m 4s\tremaining: 3m 14s\n",
      "139:\tlearn: 1158.5532088\ttotal: 4m 5s\tremaining: 3m 13s\n",
      "140:\tlearn: 1156.8669337\ttotal: 4m 7s\tremaining: 3m 11s\n",
      "141:\tlearn: 1154.6045712\ttotal: 4m 9s\tremaining: 3m 9s\n",
      "142:\tlearn: 1153.1935281\ttotal: 4m 10s\tremaining: 3m 7s\n",
      "143:\tlearn: 1151.9827939\ttotal: 4m 12s\tremaining: 3m 6s\n",
      "144:\tlearn: 1151.4051759\ttotal: 4m 14s\tremaining: 3m 4s\n",
      "145:\tlearn: 1149.8572934\ttotal: 4m 16s\tremaining: 3m 2s\n",
      "146:\tlearn: 1148.3468901\ttotal: 4m 17s\tremaining: 3m\n",
      "147:\tlearn: 1147.9021578\ttotal: 4m 19s\tremaining: 2m 58s\n",
      "148:\tlearn: 1147.6789059\ttotal: 4m 19s\tremaining: 2m 55s\n",
      "149:\tlearn: 1146.3315088\ttotal: 4m 21s\tremaining: 2m 54s\n",
      "150:\tlearn: 1145.5141650\ttotal: 4m 22s\tremaining: 2m 52s\n",
      "151:\tlearn: 1142.2788032\ttotal: 4m 24s\tremaining: 2m 50s\n",
      "152:\tlearn: 1140.7964655\ttotal: 4m 25s\tremaining: 2m 48s\n",
      "153:\tlearn: 1137.8283109\ttotal: 4m 27s\tremaining: 2m 46s\n",
      "154:\tlearn: 1136.6133128\ttotal: 4m 29s\tremaining: 2m 45s\n",
      "155:\tlearn: 1135.6571419\ttotal: 4m 30s\tremaining: 2m 43s\n",
      "156:\tlearn: 1134.1523182\ttotal: 4m 32s\tremaining: 2m 41s\n",
      "157:\tlearn: 1132.7102883\ttotal: 4m 34s\tremaining: 2m 39s\n",
      "158:\tlearn: 1131.3905629\ttotal: 4m 35s\tremaining: 2m 37s\n",
      "159:\tlearn: 1128.6160105\ttotal: 4m 37s\tremaining: 2m 36s\n",
      "160:\tlearn: 1128.0032200\ttotal: 4m 39s\tremaining: 2m 34s\n",
      "161:\tlearn: 1127.1456865\ttotal: 4m 40s\tremaining: 2m 32s\n",
      "162:\tlearn: 1125.9044239\ttotal: 4m 42s\tremaining: 2m 30s\n",
      "163:\tlearn: 1125.4096732\ttotal: 4m 44s\tremaining: 2m 28s\n",
      "164:\tlearn: 1124.3552939\ttotal: 4m 45s\tremaining: 2m 27s\n",
      "165:\tlearn: 1122.1431168\ttotal: 4m 47s\tremaining: 2m 25s\n",
      "166:\tlearn: 1120.8304086\ttotal: 4m 49s\tremaining: 2m 23s\n",
      "167:\tlearn: 1120.3951919\ttotal: 4m 50s\tremaining: 2m 21s\n",
      "168:\tlearn: 1119.6436077\ttotal: 4m 52s\tremaining: 2m 20s\n",
      "169:\tlearn: 1116.5488118\ttotal: 4m 54s\tremaining: 2m 18s\n",
      "170:\tlearn: 1115.6041490\ttotal: 4m 55s\tremaining: 2m 16s\n",
      "171:\tlearn: 1114.5616941\ttotal: 4m 57s\tremaining: 2m 14s\n",
      "172:\tlearn: 1113.4688722\ttotal: 4m 59s\tremaining: 2m 13s\n",
      "173:\tlearn: 1112.3845730\ttotal: 5m\tremaining: 2m 11s\n",
      "174:\tlearn: 1110.3799442\ttotal: 5m 2s\tremaining: 2m 9s\n",
      "175:\tlearn: 1109.8160537\ttotal: 5m 4s\tremaining: 2m 7s\n",
      "176:\tlearn: 1109.5085772\ttotal: 5m 5s\tremaining: 2m 6s\n",
      "177:\tlearn: 1108.4913811\ttotal: 5m 7s\tremaining: 2m 4s\n",
      "178:\tlearn: 1106.2068054\ttotal: 5m 9s\tremaining: 2m 2s\n",
      "179:\tlearn: 1104.3644156\ttotal: 5m 10s\tremaining: 2m\n",
      "180:\tlearn: 1101.5925407\ttotal: 5m 12s\tremaining: 1m 59s\n",
      "181:\tlearn: 1100.9065441\ttotal: 5m 13s\tremaining: 1m 57s\n",
      "182:\tlearn: 1100.0529073\ttotal: 5m 15s\tremaining: 1m 55s\n",
      "183:\tlearn: 1097.6879498\ttotal: 5m 17s\tremaining: 1m 53s\n",
      "184:\tlearn: 1095.3674072\ttotal: 5m 18s\tremaining: 1m 51s\n",
      "185:\tlearn: 1093.6256832\ttotal: 5m 20s\tremaining: 1m 50s\n",
      "186:\tlearn: 1092.7831112\ttotal: 5m 21s\tremaining: 1m 48s\n",
      "187:\tlearn: 1092.2580699\ttotal: 5m 23s\tremaining: 1m 46s\n",
      "188:\tlearn: 1090.7591331\ttotal: 5m 25s\tremaining: 1m 44s\n",
      "189:\tlearn: 1089.1441191\ttotal: 5m 27s\tremaining: 1m 43s\n",
      "190:\tlearn: 1088.6748349\ttotal: 5m 28s\tremaining: 1m 41s\n",
      "191:\tlearn: 1086.7492528\ttotal: 5m 30s\tremaining: 1m 39s\n",
      "192:\tlearn: 1086.2064763\ttotal: 5m 31s\tremaining: 1m 37s\n",
      "193:\tlearn: 1085.7474836\ttotal: 5m 33s\tremaining: 1m 36s\n",
      "194:\tlearn: 1084.8309843\ttotal: 5m 35s\tremaining: 1m 34s\n",
      "195:\tlearn: 1083.3102083\ttotal: 5m 36s\tremaining: 1m 32s\n",
      "196:\tlearn: 1081.8839719\ttotal: 5m 38s\tremaining: 1m 31s\n",
      "197:\tlearn: 1080.9368508\ttotal: 5m 39s\tremaining: 1m 29s\n",
      "198:\tlearn: 1079.4599916\ttotal: 5m 41s\tremaining: 1m 27s\n",
      "199:\tlearn: 1078.0368331\ttotal: 5m 43s\tremaining: 1m 25s\n",
      "200:\tlearn: 1077.0562508\ttotal: 5m 45s\tremaining: 1m 24s\n",
      "201:\tlearn: 1075.5239225\ttotal: 5m 46s\tremaining: 1m 22s\n",
      "202:\tlearn: 1075.0850361\ttotal: 5m 48s\tremaining: 1m 20s\n",
      "203:\tlearn: 1073.6191075\ttotal: 5m 50s\tremaining: 1m 18s\n",
      "204:\tlearn: 1072.4283452\ttotal: 5m 51s\tremaining: 1m 17s\n",
      "205:\tlearn: 1072.2107376\ttotal: 5m 53s\tremaining: 1m 15s\n",
      "206:\tlearn: 1070.8677450\ttotal: 5m 55s\tremaining: 1m 13s\n",
      "207:\tlearn: 1069.4733613\ttotal: 5m 56s\tremaining: 1m 12s\n",
      "208:\tlearn: 1067.9448505\ttotal: 5m 58s\tremaining: 1m 10s\n",
      "209:\tlearn: 1066.9700656\ttotal: 6m\tremaining: 1m 8s\n",
      "210:\tlearn: 1066.4627826\ttotal: 6m 1s\tremaining: 1m 6s\n",
      "211:\tlearn: 1065.2930101\ttotal: 6m 3s\tremaining: 1m 5s\n",
      "212:\tlearn: 1065.0280666\ttotal: 6m 4s\tremaining: 1m 3s\n",
      "213:\tlearn: 1064.6333918\ttotal: 6m 6s\tremaining: 1m 1s\n",
      "214:\tlearn: 1063.2122006\ttotal: 6m 8s\tremaining: 59.9s\n",
      "215:\tlearn: 1062.6191863\ttotal: 6m 9s\tremaining: 58.2s\n",
      "216:\tlearn: 1062.1286992\ttotal: 6m 11s\tremaining: 56.5s\n",
      "217:\tlearn: 1061.5047125\ttotal: 6m 12s\tremaining: 54.7s\n",
      "218:\tlearn: 1060.9403945\ttotal: 6m 14s\tremaining: 53s\n",
      "219:\tlearn: 1059.4276226\ttotal: 6m 15s\tremaining: 51.3s\n",
      "220:\tlearn: 1059.0874820\ttotal: 6m 17s\tremaining: 49.6s\n",
      "221:\tlearn: 1058.3434421\ttotal: 6m 19s\tremaining: 47.8s\n",
      "222:\tlearn: 1055.4469341\ttotal: 6m 20s\tremaining: 46.1s\n",
      "223:\tlearn: 1054.3095953\ttotal: 6m 22s\tremaining: 44.4s\n",
      "224:\tlearn: 1053.5863886\ttotal: 6m 24s\tremaining: 42.7s\n",
      "225:\tlearn: 1053.2594180\ttotal: 6m 25s\tremaining: 41s\n",
      "226:\tlearn: 1052.0128870\ttotal: 6m 27s\tremaining: 39.2s\n",
      "227:\tlearn: 1050.9187497\ttotal: 6m 28s\tremaining: 37.5s\n",
      "228:\tlearn: 1050.3181114\ttotal: 6m 30s\tremaining: 35.8s\n",
      "229:\tlearn: 1049.0248497\ttotal: 6m 31s\tremaining: 34.1s\n",
      "230:\tlearn: 1047.5186031\ttotal: 6m 33s\tremaining: 32.4s\n",
      "231:\tlearn: 1047.3553601\ttotal: 6m 34s\tremaining: 30.6s\n",
      "232:\tlearn: 1045.9406899\ttotal: 6m 36s\tremaining: 28.9s\n",
      "233:\tlearn: 1045.3507292\ttotal: 6m 38s\tremaining: 27.2s\n",
      "234:\tlearn: 1045.0107293\ttotal: 6m 39s\tremaining: 25.5s\n",
      "235:\tlearn: 1044.5089292\ttotal: 6m 41s\tremaining: 23.8s\n",
      "236:\tlearn: 1044.2686450\ttotal: 6m 42s\tremaining: 22.1s\n",
      "237:\tlearn: 1043.1830162\ttotal: 6m 44s\tremaining: 20.4s\n",
      "238:\tlearn: 1041.4207960\ttotal: 6m 45s\tremaining: 18.7s\n",
      "239:\tlearn: 1041.0741047\ttotal: 6m 47s\tremaining: 17s\n",
      "240:\tlearn: 1040.4286972\ttotal: 6m 49s\tremaining: 15.3s\n",
      "241:\tlearn: 1040.1114227\ttotal: 6m 50s\tremaining: 13.6s\n",
      "242:\tlearn: 1038.6599303\ttotal: 6m 52s\tremaining: 11.9s\n",
      "243:\tlearn: 1037.9279482\ttotal: 6m 53s\tremaining: 10.2s\n",
      "244:\tlearn: 1037.3274826\ttotal: 6m 55s\tremaining: 8.48s\n",
      "245:\tlearn: 1035.4387721\ttotal: 6m 56s\tremaining: 6.78s\n",
      "246:\tlearn: 1035.3207696\ttotal: 6m 58s\tremaining: 5.08s\n",
      "247:\tlearn: 1034.6970501\ttotal: 7m\tremaining: 3.39s\n",
      "248:\tlearn: 1033.7557926\ttotal: 7m 1s\tremaining: 1.69s\n",
      "249:\tlearn: 1032.8004445\ttotal: 7m 3s\tremaining: 0us\n"
     ]
    }
   ],
   "source": [
    "cbr_result = CatBoost_fit_predict('CatBoostRegressor', \n",
    "                     features_train, target_train, \n",
    "                     features_valid, target_valid, \n",
    "                     categories=categories)"
   ]
  },
  {
   "cell_type": "code",
   "execution_count": 87,
   "metadata": {},
   "outputs": [],
   "source": [
    "results.append(cbr_result)"
   ]
  },
  {
   "cell_type": "code",
   "execution_count": 88,
   "metadata": {},
   "outputs": [
    {
     "data": {
      "text/html": [
       "<div>\n",
       "<style scoped>\n",
       "    .dataframe tbody tr th:only-of-type {\n",
       "        vertical-align: middle;\n",
       "    }\n",
       "\n",
       "    .dataframe tbody tr th {\n",
       "        vertical-align: top;\n",
       "    }\n",
       "\n",
       "    .dataframe thead th {\n",
       "        text-align: right;\n",
       "    }\n",
       "</style>\n",
       "<table border=\"1\" class=\"dataframe\">\n",
       "  <thead>\n",
       "    <tr style=\"text-align: right;\">\n",
       "      <th></th>\n",
       "      <th>Модель</th>\n",
       "      <th>Параметры</th>\n",
       "      <th>Время обучения</th>\n",
       "      <th>Время предсказания</th>\n",
       "      <th>RMSE</th>\n",
       "    </tr>\n",
       "  </thead>\n",
       "  <tbody>\n",
       "    <tr>\n",
       "      <th>0</th>\n",
       "      <td>LinearRegression</td>\n",
       "      <td>NaN</td>\n",
       "      <td>2.446442</td>\n",
       "      <td>0.104731</td>\n",
       "      <td>2702.222076</td>\n",
       "    </tr>\n",
       "    <tr>\n",
       "      <th>1</th>\n",
       "      <td>LGBMRegressor</td>\n",
       "      <td>{'depth': 13, 'n_estimators': 150}</td>\n",
       "      <td>0.751824</td>\n",
       "      <td>0.160942</td>\n",
       "      <td>1745.507149</td>\n",
       "    </tr>\n",
       "    <tr>\n",
       "      <th>2</th>\n",
       "      <td>CatBoostRegressor</td>\n",
       "      <td>{'depth': 13, 'iterations': 250}</td>\n",
       "      <td>101.537832</td>\n",
       "      <td>0.304239</td>\n",
       "      <td>1640.285098</td>\n",
       "    </tr>\n",
       "  </tbody>\n",
       "</table>\n",
       "</div>"
      ],
      "text/plain": [
       "              Модель                           Параметры  Время обучения  \\\n",
       "0   LinearRegression                                 NaN        2.446442   \n",
       "1      LGBMRegressor  {'depth': 13, 'n_estimators': 150}        0.751824   \n",
       "2  CatBoostRegressor    {'depth': 13, 'iterations': 250}      101.537832   \n",
       "\n",
       "   Время предсказания         RMSE  \n",
       "0            0.104731  2702.222076  \n",
       "1            0.160942  1745.507149  \n",
       "2            0.304239  1640.285098  "
      ]
     },
     "execution_count": 88,
     "metadata": {},
     "output_type": "execute_result"
    }
   ],
   "source": [
    "pd.DataFrame(results)"
   ]
  },
  {
   "cell_type": "markdown",
   "metadata": {},
   "source": [
    "**CatBoostRegressor** имеет лучший показатель **RMSE**, время предсказания меньше чем у линейной регрессии и **LGBMRegressor**, но время на обучение во много раз превышает линейную регрессию и **LGBMRegressor**."
   ]
  },
  {
   "cell_type": "markdown",
   "metadata": {},
   "source": [
    "### Вывод"
   ]
  },
  {
   "cell_type": "markdown",
   "metadata": {},
   "source": [
    "Лучшей по показателю **RMSE** и времени обучения стала модель **LGBMRegressor**, но время предсказания у неё очень высокое. При выборе оптимальной модели нужно отталкиваться от цели и задачи. **CatBoostRegressor** на большом количестве данных будет очень долго обучаться, но время предсказания у него одно из лучших. Но если смотреть в совокупности на все параметры, то лучше использовать **LGBMRegressor**, у него хороший результат **RMSE**, самая высокая скорость обучения и небольшое время на предсказание."
   ]
  },
  {
   "cell_type": "markdown",
   "metadata": {},
   "source": [
    "## Анализ моделей"
   ]
  },
  {
   "cell_type": "markdown",
   "metadata": {},
   "source": [
    "Сравним работу нашей модели **LGBMRegressor** с работой случайной модели. Для этого создадим и обучим модель **DummyRegressor**."
   ]
  },
  {
   "cell_type": "code",
   "execution_count": 89,
   "metadata": {},
   "outputs": [],
   "source": [
    "dummy = DummyRegressor(strategy='median')"
   ]
  },
  {
   "cell_type": "code",
   "execution_count": 91,
   "metadata": {},
   "outputs": [
    {
     "name": "stdout",
     "output_type": "stream",
     "text": [
      "End time fit:  0.005080223083496094\n",
      "End time predict:  0.0006351470947265625\n"
     ]
    }
   ],
   "source": [
    "dummy_result = fit_predict_time('DummyRegressor',\n",
    "                              dummy,\n",
    "                              features_train,\n",
    "                              target_train,\n",
    "                              features_valid,\n",
    "                              target_valid)"
   ]
  },
  {
   "cell_type": "code",
   "execution_count": 92,
   "metadata": {},
   "outputs": [],
   "source": [
    "results.append(dummy_result)"
   ]
  },
  {
   "cell_type": "code",
   "execution_count": 93,
   "metadata": {},
   "outputs": [
    {
     "data": {
      "text/html": [
       "<div>\n",
       "<style scoped>\n",
       "    .dataframe tbody tr th:only-of-type {\n",
       "        vertical-align: middle;\n",
       "    }\n",
       "\n",
       "    .dataframe tbody tr th {\n",
       "        vertical-align: top;\n",
       "    }\n",
       "\n",
       "    .dataframe thead th {\n",
       "        text-align: right;\n",
       "    }\n",
       "</style>\n",
       "<table border=\"1\" class=\"dataframe\">\n",
       "  <thead>\n",
       "    <tr style=\"text-align: right;\">\n",
       "      <th></th>\n",
       "      <th>Модель</th>\n",
       "      <th>Параметры</th>\n",
       "      <th>Время обучения</th>\n",
       "      <th>Время предсказания</th>\n",
       "      <th>RMSE</th>\n",
       "    </tr>\n",
       "  </thead>\n",
       "  <tbody>\n",
       "    <tr>\n",
       "      <th>0</th>\n",
       "      <td>LinearRegression</td>\n",
       "      <td>NaN</td>\n",
       "      <td>2.446442</td>\n",
       "      <td>0.104731</td>\n",
       "      <td>2702.222076</td>\n",
       "    </tr>\n",
       "    <tr>\n",
       "      <th>1</th>\n",
       "      <td>LGBMRegressor</td>\n",
       "      <td>{'depth': 13, 'n_estimators': 150}</td>\n",
       "      <td>0.751824</td>\n",
       "      <td>0.160942</td>\n",
       "      <td>1745.507149</td>\n",
       "    </tr>\n",
       "    <tr>\n",
       "      <th>2</th>\n",
       "      <td>CatBoostRegressor</td>\n",
       "      <td>{'depth': 13, 'iterations': 250}</td>\n",
       "      <td>101.537832</td>\n",
       "      <td>0.304239</td>\n",
       "      <td>1640.285098</td>\n",
       "    </tr>\n",
       "    <tr>\n",
       "      <th>3</th>\n",
       "      <td>DummyRegressor</td>\n",
       "      <td>NaN</td>\n",
       "      <td>0.005080</td>\n",
       "      <td>0.000635</td>\n",
       "      <td>4825.838978</td>\n",
       "    </tr>\n",
       "  </tbody>\n",
       "</table>\n",
       "</div>"
      ],
      "text/plain": [
       "              Модель                           Параметры  Время обучения  \\\n",
       "0   LinearRegression                                 NaN        2.446442   \n",
       "1      LGBMRegressor  {'depth': 13, 'n_estimators': 150}        0.751824   \n",
       "2  CatBoostRegressor    {'depth': 13, 'iterations': 250}      101.537832   \n",
       "3     DummyRegressor                                 NaN        0.005080   \n",
       "\n",
       "   Время предсказания         RMSE  \n",
       "0            0.104731  2702.222076  \n",
       "1            0.160942  1745.507149  \n",
       "2            0.304239  1640.285098  \n",
       "3            0.000635  4825.838978  "
      ]
     },
     "execution_count": 93,
     "metadata": {},
     "output_type": "execute_result"
    }
   ],
   "source": [
    "pd.DataFrame(results)"
   ]
  },
  {
   "cell_type": "markdown",
   "metadata": {},
   "source": [
    "### Вывод"
   ]
  },
  {
   "cell_type": "markdown",
   "metadata": {},
   "source": [
    "Как мы видим, модель **DummyRegressor** показала самый наихудший резульат по предсказанию **RMSE**. Поэтому, в данном случае, выбор модели **LGBMRegressor** полностью оправдан"
   ]
  },
  {
   "cell_type": "markdown",
   "metadata": {},
   "source": [
    "## Общий вывод"
   ]
  },
  {
   "cell_type": "markdown",
   "metadata": {},
   "source": [
    "Во время работы с проектом мы загрузили данные и посмотрели на них. Выполнили следующее:\n",
    "На данном этапе мы провели предобработку данных:\n",
    "\n",
    "1) Привели названия столбцов к snake_case \n",
    "\n",
    "2) Удалили столбцы которые никак не влияют на стоимость автомобиля:\n",
    "\n",
    "- date_crawled — дата скачивания анкеты из базы\n",
    "- registration_month — месяц регистрации автомобиля (у нас есть год регистрации)\n",
    "- date_created — дата создания анкеты\n",
    "- number_of_pictures — количество фотографий автомобиля\n",
    "- postal_code — почтовый индекс владельца анкеты (пользователя)\n",
    "- last_seen — дата последней активности пользователя  \n",
    "\n",
    "3) Обработали пропущенные значения:  \n",
    "\n",
    "- Пропущенные значения столбца `model` заменили на **unknown**  \n",
    "- Пропущенные значения столбца `gearbox` заменили на **unknown**  \n",
    "- Пропущенные значения столбца `fuel_type` заменили на **unknown** и объеденили значения **petrol** и **gasoline** в одно тк это одно и тоже на разных языках  \n",
    "- Пропущенные значения столбца `vehicle_type` заменили на **unknown**  \n",
    "- Пропущенные значения столбца `not_repaired` заменили на **unknown** \n",
    "\n",
    "Таким образом мы получили 2392 шт неинформативных строк, это составляет 0.68 % от данных, поэтому мы их удалили.  \n",
    "\n",
    "4) Обработали выбросы\n",
    "- Выбросы столбца `price` равные 0 мы отбросили тк вряд ли кто-то отдает свой автомобиль бесплатно  \n",
    "- Выбросы столбца `power`, однозначно, что бала допущенна какая то ошибка при выгрузке данных. Значения мощности, которые выше 1000 л.с. и ниже 40 л.с., мы приравняли к нулю, затем сгруппировали данные по бренду, модели, типу кузова, типу топлива, типу коробки передач и году регистрации и присвоили среднее значение мощности нулевым значениям.\n",
    "- Выбросы столбца `registration_year`, мы отбросили значения ниже 1970 года и выше 2022 года  \n",
    "- Выбросы столбца `kilometer`, данный столбец выглядит нормально поэтому мы его не трогали  \n",
    "\n",
    "На данном этапе мы обучили следующие модели:\n",
    "\n",
    "1) Модель **LinearRegression** и получили результаты:  \n",
    "- Время обучения: 2.446442\t\n",
    "- Время предсказания: 0.104731  \t\n",
    "- **RMSE**: 2702.222076  \n",
    "\n",
    "2) Модель **LGBMRegressor** и получили результаты: \t\t\n",
    "- Время обучения: 0.751824\t\n",
    "- Время предсказания: 0.160942  \t\n",
    "- **RMSE**: 1745.507149 \n",
    "\n",
    "3) Модель **CatBoostRegressor** и получили результаты:  \n",
    "- Время обучения: 101.537832\t\n",
    "- Время предсказания: 0.304239 \t\n",
    "- **RMSE**: 1640.285098\n",
    "\n",
    "Лучшей по показателю **RMSE** и времени обучения стала модель **LGBMRegressor**, но время предсказания у неё очень высокое. При выборе оптимальной модели нужно отталкиваться от цели и задачи. **CatBoostRegressor** на большом количестве данных будет очень долго обучаться, но время предсказания у него одно из лучших. Но если смотреть в совокупности на все параметры, то лучше использовать **LGBMRegressor**, у него хороший результат **RMSE**, самая высокая скорость обучения и небольшое время на предсказание.\n",
    "\n",
    "Далее мы сравнили работу нашей модели **LGBMRegressor** с работой случайной модели. Для этого мы создали и обучили модель **DummyRegressor**.  \n",
    "Модель **DummyRegressor** показала самый наихудший резульат по предсказанию **RMSE** равный 4820.182922. Поэтому, в данном случае, выбор модели **LGBMRegressor** полностью оправдан"
   ]
  },
  {
   "cell_type": "code",
   "execution_count": null,
   "metadata": {},
   "outputs": [],
   "source": []
  }
 ],
 "metadata": {
  "ExecuteTimeLog": [
   {
    "duration": 4218,
    "start_time": "2022-04-23T13:33:59.259Z"
   },
   {
    "duration": 808,
    "start_time": "2022-04-23T13:34:03.479Z"
   },
   {
    "duration": 25,
    "start_time": "2022-04-23T13:34:04.288Z"
   },
   {
    "duration": 140,
    "start_time": "2022-04-23T13:34:04.315Z"
   },
   {
    "duration": 110,
    "start_time": "2022-04-23T13:34:04.457Z"
   },
   {
    "duration": 245,
    "start_time": "2022-04-23T13:34:04.569Z"
   },
   {
    "duration": 441,
    "start_time": "2022-04-23T13:34:04.816Z"
   },
   {
    "duration": 458,
    "start_time": "2022-04-23T13:34:05.259Z"
   },
   {
    "duration": 451,
    "start_time": "2022-04-23T13:34:05.718Z"
   },
   {
    "duration": 3,
    "start_time": "2022-04-23T13:34:06.173Z"
   },
   {
    "duration": 38,
    "start_time": "2022-04-23T13:34:06.178Z"
   },
   {
    "duration": 11,
    "start_time": "2022-04-23T13:34:06.218Z"
   },
   {
    "duration": 180,
    "start_time": "2022-04-23T13:34:06.231Z"
   },
   {
    "duration": 29,
    "start_time": "2022-04-23T13:34:06.413Z"
   },
   {
    "duration": 36,
    "start_time": "2022-04-23T13:34:06.444Z"
   },
   {
    "duration": 43,
    "start_time": "2022-04-23T13:34:06.482Z"
   },
   {
    "duration": 29,
    "start_time": "2022-04-23T13:34:06.526Z"
   },
   {
    "duration": 52,
    "start_time": "2022-04-23T13:34:06.557Z"
   },
   {
    "duration": 22,
    "start_time": "2022-04-23T13:34:06.611Z"
   },
   {
    "duration": 30,
    "start_time": "2022-04-23T13:34:06.635Z"
   },
   {
    "duration": 55,
    "start_time": "2022-04-23T13:34:06.667Z"
   },
   {
    "duration": 45,
    "start_time": "2022-04-23T13:34:06.724Z"
   },
   {
    "duration": 50,
    "start_time": "2022-04-23T13:34:06.770Z"
   },
   {
    "duration": 33,
    "start_time": "2022-04-23T13:34:06.822Z"
   },
   {
    "duration": 21,
    "start_time": "2022-04-23T13:34:06.857Z"
   },
   {
    "duration": 54,
    "start_time": "2022-04-23T13:34:06.880Z"
   },
   {
    "duration": 22,
    "start_time": "2022-04-23T13:34:06.936Z"
   },
   {
    "duration": 181,
    "start_time": "2022-04-23T13:34:06.961Z"
   },
   {
    "duration": 98,
    "start_time": "2022-04-23T13:34:07.144Z"
   },
   {
    "duration": 4,
    "start_time": "2022-04-23T13:34:07.243Z"
   },
   {
    "duration": 272,
    "start_time": "2022-04-23T13:34:07.248Z"
   },
   {
    "duration": 102,
    "start_time": "2022-04-23T13:34:07.521Z"
   },
   {
    "duration": 4,
    "start_time": "2022-04-23T13:34:07.624Z"
   },
   {
    "duration": 5,
    "start_time": "2022-04-23T13:34:07.630Z"
   },
   {
    "duration": 505,
    "start_time": "2022-04-23T13:34:07.636Z"
   },
   {
    "duration": 9,
    "start_time": "2022-04-23T13:34:08.143Z"
   },
   {
    "duration": 80,
    "start_time": "2022-04-23T13:34:08.154Z"
   },
   {
    "duration": 21,
    "start_time": "2022-04-23T13:34:08.236Z"
   },
   {
    "duration": 10,
    "start_time": "2022-04-23T13:34:08.259Z"
   },
   {
    "duration": 202,
    "start_time": "2022-04-23T13:34:08.271Z"
   },
   {
    "duration": 12999,
    "start_time": "2022-04-23T13:34:08.474Z"
   },
   {
    "duration": 32,
    "start_time": "2022-04-23T13:34:21.475Z"
   },
   {
    "duration": 12284,
    "start_time": "2022-04-23T13:34:21.509Z"
   },
   {
    "duration": 14,
    "start_time": "2022-04-23T13:34:33.794Z"
   },
   {
    "duration": 24,
    "start_time": "2022-04-23T13:34:33.809Z"
   },
   {
    "duration": 8,
    "start_time": "2022-04-23T13:34:33.834Z"
   },
   {
    "duration": 7,
    "start_time": "2022-04-23T13:34:33.844Z"
   },
   {
    "duration": 17,
    "start_time": "2022-04-23T13:34:33.853Z"
   },
   {
    "duration": 123,
    "start_time": "2022-04-23T13:34:33.871Z"
   },
   {
    "duration": 47060,
    "start_time": "2022-04-23T13:34:33.995Z"
   },
   {
    "duration": 27,
    "start_time": "2022-04-23T13:35:21.057Z"
   },
   {
    "duration": 45137,
    "start_time": "2022-04-23T13:35:21.085Z"
   },
   {
    "duration": 8,
    "start_time": "2022-04-23T13:36:06.223Z"
   },
   {
    "duration": 26,
    "start_time": "2022-04-23T13:36:06.232Z"
   },
   {
    "duration": 3877,
    "start_time": "2022-04-23T13:36:06.260Z"
   },
   {
    "duration": 609,
    "start_time": "2022-04-23T13:36:10.138Z"
   },
   {
    "duration": 14,
    "start_time": "2022-04-23T13:36:10.749Z"
   },
   {
    "duration": 175,
    "start_time": "2022-04-23T13:36:10.764Z"
   },
   {
    "duration": 742,
    "start_time": "2022-04-23T13:36:10.940Z"
   },
   {
    "duration": 781,
    "start_time": "2022-04-23T13:36:11.684Z"
   },
   {
    "duration": 6,
    "start_time": "2022-04-23T13:36:12.467Z"
   },
   {
    "duration": 34,
    "start_time": "2022-04-23T13:36:12.474Z"
   },
   {
    "duration": 136,
    "start_time": "2022-04-23T13:36:12.509Z"
   },
   {
    "duration": 193,
    "start_time": "2022-04-23T13:36:23.855Z"
   },
   {
    "duration": 12,
    "start_time": "2022-04-23T13:36:29.734Z"
   },
   {
    "duration": 66,
    "start_time": "2022-04-23T13:46:54.977Z"
   },
   {
    "duration": 69,
    "start_time": "2022-04-23T13:51:38.488Z"
   },
   {
    "duration": 2560,
    "start_time": "2022-04-25T06:18:26.328Z"
   },
   {
    "duration": 1295,
    "start_time": "2022-04-25T06:18:28.891Z"
   },
   {
    "duration": 28,
    "start_time": "2022-04-25T06:18:30.188Z"
   },
   {
    "duration": 203,
    "start_time": "2022-04-25T06:18:30.219Z"
   },
   {
    "duration": 190,
    "start_time": "2022-04-25T06:18:30.425Z"
   },
   {
    "duration": 379,
    "start_time": "2022-04-25T06:18:30.618Z"
   },
   {
    "duration": 806,
    "start_time": "2022-04-25T06:18:31.000Z"
   },
   {
    "duration": 839,
    "start_time": "2022-04-25T06:18:31.809Z"
   },
   {
    "duration": 788,
    "start_time": "2022-04-25T06:18:32.652Z"
   },
   {
    "duration": 15,
    "start_time": "2022-04-25T06:18:33.444Z"
   },
   {
    "duration": 57,
    "start_time": "2022-04-25T06:18:33.461Z"
   },
   {
    "duration": 20,
    "start_time": "2022-04-25T06:18:33.521Z"
   },
   {
    "duration": 356,
    "start_time": "2022-04-25T06:18:33.553Z"
   },
   {
    "duration": 58,
    "start_time": "2022-04-25T06:18:33.911Z"
   },
   {
    "duration": 46,
    "start_time": "2022-04-25T06:18:33.971Z"
   },
   {
    "duration": 71,
    "start_time": "2022-04-25T06:18:34.019Z"
   },
   {
    "duration": 78,
    "start_time": "2022-04-25T06:18:34.093Z"
   },
   {
    "duration": 88,
    "start_time": "2022-04-25T06:18:34.174Z"
   },
   {
    "duration": 42,
    "start_time": "2022-04-25T06:18:34.266Z"
   },
   {
    "duration": 53,
    "start_time": "2022-04-25T06:18:34.310Z"
   },
   {
    "duration": 50,
    "start_time": "2022-04-25T06:18:34.365Z"
   },
   {
    "duration": 99,
    "start_time": "2022-04-25T06:18:34.417Z"
   },
   {
    "duration": 46,
    "start_time": "2022-04-25T06:18:34.518Z"
   },
   {
    "duration": 75,
    "start_time": "2022-04-25T06:18:34.567Z"
   },
   {
    "duration": 44,
    "start_time": "2022-04-25T06:18:34.644Z"
   },
   {
    "duration": 88,
    "start_time": "2022-04-25T06:18:34.691Z"
   },
   {
    "duration": 30,
    "start_time": "2022-04-25T06:18:34.781Z"
   },
   {
    "duration": 244,
    "start_time": "2022-04-25T06:18:34.817Z"
   },
   {
    "duration": 145,
    "start_time": "2022-04-25T06:18:35.064Z"
   },
   {
    "duration": 5,
    "start_time": "2022-04-25T06:18:35.211Z"
   },
   {
    "duration": 429,
    "start_time": "2022-04-25T06:18:35.218Z"
   },
   {
    "duration": 128,
    "start_time": "2022-04-25T06:18:35.651Z"
   },
   {
    "duration": 7,
    "start_time": "2022-04-25T06:18:35.781Z"
   },
   {
    "duration": 7,
    "start_time": "2022-04-25T06:18:35.791Z"
   },
   {
    "duration": 1267,
    "start_time": "2022-04-25T06:18:35.801Z"
   },
   {
    "duration": 15,
    "start_time": "2022-04-25T06:18:37.071Z"
   },
   {
    "duration": 123,
    "start_time": "2022-04-25T06:18:37.089Z"
   },
   {
    "duration": 46,
    "start_time": "2022-04-25T06:18:37.215Z"
   },
   {
    "duration": 15,
    "start_time": "2022-04-25T06:18:37.264Z"
   },
   {
    "duration": 480,
    "start_time": "2022-04-25T06:18:37.282Z"
   },
   {
    "duration": 22757,
    "start_time": "2022-04-25T06:18:37.765Z"
   },
   {
    "duration": 41,
    "start_time": "2022-04-25T06:19:00.524Z"
   },
   {
    "duration": 23871,
    "start_time": "2022-04-25T06:19:00.567Z"
   },
   {
    "duration": 31,
    "start_time": "2022-04-25T06:19:24.441Z"
   },
   {
    "duration": 59,
    "start_time": "2022-04-25T06:19:24.475Z"
   },
   {
    "duration": 28,
    "start_time": "2022-04-25T06:19:24.536Z"
   },
   {
    "duration": 18,
    "start_time": "2022-04-25T06:19:24.567Z"
   },
   {
    "duration": 10,
    "start_time": "2022-04-25T06:19:24.588Z"
   },
   {
    "duration": 234,
    "start_time": "2022-04-25T06:19:24.600Z"
   },
   {
    "duration": 99894,
    "start_time": "2022-04-25T06:19:24.837Z"
   },
   {
    "duration": 50,
    "start_time": "2022-04-25T06:21:04.735Z"
   },
   {
    "duration": 86079,
    "start_time": "2022-04-25T06:21:04.787Z"
   },
   {
    "duration": 11,
    "start_time": "2022-04-25T06:22:30.871Z"
   },
   {
    "duration": 17,
    "start_time": "2022-04-25T06:22:30.885Z"
   },
   {
    "duration": 175,
    "start_time": "2022-04-25T06:22:30.905Z"
   },
   {
    "duration": 4977,
    "start_time": "2022-04-25T06:22:31.082Z"
   },
   {
    "duration": 1046,
    "start_time": "2022-04-25T06:22:36.062Z"
   },
   {
    "duration": 20,
    "start_time": "2022-04-25T06:22:37.110Z"
   },
   {
    "duration": 292,
    "start_time": "2022-04-25T06:22:37.132Z"
   },
   {
    "duration": 1272,
    "start_time": "2022-04-25T06:22:37.427Z"
   },
   {
    "duration": 1046,
    "start_time": "2022-04-25T06:22:38.702Z"
   },
   {
    "duration": 11,
    "start_time": "2022-04-25T06:22:39.755Z"
   },
   {
    "duration": 58,
    "start_time": "2022-04-25T06:22:39.768Z"
   },
   {
    "duration": 204,
    "start_time": "2022-04-25T06:22:39.834Z"
   },
   {
    "duration": 15,
    "start_time": "2022-04-25T06:26:23.910Z"
   },
   {
    "duration": 216,
    "start_time": "2022-04-25T06:26:26.248Z"
   },
   {
    "duration": 176,
    "start_time": "2022-04-25T06:26:49.022Z"
   },
   {
    "duration": 214,
    "start_time": "2022-04-25T06:27:26.430Z"
   },
   {
    "duration": 160,
    "start_time": "2022-04-25T06:27:40.436Z"
   },
   {
    "duration": 170,
    "start_time": "2022-04-25T06:27:50.657Z"
   },
   {
    "duration": 90,
    "start_time": "2022-04-25T06:27:58.063Z"
   },
   {
    "duration": 60,
    "start_time": "2022-04-25T06:28:08.327Z"
   },
   {
    "duration": 59,
    "start_time": "2022-04-25T06:28:19.516Z"
   },
   {
    "duration": 11,
    "start_time": "2022-04-25T06:29:14.513Z"
   },
   {
    "duration": 43,
    "start_time": "2022-04-25T06:29:35.165Z"
   },
   {
    "duration": 32,
    "start_time": "2022-04-25T06:30:55.184Z"
   },
   {
    "duration": 16,
    "start_time": "2022-04-25T06:31:08.122Z"
   },
   {
    "duration": 15,
    "start_time": "2022-04-25T06:31:27.053Z"
   },
   {
    "duration": 69,
    "start_time": "2022-04-25T06:32:24.576Z"
   },
   {
    "duration": 18,
    "start_time": "2022-04-25T06:33:00.650Z"
   },
   {
    "duration": 43,
    "start_time": "2022-04-25T06:34:05.081Z"
   },
   {
    "duration": 68,
    "start_time": "2022-04-25T06:34:34.233Z"
   },
   {
    "duration": 43,
    "start_time": "2022-04-25T06:34:44.791Z"
   },
   {
    "duration": 2002,
    "start_time": "2022-04-25T06:36:46.463Z"
   },
   {
    "duration": 16,
    "start_time": "2022-04-25T06:37:10.822Z"
   },
   {
    "duration": 21,
    "start_time": "2022-04-25T06:37:20.911Z"
   },
   {
    "duration": 49,
    "start_time": "2022-04-25T06:37:43.924Z"
   },
   {
    "duration": 76,
    "start_time": "2022-04-25T06:37:56.201Z"
   },
   {
    "duration": 12,
    "start_time": "2022-04-25T06:39:53.185Z"
   },
   {
    "duration": 13,
    "start_time": "2022-04-25T06:40:22.321Z"
   },
   {
    "duration": 17,
    "start_time": "2022-04-25T06:40:26.145Z"
   },
   {
    "duration": 8,
    "start_time": "2022-04-25T06:43:06.808Z"
   },
   {
    "duration": 49,
    "start_time": "2022-04-25T06:43:28.433Z"
   },
   {
    "duration": 13,
    "start_time": "2022-04-25T06:44:55.637Z"
   },
   {
    "duration": 42,
    "start_time": "2022-04-25T06:44:58.005Z"
   },
   {
    "duration": 42,
    "start_time": "2022-04-25T06:44:59.992Z"
   },
   {
    "duration": 41,
    "start_time": "2022-04-25T06:46:59.684Z"
   },
   {
    "duration": 37,
    "start_time": "2022-04-25T06:47:25.696Z"
   },
   {
    "duration": 992,
    "start_time": "2022-04-25T06:47:49.319Z"
   },
   {
    "duration": 30,
    "start_time": "2022-04-25T06:48:02.874Z"
   },
   {
    "duration": 12,
    "start_time": "2022-04-25T06:49:13.935Z"
   },
   {
    "duration": 12,
    "start_time": "2022-04-25T06:49:18.735Z"
   },
   {
    "duration": 5,
    "start_time": "2022-04-25T06:57:02.837Z"
   },
   {
    "duration": 6,
    "start_time": "2022-04-25T06:57:23.530Z"
   },
   {
    "duration": 7,
    "start_time": "2022-04-25T06:57:57.379Z"
   },
   {
    "duration": 4,
    "start_time": "2022-04-25T06:57:59.368Z"
   },
   {
    "duration": 6,
    "start_time": "2022-04-25T06:58:14.275Z"
   },
   {
    "duration": 5,
    "start_time": "2022-04-25T06:58:24.271Z"
   }
  ],
  "kernelspec": {
   "display_name": "Python 3 (ipykernel)",
   "language": "python",
   "name": "python3"
  },
  "language_info": {
   "codemirror_mode": {
    "name": "ipython",
    "version": 3
   },
   "file_extension": ".py",
   "mimetype": "text/x-python",
   "name": "python",
   "nbconvert_exporter": "python",
   "pygments_lexer": "ipython3",
   "version": "3.9.7"
  },
  "toc": {
   "base_numbering": 1,
   "nav_menu": {},
   "number_sections": true,
   "sideBar": true,
   "skip_h1_title": true,
   "title_cell": "Содержание",
   "title_sidebar": "Contents",
   "toc_cell": true,
   "toc_position": {
    "height": "579px",
    "left": "21px",
    "top": "110px",
    "width": "428.09375px"
   },
   "toc_section_display": true,
   "toc_window_display": false
  }
 },
 "nbformat": 4,
 "nbformat_minor": 2
}
