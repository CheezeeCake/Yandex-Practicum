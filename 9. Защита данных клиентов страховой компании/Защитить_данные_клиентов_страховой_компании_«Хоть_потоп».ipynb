{
 "cells": [
  {
   "cell_type": "markdown",
   "metadata": {
    "toc": true
   },
   "source": [
    "<h1>Содержание<span class=\"tocSkip\"></span></h1>\n",
    "<div class=\"toc\"><ul class=\"toc-item\"><li><span><a href=\"#Загрузка-данных\" data-toc-modified-id=\"Загрузка-данных-1\"><span class=\"toc-item-num\">1&nbsp;&nbsp;</span>Загрузка данных</a></span><ul class=\"toc-item\"><li><span><a href=\"#Пропущенные-значения-и-дубликаты\" data-toc-modified-id=\"Пропущенные-значения-и-дубликаты-1.1\"><span class=\"toc-item-num\">1.1&nbsp;&nbsp;</span>Пропущенные значения и дубликаты</a></span></li><li><span><a href=\"#Названия-столбцов\" data-toc-modified-id=\"Названия-столбцов-1.2\"><span class=\"toc-item-num\">1.2&nbsp;&nbsp;</span>Названия столбцов</a></span></li><li><span><a href=\"#Распределение-данных\" data-toc-modified-id=\"Распределение-данных-1.3\"><span class=\"toc-item-num\">1.3&nbsp;&nbsp;</span>Распределение данных</a></span></li><li><span><a href=\"#Вывод\" data-toc-modified-id=\"Вывод-1.4\"><span class=\"toc-item-num\">1.4&nbsp;&nbsp;</span>Вывод</a></span></li></ul></li><li><span><a href=\"#Умножение-матриц\" data-toc-modified-id=\"Умножение-матриц-2\"><span class=\"toc-item-num\">2&nbsp;&nbsp;</span>Умножение матриц</a></span></li><li><span><a href=\"#Алгоритм-преобразования\" data-toc-modified-id=\"Алгоритм-преобразования-3\"><span class=\"toc-item-num\">3&nbsp;&nbsp;</span>Алгоритм преобразования</a></span><ul class=\"toc-item\"><li><span><a href=\"#Вывод\" data-toc-modified-id=\"Вывод-3.1\"><span class=\"toc-item-num\">3.1&nbsp;&nbsp;</span>Вывод</a></span></li></ul></li><li><span><a href=\"#Проверка-алгоритма\" data-toc-modified-id=\"Проверка-алгоритма-4\"><span class=\"toc-item-num\">4&nbsp;&nbsp;</span>Проверка алгоритма</a></span><ul class=\"toc-item\"><li><span><a href=\"#Вывод\" data-toc-modified-id=\"Вывод-4.1\"><span class=\"toc-item-num\">4.1&nbsp;&nbsp;</span>Вывод</a></span></li></ul></li><li><span><a href=\"#Общий-вывод\" data-toc-modified-id=\"Общий-вывод-5\"><span class=\"toc-item-num\">5&nbsp;&nbsp;</span>Общий вывод</a></span></li><li><span><a href=\"#Чек-лист-проверки\" data-toc-modified-id=\"Чек-лист-проверки-6\"><span class=\"toc-item-num\">6&nbsp;&nbsp;</span>Чек-лист проверки</a></span></li></ul></div>"
   ]
  },
  {
   "cell_type": "markdown",
   "metadata": {},
   "source": [
    "# Защита персональных данных клиентов"
   ]
  },
  {
   "cell_type": "markdown",
   "metadata": {},
   "source": [
    "Вам нужно защитить данные клиентов страховой компании «Хоть потоп». Разработайте такой метод преобразования данных, чтобы по ним было сложно восстановить персональную информацию. Обоснуйте корректность его работы.\n",
    "\n",
    "Нужно защитить данные, чтобы при преобразовании качество моделей машинного обучения не ухудшилось. Подбирать наилучшую модель не требуется."
   ]
  },
  {
   "cell_type": "markdown",
   "metadata": {},
   "source": [
    "# Описание данных"
   ]
  },
  {
   "cell_type": "markdown",
   "metadata": {},
   "source": [
    "Набор данных находится в файле `/datasets/insurance.csv`.  \n",
    "\n",
    "**Признаки**: пол, возраст и зарплата застрахованного, количество членов его семьи.  \n",
    "**Целевой признак**: количество страховых выплат клиенту за последние 5 лет."
   ]
  },
  {
   "cell_type": "markdown",
   "metadata": {},
   "source": [
    "## Загрузка данных"
   ]
  },
  {
   "cell_type": "markdown",
   "metadata": {},
   "source": [
    "Импортируем неоюходимые библиотеки"
   ]
  },
  {
   "cell_type": "code",
   "execution_count": 1,
   "metadata": {},
   "outputs": [],
   "source": [
    "import pandas as pd\n",
    "import numpy as np\n",
    "import matplotlib.pyplot as plt\n",
    "import seaborn as sns\n",
    "from sklearn.preprocessing import StandardScaler\n",
    "from sklearn.linear_model import LinearRegression\n",
    "from sklearn.metrics import r2_score"
   ]
  },
  {
   "cell_type": "code",
   "execution_count": 2,
   "metadata": {},
   "outputs": [],
   "source": [
    "try:\n",
    "    df = pd.read_csv('insurance.csv')\n",
    "    \n",
    "except:\n",
    "    df = pd.read_csv('/datasets/insurance.csv')"
   ]
  },
  {
   "cell_type": "markdown",
   "metadata": {},
   "source": [
    "Посмотрим на наш датафрейм и выведем информацию по нему"
   ]
  },
  {
   "cell_type": "code",
   "execution_count": 3,
   "metadata": {},
   "outputs": [
    {
     "data": {
      "text/html": [
       "<div>\n",
       "<style scoped>\n",
       "    .dataframe tbody tr th:only-of-type {\n",
       "        vertical-align: middle;\n",
       "    }\n",
       "\n",
       "    .dataframe tbody tr th {\n",
       "        vertical-align: top;\n",
       "    }\n",
       "\n",
       "    .dataframe thead th {\n",
       "        text-align: right;\n",
       "    }\n",
       "</style>\n",
       "<table border=\"1\" class=\"dataframe\">\n",
       "  <thead>\n",
       "    <tr style=\"text-align: right;\">\n",
       "      <th></th>\n",
       "      <th>Пол</th>\n",
       "      <th>Возраст</th>\n",
       "      <th>Зарплата</th>\n",
       "      <th>Члены семьи</th>\n",
       "      <th>Страховые выплаты</th>\n",
       "    </tr>\n",
       "  </thead>\n",
       "  <tbody>\n",
       "    <tr>\n",
       "      <th>3066</th>\n",
       "      <td>0</td>\n",
       "      <td>21.0</td>\n",
       "      <td>45800.0</td>\n",
       "      <td>3</td>\n",
       "      <td>0</td>\n",
       "    </tr>\n",
       "    <tr>\n",
       "      <th>3351</th>\n",
       "      <td>1</td>\n",
       "      <td>30.0</td>\n",
       "      <td>41300.0</td>\n",
       "      <td>1</td>\n",
       "      <td>0</td>\n",
       "    </tr>\n",
       "    <tr>\n",
       "      <th>4545</th>\n",
       "      <td>0</td>\n",
       "      <td>31.0</td>\n",
       "      <td>47700.0</td>\n",
       "      <td>1</td>\n",
       "      <td>0</td>\n",
       "    </tr>\n",
       "    <tr>\n",
       "      <th>1052</th>\n",
       "      <td>0</td>\n",
       "      <td>29.0</td>\n",
       "      <td>40100.0</td>\n",
       "      <td>0</td>\n",
       "      <td>0</td>\n",
       "    </tr>\n",
       "    <tr>\n",
       "      <th>3688</th>\n",
       "      <td>1</td>\n",
       "      <td>39.0</td>\n",
       "      <td>37800.0</td>\n",
       "      <td>1</td>\n",
       "      <td>0</td>\n",
       "    </tr>\n",
       "    <tr>\n",
       "      <th>3587</th>\n",
       "      <td>1</td>\n",
       "      <td>22.0</td>\n",
       "      <td>29900.0</td>\n",
       "      <td>2</td>\n",
       "      <td>0</td>\n",
       "    </tr>\n",
       "    <tr>\n",
       "      <th>726</th>\n",
       "      <td>1</td>\n",
       "      <td>20.0</td>\n",
       "      <td>5300.0</td>\n",
       "      <td>1</td>\n",
       "      <td>0</td>\n",
       "    </tr>\n",
       "    <tr>\n",
       "      <th>3748</th>\n",
       "      <td>1</td>\n",
       "      <td>26.0</td>\n",
       "      <td>42200.0</td>\n",
       "      <td>1</td>\n",
       "      <td>0</td>\n",
       "    </tr>\n",
       "    <tr>\n",
       "      <th>2644</th>\n",
       "      <td>1</td>\n",
       "      <td>33.0</td>\n",
       "      <td>40000.0</td>\n",
       "      <td>1</td>\n",
       "      <td>0</td>\n",
       "    </tr>\n",
       "    <tr>\n",
       "      <th>2607</th>\n",
       "      <td>0</td>\n",
       "      <td>51.0</td>\n",
       "      <td>21800.0</td>\n",
       "      <td>0</td>\n",
       "      <td>2</td>\n",
       "    </tr>\n",
       "  </tbody>\n",
       "</table>\n",
       "</div>"
      ],
      "text/plain": [
       "      Пол  Возраст  Зарплата  Члены семьи  Страховые выплаты\n",
       "3066    0     21.0   45800.0            3                  0\n",
       "3351    1     30.0   41300.0            1                  0\n",
       "4545    0     31.0   47700.0            1                  0\n",
       "1052    0     29.0   40100.0            0                  0\n",
       "3688    1     39.0   37800.0            1                  0\n",
       "3587    1     22.0   29900.0            2                  0\n",
       "726     1     20.0    5300.0            1                  0\n",
       "3748    1     26.0   42200.0            1                  0\n",
       "2644    1     33.0   40000.0            1                  0\n",
       "2607    0     51.0   21800.0            0                  2"
      ]
     },
     "execution_count": 3,
     "metadata": {},
     "output_type": "execute_result"
    }
   ],
   "source": [
    "df.sample(10)"
   ]
  },
  {
   "cell_type": "code",
   "execution_count": 4,
   "metadata": {},
   "outputs": [
    {
     "name": "stdout",
     "output_type": "stream",
     "text": [
      "Размер датафрейма равен (5000, 5)\n"
     ]
    }
   ],
   "source": [
    "print('Размер датафрейма равен {}'.format(df.shape))"
   ]
  },
  {
   "cell_type": "code",
   "execution_count": 5,
   "metadata": {},
   "outputs": [
    {
     "name": "stdout",
     "output_type": "stream",
     "text": [
      "<class 'pandas.core.frame.DataFrame'>\n",
      "RangeIndex: 5000 entries, 0 to 4999\n",
      "Data columns (total 5 columns):\n",
      " #   Column             Non-Null Count  Dtype  \n",
      "---  ------             --------------  -----  \n",
      " 0   Пол                5000 non-null   int64  \n",
      " 1   Возраст            5000 non-null   float64\n",
      " 2   Зарплата           5000 non-null   float64\n",
      " 3   Члены семьи        5000 non-null   int64  \n",
      " 4   Страховые выплаты  5000 non-null   int64  \n",
      "dtypes: float64(2), int64(3)\n",
      "memory usage: 195.4 KB\n"
     ]
    }
   ],
   "source": [
    "df.info()"
   ]
  },
  {
   "cell_type": "code",
   "execution_count": 6,
   "metadata": {},
   "outputs": [
    {
     "data": {
      "text/html": [
       "<div>\n",
       "<style scoped>\n",
       "    .dataframe tbody tr th:only-of-type {\n",
       "        vertical-align: middle;\n",
       "    }\n",
       "\n",
       "    .dataframe tbody tr th {\n",
       "        vertical-align: top;\n",
       "    }\n",
       "\n",
       "    .dataframe thead th {\n",
       "        text-align: right;\n",
       "    }\n",
       "</style>\n",
       "<table border=\"1\" class=\"dataframe\">\n",
       "  <thead>\n",
       "    <tr style=\"text-align: right;\">\n",
       "      <th></th>\n",
       "      <th>count</th>\n",
       "      <th>mean</th>\n",
       "      <th>std</th>\n",
       "      <th>min</th>\n",
       "      <th>25%</th>\n",
       "      <th>50%</th>\n",
       "      <th>75%</th>\n",
       "      <th>max</th>\n",
       "    </tr>\n",
       "  </thead>\n",
       "  <tbody>\n",
       "    <tr>\n",
       "      <th>Пол</th>\n",
       "      <td>5000.0</td>\n",
       "      <td>0.4990</td>\n",
       "      <td>0.500049</td>\n",
       "      <td>0.0</td>\n",
       "      <td>0.0</td>\n",
       "      <td>0.0</td>\n",
       "      <td>1.0</td>\n",
       "      <td>1.0</td>\n",
       "    </tr>\n",
       "    <tr>\n",
       "      <th>Возраст</th>\n",
       "      <td>5000.0</td>\n",
       "      <td>30.9528</td>\n",
       "      <td>8.440807</td>\n",
       "      <td>18.0</td>\n",
       "      <td>24.0</td>\n",
       "      <td>30.0</td>\n",
       "      <td>37.0</td>\n",
       "      <td>65.0</td>\n",
       "    </tr>\n",
       "    <tr>\n",
       "      <th>Зарплата</th>\n",
       "      <td>5000.0</td>\n",
       "      <td>39916.3600</td>\n",
       "      <td>9900.083569</td>\n",
       "      <td>5300.0</td>\n",
       "      <td>33300.0</td>\n",
       "      <td>40200.0</td>\n",
       "      <td>46600.0</td>\n",
       "      <td>79000.0</td>\n",
       "    </tr>\n",
       "    <tr>\n",
       "      <th>Члены семьи</th>\n",
       "      <td>5000.0</td>\n",
       "      <td>1.1942</td>\n",
       "      <td>1.091387</td>\n",
       "      <td>0.0</td>\n",
       "      <td>0.0</td>\n",
       "      <td>1.0</td>\n",
       "      <td>2.0</td>\n",
       "      <td>6.0</td>\n",
       "    </tr>\n",
       "    <tr>\n",
       "      <th>Страховые выплаты</th>\n",
       "      <td>5000.0</td>\n",
       "      <td>0.1480</td>\n",
       "      <td>0.463183</td>\n",
       "      <td>0.0</td>\n",
       "      <td>0.0</td>\n",
       "      <td>0.0</td>\n",
       "      <td>0.0</td>\n",
       "      <td>5.0</td>\n",
       "    </tr>\n",
       "  </tbody>\n",
       "</table>\n",
       "</div>"
      ],
      "text/plain": [
       "                    count        mean          std     min      25%      50%  \\\n",
       "Пол                5000.0      0.4990     0.500049     0.0      0.0      0.0   \n",
       "Возраст            5000.0     30.9528     8.440807    18.0     24.0     30.0   \n",
       "Зарплата           5000.0  39916.3600  9900.083569  5300.0  33300.0  40200.0   \n",
       "Члены семьи        5000.0      1.1942     1.091387     0.0      0.0      1.0   \n",
       "Страховые выплаты  5000.0      0.1480     0.463183     0.0      0.0      0.0   \n",
       "\n",
       "                       75%      max  \n",
       "Пол                    1.0      1.0  \n",
       "Возраст               37.0     65.0  \n",
       "Зарплата           46600.0  79000.0  \n",
       "Члены семьи            2.0      6.0  \n",
       "Страховые выплаты      0.0      5.0  "
      ]
     },
     "execution_count": 6,
     "metadata": {},
     "output_type": "execute_result"
    }
   ],
   "source": [
    "df.describe().T"
   ]
  },
  {
   "cell_type": "markdown",
   "metadata": {},
   "source": [
    "### Пропущенные значения и дубликаты"
   ]
  },
  {
   "cell_type": "markdown",
   "metadata": {},
   "source": [
    "Посмотрим на пропущенные значения"
   ]
  },
  {
   "cell_type": "code",
   "execution_count": 7,
   "metadata": {},
   "outputs": [
    {
     "data": {
      "text/plain": [
       "Пол                  0\n",
       "Возраст              0\n",
       "Зарплата             0\n",
       "Члены семьи          0\n",
       "Страховые выплаты    0\n",
       "dtype: int64"
      ]
     },
     "execution_count": 7,
     "metadata": {},
     "output_type": "execute_result"
    }
   ],
   "source": [
    "df.isna().sum()"
   ]
  },
  {
   "cell_type": "code",
   "execution_count": 8,
   "metadata": {},
   "outputs": [
    {
     "name": "stdout",
     "output_type": "stream",
     "text": [
      "Количество дубликатов в датафрейме равно 153\n"
     ]
    }
   ],
   "source": [
    "print('Количество дубликатов в датафрейме равно {}'.format(df.duplicated().sum()))"
   ]
  },
  {
   "cell_type": "markdown",
   "metadata": {},
   "source": [
    "Избавимся от дубликатов"
   ]
  },
  {
   "cell_type": "code",
   "execution_count": 9,
   "metadata": {},
   "outputs": [],
   "source": [
    "df = df.drop_duplicates()"
   ]
  },
  {
   "cell_type": "code",
   "execution_count": 10,
   "metadata": {},
   "outputs": [
    {
     "name": "stdout",
     "output_type": "stream",
     "text": [
      "Количество дубликатов в датафрейме равно 0\n"
     ]
    }
   ],
   "source": [
    "print('Количество дубликатов в датафрейме равно {}'.format(df.duplicated().sum()))"
   ]
  },
  {
   "cell_type": "code",
   "execution_count": 11,
   "metadata": {},
   "outputs": [
    {
     "name": "stdout",
     "output_type": "stream",
     "text": [
      "Размер датафрейма равен (4847, 5)\n"
     ]
    }
   ],
   "source": [
    "print('Размер датафрейма равен {}'.format(df.shape))"
   ]
  },
  {
   "cell_type": "markdown",
   "metadata": {},
   "source": [
    "### Названия столбцов"
   ]
  },
  {
   "cell_type": "markdown",
   "metadata": {},
   "source": [
    "Приведем названия столбцов к snake_case на английском языке"
   ]
  },
  {
   "cell_type": "code",
   "execution_count": 12,
   "metadata": {},
   "outputs": [],
   "source": [
    "df.columns = [\n",
    "    'gender',\n",
    "    'age',\n",
    "    'salary',\n",
    "    'family_members',\n",
    "    'insurance_payments'\n",
    "]"
   ]
  },
  {
   "cell_type": "markdown",
   "metadata": {},
   "source": [
    "### Распределение данных"
   ]
  },
  {
   "cell_type": "markdown",
   "metadata": {},
   "source": [
    "Посмотрим на расперделение в данных. Для этого напишем функцию **plot_hist**"
   ]
  },
  {
   "cell_type": "code",
   "execution_count": 13,
   "metadata": {},
   "outputs": [],
   "source": [
    "def plot_hist(df):\n",
    "\n",
    "    for col in df.columns:\n",
    "\n",
    "        fig, ax = plt.subplots(1, 2, figsize=(12, 5))\n",
    "\n",
    "        sns.histplot(data=df, x=col, ax=ax[0])\n",
    "        sns.boxplot(data=df[col], orient='h', ax=ax[1])\n",
    "        \n",
    "        ax[0].set_title(f'Распределение в столбце {col}')\n",
    "        ax[1].set_title(f'Ящик с усами столбца {col}')\n",
    "        ax[0].set_ylabel('Количество')\n",
    "\n",
    "        plt.show"
   ]
  },
  {
   "cell_type": "code",
   "execution_count": 14,
   "metadata": {
    "scrolled": false
   },
   "outputs": [
    {
     "data": {
      "image/png": "[encoded data removed]",
      "text/plain": [
       "<Figure size 864x360 with 2 Axes>"
      ]
     },
     "metadata": {
      "needs_background": "light"
     },
     "output_type": "display_data"
    },
    {
     "data": {
      "image/png": "[encoded data removed]",
      "text/plain": [
       "<Figure size 864x360 with 2 Axes>"
      ]
     },
     "metadata": {
      "needs_background": "light"
     },
     "output_type": "display_data"
    },
    {
     "data": {
      "image/png": "[encoded data removed]",
      "text/plain": [
       "<Figure size 864x360 with 2 Axes>"
      ]
     },
     "metadata": {
      "needs_background": "light"
     },
     "output_type": "display_data"
    },
    {
     "data": {
      "image/png": "[encoded data removed]",
      "text/plain": [
       "<Figure size 864x360 with 2 Axes>"
      ]
     },
     "metadata": {
      "needs_background": "light"
     },
     "output_type": "display_data"
    },
    {
     "data": {
      "image/png": "[encoded data removed]",
      "text/plain": [
       "<Figure size 864x360 with 2 Axes>"
      ]
     },
     "metadata": {
      "needs_background": "light"
     },
     "output_type": "display_data"
    }
   ],
   "source": [
    "plot_hist(df)"
   ]
  },
  {
   "cell_type": "markdown",
   "metadata": {},
   "source": [
    "### Вывод"
   ]
  },
  {
   "cell_type": "markdown",
   "metadata": {},
   "source": [
    "На данном этапе мы загрузили наши данные, исходный размер датафрейм составлял (5000, 5).  \n",
    "Далее мы посмотрели на данные и убедились, что в данных нет пропущенных значений, но есть дубликаты.\n",
    "Мы избавились от дубликатов и получили размер датафрейма равный (4847, 5).  \n",
    "После этого, мы привели названия столбцов к snake_case на английском языке и посмотрели на распределение данных, есть небольшое количество выбросов, но для дальнейшего анализа они сильно не повлияют, поэтому их трогать мы не будем.  \n",
    "Можно приступать к следующему этапу."
   ]
  },
  {
   "cell_type": "markdown",
   "metadata": {},
   "source": [
    "## Умножение матриц"
   ]
  },
  {
   "cell_type": "markdown",
   "metadata": {},
   "source": [
    "В этом задании вы можете записывать формулы в *Jupyter Notebook.*\n",
    "\n",
    "Чтобы записать формулу внутри текста, окружите её символами доллара \\\\$; если снаружи —  двойными символами \\\\$\\\\$. Эти формулы записываются на языке вёрстки *LaTeX.* \n",
    "\n",
    "Для примера мы записали формулы линейной регрессии. Можете их скопировать и отредактировать, чтобы решить задачу.\n",
    "\n",
    "Работать в *LaTeX* необязательно."
   ]
  },
  {
   "cell_type": "markdown",
   "metadata": {},
   "source": [
    "Обозначения:\n",
    "\n",
    "- $X$ — матрица признаков (нулевой столбец состоит из единиц)\n",
    "\n",
    "- $y$ — вектор целевого признака\n",
    "\n",
    "- $P$ — матрица, на которую умножаются признаки\n",
    "\n",
    "- $w$ — вектор весов линейной регрессии (нулевой элемент равен сдвигу)"
   ]
  },
  {
   "cell_type": "markdown",
   "metadata": {},
   "source": [
    "Предсказания:\n",
    "\n",
    "$$\n",
    "a = Xw\n",
    "$$\n",
    "\n",
    "Задача обучения:\n",
    "\n",
    "$$\n",
    "w = \\arg\\min_w MSE(Xw, y)\n",
    "$$\n",
    "\n",
    "Формула обучения:\n",
    "\n",
    "$$\n",
    "w = (X^T X)^{-1} X^T y\n",
    "$$"
   ]
  },
  {
   "cell_type": "markdown",
   "metadata": {},
   "source": [
    "Признаки умножают на обратимую матрицу. Изменится ли качество линейной регрессии? (Её можно обучить заново.)  \n",
    "Иными словами, если матрицу $X$ умножим на обратимую матрицу $P$, то при вычислении весов линейной регрессии $w$  предсказания  $a = Xw$ не изменятся.  \n",
    "Матрица $P^{-1}$ называется обратной матрицей по отношению к матрице $P$, если $P\\times P^{-1}$ = $Е$, где $Е$ — единичная матрица **n**-го порядка. Обратная матрица может существовать только для квадратных матриц."
   ]
  },
  {
   "cell_type": "markdown",
   "metadata": {},
   "source": [
    "**Ответ:**  \n",
    "При умножении матрицы признаков $X$ на обратимую матрицу $P$ получим те же предсказания модели, что и при изначальной матрице $X$\n",
    "\n",
    "**Обоснование:**  \n",
    "\n",
    "1)Подставим в нашу формулу обучения $w = (X^T X)^{-1} X^T y$ вместо матрицы $X$ произведение матрицы $X$ на обратимую матрицу $P$:\n",
    "\n",
    "$$w_{new} = ((XP)^T XP)^{-1} (XP)^T y $$  \n",
    "\n",
    "2) Транспонированное произведение матриц равно произведению транспонированных матриц, взятых в обратном порядке. Поэтому раскроем скобки $(XP)^T = P^T X^T$ и получим формулу:\n",
    "\n",
    "$$ w_{new} = (P^T X^T XP)^{-1} P^T X^T y  $$\n",
    "\n",
    "3) Вынесем $P^T$ и $P$ за скобку:\n",
    "\n",
    "$$ w_{new} = (P^T)^{-1} P^{-1} (X^T X)^{-1} P^T X^T y  $$\n",
    "\n",
    "4) Получаем что $P^T \\times (P^T)^{-1} = E$, запишем получившеюся формулу:\n",
    "\n",
    "$$ w_{new} =  P^{-1} (X^T X)^{-1} E X^T y =  P^{-1} (X^T X)^{-1} X^T y$$\n",
    "\n",
    "5) Можно заметить, что часть формулы похожа на формулу для обучения $w = (X^T X)^{-1} X^T y$, поэтому проведем замену:\n",
    "\n",
    "$$ w_{new} = P^{-1} w $$\n",
    "\n",
    "6) Теперь подставим $w_{new}$ и матрицу $XP$ в формулу предскзаний $a = Xw$:\n",
    "\n",
    "$$ a_{new} = XPP^{-1} w $$\n",
    "\n",
    "7) Матрица $P^{-1}$ является обратной матрицей по отношению к матрице $P$ и получаем что они равный еденичной матрице $P\\times P^{-1}$ = $Е$:\n",
    "\n",
    "$$ a_{new} = XEw $$\n",
    "\n",
    "$$ a_{new} = Xw $$\n",
    "\n",
    "$$ a_{new} = a $$"
   ]
  },
  {
   "cell_type": "markdown",
   "metadata": {},
   "source": [
    "## Алгоритм преобразования"
   ]
  },
  {
   "cell_type": "markdown",
   "metadata": {},
   "source": [
    "Количество признаков в наших данных равно 4, поэтому создадим обратимую матрицу размером 4 на 4. Для этого воспользуемся функцией из библиотеки **numpy**."
   ]
  },
  {
   "cell_type": "code",
   "execution_count": 15,
   "metadata": {},
   "outputs": [
    {
     "name": "stdout",
     "output_type": "stream",
     "text": [
      "Обратимая матрица P:\n"
     ]
    },
    {
     "data": {
      "text/plain": [
       "array([[63, 21, 89, 54],\n",
       "       [ 7, 62, 31, 50],\n",
       "       [74, 15, 52, 13],\n",
       "       [ 5, 14, 20, 96]])"
      ]
     },
     "metadata": {},
     "output_type": "display_data"
    }
   ],
   "source": [
    "P = np.random.randint(100, size=(4,4))\n",
    "print('Обратимая матрица P:')\n",
    "display(P)"
   ]
  },
  {
   "cell_type": "markdown",
   "metadata": {},
   "source": [
    "Проверим получившеюся матрицу на обратимость. Матрица $P^{-1}$ называется обратной матрицей по отношению к матрице $P$, если $P\\times P^{-1}$ = $Е$, где $Е$ — единичная матрица **n**-го порядка, у которой по главной диагонали располагаются еденицы, а все остальные нули"
   ]
  },
  {
   "cell_type": "code",
   "execution_count": 16,
   "metadata": {},
   "outputs": [
    {
     "data": {
      "text/plain": [
       "array([[ 1.,  0., -0.,  0.],\n",
       "       [ 0.,  1., -0., -0.],\n",
       "       [ 0.,  0.,  1., -0.],\n",
       "       [-0.,  0.,  0.,  1.]])"
      ]
     },
     "execution_count": 16,
     "metadata": {},
     "output_type": "execute_result"
    }
   ],
   "source": [
    "np.round(np.dot(P, np.linalg.inv(P)))"
   ]
  },
  {
   "cell_type": "markdown",
   "metadata": {},
   "source": [
    "Теперь выделим признаки и целевую переменную из нашего датафрейма. Целевой переменной будет столбец `insurance_payments`, а признаками остальные столбцы"
   ]
  },
  {
   "cell_type": "code",
   "execution_count": 17,
   "metadata": {},
   "outputs": [],
   "source": [
    "X = df.drop('insurance_payments', axis=1)\n",
    "y = df['insurance_payments']"
   ]
  },
  {
   "cell_type": "markdown",
   "metadata": {},
   "source": [
    "Проведем масштабирование признаков"
   ]
  },
  {
   "cell_type": "code",
   "execution_count": 18,
   "metadata": {},
   "outputs": [],
   "source": [
    "scaler = StandardScaler()\n",
    "scaler.fit(X)\n",
    "X_scaled = scaler.transform(X)"
   ]
  },
  {
   "cell_type": "markdown",
   "metadata": {},
   "source": [
    "Рассчитаем вектор весов для изначально матрицы по формуле $w = (X^T X)^{-1} X^T y$"
   ]
  },
  {
   "cell_type": "code",
   "execution_count": 19,
   "metadata": {},
   "outputs": [],
   "source": [
    "w = np.linalg.inv(np.dot(X_scaled.T, X_scaled)).dot(X_scaled.T).dot(y)"
   ]
  },
  {
   "cell_type": "markdown",
   "metadata": {},
   "source": [
    "Расчитаем вектор предсказаний по формуле $a = Xw$"
   ]
  },
  {
   "cell_type": "code",
   "execution_count": 20,
   "metadata": {},
   "outputs": [],
   "source": [
    "a = np.dot(X_scaled, w)"
   ]
  },
  {
   "cell_type": "markdown",
   "metadata": {},
   "source": [
    "Проведем те же манипуляции, но умножим исходную матрицу признаков $X$ на обратимую матрицу $P$"
   ]
  },
  {
   "cell_type": "code",
   "execution_count": 21,
   "metadata": {},
   "outputs": [],
   "source": [
    "XP = np.dot(X_scaled, P)\n",
    "\n",
    "w_new = np.linalg.inv(np.dot(XP.T, XP)).dot(XP.T).dot(y)\n",
    "\n",
    "a_new = np.dot(XP, w)"
   ]
  },
  {
   "cell_type": "markdown",
   "metadata": {},
   "source": [
    "Посмотрим, есть ли разница в между вектором предсказаний изначальной матрицы признаков и матрицы признаков умноженную на обратимую матрицу"
   ]
  },
  {
   "cell_type": "code",
   "execution_count": 22,
   "metadata": {},
   "outputs": [
    {
     "name": "stdout",
     "output_type": "stream",
     "text": [
      "Разница между векторами равна 0.0\n"
     ]
    }
   ],
   "source": [
    "print('Разница между векторами равна {}'.format(np.round((a - a_new).sum())))"
   ]
  },
  {
   "cell_type": "markdown",
   "metadata": {},
   "source": [
    "### Вывод"
   ]
  },
  {
   "cell_type": "markdown",
   "metadata": {},
   "source": [
    "Мы провели анализ, в котором проверили влияет ли качество предсказания при умножении матрицы признаков $X$ на обратимую матрицу $P$ и получили те же предсказания модели, что и при изначальной матрице $X$.  "
   ]
  },
  {
   "cell_type": "markdown",
   "metadata": {},
   "source": [
    "## Проверка алгоритма"
   ]
  },
  {
   "cell_type": "markdown",
   "metadata": {},
   "source": [
    "Напишем функцию для обучения модели Линейной регрессии и сравним метрики R2 при обучении модели на исходной матрице признаков и матрицы признаков умноженную на обратимую матрицу"
   ]
  },
  {
   "cell_type": "code",
   "execution_count": 23,
   "metadata": {},
   "outputs": [],
   "source": [
    "def lr_predict(X,y):\n",
    "    model = LinearRegression()\n",
    "    model.fit(X,y)\n",
    "    predictions = model.predict(X)\n",
    "    \n",
    "    return r2_score(y, predictions)"
   ]
  },
  {
   "cell_type": "code",
   "execution_count": 24,
   "metadata": {},
   "outputs": [],
   "source": [
    "X_r2 = lr_predict(X_scaled, y)"
   ]
  },
  {
   "cell_type": "code",
   "execution_count": 25,
   "metadata": {},
   "outputs": [
    {
     "name": "stdout",
     "output_type": "stream",
     "text": [
      "Метрика R2 модели обученной на исходной матрице признаков равна 0.4302\n"
     ]
    }
   ],
   "source": [
    "print('Метрика R2 модели обученной на исходной матрице признаков равна {:.4f}'.format(X_r2))"
   ]
  },
  {
   "cell_type": "code",
   "execution_count": 26,
   "metadata": {},
   "outputs": [],
   "source": [
    "XP_rs = lr_predict(XP, y)"
   ]
  },
  {
   "cell_type": "code",
   "execution_count": 27,
   "metadata": {},
   "outputs": [
    {
     "name": "stdout",
     "output_type": "stream",
     "text": [
      "Метрика R2 модели обученной на исходной матрице умноженной на обратимую матрицу равна 0.4302\n"
     ]
    }
   ],
   "source": [
    "print(\n",
    "    'Метрика R2 модели обученной на исходной матрице умноженной на обратимую матрицу равна {:.4f}'\n",
    "    .format(XP_rs))"
   ]
  },
  {
   "cell_type": "code",
   "execution_count": 28,
   "metadata": {},
   "outputs": [
    {
     "name": "stdout",
     "output_type": "stream",
     "text": [
      "Векторы предсказаний равны\n"
     ]
    }
   ],
   "source": [
    "if X_r2 == XP_rs:\n",
    "    print('Векторы предсказаний равны')\n",
    "else:\n",
    "    print('Векторы предсказаний не равны')"
   ]
  },
  {
   "cell_type": "markdown",
   "metadata": {},
   "source": [
    "### Вывод"
   ]
  },
  {
   "cell_type": "markdown",
   "metadata": {},
   "source": [
    "На данном этапе мы провели обучение модели Линейной регресии на исходной матрице признаков и матрицы признаков умноженную на обратимую матрицу. В итоге получили, что значение метрики R2 в обоих вариантах равна, следовательно умножение исходной матрицы на обратимую матрицу никак не влияет на качество предсказание модели."
   ]
  },
  {
   "cell_type": "markdown",
   "metadata": {},
   "source": [
    "## Общий вывод"
   ]
  },
  {
   "cell_type": "markdown",
   "metadata": {},
   "source": [
    "При начале работы с данными мы загрузили их и получили исходный размер датафрейма (5000, 5).\n",
    "Далее мы посмотрели на данные и убедились, что в данных нет пропущенных значений, но есть дубликаты. Мы избавились от дубликатов и получили размер датафрейма равный (4847, 5).\n",
    "После этого, мы привели названия столбцов к snake_case на английском языке и посмотрели на распределение данных, есть небольшое количество выбросов, но для дальнейшего анализа они сильно не повлияют, поэтому их трогать мы не трогали.  \n",
    "На следующем этапе мы привели обоснование, что при умножении матрицы признаков $X$ на обратимую матрицу $P$ получим те же предсказания модели, что и при изначальной матрице $X$.  \n",
    "Далее мы провели обучение модели Линейной регресии на исходной матрице признаков и матрицы признаков умноженную на обратимую матрицу. В итоге получили, что значение метрики R2 в обоих вариантах равна, следовательно умножение исходной матрицы на обратимую матрицу никак не влияет на качество предсказание модели."
   ]
  },
  {
   "cell_type": "code",
   "execution_count": null,
   "metadata": {},
   "outputs": [],
   "source": []
  }
 ],
 "metadata": {
  "kernelspec": {
   "display_name": "Python 3.9.0 64-bit",
   "language": "python",
   "name": "python3"
  },
  "language_info": {
   "codemirror_mode": {
    "name": "ipython",
    "version": 3
   },
   "file_extension": ".py",
   "mimetype": "text/x-python",
   "name": "python",
   "nbconvert_exporter": "python",
   "pygments_lexer": "ipython3",
   "version": "3.9.0"
  },
  "toc": {
   "base_numbering": 1,
   "nav_menu": {},
   "number_sections": true,
   "sideBar": true,
   "skip_h1_title": true,
   "title_cell": "Содержание",
   "title_sidebar": "Contents",
   "toc_cell": true,
   "toc_position": {},
   "toc_section_display": true,
   "toc_window_display": true
  },
  "vscode": {
   "interpreter": {
    "hash": "aee8b7b246df8f9039afb4144a1f6fd8d2ca17a180786b69acc140d282b71a49"
   }
  }
 },
 "nbformat": 4,
 "nbformat_minor": 2
}
