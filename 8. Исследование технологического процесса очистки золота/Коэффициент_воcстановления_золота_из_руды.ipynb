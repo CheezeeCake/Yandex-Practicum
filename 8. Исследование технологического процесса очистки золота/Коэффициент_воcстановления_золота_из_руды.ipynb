{
 "cells": [
  {
   "cell_type": "markdown",
   "metadata": {
    "toc": true
   },
   "source": [
    "<h1>Содержание<span class=\"tocSkip\"></span></h1>\n",
    "<div class=\"toc\"><ul class=\"toc-item\"><li><span><a href=\"#Восстановление-золота-из-руды\" data-toc-modified-id=\"Восстановление-золота-из-руды-1\"><span class=\"toc-item-num\">1&nbsp;&nbsp;</span>Восстановление золота из руды</a></span></li><li><span><a href=\"#Описание-данных\" data-toc-modified-id=\"Описание-данных-2\"><span class=\"toc-item-num\">2&nbsp;&nbsp;</span>Описание данных</a></span><ul class=\"toc-item\"><li><span><a href=\"#Технологический-процесс\" data-toc-modified-id=\"Технологический-процесс-2.1\"><span class=\"toc-item-num\">2.1&nbsp;&nbsp;</span>Технологический процесс</a></span></li><li><span><a href=\"#Параметры-этапов\" data-toc-modified-id=\"Параметры-этапов-2.2\"><span class=\"toc-item-num\">2.2&nbsp;&nbsp;</span>Параметры этапов</a></span></li><li><span><a href=\"#Наименование-признаков\" data-toc-modified-id=\"Наименование-признаков-2.3\"><span class=\"toc-item-num\">2.3&nbsp;&nbsp;</span>Наименование признаков</a></span></li></ul></li><li><span><a href=\"#Подготовка-данных\" data-toc-modified-id=\"Подготовка-данных-3\"><span class=\"toc-item-num\">3&nbsp;&nbsp;</span>Подготовка данных</a></span><ul class=\"toc-item\"><li><span><a href=\"#Таблица-df_gold_train\" data-toc-modified-id=\"Таблица-df_gold_train-3.1\"><span class=\"toc-item-num\">3.1&nbsp;&nbsp;</span>Таблица <strong>df_gold_train</strong></a></span></li><li><span><a href=\"#Таблица-df_gold_test\" data-toc-modified-id=\"Таблица-df_gold_test-3.2\"><span class=\"toc-item-num\">3.2&nbsp;&nbsp;</span>Таблица <strong>df_gold_test</strong></a></span></li><li><span><a href=\"#Таблица-df_gold_full\" data-toc-modified-id=\"Таблица-df_gold_full-3.3\"><span class=\"toc-item-num\">3.3&nbsp;&nbsp;</span>Таблица <strong>df_gold_full</strong></a></span></li><li><span><a href=\"#Расчёт-эффективности\" data-toc-modified-id=\"Расчёт-эффективности-3.4\"><span class=\"toc-item-num\">3.4&nbsp;&nbsp;</span>Расчёт эффективности</a></span></li><li><span><a href=\"#Недоступные-признаки-в-тестовой-выборке\" data-toc-modified-id=\"Недоступные-признаки-в-тестовой-выборке-3.5\"><span class=\"toc-item-num\">3.5&nbsp;&nbsp;</span>Недоступные признаки в тестовой выборке</a></span></li><li><span><a href=\"#Предобработка-данных\" data-toc-modified-id=\"Предобработка-данных-3.6\"><span class=\"toc-item-num\">3.6&nbsp;&nbsp;</span>Предобработка данных</a></span></li><li><span><a href=\"#Вывод\" data-toc-modified-id=\"Вывод-3.7\"><span class=\"toc-item-num\">3.7&nbsp;&nbsp;</span>Вывод</a></span></li></ul></li><li><span><a href=\"#Анализ-данных\" data-toc-modified-id=\"Анализ-данных-4\"><span class=\"toc-item-num\">4&nbsp;&nbsp;</span>Анализ данных</a></span><ul class=\"toc-item\"><li><span><a href=\"#Концентрация-золота-на-различных-этапах-очистки\" data-toc-modified-id=\"Концентрация-золота-на-различных-этапах-очистки-4.1\"><span class=\"toc-item-num\">4.1&nbsp;&nbsp;</span>Концентрация золота на различных этапах очистки</a></span></li><li><span><a href=\"#Концентрация-серебра-на-различных-этапах-очистки\" data-toc-modified-id=\"Концентрация-серебра-на-различных-этапах-очистки-4.2\"><span class=\"toc-item-num\">4.2&nbsp;&nbsp;</span>Концентрация серебра на различных этапах очистки</a></span></li><li><span><a href=\"#Концентрация-свинца-на-различных-этапах-очистки\" data-toc-modified-id=\"Концентрация-свинца-на-различных-этапах-очистки-4.3\"><span class=\"toc-item-num\">4.3&nbsp;&nbsp;</span>Концентрация свинца на различных этапах очистки</a></span></li><li><span><a href=\"#Распределения-размеров-гранул-сырья-на-обучающей-и-тестовой-выборках\" data-toc-modified-id=\"Распределения-размеров-гранул-сырья-на-обучающей-и-тестовой-выборках-4.4\"><span class=\"toc-item-num\">4.4&nbsp;&nbsp;</span>Распределения размеров гранул сырья на обучающей и тестовой выборках</a></span><ul class=\"toc-item\"><li><span><a href=\"#Размер-гранул-на-этапе-флотации\" data-toc-modified-id=\"Размер-гранул-на-этапе-флотации-4.4.1\"><span class=\"toc-item-num\">4.4.1&nbsp;&nbsp;</span>Размер гранул на этапе флотации</a></span></li><li><span><a href=\"#Размер-гранул-на-этапе-первичной-очистки\" data-toc-modified-id=\"Размер-гранул-на-этапе-первичной-очистки-4.4.2\"><span class=\"toc-item-num\">4.4.2&nbsp;&nbsp;</span>Размер гранул на этапе первичной очистки</a></span></li></ul></li><li><span><a href=\"#Суммарная-концентрация-всех-веществ-на-разных-стадиях\" data-toc-modified-id=\"Суммарная-концентрация-всех-веществ-на-разных-стадиях-4.5\"><span class=\"toc-item-num\">4.5&nbsp;&nbsp;</span>Суммарная концентрация всех веществ на разных стадиях</a></span></li><li><span><a href=\"#Вывод\" data-toc-modified-id=\"Вывод-4.6\"><span class=\"toc-item-num\">4.6&nbsp;&nbsp;</span>Вывод</a></span></li></ul></li><li><span><a href=\"#Модель\" data-toc-modified-id=\"Модель-5\"><span class=\"toc-item-num\">5&nbsp;&nbsp;</span>Модель</a></span><ul class=\"toc-item\"><li><span><a href=\"#Метрика-качества-sMAPE\" data-toc-modified-id=\"Метрика-качества-sMAPE-5.1\"><span class=\"toc-item-num\">5.1&nbsp;&nbsp;</span>Метрика качества sMAPE</a></span></li><li><span><a href=\"#Разобъем-данные\" data-toc-modified-id=\"Разобъем-данные-5.2\"><span class=\"toc-item-num\">5.2&nbsp;&nbsp;</span>Разобъем данные</a></span></li><li><span><a href=\"#Масштабирование-признаков\" data-toc-modified-id=\"Масштабирование-признаков-5.3\"><span class=\"toc-item-num\">5.3&nbsp;&nbsp;</span>Масштабирование признаков</a></span></li><li><span><a href=\"#Построение-моделей\" data-toc-modified-id=\"Построение-моделей-5.4\"><span class=\"toc-item-num\">5.4&nbsp;&nbsp;</span>Построение моделей</a></span><ul class=\"toc-item\"><li><span><a href=\"#Линейная-регерссия\" data-toc-modified-id=\"Линейная-регерссия-5.4.1\"><span class=\"toc-item-num\">5.4.1&nbsp;&nbsp;</span>Линейная регерссия</a></span></li><li><span><a href=\"#Дерево-решений\" data-toc-modified-id=\"Дерево-решений-5.4.2\"><span class=\"toc-item-num\">5.4.2&nbsp;&nbsp;</span>Дерево решений</a></span></li><li><span><a href=\"#Случайный-лес\" data-toc-modified-id=\"Случайный-лес-5.4.3\"><span class=\"toc-item-num\">5.4.3&nbsp;&nbsp;</span>Случайный лес</a></span></li><li><span><a href=\"#Вывод\" data-toc-modified-id=\"Вывод-5.4.4\"><span class=\"toc-item-num\">5.4.4&nbsp;&nbsp;</span>Вывод</a></span></li></ul></li><li><span><a href=\"#Проверка-на-тестовой-выборке\" data-toc-modified-id=\"Проверка-на-тестовой-выборке-5.5\"><span class=\"toc-item-num\">5.5&nbsp;&nbsp;</span>Проверка на тестовой выборке</a></span></li><li><span><a href=\"#Проверка-модели-на-адекватность\" data-toc-modified-id=\"Проверка-модели-на-адекватность-5.6\"><span class=\"toc-item-num\">5.6&nbsp;&nbsp;</span>Проверка модели на адекватность</a></span></li><li><span><a href=\"#Вывод\" data-toc-modified-id=\"Вывод-5.7\"><span class=\"toc-item-num\">5.7&nbsp;&nbsp;</span>Вывод</a></span></li></ul></li><li><span><a href=\"#Общий-вывод\" data-toc-modified-id=\"Общий-вывод-6\"><span class=\"toc-item-num\">6&nbsp;&nbsp;</span>Общий вывод</a></span></li><li><span><a href=\"#Чек-лист-готовности-проекта\" data-toc-modified-id=\"Чек-лист-готовности-проекта-7\"><span class=\"toc-item-num\">7&nbsp;&nbsp;</span>Чек-лист готовности проекта</a></span></li></ul></div>"
   ]
  },
  {
   "cell_type": "markdown",
   "metadata": {},
   "source": [
    "# Восстановление золота из руды"
   ]
  },
  {
   "cell_type": "markdown",
   "metadata": {},
   "source": [
    "Подготовьте прототип модели машинного обучения для «Цифры». Компания разрабатывает решения для эффективной работы промышленных предприятий.\n",
    "\n",
    "Модель должна предсказать коэффициент восстановления золота из золотосодержащей руды. Используйте данные с параметрами добычи и очистки. \n",
    "\n",
    "Модель поможет оптимизировать производство, чтобы не запускать предприятие с убыточными характеристиками.\n",
    "\n",
    "Вам нужно:\n",
    "\n",
    "1. Подготовить данные;\n",
    "2. Провести исследовательский анализ данных;\n",
    "3. Построить и обучить модель.\n",
    "\n",
    "Чтобы выполнить проект, обращайтесь к библиотекам *pandas*, *matplotlib* и *sklearn.* Вам поможет их документация."
   ]
  },
  {
   "cell_type": "markdown",
   "metadata": {},
   "source": [
    "# Описание данных"
   ]
  },
  {
   "cell_type": "markdown",
   "metadata": {},
   "source": [
    "Данные находятся в трёх файлах:  \n",
    "- gold_recovery_train_new.csv — обучающая выборка;  \n",
    "- gold_recovery_test_new.csv — тестовая выборка;  \n",
    "- gold_recovery_full_new.csv — исходные данные.  \n",
    "\n",
    "Данные индексируются датой и временем получения информации (признак date). Соседние по времени параметры часто похожи.  \n",
    "Некоторые параметры недоступны, потому что замеряются и/или рассчитываются значительно позже. Из-за этого в тестовой выборке отсутствуют некоторые признаки, которые могут быть в обучающей. Также в тестовом наборе нет целевых признаков.  \n",
    "Исходный датасет содержит обучающую и тестовую выборки со всеми признаками.  \n",
    "В вашем распоряжении сырые данные: их просто выгрузили из хранилища. Прежде чем приступить к построению модели, проверьте по нашей инструкции их на корректность."
   ]
  },
  {
   "cell_type": "markdown",
   "metadata": {},
   "source": [
    "## Технологический процесс\n",
    "- Rougher feed — исходное сырье  \n",
    "- Rougher additions (или reagent additions) — флотационные реагенты: Xanthate, Sulphate, Depressant  \n",
    "    - Xanthate — ксантогенат (промотер, или активатор флотации);  \n",
    "    - Sulphate — сульфат (на данном производстве сульфид натрия);  \n",
    "    - Depressant — депрессант (силикат натрия).  \n",
    "- Rougher process (англ. «грубый процесс») — флотация  \n",
    "- Rougher tails — отвальные хвосты  \n",
    "- Float banks — флотационная установка  \n",
    "- Cleaner process — очистка  \n",
    "- Rougher Au — черновой концентрат золота  \n",
    "- Final Au — финальный концентрат золота  \n",
    "\n",
    "## Параметры этапов  \n",
    "- air amount — объём воздуха  \n",
    "- fluid levels — уровень жидкости  \n",
    "- feed size — размер гранул сырья  \n",
    "- feed rate — скорость подачи  \n",
    "\n",
    "## Наименование признаков\n",
    "\n",
    "Наименование признаков должно быть такое:    \n",
    "`[этап].[тип_параметра].[название_параметра]`   \n",
    "Пример: rougher.input.feed_ag   \n",
    "\n",
    "Возможные значения для блока `[этап]`:  \n",
    "- rougher — флотация  \n",
    "- primary_cleaner — первичная очистка  \n",
    "- secondary_cleaner — вторичная очистка  \n",
    "- final — финальные характеристики   \n",
    "\n",
    "Возможные значения для блока `[тип_параметра]`:  \n",
    "- input — параметры сырья  \n",
    "- output — параметры продукта  \n",
    "- state — параметры, характеризующие текущее состояние этапа  \n",
    "- calculation — расчётные характеристики"
   ]
  },
  {
   "cell_type": "markdown",
   "metadata": {},
   "source": [
    "# Подготовка данных"
   ]
  },
  {
   "cell_type": "markdown",
   "metadata": {},
   "source": [
    "Импортируем необходимые библиотеки"
   ]
  },
  {
   "cell_type": "code",
   "execution_count": 1,
   "metadata": {},
   "outputs": [],
   "source": [
    "import pandas as pd\n",
    "import numpy as np\n",
    "import seaborn as sns\n",
    "import matplotlib.pyplot as plt\n",
    "from sklearn.metrics import mean_absolute_error\n",
    "from sklearn.preprocessing import StandardScaler\n",
    "from sklearn.linear_model import LinearRegression\n",
    "from sklearn.tree import DecisionTreeRegressor\n",
    "from sklearn.ensemble import RandomForestRegressor\n",
    "from sklearn.model_selection import cross_val_score\n",
    "from sklearn.metrics import make_scorer\n",
    "from sklearn.dummy import DummyRegressor"
   ]
  },
  {
   "cell_type": "markdown",
   "metadata": {},
   "source": [
    "Загрузим наши данные"
   ]
  },
  {
   "cell_type": "code",
   "execution_count": 2,
   "metadata": {
    "scrolled": true
   },
   "outputs": [],
   "source": [
    "try:\n",
    "    \n",
    "    df_gold_train, df_gold_test, df_gold_full = [\n",
    "        pd.read_csv(f'./gold_recovery_{x}_new.csv')\n",
    "        for x in ['train', 'test', 'full']\n",
    "    ]\n",
    "except:\n",
    "    \n",
    "    df_gold_train, df_gold_test, df_gold_full = [\n",
    "        pd.read_csv(f'/datasets/gold_recovery_{x}_new.csv')\n",
    "        for x in ['train', 'test', 'full']\n",
    "    ]"
   ]
  },
  {
   "cell_type": "markdown",
   "metadata": {},
   "source": [
    "Для просмотра данных о таблицах напишем функицю **df_info**"
   ]
  },
  {
   "cell_type": "code",
   "execution_count": 3,
   "metadata": {},
   "outputs": [],
   "source": [
    "def df_info(df, name):\n",
    "    print()\n",
    "    print(f'Размер таблицы {name}: {df.shape}')\n",
    "    print()\n",
    "    print(f'Выведем 10 строк из таблицы {name}')\n",
    "    display(df.sample(10))\n",
    "    print()\n",
    "    print(f'Выведем информацию о таблице {name}')\n",
    "    print()\n",
    "    display(df.info())\n",
    "    print()\n",
    "    print(f'Общее количество пропусков в датафрейме {df.isna().sum().sum()} шт, это составляет {df.isna().sum().sum()/len(df):.2%} от данных')\n",
    "    print()\n",
    "    print(f'Количество дубликатов в таблице {name} равно {df.duplicated().sum()} шт')\n",
    "    print()"
   ]
  },
  {
   "cell_type": "markdown",
   "metadata": {},
   "source": [
    "## Таблица **df_gold_train**"
   ]
  },
  {
   "cell_type": "markdown",
   "metadata": {},
   "source": [
    "Выведем информацию о таблице **df_gold_train**"
   ]
  },
  {
   "cell_type": "code",
   "execution_count": 4,
   "metadata": {
    "scrolled": false
   },
   "outputs": [
    {
     "name": "stdout",
     "output_type": "stream",
     "text": [
      "\n",
      "Размер таблицы df_gold_train: (14149, 87)\n",
      "\n",
      "Выведем 10 строк из таблицы df_gold_train\n"
     ]
    },
    {
     "data": {
      "text/html": [
       "<div>\n",
       "<style scoped>\n",
       "    .dataframe tbody tr th:only-of-type {\n",
       "        vertical-align: middle;\n",
       "    }\n",
       "\n",
       "    .dataframe tbody tr th {\n",
       "        vertical-align: top;\n",
       "    }\n",
       "\n",
       "    .dataframe thead th {\n",
       "        text-align: right;\n",
       "    }\n",
       "</style>\n",
       "<table border=\"1\" class=\"dataframe\">\n",
       "  <thead>\n",
       "    <tr style=\"text-align: right;\">\n",
       "      <th></th>\n",
       "      <th>date</th>\n",
       "      <th>final.output.concentrate_ag</th>\n",
       "      <th>final.output.concentrate_pb</th>\n",
       "      <th>final.output.concentrate_sol</th>\n",
       "      <th>final.output.concentrate_au</th>\n",
       "      <th>final.output.recovery</th>\n",
       "      <th>final.output.tail_ag</th>\n",
       "      <th>final.output.tail_pb</th>\n",
       "      <th>final.output.tail_sol</th>\n",
       "      <th>final.output.tail_au</th>\n",
       "      <th>...</th>\n",
       "      <th>secondary_cleaner.state.floatbank4_a_air</th>\n",
       "      <th>secondary_cleaner.state.floatbank4_a_level</th>\n",
       "      <th>secondary_cleaner.state.floatbank4_b_air</th>\n",
       "      <th>secondary_cleaner.state.floatbank4_b_level</th>\n",
       "      <th>secondary_cleaner.state.floatbank5_a_air</th>\n",
       "      <th>secondary_cleaner.state.floatbank5_a_level</th>\n",
       "      <th>secondary_cleaner.state.floatbank5_b_air</th>\n",
       "      <th>secondary_cleaner.state.floatbank5_b_level</th>\n",
       "      <th>secondary_cleaner.state.floatbank6_a_air</th>\n",
       "      <th>secondary_cleaner.state.floatbank6_a_level</th>\n",
       "    </tr>\n",
       "  </thead>\n",
       "  <tbody>\n",
       "    <tr>\n",
       "      <th>11264</th>\n",
       "      <td>2018-03-26 20:59:59</td>\n",
       "      <td>4.496590</td>\n",
       "      <td>11.989009</td>\n",
       "      <td>7.870814</td>\n",
       "      <td>45.366200</td>\n",
       "      <td>71.483042</td>\n",
       "      <td>9.799402</td>\n",
       "      <td>2.523240</td>\n",
       "      <td>6.345383</td>\n",
       "      <td>2.528996</td>\n",
       "      <td>...</td>\n",
       "      <td>23.007176</td>\n",
       "      <td>-499.896652</td>\n",
       "      <td>15.098238</td>\n",
       "      <td>-500.216805</td>\n",
       "      <td>17.980626</td>\n",
       "      <td>-499.901916</td>\n",
       "      <td>12.043780</td>\n",
       "      <td>-500.030308</td>\n",
       "      <td>13.010430</td>\n",
       "      <td>-499.731650</td>\n",
       "    </tr>\n",
       "    <tr>\n",
       "      <th>6944</th>\n",
       "      <td>2017-04-19 05:59:59</td>\n",
       "      <td>4.089271</td>\n",
       "      <td>10.871083</td>\n",
       "      <td>11.640216</td>\n",
       "      <td>45.595646</td>\n",
       "      <td>69.331971</td>\n",
       "      <td>8.348797</td>\n",
       "      <td>2.683237</td>\n",
       "      <td>13.816327</td>\n",
       "      <td>2.443524</td>\n",
       "      <td>...</td>\n",
       "      <td>25.010011</td>\n",
       "      <td>-396.228452</td>\n",
       "      <td>22.920336</td>\n",
       "      <td>-399.913280</td>\n",
       "      <td>26.016611</td>\n",
       "      <td>-448.186676</td>\n",
       "      <td>24.008935</td>\n",
       "      <td>-449.618125</td>\n",
       "      <td>29.992941</td>\n",
       "      <td>-498.530089</td>\n",
       "    </tr>\n",
       "    <tr>\n",
       "      <th>1697</th>\n",
       "      <td>2016-04-10 10:00:00</td>\n",
       "      <td>5.720409</td>\n",
       "      <td>11.832302</td>\n",
       "      <td>9.125304</td>\n",
       "      <td>42.451135</td>\n",
       "      <td>56.052973</td>\n",
       "      <td>7.063066</td>\n",
       "      <td>2.081860</td>\n",
       "      <td>13.564885</td>\n",
       "      <td>3.427879</td>\n",
       "      <td>...</td>\n",
       "      <td>14.032166</td>\n",
       "      <td>-495.407291</td>\n",
       "      <td>13.950965</td>\n",
       "      <td>-498.915393</td>\n",
       "      <td>9.958159</td>\n",
       "      <td>-499.474355</td>\n",
       "      <td>11.938282</td>\n",
       "      <td>-799.947993</td>\n",
       "      <td>15.996511</td>\n",
       "      <td>-500.797432</td>\n",
       "    </tr>\n",
       "    <tr>\n",
       "      <th>522</th>\n",
       "      <td>2016-02-08 06:00:00</td>\n",
       "      <td>5.343018</td>\n",
       "      <td>9.829323</td>\n",
       "      <td>NaN</td>\n",
       "      <td>45.851769</td>\n",
       "      <td>64.808730</td>\n",
       "      <td>11.048025</td>\n",
       "      <td>1.359846</td>\n",
       "      <td>14.211772</td>\n",
       "      <td>2.232438</td>\n",
       "      <td>...</td>\n",
       "      <td>16.984927</td>\n",
       "      <td>-500.127707</td>\n",
       "      <td>15.962982</td>\n",
       "      <td>-494.548328</td>\n",
       "      <td>17.980912</td>\n",
       "      <td>-499.626388</td>\n",
       "      <td>16.027357</td>\n",
       "      <td>-499.466196</td>\n",
       "      <td>18.042940</td>\n",
       "      <td>-500.005877</td>\n",
       "    </tr>\n",
       "    <tr>\n",
       "      <th>12339</th>\n",
       "      <td>2018-05-20 10:59:59</td>\n",
       "      <td>4.187732</td>\n",
       "      <td>10.922724</td>\n",
       "      <td>7.052566</td>\n",
       "      <td>44.504342</td>\n",
       "      <td>68.089803</td>\n",
       "      <td>8.847014</td>\n",
       "      <td>3.161189</td>\n",
       "      <td>8.590366</td>\n",
       "      <td>2.910158</td>\n",
       "      <td>...</td>\n",
       "      <td>29.934425</td>\n",
       "      <td>-501.369080</td>\n",
       "      <td>19.931570</td>\n",
       "      <td>-499.965554</td>\n",
       "      <td>17.996630</td>\n",
       "      <td>-500.435580</td>\n",
       "      <td>14.009138</td>\n",
       "      <td>-500.116376</td>\n",
       "      <td>14.000363</td>\n",
       "      <td>-500.680991</td>\n",
       "    </tr>\n",
       "    <tr>\n",
       "      <th>13611</th>\n",
       "      <td>2018-07-17 07:59:59</td>\n",
       "      <td>3.727841</td>\n",
       "      <td>11.463093</td>\n",
       "      <td>6.643551</td>\n",
       "      <td>44.575706</td>\n",
       "      <td>69.024382</td>\n",
       "      <td>10.362511</td>\n",
       "      <td>3.865142</td>\n",
       "      <td>8.744204</td>\n",
       "      <td>1.938000</td>\n",
       "      <td>...</td>\n",
       "      <td>18.014013</td>\n",
       "      <td>-502.411385</td>\n",
       "      <td>15.980613</td>\n",
       "      <td>-499.793472</td>\n",
       "      <td>12.046372</td>\n",
       "      <td>-502.344121</td>\n",
       "      <td>11.000410</td>\n",
       "      <td>-500.287589</td>\n",
       "      <td>12.976611</td>\n",
       "      <td>-501.913721</td>\n",
       "    </tr>\n",
       "    <tr>\n",
       "      <th>13390</th>\n",
       "      <td>2018-07-07 11:59:59</td>\n",
       "      <td>3.614517</td>\n",
       "      <td>12.042569</td>\n",
       "      <td>6.457987</td>\n",
       "      <td>45.603288</td>\n",
       "      <td>68.023959</td>\n",
       "      <td>9.324472</td>\n",
       "      <td>2.766663</td>\n",
       "      <td>8.030187</td>\n",
       "      <td>1.521892</td>\n",
       "      <td>...</td>\n",
       "      <td>24.980106</td>\n",
       "      <td>-500.408604</td>\n",
       "      <td>19.919887</td>\n",
       "      <td>-500.658179</td>\n",
       "      <td>18.020352</td>\n",
       "      <td>-500.527428</td>\n",
       "      <td>12.982661</td>\n",
       "      <td>-500.288000</td>\n",
       "      <td>13.006830</td>\n",
       "      <td>-500.398791</td>\n",
       "    </tr>\n",
       "    <tr>\n",
       "      <th>6762</th>\n",
       "      <td>2017-04-11 05:59:59</td>\n",
       "      <td>5.535698</td>\n",
       "      <td>9.155810</td>\n",
       "      <td>10.481765</td>\n",
       "      <td>45.054960</td>\n",
       "      <td>52.945751</td>\n",
       "      <td>10.799254</td>\n",
       "      <td>2.683270</td>\n",
       "      <td>11.266492</td>\n",
       "      <td>2.783070</td>\n",
       "      <td>...</td>\n",
       "      <td>25.026507</td>\n",
       "      <td>-404.628656</td>\n",
       "      <td>22.955182</td>\n",
       "      <td>-400.275470</td>\n",
       "      <td>26.004237</td>\n",
       "      <td>-460.261116</td>\n",
       "      <td>24.033023</td>\n",
       "      <td>-465.453705</td>\n",
       "      <td>29.991476</td>\n",
       "      <td>-500.737719</td>\n",
       "    </tr>\n",
       "    <tr>\n",
       "      <th>8753</th>\n",
       "      <td>2017-07-18 02:59:59</td>\n",
       "      <td>6.319458</td>\n",
       "      <td>11.744188</td>\n",
       "      <td>9.821511</td>\n",
       "      <td>40.222978</td>\n",
       "      <td>67.997694</td>\n",
       "      <td>7.773625</td>\n",
       "      <td>3.197525</td>\n",
       "      <td>11.636137</td>\n",
       "      <td>2.699026</td>\n",
       "      <td>...</td>\n",
       "      <td>21.954981</td>\n",
       "      <td>-498.430634</td>\n",
       "      <td>17.968414</td>\n",
       "      <td>-380.629841</td>\n",
       "      <td>18.005094</td>\n",
       "      <td>-499.662730</td>\n",
       "      <td>14.998125</td>\n",
       "      <td>-499.959048</td>\n",
       "      <td>14.988838</td>\n",
       "      <td>-499.416553</td>\n",
       "    </tr>\n",
       "    <tr>\n",
       "      <th>14011</th>\n",
       "      <td>2018-08-12 12:59:59</td>\n",
       "      <td>5.736041</td>\n",
       "      <td>8.904099</td>\n",
       "      <td>10.957937</td>\n",
       "      <td>43.411180</td>\n",
       "      <td>74.369930</td>\n",
       "      <td>15.253221</td>\n",
       "      <td>3.932619</td>\n",
       "      <td>10.221952</td>\n",
       "      <td>3.074750</td>\n",
       "      <td>...</td>\n",
       "      <td>22.964631</td>\n",
       "      <td>-500.721417</td>\n",
       "      <td>19.979226</td>\n",
       "      <td>-499.585661</td>\n",
       "      <td>17.941880</td>\n",
       "      <td>-499.042259</td>\n",
       "      <td>12.972660</td>\n",
       "      <td>-499.930762</td>\n",
       "      <td>19.983074</td>\n",
       "      <td>-499.904150</td>\n",
       "    </tr>\n",
       "  </tbody>\n",
       "</table>\n",
       "<p>10 rows × 87 columns</p>\n",
       "</div>"
      ],
      "text/plain": [
       "                      date  final.output.concentrate_ag  \\\n",
       "11264  2018-03-26 20:59:59                     4.496590   \n",
       "6944   2017-04-19 05:59:59                     4.089271   \n",
       "1697   2016-04-10 10:00:00                     5.720409   \n",
       "522    2016-02-08 06:00:00                     5.343018   \n",
       "12339  2018-05-20 10:59:59                     4.187732   \n",
       "13611  2018-07-17 07:59:59                     3.727841   \n",
       "13390  2018-07-07 11:59:59                     3.614517   \n",
       "6762   2017-04-11 05:59:59                     5.535698   \n",
       "8753   2017-07-18 02:59:59                     6.319458   \n",
       "14011  2018-08-12 12:59:59                     5.736041   \n",
       "\n",
       "       final.output.concentrate_pb  final.output.concentrate_sol  \\\n",
       "11264                    11.989009                      7.870814   \n",
       "6944                     10.871083                     11.640216   \n",
       "1697                     11.832302                      9.125304   \n",
       "522                       9.829323                           NaN   \n",
       "12339                    10.922724                      7.052566   \n",
       "13611                    11.463093                      6.643551   \n",
       "13390                    12.042569                      6.457987   \n",
       "6762                      9.155810                     10.481765   \n",
       "8753                     11.744188                      9.821511   \n",
       "14011                     8.904099                     10.957937   \n",
       "\n",
       "       final.output.concentrate_au  final.output.recovery  \\\n",
       "11264                    45.366200              71.483042   \n",
       "6944                     45.595646              69.331971   \n",
       "1697                     42.451135              56.052973   \n",
       "522                      45.851769              64.808730   \n",
       "12339                    44.504342              68.089803   \n",
       "13611                    44.575706              69.024382   \n",
       "13390                    45.603288              68.023959   \n",
       "6762                     45.054960              52.945751   \n",
       "8753                     40.222978              67.997694   \n",
       "14011                    43.411180              74.369930   \n",
       "\n",
       "       final.output.tail_ag  final.output.tail_pb  final.output.tail_sol  \\\n",
       "11264              9.799402              2.523240               6.345383   \n",
       "6944               8.348797              2.683237              13.816327   \n",
       "1697               7.063066              2.081860              13.564885   \n",
       "522               11.048025              1.359846              14.211772   \n",
       "12339              8.847014              3.161189               8.590366   \n",
       "13611             10.362511              3.865142               8.744204   \n",
       "13390              9.324472              2.766663               8.030187   \n",
       "6762              10.799254              2.683270              11.266492   \n",
       "8753               7.773625              3.197525              11.636137   \n",
       "14011             15.253221              3.932619              10.221952   \n",
       "\n",
       "       final.output.tail_au  ...  secondary_cleaner.state.floatbank4_a_air  \\\n",
       "11264              2.528996  ...                                 23.007176   \n",
       "6944               2.443524  ...                                 25.010011   \n",
       "1697               3.427879  ...                                 14.032166   \n",
       "522                2.232438  ...                                 16.984927   \n",
       "12339              2.910158  ...                                 29.934425   \n",
       "13611              1.938000  ...                                 18.014013   \n",
       "13390              1.521892  ...                                 24.980106   \n",
       "6762               2.783070  ...                                 25.026507   \n",
       "8753               2.699026  ...                                 21.954981   \n",
       "14011              3.074750  ...                                 22.964631   \n",
       "\n",
       "       secondary_cleaner.state.floatbank4_a_level  \\\n",
       "11264                                 -499.896652   \n",
       "6944                                  -396.228452   \n",
       "1697                                  -495.407291   \n",
       "522                                   -500.127707   \n",
       "12339                                 -501.369080   \n",
       "13611                                 -502.411385   \n",
       "13390                                 -500.408604   \n",
       "6762                                  -404.628656   \n",
       "8753                                  -498.430634   \n",
       "14011                                 -500.721417   \n",
       "\n",
       "       secondary_cleaner.state.floatbank4_b_air  \\\n",
       "11264                                 15.098238   \n",
       "6944                                  22.920336   \n",
       "1697                                  13.950965   \n",
       "522                                   15.962982   \n",
       "12339                                 19.931570   \n",
       "13611                                 15.980613   \n",
       "13390                                 19.919887   \n",
       "6762                                  22.955182   \n",
       "8753                                  17.968414   \n",
       "14011                                 19.979226   \n",
       "\n",
       "       secondary_cleaner.state.floatbank4_b_level  \\\n",
       "11264                                 -500.216805   \n",
       "6944                                  -399.913280   \n",
       "1697                                  -498.915393   \n",
       "522                                   -494.548328   \n",
       "12339                                 -499.965554   \n",
       "13611                                 -499.793472   \n",
       "13390                                 -500.658179   \n",
       "6762                                  -400.275470   \n",
       "8753                                  -380.629841   \n",
       "14011                                 -499.585661   \n",
       "\n",
       "       secondary_cleaner.state.floatbank5_a_air  \\\n",
       "11264                                 17.980626   \n",
       "6944                                  26.016611   \n",
       "1697                                   9.958159   \n",
       "522                                   17.980912   \n",
       "12339                                 17.996630   \n",
       "13611                                 12.046372   \n",
       "13390                                 18.020352   \n",
       "6762                                  26.004237   \n",
       "8753                                  18.005094   \n",
       "14011                                 17.941880   \n",
       "\n",
       "       secondary_cleaner.state.floatbank5_a_level  \\\n",
       "11264                                 -499.901916   \n",
       "6944                                  -448.186676   \n",
       "1697                                  -499.474355   \n",
       "522                                   -499.626388   \n",
       "12339                                 -500.435580   \n",
       "13611                                 -502.344121   \n",
       "13390                                 -500.527428   \n",
       "6762                                  -460.261116   \n",
       "8753                                  -499.662730   \n",
       "14011                                 -499.042259   \n",
       "\n",
       "       secondary_cleaner.state.floatbank5_b_air  \\\n",
       "11264                                 12.043780   \n",
       "6944                                  24.008935   \n",
       "1697                                  11.938282   \n",
       "522                                   16.027357   \n",
       "12339                                 14.009138   \n",
       "13611                                 11.000410   \n",
       "13390                                 12.982661   \n",
       "6762                                  24.033023   \n",
       "8753                                  14.998125   \n",
       "14011                                 12.972660   \n",
       "\n",
       "       secondary_cleaner.state.floatbank5_b_level  \\\n",
       "11264                                 -500.030308   \n",
       "6944                                  -449.618125   \n",
       "1697                                  -799.947993   \n",
       "522                                   -499.466196   \n",
       "12339                                 -500.116376   \n",
       "13611                                 -500.287589   \n",
       "13390                                 -500.288000   \n",
       "6762                                  -465.453705   \n",
       "8753                                  -499.959048   \n",
       "14011                                 -499.930762   \n",
       "\n",
       "       secondary_cleaner.state.floatbank6_a_air  \\\n",
       "11264                                 13.010430   \n",
       "6944                                  29.992941   \n",
       "1697                                  15.996511   \n",
       "522                                   18.042940   \n",
       "12339                                 14.000363   \n",
       "13611                                 12.976611   \n",
       "13390                                 13.006830   \n",
       "6762                                  29.991476   \n",
       "8753                                  14.988838   \n",
       "14011                                 19.983074   \n",
       "\n",
       "       secondary_cleaner.state.floatbank6_a_level  \n",
       "11264                                 -499.731650  \n",
       "6944                                  -498.530089  \n",
       "1697                                  -500.797432  \n",
       "522                                   -500.005877  \n",
       "12339                                 -500.680991  \n",
       "13611                                 -501.913721  \n",
       "13390                                 -500.398791  \n",
       "6762                                  -500.737719  \n",
       "8753                                  -499.416553  \n",
       "14011                                 -499.904150  \n",
       "\n",
       "[10 rows x 87 columns]"
      ]
     },
     "metadata": {},
     "output_type": "display_data"
    },
    {
     "name": "stdout",
     "output_type": "stream",
     "text": [
      "\n",
      "Выведем информацию о таблице df_gold_train\n",
      "\n",
      "<class 'pandas.core.frame.DataFrame'>\n",
      "RangeIndex: 14149 entries, 0 to 14148\n",
      "Data columns (total 87 columns):\n",
      " #   Column                                              Non-Null Count  Dtype  \n",
      "---  ------                                              --------------  -----  \n",
      " 0   date                                                14149 non-null  object \n",
      " 1   final.output.concentrate_ag                         14148 non-null  float64\n",
      " 2   final.output.concentrate_pb                         14148 non-null  float64\n",
      " 3   final.output.concentrate_sol                        13938 non-null  float64\n",
      " 4   final.output.concentrate_au                         14149 non-null  float64\n",
      " 5   final.output.recovery                               14149 non-null  float64\n",
      " 6   final.output.tail_ag                                14149 non-null  float64\n",
      " 7   final.output.tail_pb                                14049 non-null  float64\n",
      " 8   final.output.tail_sol                               14144 non-null  float64\n",
      " 9   final.output.tail_au                                14149 non-null  float64\n",
      " 10  primary_cleaner.input.sulfate                       14129 non-null  float64\n",
      " 11  primary_cleaner.input.depressant                    14117 non-null  float64\n",
      " 12  primary_cleaner.input.feed_size                     14149 non-null  float64\n",
      " 13  primary_cleaner.input.xanthate                      14049 non-null  float64\n",
      " 14  primary_cleaner.output.concentrate_ag               14149 non-null  float64\n",
      " 15  primary_cleaner.output.concentrate_pb               14063 non-null  float64\n",
      " 16  primary_cleaner.output.concentrate_sol              13863 non-null  float64\n",
      " 17  primary_cleaner.output.concentrate_au               14149 non-null  float64\n",
      " 18  primary_cleaner.output.tail_ag                      14148 non-null  float64\n",
      " 19  primary_cleaner.output.tail_pb                      14134 non-null  float64\n",
      " 20  primary_cleaner.output.tail_sol                     14103 non-null  float64\n",
      " 21  primary_cleaner.output.tail_au                      14149 non-null  float64\n",
      " 22  primary_cleaner.state.floatbank8_a_air              14145 non-null  float64\n",
      " 23  primary_cleaner.state.floatbank8_a_level            14148 non-null  float64\n",
      " 24  primary_cleaner.state.floatbank8_b_air              14145 non-null  float64\n",
      " 25  primary_cleaner.state.floatbank8_b_level            14148 non-null  float64\n",
      " 26  primary_cleaner.state.floatbank8_c_air              14147 non-null  float64\n",
      " 27  primary_cleaner.state.floatbank8_c_level            14148 non-null  float64\n",
      " 28  primary_cleaner.state.floatbank8_d_air              14146 non-null  float64\n",
      " 29  primary_cleaner.state.floatbank8_d_level            14148 non-null  float64\n",
      " 30  rougher.calculation.sulfate_to_au_concentrate       14148 non-null  float64\n",
      " 31  rougher.calculation.floatbank10_sulfate_to_au_feed  14148 non-null  float64\n",
      " 32  rougher.calculation.floatbank11_sulfate_to_au_feed  14148 non-null  float64\n",
      " 33  rougher.calculation.au_pb_ratio                     14149 non-null  float64\n",
      " 34  rougher.input.feed_ag                               14149 non-null  float64\n",
      " 35  rougher.input.feed_pb                               14049 non-null  float64\n",
      " 36  rougher.input.feed_rate                             14141 non-null  float64\n",
      " 37  rougher.input.feed_size                             14005 non-null  float64\n",
      " 38  rougher.input.feed_sol                              14071 non-null  float64\n",
      " 39  rougher.input.feed_au                               14149 non-null  float64\n",
      " 40  rougher.input.floatbank10_sulfate                   14120 non-null  float64\n",
      " 41  rougher.input.floatbank10_xanthate                  14141 non-null  float64\n",
      " 42  rougher.input.floatbank11_sulfate                   14113 non-null  float64\n",
      " 43  rougher.input.floatbank11_xanthate                  13721 non-null  float64\n",
      " 44  rougher.output.concentrate_ag                       14149 non-null  float64\n",
      " 45  rougher.output.concentrate_pb                       14149 non-null  float64\n",
      " 46  rougher.output.concentrate_sol                      14127 non-null  float64\n",
      " 47  rougher.output.concentrate_au                       14149 non-null  float64\n",
      " 48  rougher.output.recovery                             14149 non-null  float64\n",
      " 49  rougher.output.tail_ag                              14148 non-null  float64\n",
      " 50  rougher.output.tail_pb                              14149 non-null  float64\n",
      " 51  rougher.output.tail_sol                             14149 non-null  float64\n",
      " 52  rougher.output.tail_au                              14149 non-null  float64\n",
      " 53  rougher.state.floatbank10_a_air                     14148 non-null  float64\n",
      " 54  rougher.state.floatbank10_a_level                   14148 non-null  float64\n",
      " 55  rougher.state.floatbank10_b_air                     14148 non-null  float64\n",
      " 56  rougher.state.floatbank10_b_level                   14148 non-null  float64\n",
      " 57  rougher.state.floatbank10_c_air                     14148 non-null  float64\n",
      " 58  rougher.state.floatbank10_c_level                   14148 non-null  float64\n",
      " 59  rougher.state.floatbank10_d_air                     14149 non-null  float64\n",
      " 60  rougher.state.floatbank10_d_level                   14149 non-null  float64\n",
      " 61  rougher.state.floatbank10_e_air                     13713 non-null  float64\n",
      " 62  rougher.state.floatbank10_e_level                   14149 non-null  float64\n",
      " 63  rougher.state.floatbank10_f_air                     14149 non-null  float64\n",
      " 64  rougher.state.floatbank10_f_level                   14149 non-null  float64\n",
      " 65  secondary_cleaner.output.tail_ag                    14147 non-null  float64\n",
      " 66  secondary_cleaner.output.tail_pb                    14139 non-null  float64\n",
      " 67  secondary_cleaner.output.tail_sol                   12544 non-null  float64\n",
      " 68  secondary_cleaner.output.tail_au                    14149 non-null  float64\n",
      " 69  secondary_cleaner.state.floatbank2_a_air            13932 non-null  float64\n",
      " 70  secondary_cleaner.state.floatbank2_a_level          14148 non-null  float64\n",
      " 71  secondary_cleaner.state.floatbank2_b_air            14128 non-null  float64\n",
      " 72  secondary_cleaner.state.floatbank2_b_level          14148 non-null  float64\n",
      " 73  secondary_cleaner.state.floatbank3_a_air            14145 non-null  float64\n",
      " 74  secondary_cleaner.state.floatbank3_a_level          14148 non-null  float64\n",
      " 75  secondary_cleaner.state.floatbank3_b_air            14148 non-null  float64\n",
      " 76  secondary_cleaner.state.floatbank3_b_level          14148 non-null  float64\n",
      " 77  secondary_cleaner.state.floatbank4_a_air            14143 non-null  float64\n",
      " 78  secondary_cleaner.state.floatbank4_a_level          14148 non-null  float64\n",
      " 79  secondary_cleaner.state.floatbank4_b_air            14148 non-null  float64\n",
      " 80  secondary_cleaner.state.floatbank4_b_level          14148 non-null  float64\n",
      " 81  secondary_cleaner.state.floatbank5_a_air            14148 non-null  float64\n",
      " 82  secondary_cleaner.state.floatbank5_a_level          14148 non-null  float64\n",
      " 83  secondary_cleaner.state.floatbank5_b_air            14148 non-null  float64\n",
      " 84  secondary_cleaner.state.floatbank5_b_level          14148 non-null  float64\n",
      " 85  secondary_cleaner.state.floatbank6_a_air            14147 non-null  float64\n",
      " 86  secondary_cleaner.state.floatbank6_a_level          14148 non-null  float64\n",
      "dtypes: float64(86), object(1)\n",
      "memory usage: 9.4+ MB\n"
     ]
    },
    {
     "data": {
      "text/plain": [
       "None"
      ]
     },
     "metadata": {},
     "output_type": "display_data"
    },
    {
     "name": "stdout",
     "output_type": "stream",
     "text": [
      "\n",
      "Общее количество пропусков в датафрейме 4100 шт, это составляет 28.98% от данных\n",
      "\n",
      "Количество дубликатов в таблице df_gold_train равно 0 шт\n",
      "\n"
     ]
    }
   ],
   "source": [
    "df_info(df_gold_train, 'df_gold_train')"
   ]
  },
  {
   "cell_type": "markdown",
   "metadata": {},
   "source": [
    "## Таблица **df_gold_test**"
   ]
  },
  {
   "cell_type": "markdown",
   "metadata": {},
   "source": [
    "Выведем информацию о таблице **df_gold_test**"
   ]
  },
  {
   "cell_type": "code",
   "execution_count": 5,
   "metadata": {
    "scrolled": false
   },
   "outputs": [
    {
     "name": "stdout",
     "output_type": "stream",
     "text": [
      "\n",
      "Размер таблицы df_gold_test: (5290, 53)\n",
      "\n",
      "Выведем 10 строк из таблицы df_gold_test\n"
     ]
    },
    {
     "data": {
      "text/html": [
       "<div>\n",
       "<style scoped>\n",
       "    .dataframe tbody tr th:only-of-type {\n",
       "        vertical-align: middle;\n",
       "    }\n",
       "\n",
       "    .dataframe tbody tr th {\n",
       "        vertical-align: top;\n",
       "    }\n",
       "\n",
       "    .dataframe thead th {\n",
       "        text-align: right;\n",
       "    }\n",
       "</style>\n",
       "<table border=\"1\" class=\"dataframe\">\n",
       "  <thead>\n",
       "    <tr style=\"text-align: right;\">\n",
       "      <th></th>\n",
       "      <th>date</th>\n",
       "      <th>primary_cleaner.input.sulfate</th>\n",
       "      <th>primary_cleaner.input.depressant</th>\n",
       "      <th>primary_cleaner.input.feed_size</th>\n",
       "      <th>primary_cleaner.input.xanthate</th>\n",
       "      <th>primary_cleaner.state.floatbank8_a_air</th>\n",
       "      <th>primary_cleaner.state.floatbank8_a_level</th>\n",
       "      <th>primary_cleaner.state.floatbank8_b_air</th>\n",
       "      <th>primary_cleaner.state.floatbank8_b_level</th>\n",
       "      <th>primary_cleaner.state.floatbank8_c_air</th>\n",
       "      <th>...</th>\n",
       "      <th>secondary_cleaner.state.floatbank4_a_air</th>\n",
       "      <th>secondary_cleaner.state.floatbank4_a_level</th>\n",
       "      <th>secondary_cleaner.state.floatbank4_b_air</th>\n",
       "      <th>secondary_cleaner.state.floatbank4_b_level</th>\n",
       "      <th>secondary_cleaner.state.floatbank5_a_air</th>\n",
       "      <th>secondary_cleaner.state.floatbank5_a_level</th>\n",
       "      <th>secondary_cleaner.state.floatbank5_b_air</th>\n",
       "      <th>secondary_cleaner.state.floatbank5_b_level</th>\n",
       "      <th>secondary_cleaner.state.floatbank6_a_air</th>\n",
       "      <th>secondary_cleaner.state.floatbank6_a_level</th>\n",
       "    </tr>\n",
       "  </thead>\n",
       "  <tbody>\n",
       "    <tr>\n",
       "      <th>401</th>\n",
       "      <td>2016-09-19 23:59:59</td>\n",
       "      <td>98.633996</td>\n",
       "      <td>5.774915</td>\n",
       "      <td>7.54</td>\n",
       "      <td>0.545386</td>\n",
       "      <td>1499.652772</td>\n",
       "      <td>-499.630468</td>\n",
       "      <td>1501.355265</td>\n",
       "      <td>-499.819882</td>\n",
       "      <td>1501.096161</td>\n",
       "      <td>...</td>\n",
       "      <td>12.008617</td>\n",
       "      <td>-532.217071</td>\n",
       "      <td>10.007506</td>\n",
       "      <td>-500.241191</td>\n",
       "      <td>10.053348</td>\n",
       "      <td>-500.922306</td>\n",
       "      <td>5.086363</td>\n",
       "      <td>-494.808222</td>\n",
       "      <td>19.991666</td>\n",
       "      <td>-511.440370</td>\n",
       "    </tr>\n",
       "    <tr>\n",
       "      <th>3627</th>\n",
       "      <td>2017-10-19 07:59:59</td>\n",
       "      <td>240.558968</td>\n",
       "      <td>9.967241</td>\n",
       "      <td>6.20</td>\n",
       "      <td>2.901961</td>\n",
       "      <td>1698.439774</td>\n",
       "      <td>-500.276659</td>\n",
       "      <td>1699.257350</td>\n",
       "      <td>-498.636059</td>\n",
       "      <td>1696.617207</td>\n",
       "      <td>...</td>\n",
       "      <td>18.000762</td>\n",
       "      <td>-500.104354</td>\n",
       "      <td>15.985027</td>\n",
       "      <td>-399.488483</td>\n",
       "      <td>12.931874</td>\n",
       "      <td>-499.863160</td>\n",
       "      <td>9.992917</td>\n",
       "      <td>-499.920115</td>\n",
       "      <td>13.998254</td>\n",
       "      <td>-499.968219</td>\n",
       "    </tr>\n",
       "    <tr>\n",
       "      <th>1821</th>\n",
       "      <td>2016-11-27 13:59:59</td>\n",
       "      <td>175.617464</td>\n",
       "      <td>6.040712</td>\n",
       "      <td>7.40</td>\n",
       "      <td>1.044581</td>\n",
       "      <td>1601.970882</td>\n",
       "      <td>-499.250894</td>\n",
       "      <td>1601.381368</td>\n",
       "      <td>-500.753097</td>\n",
       "      <td>1604.296877</td>\n",
       "      <td>...</td>\n",
       "      <td>17.991387</td>\n",
       "      <td>-497.369556</td>\n",
       "      <td>15.912256</td>\n",
       "      <td>-497.351723</td>\n",
       "      <td>17.306692</td>\n",
       "      <td>-497.897512</td>\n",
       "      <td>11.989032</td>\n",
       "      <td>-499.868073</td>\n",
       "      <td>21.982181</td>\n",
       "      <td>-497.468112</td>\n",
       "    </tr>\n",
       "    <tr>\n",
       "      <th>4524</th>\n",
       "      <td>2017-11-27 06:59:59</td>\n",
       "      <td>209.490993</td>\n",
       "      <td>10.994401</td>\n",
       "      <td>7.56</td>\n",
       "      <td>2.188639</td>\n",
       "      <td>1601.538327</td>\n",
       "      <td>-499.583949</td>\n",
       "      <td>1597.859094</td>\n",
       "      <td>-502.138144</td>\n",
       "      <td>1602.434801</td>\n",
       "      <td>...</td>\n",
       "      <td>16.980418</td>\n",
       "      <td>-498.383482</td>\n",
       "      <td>14.979629</td>\n",
       "      <td>-499.461545</td>\n",
       "      <td>10.983083</td>\n",
       "      <td>-500.427415</td>\n",
       "      <td>9.026080</td>\n",
       "      <td>-499.979700</td>\n",
       "      <td>15.981963</td>\n",
       "      <td>-500.260659</td>\n",
       "    </tr>\n",
       "    <tr>\n",
       "      <th>4815</th>\n",
       "      <td>2017-12-09 20:59:59</td>\n",
       "      <td>211.662652</td>\n",
       "      <td>10.022066</td>\n",
       "      <td>7.70</td>\n",
       "      <td>1.146838</td>\n",
       "      <td>1552.461388</td>\n",
       "      <td>-500.241942</td>\n",
       "      <td>1547.998421</td>\n",
       "      <td>-503.354463</td>\n",
       "      <td>1551.803555</td>\n",
       "      <td>...</td>\n",
       "      <td>20.020927</td>\n",
       "      <td>-497.742730</td>\n",
       "      <td>15.105439</td>\n",
       "      <td>-143.417553</td>\n",
       "      <td>10.916710</td>\n",
       "      <td>-497.363633</td>\n",
       "      <td>8.002788</td>\n",
       "      <td>-499.547222</td>\n",
       "      <td>12.018829</td>\n",
       "      <td>-498.194743</td>\n",
       "    </tr>\n",
       "    <tr>\n",
       "      <th>2350</th>\n",
       "      <td>2016-12-19 23:59:59</td>\n",
       "      <td>222.797585</td>\n",
       "      <td>11.384504</td>\n",
       "      <td>7.25</td>\n",
       "      <td>1.109346</td>\n",
       "      <td>1497.468220</td>\n",
       "      <td>-500.132208</td>\n",
       "      <td>1498.377175</td>\n",
       "      <td>-500.056351</td>\n",
       "      <td>1500.303114</td>\n",
       "      <td>...</td>\n",
       "      <td>16.997481</td>\n",
       "      <td>-499.096986</td>\n",
       "      <td>14.996920</td>\n",
       "      <td>-461.970595</td>\n",
       "      <td>13.767945</td>\n",
       "      <td>-500.020796</td>\n",
       "      <td>12.055795</td>\n",
       "      <td>-500.026070</td>\n",
       "      <td>21.005349</td>\n",
       "      <td>-499.883347</td>\n",
       "    </tr>\n",
       "    <tr>\n",
       "      <th>2345</th>\n",
       "      <td>2016-12-19 18:59:59</td>\n",
       "      <td>212.982371</td>\n",
       "      <td>10.981180</td>\n",
       "      <td>7.41</td>\n",
       "      <td>1.198651</td>\n",
       "      <td>1501.659166</td>\n",
       "      <td>-499.954301</td>\n",
       "      <td>1502.461175</td>\n",
       "      <td>-498.978294</td>\n",
       "      <td>1502.736379</td>\n",
       "      <td>...</td>\n",
       "      <td>17.011979</td>\n",
       "      <td>-501.030525</td>\n",
       "      <td>15.022308</td>\n",
       "      <td>-492.003370</td>\n",
       "      <td>13.602375</td>\n",
       "      <td>-500.274606</td>\n",
       "      <td>11.969455</td>\n",
       "      <td>-499.851933</td>\n",
       "      <td>21.012546</td>\n",
       "      <td>-499.415926</td>\n",
       "    </tr>\n",
       "    <tr>\n",
       "      <th>4606</th>\n",
       "      <td>2017-11-30 18:59:59</td>\n",
       "      <td>218.909718</td>\n",
       "      <td>8.998260</td>\n",
       "      <td>8.56</td>\n",
       "      <td>2.586181</td>\n",
       "      <td>1551.513126</td>\n",
       "      <td>-499.661250</td>\n",
       "      <td>1550.198178</td>\n",
       "      <td>-498.451530</td>\n",
       "      <td>1554.012813</td>\n",
       "      <td>...</td>\n",
       "      <td>17.005601</td>\n",
       "      <td>-500.130025</td>\n",
       "      <td>14.872511</td>\n",
       "      <td>-484.085472</td>\n",
       "      <td>10.020080</td>\n",
       "      <td>-500.102024</td>\n",
       "      <td>8.016125</td>\n",
       "      <td>-500.188452</td>\n",
       "      <td>16.001671</td>\n",
       "      <td>-502.121704</td>\n",
       "    </tr>\n",
       "    <tr>\n",
       "      <th>773</th>\n",
       "      <td>2016-10-13 06:59:59</td>\n",
       "      <td>187.021442</td>\n",
       "      <td>14.020878</td>\n",
       "      <td>8.18</td>\n",
       "      <td>0.815215</td>\n",
       "      <td>1500.476996</td>\n",
       "      <td>-500.200018</td>\n",
       "      <td>1499.575958</td>\n",
       "      <td>-498.953003</td>\n",
       "      <td>1501.446964</td>\n",
       "      <td>...</td>\n",
       "      <td>12.054139</td>\n",
       "      <td>-501.151492</td>\n",
       "      <td>12.079505</td>\n",
       "      <td>-500.348900</td>\n",
       "      <td>10.134701</td>\n",
       "      <td>-499.411823</td>\n",
       "      <td>7.951836</td>\n",
       "      <td>-500.422025</td>\n",
       "      <td>17.008947</td>\n",
       "      <td>-498.826953</td>\n",
       "    </tr>\n",
       "    <tr>\n",
       "      <th>3107</th>\n",
       "      <td>2017-09-25 13:59:59</td>\n",
       "      <td>196.231093</td>\n",
       "      <td>7.120965</td>\n",
       "      <td>7.12</td>\n",
       "      <td>1.505678</td>\n",
       "      <td>1251.111642</td>\n",
       "      <td>-487.134107</td>\n",
       "      <td>1248.359154</td>\n",
       "      <td>-511.794530</td>\n",
       "      <td>1248.007379</td>\n",
       "      <td>...</td>\n",
       "      <td>14.984248</td>\n",
       "      <td>-497.269710</td>\n",
       "      <td>12.889337</td>\n",
       "      <td>-422.779537</td>\n",
       "      <td>11.005059</td>\n",
       "      <td>-498.678116</td>\n",
       "      <td>8.966700</td>\n",
       "      <td>-474.403007</td>\n",
       "      <td>11.995862</td>\n",
       "      <td>-499.154794</td>\n",
       "    </tr>\n",
       "  </tbody>\n",
       "</table>\n",
       "<p>10 rows × 53 columns</p>\n",
       "</div>"
      ],
      "text/plain": [
       "                     date  primary_cleaner.input.sulfate  \\\n",
       "401   2016-09-19 23:59:59                      98.633996   \n",
       "3627  2017-10-19 07:59:59                     240.558968   \n",
       "1821  2016-11-27 13:59:59                     175.617464   \n",
       "4524  2017-11-27 06:59:59                     209.490993   \n",
       "4815  2017-12-09 20:59:59                     211.662652   \n",
       "2350  2016-12-19 23:59:59                     222.797585   \n",
       "2345  2016-12-19 18:59:59                     212.982371   \n",
       "4606  2017-11-30 18:59:59                     218.909718   \n",
       "773   2016-10-13 06:59:59                     187.021442   \n",
       "3107  2017-09-25 13:59:59                     196.231093   \n",
       "\n",
       "      primary_cleaner.input.depressant  primary_cleaner.input.feed_size  \\\n",
       "401                           5.774915                             7.54   \n",
       "3627                          9.967241                             6.20   \n",
       "1821                          6.040712                             7.40   \n",
       "4524                         10.994401                             7.56   \n",
       "4815                         10.022066                             7.70   \n",
       "2350                         11.384504                             7.25   \n",
       "2345                         10.981180                             7.41   \n",
       "4606                          8.998260                             8.56   \n",
       "773                          14.020878                             8.18   \n",
       "3107                          7.120965                             7.12   \n",
       "\n",
       "      primary_cleaner.input.xanthate  primary_cleaner.state.floatbank8_a_air  \\\n",
       "401                         0.545386                             1499.652772   \n",
       "3627                        2.901961                             1698.439774   \n",
       "1821                        1.044581                             1601.970882   \n",
       "4524                        2.188639                             1601.538327   \n",
       "4815                        1.146838                             1552.461388   \n",
       "2350                        1.109346                             1497.468220   \n",
       "2345                        1.198651                             1501.659166   \n",
       "4606                        2.586181                             1551.513126   \n",
       "773                         0.815215                             1500.476996   \n",
       "3107                        1.505678                             1251.111642   \n",
       "\n",
       "      primary_cleaner.state.floatbank8_a_level  \\\n",
       "401                                -499.630468   \n",
       "3627                               -500.276659   \n",
       "1821                               -499.250894   \n",
       "4524                               -499.583949   \n",
       "4815                               -500.241942   \n",
       "2350                               -500.132208   \n",
       "2345                               -499.954301   \n",
       "4606                               -499.661250   \n",
       "773                                -500.200018   \n",
       "3107                               -487.134107   \n",
       "\n",
       "      primary_cleaner.state.floatbank8_b_air  \\\n",
       "401                              1501.355265   \n",
       "3627                             1699.257350   \n",
       "1821                             1601.381368   \n",
       "4524                             1597.859094   \n",
       "4815                             1547.998421   \n",
       "2350                             1498.377175   \n",
       "2345                             1502.461175   \n",
       "4606                             1550.198178   \n",
       "773                              1499.575958   \n",
       "3107                             1248.359154   \n",
       "\n",
       "      primary_cleaner.state.floatbank8_b_level  \\\n",
       "401                                -499.819882   \n",
       "3627                               -498.636059   \n",
       "1821                               -500.753097   \n",
       "4524                               -502.138144   \n",
       "4815                               -503.354463   \n",
       "2350                               -500.056351   \n",
       "2345                               -498.978294   \n",
       "4606                               -498.451530   \n",
       "773                                -498.953003   \n",
       "3107                               -511.794530   \n",
       "\n",
       "      primary_cleaner.state.floatbank8_c_air  ...  \\\n",
       "401                              1501.096161  ...   \n",
       "3627                             1696.617207  ...   \n",
       "1821                             1604.296877  ...   \n",
       "4524                             1602.434801  ...   \n",
       "4815                             1551.803555  ...   \n",
       "2350                             1500.303114  ...   \n",
       "2345                             1502.736379  ...   \n",
       "4606                             1554.012813  ...   \n",
       "773                              1501.446964  ...   \n",
       "3107                             1248.007379  ...   \n",
       "\n",
       "      secondary_cleaner.state.floatbank4_a_air  \\\n",
       "401                                  12.008617   \n",
       "3627                                 18.000762   \n",
       "1821                                 17.991387   \n",
       "4524                                 16.980418   \n",
       "4815                                 20.020927   \n",
       "2350                                 16.997481   \n",
       "2345                                 17.011979   \n",
       "4606                                 17.005601   \n",
       "773                                  12.054139   \n",
       "3107                                 14.984248   \n",
       "\n",
       "      secondary_cleaner.state.floatbank4_a_level  \\\n",
       "401                                  -532.217071   \n",
       "3627                                 -500.104354   \n",
       "1821                                 -497.369556   \n",
       "4524                                 -498.383482   \n",
       "4815                                 -497.742730   \n",
       "2350                                 -499.096986   \n",
       "2345                                 -501.030525   \n",
       "4606                                 -500.130025   \n",
       "773                                  -501.151492   \n",
       "3107                                 -497.269710   \n",
       "\n",
       "      secondary_cleaner.state.floatbank4_b_air  \\\n",
       "401                                  10.007506   \n",
       "3627                                 15.985027   \n",
       "1821                                 15.912256   \n",
       "4524                                 14.979629   \n",
       "4815                                 15.105439   \n",
       "2350                                 14.996920   \n",
       "2345                                 15.022308   \n",
       "4606                                 14.872511   \n",
       "773                                  12.079505   \n",
       "3107                                 12.889337   \n",
       "\n",
       "      secondary_cleaner.state.floatbank4_b_level  \\\n",
       "401                                  -500.241191   \n",
       "3627                                 -399.488483   \n",
       "1821                                 -497.351723   \n",
       "4524                                 -499.461545   \n",
       "4815                                 -143.417553   \n",
       "2350                                 -461.970595   \n",
       "2345                                 -492.003370   \n",
       "4606                                 -484.085472   \n",
       "773                                  -500.348900   \n",
       "3107                                 -422.779537   \n",
       "\n",
       "      secondary_cleaner.state.floatbank5_a_air  \\\n",
       "401                                  10.053348   \n",
       "3627                                 12.931874   \n",
       "1821                                 17.306692   \n",
       "4524                                 10.983083   \n",
       "4815                                 10.916710   \n",
       "2350                                 13.767945   \n",
       "2345                                 13.602375   \n",
       "4606                                 10.020080   \n",
       "773                                  10.134701   \n",
       "3107                                 11.005059   \n",
       "\n",
       "      secondary_cleaner.state.floatbank5_a_level  \\\n",
       "401                                  -500.922306   \n",
       "3627                                 -499.863160   \n",
       "1821                                 -497.897512   \n",
       "4524                                 -500.427415   \n",
       "4815                                 -497.363633   \n",
       "2350                                 -500.020796   \n",
       "2345                                 -500.274606   \n",
       "4606                                 -500.102024   \n",
       "773                                  -499.411823   \n",
       "3107                                 -498.678116   \n",
       "\n",
       "      secondary_cleaner.state.floatbank5_b_air  \\\n",
       "401                                   5.086363   \n",
       "3627                                  9.992917   \n",
       "1821                                 11.989032   \n",
       "4524                                  9.026080   \n",
       "4815                                  8.002788   \n",
       "2350                                 12.055795   \n",
       "2345                                 11.969455   \n",
       "4606                                  8.016125   \n",
       "773                                   7.951836   \n",
       "3107                                  8.966700   \n",
       "\n",
       "      secondary_cleaner.state.floatbank5_b_level  \\\n",
       "401                                  -494.808222   \n",
       "3627                                 -499.920115   \n",
       "1821                                 -499.868073   \n",
       "4524                                 -499.979700   \n",
       "4815                                 -499.547222   \n",
       "2350                                 -500.026070   \n",
       "2345                                 -499.851933   \n",
       "4606                                 -500.188452   \n",
       "773                                  -500.422025   \n",
       "3107                                 -474.403007   \n",
       "\n",
       "      secondary_cleaner.state.floatbank6_a_air  \\\n",
       "401                                  19.991666   \n",
       "3627                                 13.998254   \n",
       "1821                                 21.982181   \n",
       "4524                                 15.981963   \n",
       "4815                                 12.018829   \n",
       "2350                                 21.005349   \n",
       "2345                                 21.012546   \n",
       "4606                                 16.001671   \n",
       "773                                  17.008947   \n",
       "3107                                 11.995862   \n",
       "\n",
       "      secondary_cleaner.state.floatbank6_a_level  \n",
       "401                                  -511.440370  \n",
       "3627                                 -499.968219  \n",
       "1821                                 -497.468112  \n",
       "4524                                 -500.260659  \n",
       "4815                                 -498.194743  \n",
       "2350                                 -499.883347  \n",
       "2345                                 -499.415926  \n",
       "4606                                 -502.121704  \n",
       "773                                  -498.826953  \n",
       "3107                                 -499.154794  \n",
       "\n",
       "[10 rows x 53 columns]"
      ]
     },
     "metadata": {},
     "output_type": "display_data"
    },
    {
     "name": "stdout",
     "output_type": "stream",
     "text": [
      "\n",
      "Выведем информацию о таблице df_gold_test\n",
      "\n",
      "<class 'pandas.core.frame.DataFrame'>\n",
      "RangeIndex: 5290 entries, 0 to 5289\n",
      "Data columns (total 53 columns):\n",
      " #   Column                                      Non-Null Count  Dtype  \n",
      "---  ------                                      --------------  -----  \n",
      " 0   date                                        5290 non-null   object \n",
      " 1   primary_cleaner.input.sulfate               5286 non-null   float64\n",
      " 2   primary_cleaner.input.depressant            5285 non-null   float64\n",
      " 3   primary_cleaner.input.feed_size             5290 non-null   float64\n",
      " 4   primary_cleaner.input.xanthate              5286 non-null   float64\n",
      " 5   primary_cleaner.state.floatbank8_a_air      5290 non-null   float64\n",
      " 6   primary_cleaner.state.floatbank8_a_level    5290 non-null   float64\n",
      " 7   primary_cleaner.state.floatbank8_b_air      5290 non-null   float64\n",
      " 8   primary_cleaner.state.floatbank8_b_level    5290 non-null   float64\n",
      " 9   primary_cleaner.state.floatbank8_c_air      5290 non-null   float64\n",
      " 10  primary_cleaner.state.floatbank8_c_level    5290 non-null   float64\n",
      " 11  primary_cleaner.state.floatbank8_d_air      5290 non-null   float64\n",
      " 12  primary_cleaner.state.floatbank8_d_level    5290 non-null   float64\n",
      " 13  rougher.input.feed_ag                       5290 non-null   float64\n",
      " 14  rougher.input.feed_pb                       5290 non-null   float64\n",
      " 15  rougher.input.feed_rate                     5287 non-null   float64\n",
      " 16  rougher.input.feed_size                     5289 non-null   float64\n",
      " 17  rougher.input.feed_sol                      5269 non-null   float64\n",
      " 18  rougher.input.feed_au                       5290 non-null   float64\n",
      " 19  rougher.input.floatbank10_sulfate           5285 non-null   float64\n",
      " 20  rougher.input.floatbank10_xanthate          5290 non-null   float64\n",
      " 21  rougher.input.floatbank11_sulfate           5282 non-null   float64\n",
      " 22  rougher.input.floatbank11_xanthate          5265 non-null   float64\n",
      " 23  rougher.state.floatbank10_a_air             5290 non-null   float64\n",
      " 24  rougher.state.floatbank10_a_level           5290 non-null   float64\n",
      " 25  rougher.state.floatbank10_b_air             5290 non-null   float64\n",
      " 26  rougher.state.floatbank10_b_level           5290 non-null   float64\n",
      " 27  rougher.state.floatbank10_c_air             5290 non-null   float64\n",
      " 28  rougher.state.floatbank10_c_level           5290 non-null   float64\n",
      " 29  rougher.state.floatbank10_d_air             5290 non-null   float64\n",
      " 30  rougher.state.floatbank10_d_level           5290 non-null   float64\n",
      " 31  rougher.state.floatbank10_e_air             5290 non-null   float64\n",
      " 32  rougher.state.floatbank10_e_level           5290 non-null   float64\n",
      " 33  rougher.state.floatbank10_f_air             5290 non-null   float64\n",
      " 34  rougher.state.floatbank10_f_level           5290 non-null   float64\n",
      " 35  secondary_cleaner.state.floatbank2_a_air    5287 non-null   float64\n",
      " 36  secondary_cleaner.state.floatbank2_a_level  5290 non-null   float64\n",
      " 37  secondary_cleaner.state.floatbank2_b_air    5288 non-null   float64\n",
      " 38  secondary_cleaner.state.floatbank2_b_level  5290 non-null   float64\n",
      " 39  secondary_cleaner.state.floatbank3_a_air    5281 non-null   float64\n",
      " 40  secondary_cleaner.state.floatbank3_a_level  5290 non-null   float64\n",
      " 41  secondary_cleaner.state.floatbank3_b_air    5290 non-null   float64\n",
      " 42  secondary_cleaner.state.floatbank3_b_level  5290 non-null   float64\n",
      " 43  secondary_cleaner.state.floatbank4_a_air    5290 non-null   float64\n",
      " 44  secondary_cleaner.state.floatbank4_a_level  5290 non-null   float64\n",
      " 45  secondary_cleaner.state.floatbank4_b_air    5290 non-null   float64\n",
      " 46  secondary_cleaner.state.floatbank4_b_level  5290 non-null   float64\n",
      " 47  secondary_cleaner.state.floatbank5_a_air    5290 non-null   float64\n",
      " 48  secondary_cleaner.state.floatbank5_a_level  5290 non-null   float64\n",
      " 49  secondary_cleaner.state.floatbank5_b_air    5290 non-null   float64\n",
      " 50  secondary_cleaner.state.floatbank5_b_level  5290 non-null   float64\n",
      " 51  secondary_cleaner.state.floatbank6_a_air    5290 non-null   float64\n",
      " 52  secondary_cleaner.state.floatbank6_a_level  5290 non-null   float64\n",
      "dtypes: float64(52), object(1)\n",
      "memory usage: 2.1+ MB\n"
     ]
    },
    {
     "data": {
      "text/plain": [
       "None"
      ]
     },
     "metadata": {},
     "output_type": "display_data"
    },
    {
     "name": "stdout",
     "output_type": "stream",
     "text": [
      "\n",
      "Общее количество пропусков в датафрейме 90 шт, это составляет 1.70% от данных\n",
      "\n",
      "Количество дубликатов в таблице df_gold_test равно 0 шт\n",
      "\n"
     ]
    }
   ],
   "source": [
    "df_info(df_gold_test, 'df_gold_test')"
   ]
  },
  {
   "cell_type": "markdown",
   "metadata": {},
   "source": [
    "## Таблица **df_gold_full**"
   ]
  },
  {
   "cell_type": "markdown",
   "metadata": {},
   "source": [
    "Выведем информацию о таблице **df_gold_full**"
   ]
  },
  {
   "cell_type": "code",
   "execution_count": 6,
   "metadata": {
    "scrolled": false
   },
   "outputs": [
    {
     "name": "stdout",
     "output_type": "stream",
     "text": [
      "\n",
      "Размер таблицы df_gold_full: (19439, 87)\n",
      "\n",
      "Выведем 10 строк из таблицы df_gold_full\n"
     ]
    },
    {
     "data": {
      "text/html": [
       "<div>\n",
       "<style scoped>\n",
       "    .dataframe tbody tr th:only-of-type {\n",
       "        vertical-align: middle;\n",
       "    }\n",
       "\n",
       "    .dataframe tbody tr th {\n",
       "        vertical-align: top;\n",
       "    }\n",
       "\n",
       "    .dataframe thead th {\n",
       "        text-align: right;\n",
       "    }\n",
       "</style>\n",
       "<table border=\"1\" class=\"dataframe\">\n",
       "  <thead>\n",
       "    <tr style=\"text-align: right;\">\n",
       "      <th></th>\n",
       "      <th>date</th>\n",
       "      <th>final.output.concentrate_ag</th>\n",
       "      <th>final.output.concentrate_pb</th>\n",
       "      <th>final.output.concentrate_sol</th>\n",
       "      <th>final.output.concentrate_au</th>\n",
       "      <th>final.output.recovery</th>\n",
       "      <th>final.output.tail_ag</th>\n",
       "      <th>final.output.tail_pb</th>\n",
       "      <th>final.output.tail_sol</th>\n",
       "      <th>final.output.tail_au</th>\n",
       "      <th>...</th>\n",
       "      <th>secondary_cleaner.state.floatbank4_a_air</th>\n",
       "      <th>secondary_cleaner.state.floatbank4_a_level</th>\n",
       "      <th>secondary_cleaner.state.floatbank4_b_air</th>\n",
       "      <th>secondary_cleaner.state.floatbank4_b_level</th>\n",
       "      <th>secondary_cleaner.state.floatbank5_a_air</th>\n",
       "      <th>secondary_cleaner.state.floatbank5_a_level</th>\n",
       "      <th>secondary_cleaner.state.floatbank5_b_air</th>\n",
       "      <th>secondary_cleaner.state.floatbank5_b_level</th>\n",
       "      <th>secondary_cleaner.state.floatbank6_a_air</th>\n",
       "      <th>secondary_cleaner.state.floatbank6_a_level</th>\n",
       "    </tr>\n",
       "  </thead>\n",
       "  <tbody>\n",
       "    <tr>\n",
       "      <th>17097</th>\n",
       "      <td>2018-04-24 16:59:59</td>\n",
       "      <td>5.574068</td>\n",
       "      <td>10.006605</td>\n",
       "      <td>10.168583</td>\n",
       "      <td>45.413982</td>\n",
       "      <td>73.493614</td>\n",
       "      <td>13.622092</td>\n",
       "      <td>2.269827</td>\n",
       "      <td>9.107798</td>\n",
       "      <td>2.505462</td>\n",
       "      <td>...</td>\n",
       "      <td>27.016022</td>\n",
       "      <td>-500.691420</td>\n",
       "      <td>20.027447</td>\n",
       "      <td>-500.552642</td>\n",
       "      <td>19.989638</td>\n",
       "      <td>-502.504927</td>\n",
       "      <td>14.976683</td>\n",
       "      <td>-500.080597</td>\n",
       "      <td>17.994731</td>\n",
       "      <td>-499.958953</td>\n",
       "    </tr>\n",
       "    <tr>\n",
       "      <th>15035</th>\n",
       "      <td>2017-12-30 23:59:59</td>\n",
       "      <td>4.805289</td>\n",
       "      <td>9.520718</td>\n",
       "      <td>10.371853</td>\n",
       "      <td>46.749450</td>\n",
       "      <td>68.403700</td>\n",
       "      <td>13.183674</td>\n",
       "      <td>3.253708</td>\n",
       "      <td>14.172458</td>\n",
       "      <td>4.193785</td>\n",
       "      <td>...</td>\n",
       "      <td>14.017087</td>\n",
       "      <td>-501.634474</td>\n",
       "      <td>12.018022</td>\n",
       "      <td>-513.689667</td>\n",
       "      <td>7.939394</td>\n",
       "      <td>-499.298128</td>\n",
       "      <td>6.009722</td>\n",
       "      <td>-500.051600</td>\n",
       "      <td>8.988762</td>\n",
       "      <td>-499.933689</td>\n",
       "    </tr>\n",
       "    <tr>\n",
       "      <th>9328</th>\n",
       "      <td>2017-04-08 23:59:59</td>\n",
       "      <td>3.947970</td>\n",
       "      <td>10.539099</td>\n",
       "      <td>9.704682</td>\n",
       "      <td>47.028675</td>\n",
       "      <td>57.587687</td>\n",
       "      <td>8.776794</td>\n",
       "      <td>3.626119</td>\n",
       "      <td>11.324479</td>\n",
       "      <td>3.309732</td>\n",
       "      <td>...</td>\n",
       "      <td>24.996631</td>\n",
       "      <td>-402.060009</td>\n",
       "      <td>22.948288</td>\n",
       "      <td>-400.661063</td>\n",
       "      <td>25.991532</td>\n",
       "      <td>-449.653052</td>\n",
       "      <td>24.008107</td>\n",
       "      <td>-450.012087</td>\n",
       "      <td>30.031472</td>\n",
       "      <td>-499.799492</td>\n",
       "    </tr>\n",
       "    <tr>\n",
       "      <th>7070</th>\n",
       "      <td>2016-12-21 13:59:59</td>\n",
       "      <td>6.130965</td>\n",
       "      <td>7.464036</td>\n",
       "      <td>11.922508</td>\n",
       "      <td>44.895892</td>\n",
       "      <td>76.198139</td>\n",
       "      <td>11.503265</td>\n",
       "      <td>2.619491</td>\n",
       "      <td>7.002617</td>\n",
       "      <td>2.493348</td>\n",
       "      <td>...</td>\n",
       "      <td>17.016261</td>\n",
       "      <td>-500.578259</td>\n",
       "      <td>14.890002</td>\n",
       "      <td>-500.546018</td>\n",
       "      <td>13.231676</td>\n",
       "      <td>-501.016687</td>\n",
       "      <td>12.021246</td>\n",
       "      <td>-500.402787</td>\n",
       "      <td>21.028750</td>\n",
       "      <td>-499.847367</td>\n",
       "    </tr>\n",
       "    <tr>\n",
       "      <th>18969</th>\n",
       "      <td>2018-07-26 15:59:59</td>\n",
       "      <td>3.157661</td>\n",
       "      <td>7.291063</td>\n",
       "      <td>9.525486</td>\n",
       "      <td>48.616193</td>\n",
       "      <td>73.874922</td>\n",
       "      <td>13.663235</td>\n",
       "      <td>3.356960</td>\n",
       "      <td>7.328647</td>\n",
       "      <td>3.621245</td>\n",
       "      <td>...</td>\n",
       "      <td>21.051593</td>\n",
       "      <td>-503.253181</td>\n",
       "      <td>17.366571</td>\n",
       "      <td>-500.400241</td>\n",
       "      <td>14.290565</td>\n",
       "      <td>-506.390722</td>\n",
       "      <td>10.971744</td>\n",
       "      <td>-500.377805</td>\n",
       "      <td>16.776605</td>\n",
       "      <td>-500.592381</td>\n",
       "    </tr>\n",
       "    <tr>\n",
       "      <th>16166</th>\n",
       "      <td>2018-03-09 14:59:59</td>\n",
       "      <td>7.781166</td>\n",
       "      <td>8.781331</td>\n",
       "      <td>10.845172</td>\n",
       "      <td>42.760624</td>\n",
       "      <td>83.441284</td>\n",
       "      <td>12.247316</td>\n",
       "      <td>1.284364</td>\n",
       "      <td>12.984538</td>\n",
       "      <td>1.782287</td>\n",
       "      <td>...</td>\n",
       "      <td>22.988774</td>\n",
       "      <td>-501.965953</td>\n",
       "      <td>15.037460</td>\n",
       "      <td>-500.261980</td>\n",
       "      <td>17.945586</td>\n",
       "      <td>-501.189076</td>\n",
       "      <td>11.990908</td>\n",
       "      <td>-499.863160</td>\n",
       "      <td>12.002277</td>\n",
       "      <td>-501.751639</td>\n",
       "    </tr>\n",
       "    <tr>\n",
       "      <th>5882</th>\n",
       "      <td>2016-10-31 03:59:59</td>\n",
       "      <td>4.050246</td>\n",
       "      <td>10.896169</td>\n",
       "      <td>9.529423</td>\n",
       "      <td>45.275150</td>\n",
       "      <td>73.478723</td>\n",
       "      <td>8.580570</td>\n",
       "      <td>3.113738</td>\n",
       "      <td>8.134619</td>\n",
       "      <td>2.877491</td>\n",
       "      <td>...</td>\n",
       "      <td>19.997051</td>\n",
       "      <td>-500.407173</td>\n",
       "      <td>17.048557</td>\n",
       "      <td>-500.253961</td>\n",
       "      <td>16.996176</td>\n",
       "      <td>-500.260994</td>\n",
       "      <td>13.977337</td>\n",
       "      <td>-499.836560</td>\n",
       "      <td>21.986097</td>\n",
       "      <td>-499.971205</td>\n",
       "    </tr>\n",
       "    <tr>\n",
       "      <th>19052</th>\n",
       "      <td>2018-07-30 06:59:59</td>\n",
       "      <td>3.931801</td>\n",
       "      <td>8.638787</td>\n",
       "      <td>8.915844</td>\n",
       "      <td>46.834886</td>\n",
       "      <td>76.046479</td>\n",
       "      <td>12.826423</td>\n",
       "      <td>2.344813</td>\n",
       "      <td>10.473729</td>\n",
       "      <td>2.483346</td>\n",
       "      <td>...</td>\n",
       "      <td>20.039912</td>\n",
       "      <td>-500.256925</td>\n",
       "      <td>14.943820</td>\n",
       "      <td>-501.641309</td>\n",
       "      <td>14.931276</td>\n",
       "      <td>-498.155280</td>\n",
       "      <td>10.983469</td>\n",
       "      <td>-499.535425</td>\n",
       "      <td>17.980221</td>\n",
       "      <td>-499.838254</td>\n",
       "    </tr>\n",
       "    <tr>\n",
       "      <th>1709</th>\n",
       "      <td>2016-04-10 23:00:00</td>\n",
       "      <td>9.917852</td>\n",
       "      <td>9.994286</td>\n",
       "      <td>6.768644</td>\n",
       "      <td>20.355824</td>\n",
       "      <td>51.352420</td>\n",
       "      <td>7.893991</td>\n",
       "      <td>2.162256</td>\n",
       "      <td>5.329915</td>\n",
       "      <td>3.807736</td>\n",
       "      <td>...</td>\n",
       "      <td>14.003640</td>\n",
       "      <td>-688.622690</td>\n",
       "      <td>13.939262</td>\n",
       "      <td>-489.663919</td>\n",
       "      <td>15.108779</td>\n",
       "      <td>-499.730450</td>\n",
       "      <td>14.999862</td>\n",
       "      <td>-499.824734</td>\n",
       "      <td>25.015549</td>\n",
       "      <td>-497.463439</td>\n",
       "    </tr>\n",
       "    <tr>\n",
       "      <th>8305</th>\n",
       "      <td>2017-02-19 21:59:59</td>\n",
       "      <td>9.593255</td>\n",
       "      <td>9.051188</td>\n",
       "      <td>11.952363</td>\n",
       "      <td>39.387582</td>\n",
       "      <td>67.452114</td>\n",
       "      <td>10.341520</td>\n",
       "      <td>3.906455</td>\n",
       "      <td>4.485071</td>\n",
       "      <td>4.515766</td>\n",
       "      <td>...</td>\n",
       "      <td>24.984213</td>\n",
       "      <td>-398.658357</td>\n",
       "      <td>22.969669</td>\n",
       "      <td>-400.009070</td>\n",
       "      <td>23.000749</td>\n",
       "      <td>-449.166249</td>\n",
       "      <td>20.013969</td>\n",
       "      <td>-450.021191</td>\n",
       "      <td>25.023017</td>\n",
       "      <td>-498.674705</td>\n",
       "    </tr>\n",
       "  </tbody>\n",
       "</table>\n",
       "<p>10 rows × 87 columns</p>\n",
       "</div>"
      ],
      "text/plain": [
       "                      date  final.output.concentrate_ag  \\\n",
       "17097  2018-04-24 16:59:59                     5.574068   \n",
       "15035  2017-12-30 23:59:59                     4.805289   \n",
       "9328   2017-04-08 23:59:59                     3.947970   \n",
       "7070   2016-12-21 13:59:59                     6.130965   \n",
       "18969  2018-07-26 15:59:59                     3.157661   \n",
       "16166  2018-03-09 14:59:59                     7.781166   \n",
       "5882   2016-10-31 03:59:59                     4.050246   \n",
       "19052  2018-07-30 06:59:59                     3.931801   \n",
       "1709   2016-04-10 23:00:00                     9.917852   \n",
       "8305   2017-02-19 21:59:59                     9.593255   \n",
       "\n",
       "       final.output.concentrate_pb  final.output.concentrate_sol  \\\n",
       "17097                    10.006605                     10.168583   \n",
       "15035                     9.520718                     10.371853   \n",
       "9328                     10.539099                      9.704682   \n",
       "7070                      7.464036                     11.922508   \n",
       "18969                     7.291063                      9.525486   \n",
       "16166                     8.781331                     10.845172   \n",
       "5882                     10.896169                      9.529423   \n",
       "19052                     8.638787                      8.915844   \n",
       "1709                      9.994286                      6.768644   \n",
       "8305                      9.051188                     11.952363   \n",
       "\n",
       "       final.output.concentrate_au  final.output.recovery  \\\n",
       "17097                    45.413982              73.493614   \n",
       "15035                    46.749450              68.403700   \n",
       "9328                     47.028675              57.587687   \n",
       "7070                     44.895892              76.198139   \n",
       "18969                    48.616193              73.874922   \n",
       "16166                    42.760624              83.441284   \n",
       "5882                     45.275150              73.478723   \n",
       "19052                    46.834886              76.046479   \n",
       "1709                     20.355824              51.352420   \n",
       "8305                     39.387582              67.452114   \n",
       "\n",
       "       final.output.tail_ag  final.output.tail_pb  final.output.tail_sol  \\\n",
       "17097             13.622092              2.269827               9.107798   \n",
       "15035             13.183674              3.253708              14.172458   \n",
       "9328               8.776794              3.626119              11.324479   \n",
       "7070              11.503265              2.619491               7.002617   \n",
       "18969             13.663235              3.356960               7.328647   \n",
       "16166             12.247316              1.284364              12.984538   \n",
       "5882               8.580570              3.113738               8.134619   \n",
       "19052             12.826423              2.344813              10.473729   \n",
       "1709               7.893991              2.162256               5.329915   \n",
       "8305              10.341520              3.906455               4.485071   \n",
       "\n",
       "       final.output.tail_au  ...  secondary_cleaner.state.floatbank4_a_air  \\\n",
       "17097              2.505462  ...                                 27.016022   \n",
       "15035              4.193785  ...                                 14.017087   \n",
       "9328               3.309732  ...                                 24.996631   \n",
       "7070               2.493348  ...                                 17.016261   \n",
       "18969              3.621245  ...                                 21.051593   \n",
       "16166              1.782287  ...                                 22.988774   \n",
       "5882               2.877491  ...                                 19.997051   \n",
       "19052              2.483346  ...                                 20.039912   \n",
       "1709               3.807736  ...                                 14.003640   \n",
       "8305               4.515766  ...                                 24.984213   \n",
       "\n",
       "       secondary_cleaner.state.floatbank4_a_level  \\\n",
       "17097                                 -500.691420   \n",
       "15035                                 -501.634474   \n",
       "9328                                  -402.060009   \n",
       "7070                                  -500.578259   \n",
       "18969                                 -503.253181   \n",
       "16166                                 -501.965953   \n",
       "5882                                  -500.407173   \n",
       "19052                                 -500.256925   \n",
       "1709                                  -688.622690   \n",
       "8305                                  -398.658357   \n",
       "\n",
       "       secondary_cleaner.state.floatbank4_b_air  \\\n",
       "17097                                 20.027447   \n",
       "15035                                 12.018022   \n",
       "9328                                  22.948288   \n",
       "7070                                  14.890002   \n",
       "18969                                 17.366571   \n",
       "16166                                 15.037460   \n",
       "5882                                  17.048557   \n",
       "19052                                 14.943820   \n",
       "1709                                  13.939262   \n",
       "8305                                  22.969669   \n",
       "\n",
       "       secondary_cleaner.state.floatbank4_b_level  \\\n",
       "17097                                 -500.552642   \n",
       "15035                                 -513.689667   \n",
       "9328                                  -400.661063   \n",
       "7070                                  -500.546018   \n",
       "18969                                 -500.400241   \n",
       "16166                                 -500.261980   \n",
       "5882                                  -500.253961   \n",
       "19052                                 -501.641309   \n",
       "1709                                  -489.663919   \n",
       "8305                                  -400.009070   \n",
       "\n",
       "       secondary_cleaner.state.floatbank5_a_air  \\\n",
       "17097                                 19.989638   \n",
       "15035                                  7.939394   \n",
       "9328                                  25.991532   \n",
       "7070                                  13.231676   \n",
       "18969                                 14.290565   \n",
       "16166                                 17.945586   \n",
       "5882                                  16.996176   \n",
       "19052                                 14.931276   \n",
       "1709                                  15.108779   \n",
       "8305                                  23.000749   \n",
       "\n",
       "       secondary_cleaner.state.floatbank5_a_level  \\\n",
       "17097                                 -502.504927   \n",
       "15035                                 -499.298128   \n",
       "9328                                  -449.653052   \n",
       "7070                                  -501.016687   \n",
       "18969                                 -506.390722   \n",
       "16166                                 -501.189076   \n",
       "5882                                  -500.260994   \n",
       "19052                                 -498.155280   \n",
       "1709                                  -499.730450   \n",
       "8305                                  -449.166249   \n",
       "\n",
       "       secondary_cleaner.state.floatbank5_b_air  \\\n",
       "17097                                 14.976683   \n",
       "15035                                  6.009722   \n",
       "9328                                  24.008107   \n",
       "7070                                  12.021246   \n",
       "18969                                 10.971744   \n",
       "16166                                 11.990908   \n",
       "5882                                  13.977337   \n",
       "19052                                 10.983469   \n",
       "1709                                  14.999862   \n",
       "8305                                  20.013969   \n",
       "\n",
       "       secondary_cleaner.state.floatbank5_b_level  \\\n",
       "17097                                 -500.080597   \n",
       "15035                                 -500.051600   \n",
       "9328                                  -450.012087   \n",
       "7070                                  -500.402787   \n",
       "18969                                 -500.377805   \n",
       "16166                                 -499.863160   \n",
       "5882                                  -499.836560   \n",
       "19052                                 -499.535425   \n",
       "1709                                  -499.824734   \n",
       "8305                                  -450.021191   \n",
       "\n",
       "       secondary_cleaner.state.floatbank6_a_air  \\\n",
       "17097                                 17.994731   \n",
       "15035                                  8.988762   \n",
       "9328                                  30.031472   \n",
       "7070                                  21.028750   \n",
       "18969                                 16.776605   \n",
       "16166                                 12.002277   \n",
       "5882                                  21.986097   \n",
       "19052                                 17.980221   \n",
       "1709                                  25.015549   \n",
       "8305                                  25.023017   \n",
       "\n",
       "       secondary_cleaner.state.floatbank6_a_level  \n",
       "17097                                 -499.958953  \n",
       "15035                                 -499.933689  \n",
       "9328                                  -499.799492  \n",
       "7070                                  -499.847367  \n",
       "18969                                 -500.592381  \n",
       "16166                                 -501.751639  \n",
       "5882                                  -499.971205  \n",
       "19052                                 -499.838254  \n",
       "1709                                  -497.463439  \n",
       "8305                                  -498.674705  \n",
       "\n",
       "[10 rows x 87 columns]"
      ]
     },
     "metadata": {},
     "output_type": "display_data"
    },
    {
     "name": "stdout",
     "output_type": "stream",
     "text": [
      "\n",
      "Выведем информацию о таблице df_gold_full\n",
      "\n",
      "<class 'pandas.core.frame.DataFrame'>\n",
      "RangeIndex: 19439 entries, 0 to 19438\n",
      "Data columns (total 87 columns):\n",
      " #   Column                                              Non-Null Count  Dtype  \n",
      "---  ------                                              --------------  -----  \n",
      " 0   date                                                19439 non-null  object \n",
      " 1   final.output.concentrate_ag                         19438 non-null  float64\n",
      " 2   final.output.concentrate_pb                         19438 non-null  float64\n",
      " 3   final.output.concentrate_sol                        19228 non-null  float64\n",
      " 4   final.output.concentrate_au                         19439 non-null  float64\n",
      " 5   final.output.recovery                               19439 non-null  float64\n",
      " 6   final.output.tail_ag                                19438 non-null  float64\n",
      " 7   final.output.tail_pb                                19338 non-null  float64\n",
      " 8   final.output.tail_sol                               19433 non-null  float64\n",
      " 9   final.output.tail_au                                19439 non-null  float64\n",
      " 10  primary_cleaner.input.sulfate                       19415 non-null  float64\n",
      " 11  primary_cleaner.input.depressant                    19402 non-null  float64\n",
      " 12  primary_cleaner.input.feed_size                     19439 non-null  float64\n",
      " 13  primary_cleaner.input.xanthate                      19335 non-null  float64\n",
      " 14  primary_cleaner.output.concentrate_ag               19439 non-null  float64\n",
      " 15  primary_cleaner.output.concentrate_pb               19323 non-null  float64\n",
      " 16  primary_cleaner.output.concentrate_sol              19069 non-null  float64\n",
      " 17  primary_cleaner.output.concentrate_au               19439 non-null  float64\n",
      " 18  primary_cleaner.output.tail_ag                      19435 non-null  float64\n",
      " 19  primary_cleaner.output.tail_pb                      19418 non-null  float64\n",
      " 20  primary_cleaner.output.tail_sol                     19377 non-null  float64\n",
      " 21  primary_cleaner.output.tail_au                      19439 non-null  float64\n",
      " 22  primary_cleaner.state.floatbank8_a_air              19435 non-null  float64\n",
      " 23  primary_cleaner.state.floatbank8_a_level            19438 non-null  float64\n",
      " 24  primary_cleaner.state.floatbank8_b_air              19435 non-null  float64\n",
      " 25  primary_cleaner.state.floatbank8_b_level            19438 non-null  float64\n",
      " 26  primary_cleaner.state.floatbank8_c_air              19437 non-null  float64\n",
      " 27  primary_cleaner.state.floatbank8_c_level            19438 non-null  float64\n",
      " 28  primary_cleaner.state.floatbank8_d_air              19436 non-null  float64\n",
      " 29  primary_cleaner.state.floatbank8_d_level            19438 non-null  float64\n",
      " 30  rougher.calculation.sulfate_to_au_concentrate       19437 non-null  float64\n",
      " 31  rougher.calculation.floatbank10_sulfate_to_au_feed  19437 non-null  float64\n",
      " 32  rougher.calculation.floatbank11_sulfate_to_au_feed  19437 non-null  float64\n",
      " 33  rougher.calculation.au_pb_ratio                     19439 non-null  float64\n",
      " 34  rougher.input.feed_ag                               19439 non-null  float64\n",
      " 35  rougher.input.feed_pb                               19339 non-null  float64\n",
      " 36  rougher.input.feed_rate                             19428 non-null  float64\n",
      " 37  rougher.input.feed_size                             19294 non-null  float64\n",
      " 38  rougher.input.feed_sol                              19340 non-null  float64\n",
      " 39  rougher.input.feed_au                               19439 non-null  float64\n",
      " 40  rougher.input.floatbank10_sulfate                   19405 non-null  float64\n",
      " 41  rougher.input.floatbank10_xanthate                  19431 non-null  float64\n",
      " 42  rougher.input.floatbank11_sulfate                   19395 non-null  float64\n",
      " 43  rougher.input.floatbank11_xanthate                  18986 non-null  float64\n",
      " 44  rougher.output.concentrate_ag                       19439 non-null  float64\n",
      " 45  rougher.output.concentrate_pb                       19439 non-null  float64\n",
      " 46  rougher.output.concentrate_sol                      19416 non-null  float64\n",
      " 47  rougher.output.concentrate_au                       19439 non-null  float64\n",
      " 48  rougher.output.recovery                             19439 non-null  float64\n",
      " 49  rougher.output.tail_ag                              19438 non-null  float64\n",
      " 50  rougher.output.tail_pb                              19439 non-null  float64\n",
      " 51  rougher.output.tail_sol                             19439 non-null  float64\n",
      " 52  rougher.output.tail_au                              19439 non-null  float64\n",
      " 53  rougher.state.floatbank10_a_air                     19438 non-null  float64\n",
      " 54  rougher.state.floatbank10_a_level                   19438 non-null  float64\n",
      " 55  rougher.state.floatbank10_b_air                     19438 non-null  float64\n",
      " 56  rougher.state.floatbank10_b_level                   19438 non-null  float64\n",
      " 57  rougher.state.floatbank10_c_air                     19438 non-null  float64\n",
      " 58  rougher.state.floatbank10_c_level                   19438 non-null  float64\n",
      " 59  rougher.state.floatbank10_d_air                     19439 non-null  float64\n",
      " 60  rougher.state.floatbank10_d_level                   19439 non-null  float64\n",
      " 61  rougher.state.floatbank10_e_air                     19003 non-null  float64\n",
      " 62  rougher.state.floatbank10_e_level                   19439 non-null  float64\n",
      " 63  rougher.state.floatbank10_f_air                     19439 non-null  float64\n",
      " 64  rougher.state.floatbank10_f_level                   19439 non-null  float64\n",
      " 65  secondary_cleaner.output.tail_ag                    19437 non-null  float64\n",
      " 66  secondary_cleaner.output.tail_pb                    19427 non-null  float64\n",
      " 67  secondary_cleaner.output.tail_sol                   17691 non-null  float64\n",
      " 68  secondary_cleaner.output.tail_au                    19439 non-null  float64\n",
      " 69  secondary_cleaner.state.floatbank2_a_air            19219 non-null  float64\n",
      " 70  secondary_cleaner.state.floatbank2_a_level          19438 non-null  float64\n",
      " 71  secondary_cleaner.state.floatbank2_b_air            19416 non-null  float64\n",
      " 72  secondary_cleaner.state.floatbank2_b_level          19438 non-null  float64\n",
      " 73  secondary_cleaner.state.floatbank3_a_air            19426 non-null  float64\n",
      " 74  secondary_cleaner.state.floatbank3_a_level          19438 non-null  float64\n",
      " 75  secondary_cleaner.state.floatbank3_b_air            19438 non-null  float64\n",
      " 76  secondary_cleaner.state.floatbank3_b_level          19438 non-null  float64\n",
      " 77  secondary_cleaner.state.floatbank4_a_air            19433 non-null  float64\n",
      " 78  secondary_cleaner.state.floatbank4_a_level          19438 non-null  float64\n",
      " 79  secondary_cleaner.state.floatbank4_b_air            19438 non-null  float64\n",
      " 80  secondary_cleaner.state.floatbank4_b_level          19438 non-null  float64\n",
      " 81  secondary_cleaner.state.floatbank5_a_air            19438 non-null  float64\n",
      " 82  secondary_cleaner.state.floatbank5_a_level          19438 non-null  float64\n",
      " 83  secondary_cleaner.state.floatbank5_b_air            19438 non-null  float64\n",
      " 84  secondary_cleaner.state.floatbank5_b_level          19438 non-null  float64\n",
      " 85  secondary_cleaner.state.floatbank6_a_air            19437 non-null  float64\n",
      " 86  secondary_cleaner.state.floatbank6_a_level          19438 non-null  float64\n",
      "dtypes: float64(86), object(1)\n",
      "memory usage: 12.9+ MB\n"
     ]
    },
    {
     "data": {
      "text/plain": [
       "None"
      ]
     },
     "metadata": {},
     "output_type": "display_data"
    },
    {
     "name": "stdout",
     "output_type": "stream",
     "text": [
      "\n",
      "Общее количество пропусков в датафрейме 4481 шт, это составляет 23.05% от данных\n",
      "\n",
      "Количество дубликатов в таблице df_gold_full равно 0 шт\n",
      "\n"
     ]
    }
   ],
   "source": [
    "df_info(df_gold_full, 'df_gold_full')"
   ]
  },
  {
   "cell_type": "markdown",
   "metadata": {},
   "source": [
    "## Расчёт эффективности"
   ]
  },
  {
   "cell_type": "markdown",
   "metadata": {},
   "source": [
    "Проверим, что эффективность обогащения рассчитана правильно. Вычислим её на обучающей выборке для признака `rougher.output.recovery`. Найдем MAE между нашими расчётами и значением признака.  \n",
    "Эффективность обогащения рассчитывается по формуле:  \n",
    "\n",
    "$$\n",
    "\\Large  Recovery = \\frac{C\\times(F - T)}{F\\times(C - T)} \\times 100%\\\\\n",
    "$$\n",
    "\n",
    "$\n",
    "где: \\\\\n",
    "C — доля \\ золота \\ в \\ концентрате \\ после \\ флотации/очистки; \\\\\n",
    "F — доля \\ золота \\ в \\ сырье/концентрате \\ до \\ флотации/очистки; \\\\  \n",
    "T — доля \\ золота \\ в \\ отвальных \\ хвостах \\ после \\ флотации/очистки. \\\\  \n",
    "$"
   ]
  },
  {
   "cell_type": "markdown",
   "metadata": {},
   "source": [
    "Напишем формулу для расчета"
   ]
  },
  {
   "cell_type": "code",
   "execution_count": 7,
   "metadata": {},
   "outputs": [],
   "source": [
    "C = df_gold_train['rougher.output.concentrate_au']\n",
    "F = df_gold_train['rougher.input.feed_au']\n",
    "T = df_gold_train['rougher.output.tail_au']\n",
    "target_recovery = df_gold_train['rougher.output.recovery']\n",
    "\n",
    "recovery = (C * (F-T)) / (F * (C - T)) * 100"
   ]
  },
  {
   "cell_type": "markdown",
   "metadata": {},
   "source": [
    "Расчитаем среднюю абсолютную ошибку между нашими расчетами и признаком `rougher.output.recovery`, для этого воспользуемся функцией `mean_absolute_error` из библиотеки sklearn."
   ]
  },
  {
   "cell_type": "code",
   "execution_count": 8,
   "metadata": {},
   "outputs": [
    {
     "name": "stdout",
     "output_type": "stream",
     "text": [
      "MAE между нашими расчетами и признаком rougher.output.recovery равен 0.00\n"
     ]
    }
   ],
   "source": [
    "print('MAE между нашими расчетами и признаком rougher.output.recovery равен {:.2f}'.format(\n",
    "    mean_absolute_error(target_recovery, recovery)))"
   ]
  },
  {
   "cell_type": "markdown",
   "metadata": {},
   "source": [
    "## Недоступные признаки в тестовой выборке"
   ]
  },
  {
   "cell_type": "markdown",
   "metadata": {},
   "source": [
    "Для того чтобы понять, каких признаков нет в тестовой выборке, мы сравним столбцы тестовой и обучающей выборки. Выведем количество пропущенных столбцов и посмотрим на них."
   ]
  },
  {
   "cell_type": "code",
   "execution_count": 9,
   "metadata": {},
   "outputs": [
    {
     "name": "stdout",
     "output_type": "stream",
     "text": [
      "Количетсво признаков отсутствующих в тестовой выборке равно 34 шт\n"
     ]
    }
   ],
   "source": [
    "print('Количетсво признаков отсутствующих в тестовой выборке равно {} шт'.format(\n",
    "    len(set(df_gold_train.columns).difference(df_gold_test.columns))))"
   ]
  },
  {
   "cell_type": "code",
   "execution_count": 10,
   "metadata": {},
   "outputs": [
    {
     "data": {
      "text/plain": [
       "{'final.output.concentrate_ag',\n",
       " 'final.output.concentrate_au',\n",
       " 'final.output.concentrate_pb',\n",
       " 'final.output.concentrate_sol',\n",
       " 'final.output.recovery',\n",
       " 'final.output.tail_ag',\n",
       " 'final.output.tail_au',\n",
       " 'final.output.tail_pb',\n",
       " 'final.output.tail_sol',\n",
       " 'primary_cleaner.output.concentrate_ag',\n",
       " 'primary_cleaner.output.concentrate_au',\n",
       " 'primary_cleaner.output.concentrate_pb',\n",
       " 'primary_cleaner.output.concentrate_sol',\n",
       " 'primary_cleaner.output.tail_ag',\n",
       " 'primary_cleaner.output.tail_au',\n",
       " 'primary_cleaner.output.tail_pb',\n",
       " 'primary_cleaner.output.tail_sol',\n",
       " 'rougher.calculation.au_pb_ratio',\n",
       " 'rougher.calculation.floatbank10_sulfate_to_au_feed',\n",
       " 'rougher.calculation.floatbank11_sulfate_to_au_feed',\n",
       " 'rougher.calculation.sulfate_to_au_concentrate',\n",
       " 'rougher.output.concentrate_ag',\n",
       " 'rougher.output.concentrate_au',\n",
       " 'rougher.output.concentrate_pb',\n",
       " 'rougher.output.concentrate_sol',\n",
       " 'rougher.output.recovery',\n",
       " 'rougher.output.tail_ag',\n",
       " 'rougher.output.tail_au',\n",
       " 'rougher.output.tail_pb',\n",
       " 'rougher.output.tail_sol',\n",
       " 'secondary_cleaner.output.tail_ag',\n",
       " 'secondary_cleaner.output.tail_au',\n",
       " 'secondary_cleaner.output.tail_pb',\n",
       " 'secondary_cleaner.output.tail_sol'}"
      ]
     },
     "execution_count": 10,
     "metadata": {},
     "output_type": "execute_result"
    }
   ],
   "source": [
    "diff_col = set(df_gold_train.columns).difference(df_gold_test.columns)\n",
    "diff_col"
   ]
  },
  {
   "cell_type": "markdown",
   "metadata": {},
   "source": [
    "Как мы видим, в тестовой выборке не хватает 34 признаков. Предлагаю удалить эти признаки из обучающего набора данных, но сохраним целевые признаки `rougher.output.recovery` и `final.output.recovery`, для тестового набора данных восстановим их из общего датафрейма"
   ]
  },
  {
   "cell_type": "code",
   "execution_count": 11,
   "metadata": {},
   "outputs": [],
   "source": [
    "target_col = ['rougher.output.recovery', 'final.output.recovery']"
   ]
  },
  {
   "cell_type": "code",
   "execution_count": 12,
   "metadata": {},
   "outputs": [],
   "source": [
    "df_gold_train = df_gold_train.drop(diff_col-set(target_col), axis=1)"
   ]
  },
  {
   "cell_type": "markdown",
   "metadata": {},
   "source": [
    "Сделаем дату индексом и произведем объединение тестового набора данных и признаков из полного набора данных"
   ]
  },
  {
   "cell_type": "code",
   "execution_count": 13,
   "metadata": {},
   "outputs": [],
   "source": [
    "df_gold_test = pd.merge(df_gold_test.set_index('date'),\n",
    "                        df_gold_full.set_index('date')[target_col],\n",
    "                        left_index=True,\n",
    "                        right_index=True).reset_index()"
   ]
  },
  {
   "cell_type": "markdown",
   "metadata": {},
   "source": [
    "Проверим что теперь признаки в обучающем и тестовом наборе данных совпадают"
   ]
  },
  {
   "cell_type": "code",
   "execution_count": 14,
   "metadata": {},
   "outputs": [
    {
     "name": "stdout",
     "output_type": "stream",
     "text": [
      "Наборы признаков совпадают, количество равно 55\n"
     ]
    }
   ],
   "source": [
    "if set(df_gold_train.columns) == set(df_gold_test.columns):\n",
    "    print('Наборы признаков совпадают, количество равно {}'.format(\n",
    "        len(df_gold_train.columns)))\n",
    "else:\n",
    "    print('Наборы признаков не совпадают: \\\n",
    "          \\n1) В обучающем наборе {} шт \\\n",
    "          \\n2) В тестовом наборе {} шт'.format(df_gold_train.columns.shape[0],\n",
    "                                               df_gold_test.columns.shape[0]))"
   ]
  },
  {
   "cell_type": "code",
   "execution_count": 15,
   "metadata": {},
   "outputs": [
    {
     "name": "stdout",
     "output_type": "stream",
     "text": [
      "Обучающие и тестовые данные разбиты следующим образом: \n",
      "1) В обучающем наборе содержится 72.79% данных \n",
      "2) В тестовом наборе содержится 27.21% данных\n"
     ]
    }
   ],
   "source": [
    "print('Обучающие и тестовые данные разбиты следующим образом: \\\n",
    "\\n1) В обучающем наборе содержится {:.2%} данных \\\n",
    "\\n2) В тестовом наборе содержится {:.2%} данных'.format(\n",
    "    df_gold_train.shape[0] / df_gold_full.shape[0],\n",
    "    df_gold_test.shape[0] / df_gold_full.shape[0]))"
   ]
  },
  {
   "cell_type": "markdown",
   "metadata": {},
   "source": [
    "## Предобработка данных"
   ]
  },
  {
   "cell_type": "markdown",
   "metadata": {},
   "source": [
    "Скорее всего, пропущенные значения получаются из-за того, что отсутствует информация по этапу так как выполняется другой этап обработки. По этому заполнил пропущенные значения предыдущим значением."
   ]
  },
  {
   "cell_type": "code",
   "execution_count": 16,
   "metadata": {},
   "outputs": [],
   "source": [
    "df_gold_train, df_gold_test, df_gold_full = [\n",
    "    i.fillna(method='ffill')\n",
    "    for i in [df_gold_train, df_gold_test, df_gold_full]\n",
    "]"
   ]
  },
  {
   "cell_type": "code",
   "execution_count": 17,
   "metadata": {},
   "outputs": [],
   "source": [
    "def df_isna(df, name):\n",
    "    print('Количество пропущенных значений в датасете {} равно {}'.format(\n",
    "        name, df.isna().sum().sum()))"
   ]
  },
  {
   "cell_type": "code",
   "execution_count": 18,
   "metadata": {},
   "outputs": [
    {
     "name": "stdout",
     "output_type": "stream",
     "text": [
      "Количество пропущенных значений в датасете df_gold_train равно 0\n",
      "Количество пропущенных значений в датасете df_gold_test равно 0\n",
      "Количество пропущенных значений в датасете df_gold_full равно 0\n"
     ]
    }
   ],
   "source": [
    "df_isna(df_gold_train, 'df_gold_train')\n",
    "df_isna(df_gold_test, 'df_gold_test')\n",
    "df_isna(df_gold_full, 'df_gold_full')"
   ]
  },
  {
   "cell_type": "markdown",
   "metadata": {},
   "source": [
    "## Вывод"
   ]
  },
  {
   "cell_type": "markdown",
   "metadata": {},
   "source": [
    "Изначально у нас были таблицы следующих размеров: \n",
    "- **df_gold_train**: (14149, 87) \n",
    "- **df_gold_test**: (5290, 53) \n",
    "- **df_gold_full**: (19439, 87) \n",
    " \n",
    "Обучающие и тестовые данные разбиты следующим образом:   \n",
    "1) В обучающем наборе содержится 72.79% данных   \n",
    "2) В тестовом наборе содержится 27.21% данных  \n",
    "\n",
    "В тестовом наборе не было признаков с данными которые появляются после обработки материала, а общий датасет содержит обучающую и тестовую выборки со всеми признаками.  \n",
    "В итоге мы удалили из обучающего датасета лишние признаки и к тестовому добавили целевые признаки из общего датасета, в итоге наборы признаков в датасетах совпадают, их количество равно 55.\n",
    "\n",
    "В таблицах содержалось следующее количество пропусков:  \n",
    "- **df_gold_train**: 4100 шт, это составляет 28.98% от данных   \n",
    "- **df_gold_test**: 90 шт, это составляет 1.70% от данных\n",
    "- **df_gold_full**: 4481 шт, это составляет 23.05% от данных \n",
    "\n",
    "Скорее всего, пропущенные значения в таблицах получались из-за того, что отсутствовала информация по этапу так как выполнялся другой этап обработки. По этому мы заполнили пропущенные значения предыдущим значением.\n",
    "\n",
    "Дубликатов в таблицах нет. Значения в таблицах преимущественно числовые.\n",
    "\n",
    "Мы получили **MAE** между нашими расчетами и признаком `rougher.output.recovery` равный 0, это говорит о том, что эффективность обогащения рассчитана правильно.\n",
    "\n",
    "После проделланых манипуляций, мы получили таблицы следующих размеров: \n",
    "- **df_gold_train**: (14149, 55) \n",
    "- **df_gold_test**: (5290, 55) \n",
    "- **df_gold_full**: (19439, 87) \n",
    "\n",
    "Теперь можно приступать к анализу данных."
   ]
  },
  {
   "cell_type": "markdown",
   "metadata": {},
   "source": [
    "# Анализ данных"
   ]
  },
  {
   "cell_type": "markdown",
   "metadata": {},
   "source": [
    "Напишем функцию **plot_distribution** чтобы отрисовать как меняется концентрация металлов (Au, Ag, Pb) на различных этапах очистки"
   ]
  },
  {
   "cell_type": "code",
   "execution_count": 19,
   "metadata": {},
   "outputs": [],
   "source": [
    "def plot_distribution(df, composition):\n",
    "\n",
    "    columns = [\n",
    "        'rougher.input.feed_' + composition,\n",
    "        'rougher.output.concentrate_' + composition,\n",
    "        'primary_cleaner.output.concentrate_' + composition,\n",
    "        'final.output.concentrate_' + composition\n",
    "    ]\n",
    "    display(df[columns].describe().T)\n",
    "    \n",
    "    fig, ax = plt.subplots(figsize=(15,5))\n",
    "    \n",
    "    for col in columns:\n",
    "        sns.kdeplot(data=df[col], fill=True, ax=ax)\n",
    "        \n",
    "    plt.title(f'Концентрация \"{composition}\" на различных этапах очистки')\n",
    "    plt.legend(['Начало этапа флотации',\n",
    "                'После этапа флотации',\n",
    "                'Этап первичной очистки',\n",
    "                'Финальный этап'], bbox_to_anchor=(1.21,1))\n",
    "    plt.xlabel('Концентрация')"
   ]
  },
  {
   "cell_type": "markdown",
   "metadata": {},
   "source": [
    "## Концентрация золота на различных этапах очистки"
   ]
  },
  {
   "cell_type": "markdown",
   "metadata": {},
   "source": [
    "Отрисуем как менялась концентрация золота на различных этапах очистки"
   ]
  },
  {
   "cell_type": "code",
   "execution_count": 20,
   "metadata": {},
   "outputs": [
    {
     "data": {
      "text/html": [
       "<div>\n",
       "<style scoped>\n",
       "    .dataframe tbody tr th:only-of-type {\n",
       "        vertical-align: middle;\n",
       "    }\n",
       "\n",
       "    .dataframe tbody tr th {\n",
       "        vertical-align: top;\n",
       "    }\n",
       "\n",
       "    .dataframe thead th {\n",
       "        text-align: right;\n",
       "    }\n",
       "</style>\n",
       "<table border=\"1\" class=\"dataframe\">\n",
       "  <thead>\n",
       "    <tr style=\"text-align: right;\">\n",
       "      <th></th>\n",
       "      <th>count</th>\n",
       "      <th>mean</th>\n",
       "      <th>std</th>\n",
       "      <th>min</th>\n",
       "      <th>25%</th>\n",
       "      <th>50%</th>\n",
       "      <th>75%</th>\n",
       "      <th>max</th>\n",
       "    </tr>\n",
       "  </thead>\n",
       "  <tbody>\n",
       "    <tr>\n",
       "      <th>rougher.input.feed_au</th>\n",
       "      <td>19439.0</td>\n",
       "      <td>8.266097</td>\n",
       "      <td>1.955092</td>\n",
       "      <td>0.01</td>\n",
       "      <td>6.854384</td>\n",
       "      <td>8.125839</td>\n",
       "      <td>9.769917</td>\n",
       "      <td>13.731330</td>\n",
       "    </tr>\n",
       "    <tr>\n",
       "      <th>rougher.output.concentrate_au</th>\n",
       "      <td>19439.0</td>\n",
       "      <td>19.772000</td>\n",
       "      <td>3.753600</td>\n",
       "      <td>0.00</td>\n",
       "      <td>18.802523</td>\n",
       "      <td>20.280214</td>\n",
       "      <td>21.717843</td>\n",
       "      <td>28.824507</td>\n",
       "    </tr>\n",
       "    <tr>\n",
       "      <th>primary_cleaner.output.concentrate_au</th>\n",
       "      <td>19439.0</td>\n",
       "      <td>32.119400</td>\n",
       "      <td>5.627611</td>\n",
       "      <td>0.00</td>\n",
       "      <td>30.463140</td>\n",
       "      <td>32.841295</td>\n",
       "      <td>35.048006</td>\n",
       "      <td>45.933934</td>\n",
       "    </tr>\n",
       "    <tr>\n",
       "      <th>final.output.concentrate_au</th>\n",
       "      <td>19439.0</td>\n",
       "      <td>44.076513</td>\n",
       "      <td>5.129784</td>\n",
       "      <td>0.00</td>\n",
       "      <td>43.402215</td>\n",
       "      <td>45.011244</td>\n",
       "      <td>46.275313</td>\n",
       "      <td>52.756638</td>\n",
       "    </tr>\n",
       "  </tbody>\n",
       "</table>\n",
       "</div>"
      ],
      "text/plain": [
       "                                         count       mean       std   min  \\\n",
       "rougher.input.feed_au                  19439.0   8.266097  1.955092  0.01   \n",
       "rougher.output.concentrate_au          19439.0  19.772000  3.753600  0.00   \n",
       "primary_cleaner.output.concentrate_au  19439.0  32.119400  5.627611  0.00   \n",
       "final.output.concentrate_au            19439.0  44.076513  5.129784  0.00   \n",
       "\n",
       "                                             25%        50%        75%  \\\n",
       "rougher.input.feed_au                   6.854384   8.125839   9.769917   \n",
       "rougher.output.concentrate_au          18.802523  20.280214  21.717843   \n",
       "primary_cleaner.output.concentrate_au  30.463140  32.841295  35.048006   \n",
       "final.output.concentrate_au            43.402215  45.011244  46.275313   \n",
       "\n",
       "                                             max  \n",
       "rougher.input.feed_au                  13.731330  \n",
       "rougher.output.concentrate_au          28.824507  \n",
       "primary_cleaner.output.concentrate_au  45.933934  \n",
       "final.output.concentrate_au            52.756638  "
      ]
     },
     "metadata": {},
     "output_type": "display_data"
    },
    {
     "data": {
      "image/png": "[encoded data removed]",
      "text/plain": [
       "<Figure size 1080x360 with 1 Axes>"
      ]
     },
     "metadata": {
      "needs_background": "light"
     },
     "output_type": "display_data"
    }
   ],
   "source": [
    "plot_distribution(df_gold_full, 'au')"
   ]
  },
  {
   "cell_type": "markdown",
   "metadata": {},
   "source": [
    "Как мы видим, на каждом этапе очистки концентрация золота увеличивается:\n",
    "\n",
    "1) Перед этапом флотации концентрация золота в среднем ровнялась 8.26  \n",
    "2) После этапа флотации равнялось 19.77  \n",
    "3) На этапе первичной очистки 32.11  \n",
    "4) На финальном этапе 44.07  "
   ]
  },
  {
   "cell_type": "markdown",
   "metadata": {},
   "source": [
    "## Концентрация серебра на различных этапах очистки"
   ]
  },
  {
   "cell_type": "markdown",
   "metadata": {},
   "source": [
    "Отрисуем как менялась концентрация серебра на различных этапах очистки"
   ]
  },
  {
   "cell_type": "code",
   "execution_count": 21,
   "metadata": {},
   "outputs": [
    {
     "data": {
      "text/html": [
       "<div>\n",
       "<style scoped>\n",
       "    .dataframe tbody tr th:only-of-type {\n",
       "        vertical-align: middle;\n",
       "    }\n",
       "\n",
       "    .dataframe tbody tr th {\n",
       "        vertical-align: top;\n",
       "    }\n",
       "\n",
       "    .dataframe thead th {\n",
       "        text-align: right;\n",
       "    }\n",
       "</style>\n",
       "<table border=\"1\" class=\"dataframe\">\n",
       "  <thead>\n",
       "    <tr style=\"text-align: right;\">\n",
       "      <th></th>\n",
       "      <th>count</th>\n",
       "      <th>mean</th>\n",
       "      <th>std</th>\n",
       "      <th>min</th>\n",
       "      <th>25%</th>\n",
       "      <th>50%</th>\n",
       "      <th>75%</th>\n",
       "      <th>max</th>\n",
       "    </tr>\n",
       "  </thead>\n",
       "  <tbody>\n",
       "    <tr>\n",
       "      <th>rougher.input.feed_ag</th>\n",
       "      <td>19439.0</td>\n",
       "      <td>8.794927</td>\n",
       "      <td>1.936847</td>\n",
       "      <td>0.01</td>\n",
       "      <td>7.237967</td>\n",
       "      <td>8.593574</td>\n",
       "      <td>10.213771</td>\n",
       "      <td>14.596026</td>\n",
       "    </tr>\n",
       "    <tr>\n",
       "      <th>rougher.output.concentrate_ag</th>\n",
       "      <td>19439.0</td>\n",
       "      <td>11.994759</td>\n",
       "      <td>2.733862</td>\n",
       "      <td>0.00</td>\n",
       "      <td>10.628337</td>\n",
       "      <td>12.098115</td>\n",
       "      <td>13.736996</td>\n",
       "      <td>24.480271</td>\n",
       "    </tr>\n",
       "    <tr>\n",
       "      <th>primary_cleaner.output.concentrate_ag</th>\n",
       "      <td>19439.0</td>\n",
       "      <td>8.442408</td>\n",
       "      <td>2.054465</td>\n",
       "      <td>0.00</td>\n",
       "      <td>7.263288</td>\n",
       "      <td>8.507298</td>\n",
       "      <td>9.809001</td>\n",
       "      <td>16.081632</td>\n",
       "    </tr>\n",
       "    <tr>\n",
       "      <th>final.output.concentrate_ag</th>\n",
       "      <td>19439.0</td>\n",
       "      <td>5.168387</td>\n",
       "      <td>1.372362</td>\n",
       "      <td>0.00</td>\n",
       "      <td>4.251000</td>\n",
       "      <td>5.066039</td>\n",
       "      <td>5.895401</td>\n",
       "      <td>16.001945</td>\n",
       "    </tr>\n",
       "  </tbody>\n",
       "</table>\n",
       "</div>"
      ],
      "text/plain": [
       "                                         count       mean       std   min  \\\n",
       "rougher.input.feed_ag                  19439.0   8.794927  1.936847  0.01   \n",
       "rougher.output.concentrate_ag          19439.0  11.994759  2.733862  0.00   \n",
       "primary_cleaner.output.concentrate_ag  19439.0   8.442408  2.054465  0.00   \n",
       "final.output.concentrate_ag            19439.0   5.168387  1.372362  0.00   \n",
       "\n",
       "                                             25%        50%        75%  \\\n",
       "rougher.input.feed_ag                   7.237967   8.593574  10.213771   \n",
       "rougher.output.concentrate_ag          10.628337  12.098115  13.736996   \n",
       "primary_cleaner.output.concentrate_ag   7.263288   8.507298   9.809001   \n",
       "final.output.concentrate_ag             4.251000   5.066039   5.895401   \n",
       "\n",
       "                                             max  \n",
       "rougher.input.feed_ag                  14.596026  \n",
       "rougher.output.concentrate_ag          24.480271  \n",
       "primary_cleaner.output.concentrate_ag  16.081632  \n",
       "final.output.concentrate_ag            16.001945  "
      ]
     },
     "metadata": {},
     "output_type": "display_data"
    },
    {
     "data": {
      "image/png": "[encoded data removed]",
      "text/plain": [
       "<Figure size 1080x360 with 1 Axes>"
      ]
     },
     "metadata": {
      "needs_background": "light"
     },
     "output_type": "display_data"
    }
   ],
   "source": [
    "plot_distribution(df_gold_full, 'ag')"
   ]
  },
  {
   "cell_type": "markdown",
   "metadata": {},
   "source": [
    "Как мы видим, почти на каждом этапе очистки концентрация серебра уменьшается, получается что на выходе мы имеем гораздо меньшее содержание серебра чем на входе.  \n",
    "Средняя концентрация серебра на различным этапах очистки:\n",
    "1) Перед этапом флотации ровнялась 8.79  \n",
    "2) После этапа флотации равнялось 11.99  \n",
    "3) На этапе первичной очистки 8.44  \n",
    "4) На финальном этапе 5.16  "
   ]
  },
  {
   "cell_type": "markdown",
   "metadata": {},
   "source": [
    "## Концентрация свинца на различных этапах очистки"
   ]
  },
  {
   "cell_type": "markdown",
   "metadata": {},
   "source": [
    "Отрисуем как менялась концентрация свинца на различных этапах очистки"
   ]
  },
  {
   "cell_type": "code",
   "execution_count": 22,
   "metadata": {},
   "outputs": [
    {
     "data": {
      "text/html": [
       "<div>\n",
       "<style scoped>\n",
       "    .dataframe tbody tr th:only-of-type {\n",
       "        vertical-align: middle;\n",
       "    }\n",
       "\n",
       "    .dataframe tbody tr th {\n",
       "        vertical-align: top;\n",
       "    }\n",
       "\n",
       "    .dataframe thead th {\n",
       "        text-align: right;\n",
       "    }\n",
       "</style>\n",
       "<table border=\"1\" class=\"dataframe\">\n",
       "  <thead>\n",
       "    <tr style=\"text-align: right;\">\n",
       "      <th></th>\n",
       "      <th>count</th>\n",
       "      <th>mean</th>\n",
       "      <th>std</th>\n",
       "      <th>min</th>\n",
       "      <th>25%</th>\n",
       "      <th>50%</th>\n",
       "      <th>75%</th>\n",
       "      <th>max</th>\n",
       "    </tr>\n",
       "  </thead>\n",
       "  <tbody>\n",
       "    <tr>\n",
       "      <th>rougher.input.feed_pb</th>\n",
       "      <td>19439.0</td>\n",
       "      <td>3.585096</td>\n",
       "      <td>1.062972</td>\n",
       "      <td>0.01</td>\n",
       "      <td>2.872178</td>\n",
       "      <td>3.528235</td>\n",
       "      <td>4.241005</td>\n",
       "      <td>7.142594</td>\n",
       "    </tr>\n",
       "    <tr>\n",
       "      <th>rougher.output.concentrate_pb</th>\n",
       "      <td>19439.0</td>\n",
       "      <td>7.606272</td>\n",
       "      <td>1.796757</td>\n",
       "      <td>0.00</td>\n",
       "      <td>6.725987</td>\n",
       "      <td>7.742580</td>\n",
       "      <td>8.565199</td>\n",
       "      <td>13.617072</td>\n",
       "    </tr>\n",
       "    <tr>\n",
       "      <th>primary_cleaner.output.concentrate_pb</th>\n",
       "      <td>19439.0</td>\n",
       "      <td>9.810317</td>\n",
       "      <td>2.572253</td>\n",
       "      <td>0.00</td>\n",
       "      <td>8.676500</td>\n",
       "      <td>10.142270</td>\n",
       "      <td>11.416298</td>\n",
       "      <td>17.081278</td>\n",
       "    </tr>\n",
       "    <tr>\n",
       "      <th>final.output.concentrate_pb</th>\n",
       "      <td>19439.0</td>\n",
       "      <td>9.978821</td>\n",
       "      <td>1.669228</td>\n",
       "      <td>0.00</td>\n",
       "      <td>9.137225</td>\n",
       "      <td>10.102264</td>\n",
       "      <td>11.035644</td>\n",
       "      <td>17.031899</td>\n",
       "    </tr>\n",
       "  </tbody>\n",
       "</table>\n",
       "</div>"
      ],
      "text/plain": [
       "                                         count      mean       std   min  \\\n",
       "rougher.input.feed_pb                  19439.0  3.585096  1.062972  0.01   \n",
       "rougher.output.concentrate_pb          19439.0  7.606272  1.796757  0.00   \n",
       "primary_cleaner.output.concentrate_pb  19439.0  9.810317  2.572253  0.00   \n",
       "final.output.concentrate_pb            19439.0  9.978821  1.669228  0.00   \n",
       "\n",
       "                                            25%        50%        75%  \\\n",
       "rougher.input.feed_pb                  2.872178   3.528235   4.241005   \n",
       "rougher.output.concentrate_pb          6.725987   7.742580   8.565199   \n",
       "primary_cleaner.output.concentrate_pb  8.676500  10.142270  11.416298   \n",
       "final.output.concentrate_pb            9.137225  10.102264  11.035644   \n",
       "\n",
       "                                             max  \n",
       "rougher.input.feed_pb                   7.142594  \n",
       "rougher.output.concentrate_pb          13.617072  \n",
       "primary_cleaner.output.concentrate_pb  17.081278  \n",
       "final.output.concentrate_pb            17.031899  "
      ]
     },
     "metadata": {},
     "output_type": "display_data"
    },
    {
     "data": {
      "image/png": "[encoded data removed]",
      "text/plain": [
       "<Figure size 1080x360 with 1 Axes>"
      ]
     },
     "metadata": {
      "needs_background": "light"
     },
     "output_type": "display_data"
    }
   ],
   "source": [
    "plot_distribution(df_gold_full, 'pb')"
   ]
  },
  {
   "cell_type": "markdown",
   "metadata": {},
   "source": [
    "Как мы видим, концентрация свинца растет на каждом этапе очистки, но концентрация на финальном этапе не больше чем на этапе первичной обработки.  \n",
    "Средняя концентрация серебра на различным этапах очистки:  \n",
    "1) Перед этапом флотации ровнялась 3.58  \n",
    "2) После этапа флотации равнялось 7.60  \n",
    "3) На этапе первичной очистки 9.81  \n",
    "4) На финальном этапе 9.97 "
   ]
  },
  {
   "cell_type": "markdown",
   "metadata": {},
   "source": [
    "## Распределения размеров гранул сырья на обучающей и тестовой выборках"
   ]
  },
  {
   "cell_type": "markdown",
   "metadata": {},
   "source": [
    "### Размер гранул на этапе флотации"
   ]
  },
  {
   "cell_type": "markdown",
   "metadata": {},
   "source": [
    "Создадим датафрейм с размерами гранул на обучающей и тестовой выборке, и выведем статистическую информацию"
   ]
  },
  {
   "cell_type": "code",
   "execution_count": 23,
   "metadata": {},
   "outputs": [
    {
     "data": {
      "text/html": [
       "<div>\n",
       "<style scoped>\n",
       "    .dataframe tbody tr th:only-of-type {\n",
       "        vertical-align: middle;\n",
       "    }\n",
       "\n",
       "    .dataframe tbody tr th {\n",
       "        vertical-align: top;\n",
       "    }\n",
       "\n",
       "    .dataframe thead th {\n",
       "        text-align: right;\n",
       "    }\n",
       "</style>\n",
       "<table border=\"1\" class=\"dataframe\">\n",
       "  <thead>\n",
       "    <tr style=\"text-align: right;\">\n",
       "      <th></th>\n",
       "      <th>count</th>\n",
       "      <th>mean</th>\n",
       "      <th>std</th>\n",
       "      <th>min</th>\n",
       "      <th>25%</th>\n",
       "      <th>50%</th>\n",
       "      <th>75%</th>\n",
       "      <th>max</th>\n",
       "    </tr>\n",
       "  </thead>\n",
       "  <tbody>\n",
       "    <tr>\n",
       "      <th>train</th>\n",
       "      <td>14149.0</td>\n",
       "      <td>60.239856</td>\n",
       "      <td>23.005310</td>\n",
       "      <td>9.659576</td>\n",
       "      <td>48.966751</td>\n",
       "      <td>55.269784</td>\n",
       "      <td>66.007526</td>\n",
       "      <td>484.967466</td>\n",
       "    </tr>\n",
       "    <tr>\n",
       "      <th>test</th>\n",
       "      <td>5290.0</td>\n",
       "      <td>55.952754</td>\n",
       "      <td>19.080334</td>\n",
       "      <td>0.046369</td>\n",
       "      <td>43.906504</td>\n",
       "      <td>50.846843</td>\n",
       "      <td>62.451165</td>\n",
       "      <td>392.494040</td>\n",
       "    </tr>\n",
       "  </tbody>\n",
       "</table>\n",
       "</div>"
      ],
      "text/plain": [
       "         count       mean        std       min        25%        50%  \\\n",
       "train  14149.0  60.239856  23.005310  9.659576  48.966751  55.269784   \n",
       "test    5290.0  55.952754  19.080334  0.046369  43.906504  50.846843   \n",
       "\n",
       "             75%         max  \n",
       "train  66.007526  484.967466  \n",
       "test   62.451165  392.494040  "
      ]
     },
     "execution_count": 23,
     "metadata": {},
     "output_type": "execute_result"
    }
   ],
   "source": [
    "rougher_size = pd.DataFrame({\n",
    "    'train': df_gold_train['rougher.input.feed_size'],\n",
    "    'test': df_gold_test['rougher.input.feed_size']\n",
    "})\n",
    "\n",
    "rougher_size.describe().T"
   ]
  },
  {
   "cell_type": "markdown",
   "metadata": {},
   "source": [
    "По статистической информации можно сделать вывод, что в среднем размеры гранул сырья на обучающей и тестовой выборках похожи.  \n",
    "Теперь построим гистограмму распределения"
   ]
  },
  {
   "cell_type": "code",
   "execution_count": 24,
   "metadata": {},
   "outputs": [
    {
     "data": {
      "text/plain": [
       "Text(0.5, 0, 'Размер гранул')"
      ]
     },
     "execution_count": 24,
     "metadata": {},
     "output_type": "execute_result"
    },
    {
     "data": {
      "image/png": "[encoded data removed]",
      "text/plain": [
       "<Figure size 1080x360 with 1 Axes>"
      ]
     },
     "metadata": {
      "needs_background": "light"
     },
     "output_type": "display_data"
    }
   ],
   "source": [
    "fig, ax = plt.subplots(figsize=(15,5))\n",
    "sns.histplot(data=rougher_size, stat='density', binrange=[20,110], element=\"step\", ax=ax)\n",
    "plt.title('Распределения размеров гранул сырья на обучающей и тестовой выборках')\n",
    "plt.legend(['Тестовая выборка', 'Обучающая выборка'])\n",
    "plt.xlabel('Размер гранул')"
   ]
  },
  {
   "cell_type": "markdown",
   "metadata": {},
   "source": [
    "Как мы видим, размеры гранул в обучающей и тестовой выборке на этапе флотации - похожи.  \n",
    "На обучающей выборке средний размер гранулы составляет 60.23, на тестовой 55.95"
   ]
  },
  {
   "cell_type": "markdown",
   "metadata": {},
   "source": [
    "### Размер гранул на этапе первичной очистки"
   ]
  },
  {
   "cell_type": "markdown",
   "metadata": {},
   "source": [
    "Создадим датафрейм с размерами гранул на обучающей и тестовой выборке, и выведем статистическую информацию"
   ]
  },
  {
   "cell_type": "code",
   "execution_count": 25,
   "metadata": {},
   "outputs": [
    {
     "data": {
      "text/html": [
       "<div>\n",
       "<style scoped>\n",
       "    .dataframe tbody tr th:only-of-type {\n",
       "        vertical-align: middle;\n",
       "    }\n",
       "\n",
       "    .dataframe tbody tr th {\n",
       "        vertical-align: top;\n",
       "    }\n",
       "\n",
       "    .dataframe thead th {\n",
       "        text-align: right;\n",
       "    }\n",
       "</style>\n",
       "<table border=\"1\" class=\"dataframe\">\n",
       "  <thead>\n",
       "    <tr style=\"text-align: right;\">\n",
       "      <th></th>\n",
       "      <th>count</th>\n",
       "      <th>mean</th>\n",
       "      <th>std</th>\n",
       "      <th>min</th>\n",
       "      <th>25%</th>\n",
       "      <th>50%</th>\n",
       "      <th>75%</th>\n",
       "      <th>max</th>\n",
       "    </tr>\n",
       "  </thead>\n",
       "  <tbody>\n",
       "    <tr>\n",
       "      <th>train</th>\n",
       "      <td>14149.0</td>\n",
       "      <td>7.322310</td>\n",
       "      <td>0.614062</td>\n",
       "      <td>1.08</td>\n",
       "      <td>6.96</td>\n",
       "      <td>7.29</td>\n",
       "      <td>7.7</td>\n",
       "      <td>10.47</td>\n",
       "    </tr>\n",
       "    <tr>\n",
       "      <th>test</th>\n",
       "      <td>5290.0</td>\n",
       "      <td>7.266339</td>\n",
       "      <td>0.610219</td>\n",
       "      <td>5.65</td>\n",
       "      <td>6.89</td>\n",
       "      <td>7.25</td>\n",
       "      <td>7.6</td>\n",
       "      <td>15.50</td>\n",
       "    </tr>\n",
       "  </tbody>\n",
       "</table>\n",
       "</div>"
      ],
      "text/plain": [
       "         count      mean       std   min   25%   50%  75%    max\n",
       "train  14149.0  7.322310  0.614062  1.08  6.96  7.29  7.7  10.47\n",
       "test    5290.0  7.266339  0.610219  5.65  6.89  7.25  7.6  15.50"
      ]
     },
     "execution_count": 25,
     "metadata": {},
     "output_type": "execute_result"
    }
   ],
   "source": [
    "primary_cleaner_size = pd.DataFrame({\n",
    "    'train': df_gold_train['primary_cleaner.input.feed_size'],\n",
    "    'test': df_gold_test['primary_cleaner.input.feed_size']\n",
    "})\n",
    "\n",
    "primary_cleaner_size.describe().T"
   ]
  },
  {
   "cell_type": "markdown",
   "metadata": {},
   "source": [
    "По статистической информации можно сделать вывод, что в среднем размеры гранул сырья на обучающей и тестовой выборках похожи.  \n",
    "Теперь построим гистограмму распределения"
   ]
  },
  {
   "cell_type": "code",
   "execution_count": 26,
   "metadata": {},
   "outputs": [
    {
     "data": {
      "text/plain": [
       "Text(0.5, 0, 'Размер гранул')"
      ]
     },
     "execution_count": 26,
     "metadata": {},
     "output_type": "execute_result"
    },
    {
     "data": {
      "image/png": "[encoded data removed]",
      "text/plain": [
       "<Figure size 1080x360 with 1 Axes>"
      ]
     },
     "metadata": {
      "needs_background": "light"
     },
     "output_type": "display_data"
    }
   ],
   "source": [
    "fig, ax = plt.subplots(figsize=(15,5))\n",
    "sns.histplot(data=primary_cleaner_size, stat='density', binrange=[5,10], element=\"step\", ax=ax)\n",
    "plt.title('Распределения размеров гранул сырья на обучающей и тестовой выборках')\n",
    "plt.legend(['Тестовая выборка', 'Обучающая выборка'])\n",
    "plt.xlabel('Размер гранул')"
   ]
  },
  {
   "cell_type": "markdown",
   "metadata": {},
   "source": [
    "Как мы видим, размеры гранул в обучающей и тестовой выборке на этапе первичной очистки - похожи.  \n",
    "На обучающей выборке средний размер гранулы составляет 7.32, на тестовой 7.26"
   ]
  },
  {
   "cell_type": "markdown",
   "metadata": {},
   "source": [
    "## Суммарная концентрация всех веществ на разных стадиях"
   ]
  },
  {
   "cell_type": "markdown",
   "metadata": {},
   "source": [
    "Просуммируем концентрацию всех веществ на разных стадиях очистки и загрузим результаты в датафрейм"
   ]
  },
  {
   "cell_type": "code",
   "execution_count": 27,
   "metadata": {},
   "outputs": [
    {
     "data": {
      "text/html": [
       "<div>\n",
       "<style scoped>\n",
       "    .dataframe tbody tr th:only-of-type {\n",
       "        vertical-align: middle;\n",
       "    }\n",
       "\n",
       "    .dataframe tbody tr th {\n",
       "        vertical-align: top;\n",
       "    }\n",
       "\n",
       "    .dataframe thead th {\n",
       "        text-align: right;\n",
       "    }\n",
       "</style>\n",
       "<table border=\"1\" class=\"dataframe\">\n",
       "  <thead>\n",
       "    <tr style=\"text-align: right;\">\n",
       "      <th></th>\n",
       "      <th>Перед флотацией</th>\n",
       "      <th>После флотации</th>\n",
       "      <th>После первичной очистки</th>\n",
       "      <th>Финальный этап</th>\n",
       "    </tr>\n",
       "  </thead>\n",
       "  <tbody>\n",
       "    <tr>\n",
       "      <th>0</th>\n",
       "      <td>51.680034</td>\n",
       "      <td>66.424950</td>\n",
       "      <td>72.640924</td>\n",
       "      <td>63.644396</td>\n",
       "    </tr>\n",
       "    <tr>\n",
       "      <th>1</th>\n",
       "      <td>50.659114</td>\n",
       "      <td>67.012710</td>\n",
       "      <td>72.543485</td>\n",
       "      <td>63.957723</td>\n",
       "    </tr>\n",
       "    <tr>\n",
       "      <th>2</th>\n",
       "      <td>50.609929</td>\n",
       "      <td>66.103793</td>\n",
       "      <td>72.095042</td>\n",
       "      <td>64.311180</td>\n",
       "    </tr>\n",
       "    <tr>\n",
       "      <th>3</th>\n",
       "      <td>51.061546</td>\n",
       "      <td>65.752751</td>\n",
       "      <td>59.957723</td>\n",
       "      <td>63.573449</td>\n",
       "    </tr>\n",
       "    <tr>\n",
       "      <th>4</th>\n",
       "      <td>47.859163</td>\n",
       "      <td>65.908382</td>\n",
       "      <td>71.321010</td>\n",
       "      <td>64.004667</td>\n",
       "    </tr>\n",
       "    <tr>\n",
       "      <th>...</th>\n",
       "      <td>...</td>\n",
       "      <td>...</td>\n",
       "      <td>...</td>\n",
       "      <td>...</td>\n",
       "    </tr>\n",
       "    <tr>\n",
       "      <th>19434</th>\n",
       "      <td>53.415050</td>\n",
       "      <td>70.781325</td>\n",
       "      <td>59.001692</td>\n",
       "      <td>68.098589</td>\n",
       "    </tr>\n",
       "    <tr>\n",
       "      <th>19435</th>\n",
       "      <td>53.696482</td>\n",
       "      <td>70.539603</td>\n",
       "      <td>59.703912</td>\n",
       "      <td>68.274362</td>\n",
       "    </tr>\n",
       "    <tr>\n",
       "      <th>19436</th>\n",
       "      <td>54.589604</td>\n",
       "      <td>55.376330</td>\n",
       "      <td>59.561096</td>\n",
       "      <td>68.226068</td>\n",
       "    </tr>\n",
       "    <tr>\n",
       "      <th>19437</th>\n",
       "      <td>54.027355</td>\n",
       "      <td>69.201689</td>\n",
       "      <td>57.216686</td>\n",
       "      <td>68.200449</td>\n",
       "    </tr>\n",
       "    <tr>\n",
       "      <th>19438</th>\n",
       "      <td>53.535054</td>\n",
       "      <td>69.544003</td>\n",
       "      <td>55.748041</td>\n",
       "      <td>68.353154</td>\n",
       "    </tr>\n",
       "  </tbody>\n",
       "</table>\n",
       "<p>19439 rows × 4 columns</p>\n",
       "</div>"
      ],
      "text/plain": [
       "       Перед флотацией  После флотации  После первичной очистки  \\\n",
       "0            51.680034       66.424950                72.640924   \n",
       "1            50.659114       67.012710                72.543485   \n",
       "2            50.609929       66.103793                72.095042   \n",
       "3            51.061546       65.752751                59.957723   \n",
       "4            47.859163       65.908382                71.321010   \n",
       "...                ...             ...                      ...   \n",
       "19434        53.415050       70.781325                59.001692   \n",
       "19435        53.696482       70.539603                59.703912   \n",
       "19436        54.589604       55.376330                59.561096   \n",
       "19437        54.027355       69.201689                57.216686   \n",
       "19438        53.535054       69.544003                55.748041   \n",
       "\n",
       "       Финальный этап  \n",
       "0           63.644396  \n",
       "1           63.957723  \n",
       "2           64.311180  \n",
       "3           63.573449  \n",
       "4           64.004667  \n",
       "...               ...  \n",
       "19434       68.098589  \n",
       "19435       68.274362  \n",
       "19436       68.226068  \n",
       "19437       68.200449  \n",
       "19438       68.353154  \n",
       "\n",
       "[19439 rows x 4 columns]"
      ]
     },
     "execution_count": 27,
     "metadata": {},
     "output_type": "execute_result"
    }
   ],
   "source": [
    "columns = [\n",
    "    'rougher.input.feed_', \n",
    "    'rougher.output.concentrate_',\n",
    "    'primary_cleaner.output.concentrate_', \n",
    "    'final.output.concentrate_'\n",
    "]\n",
    "\n",
    "composition = ['au', 'ag', 'pb', 'sol']\n",
    "\n",
    "metal_concentration = pd.DataFrame()\n",
    "\n",
    "for col in columns:\n",
    "    metal_concentration[col] = (df_gold_full[col+composition[0]] + \n",
    "                                df_gold_full[col+composition[1]] + \n",
    "                                df_gold_full[col+composition[2]] + \n",
    "                                df_gold_full[col+composition[3]]\n",
    "                               )\n",
    "\n",
    "stage_columns = ['Перед флотацией', \n",
    "                 'После флотации', \n",
    "                 'После первичной очистки', \n",
    "                 'Финальный этап']\n",
    "\n",
    "metal_concentration.columns = stage_columns\n",
    "\n",
    "metal_concentration"
   ]
  },
  {
   "cell_type": "markdown",
   "metadata": {},
   "source": [
    "Выведем статистическую информацию"
   ]
  },
  {
   "cell_type": "code",
   "execution_count": 28,
   "metadata": {},
   "outputs": [
    {
     "data": {
      "text/html": [
       "<div>\n",
       "<style scoped>\n",
       "    .dataframe tbody tr th:only-of-type {\n",
       "        vertical-align: middle;\n",
       "    }\n",
       "\n",
       "    .dataframe tbody tr th {\n",
       "        vertical-align: top;\n",
       "    }\n",
       "\n",
       "    .dataframe thead th {\n",
       "        text-align: right;\n",
       "    }\n",
       "</style>\n",
       "<table border=\"1\" class=\"dataframe\">\n",
       "  <thead>\n",
       "    <tr style=\"text-align: right;\">\n",
       "      <th></th>\n",
       "      <th>count</th>\n",
       "      <th>mean</th>\n",
       "      <th>std</th>\n",
       "      <th>min</th>\n",
       "      <th>25%</th>\n",
       "      <th>50%</th>\n",
       "      <th>75%</th>\n",
       "      <th>max</th>\n",
       "    </tr>\n",
       "  </thead>\n",
       "  <tbody>\n",
       "    <tr>\n",
       "      <th>Перед флотацией</th>\n",
       "      <td>19439.0</td>\n",
       "      <td>57.320789</td>\n",
       "      <td>7.212680</td>\n",
       "      <td>0.04</td>\n",
       "      <td>53.557679</td>\n",
       "      <td>57.594391</td>\n",
       "      <td>61.953459</td>\n",
       "      <td>76.978947</td>\n",
       "    </tr>\n",
       "    <tr>\n",
       "      <th>После флотации</th>\n",
       "      <td>19439.0</td>\n",
       "      <td>68.170865</td>\n",
       "      <td>12.491279</td>\n",
       "      <td>0.00</td>\n",
       "      <td>66.012495</td>\n",
       "      <td>70.181495</td>\n",
       "      <td>74.356904</td>\n",
       "      <td>88.140119</td>\n",
       "    </tr>\n",
       "    <tr>\n",
       "      <th>После первичной очистки</th>\n",
       "      <td>19439.0</td>\n",
       "      <td>60.764731</td>\n",
       "      <td>10.017271</td>\n",
       "      <td>0.00</td>\n",
       "      <td>58.929364</td>\n",
       "      <td>62.497674</td>\n",
       "      <td>65.667336</td>\n",
       "      <td>80.749343</td>\n",
       "    </tr>\n",
       "    <tr>\n",
       "      <th>Финальный этап</th>\n",
       "      <td>19439.0</td>\n",
       "      <td>68.653624</td>\n",
       "      <td>7.427536</td>\n",
       "      <td>0.00</td>\n",
       "      <td>67.932362</td>\n",
       "      <td>69.598444</td>\n",
       "      <td>71.368472</td>\n",
       "      <td>80.210644</td>\n",
       "    </tr>\n",
       "  </tbody>\n",
       "</table>\n",
       "</div>"
      ],
      "text/plain": [
       "                           count       mean        std   min        25%  \\\n",
       "Перед флотацией          19439.0  57.320789   7.212680  0.04  53.557679   \n",
       "После флотации           19439.0  68.170865  12.491279  0.00  66.012495   \n",
       "После первичной очистки  19439.0  60.764731  10.017271  0.00  58.929364   \n",
       "Финальный этап           19439.0  68.653624   7.427536  0.00  67.932362   \n",
       "\n",
       "                               50%        75%        max  \n",
       "Перед флотацией          57.594391  61.953459  76.978947  \n",
       "После флотации           70.181495  74.356904  88.140119  \n",
       "После первичной очистки  62.497674  65.667336  80.749343  \n",
       "Финальный этап           69.598444  71.368472  80.210644  "
      ]
     },
     "execution_count": 28,
     "metadata": {},
     "output_type": "execute_result"
    }
   ],
   "source": [
    "metal_concentration.describe().T"
   ]
  },
  {
   "cell_type": "markdown",
   "metadata": {},
   "source": [
    "Построем диаграмму распределения для наглядности"
   ]
  },
  {
   "cell_type": "code",
   "execution_count": 29,
   "metadata": {},
   "outputs": [
    {
     "data": {
      "text/plain": [
       "Text(0.5, 0, 'Концентрация')"
      ]
     },
     "execution_count": 29,
     "metadata": {},
     "output_type": "execute_result"
    },
    {
     "data": {
      "image/png": "[encoded data removed]",
      "text/plain": [
       "<Figure size 1080x360 with 1 Axes>"
      ]
     },
     "metadata": {
      "needs_background": "light"
     },
     "output_type": "display_data"
    }
   ],
   "source": [
    "fig, ax = plt.subplots(figsize=(15,5))\n",
    "sns.kdeplot(data=metal_concentration, fill=True, ax=ax)\n",
    "plt.title('Суммарная концентрация всех веществ на разных стадиях')\n",
    "plt.xlabel('Концентрация')"
   ]
  },
  {
   "cell_type": "markdown",
   "metadata": {},
   "source": [
    "Как мы видим, на финальном этапе концентрация всех вещест гораздо больше чем перед началом флотации.  \n",
    "Перед флотацией среднея концентрация составляла  57.32, а на финальном этапе 68.65.  \n",
    "Так же мы видим значения равные 0, этого не может быть, видимо была допущена ошибка при расчетах, поэтому предлагаю удалить такие строки из датасетов.  \n",
    "Для начала удалим такие строки из общего датасета"
   ]
  },
  {
   "cell_type": "code",
   "execution_count": 30,
   "metadata": {},
   "outputs": [],
   "source": [
    "for col in columns:\n",
    "    df_gold_full = df_gold_full[(df_gold_full[col + composition[0]] +\n",
    "                                 df_gold_full[col + composition[1]] +\n",
    "                                 df_gold_full[col + composition[2]] +\n",
    "                                 df_gold_full[col + composition[3]] > 0)]"
   ]
  },
  {
   "cell_type": "markdown",
   "metadata": {},
   "source": [
    "Теперь удалим эти строки из обучающего и тестового датасета"
   ]
  },
  {
   "cell_type": "code",
   "execution_count": 31,
   "metadata": {},
   "outputs": [],
   "source": [
    "df_gold_train = df_gold_train[df_gold_train['date'].isin(df_gold_full['date'])]\n",
    "df_gold_test = df_gold_test[df_gold_test['date'].isin(df_gold_full['date'])]"
   ]
  },
  {
   "cell_type": "code",
   "execution_count": 32,
   "metadata": {
    "scrolled": true
   },
   "outputs": [
    {
     "name": "stdout",
     "output_type": "stream",
     "text": [
      "Размер полного датасета: (18848, 87)\n",
      "Размер обучающего датасета: (13725, 55)\n",
      "Размер тестового датасета: (5123, 55)\n"
     ]
    }
   ],
   "source": [
    "print('Размер полного датасета: {}'.format(df_gold_full.shape))\n",
    "print('Размер обучающего датасета: {}'.format(df_gold_train.shape))\n",
    "print('Размер тестового датасета: {}'.format(df_gold_test.shape))"
   ]
  },
  {
   "cell_type": "markdown",
   "metadata": {},
   "source": [
    "## Вывод"
   ]
  },
  {
   "cell_type": "markdown",
   "metadata": {},
   "source": [
    "На данном этапу мы посмотрели как меняалась концентрация металлов (Au, Ag, Pb) на различных этапах очистки.\n",
    "1) **Золото**, на каждом этапе очистки концентрация золота увеличивается:  \n",
    "    - Перед этапом флотации концентрация золота в среднем ровнялась 8.26  \n",
    "    - После этапа флотации равнялось 19.77  \n",
    "    - На этапе первичной очистки 32.11  \n",
    "    - На финальном этапе 44.07 \n",
    "    \n",
    "2) **Серебро**, почти на каждом этапе очистки концентрация серебра уменьшается, получается что на выходе мы имеем гораздо меньшее содержание серебра чем на входе:  \n",
    "    - Перед этапом флотации ровнялась 8.79  \n",
    "    - После этапа флотации равнялось 11.99  \n",
    "    - На этапе первичной очистки 8.44  \n",
    "    - На финальном этапе 5.16  \n",
    "    \n",
    "3) **Свинец**, концентрация свинца растет на каждом этапе очистки, но концентрация на финальном этапе не больше чем на этапе первичной обработки:  \n",
    "    - Перед этапом флотации ровнялась 3.58  \n",
    "    - После этапа флотации равнялось 7.60  \n",
    "    - На этапе первичной очистки 9.81  \n",
    "    - На финальном этапе 9.97  \n",
    "    \n",
    "Далее мы посмотрели на распределения размеров гранул сырья на обучающей и тестовой выборках.  \n",
    "На этапе флотации размеры гранул на обучающей выборке составляют 60.23, на тестовой 55.95. Следовательно можно сделать вывод, что размеры гранул в обучающей и тестовой выборке на этапе флотации - похожи.  \n",
    "На этапе первичной очистки мы размеры гранул на обучающей выборке составляют 7.32, на тестовой 7.26. Следовательно размеры гранул в обучающей и тестовой выборке на этапе первичной очистки - похожи.  \n",
    "\n",
    "Так же мы посмотрели на суммарная концентрация всех веществ (Au, Ag, Pb, Sol) на разных стадиях очистки.  \n",
    "Мы получили, что на финальном этапе концентрация всех вещест гораздо больше чем перед началом флотации.  \n",
    "Перед флотацией среднея концентрация составляла 57.32, а на финальном этапе 68.65.  \n",
    "Так же мы увидели, что есть значения равные 0, этого не может быть, видимо была допущена ошибка при расчетах, поэтому мы удалили такие строки из датасетов.  \n",
    "\n",
    "В итоге получили датасеты следующих размеров:\n",
    "- Размер полного датасета: (18848, 87)\n",
    "- Размер обучающего датасета: (13725, 55)\n",
    "- Размер тестового датасета: (5123, 55)"
   ]
  },
  {
   "cell_type": "markdown",
   "metadata": {},
   "source": [
    "# Модель"
   ]
  },
  {
   "cell_type": "markdown",
   "metadata": {},
   "source": [
    "## Метрика качества sMAPE"
   ]
  },
  {
   "cell_type": "markdown",
   "metadata": {},
   "source": [
    "Для решения задачи введём новую метрику качества — **sMAPE** (англ. Symmetric Mean Absolute Percentage Error, «симметричное среднее абсолютное процентное отклонение»).  \n",
    "Она похожа на MAE, но выражается не в абсолютных величинах, а в относительных. Почему симметричная? Она одинаково учитывает масштаб и целевого признака, и предсказания.  \n",
    "Метрика **sMAPE** вычисляется так:"
   ]
  },
  {
   "cell_type": "markdown",
   "metadata": {},
   "source": [
    "$$\n",
    "\\Large  sMAPE = \\frac{1}{N}\\sum_{i=1}^{N}\\frac{|y_i-\\widehat{y_i}|}{(|y_i|+|\\widehat{y_i}|)/2}\\times100% \\\\\n",
    "$$\n",
    "\n",
    "$\n",
    "где: \\\\\n",
    "y_i — Значение \\ целевого \\ признака \\ для \\ объекта \\ с \\ порядковым \\ номером \\ i \\ в \\ выборке, \\ на которой \\ измеряется \\ качество; \\\\\n",
    "\\widehat{y_i} — Значение \\ предсказания \\ для \\ объекта \\ с \\ порядковым \\ номером \\ i, \\ например, \\ в \\ тестовой \\ выборке; \\\\  \n",
    "N — Количество \\ объектов \\ в \\ выборке; \\\\\n",
    "\\sum_{i=1}^{N} - Суммирование \\ по \\ всем \\ объектам \\ выборки \\ (i \\ меняется \\ от \\ 1 \\ до \\ N).\n",
    "\\\\  \n",
    "$"
   ]
  },
  {
   "cell_type": "markdown",
   "metadata": {},
   "source": [
    "Напишем функция для расчета **sMAPE**"
   ]
  },
  {
   "cell_type": "code",
   "execution_count": 33,
   "metadata": {},
   "outputs": [],
   "source": [
    "def smape(target, predict):\n",
    "    \n",
    "    top = np.abs(target - predict)\n",
    "    bottom = (np.abs(target) + np.abs(predict)) / 2\n",
    "    sum_func = (top / bottom).sum()\n",
    "    smape = (1 / len(target)) * sum_func * 100\n",
    "    \n",
    "    return smape"
   ]
  },
  {
   "cell_type": "markdown",
   "metadata": {},
   "source": [
    "Нужно спрогнозировать сразу две величины:  \n",
    "   1) эффективность обогащения чернового концентрата `rougher.output.recovery`;  \n",
    " \n",
    "   2) эффективность обогащения финального концентрата `final.output.recovery`.\n",
    "\n",
    "Итоговая метрика складывается из двух величин:\n",
    "\n",
    "$$\n",
    "Итоговое \\ sMAPE = 25\\% \\times sMAPE(roughter) + 75\\% \\times sMAPE(final) \\\\\n",
    "$$"
   ]
  },
  {
   "cell_type": "markdown",
   "metadata": {},
   "source": [
    "Напишем функцию для расчета итогового **sMAPE**"
   ]
  },
  {
   "cell_type": "code",
   "execution_count": 34,
   "metadata": {},
   "outputs": [],
   "source": [
    "def final_smape(rougher, final):\n",
    "    \n",
    "    final = 0.25 * rougher + 0.75 * final\n",
    "    \n",
    "    return final"
   ]
  },
  {
   "cell_type": "markdown",
   "metadata": {},
   "source": [
    "## Разобъем данные"
   ]
  },
  {
   "cell_type": "markdown",
   "metadata": {},
   "source": [
    "Разобъем на выборки наши обучающие и тестовые данные c учетом чернового концентрата и финального концентрата"
   ]
  },
  {
   "cell_type": "code",
   "execution_count": 35,
   "metadata": {},
   "outputs": [],
   "source": [
    "X_train_rougher = df_gold_train.drop(['date', 'rougher.output.recovery', 'final.output.recovery'], axis=1)\n",
    "y_train_rougher = df_gold_train['rougher.output.recovery']\n",
    "\n",
    "X_test_rougher = df_gold_test.drop(['date', 'rougher.output.recovery', 'final.output.recovery'], axis=1)\n",
    "y_test_rougher = df_gold_test['rougher.output.recovery']\n",
    "\n",
    "X_train_final = df_gold_train.drop(['date', 'rougher.output.recovery', 'final.output.recovery'], axis=1)\n",
    "y_train_final = df_gold_train['final.output.recovery']\n",
    "\n",
    "X_test_final = df_gold_test.drop(['date', 'rougher.output.recovery', 'final.output.recovery'], axis=1)\n",
    "y_test_final = df_gold_test['final.output.recovery']"
   ]
  },
  {
   "cell_type": "markdown",
   "metadata": {},
   "source": [
    "## Масштабирование признаков"
   ]
  },
  {
   "cell_type": "markdown",
   "metadata": {},
   "source": [
    "Для масштабирования признаков воспользуемся `StandardScaler`"
   ]
  },
  {
   "cell_type": "code",
   "execution_count": 36,
   "metadata": {},
   "outputs": [],
   "source": [
    "scaler = StandardScaler()\n",
    "scaler.fit(X_train_rougher)\n",
    "X_train_rougher = scaler.transform(X_train_rougher)\n",
    "X_test_rougher = scaler.transform(X_test_rougher)"
   ]
  },
  {
   "cell_type": "code",
   "execution_count": 37,
   "metadata": {},
   "outputs": [],
   "source": [
    "scaler = StandardScaler()\n",
    "scaler.fit(X_train_final)\n",
    "X_train_final = scaler.transform(X_train_final)\n",
    "X_test_final = scaler.transform(X_test_final)"
   ]
  },
  {
   "cell_type": "markdown",
   "metadata": {},
   "source": [
    "## Построение моделей"
   ]
  },
  {
   "cell_type": "markdown",
   "metadata": {},
   "source": [
    "Обучим разные модели и оценим их качество кросс-валидацией.  \n",
    "В качестве метрики мы должны использовать метрику **sMAPE**, укажем эту функцию в качетве параметра `scoring`, использовав объект `scorer`"
   ]
  },
  {
   "cell_type": "code",
   "execution_count": 38,
   "metadata": {},
   "outputs": [],
   "source": [
    "cv = 5\n",
    "scorer = make_scorer(smape)"
   ]
  },
  {
   "cell_type": "markdown",
   "metadata": {},
   "source": [
    "### Линейная регерссия"
   ]
  },
  {
   "cell_type": "markdown",
   "metadata": {},
   "source": [
    "Построим модель линейной регрессии"
   ]
  },
  {
   "cell_type": "code",
   "execution_count": 39,
   "metadata": {},
   "outputs": [],
   "source": [
    "def linear_cv(X, y):\n",
    "    \n",
    "    model = LinearRegression()\n",
    "    score = cross_val_score(model, X, y, cv=cv, scoring=scorer).mean()\n",
    "    \n",
    "    return score"
   ]
  },
  {
   "cell_type": "code",
   "execution_count": 40,
   "metadata": {},
   "outputs": [
    {
     "name": "stdout",
     "output_type": "stream",
     "text": [
      "Средний sMAPE модели линейной регресии на этапе rougher равен 7.27\n"
     ]
    }
   ],
   "source": [
    "print('Средний sMAPE модели линейной регресии на этапе rougher равен {:.2f}'.\n",
    "      format(linear_cv(X_train_rougher, y_train_rougher)))"
   ]
  },
  {
   "cell_type": "code",
   "execution_count": 41,
   "metadata": {},
   "outputs": [
    {
     "name": "stdout",
     "output_type": "stream",
     "text": [
      "Средний sMAPE модели линейной регресии на этапе final равен 10.95\n"
     ]
    }
   ],
   "source": [
    "print('Средний sMAPE модели линейной регресии на этапе final равен {:.2f}'.\n",
    "      format(linear_cv(X_train_final, y_train_final)))"
   ]
  },
  {
   "cell_type": "markdown",
   "metadata": {},
   "source": [
    "### Дерево решений"
   ]
  },
  {
   "cell_type": "markdown",
   "metadata": {},
   "source": [
    "Построим модель дерева решений"
   ]
  },
  {
   "cell_type": "code",
   "execution_count": 42,
   "metadata": {},
   "outputs": [],
   "source": [
    "def decision_tree_cv(X, y):\n",
    "    \n",
    "    best_depth = 0\n",
    "    best_score = 0\n",
    "    \n",
    "    for depth in range(1,21):\n",
    "        model = DecisionTreeRegressor(max_depth=depth, random_state=12345)\n",
    "        score = cross_val_score(model, X, y, cv=cv, scoring=scorer).mean()\n",
    "        \n",
    "        if score > best_score:\n",
    "            best_depth = depth\n",
    "            best_score = score\n",
    "            \n",
    "    return best_depth, best_score"
   ]
  },
  {
   "cell_type": "code",
   "execution_count": 43,
   "metadata": {},
   "outputs": [],
   "source": [
    "dt_rougher = decision_tree_cv(X_train_rougher, y_train_rougher)"
   ]
  },
  {
   "cell_type": "code",
   "execution_count": 44,
   "metadata": {},
   "outputs": [
    {
     "name": "stdout",
     "output_type": "stream",
     "text": [
      "Средний sMAPE модели дерева решений на этапе rougher равен 13.33, с глубиной дерева 11\n"
     ]
    }
   ],
   "source": [
    "print('Средний sMAPE модели дерева решений на этапе rougher равен {:.2f}, с глубиной дерева {}'.\n",
    "      format(dt_rougher[1], dt_rougher[0]))"
   ]
  },
  {
   "cell_type": "code",
   "execution_count": 45,
   "metadata": {},
   "outputs": [],
   "source": [
    "dt_final = decision_tree_cv(X_train_final, y_train_final)"
   ]
  },
  {
   "cell_type": "code",
   "execution_count": 46,
   "metadata": {},
   "outputs": [
    {
     "name": "stdout",
     "output_type": "stream",
     "text": [
      "Средний sMAPE модели дерева решений на этапе final равен 15.58, с глубиной дерева 18\n"
     ]
    }
   ],
   "source": [
    "print('Средний sMAPE модели дерева решений на этапе final равен {:.2f}, с глубиной дерева {}'.\n",
    "      format(dt_final[1], dt_final[0]))"
   ]
  },
  {
   "cell_type": "markdown",
   "metadata": {},
   "source": [
    "### Случайный лес"
   ]
  },
  {
   "cell_type": "markdown",
   "metadata": {},
   "source": [
    "Построим модель случайного леса"
   ]
  },
  {
   "cell_type": "code",
   "execution_count": 47,
   "metadata": {},
   "outputs": [],
   "source": [
    "def random_forest_cv(X, y):\n",
    "    \n",
    "    best_depth = 0\n",
    "    best_estimators = 0\n",
    "    best_score = 0\n",
    "    \n",
    "    for est in range(1, 51, 10):\n",
    "        \n",
    "        for depth in range(1, 11, 2):\n",
    "            \n",
    "            model = RandomForestRegressor(max_depth=depth,  n_estimators=est, random_state=12345)\n",
    "            score = cross_val_score(model, X, y, cv=cv, scoring=scorer).mean()\n",
    "            \n",
    "            if score > best_score:\n",
    "                \n",
    "                best_score = score\n",
    "                best_depth = depth\n",
    "                best_estimators = est\n",
    "                \n",
    "    return best_depth, best_estimators, best_score"
   ]
  },
  {
   "cell_type": "code",
   "execution_count": 48,
   "metadata": {},
   "outputs": [],
   "source": [
    "random_forest_rougher = random_forest_cv(X_train_rougher, y_train_rougher)"
   ]
  },
  {
   "cell_type": "code",
   "execution_count": 49,
   "metadata": {},
   "outputs": [
    {
     "name": "stdout",
     "output_type": "stream",
     "text": [
      "Средний sMAPE модели случайного леса на этапе rougher равен 8.80, с глубиной дерева 9 и количеством деревьев 1\n"
     ]
    }
   ],
   "source": [
    "print(\n",
    "    'Средний sMAPE модели случайного леса на этапе rougher равен {:.2f}, с глубиной дерева {} и количеством деревьев {}'\n",
    "    .format(random_forest_rougher[2], random_forest_rougher[0], random_forest_rougher[1]))"
   ]
  },
  {
   "cell_type": "code",
   "execution_count": 50,
   "metadata": {},
   "outputs": [],
   "source": [
    "random_forest_final = random_forest_cv(X_train_final, y_train_final)"
   ]
  },
  {
   "cell_type": "code",
   "execution_count": 51,
   "metadata": {},
   "outputs": [
    {
     "name": "stdout",
     "output_type": "stream",
     "text": [
      "Средний sMAPE модели случайного леса на этапе final равен 12.60, с глубиной дерева 9 и количествои деревьев 1\n"
     ]
    }
   ],
   "source": [
    "print('Средний sMAPE модели случайного леса на этапе final равен {:.2f}, с глубиной дерева {} и количествои деревьев {}'.\n",
    "      format(random_forest_final[2], random_forest_final[0], random_forest_final[1]))"
   ]
  },
  {
   "cell_type": "markdown",
   "metadata": {},
   "source": [
    "### Вывод"
   ]
  },
  {
   "cell_type": "markdown",
   "metadata": {},
   "source": [
    "Мы получили следующие результаты по моделям:  \n",
    "\n",
    "1) Линейная регерссия:  \n",
    "    - Средний **sMAPE** модели линейной регресии на этапе rougher равен 7.27   \n",
    "    - Средний **sMAPE** модели линейной регресии на этапе final равен 10.95   \n",
    "\n",
    "2) Дерево решений:  \n",
    "    - Средний **sMAPE** модели дерева решений на этапе rougher равен 13.33, с глубиной дерева 11   \n",
    "    - Средний **sMAPE** модели дерева решений на этапе final равен 15.58, с глубиной дерева 18   \n",
    "\n",
    "3) Случайный лес:  \n",
    "    - Средний **sMAPE** модели случайного леса на этапе rougher равен 8.80, с глубиной дерева 9 и количеством деревьев 1  \n",
    "    - Средний **sMAPE** модели случайного леса на этапе final равен 12.60, с глубиной дерева 9 и количествои деревьев 1\n",
    "    \n",
    "Из этого можно сделать вывод, что линейная регрессия лучше предсказывает результаты, поэтому возьмем ее за основную модель для проверки на тестовой выборке."
   ]
  },
  {
   "cell_type": "markdown",
   "metadata": {},
   "source": [
    "## Проверка на тестовой выборке"
   ]
  },
  {
   "cell_type": "markdown",
   "metadata": {},
   "source": [
    "Проверим предсказания нашей модели на тестовой выборке"
   ]
  },
  {
   "cell_type": "code",
   "execution_count": 52,
   "metadata": {},
   "outputs": [
    {
     "name": "stdout",
     "output_type": "stream",
     "text": [
      "sMAPE флотации равен 4.87\n",
      "sMAPE финального этапа равен 8.13\n",
      "Итоговый sMAPE равен 7.32\n"
     ]
    }
   ],
   "source": [
    "rougher_model = LinearRegression()\n",
    "final_model = LinearRegression()\n",
    "\n",
    "rougher_model.fit(X_train_rougher, y_train_rougher)\n",
    "predictions_rougher = rougher_model.predict(X_test_rougher)\n",
    "\n",
    "final_model.fit(X_train_final, y_train_final)\n",
    "predictions_final = final_model.predict(X_test_final)\n",
    "\n",
    "score_rougher = smape(y_test_rougher, predictions_rougher)\n",
    "score_final = smape(y_test_final, predictions_final)\n",
    "total_smape = final_smape(score_rougher, score_final)\n",
    "\n",
    "print('sMAPE флотации равен {:.2f}'.format(score_rougher))\n",
    "print('sMAPE финального этапа равен {:.2f}'.format(score_final))\n",
    "print('Итоговый sMAPE равен {:.2f}'.format(total_smape))"
   ]
  },
  {
   "cell_type": "markdown",
   "metadata": {},
   "source": [
    "## Проверка модели на адекватность"
   ]
  },
  {
   "cell_type": "markdown",
   "metadata": {},
   "source": [
    "Для проверки модели на адекватность воспользуемся `DummyRegressor`"
   ]
  },
  {
   "cell_type": "code",
   "execution_count": 53,
   "metadata": {},
   "outputs": [
    {
     "name": "stdout",
     "output_type": "stream",
     "text": [
      "sMAPE флотации равен 5.36\n",
      "sMAPE финального этапа равен 8.58\n",
      "Итоговый sMAPE равен 7.78\n"
     ]
    }
   ],
   "source": [
    "dummy = DummyRegressor()\n",
    "\n",
    "dummy.fit(X_train_rougher, y_train_rougher)\n",
    "predictions_rouger = dummy.predict(X_test_rougher)\n",
    "\n",
    "dummy.fit(X_train_final, y_train_final)\n",
    "predictions_final = dummy.predict(X_test_final)\n",
    "\n",
    "score_rougher = smape(y_test_rougher, predictions_rouger)\n",
    "score_final = smape(y_test_final, predictions_final)\n",
    "total_smape = final_smape(score_rougher, score_final)\n",
    "\n",
    "print('sMAPE флотации равен {:.2f}'.format(score_rougher))\n",
    "print('sMAPE финального этапа равен {:.2f}'.format(score_final))\n",
    "print('Итоговый sMAPE равен {:.2f}'.format(total_smape))"
   ]
  },
  {
   "cell_type": "markdown",
   "metadata": {},
   "source": [
    "## Вывод"
   ]
  },
  {
   "cell_type": "markdown",
   "metadata": {},
   "source": [
    "Мы проверили нашу модель логистической регресии на тестовой выборке и получили следующие резуьтаты:\n",
    "1) **sMAPE** флотации равен 4.87    \n",
    "2) **sMAPE** финального этапа равен 8.13   \n",
    "3) Итоговый **sMAPE** равен 7.32    \n",
    "\n",
    "Для проверки нашей модели на адекватность мы воспользовались `DummyRegressor` и получили следующие результаты:\n",
    "\n",
    "1) **sMAPE** флотации равен 5.36  \n",
    "2) **sMAPE** финального этапа равен 8.58    \n",
    "3) Итоговый **sMAPE** равен 7.78 \n",
    "\n",
    "Как мы видим, наша модель делает предсказания немного лучше, поэтому ее выбор является оправданным"
   ]
  },
  {
   "cell_type": "markdown",
   "metadata": {},
   "source": [
    "# Общий вывод"
   ]
  },
  {
   "cell_type": "markdown",
   "metadata": {},
   "source": [
    "При начале работы с данными у нас были таблицы следующих размеров: \n",
    "- **df_gold_train**: (14149, 87) \n",
    "- **df_gold_test**: (5290, 53) \n",
    "- **df_gold_full**: (19439, 87) \n",
    " \n",
    "Обучающие и тестовые данные разбиты следующим образом:   \n",
    "1) В обучающем наборе содержится 72.79% данных   \n",
    "2) В тестовом наборе содержится 27.21% данных  \n",
    "\n",
    "В тестовом наборе не было признаков с данными которые появляются после обработки материала, а общий датасет содержит обучающую и тестовую выборки со всеми признаками.  \n",
    "В итоге мы удалили из обучающего датасета лишние признаки и к тестовому добавили целевые признаки из общего датасета, в итоге наборы признаков в датасетах совпадают, их количество равно 55.\n",
    "\n",
    "В таблицах содержалось следующее количество пропусков:  \n",
    "- **df_gold_train**: 4100 шт, это составляет 28.98% от данных   \n",
    "- **df_gold_test**: 90 шт, это составляет 1.70% от данных\n",
    "- **df_gold_full**: 4481 шт, это составляет 23.05% от данных \n",
    "\n",
    "Скорее всего, пропущенные значения в таблицах получались из-за того, что отсутствовала информация по этапу так как выполнялся другой этап обработки. По этому мы заполнили пропущенные значения предыдущим значением.\n",
    "\n",
    "Дубликатов в таблицах нет. Значения в таблицах преимущественно числовые.\n",
    "\n",
    "Мы получили **MAE** между нашими расчетами и признаком `rougher.output.recovery` равный 0, это говорит о том, что эффективность обогащения рассчитана правильно.\n",
    "\n",
    "После проделланых манипуляций, мы получили таблицы следующих размеров: \n",
    "- **df_gold_train**: (14149, 55) \n",
    "- **df_gold_test**: (5290, 55) \n",
    "- **df_gold_full**: (19439, 87) \n",
    "\n",
    "После подготовки данных мы приступили к анализу.\n",
    "\n",
    "На данном этапу мы посмотрели как менялась концентрация металлов (Au, Ag, Pb) на различных этапах очистки.\n",
    "1) **Золото**, на каждом этапе очистки концентрация золота увеличивается:  \n",
    "    - Перед этапом флотации концентрация золота в среднем ровнялась 8.26  \n",
    "    - После этапа флотации равнялось 19.77  \n",
    "    - На этапе первичной очистки 32.11  \n",
    "    - На финальном этапе 44.07 \n",
    "    \n",
    "2) **Серебро**, почти на каждом этапе очистки концентрация серебра уменьшается, получается что на выходе мы имеем гораздо меньшее содержание серебра чем на входе:  \n",
    "    - Перед этапом флотации ровнялась 8.79  \n",
    "    - После этапа флотации равнялось 11.99  \n",
    "    - На этапе первичной очистки 8.44  \n",
    "    - На финальном этапе 5.16  \n",
    "    \n",
    "3) **Свинец**, концентрация свинца растет на каждом этапе очистки, но концентрация на финальном этапе не больше чем на этапе первичной обработки:  \n",
    "    - Перед этапом флотации ровнялась 3.58  \n",
    "    - После этапа флотации равнялось 7.60  \n",
    "    - На этапе первичной очистки 9.81  \n",
    "    - На финальном этапе 9.97  \n",
    "    \n",
    "Далее мы посмотрели на распределения размеров гранул сырья на обучающей и тестовой выборках.  \n",
    "На этапе флотации размеры гранул на обучающей выборке составляют 60.23, на тестовой 55.95. Следовательно можно сделать вывод, что размеры гранул в обучающей и тестовой выборке на этапе флотации - похожи.  \n",
    "На этапе первичной очистки мы размеры гранул на обучающей выборке составляют 7.32, на тестовой 7.26. Следовательно размеры гранул в обучающей и тестовой выборке на этапе первичной очистки - похожи.  \n",
    "\n",
    "Так же мы посмотрели на суммарная концентрация всех веществ (Au, Ag, Pb, Sol) на разных стадиях очистки.  \n",
    "Мы получили, что на финальном этапе концентрация всех вещест гораздо больше чем перед началом флотации.  \n",
    "Перед флотацией среднея концентрация составляла 57.32, а на финальном этапе 68.65.  \n",
    "Так же мы увидели, что есть значения равные 0, этого не может быть, видимо была допущена ошибка при расчетах, поэтому мы удалили такие строки из датасетов.  \n",
    "\n",
    "В итоге получили датасеты следующих размеров:\n",
    "- Размер полного датасета: (18848, 87)\n",
    "- Размер обучающего датасета: (13725, 55)\n",
    "- Размер тестового датасета: (5123, 55)\n",
    "\n",
    "Для решения задачи ввели новую метрику качества — **sMAPE** (англ. Symmetric Mean Absolute Percentage Error, «симметричное среднее абсолютное процентное отклонение»).  \n",
    "Она похожа на MAE, но выражается не в абсолютных величинах, а в относительных. Почему симметричная? Она одинаково учитывает масштаб и целевого признака, и предсказания.  \n",
    "\n",
    "Мы разбили на выборки наши обучающие и тестовые данные c учетом чернового концентрата и финального концентрата, далее применили масштабирование и построили модели.  \n",
    "\n",
    "Мы получили следующие результаты по моделям:  \n",
    "\n",
    "1) Линейная регерссия:  \n",
    "    - Средний **sMAPE** модели линейной регресии на этапе rougher равен 7.27   \n",
    "    - Средний **sMAPE** модели линейной регресии на этапе final равен 10.95   \n",
    "\n",
    "2) Дерево решений:  \n",
    "    - Средний **sMAPE** модели дерева решений на этапе rougher равен 13.33, с глубиной дерева 11   \n",
    "    - Средний **sMAPE** модели дерева решений на этапе final равен 15.58, с глубиной дерева 18   \n",
    "\n",
    "3) Случайный лес:  \n",
    "    - Средний **sMAPE** модели случайного леса на этапе rougher равен 8.80, с глубиной дерева 9 и количеством деревьев 1  \n",
    "    - Средний **sMAPE** модели случайного леса на этапе final равен 12.60, с глубиной дерева 9 и количествои деревьев 1  \n",
    "    \n",
    "Из этого можно сделать вывод, что линейная регрессия лучше предсказывает результаты, поэтому возьмем ее за основную модель для проверки на тестовой выборке. \n",
    "    \n",
    "Из этого можно сделать вывод, что линейная регрессия лучше предсказывает результаты, поэтому возьмем ее за основную модель для проверки на тестовой выборке.  \n",
    "\n",
    "Далее мы проверили модель на тестовой выборке.  \n",
    "\n",
    "Мы проверили нашу модель логистической регресии на тестовой выборке и получили следующие резуьтаты:\n",
    "1) **sMAPE** флотации равен 4.87    \n",
    "2) **sMAPE** финального этапа равен 8.13   \n",
    "3) Итоговый **sMAPE** равен 7.32    \n",
    "\n",
    "Для проверки нашей модели на адекватность мы воспользовались `DummyRegressor` и получили следующие результаты:\n",
    "\n",
    "1) **sMAPE** флотации равен 5.36  \n",
    "2) **sMAPE** финального этапа равен 8.58    \n",
    "3) Итоговый **sMAPE** равен 7.78 \n",
    "\n",
    "Как мы видим, наша модель делает предсказания немного лучше, поэтому ее выбор является оправданным"
   ]
  },
  {
   "cell_type": "code",
   "execution_count": null,
   "metadata": {},
   "outputs": [],
   "source": []
  }
 ],
 "metadata": {
  "ExecuteTimeLog": [
   {
    "duration": 2240,
    "start_time": "2022-03-19T21:38:38.438Z"
   },
   {
    "duration": 206,
    "start_time": "2022-03-19T21:38:40.680Z"
   },
   {
    "duration": 1,
    "start_time": "2022-03-19T21:38:40.889Z"
   },
   {
    "duration": 0,
    "start_time": "2022-03-19T21:38:40.891Z"
   },
   {
    "duration": 0,
    "start_time": "2022-03-19T21:38:40.893Z"
   },
   {
    "duration": 0,
    "start_time": "2022-03-19T21:38:40.895Z"
   },
   {
    "duration": 0,
    "start_time": "2022-03-19T21:38:40.898Z"
   },
   {
    "duration": 10,
    "start_time": "2022-03-19T21:39:13.450Z"
   },
   {
    "duration": 12,
    "start_time": "2022-03-19T21:39:20.691Z"
   },
   {
    "duration": 6,
    "start_time": "2022-03-19T21:39:40.255Z"
   },
   {
    "duration": 73,
    "start_time": "2022-03-19T21:39:40.265Z"
   },
   {
    "duration": 0,
    "start_time": "2022-03-19T21:39:40.341Z"
   },
   {
    "duration": 0,
    "start_time": "2022-03-19T21:39:40.343Z"
   },
   {
    "duration": 0,
    "start_time": "2022-03-19T21:39:40.345Z"
   },
   {
    "duration": 0,
    "start_time": "2022-03-19T21:39:40.347Z"
   },
   {
    "duration": 0,
    "start_time": "2022-03-19T21:39:40.350Z"
   },
   {
    "duration": 0,
    "start_time": "2022-03-19T21:39:40.351Z"
   },
   {
    "duration": 5,
    "start_time": "2022-03-19T21:42:16.756Z"
   },
   {
    "duration": 889,
    "start_time": "2022-03-19T21:42:16.764Z"
   },
   {
    "duration": 11,
    "start_time": "2022-03-19T21:42:17.656Z"
   },
   {
    "duration": 307,
    "start_time": "2022-03-19T21:42:17.670Z"
   },
   {
    "duration": 112,
    "start_time": "2022-03-19T21:42:17.980Z"
   },
   {
    "duration": 264,
    "start_time": "2022-03-19T21:42:18.094Z"
   },
   {
    "duration": 15,
    "start_time": "2022-03-19T21:42:18.361Z"
   },
   {
    "duration": 7,
    "start_time": "2022-03-19T21:42:18.378Z"
   },
   {
    "duration": 6,
    "start_time": "2022-03-19T21:44:06.935Z"
   },
   {
    "duration": 5,
    "start_time": "2022-03-19T21:47:33.658Z"
   },
   {
    "duration": 6,
    "start_time": "2022-03-19T21:47:47.550Z"
   },
   {
    "duration": 92,
    "start_time": "2022-03-19T21:49:53.815Z"
   },
   {
    "duration": 1979,
    "start_time": "2022-03-19T22:13:28.789Z"
   },
   {
    "duration": 916,
    "start_time": "2022-03-19T22:13:30.771Z"
   },
   {
    "duration": 7,
    "start_time": "2022-03-19T22:13:31.690Z"
   },
   {
    "duration": 303,
    "start_time": "2022-03-19T22:13:31.699Z"
   },
   {
    "duration": 107,
    "start_time": "2022-03-19T22:13:32.006Z"
   },
   {
    "duration": 260,
    "start_time": "2022-03-19T22:13:32.115Z"
   },
   {
    "duration": 10,
    "start_time": "2022-03-19T22:13:32.377Z"
   },
   {
    "duration": 5,
    "start_time": "2022-03-19T22:13:32.389Z"
   },
   {
    "duration": 5,
    "start_time": "2022-03-19T22:13:32.396Z"
   },
   {
    "duration": 9,
    "start_time": "2022-03-19T22:13:32.403Z"
   },
   {
    "duration": 5,
    "start_time": "2022-03-19T22:13:32.414Z"
   },
   {
    "duration": 51,
    "start_time": "2022-03-19T22:13:32.421Z"
   },
   {
    "duration": 30,
    "start_time": "2022-03-19T22:13:32.474Z"
   },
   {
    "duration": 6,
    "start_time": "2022-03-19T22:13:32.508Z"
   },
   {
    "duration": 7,
    "start_time": "2022-03-19T22:13:32.516Z"
   },
   {
    "duration": 56,
    "start_time": "2022-03-19T22:13:32.525Z"
   },
   {
    "duration": 4,
    "start_time": "2022-03-19T22:13:32.583Z"
   },
   {
    "duration": 23,
    "start_time": "2022-03-19T22:13:32.590Z"
   },
   {
    "duration": 8,
    "start_time": "2022-03-19T22:13:32.615Z"
   },
   {
    "duration": 1602,
    "start_time": "2022-03-19T22:13:32.626Z"
   },
   {
    "duration": 1589,
    "start_time": "2022-03-19T22:13:34.231Z"
   },
   {
    "duration": 1507,
    "start_time": "2022-03-19T22:13:35.823Z"
   },
   {
    "duration": 42,
    "start_time": "2022-03-19T22:13:37.333Z"
   },
   {
    "duration": 367,
    "start_time": "2022-03-19T22:13:37.377Z"
   },
   {
    "duration": 39,
    "start_time": "2022-03-19T22:13:37.747Z"
   },
   {
    "duration": 463,
    "start_time": "2022-03-19T22:13:37.788Z"
   },
   {
    "duration": 36,
    "start_time": "2022-03-19T22:13:38.254Z"
   },
   {
    "duration": 31,
    "start_time": "2022-03-19T22:13:38.293Z"
   },
   {
    "duration": 1607,
    "start_time": "2022-03-19T22:13:38.327Z"
   },
   {
    "duration": 48,
    "start_time": "2022-03-19T22:13:39.936Z"
   },
   {
    "duration": 15,
    "start_time": "2022-03-19T22:13:39.987Z"
   },
   {
    "duration": 6,
    "start_time": "2022-03-19T22:13:40.004Z"
   },
   {
    "duration": 17,
    "start_time": "2022-03-19T22:13:40.012Z"
   },
   {
    "duration": 9,
    "start_time": "2022-03-19T22:13:40.032Z"
   },
   {
    "duration": 35,
    "start_time": "2022-03-19T22:13:40.043Z"
   },
   {
    "duration": 29,
    "start_time": "2022-03-19T22:13:40.080Z"
   },
   {
    "duration": 24,
    "start_time": "2022-03-19T22:13:40.112Z"
   },
   {
    "duration": 4,
    "start_time": "2022-03-19T22:13:40.138Z"
   },
   {
    "duration": 5,
    "start_time": "2022-03-19T22:13:40.168Z"
   },
   {
    "duration": 1597,
    "start_time": "2022-03-19T22:13:40.175Z"
   },
   {
    "duration": 1603,
    "start_time": "2022-03-19T22:13:41.869Z"
   },
   {
    "duration": 8,
    "start_time": "2022-03-19T22:13:43.475Z"
   },
   {
    "duration": 56558,
    "start_time": "2022-03-19T22:13:43.485Z"
   },
   {
    "duration": 5,
    "start_time": "2022-03-19T22:14:40.045Z"
   },
   {
    "duration": 57819,
    "start_time": "2022-03-19T22:14:40.052Z"
   },
   {
    "duration": 5,
    "start_time": "2022-03-19T22:15:37.873Z"
   },
   {
    "duration": 6,
    "start_time": "2022-03-19T22:15:37.880Z"
   },
   {
    "duration": 505162,
    "start_time": "2022-03-19T22:15:37.889Z"
   },
   {
    "duration": 6,
    "start_time": "2022-03-19T22:24:03.053Z"
   },
   {
    "duration": 527441,
    "start_time": "2022-03-19T22:24:03.068Z"
   },
   {
    "duration": 5,
    "start_time": "2022-03-19T22:32:50.511Z"
   },
   {
    "duration": 656,
    "start_time": "2022-03-19T22:32:50.518Z"
   },
   {
    "duration": 13,
    "start_time": "2022-03-19T22:32:51.176Z"
   },
   {
    "duration": 2102,
    "start_time": "2022-03-19T22:35:50.785Z"
   },
   {
    "duration": 868,
    "start_time": "2022-03-19T22:35:52.890Z"
   },
   {
    "duration": 10,
    "start_time": "2022-03-19T22:35:53.760Z"
   },
   {
    "duration": 285,
    "start_time": "2022-03-19T22:35:53.773Z"
   },
   {
    "duration": 107,
    "start_time": "2022-03-19T22:35:54.061Z"
   },
   {
    "duration": 254,
    "start_time": "2022-03-19T22:35:54.171Z"
   },
   {
    "duration": 10,
    "start_time": "2022-03-19T22:35:54.427Z"
   },
   {
    "duration": 6,
    "start_time": "2022-03-19T22:35:54.439Z"
   },
   {
    "duration": 5,
    "start_time": "2022-03-19T22:35:54.467Z"
   },
   {
    "duration": 8,
    "start_time": "2022-03-19T22:35:54.476Z"
   },
   {
    "duration": 5,
    "start_time": "2022-03-19T22:35:54.486Z"
   },
   {
    "duration": 10,
    "start_time": "2022-03-19T22:35:54.493Z"
   },
   {
    "duration": 32,
    "start_time": "2022-03-19T22:35:54.505Z"
   },
   {
    "duration": 6,
    "start_time": "2022-03-19T22:35:54.567Z"
   },
   {
    "duration": 7,
    "start_time": "2022-03-19T22:35:54.575Z"
   },
   {
    "duration": 31,
    "start_time": "2022-03-19T22:35:54.584Z"
   },
   {
    "duration": 4,
    "start_time": "2022-03-19T22:35:54.617Z"
   },
   {
    "duration": 53,
    "start_time": "2022-03-19T22:35:54.623Z"
   },
   {
    "duration": 7,
    "start_time": "2022-03-19T22:35:54.678Z"
   },
   {
    "duration": 1542,
    "start_time": "2022-03-19T22:35:54.687Z"
   },
   {
    "duration": 1480,
    "start_time": "2022-03-19T22:35:56.232Z"
   },
   {
    "duration": 1513,
    "start_time": "2022-03-19T22:35:57.714Z"
   },
   {
    "duration": 40,
    "start_time": "2022-03-19T22:35:59.229Z"
   },
   {
    "duration": 358,
    "start_time": "2022-03-19T22:35:59.272Z"
   },
   {
    "duration": 46,
    "start_time": "2022-03-19T22:35:59.632Z"
   },
   {
    "duration": 453,
    "start_time": "2022-03-19T22:35:59.681Z"
   },
   {
    "duration": 45,
    "start_time": "2022-03-19T22:36:00.137Z"
   },
   {
    "duration": 34,
    "start_time": "2022-03-19T22:36:00.187Z"
   },
   {
    "duration": 1623,
    "start_time": "2022-03-19T22:36:00.223Z"
   },
   {
    "duration": 45,
    "start_time": "2022-03-19T22:36:01.848Z"
   },
   {
    "duration": 17,
    "start_time": "2022-03-19T22:36:01.895Z"
   },
   {
    "duration": 6,
    "start_time": "2022-03-19T22:36:01.914Z"
   },
   {
    "duration": 11,
    "start_time": "2022-03-19T22:36:01.922Z"
   },
   {
    "duration": 33,
    "start_time": "2022-03-19T22:36:01.935Z"
   },
   {
    "duration": 38,
    "start_time": "2022-03-19T22:36:01.970Z"
   },
   {
    "duration": 34,
    "start_time": "2022-03-19T22:36:02.010Z"
   },
   {
    "duration": 26,
    "start_time": "2022-03-19T22:36:02.046Z"
   },
   {
    "duration": 4,
    "start_time": "2022-03-19T22:36:02.074Z"
   },
   {
    "duration": 6,
    "start_time": "2022-03-19T22:36:02.081Z"
   },
   {
    "duration": 1680,
    "start_time": "2022-03-19T22:36:02.089Z"
   },
   {
    "duration": 1500,
    "start_time": "2022-03-19T22:36:03.771Z"
   },
   {
    "duration": 94,
    "start_time": "2022-03-19T22:36:05.275Z"
   },
   {
    "duration": 56768,
    "start_time": "2022-03-19T22:36:05.372Z"
   },
   {
    "duration": 4,
    "start_time": "2022-03-19T22:37:02.143Z"
   },
   {
    "duration": 58680,
    "start_time": "2022-03-19T22:37:02.149Z"
   },
   {
    "duration": 5,
    "start_time": "2022-03-19T22:38:00.831Z"
   },
   {
    "duration": 8,
    "start_time": "2022-03-19T22:38:00.838Z"
   },
   {
    "duration": 507435,
    "start_time": "2022-03-19T22:38:00.849Z"
   },
   {
    "duration": 5,
    "start_time": "2022-03-19T22:46:28.286Z"
   },
   {
    "duration": 514535,
    "start_time": "2022-03-19T22:46:28.293Z"
   },
   {
    "duration": 6,
    "start_time": "2022-03-19T22:55:02.830Z"
   },
   {
    "duration": 530,
    "start_time": "2022-03-19T22:55:02.838Z"
   },
   {
    "duration": 103,
    "start_time": "2022-03-19T22:55:03.372Z"
   },
   {
    "duration": 6,
    "start_time": "2022-03-19T22:55:34.246Z"
   },
   {
    "duration": 219,
    "start_time": "2022-03-19T22:55:34.254Z"
   },
   {
    "duration": 1957,
    "start_time": "2022-03-19T22:55:55.772Z"
   },
   {
    "duration": 198,
    "start_time": "2022-03-19T22:55:57.732Z"
   },
   {
    "duration": 0,
    "start_time": "2022-03-19T22:55:57.936Z"
   },
   {
    "duration": 0,
    "start_time": "2022-03-19T22:55:57.938Z"
   },
   {
    "duration": 0,
    "start_time": "2022-03-19T22:55:57.940Z"
   },
   {
    "duration": 0,
    "start_time": "2022-03-19T22:55:57.943Z"
   },
   {
    "duration": 0,
    "start_time": "2022-03-19T22:55:57.945Z"
   },
   {
    "duration": 0,
    "start_time": "2022-03-19T22:55:57.947Z"
   },
   {
    "duration": 0,
    "start_time": "2022-03-19T22:55:57.969Z"
   },
   {
    "duration": 1,
    "start_time": "2022-03-19T22:55:57.970Z"
   },
   {
    "duration": 0,
    "start_time": "2022-03-19T22:55:57.973Z"
   },
   {
    "duration": 0,
    "start_time": "2022-03-19T22:55:57.975Z"
   },
   {
    "duration": 0,
    "start_time": "2022-03-19T22:55:57.976Z"
   },
   {
    "duration": 0,
    "start_time": "2022-03-19T22:55:57.978Z"
   },
   {
    "duration": 0,
    "start_time": "2022-03-19T22:55:57.979Z"
   },
   {
    "duration": 0,
    "start_time": "2022-03-19T22:55:57.981Z"
   },
   {
    "duration": 0,
    "start_time": "2022-03-19T22:55:57.983Z"
   },
   {
    "duration": 0,
    "start_time": "2022-03-19T22:55:57.984Z"
   },
   {
    "duration": 0,
    "start_time": "2022-03-19T22:55:57.986Z"
   },
   {
    "duration": 0,
    "start_time": "2022-03-19T22:55:57.987Z"
   },
   {
    "duration": 0,
    "start_time": "2022-03-19T22:55:57.989Z"
   },
   {
    "duration": 0,
    "start_time": "2022-03-19T22:55:57.991Z"
   },
   {
    "duration": 0,
    "start_time": "2022-03-19T22:55:57.992Z"
   },
   {
    "duration": 0,
    "start_time": "2022-03-19T22:55:57.994Z"
   },
   {
    "duration": 0,
    "start_time": "2022-03-19T22:55:57.996Z"
   },
   {
    "duration": 0,
    "start_time": "2022-03-19T22:55:57.998Z"
   },
   {
    "duration": 0,
    "start_time": "2022-03-19T22:55:57.999Z"
   },
   {
    "duration": 0,
    "start_time": "2022-03-19T22:55:58.000Z"
   },
   {
    "duration": 0,
    "start_time": "2022-03-19T22:55:58.002Z"
   },
   {
    "duration": 1,
    "start_time": "2022-03-19T22:55:58.003Z"
   },
   {
    "duration": 0,
    "start_time": "2022-03-19T22:55:58.006Z"
   },
   {
    "duration": 0,
    "start_time": "2022-03-19T22:55:58.068Z"
   },
   {
    "duration": 1,
    "start_time": "2022-03-19T22:55:58.069Z"
   },
   {
    "duration": 0,
    "start_time": "2022-03-19T22:55:58.071Z"
   },
   {
    "duration": 0,
    "start_time": "2022-03-19T22:55:58.073Z"
   },
   {
    "duration": 0,
    "start_time": "2022-03-19T22:55:58.074Z"
   },
   {
    "duration": 0,
    "start_time": "2022-03-19T22:55:58.076Z"
   },
   {
    "duration": 0,
    "start_time": "2022-03-19T22:55:58.078Z"
   },
   {
    "duration": 0,
    "start_time": "2022-03-19T22:55:58.079Z"
   },
   {
    "duration": 0,
    "start_time": "2022-03-19T22:55:58.081Z"
   },
   {
    "duration": 0,
    "start_time": "2022-03-19T22:55:58.082Z"
   },
   {
    "duration": 0,
    "start_time": "2022-03-19T22:55:58.084Z"
   },
   {
    "duration": 0,
    "start_time": "2022-03-19T22:55:58.086Z"
   },
   {
    "duration": 0,
    "start_time": "2022-03-19T22:55:58.087Z"
   },
   {
    "duration": 0,
    "start_time": "2022-03-19T22:55:58.089Z"
   },
   {
    "duration": 0,
    "start_time": "2022-03-19T22:55:58.091Z"
   },
   {
    "duration": 0,
    "start_time": "2022-03-19T22:55:58.093Z"
   },
   {
    "duration": 0,
    "start_time": "2022-03-19T22:55:58.094Z"
   },
   {
    "duration": 0,
    "start_time": "2022-03-19T22:55:58.095Z"
   },
   {
    "duration": 0,
    "start_time": "2022-03-19T22:55:58.097Z"
   },
   {
    "duration": 0,
    "start_time": "2022-03-19T22:55:58.098Z"
   },
   {
    "duration": 0,
    "start_time": "2022-03-19T22:55:58.100Z"
   },
   {
    "duration": 0,
    "start_time": "2022-03-19T22:55:58.101Z"
   },
   {
    "duration": 51,
    "start_time": "2022-03-20T11:51:38.420Z"
   },
   {
    "duration": 1555,
    "start_time": "2022-03-20T11:51:43.309Z"
   },
   {
    "duration": 840,
    "start_time": "2022-03-20T11:51:46.536Z"
   },
   {
    "duration": 4,
    "start_time": "2022-03-20T11:52:15.299Z"
   },
   {
    "duration": 176,
    "start_time": "2022-03-20T11:52:16.229Z"
   },
   {
    "duration": 52,
    "start_time": "2022-03-20T11:52:16.725Z"
   },
   {
    "duration": 142,
    "start_time": "2022-03-20T11:52:17.271Z"
   },
   {
    "duration": 6,
    "start_time": "2022-03-20T11:52:18.165Z"
   },
   {
    "duration": 4,
    "start_time": "2022-03-20T11:52:18.552Z"
   },
   {
    "duration": 3,
    "start_time": "2022-03-20T11:52:19.473Z"
   },
   {
    "duration": 5,
    "start_time": "2022-03-20T11:52:19.717Z"
   },
   {
    "duration": 2,
    "start_time": "2022-03-20T11:52:20.217Z"
   },
   {
    "duration": 7,
    "start_time": "2022-03-20T11:52:20.420Z"
   },
   {
    "duration": 22,
    "start_time": "2022-03-20T11:52:20.826Z"
   },
   {
    "duration": 3,
    "start_time": "2022-03-20T11:52:22.337Z"
   },
   {
    "duration": 4,
    "start_time": "2022-03-20T11:52:23.228Z"
   },
   {
    "duration": 24,
    "start_time": "2022-03-20T11:52:24.405Z"
   },
   {
    "duration": 3,
    "start_time": "2022-03-20T11:52:24.591Z"
   },
   {
    "duration": 13,
    "start_time": "2022-03-20T11:52:24.796Z"
   },
   {
    "duration": 4,
    "start_time": "2022-03-20T11:52:26.150Z"
   },
   {
    "duration": 1138,
    "start_time": "2022-03-20T11:52:26.710Z"
   },
   {
    "duration": 1190,
    "start_time": "2022-03-20T11:52:27.850Z"
   },
   {
    "duration": 1214,
    "start_time": "2022-03-20T11:52:29.042Z"
   },
   {
    "duration": 18,
    "start_time": "2022-03-20T11:52:30.257Z"
   },
   {
    "duration": 219,
    "start_time": "2022-03-20T11:52:30.277Z"
   },
   {
    "duration": 18,
    "start_time": "2022-03-20T11:52:30.772Z"
   },
   {
    "duration": 267,
    "start_time": "2022-03-20T11:52:31.151Z"
   },
   {
    "duration": 18,
    "start_time": "2022-03-20T11:52:31.930Z"
   },
   {
    "duration": 21,
    "start_time": "2022-03-20T11:52:32.559Z"
   },
   {
    "duration": 1072,
    "start_time": "2022-03-20T11:52:32.986Z"
   },
   {
    "duration": 22,
    "start_time": "2022-03-20T11:52:34.060Z"
   },
   {
    "duration": 9,
    "start_time": "2022-03-20T11:52:34.084Z"
   },
   {
    "duration": 4,
    "start_time": "2022-03-20T11:52:34.193Z"
   },
   {
    "duration": 3,
    "start_time": "2022-03-20T11:54:29.799Z"
   },
   {
    "duration": 3,
    "start_time": "2022-03-20T11:54:32.214Z"
   },
   {
    "duration": 11,
    "start_time": "2022-03-20T11:54:35.014Z"
   },
   {
    "duration": 22,
    "start_time": "2022-03-20T11:54:37.029Z"
   },
   {
    "duration": 19,
    "start_time": "2022-03-20T11:54:37.940Z"
   },
   {
    "duration": 2,
    "start_time": "2022-03-20T11:54:39.807Z"
   },
   {
    "duration": 3,
    "start_time": "2022-03-20T11:54:41.396Z"
   },
   {
    "duration": 1182,
    "start_time": "2022-03-20T11:54:42.459Z"
   },
   {
    "duration": 1297,
    "start_time": "2022-03-20T11:54:44.843Z"
   },
   {
    "duration": 3,
    "start_time": "2022-03-20T11:54:49.104Z"
   },
   {
    "duration": 44520,
    "start_time": "2022-03-20T11:54:51.606Z"
   },
   {
    "duration": 3,
    "start_time": "2022-03-20T11:55:41.194Z"
   },
   {
    "duration": 45359,
    "start_time": "2022-03-20T11:55:42.374Z"
   },
   {
    "duration": 3,
    "start_time": "2022-03-20T11:56:27.735Z"
   },
   {
    "duration": 4,
    "start_time": "2022-03-20T11:56:32.963Z"
   },
   {
    "duration": 390613,
    "start_time": "2022-03-20T11:56:33.644Z"
   },
   {
    "duration": 4,
    "start_time": "2022-03-20T12:03:04.259Z"
   },
   {
    "duration": 464012,
    "start_time": "2022-03-20T12:03:04.264Z"
   },
   {
    "duration": 3,
    "start_time": "2022-03-20T12:10:48.278Z"
   },
   {
    "duration": 630,
    "start_time": "2022-03-20T12:11:33.504Z"
   },
   {
    "duration": 8,
    "start_time": "2022-03-20T12:11:39.342Z"
   },
   {
    "duration": 1396,
    "start_time": "2022-03-20T12:14:32.690Z"
   },
   {
    "duration": 771,
    "start_time": "2022-03-20T12:14:34.088Z"
   },
   {
    "duration": 4,
    "start_time": "2022-03-20T12:14:34.860Z"
   },
   {
    "duration": 193,
    "start_time": "2022-03-20T12:14:34.866Z"
   },
   {
    "duration": 103,
    "start_time": "2022-03-20T12:14:35.061Z"
   },
   {
    "duration": 178,
    "start_time": "2022-03-20T12:14:35.167Z"
   },
   {
    "duration": 6,
    "start_time": "2022-03-20T12:14:35.347Z"
   },
   {
    "duration": 5,
    "start_time": "2022-03-20T12:14:35.354Z"
   },
   {
    "duration": 5,
    "start_time": "2022-03-20T12:14:35.360Z"
   },
   {
    "duration": 6,
    "start_time": "2022-03-20T12:14:35.368Z"
   },
   {
    "duration": 3,
    "start_time": "2022-03-20T12:14:35.376Z"
   },
   {
    "duration": 7,
    "start_time": "2022-03-20T12:14:35.381Z"
   },
   {
    "duration": 57,
    "start_time": "2022-03-20T12:14:35.389Z"
   },
   {
    "duration": 5,
    "start_time": "2022-03-20T12:14:35.448Z"
   },
   {
    "duration": 8,
    "start_time": "2022-03-20T12:14:35.455Z"
   },
   {
    "duration": 31,
    "start_time": "2022-03-20T12:14:35.464Z"
   },
   {
    "duration": 4,
    "start_time": "2022-03-20T12:14:35.497Z"
   },
   {
    "duration": 35,
    "start_time": "2022-03-20T12:14:35.503Z"
   },
   {
    "duration": 4,
    "start_time": "2022-03-20T12:14:35.539Z"
   },
   {
    "duration": 1105,
    "start_time": "2022-03-20T12:14:35.545Z"
   },
   {
    "duration": 1079,
    "start_time": "2022-03-20T12:14:36.651Z"
   },
   {
    "duration": 1113,
    "start_time": "2022-03-20T12:14:37.733Z"
   },
   {
    "duration": 21,
    "start_time": "2022-03-20T12:14:38.847Z"
   },
   {
    "duration": 220,
    "start_time": "2022-03-20T12:14:38.869Z"
   },
   {
    "duration": 19,
    "start_time": "2022-03-20T12:14:39.090Z"
   },
   {
    "duration": 311,
    "start_time": "2022-03-20T12:14:39.111Z"
   },
   {
    "duration": 24,
    "start_time": "2022-03-20T12:14:39.423Z"
   },
   {
    "duration": 22,
    "start_time": "2022-03-20T12:14:39.451Z"
   },
   {
    "duration": 1077,
    "start_time": "2022-03-20T12:14:39.474Z"
   },
   {
    "duration": 23,
    "start_time": "2022-03-20T12:14:40.553Z"
   },
   {
    "duration": 11,
    "start_time": "2022-03-20T12:14:40.578Z"
   },
   {
    "duration": 7,
    "start_time": "2022-03-20T12:14:40.591Z"
   },
   {
    "duration": 12,
    "start_time": "2022-03-20T12:14:40.600Z"
   },
   {
    "duration": 19,
    "start_time": "2022-03-20T12:14:40.614Z"
   },
   {
    "duration": 14,
    "start_time": "2022-03-20T12:14:40.635Z"
   },
   {
    "duration": 29,
    "start_time": "2022-03-20T12:14:40.651Z"
   },
   {
    "duration": 24,
    "start_time": "2022-03-20T12:14:40.683Z"
   },
   {
    "duration": 2,
    "start_time": "2022-03-20T12:14:40.709Z"
   },
   {
    "duration": 3,
    "start_time": "2022-03-20T12:14:40.732Z"
   },
   {
    "duration": 1201,
    "start_time": "2022-03-20T12:14:40.736Z"
   },
   {
    "duration": 992,
    "start_time": "2022-03-20T12:14:41.942Z"
   },
   {
    "duration": 5,
    "start_time": "2022-03-20T12:14:42.936Z"
   },
   {
    "duration": 45280,
    "start_time": "2022-03-20T12:14:42.943Z"
   },
   {
    "duration": 8,
    "start_time": "2022-03-20T12:15:28.225Z"
   },
   {
    "duration": 45635,
    "start_time": "2022-03-20T12:15:28.235Z"
   },
   {
    "duration": 3,
    "start_time": "2022-03-20T12:16:13.872Z"
   },
   {
    "duration": 9,
    "start_time": "2022-03-20T12:16:13.877Z"
   },
   {
    "duration": 400470,
    "start_time": "2022-03-20T12:16:13.887Z"
   },
   {
    "duration": 3,
    "start_time": "2022-03-20T12:22:54.359Z"
   },
   {
    "duration": 420219,
    "start_time": "2022-03-20T12:22:54.364Z"
   },
   {
    "duration": 4,
    "start_time": "2022-03-20T12:29:54.585Z"
   },
   {
    "duration": 343,
    "start_time": "2022-03-20T12:29:54.591Z"
   },
   {
    "duration": 98,
    "start_time": "2022-03-20T12:29:54.936Z"
   }
  ],
  "kernelspec": {
   "display_name": "Python 3.9.0 64-bit",
   "language": "python",
   "name": "python3"
  },
  "language_info": {
   "codemirror_mode": {
    "name": "ipython",
    "version": 3
   },
   "file_extension": ".py",
   "mimetype": "text/x-python",
   "name": "python",
   "nbconvert_exporter": "python",
   "pygments_lexer": "ipython3",
   "version": "3.9.0"
  },
  "toc": {
   "base_numbering": 1,
   "nav_menu": {},
   "number_sections": true,
   "sideBar": true,
   "skip_h1_title": false,
   "title_cell": "Содержание",
   "title_sidebar": "Contents",
   "toc_cell": true,
   "toc_position": {
    "height": "calc(100% - 180px)",
    "left": "10px",
    "top": "150px",
    "width": "277.59375px"
   },
   "toc_section_display": true,
   "toc_window_display": true
  },
  "vscode": {
   "interpreter": {
    "hash": "aee8b7b246df8f9039afb4144a1f6fd8d2ca17a180786b69acc140d282b71a49"
   }
  }
 },
 "nbformat": 4,
 "nbformat_minor": 2
}
