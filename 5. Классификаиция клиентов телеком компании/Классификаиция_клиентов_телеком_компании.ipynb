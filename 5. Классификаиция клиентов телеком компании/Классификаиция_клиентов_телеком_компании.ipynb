{
 "cells": [
  {
   "cell_type": "markdown",
   "metadata": {
    "toc": true
   },
   "source": [
    "<h1>Содержание<span class=\"tocSkip\"></span></h1>\n",
    "<div class=\"toc\"><ul class=\"toc-item\"><li><span><a href=\"#Описание-проекта\" data-toc-modified-id=\"Описание-проекта-1\"><span class=\"toc-item-num\">1&nbsp;&nbsp;</span>Описание проекта</a></span></li><li><span><a href=\"#Описание-данных\" data-toc-modified-id=\"Описание-данных-2\"><span class=\"toc-item-num\">2&nbsp;&nbsp;</span>Описание данных</a></span></li><li><span><a href=\"#Откроем-и-изучим-файл\" data-toc-modified-id=\"Откроем-и-изучим-файл-3\"><span class=\"toc-item-num\">3&nbsp;&nbsp;</span>Откроем и изучим файл</a></span><ul class=\"toc-item\"><li><span><a href=\"#Вывод\" data-toc-modified-id=\"Вывод-3.1\"><span class=\"toc-item-num\">3.1&nbsp;&nbsp;</span>Вывод</a></span></li></ul></li><li><span><a href=\"#Разобьем-данные-на-выборки\" data-toc-modified-id=\"Разобьем-данные-на-выборки-4\"><span class=\"toc-item-num\">4&nbsp;&nbsp;</span>Разобьем данные на выборки</a></span><ul class=\"toc-item\"><li><span><a href=\"#Вывод\" data-toc-modified-id=\"Вывод-4.1\"><span class=\"toc-item-num\">4.1&nbsp;&nbsp;</span>Вывод</a></span></li></ul></li><li><span><a href=\"#Исследуйте-модели\" data-toc-modified-id=\"Исследуйте-модели-5\"><span class=\"toc-item-num\">5&nbsp;&nbsp;</span>Исследуйте модели</a></span><ul class=\"toc-item\"><li><span><a href=\"#Модель--Дерево-решений-(DecisionTreeClassifier)\" data-toc-modified-id=\"Модель--Дерево-решений-(DecisionTreeClassifier)-5.1\"><span class=\"toc-item-num\">5.1&nbsp;&nbsp;</span>Модель  Дерево решений (DecisionTreeClassifier)</a></span></li><li><span><a href=\"#Модель-Случайный-лес-(RandomForestClassifier)\" data-toc-modified-id=\"Модель-Случайный-лес-(RandomForestClassifier)-5.2\"><span class=\"toc-item-num\">5.2&nbsp;&nbsp;</span>Модель Случайный лес (RandomForestClassifier)</a></span></li><li><span><a href=\"#Модель-Логистическая-регрессия-(LogisticRegression)\" data-toc-modified-id=\"Модель-Логистическая-регрессия-(LogisticRegression)-5.3\"><span class=\"toc-item-num\">5.3&nbsp;&nbsp;</span>Модель Логистическая регрессия (LogisticRegression)</a></span></li><li><span><a href=\"#Вывод\" data-toc-modified-id=\"Вывод-5.4\"><span class=\"toc-item-num\">5.4&nbsp;&nbsp;</span>Вывод</a></span></li></ul></li><li><span><a href=\"#Проверим-модель-на-тестовой-выборке\" data-toc-modified-id=\"Проверим-модель-на-тестовой-выборке-6\"><span class=\"toc-item-num\">6&nbsp;&nbsp;</span>Проверим модель на тестовой выборке</a></span><ul class=\"toc-item\"><li><span><a href=\"#Вывод\" data-toc-modified-id=\"Вывод-6.1\"><span class=\"toc-item-num\">6.1&nbsp;&nbsp;</span>Вывод</a></span></li></ul></li><li><span><a href=\"#Проверьте-модели-на-адекватность\" data-toc-modified-id=\"Проверьте-модели-на-адекватность-7\"><span class=\"toc-item-num\">7&nbsp;&nbsp;</span>Проверьте модели на адекватность</a></span><ul class=\"toc-item\"><li><span><a href=\"#Вывод\" data-toc-modified-id=\"Вывод-7.1\"><span class=\"toc-item-num\">7.1&nbsp;&nbsp;</span>Вывод</a></span></li></ul></li><li><span><a href=\"#Общий-вывод\" data-toc-modified-id=\"Общий-вывод-8\"><span class=\"toc-item-num\">8&nbsp;&nbsp;</span>Общий вывод</a></span></li></ul></div>"
   ]
  },
  {
   "cell_type": "markdown",
   "metadata": {},
   "source": [
    "# Описание проекта"
   ]
  },
  {
   "cell_type": "markdown",
   "metadata": {},
   "source": [
    "В вашем распоряжении данные о поведении клиентов, которые уже перешли на эти тарифы (из проекта курса «Статистический анализ данных»). Нужно построить модель для задачи классификации, которая выберет подходящий тариф. Предобработка данных не понадобится — вы её уже сделали.\n",
    "\n",
    "Постройте модель с максимально большим значением *accuracy*. Чтобы сдать проект успешно, нужно довести долю правильных ответов по крайней мере до 0.75. Проверьте *accuracy* на тестовой выборке самостоятельно."
   ]
  },
  {
   "cell_type": "markdown",
   "metadata": {},
   "source": [
    "# Описание данных\n",
    "\n",
    "Каждый объект в наборе данных — это информация о поведении одного пользователя за месяц.  \n",
    "Известно:  \n",
    "* сalls — количество звонков,  \n",
    "* minutes — суммарная длительность звонков в минутах,  \n",
    "* messages — количество sms-сообщений,  \n",
    "* mb_used — израсходованный интернет-трафик в Мб,  \n",
    "* is_ultra — каким тарифом пользовался в течение месяца («Ультра» — 1, «Смарт» — 0)."
   ]
  },
  {
   "cell_type": "markdown",
   "metadata": {},
   "source": [
    "# Откроем и изучим файл"
   ]
  },
  {
   "cell_type": "markdown",
   "metadata": {},
   "source": [
    "Импортируем библиотеки"
   ]
  },
  {
   "cell_type": "code",
   "execution_count": 1,
   "metadata": {},
   "outputs": [],
   "source": [
    "import pandas as pd\n",
    "\n",
    "from sklearn.model_selection import train_test_split\n",
    "from sklearn.tree import DecisionTreeClassifier\n",
    "from sklearn.ensemble import RandomForestClassifier\n",
    "from sklearn.linear_model import LogisticRegression\n",
    "from sklearn.metrics import accuracy_score\n",
    "from sklearn.dummy import DummyClassifier"
   ]
  },
  {
   "cell_type": "markdown",
   "metadata": {},
   "source": [
    "Загрузим данные и посмотри на 10 строк из них"
   ]
  },
  {
   "cell_type": "code",
   "execution_count": 2,
   "metadata": {},
   "outputs": [
    {
     "data": {
      "text/html": [
       "<div>\n",
       "<style scoped>\n",
       "    .dataframe tbody tr th:only-of-type {\n",
       "        vertical-align: middle;\n",
       "    }\n",
       "\n",
       "    .dataframe tbody tr th {\n",
       "        vertical-align: top;\n",
       "    }\n",
       "\n",
       "    .dataframe thead th {\n",
       "        text-align: right;\n",
       "    }\n",
       "</style>\n",
       "<table border=\"1\" class=\"dataframe\">\n",
       "  <thead>\n",
       "    <tr style=\"text-align: right;\">\n",
       "      <th></th>\n",
       "      <th>calls</th>\n",
       "      <th>minutes</th>\n",
       "      <th>messages</th>\n",
       "      <th>mb_used</th>\n",
       "      <th>is_ultra</th>\n",
       "    </tr>\n",
       "  </thead>\n",
       "  <tbody>\n",
       "    <tr>\n",
       "      <th>265</th>\n",
       "      <td>60.0</td>\n",
       "      <td>442.02</td>\n",
       "      <td>16.0</td>\n",
       "      <td>18306.45</td>\n",
       "      <td>1</td>\n",
       "    </tr>\n",
       "    <tr>\n",
       "      <th>1775</th>\n",
       "      <td>115.0</td>\n",
       "      <td>890.50</td>\n",
       "      <td>20.0</td>\n",
       "      <td>8643.85</td>\n",
       "      <td>1</td>\n",
       "    </tr>\n",
       "    <tr>\n",
       "      <th>1593</th>\n",
       "      <td>23.0</td>\n",
       "      <td>128.42</td>\n",
       "      <td>27.0</td>\n",
       "      <td>16320.86</td>\n",
       "      <td>0</td>\n",
       "    </tr>\n",
       "    <tr>\n",
       "      <th>656</th>\n",
       "      <td>45.0</td>\n",
       "      <td>333.64</td>\n",
       "      <td>39.0</td>\n",
       "      <td>16542.45</td>\n",
       "      <td>0</td>\n",
       "    </tr>\n",
       "    <tr>\n",
       "      <th>959</th>\n",
       "      <td>48.0</td>\n",
       "      <td>341.80</td>\n",
       "      <td>53.0</td>\n",
       "      <td>5910.35</td>\n",
       "      <td>1</td>\n",
       "    </tr>\n",
       "    <tr>\n",
       "      <th>1316</th>\n",
       "      <td>88.0</td>\n",
       "      <td>564.56</td>\n",
       "      <td>0.0</td>\n",
       "      <td>13344.02</td>\n",
       "      <td>0</td>\n",
       "    </tr>\n",
       "    <tr>\n",
       "      <th>1786</th>\n",
       "      <td>89.0</td>\n",
       "      <td>594.81</td>\n",
       "      <td>58.0</td>\n",
       "      <td>25825.08</td>\n",
       "      <td>0</td>\n",
       "    </tr>\n",
       "    <tr>\n",
       "      <th>2406</th>\n",
       "      <td>53.0</td>\n",
       "      <td>359.13</td>\n",
       "      <td>0.0</td>\n",
       "      <td>13758.39</td>\n",
       "      <td>0</td>\n",
       "    </tr>\n",
       "    <tr>\n",
       "      <th>526</th>\n",
       "      <td>26.0</td>\n",
       "      <td>194.24</td>\n",
       "      <td>31.0</td>\n",
       "      <td>11663.69</td>\n",
       "      <td>0</td>\n",
       "    </tr>\n",
       "    <tr>\n",
       "      <th>381</th>\n",
       "      <td>82.0</td>\n",
       "      <td>521.66</td>\n",
       "      <td>30.0</td>\n",
       "      <td>13396.91</td>\n",
       "      <td>1</td>\n",
       "    </tr>\n",
       "  </tbody>\n",
       "</table>\n",
       "</div>"
      ],
      "text/plain": [
       "      calls  minutes  messages   mb_used  is_ultra\n",
       "265    60.0   442.02      16.0  18306.45         1\n",
       "1775  115.0   890.50      20.0   8643.85         1\n",
       "1593   23.0   128.42      27.0  16320.86         0\n",
       "656    45.0   333.64      39.0  16542.45         0\n",
       "959    48.0   341.80      53.0   5910.35         1\n",
       "1316   88.0   564.56       0.0  13344.02         0\n",
       "1786   89.0   594.81      58.0  25825.08         0\n",
       "2406   53.0   359.13       0.0  13758.39         0\n",
       "526    26.0   194.24      31.0  11663.69         0\n",
       "381    82.0   521.66      30.0  13396.91         1"
      ]
     },
     "execution_count": 2,
     "metadata": {},
     "output_type": "execute_result"
    }
   ],
   "source": [
    "df = pd.read_csv('users_behavior.csv')\n",
    "df.sample(10)"
   ]
  },
  {
   "cell_type": "markdown",
   "metadata": {},
   "source": [
    "Выведем информацию о таблице"
   ]
  },
  {
   "cell_type": "code",
   "execution_count": 3,
   "metadata": {},
   "outputs": [
    {
     "name": "stdout",
     "output_type": "stream",
     "text": [
      "<class 'pandas.core.frame.DataFrame'>\n",
      "RangeIndex: 3214 entries, 0 to 3213\n",
      "Data columns (total 5 columns):\n",
      " #   Column    Non-Null Count  Dtype  \n",
      "---  ------    --------------  -----  \n",
      " 0   calls     3214 non-null   float64\n",
      " 1   minutes   3214 non-null   float64\n",
      " 2   messages  3214 non-null   float64\n",
      " 3   mb_used   3214 non-null   float64\n",
      " 4   is_ultra  3214 non-null   int64  \n",
      "dtypes: float64(4), int64(1)\n",
      "memory usage: 125.7 KB\n"
     ]
    }
   ],
   "source": [
    "df.info()"
   ]
  },
  {
   "cell_type": "markdown",
   "metadata": {},
   "source": [
    "Выведем статистическую информацию о таблице"
   ]
  },
  {
   "cell_type": "code",
   "execution_count": 4,
   "metadata": {},
   "outputs": [
    {
     "data": {
      "text/html": [
       "<div>\n",
       "<style scoped>\n",
       "    .dataframe tbody tr th:only-of-type {\n",
       "        vertical-align: middle;\n",
       "    }\n",
       "\n",
       "    .dataframe tbody tr th {\n",
       "        vertical-align: top;\n",
       "    }\n",
       "\n",
       "    .dataframe thead th {\n",
       "        text-align: right;\n",
       "    }\n",
       "</style>\n",
       "<table border=\"1\" class=\"dataframe\">\n",
       "  <thead>\n",
       "    <tr style=\"text-align: right;\">\n",
       "      <th></th>\n",
       "      <th>count</th>\n",
       "      <th>mean</th>\n",
       "      <th>std</th>\n",
       "      <th>min</th>\n",
       "      <th>25%</th>\n",
       "      <th>50%</th>\n",
       "      <th>75%</th>\n",
       "      <th>max</th>\n",
       "    </tr>\n",
       "  </thead>\n",
       "  <tbody>\n",
       "    <tr>\n",
       "      <th>calls</th>\n",
       "      <td>3214.0</td>\n",
       "      <td>63.038892</td>\n",
       "      <td>33.236368</td>\n",
       "      <td>0.0</td>\n",
       "      <td>40.0000</td>\n",
       "      <td>62.000</td>\n",
       "      <td>82.0000</td>\n",
       "      <td>244.00</td>\n",
       "    </tr>\n",
       "    <tr>\n",
       "      <th>minutes</th>\n",
       "      <td>3214.0</td>\n",
       "      <td>438.208787</td>\n",
       "      <td>234.569872</td>\n",
       "      <td>0.0</td>\n",
       "      <td>274.5750</td>\n",
       "      <td>430.600</td>\n",
       "      <td>571.9275</td>\n",
       "      <td>1632.06</td>\n",
       "    </tr>\n",
       "    <tr>\n",
       "      <th>messages</th>\n",
       "      <td>3214.0</td>\n",
       "      <td>38.281269</td>\n",
       "      <td>36.148326</td>\n",
       "      <td>0.0</td>\n",
       "      <td>9.0000</td>\n",
       "      <td>30.000</td>\n",
       "      <td>57.0000</td>\n",
       "      <td>224.00</td>\n",
       "    </tr>\n",
       "    <tr>\n",
       "      <th>mb_used</th>\n",
       "      <td>3214.0</td>\n",
       "      <td>17207.673836</td>\n",
       "      <td>7570.968246</td>\n",
       "      <td>0.0</td>\n",
       "      <td>12491.9025</td>\n",
       "      <td>16943.235</td>\n",
       "      <td>21424.7000</td>\n",
       "      <td>49745.73</td>\n",
       "    </tr>\n",
       "    <tr>\n",
       "      <th>is_ultra</th>\n",
       "      <td>3214.0</td>\n",
       "      <td>0.306472</td>\n",
       "      <td>0.461100</td>\n",
       "      <td>0.0</td>\n",
       "      <td>0.0000</td>\n",
       "      <td>0.000</td>\n",
       "      <td>1.0000</td>\n",
       "      <td>1.00</td>\n",
       "    </tr>\n",
       "  </tbody>\n",
       "</table>\n",
       "</div>"
      ],
      "text/plain": [
       "           count          mean          std  min         25%        50%  \\\n",
       "calls     3214.0     63.038892    33.236368  0.0     40.0000     62.000   \n",
       "minutes   3214.0    438.208787   234.569872  0.0    274.5750    430.600   \n",
       "messages  3214.0     38.281269    36.148326  0.0      9.0000     30.000   \n",
       "mb_used   3214.0  17207.673836  7570.968246  0.0  12491.9025  16943.235   \n",
       "is_ultra  3214.0      0.306472     0.461100  0.0      0.0000      0.000   \n",
       "\n",
       "                 75%       max  \n",
       "calls        82.0000    244.00  \n",
       "minutes     571.9275   1632.06  \n",
       "messages     57.0000    224.00  \n",
       "mb_used   21424.7000  49745.73  \n",
       "is_ultra      1.0000      1.00  "
      ]
     },
     "execution_count": 4,
     "metadata": {},
     "output_type": "execute_result"
    }
   ],
   "source": [
    "df.describe().T"
   ]
  },
  {
   "cell_type": "markdown",
   "metadata": {},
   "source": [
    "Посмотрим на количество и процент пропущенны значений"
   ]
  },
  {
   "cell_type": "code",
   "execution_count": 5,
   "metadata": {},
   "outputs": [
    {
     "data": {
      "text/html": [
       "<div>\n",
       "<style scoped>\n",
       "    .dataframe tbody tr th:only-of-type {\n",
       "        vertical-align: middle;\n",
       "    }\n",
       "\n",
       "    .dataframe tbody tr th {\n",
       "        vertical-align: top;\n",
       "    }\n",
       "\n",
       "    .dataframe thead th {\n",
       "        text-align: right;\n",
       "    }\n",
       "</style>\n",
       "<table border=\"1\" class=\"dataframe\">\n",
       "  <thead>\n",
       "    <tr style=\"text-align: right;\">\n",
       "      <th></th>\n",
       "      <th>count_missing</th>\n",
       "      <th>percent_missing</th>\n",
       "    </tr>\n",
       "  </thead>\n",
       "  <tbody>\n",
       "    <tr>\n",
       "      <th>calls</th>\n",
       "      <td>0</td>\n",
       "      <td>0.0</td>\n",
       "    </tr>\n",
       "    <tr>\n",
       "      <th>minutes</th>\n",
       "      <td>0</td>\n",
       "      <td>0.0</td>\n",
       "    </tr>\n",
       "    <tr>\n",
       "      <th>messages</th>\n",
       "      <td>0</td>\n",
       "      <td>0.0</td>\n",
       "    </tr>\n",
       "    <tr>\n",
       "      <th>mb_used</th>\n",
       "      <td>0</td>\n",
       "      <td>0.0</td>\n",
       "    </tr>\n",
       "    <tr>\n",
       "      <th>is_ultra</th>\n",
       "      <td>0</td>\n",
       "      <td>0.0</td>\n",
       "    </tr>\n",
       "  </tbody>\n",
       "</table>\n",
       "</div>"
      ],
      "text/plain": [
       "          count_missing  percent_missing\n",
       "calls                 0              0.0\n",
       "minutes               0              0.0\n",
       "messages              0              0.0\n",
       "mb_used               0              0.0\n",
       "is_ultra              0              0.0"
      ]
     },
     "execution_count": 5,
     "metadata": {},
     "output_type": "execute_result"
    }
   ],
   "source": [
    "pd.DataFrame({\n",
    "    'count_missing': df.isna().sum(),\n",
    "    'percent_missing': df.isna().mean() * 100\n",
    "}).sort_values(by='percent_missing', ascending=False)"
   ]
  },
  {
   "cell_type": "markdown",
   "metadata": {},
   "source": [
    "Посмотрим на количество дубликатов"
   ]
  },
  {
   "cell_type": "code",
   "execution_count": 6,
   "metadata": {},
   "outputs": [
    {
     "name": "stdout",
     "output_type": "stream",
     "text": [
      "Количество дубликатов 0 шт\n"
     ]
    }
   ],
   "source": [
    "print('Количество дубликатов {} шт'.format(df.duplicated().sum()))"
   ]
  },
  {
   "cell_type": "markdown",
   "metadata": {},
   "source": [
    "Посмотрим на количество пользователей пользующихся тарифом **ultra**"
   ]
  },
  {
   "cell_type": "code",
   "execution_count": 7,
   "metadata": {},
   "outputs": [
    {
     "data": {
      "text/plain": [
       "0    2229\n",
       "1     985\n",
       "Name: is_ultra, dtype: int64"
      ]
     },
     "execution_count": 7,
     "metadata": {},
     "output_type": "execute_result"
    }
   ],
   "source": [
    "df['is_ultra'].value_counts()"
   ]
  },
  {
   "cell_type": "markdown",
   "metadata": {},
   "source": [
    "## Вывод"
   ]
  },
  {
   "cell_type": "markdown",
   "metadata": {},
   "source": [
    "После изучения данных о поведении пользователей за месяц, можно сделать вывод, что все столбцы приведены к нужному типу данных, в данных нет пропусков и дубликатов.  \n",
    "Пользователей с тарифом **smart** больше более чем в 2 раза чем пользователей с тарифом тарифом **ultra**. Из-за этого можем получить разное количество пользователей с тарифом **ultra** при делении данных на разные выборки, необходимо будет это проверить."
   ]
  },
  {
   "cell_type": "markdown",
   "metadata": {},
   "source": [
    "# Разобьем данные на выборки"
   ]
  },
  {
   "cell_type": "markdown",
   "metadata": {},
   "source": [
    "Так как столбец `is_ultra` является категоральным, то перед нами стоит задача **классификации.**   \n",
    "Разделим данные по признакам и целевой переменной. В данном случае целевой переменной будет столбец `is_ultra`, остальные столбцы будут признаками."
   ]
  },
  {
   "cell_type": "code",
   "execution_count": 8,
   "metadata": {},
   "outputs": [],
   "source": [
    "features = df.drop('is_ultra', axis=1)\n",
    "target = df['is_ultra']"
   ]
  },
  {
   "cell_type": "markdown",
   "metadata": {},
   "source": [
    "Теперь разобьем данные на обучающую, тестовую и валидационную выборки в соотношении 3:1:1."
   ]
  },
  {
   "cell_type": "code",
   "execution_count": 9,
   "metadata": {},
   "outputs": [],
   "source": [
    "features_train, features_test, target_train, target_test = train_test_split(\n",
    "    features, target, test_size=0.2, random_state=12345)\n",
    "\n",
    "features_train, features_valid, target_train, target_valid = train_test_split(\n",
    "    features_train, target_train, test_size=0.25, random_state=12345)"
   ]
  },
  {
   "cell_type": "code",
   "execution_count": 10,
   "metadata": {
    "scrolled": true
   },
   "outputs": [
    {
     "name": "stdout",
     "output_type": "stream",
     "text": [
      "Размер обучающей выборки равен 1928, это 60.0% от данных\n",
      "Размер тестовой выборки равен 643, это 20.0% от данных\n",
      "Размер валидационной выборки равен 643, это 20.0% от данных\n"
     ]
    }
   ],
   "source": [
    "print('Размер обучающей выборки равен {}, это {:.1%} от данных'.format(\n",
    "    len(features_train), len(features_train)/features.shape[0]))\n",
    "\n",
    "print('Размер тестовой выборки равен {}, это {:.1%} от данных'.format(\n",
    "    len(features_test), len(features_test)/features.shape[0]))\n",
    "\n",
    "print('Размер валидационной выборки равен {}, это {:.1%} от данных'.format(\n",
    "    len(features_valid), len(features_valid)/features.shape[0]))"
   ]
  },
  {
   "cell_type": "code",
   "execution_count": 11,
   "metadata": {
    "scrolled": true
   },
   "outputs": [
    {
     "name": "stdout",
     "output_type": "stream",
     "text": [
      "Количество пользователей с тарифом Ultra в обучающей выборке 589шт, это 30.5% от размера выборки\n",
      "Количество пользователей с тарифом Ultra в тестовой выборке 196шт, это 30.5% от размера выборки\n",
      "Количество пользователей с тарифом Ultra в валидационной выборке 200шт, это 31.1% от размера выборки\n"
     ]
    }
   ],
   "source": [
    "print(\n",
    "    'Количество пользователей с тарифом Ultra в обучающей выборке {}шт, это {:.1%} от размера выборки'\n",
    "    .format(target_train.sum(), target_train.mean()))\n",
    "print(\n",
    "    'Количество пользователей с тарифом Ultra в тестовой выборке {}шт, это {:.1%} от размера выборки'\n",
    "    .format(target_test.sum(), target_test.mean()))\n",
    "print(\n",
    "    'Количество пользователей с тарифом Ultra в валидационной выборке {}шт, это {:.1%} от размера выборки'\n",
    "    .format(target_valid.sum(), target_valid.mean()))"
   ]
  },
  {
   "cell_type": "markdown",
   "metadata": {},
   "source": [
    "## Вывод"
   ]
  },
  {
   "cell_type": "markdown",
   "metadata": {},
   "source": [
    "Мы разбили данные на обучающую, тестовую и валидационную выборки в соотношении 3:1:1.  \n",
    "Пользователей с тарифом Ultra в каждой выборке около 30%."
   ]
  },
  {
   "cell_type": "markdown",
   "metadata": {},
   "source": [
    "# Исследуйте модели"
   ]
  },
  {
   "cell_type": "markdown",
   "metadata": {},
   "source": [
    "Построим несколько моделей:\n",
    "* Дерево решений (DecisionTreeClassifier)  \n",
    "* Случайный лес (RandomForestClassifier)  \n",
    "* Логистическая регрессия (LogisticRegression)"
   ]
  },
  {
   "cell_type": "markdown",
   "metadata": {},
   "source": [
    "## Модель  Дерево решений (DecisionTreeClassifier)"
   ]
  },
  {
   "cell_type": "markdown",
   "metadata": {},
   "source": [
    "Создадим цикл с перебором гиперпараметра **max_depth** - максимальная глубина дерева, со значением от 1 до 50 и сохраним модель с лучшим качеством предсказания."
   ]
  },
  {
   "cell_type": "code",
   "execution_count": 12,
   "metadata": {},
   "outputs": [
    {
     "name": "stdout",
     "output_type": "stream",
     "text": [
      "Accuracy наилучшей модели дерева решений на валидационной выборке: 0.774\n",
      "Максимальная глубина: 7\n"
     ]
    }
   ],
   "source": [
    "best_tree = None\n",
    "best_tree_result = 0\n",
    "best_tree_depth = 0\n",
    "\n",
    "for depth in range(1, 51):\n",
    "    model = DecisionTreeClassifier(max_depth=depth, random_state=12345)\n",
    "    model.fit(features_train, target_train)\n",
    "    prediction = model.predict(features_valid)\n",
    "    result = accuracy_score(target_valid, prediction)\n",
    "    if result > best_tree_result:\n",
    "        best_tree = model\n",
    "        best_tree_result = result\n",
    "        best_tree_depth = depth\n",
    "        \n",
    "print('Accuracy наилучшей модели дерева решений на валидационной выборке:', round(best_tree_result,3))\n",
    "print('Максимальная глубина:', best_tree_depth)"
   ]
  },
  {
   "cell_type": "markdown",
   "metadata": {},
   "source": [
    "## Модель Случайный лес (RandomForestClassifier)"
   ]
  },
  {
   "cell_type": "markdown",
   "metadata": {},
   "source": [
    "Создадим двойной цикл с перебором гиперпараметров **n_estimators** - число деревьев в \"лесу\", со значением от 10 до 50, с шагом 10 и с перебором **max_depth** - максимальная глубина дерева, со значением от 1 до 50 и сохраним модель с лучшим качеством предсказания."
   ]
  },
  {
   "cell_type": "code",
   "execution_count": 14,
   "metadata": {},
   "outputs": [
    {
     "name": "stdout",
     "output_type": "stream",
     "text": [
      "Accuracy наилучшей модели случайного леса на валидационной выборке: 0.802\n",
      "Максимальная глубина: 15\n",
      "Количество деревьев: 20\n"
     ]
    }
   ],
   "source": [
    "best_forest = None\n",
    "best_forest_result = 0\n",
    "best_forest_depth = 0\n",
    "best_forest_estimators = 0\n",
    "best_forest_features = None\n",
    "\n",
    "for estimators in range(10,101,10):\n",
    "    for depth in range(1, 51):\n",
    "        for features in ['log2', 'sqrt']:\n",
    "            model = RandomForestClassifier(n_estimators=estimators, \n",
    "                                           max_depth=depth,\n",
    "                                           max_features = features,\n",
    "                                           random_state=12345)\n",
    "            model.fit(features_train, target_train)\n",
    "            prediction = model.predict(features_valid)\n",
    "            result = accuracy_score(target_valid, prediction)\n",
    "            if result > best_forest_result:\n",
    "                best_forest = model\n",
    "                best_forest_result = result\n",
    "                best_forest_depth = depth\n",
    "                best_forest_estimators = estimators\n",
    "                best_forest_features = features\n",
    "            \n",
    "print('Accuracy наилучшей модели случайного леса на валидационной выборке:',round(best_forest_result,3)) \n",
    "print('Максимальная глубина:', best_forest_depth)\n",
    "print('Количество деревьев:', best_forest_estimators)"
   ]
  },
  {
   "cell_type": "markdown",
   "metadata": {},
   "source": [
    "## Модель Логистическая регрессия (LogisticRegression)"
   ]
  },
  {
   "cell_type": "markdown",
   "metadata": {},
   "source": [
    "Создадим модель логистической регрессии, обучим ее и посмотрим на качество ее предсказаний на валидационной выборке"
   ]
  },
  {
   "cell_type": "code",
   "execution_count": 15,
   "metadata": {},
   "outputs": [
    {
     "name": "stdout",
     "output_type": "stream",
     "text": [
      "Accuracy модели логистической регрессии на валидационной выборке: 0.726\n"
     ]
    }
   ],
   "source": [
    "lr_model = LogisticRegression(random_state=12345)\n",
    "lr_model.fit(features_train, target_train)\n",
    "lr_prediction = lr_model.predict(features_valid)\n",
    "lr_result = accuracy_score(target_valid, lr_prediction)\n",
    "print(\"Accuracy модели логистической регрессии на валидационной выборке:\", round(lr_result,3))"
   ]
  },
  {
   "cell_type": "markdown",
   "metadata": {},
   "source": [
    "## Вывод"
   ]
  },
  {
   "cell_type": "markdown",
   "metadata": {},
   "source": [
    "Мы построили и обучили 3 модели:  \n",
    "    1) Модель  Дерево решений (DecisionTreeClassifier), показала лучший Accuracy на валидационной выборке равный 0.774 и максимальной глубиной равной 7.  \n",
    "    2) Модель Случайного леса (RandomForestClassifier), показала лучший Accuracy на валидационной выборке равный 0.802, максимальной глубиной равной 15 и количеством деревьев равным 20.  \n",
    "    3) Модель Логистической регрессии (LogisticRegression), показала лучший Accuracy на валидационной выборке равный 0.726.\n",
    "    \n",
    "Модель случайного леса показала лучший Accuracy среди всех моделей, будем далее использовать её.  \n",
    "Наихудший результат показала модель Логистической регрессии."
   ]
  },
  {
   "cell_type": "markdown",
   "metadata": {},
   "source": [
    "# Проверим модель на тестовой выборке"
   ]
  },
  {
   "cell_type": "markdown",
   "metadata": {},
   "source": [
    "Посмотрим на предсказания наилучшей моделей случайного леса на тестовой выборке"
   ]
  },
  {
   "cell_type": "code",
   "execution_count": 16,
   "metadata": {},
   "outputs": [
    {
     "name": "stdout",
     "output_type": "stream",
     "text": [
      "Accuracy наилучшей модели случайного леса на тестовой выборке: 0.785\n"
     ]
    }
   ],
   "source": [
    "predict_forest_on_test = best_forest.predict(features_test)\n",
    "forest_acc_on_test = accuracy_score(target_test, predict_forest_on_test)\n",
    "print('Accuracy наилучшей модели случайного леса на тестовой выборке:',\n",
    "      round(forest_acc_on_test, 3))"
   ]
  },
  {
   "cell_type": "markdown",
   "metadata": {},
   "source": [
    "## Вывод"
   ]
  },
  {
   "cell_type": "markdown",
   "metadata": {},
   "source": [
    "Наилучшая модель Случайного леса (RandomForestClassifier) на тестовой выборке получила Accuracy 0.785, почти равный полученному на валидационной. Можно сделать вывод, что нам удалось построить модель для задачи классификации, которая выберет подходящий тариф для пользователей."
   ]
  },
  {
   "cell_type": "markdown",
   "metadata": {},
   "source": [
    "# Проверьте модели на адекватность"
   ]
  },
  {
   "cell_type": "markdown",
   "metadata": {},
   "source": [
    "Проверим модель случайного леса на адекватность с помощью DummyClassifier с гиперпараметром **strategy='most_frequent'**: всегда предсказывает наиболее частую метку в обучающем наборе."
   ]
  },
  {
   "cell_type": "code",
   "execution_count": 17,
   "metadata": {},
   "outputs": [
    {
     "name": "stdout",
     "output_type": "stream",
     "text": [
      "Accuracy модели случайного леса равна 0.785, а DummyClassifier равна 0.695\n",
      "Модель случайного леса адекватна\n"
     ]
    }
   ],
   "source": [
    "dummy_clf = DummyClassifier(strategy='most_frequent')\n",
    "dummy_clf.fit(features_train, target_train)\n",
    "prediction_dummy = dummy_clf.predict(features_test)\n",
    "dummy_acc = accuracy_score(target_test, prediction_dummy)\n",
    "\n",
    "print('Accuracy модели случайного леса равна {}, а DummyClassifier равна {}'.\n",
    "        format(round(forest_acc_on_test,3), round(dummy_acc,3)))\n",
    "\n",
    "if dummy_acc < forest_acc_on_test:\n",
    "    print('Модель случайного леса адекватна')\n",
    "else:\n",
    "    print('Модель случайного леса не адекватна')"
   ]
  },
  {
   "cell_type": "markdown",
   "metadata": {},
   "source": [
    "## Вывод"
   ]
  },
  {
   "cell_type": "markdown",
   "metadata": {},
   "source": [
    "В результати проверки модели на адекватность мы получили Accuracy модели случайного леса равной 0.785, а DummyClassifier равной 0.695, что говорит нам о том, что модель случайного леса является адекватной."
   ]
  },
  {
   "cell_type": "markdown",
   "metadata": {},
   "source": [
    "# Общий вывод"
   ]
  },
  {
   "cell_type": "markdown",
   "metadata": {},
   "source": [
    "После изучения данных о поведении пользователей за месяц, можно сделать вывод, что все столбцы приведены к нужному типу данных, в данных нет пропусков и дубликатов.\n",
    "Пользователей с тарифом smart больше более чем в 2 раза чем пользователей с тарифом тарифом ultra.  \n",
    "Так как столбец `is_ultra` является категоральным, то перед нами стоит задача классификации.  \n",
    "Мы разделили данные по признакам и целевой переменной. К целевой переменной мы отнесли столбец `is_ultra`, остальные столбцы отнесли к признаками.  \n",
    "Далее мы разбили данные на обучающую, тестовую и валидационную выборки в соотношении 3:1:1. И получили пользователей с тарифом Ultra в каждой выборке около 30%.  \n",
    "После этого мы построили несколько моделей:\n",
    "* Дерево решений (DecisionTreeClassifier)  \n",
    "* Случайный лес (RandomForestClassifier)  \n",
    "* Логистическая регрессия (LogisticRegression)  \n",
    "\n",
    "Получили слудующие результаты:  \n",
    "    1) Модель  Дерево решений (DecisionTreeClassifier), показала лучший Accuracy на валидационной выборке равный 0.774 и максимальной глубиной равной 7.    \n",
    "    2) Модель Случайного леса (RandomForestClassifier), показала лучший Accuracy на валидационной выборке равный 0.802, максимальной глубиной равной 15 и количеством деревьев равным 20.    \n",
    "    3) Модель Логистической регрессии (LogisticRegression), показала лучший Accuracy на валидационной выборке равный 0.726.  \n",
    "    \n",
    "Модель случайного леса показала лучший Accuracy среди всех моделей, поэтому было принято решение далее использовать её. Наихудший результат показала модель Логистической регрессии.\n",
    "\n",
    "Далее мы проверили модель случайного леса на тестовой выборке. Наилучшая модель Случайного леса (RandomForestClassifier) на тестовой выборке получила Accuracy 0.785, почти равный полученному на валидационной. Можно сделать вывод, что нам удалось построить модель для задачи классификации, которая выберет подходящий тариф для пользователей.  \n",
    "\n",
    "Для того, что бы проверить модель случайного леса на адекватность мы использовали DummyClassifier с гиперпараметром **strategy='most_frequent'**: всегда предсказывает наиболее частую метку в обучающем наборе. В результати проверки модели на адекватность мы получили Accuracy модели случайного леса равной 0.785, а DummyClassifier равной 0.695, что говорит нам о том, что модель случайного леса является адекватной."
   ]
  },
  {
   "cell_type": "code",
   "execution_count": null,
   "metadata": {},
   "outputs": [],
   "source": []
  }
 ],
 "metadata": {
  "kernelspec": {
   "display_name": "Python 3.9.0 64-bit",
   "language": "python",
   "name": "python3"
  },
  "language_info": {
   "codemirror_mode": {
    "name": "ipython",
    "version": 3
   },
   "file_extension": ".py",
   "mimetype": "text/x-python",
   "name": "python",
   "nbconvert_exporter": "python",
   "pygments_lexer": "ipython3",
   "version": "3.9.0"
  },
  "toc": {
   "base_numbering": 1,
   "nav_menu": {
    "height": "229px",
    "width": "307px"
   },
   "number_sections": true,
   "sideBar": true,
   "skip_h1_title": false,
   "title_cell": "Содержание",
   "title_sidebar": "Contents",
   "toc_cell": true,
   "toc_position": {},
   "toc_section_display": true,
   "toc_window_display": true
  },
  "vscode": {
   "interpreter": {
    "hash": "aee8b7b246df8f9039afb4144a1f6fd8d2ca17a180786b69acc140d282b71a49"
   }
  }
 },
 "nbformat": 4,
 "nbformat_minor": 2
}
