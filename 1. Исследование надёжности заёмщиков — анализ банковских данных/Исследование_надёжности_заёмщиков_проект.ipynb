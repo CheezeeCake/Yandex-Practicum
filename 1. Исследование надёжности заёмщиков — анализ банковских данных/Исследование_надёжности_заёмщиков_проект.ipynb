{
 "cells": [
  {
   "cell_type": "markdown",
   "metadata": {
    "id": "zLlSpxbWpAE3"
   },
   "source": [
    "# Исследование надёжности заёмщиков\n",
    "\n",
    "Заказчик — кредитный отдел банка. Нужно разобраться, влияет ли семейное положение и количество детей клиента на факт погашения кредита в срок. Входные данные от банка — статистика о платёжеспособности клиентов.\n",
    "\n",
    "Результаты исследования будут учтены при построении модели **кредитного скоринга** — специальной системы, которая оценивает способность потенциального заёмщика вернуть кредит банку.\n",
    "\n",
    "Описание данных:\n",
    "\n",
    "* children — количество детей в семье\n",
    "* days_employed — общий трудовой стаж в днях\n",
    "* dob_years — возраст клиента в годах\n",
    "* education — уровень образования клиента\n",
    "* education_id — идентификатор уровня образования\n",
    "* family_status — семейное положение\n",
    "* family_status_id — идентификатор семейного положения\n",
    "* gender — пол клиента\n",
    "* income_type — тип занятости\n",
    "* debt — имел ли задолженность по возврату кредитов\n",
    "* total_income — ежемесячный доход\n",
    "* purpose — цель получения кредита"
   ]
  },
  {
   "cell_type": "markdown",
   "metadata": {
    "id": "yptw_-zZpAE5"
   },
   "source": [
    "## Шаг 1. Откройте файл с данными и изучите общую информацию"
   ]
  },
  {
   "cell_type": "code",
   "execution_count": 1,
   "metadata": {
    "id": "cXmq76fhpAE6"
   },
   "outputs": [],
   "source": [
    "import pandas as pd\n",
    "from pymystem3 import Mystem\n",
    "from collections import Counter"
   ]
  },
  {
   "cell_type": "markdown",
   "metadata": {
    "id": "TX2NEs0kgVUd"
   },
   "source": [
    "Сохраним датасет в переменную df и посмотрим первые 10 строк датасета"
   ]
  },
  {
   "cell_type": "code",
   "execution_count": 2,
   "metadata": {
    "id": "WkvWSaz0ztpv"
   },
   "outputs": [],
   "source": [
    "df = pd.read_csv('/datasets/data.csv')"
   ]
  },
  {
   "cell_type": "code",
   "execution_count": 3,
   "metadata": {
    "colab": {
     "base_uri": "https://localhost:8080/",
     "height": 549
    },
    "id": "0JL6jHvv1GEi",
    "outputId": "403bd228-b6b6-4c3e-8cf5-77fdbbd7f2bf"
   },
   "outputs": [
    {
     "data": {
      "text/html": [
       "<div>\n",
       "<style scoped>\n",
       "    .dataframe tbody tr th:only-of-type {\n",
       "        vertical-align: middle;\n",
       "    }\n",
       "\n",
       "    .dataframe tbody tr th {\n",
       "        vertical-align: top;\n",
       "    }\n",
       "\n",
       "    .dataframe thead th {\n",
       "        text-align: right;\n",
       "    }\n",
       "</style>\n",
       "<table border=\"1\" class=\"dataframe\">\n",
       "  <thead>\n",
       "    <tr style=\"text-align: right;\">\n",
       "      <th></th>\n",
       "      <th>children</th>\n",
       "      <th>days_employed</th>\n",
       "      <th>dob_years</th>\n",
       "      <th>education</th>\n",
       "      <th>education_id</th>\n",
       "      <th>family_status</th>\n",
       "      <th>family_status_id</th>\n",
       "      <th>gender</th>\n",
       "      <th>income_type</th>\n",
       "      <th>debt</th>\n",
       "      <th>total_income</th>\n",
       "      <th>purpose</th>\n",
       "    </tr>\n",
       "  </thead>\n",
       "  <tbody>\n",
       "    <tr>\n",
       "      <td>0</td>\n",
       "      <td>1</td>\n",
       "      <td>-8437.673028</td>\n",
       "      <td>42</td>\n",
       "      <td>высшее</td>\n",
       "      <td>0</td>\n",
       "      <td>женат / замужем</td>\n",
       "      <td>0</td>\n",
       "      <td>F</td>\n",
       "      <td>сотрудник</td>\n",
       "      <td>0</td>\n",
       "      <td>253875.639453</td>\n",
       "      <td>покупка жилья</td>\n",
       "    </tr>\n",
       "    <tr>\n",
       "      <td>1</td>\n",
       "      <td>1</td>\n",
       "      <td>-4024.803754</td>\n",
       "      <td>36</td>\n",
       "      <td>среднее</td>\n",
       "      <td>1</td>\n",
       "      <td>женат / замужем</td>\n",
       "      <td>0</td>\n",
       "      <td>F</td>\n",
       "      <td>сотрудник</td>\n",
       "      <td>0</td>\n",
       "      <td>112080.014102</td>\n",
       "      <td>приобретение автомобиля</td>\n",
       "    </tr>\n",
       "    <tr>\n",
       "      <td>2</td>\n",
       "      <td>0</td>\n",
       "      <td>-5623.422610</td>\n",
       "      <td>33</td>\n",
       "      <td>Среднее</td>\n",
       "      <td>1</td>\n",
       "      <td>женат / замужем</td>\n",
       "      <td>0</td>\n",
       "      <td>M</td>\n",
       "      <td>сотрудник</td>\n",
       "      <td>0</td>\n",
       "      <td>145885.952297</td>\n",
       "      <td>покупка жилья</td>\n",
       "    </tr>\n",
       "    <tr>\n",
       "      <td>3</td>\n",
       "      <td>3</td>\n",
       "      <td>-4124.747207</td>\n",
       "      <td>32</td>\n",
       "      <td>среднее</td>\n",
       "      <td>1</td>\n",
       "      <td>женат / замужем</td>\n",
       "      <td>0</td>\n",
       "      <td>M</td>\n",
       "      <td>сотрудник</td>\n",
       "      <td>0</td>\n",
       "      <td>267628.550329</td>\n",
       "      <td>дополнительное образование</td>\n",
       "    </tr>\n",
       "    <tr>\n",
       "      <td>4</td>\n",
       "      <td>0</td>\n",
       "      <td>340266.072047</td>\n",
       "      <td>53</td>\n",
       "      <td>среднее</td>\n",
       "      <td>1</td>\n",
       "      <td>гражданский брак</td>\n",
       "      <td>1</td>\n",
       "      <td>F</td>\n",
       "      <td>пенсионер</td>\n",
       "      <td>0</td>\n",
       "      <td>158616.077870</td>\n",
       "      <td>сыграть свадьбу</td>\n",
       "    </tr>\n",
       "    <tr>\n",
       "      <td>5</td>\n",
       "      <td>0</td>\n",
       "      <td>-926.185831</td>\n",
       "      <td>27</td>\n",
       "      <td>высшее</td>\n",
       "      <td>0</td>\n",
       "      <td>гражданский брак</td>\n",
       "      <td>1</td>\n",
       "      <td>M</td>\n",
       "      <td>компаньон</td>\n",
       "      <td>0</td>\n",
       "      <td>255763.565419</td>\n",
       "      <td>покупка жилья</td>\n",
       "    </tr>\n",
       "    <tr>\n",
       "      <td>6</td>\n",
       "      <td>0</td>\n",
       "      <td>-2879.202052</td>\n",
       "      <td>43</td>\n",
       "      <td>высшее</td>\n",
       "      <td>0</td>\n",
       "      <td>женат / замужем</td>\n",
       "      <td>0</td>\n",
       "      <td>F</td>\n",
       "      <td>компаньон</td>\n",
       "      <td>0</td>\n",
       "      <td>240525.971920</td>\n",
       "      <td>операции с жильем</td>\n",
       "    </tr>\n",
       "    <tr>\n",
       "      <td>7</td>\n",
       "      <td>0</td>\n",
       "      <td>-152.779569</td>\n",
       "      <td>50</td>\n",
       "      <td>СРЕДНЕЕ</td>\n",
       "      <td>1</td>\n",
       "      <td>женат / замужем</td>\n",
       "      <td>0</td>\n",
       "      <td>M</td>\n",
       "      <td>сотрудник</td>\n",
       "      <td>0</td>\n",
       "      <td>135823.934197</td>\n",
       "      <td>образование</td>\n",
       "    </tr>\n",
       "    <tr>\n",
       "      <td>8</td>\n",
       "      <td>2</td>\n",
       "      <td>-6929.865299</td>\n",
       "      <td>35</td>\n",
       "      <td>ВЫСШЕЕ</td>\n",
       "      <td>0</td>\n",
       "      <td>гражданский брак</td>\n",
       "      <td>1</td>\n",
       "      <td>F</td>\n",
       "      <td>сотрудник</td>\n",
       "      <td>0</td>\n",
       "      <td>95856.832424</td>\n",
       "      <td>на проведение свадьбы</td>\n",
       "    </tr>\n",
       "    <tr>\n",
       "      <td>9</td>\n",
       "      <td>0</td>\n",
       "      <td>-2188.756445</td>\n",
       "      <td>41</td>\n",
       "      <td>среднее</td>\n",
       "      <td>1</td>\n",
       "      <td>женат / замужем</td>\n",
       "      <td>0</td>\n",
       "      <td>M</td>\n",
       "      <td>сотрудник</td>\n",
       "      <td>0</td>\n",
       "      <td>144425.938277</td>\n",
       "      <td>покупка жилья для семьи</td>\n",
       "    </tr>\n",
       "  </tbody>\n",
       "</table>\n",
       "</div>"
      ],
      "text/plain": [
       "   children  days_employed  dob_years education  education_id  \\\n",
       "0         1   -8437.673028         42    высшее             0   \n",
       "1         1   -4024.803754         36   среднее             1   \n",
       "2         0   -5623.422610         33   Среднее             1   \n",
       "3         3   -4124.747207         32   среднее             1   \n",
       "4         0  340266.072047         53   среднее             1   \n",
       "5         0    -926.185831         27    высшее             0   \n",
       "6         0   -2879.202052         43    высшее             0   \n",
       "7         0    -152.779569         50   СРЕДНЕЕ             1   \n",
       "8         2   -6929.865299         35    ВЫСШЕЕ             0   \n",
       "9         0   -2188.756445         41   среднее             1   \n",
       "\n",
       "      family_status  family_status_id gender income_type  debt   total_income  \\\n",
       "0   женат / замужем                 0      F   сотрудник     0  253875.639453   \n",
       "1   женат / замужем                 0      F   сотрудник     0  112080.014102   \n",
       "2   женат / замужем                 0      M   сотрудник     0  145885.952297   \n",
       "3   женат / замужем                 0      M   сотрудник     0  267628.550329   \n",
       "4  гражданский брак                 1      F   пенсионер     0  158616.077870   \n",
       "5  гражданский брак                 1      M   компаньон     0  255763.565419   \n",
       "6   женат / замужем                 0      F   компаньон     0  240525.971920   \n",
       "7   женат / замужем                 0      M   сотрудник     0  135823.934197   \n",
       "8  гражданский брак                 1      F   сотрудник     0   95856.832424   \n",
       "9   женат / замужем                 0      M   сотрудник     0  144425.938277   \n",
       "\n",
       "                      purpose  \n",
       "0               покупка жилья  \n",
       "1     приобретение автомобиля  \n",
       "2               покупка жилья  \n",
       "3  дополнительное образование  \n",
       "4             сыграть свадьбу  \n",
       "5               покупка жилья  \n",
       "6           операции с жильем  \n",
       "7                 образование  \n",
       "8       на проведение свадьбы  \n",
       "9     покупка жилья для семьи  "
      ]
     },
     "execution_count": 3,
     "metadata": {},
     "output_type": "execute_result"
    }
   ],
   "source": [
    "df.head(10)"
   ]
  },
  {
   "cell_type": "markdown",
   "metadata": {
    "id": "1ZIqmzg4gg8x"
   },
   "source": [
    "Выведем информацию о датасете"
   ]
  },
  {
   "cell_type": "code",
   "execution_count": 4,
   "metadata": {
    "colab": {
     "base_uri": "https://localhost:8080/"
    },
    "id": "-ej6jmqy5z23",
    "outputId": "90c87c79-c669-45f5-efba-4da7641dde4c"
   },
   "outputs": [
    {
     "name": "stdout",
     "output_type": "stream",
     "text": [
      "<class 'pandas.core.frame.DataFrame'>\n",
      "RangeIndex: 21525 entries, 0 to 21524\n",
      "Data columns (total 12 columns):\n",
      "children            21525 non-null int64\n",
      "days_employed       19351 non-null float64\n",
      "dob_years           21525 non-null int64\n",
      "education           21525 non-null object\n",
      "education_id        21525 non-null int64\n",
      "family_status       21525 non-null object\n",
      "family_status_id    21525 non-null int64\n",
      "gender              21525 non-null object\n",
      "income_type         21525 non-null object\n",
      "debt                21525 non-null int64\n",
      "total_income        19351 non-null float64\n",
      "purpose             21525 non-null object\n",
      "dtypes: float64(2), int64(5), object(5)\n",
      "memory usage: 2.0+ MB\n"
     ]
    }
   ],
   "source": [
    "df.info()"
   ]
  },
  {
   "cell_type": "markdown",
   "metadata": {
    "id": "Y2ATBTpGgx0C"
   },
   "source": [
    "Посмотрим на количество пропусков"
   ]
  },
  {
   "cell_type": "code",
   "execution_count": 5,
   "metadata": {
    "colab": {
     "base_uri": "https://localhost:8080/"
    },
    "id": "roynZhuXehax",
    "outputId": "e90b093c-1104-4288-8290-dc4611148825"
   },
   "outputs": [
    {
     "data": {
      "text/plain": [
       "children               0\n",
       "days_employed       2174\n",
       "dob_years              0\n",
       "education              0\n",
       "education_id           0\n",
       "family_status          0\n",
       "family_status_id       0\n",
       "gender                 0\n",
       "income_type            0\n",
       "debt                   0\n",
       "total_income        2174\n",
       "purpose                0\n",
       "dtype: int64"
      ]
     },
     "execution_count": 5,
     "metadata": {},
     "output_type": "execute_result"
    }
   ],
   "source": [
    "df.isna().sum()"
   ]
  },
  {
   "cell_type": "markdown",
   "metadata": {},
   "source": [
    "Видно, что пропущенные значения находятся в столбцах `days_employed` и `total_income`, и их количество равно."
   ]
  },
  {
   "cell_type": "code",
   "execution_count": 6,
   "metadata": {
    "colab": {
     "base_uri": "https://localhost:8080/"
    },
    "id": "FcPI46ccHd0G",
    "outputId": "8ba36676-ce5c-420f-f8fd-feff7934afe6"
   },
   "outputs": [
    {
     "name": "stdout",
     "output_type": "stream",
     "text": [
      "Доля пропущенных значений - 10.1%\n"
     ]
    }
   ],
   "source": [
    "print('Доля пропущенных значений - {:.1%}'.format(df['days_employed'].isna().mean()))"
   ]
  },
  {
   "cell_type": "markdown",
   "metadata": {
    "id": "PF_ILggNg4tf"
   },
   "source": [
    "Посмотрим на сводную таблицу по всему датасету"
   ]
  },
  {
   "cell_type": "code",
   "execution_count": 7,
   "metadata": {
    "colab": {
     "base_uri": "https://localhost:8080/",
     "height": 297
    },
    "id": "KKsMeOjDqFhQ",
    "outputId": "7e22dd9e-532f-4858-cbb9-e200cc381fbe"
   },
   "outputs": [
    {
     "data": {
      "text/html": [
       "<div>\n",
       "<style scoped>\n",
       "    .dataframe tbody tr th:only-of-type {\n",
       "        vertical-align: middle;\n",
       "    }\n",
       "\n",
       "    .dataframe tbody tr th {\n",
       "        vertical-align: top;\n",
       "    }\n",
       "\n",
       "    .dataframe thead th {\n",
       "        text-align: right;\n",
       "    }\n",
       "</style>\n",
       "<table border=\"1\" class=\"dataframe\">\n",
       "  <thead>\n",
       "    <tr style=\"text-align: right;\">\n",
       "      <th></th>\n",
       "      <th>children</th>\n",
       "      <th>days_employed</th>\n",
       "      <th>dob_years</th>\n",
       "      <th>education_id</th>\n",
       "      <th>family_status_id</th>\n",
       "      <th>debt</th>\n",
       "      <th>total_income</th>\n",
       "    </tr>\n",
       "  </thead>\n",
       "  <tbody>\n",
       "    <tr>\n",
       "      <td>count</td>\n",
       "      <td>21525.000000</td>\n",
       "      <td>19351.000000</td>\n",
       "      <td>21525.000000</td>\n",
       "      <td>21525.000000</td>\n",
       "      <td>21525.000000</td>\n",
       "      <td>21525.000000</td>\n",
       "      <td>1.935100e+04</td>\n",
       "    </tr>\n",
       "    <tr>\n",
       "      <td>mean</td>\n",
       "      <td>0.538908</td>\n",
       "      <td>63046.497661</td>\n",
       "      <td>43.293380</td>\n",
       "      <td>0.817236</td>\n",
       "      <td>0.972544</td>\n",
       "      <td>0.080883</td>\n",
       "      <td>1.674223e+05</td>\n",
       "    </tr>\n",
       "    <tr>\n",
       "      <td>std</td>\n",
       "      <td>1.381587</td>\n",
       "      <td>140827.311974</td>\n",
       "      <td>12.574584</td>\n",
       "      <td>0.548138</td>\n",
       "      <td>1.420324</td>\n",
       "      <td>0.272661</td>\n",
       "      <td>1.029716e+05</td>\n",
       "    </tr>\n",
       "    <tr>\n",
       "      <td>min</td>\n",
       "      <td>-1.000000</td>\n",
       "      <td>-18388.949901</td>\n",
       "      <td>0.000000</td>\n",
       "      <td>0.000000</td>\n",
       "      <td>0.000000</td>\n",
       "      <td>0.000000</td>\n",
       "      <td>2.066726e+04</td>\n",
       "    </tr>\n",
       "    <tr>\n",
       "      <td>25%</td>\n",
       "      <td>0.000000</td>\n",
       "      <td>-2747.423625</td>\n",
       "      <td>33.000000</td>\n",
       "      <td>1.000000</td>\n",
       "      <td>0.000000</td>\n",
       "      <td>0.000000</td>\n",
       "      <td>1.030532e+05</td>\n",
       "    </tr>\n",
       "    <tr>\n",
       "      <td>50%</td>\n",
       "      <td>0.000000</td>\n",
       "      <td>-1203.369529</td>\n",
       "      <td>42.000000</td>\n",
       "      <td>1.000000</td>\n",
       "      <td>0.000000</td>\n",
       "      <td>0.000000</td>\n",
       "      <td>1.450179e+05</td>\n",
       "    </tr>\n",
       "    <tr>\n",
       "      <td>75%</td>\n",
       "      <td>1.000000</td>\n",
       "      <td>-291.095954</td>\n",
       "      <td>53.000000</td>\n",
       "      <td>1.000000</td>\n",
       "      <td>1.000000</td>\n",
       "      <td>0.000000</td>\n",
       "      <td>2.034351e+05</td>\n",
       "    </tr>\n",
       "    <tr>\n",
       "      <td>max</td>\n",
       "      <td>20.000000</td>\n",
       "      <td>401755.400475</td>\n",
       "      <td>75.000000</td>\n",
       "      <td>4.000000</td>\n",
       "      <td>4.000000</td>\n",
       "      <td>1.000000</td>\n",
       "      <td>2.265604e+06</td>\n",
       "    </tr>\n",
       "  </tbody>\n",
       "</table>\n",
       "</div>"
      ],
      "text/plain": [
       "           children  days_employed     dob_years  education_id  \\\n",
       "count  21525.000000   19351.000000  21525.000000  21525.000000   \n",
       "mean       0.538908   63046.497661     43.293380      0.817236   \n",
       "std        1.381587  140827.311974     12.574584      0.548138   \n",
       "min       -1.000000  -18388.949901      0.000000      0.000000   \n",
       "25%        0.000000   -2747.423625     33.000000      1.000000   \n",
       "50%        0.000000   -1203.369529     42.000000      1.000000   \n",
       "75%        1.000000    -291.095954     53.000000      1.000000   \n",
       "max       20.000000  401755.400475     75.000000      4.000000   \n",
       "\n",
       "       family_status_id          debt  total_income  \n",
       "count      21525.000000  21525.000000  1.935100e+04  \n",
       "mean           0.972544      0.080883  1.674223e+05  \n",
       "std            1.420324      0.272661  1.029716e+05  \n",
       "min            0.000000      0.000000  2.066726e+04  \n",
       "25%            0.000000      0.000000  1.030532e+05  \n",
       "50%            0.000000      0.000000  1.450179e+05  \n",
       "75%            1.000000      0.000000  2.034351e+05  \n",
       "max            4.000000      1.000000  2.265604e+06  "
      ]
     },
     "execution_count": 7,
     "metadata": {},
     "output_type": "execute_result"
    }
   ],
   "source": [
    "df.describe()"
   ]
  },
  {
   "cell_type": "markdown",
   "metadata": {
    "id": "8NIg3jnypAE6"
   },
   "source": [
    "**Вывод**\n",
    "\n",
    "В датасете всего 21525 строк.  \n",
    "1) Количество пропусков в столбцах `days_employed` и `total_income` совпадает и составляет около 10% от всего датасета. Это достаточно большое количество, необходимо разобраться как так получилось.  \n",
    "2) В столбце `children` есть отрицательные значения, так же присутствую большие значения. Необходимо проверить эти значения, большие значения могут быть выбросами или опечаткой.  \n",
    "3) Так же, на первый взгляд видно, что данные в столбце `days_employed` не соответствуют действительности, данные должны быть предоставлены в днях, а в стобце имеются как отрицательные, так и экстримально большие значения. Можно попробовать взять значения по модулю.  \n",
    "4) В столбце `dob_years` минимальное значение равно 0. Скорее всего кто-то не верно указал свой возраст.     \n",
    "5) В столбце `education` значения записана в разных регистрах, необходимо привести их к одному виду.  \n",
    "6) Названия некоторых столбцов не отражают нужную информацию, необходимо их переименовать."
   ]
  },
  {
   "cell_type": "markdown",
   "metadata": {
    "id": "MucEczQMpAE7"
   },
   "source": [
    "## Предобработка данных"
   ]
  },
  {
   "cell_type": "markdown",
   "metadata": {
    "id": "j-l8v7Bsh6mU"
   },
   "source": [
    "### Изменение названий столбцов"
   ]
  },
  {
   "cell_type": "markdown",
   "metadata": {
    "id": "RmiworXoiIrD"
   },
   "source": [
    "Для лучшей информативности изменим название колонок. Для начала выведем текущие названия столбцов"
   ]
  },
  {
   "cell_type": "code",
   "execution_count": 8,
   "metadata": {
    "colab": {
     "base_uri": "https://localhost:8080/"
    },
    "id": "pr2FBzdziFoc",
    "outputId": "fead8092-ea55-4d2b-ebce-d18092e4b47e"
   },
   "outputs": [
    {
     "data": {
      "text/plain": [
       "['children',\n",
       " 'days_employed',\n",
       " 'dob_years',\n",
       " 'education',\n",
       " 'education_id',\n",
       " 'family_status',\n",
       " 'family_status_id',\n",
       " 'gender',\n",
       " 'income_type',\n",
       " 'debt',\n",
       " 'total_income',\n",
       " 'purpose']"
      ]
     },
     "execution_count": 8,
     "metadata": {},
     "output_type": "execute_result"
    }
   ],
   "source": [
    "df.columns.to_list()"
   ]
  },
  {
   "cell_type": "markdown",
   "metadata": {
    "id": "ki46V6yTiPpe"
   },
   "source": [
    "Зададим новые названия колонок"
   ]
  },
  {
   "cell_type": "code",
   "execution_count": 9,
   "metadata": {
    "id": "hhtae8EXiS_b"
   },
   "outputs": [],
   "source": [
    "df.rename(columns={'children':'number_of_children', \n",
    "                   'dob_years':'client_age', \n",
    "                   'income_type':'employment_type', \n",
    "                   'debt':'credit_debt', \n",
    "                   'total_income':'monthly_income', \n",
    "                   'purpose':'credit_purpose'}, inplace=True)"
   ]
  },
  {
   "cell_type": "markdown",
   "metadata": {
    "id": "cV4PDDX9iXNN"
   },
   "source": [
    "Проверим что колонки переименовались"
   ]
  },
  {
   "cell_type": "code",
   "execution_count": 10,
   "metadata": {
    "colab": {
     "base_uri": "https://localhost:8080/"
    },
    "id": "VS4SoML8iarW",
    "outputId": "296181fb-16e8-4925-b10c-c3394253d486"
   },
   "outputs": [
    {
     "data": {
      "text/plain": [
       "['number_of_children',\n",
       " 'days_employed',\n",
       " 'client_age',\n",
       " 'education',\n",
       " 'education_id',\n",
       " 'family_status',\n",
       " 'family_status_id',\n",
       " 'gender',\n",
       " 'employment_type',\n",
       " 'credit_debt',\n",
       " 'monthly_income',\n",
       " 'credit_purpose']"
      ]
     },
     "execution_count": 10,
     "metadata": {},
     "output_type": "execute_result"
    }
   ],
   "source": [
    "df.columns.to_list()"
   ]
  },
  {
   "cell_type": "markdown",
   "metadata": {
    "id": "oHX_WoI1pAE8"
   },
   "source": [
    "### Обработка пропусков"
   ]
  },
  {
   "cell_type": "markdown",
   "metadata": {
    "id": "Ocq_lkHih2MJ"
   },
   "source": [
    "Проверим, находятся ли в одних строках пропущенные значения в столбцах `days_employed` и `total_income`."
   ]
  },
  {
   "cell_type": "code",
   "execution_count": 11,
   "metadata": {
    "colab": {
     "base_uri": "https://localhost:8080/"
    },
    "id": "Hcz4RZaMTlQJ",
    "outputId": "5e84942b-7438-4d44-ac3d-36defbb98747"
   },
   "outputs": [
    {
     "data": {
      "text/plain": [
       "True"
      ]
     },
     "execution_count": 11,
     "metadata": {},
     "output_type": "execute_result"
    }
   ],
   "source": [
    "all(df[df['days_employed'].isna()].index == df[df['monthly_income'].isna()].index)"
   ]
  },
  {
   "cell_type": "markdown",
   "metadata": {
    "id": "ddM4YYzZipnu"
   },
   "source": [
    "Пропущенные значения находятся в одних и тех же строках. Видимо тут есть зависимость, возможно были не указаны данные в одном из столбцов и это привило к ошибке в другом, либо это какая-то системаня ошибка. Попробуем разоабрться.  \n",
    "Займемся столбцом `days_employed`.\n",
    "Сделаем отрицательные значения положительными."
   ]
  },
  {
   "cell_type": "code",
   "execution_count": 12,
   "metadata": {
    "id": "bbZb-Um_1Nk8"
   },
   "outputs": [],
   "source": [
    "df['days_employed'] = df[df['days_employed'].notna()]['days_employed'].abs()"
   ]
  },
  {
   "cell_type": "markdown",
   "metadata": {
    "id": "lZ6dhaHDizkK"
   },
   "source": [
    "Чтобы проверить, что все получилось - выведем минимальное значение по столбцу `days_employed`. Оно должно быть положительным."
   ]
  },
  {
   "cell_type": "code",
   "execution_count": 13,
   "metadata": {
    "colab": {
     "base_uri": "https://localhost:8080/"
    },
    "id": "XeSWHxA6jhhq",
    "outputId": "d84e0317-af3f-47e9-fde6-86eeb4cb9975"
   },
   "outputs": [
    {
     "name": "stdout",
     "output_type": "stream",
     "text": [
      "Минимальное значение в столбце 'days_employed' - 24.14163324048118\n"
     ]
    }
   ],
   "source": [
    "print(f\"Минимальное значение в столбце 'days_employed' - {df['days_employed'].min()}\")"
   ]
  },
  {
   "cell_type": "markdown",
   "metadata": {
    "id": "fSseUO-xkmat"
   },
   "source": [
    "Посмотрим на средние значение трудового стажа относительно типа занятости клиента."
   ]
  },
  {
   "cell_type": "code",
   "execution_count": 14,
   "metadata": {
    "colab": {
     "base_uri": "https://localhost:8080/",
     "height": 348
    },
    "id": "JH6gTQ9QRYQH",
    "outputId": "53173007-3a27-486e-c78f-7b857ef12786"
   },
   "outputs": [
    {
     "data": {
      "text/html": [
       "<div>\n",
       "<style scoped>\n",
       "    .dataframe tbody tr th:only-of-type {\n",
       "        vertical-align: middle;\n",
       "    }\n",
       "\n",
       "    .dataframe tbody tr th {\n",
       "        vertical-align: top;\n",
       "    }\n",
       "\n",
       "    .dataframe thead th {\n",
       "        text-align: right;\n",
       "    }\n",
       "</style>\n",
       "<table border=\"1\" class=\"dataframe\">\n",
       "  <thead>\n",
       "    <tr style=\"text-align: right;\">\n",
       "      <th></th>\n",
       "      <th>days_employed</th>\n",
       "    </tr>\n",
       "    <tr>\n",
       "      <th>employment_type</th>\n",
       "      <th></th>\n",
       "    </tr>\n",
       "  </thead>\n",
       "  <tbody>\n",
       "    <tr>\n",
       "      <td>безработный</td>\n",
       "      <td>366413.652744</td>\n",
       "    </tr>\n",
       "    <tr>\n",
       "      <td>в декрете</td>\n",
       "      <td>3296.759962</td>\n",
       "    </tr>\n",
       "    <tr>\n",
       "      <td>госслужащий</td>\n",
       "      <td>3399.896902</td>\n",
       "    </tr>\n",
       "    <tr>\n",
       "      <td>компаньон</td>\n",
       "      <td>2111.524398</td>\n",
       "    </tr>\n",
       "    <tr>\n",
       "      <td>пенсионер</td>\n",
       "      <td>365003.491245</td>\n",
       "    </tr>\n",
       "    <tr>\n",
       "      <td>предприниматель</td>\n",
       "      <td>520.848083</td>\n",
       "    </tr>\n",
       "    <tr>\n",
       "      <td>сотрудник</td>\n",
       "      <td>2326.499216</td>\n",
       "    </tr>\n",
       "    <tr>\n",
       "      <td>студент</td>\n",
       "      <td>578.751554</td>\n",
       "    </tr>\n",
       "  </tbody>\n",
       "</table>\n",
       "</div>"
      ],
      "text/plain": [
       "                 days_employed\n",
       "employment_type               \n",
       "безработный      366413.652744\n",
       "в декрете          3296.759962\n",
       "госслужащий        3399.896902\n",
       "компаньон          2111.524398\n",
       "пенсионер        365003.491245\n",
       "предприниматель     520.848083\n",
       "сотрудник          2326.499216\n",
       "студент             578.751554"
      ]
     },
     "execution_count": 14,
     "metadata": {},
     "output_type": "execute_result"
    }
   ],
   "source": [
    "df.pivot_table(index='employment_type', values='days_employed', aggfunc='mean')"
   ]
  },
  {
   "cell_type": "markdown",
   "metadata": {
    "id": "V-jusZkBkrjc"
   },
   "source": [
    "Из таблицы видно, что трудовой стаж по пенсионерам и безработным показывает экстримально высокие значения. Здесь явно допущена какая-то ошибка, возможно ошибка в указании отчетного года. Попробуем разобраться с этим дальше."
   ]
  },
  {
   "cell_type": "markdown",
   "metadata": {
    "id": "iR0GlUz6mlxm"
   },
   "source": [
    "Посмотрим на сводную таблицу по типу занятости и возраста клиента. Выведем количество клиентов в группе, их минимальный, максимальный и средний возраст по группе."
   ]
  },
  {
   "cell_type": "code",
   "execution_count": 15,
   "metadata": {
    "colab": {
     "base_uri": "https://localhost:8080/",
     "height": 379
    },
    "id": "LOOcIIESq0ue",
    "outputId": "52038a3f-7754-43e8-f522-bd9ddd1968d8"
   },
   "outputs": [
    {
     "data": {
      "text/html": [
       "<div>\n",
       "<style scoped>\n",
       "    .dataframe tbody tr th:only-of-type {\n",
       "        vertical-align: middle;\n",
       "    }\n",
       "\n",
       "    .dataframe tbody tr th {\n",
       "        vertical-align: top;\n",
       "    }\n",
       "\n",
       "    .dataframe thead tr th {\n",
       "        text-align: left;\n",
       "    }\n",
       "\n",
       "    .dataframe thead tr:last-of-type th {\n",
       "        text-align: right;\n",
       "    }\n",
       "</style>\n",
       "<table border=\"1\" class=\"dataframe\">\n",
       "  <thead>\n",
       "    <tr>\n",
       "      <th></th>\n",
       "      <th>count</th>\n",
       "      <th>min</th>\n",
       "      <th>max</th>\n",
       "      <th>mean</th>\n",
       "    </tr>\n",
       "    <tr>\n",
       "      <th></th>\n",
       "      <th>client_age</th>\n",
       "      <th>client_age</th>\n",
       "      <th>client_age</th>\n",
       "      <th>client_age</th>\n",
       "    </tr>\n",
       "    <tr>\n",
       "      <th>employment_type</th>\n",
       "      <th></th>\n",
       "      <th></th>\n",
       "      <th></th>\n",
       "      <th></th>\n",
       "    </tr>\n",
       "  </thead>\n",
       "  <tbody>\n",
       "    <tr>\n",
       "      <td>безработный</td>\n",
       "      <td>2</td>\n",
       "      <td>31</td>\n",
       "      <td>45</td>\n",
       "      <td>38.000000</td>\n",
       "    </tr>\n",
       "    <tr>\n",
       "      <td>в декрете</td>\n",
       "      <td>1</td>\n",
       "      <td>39</td>\n",
       "      <td>39</td>\n",
       "      <td>39.000000</td>\n",
       "    </tr>\n",
       "    <tr>\n",
       "      <td>госслужащий</td>\n",
       "      <td>1459</td>\n",
       "      <td>0</td>\n",
       "      <td>75</td>\n",
       "      <td>40.636737</td>\n",
       "    </tr>\n",
       "    <tr>\n",
       "      <td>компаньон</td>\n",
       "      <td>5085</td>\n",
       "      <td>0</td>\n",
       "      <td>74</td>\n",
       "      <td>39.697542</td>\n",
       "    </tr>\n",
       "    <tr>\n",
       "      <td>пенсионер</td>\n",
       "      <td>3856</td>\n",
       "      <td>0</td>\n",
       "      <td>74</td>\n",
       "      <td>59.063019</td>\n",
       "    </tr>\n",
       "    <tr>\n",
       "      <td>предприниматель</td>\n",
       "      <td>2</td>\n",
       "      <td>27</td>\n",
       "      <td>58</td>\n",
       "      <td>42.500000</td>\n",
       "    </tr>\n",
       "    <tr>\n",
       "      <td>сотрудник</td>\n",
       "      <td>11119</td>\n",
       "      <td>0</td>\n",
       "      <td>74</td>\n",
       "      <td>39.821027</td>\n",
       "    </tr>\n",
       "    <tr>\n",
       "      <td>студент</td>\n",
       "      <td>1</td>\n",
       "      <td>22</td>\n",
       "      <td>22</td>\n",
       "      <td>22.000000</td>\n",
       "    </tr>\n",
       "  </tbody>\n",
       "</table>\n",
       "</div>"
      ],
      "text/plain": [
       "                     count        min        max       mean\n",
       "                client_age client_age client_age client_age\n",
       "employment_type                                            \n",
       "безработный              2         31         45  38.000000\n",
       "в декрете                1         39         39  39.000000\n",
       "госслужащий           1459          0         75  40.636737\n",
       "компаньон             5085          0         74  39.697542\n",
       "пенсионер             3856          0         74  59.063019\n",
       "предприниматель          2         27         58  42.500000\n",
       "сотрудник            11119          0         74  39.821027\n",
       "студент                  1         22         22  22.000000"
      ]
     },
     "execution_count": 15,
     "metadata": {},
     "output_type": "execute_result"
    }
   ],
   "source": [
    "df.pivot_table(index='employment_type', values='client_age', aggfunc=['count', 'min', 'max', 'mean'])"
   ]
  },
  {
   "cell_type": "markdown",
   "metadata": {
    "id": "vEiQIaOupILE"
   },
   "source": [
    "Сразу бросается в глаза, что минимальный возраст в группах \"госслужащий\", \"компаньон\", \"пенсионер\" и \"сотрудник\" равны нулю, это явная ошибка. Предлагаю посмотреть на их количество в каждой группе."
   ]
  },
  {
   "cell_type": "code",
   "execution_count": 16,
   "metadata": {
    "colab": {
     "base_uri": "https://localhost:8080/",
     "height": 224
    },
    "id": "IK1fTQhlvdi2",
    "outputId": "c12b7f50-befc-4ca1-f427-e1031d7d1a79"
   },
   "outputs": [
    {
     "data": {
      "text/html": [
       "<div>\n",
       "<style scoped>\n",
       "    .dataframe tbody tr th:only-of-type {\n",
       "        vertical-align: middle;\n",
       "    }\n",
       "\n",
       "    .dataframe tbody tr th {\n",
       "        vertical-align: top;\n",
       "    }\n",
       "\n",
       "    .dataframe thead th {\n",
       "        text-align: right;\n",
       "    }\n",
       "</style>\n",
       "<table border=\"1\" class=\"dataframe\">\n",
       "  <thead>\n",
       "    <tr style=\"text-align: right;\">\n",
       "      <th></th>\n",
       "      <th>client_age</th>\n",
       "    </tr>\n",
       "    <tr>\n",
       "      <th>employment_type</th>\n",
       "      <th></th>\n",
       "    </tr>\n",
       "  </thead>\n",
       "  <tbody>\n",
       "    <tr>\n",
       "      <td>госслужащий</td>\n",
       "      <td>6</td>\n",
       "    </tr>\n",
       "    <tr>\n",
       "      <td>компаньон</td>\n",
       "      <td>20</td>\n",
       "    </tr>\n",
       "    <tr>\n",
       "      <td>пенсионер</td>\n",
       "      <td>20</td>\n",
       "    </tr>\n",
       "    <tr>\n",
       "      <td>сотрудник</td>\n",
       "      <td>55</td>\n",
       "    </tr>\n",
       "  </tbody>\n",
       "</table>\n",
       "</div>"
      ],
      "text/plain": [
       "                 client_age\n",
       "employment_type            \n",
       "госслужащий               6\n",
       "компаньон                20\n",
       "пенсионер                20\n",
       "сотрудник                55"
      ]
     },
     "execution_count": 16,
     "metadata": {},
     "output_type": "execute_result"
    }
   ],
   "source": [
    "df[df['client_age']==0].pivot_table(index='employment_type', values='client_age', aggfunc='count')"
   ]
  },
  {
   "cell_type": "markdown",
   "metadata": {
    "id": "epWKBT7nvwdc"
   },
   "source": [
    "Клиентов в группах с возрастом равным нулю не очень много, предлагаю их заменить на среднее значение по каждой группе."
   ]
  },
  {
   "cell_type": "code",
   "execution_count": 17,
   "metadata": {
    "id": "zc46zwGZwG7h"
   },
   "outputs": [],
   "source": [
    "# сохраним название групп в список, далее пройдемся по каждой группе где возраст равен нулю и заменим в ней значение на среднее по группе\n",
    "client_type = df[df['client_age']==0]['employment_type'].unique()\n",
    "\n",
    "for type in client_type:\n",
    "    df.loc[(df['client_age']==0) & (df['employment_type']==type), 'client_age'] = int(df[(df['client_age']!=0) & (df['employment_type']==type)]['client_age'].mean())"
   ]
  },
  {
   "cell_type": "markdown",
   "metadata": {
    "id": "damNhr69_8nf"
   },
   "source": [
    "Выведем сводную таблицу по типу занятости и возраста клиента. Убедимся, что нулевых значений в возрасте больше нет."
   ]
  },
  {
   "cell_type": "code",
   "execution_count": 18,
   "metadata": {
    "colab": {
     "base_uri": "https://localhost:8080/",
     "height": 379
    },
    "id": "XSrWCUsJ9tdf",
    "outputId": "656f0245-62eb-4106-bf5e-93c8cb4cdcea"
   },
   "outputs": [
    {
     "data": {
      "text/html": [
       "<div>\n",
       "<style scoped>\n",
       "    .dataframe tbody tr th:only-of-type {\n",
       "        vertical-align: middle;\n",
       "    }\n",
       "\n",
       "    .dataframe tbody tr th {\n",
       "        vertical-align: top;\n",
       "    }\n",
       "\n",
       "    .dataframe thead tr th {\n",
       "        text-align: left;\n",
       "    }\n",
       "\n",
       "    .dataframe thead tr:last-of-type th {\n",
       "        text-align: right;\n",
       "    }\n",
       "</style>\n",
       "<table border=\"1\" class=\"dataframe\">\n",
       "  <thead>\n",
       "    <tr>\n",
       "      <th></th>\n",
       "      <th>count</th>\n",
       "      <th>min</th>\n",
       "      <th>max</th>\n",
       "      <th>mean</th>\n",
       "    </tr>\n",
       "    <tr>\n",
       "      <th></th>\n",
       "      <th>client_age</th>\n",
       "      <th>client_age</th>\n",
       "      <th>client_age</th>\n",
       "      <th>client_age</th>\n",
       "    </tr>\n",
       "    <tr>\n",
       "      <th>employment_type</th>\n",
       "      <th></th>\n",
       "      <th></th>\n",
       "      <th></th>\n",
       "      <th></th>\n",
       "    </tr>\n",
       "  </thead>\n",
       "  <tbody>\n",
       "    <tr>\n",
       "      <td>безработный</td>\n",
       "      <td>2</td>\n",
       "      <td>31</td>\n",
       "      <td>45</td>\n",
       "      <td>38.000000</td>\n",
       "    </tr>\n",
       "    <tr>\n",
       "      <td>в декрете</td>\n",
       "      <td>1</td>\n",
       "      <td>39</td>\n",
       "      <td>39</td>\n",
       "      <td>39.000000</td>\n",
       "    </tr>\n",
       "    <tr>\n",
       "      <td>госслужащий</td>\n",
       "      <td>1459</td>\n",
       "      <td>19</td>\n",
       "      <td>75</td>\n",
       "      <td>40.801234</td>\n",
       "    </tr>\n",
       "    <tr>\n",
       "      <td>компаньон</td>\n",
       "      <td>5085</td>\n",
       "      <td>19</td>\n",
       "      <td>74</td>\n",
       "      <td>39.850934</td>\n",
       "    </tr>\n",
       "    <tr>\n",
       "      <td>пенсионер</td>\n",
       "      <td>3856</td>\n",
       "      <td>22</td>\n",
       "      <td>74</td>\n",
       "      <td>59.369035</td>\n",
       "    </tr>\n",
       "    <tr>\n",
       "      <td>предприниматель</td>\n",
       "      <td>2</td>\n",
       "      <td>27</td>\n",
       "      <td>58</td>\n",
       "      <td>42.500000</td>\n",
       "    </tr>\n",
       "    <tr>\n",
       "      <td>сотрудник</td>\n",
       "      <td>11119</td>\n",
       "      <td>19</td>\n",
       "      <td>74</td>\n",
       "      <td>40.018887</td>\n",
       "    </tr>\n",
       "    <tr>\n",
       "      <td>студент</td>\n",
       "      <td>1</td>\n",
       "      <td>22</td>\n",
       "      <td>22</td>\n",
       "      <td>22.000000</td>\n",
       "    </tr>\n",
       "  </tbody>\n",
       "</table>\n",
       "</div>"
      ],
      "text/plain": [
       "                     count        min        max       mean\n",
       "                client_age client_age client_age client_age\n",
       "employment_type                                            \n",
       "безработный              2         31         45  38.000000\n",
       "в декрете                1         39         39  39.000000\n",
       "госслужащий           1459         19         75  40.801234\n",
       "компаньон             5085         19         74  39.850934\n",
       "пенсионер             3856         22         74  59.369035\n",
       "предприниматель          2         27         58  42.500000\n",
       "сотрудник            11119         19         74  40.018887\n",
       "студент                  1         22         22  22.000000"
      ]
     },
     "execution_count": 18,
     "metadata": {},
     "output_type": "execute_result"
    }
   ],
   "source": [
    "df.pivot_table(index='employment_type', values='client_age', aggfunc=['count', 'min', 'max', 'mean'])"
   ]
  },
  {
   "cell_type": "markdown",
   "metadata": {
    "id": "Fis4m87OC30f"
   },
   "source": [
    "Чтобы исправить значения в столбце `days_employed` по безработным и пенсионерам - я предлагаю разбить их на группы по квантилям и далее соотнести среднее значение в столбце относительно их группе по возрасту.  \n",
    "Выведем сводную таблицу по возрасту клиентов."
   ]
  },
  {
   "cell_type": "code",
   "execution_count": 19,
   "metadata": {
    "colab": {
     "base_uri": "https://localhost:8080/"
    },
    "id": "CNlZAdVgH9sd",
    "outputId": "e90daed5-17d1-40d0-f64a-f22e191e86b2"
   },
   "outputs": [
    {
     "data": {
      "text/plain": [
       "0.25    34.0\n",
       "0.50    43.0\n",
       "0.75    53.0\n",
       "Name: client_age, dtype: float64"
      ]
     },
     "execution_count": 19,
     "metadata": {},
     "output_type": "execute_result"
    }
   ],
   "source": [
    "df['client_age'].quantile([0.25, 0.50, 0.75])"
   ]
  },
  {
   "cell_type": "markdown",
   "metadata": {
    "id": "wyt4wvyPILJK"
   },
   "source": [
    "На основе таблицы можно созать 4 группы: \n",
    "* до 34\n",
    "* 34-43\n",
    "* 43-53\n",
    "* от 53\n",
    "\n",
    "Создадим новый столбец `age_group` и соотнесем возраст клентов относительно этих групп."
   ]
  },
  {
   "cell_type": "code",
   "execution_count": 20,
   "metadata": {
    "id": "aWW3ulrLEZCU"
   },
   "outputs": [],
   "source": [
    "df['age_group'] = pd.qcut(df['client_age'], q=4, labels=['до 34', '34-43', '43-53', 'от 53'])"
   ]
  },
  {
   "cell_type": "markdown",
   "metadata": {
    "id": "-lrFg00-I5Sf"
   },
   "source": [
    "Чтобы убедиться, что все верно - выведем таблицу со средними значениями возраста по группам."
   ]
  },
  {
   "cell_type": "code",
   "execution_count": 21,
   "metadata": {
    "colab": {
     "base_uri": "https://localhost:8080/"
    },
    "id": "TXePC-ecEq8_",
    "outputId": "b9ba3c5f-1aaf-42a5-e60b-906f15bfa1ee"
   },
   "outputs": [
    {
     "data": {
      "text/plain": [
       "age_group\n",
       "до 34    28.795215\n",
       "34-43    38.985247\n",
       "43-53    48.404444\n",
       "от 53    59.963095\n",
       "Name: client_age, dtype: float64"
      ]
     },
     "execution_count": 21,
     "metadata": {},
     "output_type": "execute_result"
    }
   ],
   "source": [
    "df.groupby('age_group')['client_age'].mean()"
   ]
  },
  {
   "cell_type": "markdown",
   "metadata": {
    "id": "rNO5St_uJpBi"
   },
   "source": [
    "Видно, что возраста соответствуют нашим группам.  \n",
    "Выведем сводную таблицу со средним значением трудового стажа по возрастным категориям без учета пенсионеров и безработных."
   ]
  },
  {
   "cell_type": "code",
   "execution_count": 22,
   "metadata": {
    "colab": {
     "base_uri": "https://localhost:8080/",
     "height": 255
    },
    "id": "pjzDRNbON8aI",
    "outputId": "1871bcef-b7fc-406d-cc3b-a31212f61e09"
   },
   "outputs": [
    {
     "data": {
      "text/html": [
       "<div>\n",
       "<style scoped>\n",
       "    .dataframe tbody tr th:only-of-type {\n",
       "        vertical-align: middle;\n",
       "    }\n",
       "\n",
       "    .dataframe tbody tr th {\n",
       "        vertical-align: top;\n",
       "    }\n",
       "\n",
       "    .dataframe thead tr th {\n",
       "        text-align: left;\n",
       "    }\n",
       "\n",
       "    .dataframe thead tr:last-of-type th {\n",
       "        text-align: right;\n",
       "    }\n",
       "</style>\n",
       "<table border=\"1\" class=\"dataframe\">\n",
       "  <thead>\n",
       "    <tr>\n",
       "      <th></th>\n",
       "      <th>mean</th>\n",
       "    </tr>\n",
       "    <tr>\n",
       "      <th></th>\n",
       "      <th>days_employed</th>\n",
       "    </tr>\n",
       "    <tr>\n",
       "      <th>age_group</th>\n",
       "      <th></th>\n",
       "    </tr>\n",
       "  </thead>\n",
       "  <tbody>\n",
       "    <tr>\n",
       "      <td>до 34</td>\n",
       "      <td>1480.996369</td>\n",
       "    </tr>\n",
       "    <tr>\n",
       "      <td>34-43</td>\n",
       "      <td>2367.381124</td>\n",
       "    </tr>\n",
       "    <tr>\n",
       "      <td>43-53</td>\n",
       "      <td>2992.900459</td>\n",
       "    </tr>\n",
       "    <tr>\n",
       "      <td>от 53</td>\n",
       "      <td>3494.225977</td>\n",
       "    </tr>\n",
       "  </tbody>\n",
       "</table>\n",
       "</div>"
      ],
      "text/plain": [
       "                   mean\n",
       "          days_employed\n",
       "age_group              \n",
       "до 34       1480.996369\n",
       "34-43       2367.381124\n",
       "43-53       2992.900459\n",
       "от 53       3494.225977"
      ]
     },
     "execution_count": 22,
     "metadata": {},
     "output_type": "execute_result"
    }
   ],
   "source": [
    "df[(df['employment_type']!='пенсионер')&(df['employment_type']!='безработный')].pivot_table(index='age_group', \n",
    "                                                                                            values='days_employed', \n",
    "                                                                                            aggfunc=['mean'])"
   ]
  },
  {
   "cell_type": "markdown",
   "metadata": {
    "id": "hDuRXSb8RENK"
   },
   "source": [
    "Теперь предлагаю заменить значения для пенсионеров и безработных в столбце `days_employed` относительно их возрастной группе на среднее которые мы получили выше.  \n",
    "Так же заменим пустые значения трудового стажа на средние по возрастной категории."
   ]
  },
  {
   "cell_type": "code",
   "execution_count": 23,
   "metadata": {
    "id": "AIt5kfEVRnfD"
   },
   "outputs": [],
   "source": [
    "# сделаем датасет без учета пенсионеров и безработных чтобы получить из него средние значения\n",
    "clear_df = df[(df['employment_type']!='пенсионер')&(df['employment_type']!='безработный')]\n",
    "\n",
    "# создадим список возрастных групп\n",
    "age_group = df['age_group'].unique()\n",
    "client_type\n",
    "\n",
    "# пройдемся по списку возрастных групп и заменим значения у пенсионеров и безработных в основном датасете на средние значения из датасета без них\n",
    "for group in age_group:\n",
    "    df.loc[(df['employment_type']=='пенсионер')&(df['age_group']==group),'days_employed'] = clear_df[clear_df['age_group']== group]['days_employed'].mean()\n",
    "    df.loc[(df['employment_type']=='безработный')&(df['age_group']==group),'days_employed'] = clear_df[clear_df['age_group']== group]['days_employed'].mean()\n",
    "    df.loc[(df['days_employed'].isna())&(df['age_group']==group),'days_employed'] = clear_df[clear_df['age_group']== group]['days_employed'].mean()"
   ]
  },
  {
   "cell_type": "markdown",
   "metadata": {
    "id": "Ba-En8VIYwqd"
   },
   "source": [
    "Убедимся, что пустые значения в столбце `days_employed` заменились, далее выведем сводную таблицу и посмотрим на полученные значения."
   ]
  },
  {
   "cell_type": "code",
   "execution_count": 24,
   "metadata": {
    "colab": {
     "base_uri": "https://localhost:8080/"
    },
    "id": "w6nJcHLVe1gK",
    "outputId": "b6daa7d7-4ce3-469c-aeaa-60d309d6b871"
   },
   "outputs": [
    {
     "data": {
      "text/plain": [
       "number_of_children       0\n",
       "days_employed            0\n",
       "client_age               0\n",
       "education                0\n",
       "education_id             0\n",
       "family_status            0\n",
       "family_status_id         0\n",
       "gender                   0\n",
       "employment_type          0\n",
       "credit_debt              0\n",
       "monthly_income        2174\n",
       "credit_purpose           0\n",
       "age_group                0\n",
       "dtype: int64"
      ]
     },
     "execution_count": 24,
     "metadata": {},
     "output_type": "execute_result"
    }
   ],
   "source": [
    "df.isna().sum()"
   ]
  },
  {
   "cell_type": "code",
   "execution_count": 25,
   "metadata": {
    "colab": {
     "base_uri": "https://localhost:8080/",
     "height": 348
    },
    "id": "GhFQcLOqWBiy",
    "outputId": "9f1b76b8-58d9-4322-fb29-978c57f0d238"
   },
   "outputs": [
    {
     "data": {
      "text/html": [
       "<div>\n",
       "<style scoped>\n",
       "    .dataframe tbody tr th:only-of-type {\n",
       "        vertical-align: middle;\n",
       "    }\n",
       "\n",
       "    .dataframe tbody tr th {\n",
       "        vertical-align: top;\n",
       "    }\n",
       "\n",
       "    .dataframe thead th {\n",
       "        text-align: right;\n",
       "    }\n",
       "</style>\n",
       "<table border=\"1\" class=\"dataframe\">\n",
       "  <thead>\n",
       "    <tr style=\"text-align: right;\">\n",
       "      <th></th>\n",
       "      <th>days_employed</th>\n",
       "    </tr>\n",
       "    <tr>\n",
       "      <th>employment_type</th>\n",
       "      <th></th>\n",
       "    </tr>\n",
       "  </thead>\n",
       "  <tbody>\n",
       "    <tr>\n",
       "      <td>безработный</td>\n",
       "      <td>2236.948414</td>\n",
       "    </tr>\n",
       "    <tr>\n",
       "      <td>в декрете</td>\n",
       "      <td>3296.759962</td>\n",
       "    </tr>\n",
       "    <tr>\n",
       "      <td>госслужащий</td>\n",
       "      <td>3300.417500</td>\n",
       "    </tr>\n",
       "    <tr>\n",
       "      <td>компаньон</td>\n",
       "      <td>2137.371356</td>\n",
       "    </tr>\n",
       "    <tr>\n",
       "      <td>пенсионер</td>\n",
       "      <td>3404.826202</td>\n",
       "    </tr>\n",
       "    <tr>\n",
       "      <td>предприниматель</td>\n",
       "      <td>2007.537030</td>\n",
       "    </tr>\n",
       "    <tr>\n",
       "      <td>сотрудник</td>\n",
       "      <td>2330.761214</td>\n",
       "    </tr>\n",
       "    <tr>\n",
       "      <td>студент</td>\n",
       "      <td>578.751554</td>\n",
       "    </tr>\n",
       "  </tbody>\n",
       "</table>\n",
       "</div>"
      ],
      "text/plain": [
       "                 days_employed\n",
       "employment_type               \n",
       "безработный        2236.948414\n",
       "в декрете          3296.759962\n",
       "госслужащий        3300.417500\n",
       "компаньон          2137.371356\n",
       "пенсионер          3404.826202\n",
       "предприниматель    2007.537030\n",
       "сотрудник          2330.761214\n",
       "студент             578.751554"
      ]
     },
     "execution_count": 25,
     "metadata": {},
     "output_type": "execute_result"
    }
   ],
   "source": [
    "df.pivot_table(index='employment_type', values='days_employed', aggfunc='mean')"
   ]
  },
  {
   "cell_type": "code",
   "execution_count": 26,
   "metadata": {
    "colab": {
     "base_uri": "https://localhost:8080/",
     "height": 379
    },
    "id": "4fG0lY6ifyGm",
    "outputId": "03915f50-3f77-4c68-bf84-1bcb995a0286"
   },
   "outputs": [
    {
     "data": {
      "text/html": [
       "<div>\n",
       "<style scoped>\n",
       "    .dataframe tbody tr th:only-of-type {\n",
       "        vertical-align: middle;\n",
       "    }\n",
       "\n",
       "    .dataframe tbody tr th {\n",
       "        vertical-align: top;\n",
       "    }\n",
       "\n",
       "    .dataframe thead tr th {\n",
       "        text-align: left;\n",
       "    }\n",
       "\n",
       "    .dataframe thead tr:last-of-type th {\n",
       "        text-align: right;\n",
       "    }\n",
       "</style>\n",
       "<table border=\"1\" class=\"dataframe\">\n",
       "  <thead>\n",
       "    <tr>\n",
       "      <th></th>\n",
       "      <th>min</th>\n",
       "      <th>max</th>\n",
       "      <th>mean</th>\n",
       "    </tr>\n",
       "    <tr>\n",
       "      <th></th>\n",
       "      <th>client_age</th>\n",
       "      <th>client_age</th>\n",
       "      <th>client_age</th>\n",
       "    </tr>\n",
       "    <tr>\n",
       "      <th>employment_type</th>\n",
       "      <th></th>\n",
       "      <th></th>\n",
       "      <th></th>\n",
       "    </tr>\n",
       "  </thead>\n",
       "  <tbody>\n",
       "    <tr>\n",
       "      <td>безработный</td>\n",
       "      <td>31</td>\n",
       "      <td>45</td>\n",
       "      <td>38.000000</td>\n",
       "    </tr>\n",
       "    <tr>\n",
       "      <td>в декрете</td>\n",
       "      <td>39</td>\n",
       "      <td>39</td>\n",
       "      <td>39.000000</td>\n",
       "    </tr>\n",
       "    <tr>\n",
       "      <td>госслужащий</td>\n",
       "      <td>19</td>\n",
       "      <td>75</td>\n",
       "      <td>40.801234</td>\n",
       "    </tr>\n",
       "    <tr>\n",
       "      <td>компаньон</td>\n",
       "      <td>19</td>\n",
       "      <td>74</td>\n",
       "      <td>39.850934</td>\n",
       "    </tr>\n",
       "    <tr>\n",
       "      <td>пенсионер</td>\n",
       "      <td>22</td>\n",
       "      <td>74</td>\n",
       "      <td>59.369035</td>\n",
       "    </tr>\n",
       "    <tr>\n",
       "      <td>предприниматель</td>\n",
       "      <td>27</td>\n",
       "      <td>58</td>\n",
       "      <td>42.500000</td>\n",
       "    </tr>\n",
       "    <tr>\n",
       "      <td>сотрудник</td>\n",
       "      <td>19</td>\n",
       "      <td>74</td>\n",
       "      <td>40.018887</td>\n",
       "    </tr>\n",
       "    <tr>\n",
       "      <td>студент</td>\n",
       "      <td>22</td>\n",
       "      <td>22</td>\n",
       "      <td>22.000000</td>\n",
       "    </tr>\n",
       "  </tbody>\n",
       "</table>\n",
       "</div>"
      ],
      "text/plain": [
       "                       min        max       mean\n",
       "                client_age client_age client_age\n",
       "employment_type                                 \n",
       "безработный             31         45  38.000000\n",
       "в декрете               39         39  39.000000\n",
       "госслужащий             19         75  40.801234\n",
       "компаньон               19         74  39.850934\n",
       "пенсионер               22         74  59.369035\n",
       "предприниматель         27         58  42.500000\n",
       "сотрудник               19         74  40.018887\n",
       "студент                 22         22  22.000000"
      ]
     },
     "execution_count": 26,
     "metadata": {},
     "output_type": "execute_result"
    }
   ],
   "source": [
    "df.pivot_table(index='employment_type', values='client_age', aggfunc=['min', 'max', 'mean'])"
   ]
  },
  {
   "cell_type": "markdown",
   "metadata": {
    "id": "xaBDEnGPZKFb"
   },
   "source": [
    "Мы получили трудовой стаж по дням уже более приближенный к реальным значениям, но категория \"пенсионеры\" все равно вызывает сомнения, видимо они получили такое маленькое значение из-за большого разброса по возрасту внутри категории, есть \"пенсионеры\" с возрастом 22 года."
   ]
  },
  {
   "cell_type": "markdown",
   "metadata": {
    "id": "-6f6Y50-gN3D"
   },
   "source": [
    "Теперь займемся столбцом `monthly_income`. Посмотрим на медианное значения того, сколько ежемесячно получают в разных категориях."
   ]
  },
  {
   "cell_type": "code",
   "execution_count": 27,
   "metadata": {
    "colab": {
     "base_uri": "https://localhost:8080/",
     "height": 348
    },
    "id": "9xU7LyoJg3uJ",
    "outputId": "a6c605bf-7fc0-421c-f290-334f0b507301"
   },
   "outputs": [
    {
     "data": {
      "text/html": [
       "<div>\n",
       "<style scoped>\n",
       "    .dataframe tbody tr th:only-of-type {\n",
       "        vertical-align: middle;\n",
       "    }\n",
       "\n",
       "    .dataframe tbody tr th {\n",
       "        vertical-align: top;\n",
       "    }\n",
       "\n",
       "    .dataframe thead th {\n",
       "        text-align: right;\n",
       "    }\n",
       "</style>\n",
       "<table border=\"1\" class=\"dataframe\">\n",
       "  <thead>\n",
       "    <tr style=\"text-align: right;\">\n",
       "      <th></th>\n",
       "      <th>monthly_income</th>\n",
       "    </tr>\n",
       "    <tr>\n",
       "      <th>employment_type</th>\n",
       "      <th></th>\n",
       "    </tr>\n",
       "  </thead>\n",
       "  <tbody>\n",
       "    <tr>\n",
       "      <td>предприниматель</td>\n",
       "      <td>499163.144947</td>\n",
       "    </tr>\n",
       "    <tr>\n",
       "      <td>компаньон</td>\n",
       "      <td>172357.950966</td>\n",
       "    </tr>\n",
       "    <tr>\n",
       "      <td>госслужащий</td>\n",
       "      <td>150447.935283</td>\n",
       "    </tr>\n",
       "    <tr>\n",
       "      <td>сотрудник</td>\n",
       "      <td>142594.396847</td>\n",
       "    </tr>\n",
       "    <tr>\n",
       "      <td>безработный</td>\n",
       "      <td>131339.751676</td>\n",
       "    </tr>\n",
       "    <tr>\n",
       "      <td>пенсионер</td>\n",
       "      <td>118514.486412</td>\n",
       "    </tr>\n",
       "    <tr>\n",
       "      <td>студент</td>\n",
       "      <td>98201.625314</td>\n",
       "    </tr>\n",
       "    <tr>\n",
       "      <td>в декрете</td>\n",
       "      <td>53829.130729</td>\n",
       "    </tr>\n",
       "  </tbody>\n",
       "</table>\n",
       "</div>"
      ],
      "text/plain": [
       "                 monthly_income\n",
       "employment_type                \n",
       "предприниматель   499163.144947\n",
       "компаньон         172357.950966\n",
       "госслужащий       150447.935283\n",
       "сотрудник         142594.396847\n",
       "безработный       131339.751676\n",
       "пенсионер         118514.486412\n",
       "студент            98201.625314\n",
       "в декрете          53829.130729"
      ]
     },
     "execution_count": 27,
     "metadata": {},
     "output_type": "execute_result"
    }
   ],
   "source": [
    "df.pivot_table(index='employment_type', values='monthly_income', \n",
    "               aggfunc='median').sort_values('monthly_income', ascending=False)"
   ]
  },
  {
   "cell_type": "markdown",
   "metadata": {
    "id": "g69JNi26iVef"
   },
   "source": [
    "Из таблицы видно, что предприниматели получают сильно больше остальных. По остальным категориям не сильный разброс. Скорее всего данные зарплаты представлены для крупного города РФ."
   ]
  },
  {
   "cell_type": "markdown",
   "metadata": {
    "id": "LKWFN9zXpLvm"
   },
   "source": [
    "Посмотрим у скольких человек и в каких группах пропущенны сведения о доходе."
   ]
  },
  {
   "cell_type": "code",
   "execution_count": 28,
   "metadata": {
    "colab": {
     "base_uri": "https://localhost:8080/"
    },
    "id": "L2LMNmNwkxTg",
    "outputId": "02f94b21-7ad3-4041-d15f-8803876ec251"
   },
   "outputs": [
    {
     "data": {
      "text/plain": [
       "employment_type\n",
       "госслужащий         147\n",
       "компаньон           508\n",
       "пенсионер           413\n",
       "предприниматель       1\n",
       "сотрудник          1105\n",
       "Name: client_age, dtype: int64"
      ]
     },
     "execution_count": 28,
     "metadata": {},
     "output_type": "execute_result"
    }
   ],
   "source": [
    "df[df['monthly_income'].isna()].groupby('employment_type')['client_age'].count()"
   ]
  },
  {
   "cell_type": "markdown",
   "metadata": {
    "id": "lhPJEcnbjb5M"
   },
   "source": [
    "Заменим пропущенные значения в столбце `monthly_income` на медианные значения по группе."
   ]
  },
  {
   "cell_type": "code",
   "execution_count": 29,
   "metadata": {
    "id": "wwMu794LjVIe"
   },
   "outputs": [],
   "source": [
    "type_employment = df['employment_type'].unique()\n",
    "\n",
    "for employment in type_employment:\n",
    "    df.loc[(df['monthly_income'].isna())&(df['employment_type']==employment), 'monthly_income'] = df.loc[df['employment_type']==employment]['monthly_income'].median()"
   ]
  },
  {
   "cell_type": "markdown",
   "metadata": {
    "id": "1f-mNET3p_Y5"
   },
   "source": [
    "Посмотрим на получившийся результат и убедимся, что больше нет пропущенных значений."
   ]
  },
  {
   "cell_type": "code",
   "execution_count": 30,
   "metadata": {
    "colab": {
     "base_uri": "https://localhost:8080/",
     "height": 348
    },
    "id": "2OflCU4-k_JY",
    "outputId": "d973d3cb-8a9e-4af6-ad0e-fa6467ac03f0"
   },
   "outputs": [
    {
     "data": {
      "text/html": [
       "<div>\n",
       "<style scoped>\n",
       "    .dataframe tbody tr th:only-of-type {\n",
       "        vertical-align: middle;\n",
       "    }\n",
       "\n",
       "    .dataframe tbody tr th {\n",
       "        vertical-align: top;\n",
       "    }\n",
       "\n",
       "    .dataframe thead th {\n",
       "        text-align: right;\n",
       "    }\n",
       "</style>\n",
       "<table border=\"1\" class=\"dataframe\">\n",
       "  <thead>\n",
       "    <tr style=\"text-align: right;\">\n",
       "      <th></th>\n",
       "      <th>monthly_income</th>\n",
       "    </tr>\n",
       "    <tr>\n",
       "      <th>employment_type</th>\n",
       "      <th></th>\n",
       "    </tr>\n",
       "  </thead>\n",
       "  <tbody>\n",
       "    <tr>\n",
       "      <td>предприниматель</td>\n",
       "      <td>499163.144947</td>\n",
       "    </tr>\n",
       "    <tr>\n",
       "      <td>компаньон</td>\n",
       "      <td>172357.950966</td>\n",
       "    </tr>\n",
       "    <tr>\n",
       "      <td>госслужащий</td>\n",
       "      <td>150447.935283</td>\n",
       "    </tr>\n",
       "    <tr>\n",
       "      <td>сотрудник</td>\n",
       "      <td>142594.396847</td>\n",
       "    </tr>\n",
       "    <tr>\n",
       "      <td>безработный</td>\n",
       "      <td>131339.751676</td>\n",
       "    </tr>\n",
       "    <tr>\n",
       "      <td>пенсионер</td>\n",
       "      <td>118514.486412</td>\n",
       "    </tr>\n",
       "    <tr>\n",
       "      <td>студент</td>\n",
       "      <td>98201.625314</td>\n",
       "    </tr>\n",
       "    <tr>\n",
       "      <td>в декрете</td>\n",
       "      <td>53829.130729</td>\n",
       "    </tr>\n",
       "  </tbody>\n",
       "</table>\n",
       "</div>"
      ],
      "text/plain": [
       "                 monthly_income\n",
       "employment_type                \n",
       "предприниматель   499163.144947\n",
       "компаньон         172357.950966\n",
       "госслужащий       150447.935283\n",
       "сотрудник         142594.396847\n",
       "безработный       131339.751676\n",
       "пенсионер         118514.486412\n",
       "студент            98201.625314\n",
       "в декрете          53829.130729"
      ]
     },
     "execution_count": 30,
     "metadata": {},
     "output_type": "execute_result"
    }
   ],
   "source": [
    "df.pivot_table(index='employment_type', values='monthly_income', \n",
    "               aggfunc='median').sort_values('monthly_income', ascending=False)"
   ]
  },
  {
   "cell_type": "code",
   "execution_count": 31,
   "metadata": {
    "colab": {
     "base_uri": "https://localhost:8080/"
    },
    "id": "rDCoCoElp7K9",
    "outputId": "3d56ce8f-9975-465f-d4f1-abfdac606d34"
   },
   "outputs": [
    {
     "data": {
      "text/plain": [
       "number_of_children    0\n",
       "days_employed         0\n",
       "client_age            0\n",
       "education             0\n",
       "education_id          0\n",
       "family_status         0\n",
       "family_status_id      0\n",
       "gender                0\n",
       "employment_type       0\n",
       "credit_debt           0\n",
       "monthly_income        0\n",
       "credit_purpose        0\n",
       "age_group             0\n",
       "dtype: int64"
      ]
     },
     "execution_count": 31,
     "metadata": {},
     "output_type": "execute_result"
    }
   ],
   "source": [
    "df.isna().sum()"
   ]
  },
  {
   "cell_type": "markdown",
   "metadata": {
    "id": "E6sDslNntbiJ"
   },
   "source": [
    "### Обработка столбцов"
   ]
  },
  {
   "cell_type": "markdown",
   "metadata": {
    "id": "QoRC3Ia8txxZ"
   },
   "source": [
    "Начнем со стобца `number_of_children`. Выведем информацию по всем значениям и их количеству."
   ]
  },
  {
   "cell_type": "code",
   "execution_count": 32,
   "metadata": {
    "colab": {
     "base_uri": "https://localhost:8080/"
    },
    "id": "ip9eGEUztw0o",
    "outputId": "d5bce356-95f7-46bf-e4f3-e431e6a880e4"
   },
   "outputs": [
    {
     "data": {
      "text/plain": [
       "number_of_children\n",
       " 0     14149\n",
       " 1      4818\n",
       " 2      2055\n",
       " 3       330\n",
       " 20       76\n",
       "-1        47\n",
       " 4        41\n",
       " 5         9\n",
       "Name: number_of_children, dtype: int64"
      ]
     },
     "execution_count": 32,
     "metadata": {},
     "output_type": "execute_result"
    }
   ],
   "source": [
    "df.groupby('number_of_children')['number_of_children'].count().sort_values(ascending=False)"
   ]
  },
  {
   "cell_type": "markdown",
   "metadata": {
    "id": "_2vTEJIuvn_Z"
   },
   "source": [
    "Можно сделать вывод, что количество детей в семье варьируется от 0 до 5. Значения -1 и 20 больше похожи на опечатку, поэтому предлагаю отрицательное значение заменить на положительное, а второе заменить на 2."
   ]
  },
  {
   "cell_type": "code",
   "execution_count": 33,
   "metadata": {
    "id": "-YgS_KWrwygI"
   },
   "outputs": [],
   "source": [
    "df['number_of_children'] = df['number_of_children'].abs()"
   ]
  },
  {
   "cell_type": "code",
   "execution_count": 34,
   "metadata": {
    "id": "B-lHJ_b-xLlo"
   },
   "outputs": [],
   "source": [
    "df.loc[df['number_of_children']==20,'number_of_children'] = 2"
   ]
  },
  {
   "cell_type": "markdown",
   "metadata": {
    "id": "t4cIAMPXxbz_"
   },
   "source": [
    "Убедимся, что все значения исправились."
   ]
  },
  {
   "cell_type": "code",
   "execution_count": 35,
   "metadata": {
    "colab": {
     "base_uri": "https://localhost:8080/"
    },
    "id": "cJdp2i1DxYOE",
    "outputId": "a37e82bc-fb97-414a-c235-660980fe3beb"
   },
   "outputs": [
    {
     "data": {
      "text/plain": [
       "number_of_children\n",
       "0    14149\n",
       "1     4865\n",
       "2     2131\n",
       "3      330\n",
       "4       41\n",
       "5        9\n",
       "Name: number_of_children, dtype: int64"
      ]
     },
     "execution_count": 35,
     "metadata": {},
     "output_type": "execute_result"
    }
   ],
   "source": [
    "df.groupby('number_of_children')['number_of_children'].count().sort_values(ascending=False)"
   ]
  },
  {
   "cell_type": "markdown",
   "metadata": {
    "id": "SFrpJC1Hxtcb"
   },
   "source": [
    "Теперь займемся столбцом `education`.\n",
    "Выведем уникальные значения внутри столбца."
   ]
  },
  {
   "cell_type": "code",
   "execution_count": 36,
   "metadata": {
    "colab": {
     "base_uri": "https://localhost:8080/"
    },
    "id": "Izs6Q65Rx6zu",
    "outputId": "1459157c-6c72-4623-b60a-17492495d41f"
   },
   "outputs": [
    {
     "data": {
      "text/plain": [
       "array(['высшее', 'среднее', 'Среднее', 'СРЕДНЕЕ', 'ВЫСШЕЕ',\n",
       "       'неоконченное высшее', 'начальное', 'Высшее',\n",
       "       'НЕОКОНЧЕННОЕ ВЫСШЕЕ', 'Неоконченное высшее', 'НАЧАЛЬНОЕ',\n",
       "       'Начальное', 'Ученая степень', 'УЧЕНАЯ СТЕПЕНЬ', 'ученая степень'],\n",
       "      dtype=object)"
      ]
     },
     "execution_count": 36,
     "metadata": {},
     "output_type": "execute_result"
    }
   ],
   "source": [
    "df['education'].unique()"
   ]
  },
  {
   "cell_type": "markdown",
   "metadata": {
    "id": "sNs9dXJJzSfh"
   },
   "source": [
    "Как мы видим, некоторые значения совпадают, но записаны в разном регистре, приведем их к единому виду и выведем новый список уникальных значений."
   ]
  },
  {
   "cell_type": "code",
   "execution_count": 37,
   "metadata": {
    "id": "c2P63ON2zl_5"
   },
   "outputs": [],
   "source": [
    "df['education'] = df['education'].str.lower()"
   ]
  },
  {
   "cell_type": "code",
   "execution_count": 38,
   "metadata": {
    "colab": {
     "base_uri": "https://localhost:8080/"
    },
    "id": "qkVGveNCzyQK",
    "outputId": "d91e1c66-ae63-4617-8f3b-c890434821d1"
   },
   "outputs": [
    {
     "data": {
      "text/plain": [
       "array(['высшее', 'среднее', 'неоконченное высшее', 'начальное',\n",
       "       'ученая степень'], dtype=object)"
      ]
     },
     "execution_count": 38,
     "metadata": {},
     "output_type": "execute_result"
    }
   ],
   "source": [
    "df['education'].unique()"
   ]
  },
  {
   "cell_type": "markdown",
   "metadata": {
    "id": "lcrPXsln1XUX"
   },
   "source": [
    "Посмотрим на значения в других столбцах, может заметить еще что-нибудь."
   ]
  },
  {
   "cell_type": "code",
   "execution_count": 39,
   "metadata": {
    "colab": {
     "base_uri": "https://localhost:8080/"
    },
    "id": "Gqs6si9k1f6q",
    "outputId": "748dcc56-3502-4bcd-97bf-31966c18b8e8"
   },
   "outputs": [
    {
     "data": {
      "text/plain": [
       "array(['женат / замужем', 'гражданский брак', 'вдовец / вдова',\n",
       "       'в разводе', 'Не женат / не замужем'], dtype=object)"
      ]
     },
     "execution_count": 39,
     "metadata": {},
     "output_type": "execute_result"
    }
   ],
   "source": [
    "df['family_status'].unique()"
   ]
  },
  {
   "cell_type": "code",
   "execution_count": 40,
   "metadata": {
    "colab": {
     "base_uri": "https://localhost:8080/"
    },
    "id": "BE_DFcTV1vvv",
    "outputId": "746b9f8b-3a1e-4fc7-e7cf-0e9deda77531"
   },
   "outputs": [
    {
     "data": {
      "text/plain": [
       "array(['F', 'M', 'XNA'], dtype=object)"
      ]
     },
     "execution_count": 40,
     "metadata": {},
     "output_type": "execute_result"
    }
   ],
   "source": [
    "df['gender'].unique()"
   ]
  },
  {
   "cell_type": "markdown",
   "metadata": {
    "id": "SJc85sK_10yu"
   },
   "source": [
    "В столбце `gender` есть непонятное значение 'XNA'. Предлагаю посмотреть сколько таикх значений содержится в столбце."
   ]
  },
  {
   "cell_type": "code",
   "execution_count": 41,
   "metadata": {
    "colab": {
     "base_uri": "https://localhost:8080/"
    },
    "id": "fOmh7dHV2KkC",
    "outputId": "ea951e61-49cb-41f4-dc6e-5dd8570a5d65"
   },
   "outputs": [
    {
     "data": {
      "text/plain": [
       "gender\n",
       "F      14236\n",
       "M       7288\n",
       "XNA        1\n",
       "Name: gender, dtype: int64"
      ]
     },
     "execution_count": 41,
     "metadata": {},
     "output_type": "execute_result"
    }
   ],
   "source": [
    "df.groupby('gender')['gender'].count()"
   ]
  },
  {
   "cell_type": "markdown",
   "metadata": {
    "id": "effWDxeg2XO_"
   },
   "source": [
    "Значение всего одно, поэтому предлагаю его удалить, потому что достоверно восстановить его не получится."
   ]
  },
  {
   "cell_type": "code",
   "execution_count": 42,
   "metadata": {
    "id": "_oKUvWBD2lD8"
   },
   "outputs": [],
   "source": [
    "df = df[df['gender']!='XNA']"
   ]
  },
  {
   "cell_type": "code",
   "execution_count": 43,
   "metadata": {
    "colab": {
     "base_uri": "https://localhost:8080/"
    },
    "id": "4ebyPytb27a0",
    "outputId": "307e51bc-6f4b-4ad2-f8a5-3e4a91a998d5"
   },
   "outputs": [
    {
     "data": {
      "text/plain": [
       "gender\n",
       "F    14236\n",
       "M     7288\n",
       "Name: gender, dtype: int64"
      ]
     },
     "execution_count": 43,
     "metadata": {},
     "output_type": "execute_result"
    }
   ],
   "source": [
    "df.groupby('gender')['gender'].count()"
   ]
  },
  {
   "cell_type": "markdown",
   "metadata": {
    "id": "FFD_Mq18pAE8"
   },
   "source": [
    "**Вывод**  \n",
    "1) Мы заменили значения столбцов на более интуетивно понятные.  \n",
    "2) В столбце с трудовым стажем сделали положительными значения которые были отрицательными. Пропущенные значения и экстримально большие заменили на среднее значения по возрастной группе, но полученый результат все равно оказался далек от действительности. Скорее всего была допущена ошибка при выгрузке данных.  \n",
    "3) Пропущенные значения в столбце с ежемесячным доходом заменили на медианное значение по типу занятости. На мой, взгляд получились правдоподобные результаты для большого города, но категория \"безработные\" вызывает вопросы, так как в ней большой ежемесячный доход, возможно работают неофициально.  \n",
    "4) В столбце с количеством детей заменили отрицательные значения на положительные, значени \"20\" заменили на \"2\" так как очень похоже на опечатку.  \n",
    "5) В столбце с образованием привели все к одному регистру.  \n",
    "6) В столбце с полом было 1 непонятное значение, которое мы так же заменили.  \n",
    "\n",
    "Теперь можно занятся изменением типа данных и удалением дубликатов."
   ]
  },
  {
   "cell_type": "markdown",
   "metadata": {
    "id": "4lm4O1P3pAE9"
   },
   "source": [
    "### Замена типа данных"
   ]
  },
  {
   "cell_type": "markdown",
   "metadata": {
    "id": "JXPM0WNk9fUA"
   },
   "source": [
    "Выведем информацию о датасете"
   ]
  },
  {
   "cell_type": "code",
   "execution_count": 44,
   "metadata": {
    "colab": {
     "base_uri": "https://localhost:8080/"
    },
    "id": "h--1xG2V90rE",
    "outputId": "1b0dc513-7b2a-4555-b2eb-46cdb8363a77"
   },
   "outputs": [
    {
     "name": "stdout",
     "output_type": "stream",
     "text": [
      "<class 'pandas.core.frame.DataFrame'>\n",
      "Int64Index: 21524 entries, 0 to 21524\n",
      "Data columns (total 13 columns):\n",
      "number_of_children    21524 non-null int64\n",
      "days_employed         21524 non-null float64\n",
      "client_age            21524 non-null int64\n",
      "education             21524 non-null object\n",
      "education_id          21524 non-null int64\n",
      "family_status         21524 non-null object\n",
      "family_status_id      21524 non-null int64\n",
      "gender                21524 non-null object\n",
      "employment_type       21524 non-null object\n",
      "credit_debt           21524 non-null int64\n",
      "monthly_income        21524 non-null float64\n",
      "credit_purpose        21524 non-null object\n",
      "age_group             21524 non-null category\n",
      "dtypes: category(1), float64(2), int64(5), object(5)\n",
      "memory usage: 2.2+ MB\n"
     ]
    }
   ],
   "source": [
    "df.info()"
   ]
  },
  {
   "cell_type": "markdown",
   "metadata": {
    "id": "us5397AT93OH"
   },
   "source": [
    "Предлагаю заменить тип данных у столбца `days_employed` с float64 на int, ведь считаем целыми днями.  \n",
    "Так же поменяем тип данных у столбца `monthly_income`, излишняя точность здесь не нужна.  \n",
    "Воспользуемся методом **astype** из библиотеки **pandas** так как мы заменили все пропущенные значения."
   ]
  },
  {
   "cell_type": "code",
   "execution_count": 45,
   "metadata": {
    "id": "pirhbRSy-eTM"
   },
   "outputs": [],
   "source": [
    "df['days_employed'] = df['days_employed'].astype('int')\n",
    "df['monthly_income'] = df['monthly_income'].astype('int')"
   ]
  },
  {
   "cell_type": "code",
   "execution_count": 46,
   "metadata": {
    "colab": {
     "base_uri": "https://localhost:8080/"
    },
    "id": "caHjzCDk_CP7",
    "outputId": "610112ac-9e24-4b07-8909-6c1b5eb371c6"
   },
   "outputs": [
    {
     "name": "stdout",
     "output_type": "stream",
     "text": [
      "Тип данных у столбца 'days_employed' - int64\n",
      "Тип данных у столбца 'monthly_income' - int64\n"
     ]
    }
   ],
   "source": [
    "print(f\"Тип данных у столбца 'days_employed' - {df['days_employed'].dtypes}\")\n",
    "print(f\"Тип данных у столбца 'monthly_income' - {df['monthly_income'].dtypes}\")"
   ]
  },
  {
   "cell_type": "markdown",
   "metadata": {
    "id": "cqJWsiq-pAE-"
   },
   "source": [
    "**Вывод**  \n",
    "Мы изменили тип данных у двух столбцов: `days_employed` и `monthly_income` на целочисленный для удобства подсчета дней и ежемесячной зарплаты."
   ]
  },
  {
   "cell_type": "markdown",
   "metadata": {
    "id": "76GZm1_0pAE-"
   },
   "source": [
    "### Обработка дубликатов"
   ]
  },
  {
   "cell_type": "markdown",
   "metadata": {
    "id": "43jX_xBFAs_e"
   },
   "source": [
    "Для поиска дубликатов воспользуемся методом **duplicated**, с помощью этого метода выведем количество дубликатов и посмотрим на них"
   ]
  },
  {
   "cell_type": "code",
   "execution_count": 47,
   "metadata": {
    "colab": {
     "base_uri": "https://localhost:8080/"
    },
    "id": "dcHNx3LzAtm7",
    "outputId": "3880e6d0-a673-470c-86b1-fe1ea92c6943"
   },
   "outputs": [
    {
     "name": "stdout",
     "output_type": "stream",
     "text": [
      "Количество дубликатов - 71\n"
     ]
    }
   ],
   "source": [
    "print(f'Количество дубликатов - {df.duplicated().sum()}')"
   ]
  },
  {
   "cell_type": "code",
   "execution_count": 48,
   "metadata": {
    "colab": {
     "base_uri": "https://localhost:8080/",
     "height": 711
    },
    "id": "PSLLERmkCWDq",
    "outputId": "e5104a61-234b-49f1-f1ce-37f7573c06f5"
   },
   "outputs": [
    {
     "data": {
      "text/html": [
       "<div>\n",
       "<style scoped>\n",
       "    .dataframe tbody tr th:only-of-type {\n",
       "        vertical-align: middle;\n",
       "    }\n",
       "\n",
       "    .dataframe tbody tr th {\n",
       "        vertical-align: top;\n",
       "    }\n",
       "\n",
       "    .dataframe thead th {\n",
       "        text-align: right;\n",
       "    }\n",
       "</style>\n",
       "<table border=\"1\" class=\"dataframe\">\n",
       "  <thead>\n",
       "    <tr style=\"text-align: right;\">\n",
       "      <th></th>\n",
       "      <th>number_of_children</th>\n",
       "      <th>days_employed</th>\n",
       "      <th>client_age</th>\n",
       "      <th>education</th>\n",
       "      <th>education_id</th>\n",
       "      <th>family_status</th>\n",
       "      <th>family_status_id</th>\n",
       "      <th>gender</th>\n",
       "      <th>employment_type</th>\n",
       "      <th>credit_debt</th>\n",
       "      <th>monthly_income</th>\n",
       "      <th>credit_purpose</th>\n",
       "      <th>age_group</th>\n",
       "    </tr>\n",
       "  </thead>\n",
       "  <tbody>\n",
       "    <tr>\n",
       "      <td>3290</td>\n",
       "      <td>0</td>\n",
       "      <td>3494</td>\n",
       "      <td>58</td>\n",
       "      <td>среднее</td>\n",
       "      <td>1</td>\n",
       "      <td>гражданский брак</td>\n",
       "      <td>1</td>\n",
       "      <td>F</td>\n",
       "      <td>пенсионер</td>\n",
       "      <td>0</td>\n",
       "      <td>118514</td>\n",
       "      <td>сыграть свадьбу</td>\n",
       "      <td>от 53</td>\n",
       "    </tr>\n",
       "    <tr>\n",
       "      <td>4851</td>\n",
       "      <td>0</td>\n",
       "      <td>3494</td>\n",
       "      <td>60</td>\n",
       "      <td>среднее</td>\n",
       "      <td>1</td>\n",
       "      <td>гражданский брак</td>\n",
       "      <td>1</td>\n",
       "      <td>F</td>\n",
       "      <td>пенсионер</td>\n",
       "      <td>0</td>\n",
       "      <td>118514</td>\n",
       "      <td>свадьба</td>\n",
       "      <td>от 53</td>\n",
       "    </tr>\n",
       "    <tr>\n",
       "      <td>5557</td>\n",
       "      <td>0</td>\n",
       "      <td>3494</td>\n",
       "      <td>58</td>\n",
       "      <td>среднее</td>\n",
       "      <td>1</td>\n",
       "      <td>гражданский брак</td>\n",
       "      <td>1</td>\n",
       "      <td>F</td>\n",
       "      <td>пенсионер</td>\n",
       "      <td>0</td>\n",
       "      <td>118514</td>\n",
       "      <td>сыграть свадьбу</td>\n",
       "      <td>от 53</td>\n",
       "    </tr>\n",
       "    <tr>\n",
       "      <td>7808</td>\n",
       "      <td>0</td>\n",
       "      <td>3494</td>\n",
       "      <td>57</td>\n",
       "      <td>среднее</td>\n",
       "      <td>1</td>\n",
       "      <td>гражданский брак</td>\n",
       "      <td>1</td>\n",
       "      <td>F</td>\n",
       "      <td>пенсионер</td>\n",
       "      <td>0</td>\n",
       "      <td>118514</td>\n",
       "      <td>на проведение свадьбы</td>\n",
       "      <td>от 53</td>\n",
       "    </tr>\n",
       "    <tr>\n",
       "      <td>7921</td>\n",
       "      <td>0</td>\n",
       "      <td>3494</td>\n",
       "      <td>64</td>\n",
       "      <td>высшее</td>\n",
       "      <td>0</td>\n",
       "      <td>гражданский брак</td>\n",
       "      <td>1</td>\n",
       "      <td>F</td>\n",
       "      <td>пенсионер</td>\n",
       "      <td>0</td>\n",
       "      <td>118514</td>\n",
       "      <td>на проведение свадьбы</td>\n",
       "      <td>от 53</td>\n",
       "    </tr>\n",
       "    <tr>\n",
       "      <td>...</td>\n",
       "      <td>...</td>\n",
       "      <td>...</td>\n",
       "      <td>...</td>\n",
       "      <td>...</td>\n",
       "      <td>...</td>\n",
       "      <td>...</td>\n",
       "      <td>...</td>\n",
       "      <td>...</td>\n",
       "      <td>...</td>\n",
       "      <td>...</td>\n",
       "      <td>...</td>\n",
       "      <td>...</td>\n",
       "      <td>...</td>\n",
       "    </tr>\n",
       "    <tr>\n",
       "      <td>17774</td>\n",
       "      <td>1</td>\n",
       "      <td>2367</td>\n",
       "      <td>40</td>\n",
       "      <td>среднее</td>\n",
       "      <td>1</td>\n",
       "      <td>гражданский брак</td>\n",
       "      <td>1</td>\n",
       "      <td>F</td>\n",
       "      <td>компаньон</td>\n",
       "      <td>0</td>\n",
       "      <td>172357</td>\n",
       "      <td>строительство жилой недвижимости</td>\n",
       "      <td>34-43</td>\n",
       "    </tr>\n",
       "    <tr>\n",
       "      <td>19387</td>\n",
       "      <td>0</td>\n",
       "      <td>2367</td>\n",
       "      <td>38</td>\n",
       "      <td>высшее</td>\n",
       "      <td>0</td>\n",
       "      <td>гражданский брак</td>\n",
       "      <td>1</td>\n",
       "      <td>F</td>\n",
       "      <td>компаньон</td>\n",
       "      <td>0</td>\n",
       "      <td>172357</td>\n",
       "      <td>на проведение свадьбы</td>\n",
       "      <td>34-43</td>\n",
       "    </tr>\n",
       "    <tr>\n",
       "      <td>15991</td>\n",
       "      <td>0</td>\n",
       "      <td>2992</td>\n",
       "      <td>51</td>\n",
       "      <td>среднее</td>\n",
       "      <td>1</td>\n",
       "      <td>гражданский брак</td>\n",
       "      <td>1</td>\n",
       "      <td>F</td>\n",
       "      <td>компаньон</td>\n",
       "      <td>0</td>\n",
       "      <td>172357</td>\n",
       "      <td>на проведение свадьбы</td>\n",
       "      <td>43-53</td>\n",
       "    </tr>\n",
       "    <tr>\n",
       "      <td>19369</td>\n",
       "      <td>0</td>\n",
       "      <td>2992</td>\n",
       "      <td>45</td>\n",
       "      <td>среднее</td>\n",
       "      <td>1</td>\n",
       "      <td>гражданский брак</td>\n",
       "      <td>1</td>\n",
       "      <td>F</td>\n",
       "      <td>компаньон</td>\n",
       "      <td>0</td>\n",
       "      <td>172357</td>\n",
       "      <td>свадьба</td>\n",
       "      <td>43-53</td>\n",
       "    </tr>\n",
       "    <tr>\n",
       "      <td>17379</td>\n",
       "      <td>0</td>\n",
       "      <td>3494</td>\n",
       "      <td>54</td>\n",
       "      <td>высшее</td>\n",
       "      <td>0</td>\n",
       "      <td>женат / замужем</td>\n",
       "      <td>0</td>\n",
       "      <td>M</td>\n",
       "      <td>компаньон</td>\n",
       "      <td>0</td>\n",
       "      <td>172357</td>\n",
       "      <td>операции с коммерческой недвижимостью</td>\n",
       "      <td>от 53</td>\n",
       "    </tr>\n",
       "  </tbody>\n",
       "</table>\n",
       "<p>71 rows × 13 columns</p>\n",
       "</div>"
      ],
      "text/plain": [
       "       number_of_children  days_employed  client_age education  education_id  \\\n",
       "3290                    0           3494          58   среднее             1   \n",
       "4851                    0           3494          60   среднее             1   \n",
       "5557                    0           3494          58   среднее             1   \n",
       "7808                    0           3494          57   среднее             1   \n",
       "7921                    0           3494          64    высшее             0   \n",
       "...                   ...            ...         ...       ...           ...   \n",
       "17774                   1           2367          40   среднее             1   \n",
       "19387                   0           2367          38    высшее             0   \n",
       "15991                   0           2992          51   среднее             1   \n",
       "19369                   0           2992          45   среднее             1   \n",
       "17379                   0           3494          54    высшее             0   \n",
       "\n",
       "          family_status  family_status_id gender employment_type  credit_debt  \\\n",
       "3290   гражданский брак                 1      F       пенсионер            0   \n",
       "4851   гражданский брак                 1      F       пенсионер            0   \n",
       "5557   гражданский брак                 1      F       пенсионер            0   \n",
       "7808   гражданский брак                 1      F       пенсионер            0   \n",
       "7921   гражданский брак                 1      F       пенсионер            0   \n",
       "...                 ...               ...    ...             ...          ...   \n",
       "17774  гражданский брак                 1      F       компаньон            0   \n",
       "19387  гражданский брак                 1      F       компаньон            0   \n",
       "15991  гражданский брак                 1      F       компаньон            0   \n",
       "19369  гражданский брак                 1      F       компаньон            0   \n",
       "17379   женат / замужем                 0      M       компаньон            0   \n",
       "\n",
       "       monthly_income                         credit_purpose age_group  \n",
       "3290           118514                        сыграть свадьбу     от 53  \n",
       "4851           118514                                свадьба     от 53  \n",
       "5557           118514                        сыграть свадьбу     от 53  \n",
       "7808           118514                  на проведение свадьбы     от 53  \n",
       "7921           118514                  на проведение свадьбы     от 53  \n",
       "...               ...                                    ...       ...  \n",
       "17774          172357       строительство жилой недвижимости     34-43  \n",
       "19387          172357                  на проведение свадьбы     34-43  \n",
       "15991          172357                  на проведение свадьбы     43-53  \n",
       "19369          172357                                свадьба     43-53  \n",
       "17379          172357  операции с коммерческой недвижимостью     от 53  \n",
       "\n",
       "[71 rows x 13 columns]"
      ]
     },
     "execution_count": 48,
     "metadata": {},
     "output_type": "execute_result"
    }
   ],
   "source": [
    "df[df.duplicated()].sort_values(by=['monthly_income', 'days_employed'])"
   ]
  },
  {
   "cell_type": "markdown",
   "metadata": {
    "id": "o-TInVjPDzdS"
   },
   "source": [
    "Из таблицы видно, что некоторые значения действительно очень похожи. Возможно клиент несколько раз подавал заявку, поэтому появились задвоения. Предлагаю их удалить и убедиться что их больше нет.  \n",
    "Для удаления дубликтов воспользуемся стандартным методом **drop_duplicates**."
   ]
  },
  {
   "cell_type": "code",
   "execution_count": 49,
   "metadata": {
    "colab": {
     "base_uri": "https://localhost:8080/"
    },
    "id": "ydbYfpIcEN4A",
    "outputId": "68deea13-4fb3-4506-fd85-0ca0a6b45a6d"
   },
   "outputs": [
    {
     "name": "stdout",
     "output_type": "stream",
     "text": [
      "Количество дубликатов - 0\n"
     ]
    }
   ],
   "source": [
    "df = df.drop_duplicates()\n",
    "print(f'Количество дубликатов - {df.duplicated().sum()}')"
   ]
  },
  {
   "cell_type": "markdown",
   "metadata": {
    "id": "PoO7Q0W3pAE_"
   },
   "source": [
    "**Вывод**  \n",
    "Мы удалили дубликаты из датафрейма так как они очень похожи на задвоения. Могли появиться из-за того, что клиент несколько раз подавал заявку."
   ]
  },
  {
   "cell_type": "markdown",
   "metadata": {
    "id": "cZygKjbipAFA"
   },
   "source": [
    "### Лемматизация"
   ]
  },
  {
   "cell_type": "markdown",
   "metadata": {
    "id": "SuhtxsFWSV3W"
   },
   "source": [
    "Проведем лемматизацию и посмотрим на что чаще берут кредит."
   ]
  },
  {
   "cell_type": "code",
   "execution_count": 50,
   "metadata": {
    "colab": {
     "base_uri": "https://localhost:8080/",
     "height": 443
    },
    "id": "ZvWkxBiNUhA4",
    "outputId": "f38f109f-0605-4416-c16f-5200dbb12467"
   },
   "outputs": [],
   "source": [
    "# пройдемся циклом по столбцу 'credit_purpose' и лемматезируем из него значения, результат сохраним в пустой список purpose \n",
    "m = Mystem()\n",
    "purpose = []\n",
    "for text in df['credit_purpose']:\n",
    "    lemmas = m.lemmatize(text)\n",
    "    purpose.extend(lemmas)"
   ]
  },
  {
   "cell_type": "markdown",
   "metadata": {},
   "source": [
    "Создадим датафрейм на из полученного списка и отсортируем его по убыванию."
   ]
  },
  {
   "cell_type": "code",
   "execution_count": 51,
   "metadata": {},
   "outputs": [],
   "source": [
    "index = []\n",
    "count = []\n",
    "for i,k in Counter(purpose).items():\n",
    "    index.append(i)\n",
    "    count.append(k)\n",
    "df_purpose = pd.Series(index=index, data=count)"
   ]
  },
  {
   "cell_type": "code",
   "execution_count": 52,
   "metadata": {},
   "outputs": [
    {
     "data": {
      "text/plain": [
       "                  33569\n",
       "\\n                21453\n",
       "недвижимость       6350\n",
       "покупка            5896\n",
       "жилье              4460\n",
       "автомобиль         4306\n",
       "образование        4013\n",
       "с                  2918\n",
       "операция           2604\n",
       "свадьба            2324\n",
       "свой               2230\n",
       "на                 2222\n",
       "строительство      1878\n",
       "высокий            1374\n",
       "получение          1314\n",
       "коммерческий       1311\n",
       "для                1289\n",
       "жилой              1230\n",
       "сделка              941\n",
       "дополнительный      906\n",
       "заниматься          904\n",
       "проведение          768\n",
       "сыграть             765\n",
       "сдача               651\n",
       "семья               638\n",
       "собственный         635\n",
       "со                  627\n",
       "ремонт              607\n",
       "подержанный         486\n",
       "подержать           478\n",
       "приобретение        461\n",
       "профильный          436\n",
       "dtype: int64"
      ]
     },
     "execution_count": 52,
     "metadata": {},
     "output_type": "execute_result"
    }
   ],
   "source": [
    "df_purpose.sort_values(ascending=False)"
   ]
  },
  {
   "cell_type": "markdown",
   "metadata": {},
   "source": [
    "По результатм лемматизации можно выделить следующие категории для взятия кредита:\n",
    "* недвижимость и жилье можно объеденить в одну группу (недвижимость)\n",
    "* автомобиль\n",
    "* образование\n",
    "* операция\n",
    "* свадьба\n",
    "\n",
    "Создадим отдельный столбец с этими категориями в основном датафрейме чтобы была понятней цель кредита. "
   ]
  },
  {
   "cell_type": "code",
   "execution_count": 53,
   "metadata": {},
   "outputs": [],
   "source": [
    "# создаем список категорий\n",
    "categories = ['недвижимость', 'жилье', 'автомобиль', 'образование', 'операция', 'свадьба']\n",
    "\n",
    "# проведем лемматизацию по строкам, если в строке есть значение из нашего списка категорий, то мы добавляем в новый столбец эту категорию\n",
    "\n",
    "def lemmatize(text):\n",
    "    lemma = m.lemmatize(text)\n",
    "    for word in categories:\n",
    "        if word in lemma:\n",
    "            if (word == 'недвижимость') or (word == 'жилье'):\n",
    "                return 'Недвижимость'\n",
    "            elif word == 'автомобиль':\n",
    "                return 'Автомобиль'\n",
    "            elif word == 'образование':\n",
    "                return 'Образование'\n",
    "            elif word == 'операция':\n",
    "                return 'Операция'\n",
    "            elif word == 'свадьба':\n",
    "                return 'Свадьба'\n",
    "    return lemma\n",
    "\n",
    "df['purpose_group'] = df['credit_purpose'].apply(lemmatize)  "
   ]
  },
  {
   "cell_type": "markdown",
   "metadata": {},
   "source": [
    "Выведем датафрейм и посмотрим на получившиемся результаты. Так же выведем количество получившихся категорий."
   ]
  },
  {
   "cell_type": "code",
   "execution_count": 54,
   "metadata": {},
   "outputs": [
    {
     "data": {
      "text/html": [
       "<div>\n",
       "<style scoped>\n",
       "    .dataframe tbody tr th:only-of-type {\n",
       "        vertical-align: middle;\n",
       "    }\n",
       "\n",
       "    .dataframe tbody tr th {\n",
       "        vertical-align: top;\n",
       "    }\n",
       "\n",
       "    .dataframe thead th {\n",
       "        text-align: right;\n",
       "    }\n",
       "</style>\n",
       "<table border=\"1\" class=\"dataframe\">\n",
       "  <thead>\n",
       "    <tr style=\"text-align: right;\">\n",
       "      <th></th>\n",
       "      <th>number_of_children</th>\n",
       "      <th>days_employed</th>\n",
       "      <th>client_age</th>\n",
       "      <th>education</th>\n",
       "      <th>education_id</th>\n",
       "      <th>family_status</th>\n",
       "      <th>family_status_id</th>\n",
       "      <th>gender</th>\n",
       "      <th>employment_type</th>\n",
       "      <th>credit_debt</th>\n",
       "      <th>monthly_income</th>\n",
       "      <th>credit_purpose</th>\n",
       "      <th>age_group</th>\n",
       "      <th>purpose_group</th>\n",
       "    </tr>\n",
       "  </thead>\n",
       "  <tbody>\n",
       "    <tr>\n",
       "      <td>0</td>\n",
       "      <td>1</td>\n",
       "      <td>8437</td>\n",
       "      <td>42</td>\n",
       "      <td>высшее</td>\n",
       "      <td>0</td>\n",
       "      <td>женат / замужем</td>\n",
       "      <td>0</td>\n",
       "      <td>F</td>\n",
       "      <td>сотрудник</td>\n",
       "      <td>0</td>\n",
       "      <td>253875</td>\n",
       "      <td>покупка жилья</td>\n",
       "      <td>34-43</td>\n",
       "      <td>Недвижимость</td>\n",
       "    </tr>\n",
       "    <tr>\n",
       "      <td>1</td>\n",
       "      <td>1</td>\n",
       "      <td>4024</td>\n",
       "      <td>36</td>\n",
       "      <td>среднее</td>\n",
       "      <td>1</td>\n",
       "      <td>женат / замужем</td>\n",
       "      <td>0</td>\n",
       "      <td>F</td>\n",
       "      <td>сотрудник</td>\n",
       "      <td>0</td>\n",
       "      <td>112080</td>\n",
       "      <td>приобретение автомобиля</td>\n",
       "      <td>34-43</td>\n",
       "      <td>Автомобиль</td>\n",
       "    </tr>\n",
       "    <tr>\n",
       "      <td>2</td>\n",
       "      <td>0</td>\n",
       "      <td>5623</td>\n",
       "      <td>33</td>\n",
       "      <td>среднее</td>\n",
       "      <td>1</td>\n",
       "      <td>женат / замужем</td>\n",
       "      <td>0</td>\n",
       "      <td>M</td>\n",
       "      <td>сотрудник</td>\n",
       "      <td>0</td>\n",
       "      <td>145885</td>\n",
       "      <td>покупка жилья</td>\n",
       "      <td>до 34</td>\n",
       "      <td>Недвижимость</td>\n",
       "    </tr>\n",
       "    <tr>\n",
       "      <td>3</td>\n",
       "      <td>3</td>\n",
       "      <td>4124</td>\n",
       "      <td>32</td>\n",
       "      <td>среднее</td>\n",
       "      <td>1</td>\n",
       "      <td>женат / замужем</td>\n",
       "      <td>0</td>\n",
       "      <td>M</td>\n",
       "      <td>сотрудник</td>\n",
       "      <td>0</td>\n",
       "      <td>267628</td>\n",
       "      <td>дополнительное образование</td>\n",
       "      <td>до 34</td>\n",
       "      <td>Образование</td>\n",
       "    </tr>\n",
       "    <tr>\n",
       "      <td>4</td>\n",
       "      <td>0</td>\n",
       "      <td>2992</td>\n",
       "      <td>53</td>\n",
       "      <td>среднее</td>\n",
       "      <td>1</td>\n",
       "      <td>гражданский брак</td>\n",
       "      <td>1</td>\n",
       "      <td>F</td>\n",
       "      <td>пенсионер</td>\n",
       "      <td>0</td>\n",
       "      <td>158616</td>\n",
       "      <td>сыграть свадьбу</td>\n",
       "      <td>43-53</td>\n",
       "      <td>Свадьба</td>\n",
       "    </tr>\n",
       "    <tr>\n",
       "      <td>5</td>\n",
       "      <td>0</td>\n",
       "      <td>926</td>\n",
       "      <td>27</td>\n",
       "      <td>высшее</td>\n",
       "      <td>0</td>\n",
       "      <td>гражданский брак</td>\n",
       "      <td>1</td>\n",
       "      <td>M</td>\n",
       "      <td>компаньон</td>\n",
       "      <td>0</td>\n",
       "      <td>255763</td>\n",
       "      <td>покупка жилья</td>\n",
       "      <td>до 34</td>\n",
       "      <td>Недвижимость</td>\n",
       "    </tr>\n",
       "    <tr>\n",
       "      <td>6</td>\n",
       "      <td>0</td>\n",
       "      <td>2879</td>\n",
       "      <td>43</td>\n",
       "      <td>высшее</td>\n",
       "      <td>0</td>\n",
       "      <td>женат / замужем</td>\n",
       "      <td>0</td>\n",
       "      <td>F</td>\n",
       "      <td>компаньон</td>\n",
       "      <td>0</td>\n",
       "      <td>240525</td>\n",
       "      <td>операции с жильем</td>\n",
       "      <td>34-43</td>\n",
       "      <td>Недвижимость</td>\n",
       "    </tr>\n",
       "    <tr>\n",
       "      <td>7</td>\n",
       "      <td>0</td>\n",
       "      <td>152</td>\n",
       "      <td>50</td>\n",
       "      <td>среднее</td>\n",
       "      <td>1</td>\n",
       "      <td>женат / замужем</td>\n",
       "      <td>0</td>\n",
       "      <td>M</td>\n",
       "      <td>сотрудник</td>\n",
       "      <td>0</td>\n",
       "      <td>135823</td>\n",
       "      <td>образование</td>\n",
       "      <td>43-53</td>\n",
       "      <td>Образование</td>\n",
       "    </tr>\n",
       "    <tr>\n",
       "      <td>8</td>\n",
       "      <td>2</td>\n",
       "      <td>6929</td>\n",
       "      <td>35</td>\n",
       "      <td>высшее</td>\n",
       "      <td>0</td>\n",
       "      <td>гражданский брак</td>\n",
       "      <td>1</td>\n",
       "      <td>F</td>\n",
       "      <td>сотрудник</td>\n",
       "      <td>0</td>\n",
       "      <td>95856</td>\n",
       "      <td>на проведение свадьбы</td>\n",
       "      <td>34-43</td>\n",
       "      <td>Свадьба</td>\n",
       "    </tr>\n",
       "    <tr>\n",
       "      <td>9</td>\n",
       "      <td>0</td>\n",
       "      <td>2188</td>\n",
       "      <td>41</td>\n",
       "      <td>среднее</td>\n",
       "      <td>1</td>\n",
       "      <td>женат / замужем</td>\n",
       "      <td>0</td>\n",
       "      <td>M</td>\n",
       "      <td>сотрудник</td>\n",
       "      <td>0</td>\n",
       "      <td>144425</td>\n",
       "      <td>покупка жилья для семьи</td>\n",
       "      <td>34-43</td>\n",
       "      <td>Недвижимость</td>\n",
       "    </tr>\n",
       "  </tbody>\n",
       "</table>\n",
       "</div>"
      ],
      "text/plain": [
       "   number_of_children  days_employed  client_age education  education_id  \\\n",
       "0                   1           8437          42    высшее             0   \n",
       "1                   1           4024          36   среднее             1   \n",
       "2                   0           5623          33   среднее             1   \n",
       "3                   3           4124          32   среднее             1   \n",
       "4                   0           2992          53   среднее             1   \n",
       "5                   0            926          27    высшее             0   \n",
       "6                   0           2879          43    высшее             0   \n",
       "7                   0            152          50   среднее             1   \n",
       "8                   2           6929          35    высшее             0   \n",
       "9                   0           2188          41   среднее             1   \n",
       "\n",
       "      family_status  family_status_id gender employment_type  credit_debt  \\\n",
       "0   женат / замужем                 0      F       сотрудник            0   \n",
       "1   женат / замужем                 0      F       сотрудник            0   \n",
       "2   женат / замужем                 0      M       сотрудник            0   \n",
       "3   женат / замужем                 0      M       сотрудник            0   \n",
       "4  гражданский брак                 1      F       пенсионер            0   \n",
       "5  гражданский брак                 1      M       компаньон            0   \n",
       "6   женат / замужем                 0      F       компаньон            0   \n",
       "7   женат / замужем                 0      M       сотрудник            0   \n",
       "8  гражданский брак                 1      F       сотрудник            0   \n",
       "9   женат / замужем                 0      M       сотрудник            0   \n",
       "\n",
       "   monthly_income              credit_purpose age_group purpose_group  \n",
       "0          253875               покупка жилья     34-43  Недвижимость  \n",
       "1          112080     приобретение автомобиля     34-43    Автомобиль  \n",
       "2          145885               покупка жилья     до 34  Недвижимость  \n",
       "3          267628  дополнительное образование     до 34   Образование  \n",
       "4          158616             сыграть свадьбу     43-53       Свадьба  \n",
       "5          255763               покупка жилья     до 34  Недвижимость  \n",
       "6          240525           операции с жильем     34-43  Недвижимость  \n",
       "7          135823                 образование     43-53   Образование  \n",
       "8           95856       на проведение свадьбы     34-43       Свадьба  \n",
       "9          144425     покупка жилья для семьи     34-43  Недвижимость  "
      ]
     },
     "execution_count": 54,
     "metadata": {},
     "output_type": "execute_result"
    }
   ],
   "source": [
    "df.head(10)"
   ]
  },
  {
   "cell_type": "code",
   "execution_count": 55,
   "metadata": {},
   "outputs": [
    {
     "data": {
      "text/plain": [
       "Недвижимость    10810\n",
       "Автомобиль       4306\n",
       "Образование      4013\n",
       "Свадьба          2324\n",
       "Name: purpose_group, dtype: int64"
      ]
     },
     "execution_count": 55,
     "metadata": {},
     "output_type": "execute_result"
    }
   ],
   "source": [
    "df['purpose_group'].value_counts()"
   ]
  },
  {
   "cell_type": "markdown",
   "metadata": {
    "id": "GVJIX0lmpAFB"
   },
   "source": [
    "**Вывод**  \n",
    "После проведения лемматизации у нас получилось 4 основных цели для взятия кредита:\n",
    "* Покупка недвижимости\n",
    "* Покупка автомобиля\n",
    "* На образование\n",
    "* На свадьбу\n",
    "\n",
    "Из полученных данных можно сказать, что на покупку недвижимости люди чаще берут кредты."
   ]
  },
  {
   "cell_type": "markdown",
   "metadata": {
    "id": "iBPk7y4spAFB"
   },
   "source": [
    "### Категоризация данных"
   ]
  },
  {
   "cell_type": "markdown",
   "metadata": {
    "id": "MgRrZ7GVpAFC"
   },
   "source": [
    "Ранее мы уже созвавали два столбца с катеригориями, один по возрасту `age_group`, второй по цели кредита `purpose_group`. Необходимо создать еще одну категорию по доходам, для этого предлагаю воспользоваться квантилями. Я думаю, так будет правильней и понятней для разбивки дохода на группы. Выведем квантили и далее разобьем столбец с доходом на эти категории."
   ]
  },
  {
   "cell_type": "code",
   "execution_count": 56,
   "metadata": {},
   "outputs": [
    {
     "data": {
      "text/plain": [
       "0.25    107620.0\n",
       "0.50    142594.0\n",
       "0.75    195818.0\n",
       "Name: monthly_income, dtype: float64"
      ]
     },
     "execution_count": 56,
     "metadata": {},
     "output_type": "execute_result"
    }
   ],
   "source": [
    "df['monthly_income'].quantile([0.25, 0.50, 0.75])"
   ]
  },
  {
   "cell_type": "code",
   "execution_count": 57,
   "metadata": {},
   "outputs": [],
   "source": [
    "df['income_group'] = pd.qcut(df['monthly_income'], q=4, labels=['маленький доход', 'средний доход', 'большой доход', 'очень большой доход'])"
   ]
  },
  {
   "cell_type": "code",
   "execution_count": 58,
   "metadata": {},
   "outputs": [
    {
     "data": {
      "text/html": [
       "<div>\n",
       "<style scoped>\n",
       "    .dataframe tbody tr th:only-of-type {\n",
       "        vertical-align: middle;\n",
       "    }\n",
       "\n",
       "    .dataframe tbody tr th {\n",
       "        vertical-align: top;\n",
       "    }\n",
       "\n",
       "    .dataframe thead tr th {\n",
       "        text-align: left;\n",
       "    }\n",
       "\n",
       "    .dataframe thead tr:last-of-type th {\n",
       "        text-align: right;\n",
       "    }\n",
       "</style>\n",
       "<table border=\"1\" class=\"dataframe\">\n",
       "  <thead>\n",
       "    <tr>\n",
       "      <th></th>\n",
       "      <th>count</th>\n",
       "      <th>min</th>\n",
       "      <th>max</th>\n",
       "      <th>median</th>\n",
       "    </tr>\n",
       "    <tr>\n",
       "      <th></th>\n",
       "      <th>monthly_income</th>\n",
       "      <th>monthly_income</th>\n",
       "      <th>monthly_income</th>\n",
       "      <th>monthly_income</th>\n",
       "    </tr>\n",
       "    <tr>\n",
       "      <th>income_group</th>\n",
       "      <th></th>\n",
       "      <th></th>\n",
       "      <th></th>\n",
       "      <th></th>\n",
       "    </tr>\n",
       "  </thead>\n",
       "  <tbody>\n",
       "    <tr>\n",
       "      <td>маленький доход</td>\n",
       "      <td>5364</td>\n",
       "      <td>20667</td>\n",
       "      <td>107620</td>\n",
       "      <td>83881</td>\n",
       "    </tr>\n",
       "    <tr>\n",
       "      <td>средний доход</td>\n",
       "      <td>5479</td>\n",
       "      <td>107632</td>\n",
       "      <td>142594</td>\n",
       "      <td>128089</td>\n",
       "    </tr>\n",
       "    <tr>\n",
       "      <td>большой доход</td>\n",
       "      <td>5247</td>\n",
       "      <td>142595</td>\n",
       "      <td>195818</td>\n",
       "      <td>167170</td>\n",
       "    </tr>\n",
       "    <tr>\n",
       "      <td>очень большой доход</td>\n",
       "      <td>5363</td>\n",
       "      <td>195821</td>\n",
       "      <td>2265604</td>\n",
       "      <td>254303</td>\n",
       "    </tr>\n",
       "  </tbody>\n",
       "</table>\n",
       "</div>"
      ],
      "text/plain": [
       "                             count            min            max  \\\n",
       "                    monthly_income monthly_income monthly_income   \n",
       "income_group                                                       \n",
       "маленький доход               5364          20667         107620   \n",
       "средний доход                 5479         107632         142594   \n",
       "большой доход                 5247         142595         195818   \n",
       "очень большой доход           5363         195821        2265604   \n",
       "\n",
       "                            median  \n",
       "                    monthly_income  \n",
       "income_group                        \n",
       "маленький доход              83881  \n",
       "средний доход               128089  \n",
       "большой доход               167170  \n",
       "очень большой доход         254303  "
      ]
     },
     "execution_count": 58,
     "metadata": {},
     "output_type": "execute_result"
    }
   ],
   "source": [
    "df.pivot_table(index='income_group', values='monthly_income', aggfunc=['count', 'min', 'max', 'median'])"
   ]
  },
  {
   "cell_type": "markdown",
   "metadata": {},
   "source": [
    "Посмотрим на информацию о человеке с самым большим заработком."
   ]
  },
  {
   "cell_type": "code",
   "execution_count": 59,
   "metadata": {},
   "outputs": [
    {
     "data": {
      "text/html": [
       "<div>\n",
       "<style scoped>\n",
       "    .dataframe tbody tr th:only-of-type {\n",
       "        vertical-align: middle;\n",
       "    }\n",
       "\n",
       "    .dataframe tbody tr th {\n",
       "        vertical-align: top;\n",
       "    }\n",
       "\n",
       "    .dataframe thead th {\n",
       "        text-align: right;\n",
       "    }\n",
       "</style>\n",
       "<table border=\"1\" class=\"dataframe\">\n",
       "  <thead>\n",
       "    <tr style=\"text-align: right;\">\n",
       "      <th></th>\n",
       "      <th>number_of_children</th>\n",
       "      <th>days_employed</th>\n",
       "      <th>client_age</th>\n",
       "      <th>education</th>\n",
       "      <th>education_id</th>\n",
       "      <th>family_status</th>\n",
       "      <th>family_status_id</th>\n",
       "      <th>gender</th>\n",
       "      <th>employment_type</th>\n",
       "      <th>credit_debt</th>\n",
       "      <th>monthly_income</th>\n",
       "      <th>credit_purpose</th>\n",
       "      <th>age_group</th>\n",
       "      <th>purpose_group</th>\n",
       "      <th>income_group</th>\n",
       "    </tr>\n",
       "  </thead>\n",
       "  <tbody>\n",
       "    <tr>\n",
       "      <td>12412</td>\n",
       "      <td>0</td>\n",
       "      <td>1477</td>\n",
       "      <td>44</td>\n",
       "      <td>высшее</td>\n",
       "      <td>0</td>\n",
       "      <td>женат / замужем</td>\n",
       "      <td>0</td>\n",
       "      <td>M</td>\n",
       "      <td>компаньон</td>\n",
       "      <td>0</td>\n",
       "      <td>2265604</td>\n",
       "      <td>ремонт жилью</td>\n",
       "      <td>43-53</td>\n",
       "      <td>Недвижимость</td>\n",
       "      <td>очень большой доход</td>\n",
       "    </tr>\n",
       "  </tbody>\n",
       "</table>\n",
       "</div>"
      ],
      "text/plain": [
       "       number_of_children  days_employed  client_age education  education_id  \\\n",
       "12412                   0           1477          44    высшее             0   \n",
       "\n",
       "         family_status  family_status_id gender employment_type  credit_debt  \\\n",
       "12412  женат / замужем                 0      M       компаньон            0   \n",
       "\n",
       "       monthly_income credit_purpose age_group purpose_group  \\\n",
       "12412         2265604   ремонт жилью     43-53  Недвижимость   \n",
       "\n",
       "              income_group  \n",
       "12412  очень большой доход  "
      ]
     },
     "execution_count": 59,
     "metadata": {},
     "output_type": "execute_result"
    }
   ],
   "source": [
    "df[df['monthly_income']==2265604]"
   ]
  },
  {
   "cell_type": "markdown",
   "metadata": {},
   "source": [
    "Так же создадим столбец с категориями о том есть у клиента дети или нет. И посмотрим на получившийся результат."
   ]
  },
  {
   "cell_type": "code",
   "execution_count": 60,
   "metadata": {},
   "outputs": [],
   "source": [
    "def client_children(count):\n",
    "    if count > 0:\n",
    "        return 'Есть дети'\n",
    "    else:\n",
    "        return 'Нет детей'\n",
    "\n",
    "df['having_children'] = df['number_of_children'].apply(client_children)"
   ]
  },
  {
   "cell_type": "code",
   "execution_count": 61,
   "metadata": {},
   "outputs": [
    {
     "data": {
      "text/html": [
       "<div>\n",
       "<style scoped>\n",
       "    .dataframe tbody tr th:only-of-type {\n",
       "        vertical-align: middle;\n",
       "    }\n",
       "\n",
       "    .dataframe tbody tr th {\n",
       "        vertical-align: top;\n",
       "    }\n",
       "\n",
       "    .dataframe thead th {\n",
       "        text-align: right;\n",
       "    }\n",
       "</style>\n",
       "<table border=\"1\" class=\"dataframe\">\n",
       "  <thead>\n",
       "    <tr style=\"text-align: right;\">\n",
       "      <th></th>\n",
       "      <th>number_of_children</th>\n",
       "      <th>days_employed</th>\n",
       "      <th>client_age</th>\n",
       "      <th>education</th>\n",
       "      <th>education_id</th>\n",
       "      <th>family_status</th>\n",
       "      <th>family_status_id</th>\n",
       "      <th>gender</th>\n",
       "      <th>employment_type</th>\n",
       "      <th>credit_debt</th>\n",
       "      <th>monthly_income</th>\n",
       "      <th>credit_purpose</th>\n",
       "      <th>age_group</th>\n",
       "      <th>purpose_group</th>\n",
       "      <th>income_group</th>\n",
       "      <th>having_children</th>\n",
       "    </tr>\n",
       "  </thead>\n",
       "  <tbody>\n",
       "    <tr>\n",
       "      <td>0</td>\n",
       "      <td>1</td>\n",
       "      <td>8437</td>\n",
       "      <td>42</td>\n",
       "      <td>высшее</td>\n",
       "      <td>0</td>\n",
       "      <td>женат / замужем</td>\n",
       "      <td>0</td>\n",
       "      <td>F</td>\n",
       "      <td>сотрудник</td>\n",
       "      <td>0</td>\n",
       "      <td>253875</td>\n",
       "      <td>покупка жилья</td>\n",
       "      <td>34-43</td>\n",
       "      <td>Недвижимость</td>\n",
       "      <td>очень большой доход</td>\n",
       "      <td>Есть дети</td>\n",
       "    </tr>\n",
       "    <tr>\n",
       "      <td>1</td>\n",
       "      <td>1</td>\n",
       "      <td>4024</td>\n",
       "      <td>36</td>\n",
       "      <td>среднее</td>\n",
       "      <td>1</td>\n",
       "      <td>женат / замужем</td>\n",
       "      <td>0</td>\n",
       "      <td>F</td>\n",
       "      <td>сотрудник</td>\n",
       "      <td>0</td>\n",
       "      <td>112080</td>\n",
       "      <td>приобретение автомобиля</td>\n",
       "      <td>34-43</td>\n",
       "      <td>Автомобиль</td>\n",
       "      <td>средний доход</td>\n",
       "      <td>Есть дети</td>\n",
       "    </tr>\n",
       "    <tr>\n",
       "      <td>2</td>\n",
       "      <td>0</td>\n",
       "      <td>5623</td>\n",
       "      <td>33</td>\n",
       "      <td>среднее</td>\n",
       "      <td>1</td>\n",
       "      <td>женат / замужем</td>\n",
       "      <td>0</td>\n",
       "      <td>M</td>\n",
       "      <td>сотрудник</td>\n",
       "      <td>0</td>\n",
       "      <td>145885</td>\n",
       "      <td>покупка жилья</td>\n",
       "      <td>до 34</td>\n",
       "      <td>Недвижимость</td>\n",
       "      <td>большой доход</td>\n",
       "      <td>Нет детей</td>\n",
       "    </tr>\n",
       "    <tr>\n",
       "      <td>3</td>\n",
       "      <td>3</td>\n",
       "      <td>4124</td>\n",
       "      <td>32</td>\n",
       "      <td>среднее</td>\n",
       "      <td>1</td>\n",
       "      <td>женат / замужем</td>\n",
       "      <td>0</td>\n",
       "      <td>M</td>\n",
       "      <td>сотрудник</td>\n",
       "      <td>0</td>\n",
       "      <td>267628</td>\n",
       "      <td>дополнительное образование</td>\n",
       "      <td>до 34</td>\n",
       "      <td>Образование</td>\n",
       "      <td>очень большой доход</td>\n",
       "      <td>Есть дети</td>\n",
       "    </tr>\n",
       "    <tr>\n",
       "      <td>4</td>\n",
       "      <td>0</td>\n",
       "      <td>2992</td>\n",
       "      <td>53</td>\n",
       "      <td>среднее</td>\n",
       "      <td>1</td>\n",
       "      <td>гражданский брак</td>\n",
       "      <td>1</td>\n",
       "      <td>F</td>\n",
       "      <td>пенсионер</td>\n",
       "      <td>0</td>\n",
       "      <td>158616</td>\n",
       "      <td>сыграть свадьбу</td>\n",
       "      <td>43-53</td>\n",
       "      <td>Свадьба</td>\n",
       "      <td>большой доход</td>\n",
       "      <td>Нет детей</td>\n",
       "    </tr>\n",
       "  </tbody>\n",
       "</table>\n",
       "</div>"
      ],
      "text/plain": [
       "   number_of_children  days_employed  client_age education  education_id  \\\n",
       "0                   1           8437          42    высшее             0   \n",
       "1                   1           4024          36   среднее             1   \n",
       "2                   0           5623          33   среднее             1   \n",
       "3                   3           4124          32   среднее             1   \n",
       "4                   0           2992          53   среднее             1   \n",
       "\n",
       "      family_status  family_status_id gender employment_type  credit_debt  \\\n",
       "0   женат / замужем                 0      F       сотрудник            0   \n",
       "1   женат / замужем                 0      F       сотрудник            0   \n",
       "2   женат / замужем                 0      M       сотрудник            0   \n",
       "3   женат / замужем                 0      M       сотрудник            0   \n",
       "4  гражданский брак                 1      F       пенсионер            0   \n",
       "\n",
       "   monthly_income              credit_purpose age_group purpose_group  \\\n",
       "0          253875               покупка жилья     34-43  Недвижимость   \n",
       "1          112080     приобретение автомобиля     34-43    Автомобиль   \n",
       "2          145885               покупка жилья     до 34  Недвижимость   \n",
       "3          267628  дополнительное образование     до 34   Образование   \n",
       "4          158616             сыграть свадьбу     43-53       Свадьба   \n",
       "\n",
       "          income_group having_children  \n",
       "0  очень большой доход       Есть дети  \n",
       "1        средний доход       Есть дети  \n",
       "2        большой доход       Нет детей  \n",
       "3  очень большой доход       Есть дети  \n",
       "4        большой доход       Нет детей  "
      ]
     },
     "execution_count": 61,
     "metadata": {},
     "output_type": "execute_result"
    }
   ],
   "source": [
    "df.head()"
   ]
  },
  {
   "cell_type": "markdown",
   "metadata": {
    "id": "SU8LiCtmpAFC"
   },
   "source": [
    "**Вывод**  \n",
    "\n",
    "Мы сделали еще один столбец `income_group` для разбивки клиентов по категориям доходов. Для разбивки использовали квантили и получили 4 группы:\n",
    "* маленький доход\t\n",
    "* средний доход\n",
    "* большой доход\n",
    "* очень большой доход \n",
    "\n",
    "Из полученных значений видно, что максимальные значения в группах соответсвтуют нашим квантилям.  \n",
    "В группе с очень большим доходом есть человек с доходом который в разы отличается от медианного значения по этой группе, возможно это выброс.  \n",
    "\n",
    "Так же мы создали столбец для разбивки клиентов по наличию детей."
   ]
  },
  {
   "cell_type": "markdown",
   "metadata": {
    "id": "y8xJaPTepAFD"
   },
   "source": [
    "## Ответьте на вопросы"
   ]
  },
  {
   "cell_type": "markdown",
   "metadata": {
    "id": "L7GxeS6WpAFD"
   },
   "source": [
    "- Есть ли зависимость между наличием детей и возвратом кредита в срок?"
   ]
  },
  {
   "cell_type": "code",
   "execution_count": 62,
   "metadata": {
    "id": "zD4iH6dzpAFD"
   },
   "outputs": [
    {
     "data": {
      "text/html": [
       "<div>\n",
       "<style scoped>\n",
       "    .dataframe tbody tr th:only-of-type {\n",
       "        vertical-align: middle;\n",
       "    }\n",
       "\n",
       "    .dataframe tbody tr th {\n",
       "        vertical-align: top;\n",
       "    }\n",
       "\n",
       "    .dataframe thead tr th {\n",
       "        text-align: left;\n",
       "    }\n",
       "\n",
       "    .dataframe thead tr:last-of-type th {\n",
       "        text-align: right;\n",
       "    }\n",
       "</style>\n",
       "<table border=\"1\" class=\"dataframe\">\n",
       "  <thead>\n",
       "    <tr>\n",
       "      <th></th>\n",
       "      <th>count</th>\n",
       "      <th>sum</th>\n",
       "      <th>mean</th>\n",
       "    </tr>\n",
       "    <tr>\n",
       "      <th></th>\n",
       "      <th>credit_debt</th>\n",
       "      <th>credit_debt</th>\n",
       "      <th>credit_debt</th>\n",
       "    </tr>\n",
       "    <tr>\n",
       "      <th>having_children</th>\n",
       "      <th></th>\n",
       "      <th></th>\n",
       "      <th></th>\n",
       "    </tr>\n",
       "  </thead>\n",
       "  <tbody>\n",
       "    <tr>\n",
       "      <td>Есть дети</td>\n",
       "      <td>7363</td>\n",
       "      <td>678</td>\n",
       "      <td>0.092082</td>\n",
       "    </tr>\n",
       "    <tr>\n",
       "      <td>Нет детей</td>\n",
       "      <td>14090</td>\n",
       "      <td>1063</td>\n",
       "      <td>0.075444</td>\n",
       "    </tr>\n",
       "  </tbody>\n",
       "</table>\n",
       "</div>"
      ],
      "text/plain": [
       "                      count         sum        mean\n",
       "                credit_debt credit_debt credit_debt\n",
       "having_children                                    \n",
       "Есть дети              7363         678    0.092082\n",
       "Нет детей             14090        1063    0.075444"
      ]
     },
     "execution_count": 62,
     "metadata": {},
     "output_type": "execute_result"
    }
   ],
   "source": [
    "df.pivot_table(index='having_children', values='credit_debt', aggfunc=['count', 'sum', 'mean'])"
   ]
  },
  {
   "cell_type": "markdown",
   "metadata": {
    "id": "MR15OlxnpAFE"
   },
   "source": [
    "**Вывод**  \n",
    " \n",
    "Из полученых результатов мы видим, что количество людей без детей составляет 14091 человек, из которых у 7.5% есть просрочка по кредиту. Люди с детьми почти в 2 раза реже берут кредиты, но при этом доля людей с просрочкой по кредиту составляет уже 9.2%.\n",
    "При соотношении резульатов, можно сделать вывод, что люди с детьми реже возращают кредит в срок."
   ]
  },
  {
   "cell_type": "markdown",
   "metadata": {
    "id": "VJRkypW9pAFE"
   },
   "source": [
    "- Есть ли зависимость между семейным положением и возвратом кредита в срок?"
   ]
  },
  {
   "cell_type": "code",
   "execution_count": 63,
   "metadata": {
    "id": "rJ6q33cEpAFE"
   },
   "outputs": [
    {
     "data": {
      "text/html": [
       "<div>\n",
       "<style scoped>\n",
       "    .dataframe tbody tr th:only-of-type {\n",
       "        vertical-align: middle;\n",
       "    }\n",
       "\n",
       "    .dataframe tbody tr th {\n",
       "        vertical-align: top;\n",
       "    }\n",
       "\n",
       "    .dataframe thead tr th {\n",
       "        text-align: left;\n",
       "    }\n",
       "\n",
       "    .dataframe thead tr:last-of-type th {\n",
       "        text-align: right;\n",
       "    }\n",
       "</style>\n",
       "<table border=\"1\" class=\"dataframe\">\n",
       "  <thead>\n",
       "    <tr>\n",
       "      <th></th>\n",
       "      <th>count</th>\n",
       "      <th>sum</th>\n",
       "      <th>mean</th>\n",
       "    </tr>\n",
       "    <tr>\n",
       "      <th></th>\n",
       "      <th>credit_debt</th>\n",
       "      <th>credit_debt</th>\n",
       "      <th>credit_debt</th>\n",
       "    </tr>\n",
       "    <tr>\n",
       "      <th>family_status</th>\n",
       "      <th></th>\n",
       "      <th></th>\n",
       "      <th></th>\n",
       "    </tr>\n",
       "  </thead>\n",
       "  <tbody>\n",
       "    <tr>\n",
       "      <td>Не женат / не замужем</td>\n",
       "      <td>2810</td>\n",
       "      <td>274</td>\n",
       "      <td>0.097509</td>\n",
       "    </tr>\n",
       "    <tr>\n",
       "      <td>гражданский брак</td>\n",
       "      <td>4150</td>\n",
       "      <td>388</td>\n",
       "      <td>0.093494</td>\n",
       "    </tr>\n",
       "    <tr>\n",
       "      <td>женат / замужем</td>\n",
       "      <td>12339</td>\n",
       "      <td>931</td>\n",
       "      <td>0.075452</td>\n",
       "    </tr>\n",
       "    <tr>\n",
       "      <td>в разводе</td>\n",
       "      <td>1195</td>\n",
       "      <td>85</td>\n",
       "      <td>0.071130</td>\n",
       "    </tr>\n",
       "    <tr>\n",
       "      <td>вдовец / вдова</td>\n",
       "      <td>959</td>\n",
       "      <td>63</td>\n",
       "      <td>0.065693</td>\n",
       "    </tr>\n",
       "  </tbody>\n",
       "</table>\n",
       "</div>"
      ],
      "text/plain": [
       "                            count         sum        mean\n",
       "                      credit_debt credit_debt credit_debt\n",
       "family_status                                            \n",
       "Не женат / не замужем        2810         274    0.097509\n",
       "гражданский брак             4150         388    0.093494\n",
       "женат / замужем             12339         931    0.075452\n",
       "в разводе                    1195          85    0.071130\n",
       "вдовец / вдова                959          63    0.065693"
      ]
     },
     "execution_count": 63,
     "metadata": {},
     "output_type": "execute_result"
    }
   ],
   "source": [
    "df.pivot_table(index='family_status', values='credit_debt', aggfunc=['count', 'sum', 'mean']).sort_values(('mean','credit_debt'), ascending=False)"
   ]
  },
  {
   "cell_type": "markdown",
   "metadata": {
    "id": "DtA7jgCWpAFF"
   },
   "source": [
    "**Вывод**  \n",
    "\n",
    "Из таблицы видно, что люди относящиеся с категории \"женат/замужем\" в несколько раз чаще берут кредиты, у нас их 12339 человек. Скорее всего это связано с покупкой квартиры для расширения жилой площади, но при этом доля просроченных кредитов у них составляет 7.5%, что выше чем у категории \"в разводе\" с 1195 людьми и просрочкой 7.1% и выше чем у категории \"вдовец/вдова\" с 959 людьми и просрочкой 6.6%. \n",
    "Так же стоит обратить внимание, что категория \"Не женат/не замужем\" состоящая из 2810 человек имеет самый высокий процент по просрочке - 9.8%, скорее всего это связано с тем, что человеку без пары сложнее выплачивать кредит, но при этом есть категория \"гражданский брак\" в которой 4151 и просрочка в ней составляет 9.3%, что почти на 2% выше чем у категории \"женат/замужем\".  \n",
    "Можно сделать вывод, что одинокие люди реже берут кредит и у них чаще бывает просрочка по кредиты, но если человек ранее был \"женат/замужем\", то процент просрочки снижается, видимо это связано, что осталось наследство от второй половинки.  \n",
    "Люди имеющие второю половинку намного чаще берут кредиты и люди находящиеся в официальном браке намного чаще платят в срок, видимо это говорит о серьезности пары."
   ]
  },
  {
   "cell_type": "markdown",
   "metadata": {
    "id": "gtMNsYQ2pAFF"
   },
   "source": [
    "- Есть ли зависимость между уровнем дохода и возвратом кредита в срок?"
   ]
  },
  {
   "cell_type": "code",
   "execution_count": 64,
   "metadata": {
    "id": "2Klm11zYpAFF"
   },
   "outputs": [
    {
     "data": {
      "text/html": [
       "<div>\n",
       "<style scoped>\n",
       "    .dataframe tbody tr th:only-of-type {\n",
       "        vertical-align: middle;\n",
       "    }\n",
       "\n",
       "    .dataframe tbody tr th {\n",
       "        vertical-align: top;\n",
       "    }\n",
       "\n",
       "    .dataframe thead tr th {\n",
       "        text-align: left;\n",
       "    }\n",
       "\n",
       "    .dataframe thead tr:last-of-type th {\n",
       "        text-align: right;\n",
       "    }\n",
       "</style>\n",
       "<table border=\"1\" class=\"dataframe\">\n",
       "  <thead>\n",
       "    <tr>\n",
       "      <th></th>\n",
       "      <th>count</th>\n",
       "      <th>sum</th>\n",
       "      <th>mean</th>\n",
       "    </tr>\n",
       "    <tr>\n",
       "      <th></th>\n",
       "      <th>credit_debt</th>\n",
       "      <th>credit_debt</th>\n",
       "      <th>credit_debt</th>\n",
       "    </tr>\n",
       "    <tr>\n",
       "      <th>income_group</th>\n",
       "      <th></th>\n",
       "      <th></th>\n",
       "      <th></th>\n",
       "    </tr>\n",
       "  </thead>\n",
       "  <tbody>\n",
       "    <tr>\n",
       "      <td>средний доход</td>\n",
       "      <td>5479</td>\n",
       "      <td>483</td>\n",
       "      <td>0.088155</td>\n",
       "    </tr>\n",
       "    <tr>\n",
       "      <td>большой доход</td>\n",
       "      <td>5247</td>\n",
       "      <td>448</td>\n",
       "      <td>0.085382</td>\n",
       "    </tr>\n",
       "    <tr>\n",
       "      <td>маленький доход</td>\n",
       "      <td>5364</td>\n",
       "      <td>427</td>\n",
       "      <td>0.079605</td>\n",
       "    </tr>\n",
       "    <tr>\n",
       "      <td>очень большой доход</td>\n",
       "      <td>5363</td>\n",
       "      <td>383</td>\n",
       "      <td>0.071415</td>\n",
       "    </tr>\n",
       "  </tbody>\n",
       "</table>\n",
       "</div>"
      ],
      "text/plain": [
       "                          count         sum        mean\n",
       "                    credit_debt credit_debt credit_debt\n",
       "income_group                                           \n",
       "средний доход              5479         483    0.088155\n",
       "большой доход              5247         448    0.085382\n",
       "маленький доход            5364         427    0.079605\n",
       "очень большой доход        5363         383    0.071415"
      ]
     },
     "execution_count": 64,
     "metadata": {},
     "output_type": "execute_result"
    }
   ],
   "source": [
    "df.pivot_table(index='income_group', values='credit_debt', aggfunc=['count', 'sum', 'mean']).sort_values(('mean','credit_debt'), ascending=False)"
   ]
  },
  {
   "cell_type": "markdown",
   "metadata": {
    "id": "ebrLFUfqpAFG"
   },
   "source": [
    "**Вывод**  \n",
    "\n",
    "Из таблицы видно, что в каждой категории примерно одинаковое количество человек которое берет кредиты - чуть выше 5000 человек.  \n",
    "На удивление, люди с маленьким доходом платят лучше чем люди с большим и средним доходом, доля просрочки людей с маленьким доходом составляет 8%, по большим 8.5%, а по средним 8.8%.  \n",
    "Люди с очень большим доходом платят лучше всех, у них доля просрочки составляет всего 7.1%.  \n",
    "Я думаю, что люди с меньшим доходом привыкли контролировать свой бюджет, поэтому они страются закрывать все вовремя."
   ]
  },
  {
   "cell_type": "markdown",
   "metadata": {
    "id": "GqZGNQtLpAFG"
   },
   "source": [
    "- Как разные цели кредита влияют на его возврат в срок?"
   ]
  },
  {
   "cell_type": "code",
   "execution_count": 65,
   "metadata": {
    "id": "ohTP-nI0pAFG"
   },
   "outputs": [
    {
     "data": {
      "text/html": [
       "<div>\n",
       "<style scoped>\n",
       "    .dataframe tbody tr th:only-of-type {\n",
       "        vertical-align: middle;\n",
       "    }\n",
       "\n",
       "    .dataframe tbody tr th {\n",
       "        vertical-align: top;\n",
       "    }\n",
       "\n",
       "    .dataframe thead tr th {\n",
       "        text-align: left;\n",
       "    }\n",
       "\n",
       "    .dataframe thead tr:last-of-type th {\n",
       "        text-align: right;\n",
       "    }\n",
       "</style>\n",
       "<table border=\"1\" class=\"dataframe\">\n",
       "  <thead>\n",
       "    <tr>\n",
       "      <th></th>\n",
       "      <th>count</th>\n",
       "      <th>sum</th>\n",
       "      <th>mean</th>\n",
       "    </tr>\n",
       "    <tr>\n",
       "      <th></th>\n",
       "      <th>credit_debt</th>\n",
       "      <th>credit_debt</th>\n",
       "      <th>credit_debt</th>\n",
       "    </tr>\n",
       "    <tr>\n",
       "      <th>purpose_group</th>\n",
       "      <th></th>\n",
       "      <th></th>\n",
       "      <th></th>\n",
       "    </tr>\n",
       "  </thead>\n",
       "  <tbody>\n",
       "    <tr>\n",
       "      <td>Автомобиль</td>\n",
       "      <td>4306</td>\n",
       "      <td>403</td>\n",
       "      <td>0.093590</td>\n",
       "    </tr>\n",
       "    <tr>\n",
       "      <td>Образование</td>\n",
       "      <td>4013</td>\n",
       "      <td>370</td>\n",
       "      <td>0.092200</td>\n",
       "    </tr>\n",
       "    <tr>\n",
       "      <td>Свадьба</td>\n",
       "      <td>2324</td>\n",
       "      <td>186</td>\n",
       "      <td>0.080034</td>\n",
       "    </tr>\n",
       "    <tr>\n",
       "      <td>Недвижимость</td>\n",
       "      <td>10810</td>\n",
       "      <td>782</td>\n",
       "      <td>0.072340</td>\n",
       "    </tr>\n",
       "  </tbody>\n",
       "</table>\n",
       "</div>"
      ],
      "text/plain": [
       "                    count         sum        mean\n",
       "              credit_debt credit_debt credit_debt\n",
       "purpose_group                                    \n",
       "Автомобиль           4306         403    0.093590\n",
       "Образование          4013         370    0.092200\n",
       "Свадьба              2324         186    0.080034\n",
       "Недвижимость        10810         782    0.072340"
      ]
     },
     "execution_count": 65,
     "metadata": {},
     "output_type": "execute_result"
    }
   ],
   "source": [
    "df.pivot_table(index='purpose_group', values='credit_debt', aggfunc=['count', 'sum', 'mean']).sort_values(('mean','credit_debt'), ascending=False)"
   ]
  },
  {
   "cell_type": "markdown",
   "metadata": {
    "id": "agb1jGLOpAFG"
   },
   "source": [
    "**Вывод**  \n",
    "\n",
    "Из таблицы видно, что самая популярная категория это \"недвижимость\", к ней относятся 10811 человек. В это группе самый низкий процент просрочки по кредитам 7.2%, видимо люди ответственно подходят к покупке недвижимости.\n",
    "Категория \"автомобиль\" является самой просрачиваемой, в ней 4306 человек и доля просроченных кредитов составляет 9.4%. Видимо покупка автомобиля несет за собой дополнительные финансовые растраты: заправка, починка и т.д.\n",
    "Так же категория \"образование\" имеет достаточно высокий процент просроченных кредитов, в этой категории 4013 и доля просрочки составляет 9.2%. Скорее всего, это связано с тем, что люди не могут совмещать работу с учебой и получать достаточно денег для погашения кредита.  \n",
    "К категории \"свадьба\" относятся 2324 и доля просроченных кредитов в ней 8%, это ниже более чем на 1% чем у категорий \"автомобиль\" и \"образование\", хотя количество человек в почти в 2 раза меньше."
   ]
  },
  {
   "cell_type": "markdown",
   "metadata": {
    "id": "3OH2D6JgpAFH"
   },
   "source": [
    "## Общий вывод"
   ]
  },
  {
   "cell_type": "markdown",
   "metadata": {
    "id": "FhrmHwKQpAFH"
   },
   "source": [
    "Из полученных данных можно составить портрет идеального клиента для банка - это человек находящйся в браке, без детей и с очень высоким уровнем дохода. Скорее всего это связано с тем, что у человека есть вторая половинка, которая может помогать финансово, нет лишних затрат на содержание ребенка и при этом у него высокий уровень дохода что дает некую гарантию."
   ]
  }
 ],
 "metadata": {
  "ExecuteTimeLog": [
   {
    "duration": 832,
    "start_time": "2021-12-04T08:05:39.798Z"
   },
   {
    "duration": 1929,
    "start_time": "2021-12-04T08:05:40.632Z"
   },
   {
    "duration": -66,
    "start_time": "2021-12-04T08:05:42.631Z"
   },
   {
    "duration": -67,
    "start_time": "2021-12-04T08:05:42.633Z"
   },
   {
    "duration": -68,
    "start_time": "2021-12-04T08:05:42.635Z"
   },
   {
    "duration": -69,
    "start_time": "2021-12-04T08:05:42.637Z"
   },
   {
    "duration": -70,
    "start_time": "2021-12-04T08:05:42.639Z"
   },
   {
    "duration": -70,
    "start_time": "2021-12-04T08:05:42.641Z"
   },
   {
    "duration": -71,
    "start_time": "2021-12-04T08:05:42.643Z"
   },
   {
    "duration": -72,
    "start_time": "2021-12-04T08:05:42.645Z"
   },
   {
    "duration": -73,
    "start_time": "2021-12-04T08:05:42.647Z"
   },
   {
    "duration": -73,
    "start_time": "2021-12-04T08:05:42.648Z"
   },
   {
    "duration": -74,
    "start_time": "2021-12-04T08:05:42.650Z"
   },
   {
    "duration": -75,
    "start_time": "2021-12-04T08:05:42.652Z"
   },
   {
    "duration": -75,
    "start_time": "2021-12-04T08:05:42.653Z"
   },
   {
    "duration": -79,
    "start_time": "2021-12-04T08:05:42.658Z"
   },
   {
    "duration": -80,
    "start_time": "2021-12-04T08:05:42.660Z"
   },
   {
    "duration": -80,
    "start_time": "2021-12-04T08:05:42.661Z"
   },
   {
    "duration": -81,
    "start_time": "2021-12-04T08:05:42.663Z"
   },
   {
    "duration": -81,
    "start_time": "2021-12-04T08:05:42.664Z"
   },
   {
    "duration": -82,
    "start_time": "2021-12-04T08:05:42.666Z"
   },
   {
    "duration": -82,
    "start_time": "2021-12-04T08:05:42.667Z"
   },
   {
    "duration": -83,
    "start_time": "2021-12-04T08:05:42.669Z"
   },
   {
    "duration": -84,
    "start_time": "2021-12-04T08:05:42.671Z"
   },
   {
    "duration": -86,
    "start_time": "2021-12-04T08:05:42.673Z"
   },
   {
    "duration": -86,
    "start_time": "2021-12-04T08:05:42.675Z"
   },
   {
    "duration": -87,
    "start_time": "2021-12-04T08:05:42.677Z"
   },
   {
    "duration": -88,
    "start_time": "2021-12-04T08:05:42.679Z"
   },
   {
    "duration": -94,
    "start_time": "2021-12-04T08:05:42.685Z"
   },
   {
    "duration": -95,
    "start_time": "2021-12-04T08:05:42.687Z"
   },
   {
    "duration": -96,
    "start_time": "2021-12-04T08:05:42.689Z"
   },
   {
    "duration": -98,
    "start_time": "2021-12-04T08:05:42.692Z"
   },
   {
    "duration": -99,
    "start_time": "2021-12-04T08:05:42.694Z"
   },
   {
    "duration": -100,
    "start_time": "2021-12-04T08:05:42.695Z"
   },
   {
    "duration": -121,
    "start_time": "2021-12-04T08:05:42.717Z"
   },
   {
    "duration": -121,
    "start_time": "2021-12-04T08:05:42.718Z"
   },
   {
    "duration": -122,
    "start_time": "2021-12-04T08:05:42.720Z"
   },
   {
    "duration": -125,
    "start_time": "2021-12-04T08:05:42.724Z"
   },
   {
    "duration": -126,
    "start_time": "2021-12-04T08:05:42.726Z"
   },
   {
    "duration": -127,
    "start_time": "2021-12-04T08:05:42.728Z"
   },
   {
    "duration": -127,
    "start_time": "2021-12-04T08:05:42.729Z"
   },
   {
    "duration": -128,
    "start_time": "2021-12-04T08:05:42.731Z"
   },
   {
    "duration": -129,
    "start_time": "2021-12-04T08:05:42.733Z"
   },
   {
    "duration": -129,
    "start_time": "2021-12-04T08:05:42.734Z"
   },
   {
    "duration": -136,
    "start_time": "2021-12-04T08:05:42.742Z"
   },
   {
    "duration": -80,
    "start_time": "2021-12-04T08:05:42.744Z"
   },
   {
    "duration": -86,
    "start_time": "2021-12-04T08:05:42.751Z"
   },
   {
    "duration": -86,
    "start_time": "2021-12-04T08:05:42.752Z"
   },
   {
    "duration": -87,
    "start_time": "2021-12-04T08:05:42.754Z"
   },
   {
    "duration": -93,
    "start_time": "2021-12-04T08:05:42.761Z"
   },
   {
    "duration": -113,
    "start_time": "2021-12-04T08:05:42.782Z"
   },
   {
    "duration": -125,
    "start_time": "2021-12-04T08:05:42.795Z"
   },
   {
    "duration": -126,
    "start_time": "2021-12-04T08:05:42.797Z"
   },
   {
    "duration": -126,
    "start_time": "2021-12-04T08:05:42.798Z"
   },
   {
    "duration": -127,
    "start_time": "2021-12-04T08:05:42.800Z"
   },
   {
    "duration": -127,
    "start_time": "2021-12-04T08:05:42.801Z"
   },
   {
    "duration": -128,
    "start_time": "2021-12-04T08:05:42.803Z"
   },
   {
    "duration": -129,
    "start_time": "2021-12-04T08:05:42.805Z"
   },
   {
    "duration": -130,
    "start_time": "2021-12-04T08:05:42.807Z"
   },
   {
    "duration": -130,
    "start_time": "2021-12-04T08:05:42.808Z"
   },
   {
    "duration": -131,
    "start_time": "2021-12-04T08:05:42.810Z"
   },
   {
    "duration": -132,
    "start_time": "2021-12-04T08:05:42.812Z"
   },
   {
    "duration": -132,
    "start_time": "2021-12-04T08:05:42.813Z"
   },
   {
    "duration": -134,
    "start_time": "2021-12-04T08:05:42.816Z"
   },
   {
    "duration": -139,
    "start_time": "2021-12-04T08:05:42.821Z"
   },
   {
    "duration": 593,
    "start_time": "2021-12-04T08:18:50.425Z"
   },
   {
    "duration": 53,
    "start_time": "2021-12-04T08:18:51.020Z"
   },
   {
    "duration": 19,
    "start_time": "2021-12-04T08:18:51.076Z"
   },
   {
    "duration": 11,
    "start_time": "2021-12-04T08:18:51.097Z"
   },
   {
    "duration": 9,
    "start_time": "2021-12-04T08:18:51.110Z"
   },
   {
    "duration": 4,
    "start_time": "2021-12-04T08:18:51.121Z"
   },
   {
    "duration": 60,
    "start_time": "2021-12-04T08:18:51.127Z"
   },
   {
    "duration": 4,
    "start_time": "2021-12-04T08:18:51.190Z"
   },
   {
    "duration": 10,
    "start_time": "2021-12-04T08:18:51.196Z"
   },
   {
    "duration": 5,
    "start_time": "2021-12-04T08:18:51.207Z"
   },
   {
    "duration": 15,
    "start_time": "2021-12-04T08:18:51.213Z"
   },
   {
    "duration": 7,
    "start_time": "2021-12-04T08:18:51.229Z"
   },
   {
    "duration": 26,
    "start_time": "2021-12-04T08:18:51.238Z"
   },
   {
    "duration": 17,
    "start_time": "2021-12-04T08:18:51.266Z"
   },
   {
    "duration": 39,
    "start_time": "2021-12-04T08:18:51.285Z"
   },
   {
    "duration": 11,
    "start_time": "2021-12-04T08:18:51.326Z"
   },
   {
    "duration": 51,
    "start_time": "2021-12-04T08:18:51.339Z"
   },
   {
    "duration": 34,
    "start_time": "2021-12-04T08:18:51.391Z"
   },
   {
    "duration": 6,
    "start_time": "2021-12-04T08:18:51.426Z"
   },
   {
    "duration": 34,
    "start_time": "2021-12-04T08:18:51.433Z"
   },
   {
    "duration": 7,
    "start_time": "2021-12-04T08:18:51.468Z"
   },
   {
    "duration": 22,
    "start_time": "2021-12-04T08:18:51.477Z"
   },
   {
    "duration": 76,
    "start_time": "2021-12-04T08:18:51.503Z"
   },
   {
    "duration": 10,
    "start_time": "2021-12-04T08:18:51.581Z"
   },
   {
    "duration": 16,
    "start_time": "2021-12-04T08:18:51.592Z"
   },
   {
    "duration": 30,
    "start_time": "2021-12-04T08:18:51.609Z"
   },
   {
    "duration": 36,
    "start_time": "2021-12-04T08:18:51.640Z"
   },
   {
    "duration": 7,
    "start_time": "2021-12-04T08:18:51.678Z"
   },
   {
    "duration": 44,
    "start_time": "2021-12-04T08:18:51.686Z"
   },
   {
    "duration": 39,
    "start_time": "2021-12-04T08:18:51.731Z"
   },
   {
    "duration": 9,
    "start_time": "2021-12-04T08:18:51.772Z"
   },
   {
    "duration": 7,
    "start_time": "2021-12-04T08:18:51.783Z"
   },
   {
    "duration": 6,
    "start_time": "2021-12-04T08:18:51.792Z"
   },
   {
    "duration": 8,
    "start_time": "2021-12-04T08:18:51.800Z"
   },
   {
    "duration": 11,
    "start_time": "2021-12-04T08:18:51.810Z"
   },
   {
    "duration": 5,
    "start_time": "2021-12-04T08:18:51.823Z"
   },
   {
    "duration": 40,
    "start_time": "2021-12-04T08:18:51.830Z"
   },
   {
    "duration": 39,
    "start_time": "2021-12-04T08:18:51.872Z"
   },
   {
    "duration": 11,
    "start_time": "2021-12-04T08:18:51.912Z"
   },
   {
    "duration": 5,
    "start_time": "2021-12-04T08:18:51.925Z"
   },
   {
    "duration": 22,
    "start_time": "2021-12-04T08:18:51.932Z"
   },
   {
    "duration": 7,
    "start_time": "2021-12-04T08:18:51.956Z"
   },
   {
    "duration": 12,
    "start_time": "2021-12-04T08:18:51.964Z"
   },
   {
    "duration": 13,
    "start_time": "2021-12-04T08:18:51.978Z"
   },
   {
    "duration": 5,
    "start_time": "2021-12-04T08:18:51.992Z"
   },
   {
    "duration": 6,
    "start_time": "2021-12-04T08:18:51.999Z"
   },
   {
    "duration": 22,
    "start_time": "2021-12-04T08:18:52.007Z"
   },
   {
    "duration": 48,
    "start_time": "2021-12-04T08:18:52.031Z"
   },
   {
    "duration": 29,
    "start_time": "2021-12-04T08:18:52.080Z"
   },
   {
    "duration": 3500,
    "start_time": "2021-12-04T08:18:52.110Z"
   },
   {
    "duration": 12,
    "start_time": "2021-12-04T08:18:55.612Z"
   },
   {
    "duration": 9,
    "start_time": "2021-12-04T08:18:55.626Z"
   },
   {
    "duration": 2992,
    "start_time": "2021-12-04T08:18:55.637Z"
   },
   {
    "duration": 14,
    "start_time": "2021-12-04T08:18:58.631Z"
   },
   {
    "duration": 23,
    "start_time": "2021-12-04T08:18:58.647Z"
   },
   {
    "duration": 9,
    "start_time": "2021-12-04T08:18:58.672Z"
   },
   {
    "duration": 7,
    "start_time": "2021-12-04T08:18:58.683Z"
   },
   {
    "duration": 42,
    "start_time": "2021-12-04T08:18:58.692Z"
   },
   {
    "duration": 38,
    "start_time": "2021-12-04T08:18:58.736Z"
   },
   {
    "duration": 8,
    "start_time": "2021-12-04T08:18:58.776Z"
   },
   {
    "duration": 16,
    "start_time": "2021-12-04T08:18:58.786Z"
   },
   {
    "duration": 60,
    "start_time": "2021-12-04T08:18:58.803Z"
   },
   {
    "duration": 30,
    "start_time": "2021-12-04T08:18:58.865Z"
   },
   {
    "duration": 30,
    "start_time": "2021-12-04T08:18:58.897Z"
   },
   {
    "duration": 54,
    "start_time": "2021-12-04T08:18:58.929Z"
   },
   {
    "duration": 738,
    "start_time": "2021-12-05T05:40:56.579Z"
   },
   {
    "duration": 66,
    "start_time": "2021-12-05T05:40:57.320Z"
   },
   {
    "duration": 28,
    "start_time": "2021-12-05T05:40:57.389Z"
   },
   {
    "duration": 16,
    "start_time": "2021-12-05T05:40:57.420Z"
   },
   {
    "duration": 31,
    "start_time": "2021-12-05T05:40:57.438Z"
   },
   {
    "duration": 6,
    "start_time": "2021-12-05T05:40:57.471Z"
   },
   {
    "duration": 47,
    "start_time": "2021-12-05T05:40:57.479Z"
   },
   {
    "duration": 6,
    "start_time": "2021-12-05T05:40:57.559Z"
   },
   {
    "duration": 6,
    "start_time": "2021-12-05T05:40:57.568Z"
   },
   {
    "duration": 7,
    "start_time": "2021-12-05T05:40:57.576Z"
   },
   {
    "duration": 11,
    "start_time": "2021-12-05T05:40:57.585Z"
   },
   {
    "duration": 11,
    "start_time": "2021-12-05T05:40:57.598Z"
   },
   {
    "duration": 50,
    "start_time": "2021-12-05T05:40:57.611Z"
   },
   {
    "duration": 20,
    "start_time": "2021-12-05T05:40:57.664Z"
   },
   {
    "duration": 79,
    "start_time": "2021-12-05T05:40:57.686Z"
   },
   {
    "duration": 19,
    "start_time": "2021-12-05T05:40:57.768Z"
   },
   {
    "duration": 44,
    "start_time": "2021-12-05T05:40:57.789Z"
   },
   {
    "duration": 52,
    "start_time": "2021-12-05T05:40:57.859Z"
   },
   {
    "duration": 8,
    "start_time": "2021-12-05T05:40:57.914Z"
   },
   {
    "duration": 39,
    "start_time": "2021-12-05T05:40:57.924Z"
   },
   {
    "duration": 9,
    "start_time": "2021-12-05T05:40:57.965Z"
   },
   {
    "duration": 28,
    "start_time": "2021-12-05T05:40:57.977Z"
   },
   {
    "duration": 112,
    "start_time": "2021-12-05T05:40:58.011Z"
   },
   {
    "duration": 12,
    "start_time": "2021-12-05T05:40:58.127Z"
   },
   {
    "duration": 32,
    "start_time": "2021-12-05T05:40:58.141Z"
   },
   {
    "duration": 41,
    "start_time": "2021-12-05T05:40:58.175Z"
   },
   {
    "duration": 45,
    "start_time": "2021-12-05T05:40:58.218Z"
   },
   {
    "duration": 10,
    "start_time": "2021-12-05T05:40:58.265Z"
   },
   {
    "duration": 84,
    "start_time": "2021-12-05T05:40:58.278Z"
   },
   {
    "duration": 21,
    "start_time": "2021-12-05T05:40:58.364Z"
   },
   {
    "duration": 12,
    "start_time": "2021-12-05T05:40:58.387Z"
   },
   {
    "duration": 8,
    "start_time": "2021-12-05T05:40:58.401Z"
   },
   {
    "duration": 4,
    "start_time": "2021-12-05T05:40:58.412Z"
   },
   {
    "duration": 8,
    "start_time": "2021-12-05T05:40:58.459Z"
   },
   {
    "duration": 10,
    "start_time": "2021-12-05T05:40:58.469Z"
   },
   {
    "duration": 6,
    "start_time": "2021-12-05T05:40:58.481Z"
   },
   {
    "duration": 16,
    "start_time": "2021-12-05T05:40:58.489Z"
   },
   {
    "duration": 16,
    "start_time": "2021-12-05T05:40:58.507Z"
   },
   {
    "duration": 40,
    "start_time": "2021-12-05T05:40:58.525Z"
   },
   {
    "duration": 8,
    "start_time": "2021-12-05T05:40:58.568Z"
   },
   {
    "duration": 10,
    "start_time": "2021-12-05T05:40:58.579Z"
   },
   {
    "duration": 10,
    "start_time": "2021-12-05T05:40:58.591Z"
   },
   {
    "duration": 10,
    "start_time": "2021-12-05T05:40:58.603Z"
   },
   {
    "duration": 56,
    "start_time": "2021-12-05T05:40:58.615Z"
   },
   {
    "duration": 6,
    "start_time": "2021-12-05T05:40:58.674Z"
   },
   {
    "duration": 7,
    "start_time": "2021-12-05T05:40:58.682Z"
   },
   {
    "duration": 25,
    "start_time": "2021-12-05T05:40:58.691Z"
   },
   {
    "duration": 80,
    "start_time": "2021-12-05T05:40:58.719Z"
   },
   {
    "duration": 40,
    "start_time": "2021-12-05T05:40:58.801Z"
   },
   {
    "duration": 4771,
    "start_time": "2021-12-05T05:40:58.859Z"
   },
   {
    "duration": 28,
    "start_time": "2021-12-05T05:41:03.633Z"
   },
   {
    "duration": 9,
    "start_time": "2021-12-05T05:41:03.664Z"
   },
   {
    "duration": 3890,
    "start_time": "2021-12-05T05:41:03.676Z"
   },
   {
    "duration": 24,
    "start_time": "2021-12-05T05:41:07.568Z"
   },
   {
    "duration": 9,
    "start_time": "2021-12-05T05:41:07.594Z"
   },
   {
    "duration": 10,
    "start_time": "2021-12-05T05:41:07.605Z"
   },
   {
    "duration": 47,
    "start_time": "2021-12-05T05:41:07.617Z"
   },
   {
    "duration": 58,
    "start_time": "2021-12-05T05:41:07.666Z"
   },
   {
    "duration": 35,
    "start_time": "2021-12-05T05:41:07.726Z"
   },
   {
    "duration": 12,
    "start_time": "2021-12-05T05:41:07.763Z"
   },
   {
    "duration": 23,
    "start_time": "2021-12-05T05:41:07.777Z"
   },
   {
    "duration": 81,
    "start_time": "2021-12-05T05:41:07.802Z"
   },
   {
    "duration": 45,
    "start_time": "2021-12-05T05:41:07.885Z"
   },
   {
    "duration": 64,
    "start_time": "2021-12-05T05:41:07.932Z"
   },
   {
    "duration": 65,
    "start_time": "2021-12-05T05:41:07.998Z"
   }
  ],
  "colab": {
   "name": "Исследование надёжности заёмщиков.ipynb",
   "provenance": []
  },
  "kernelspec": {
   "display_name": "Python 3.9.0 64-bit",
   "language": "python",
   "name": "python3"
  },
  "language_info": {
   "codemirror_mode": {
    "name": "ipython",
    "version": 3
   },
   "file_extension": ".py",
   "mimetype": "text/x-python",
   "name": "python",
   "nbconvert_exporter": "python",
   "pygments_lexer": "ipython3",
   "version": "3.9.0"
  },
  "toc": {
   "base_numbering": 1,
   "nav_menu": {},
   "number_sections": true,
   "sideBar": true,
   "skip_h1_title": true,
   "title_cell": "Table of Contents",
   "title_sidebar": "Contents",
   "toc_cell": false,
   "toc_position": {},
   "toc_section_display": true,
   "toc_window_display": false
  },
  "vscode": {
   "interpreter": {
    "hash": "aee8b7b246df8f9039afb4144a1f6fd8d2ca17a180786b69acc140d282b71a49"
   }
  }
 },
 "nbformat": 4,
 "nbformat_minor": 1
}
