{
 "cells": [
  {
   "cell_type": "markdown",
   "id": "4d03135a",
   "metadata": {
    "toc": true
   },
   "source": [
    "<h1>Содержание<span class=\"tocSkip\"></span></h1>\n",
    "<div class=\"toc\"><ul class=\"toc-item\"><li><span><a href=\"#Описание-проекта\" data-toc-modified-id=\"Описание-проекта-1\"><span class=\"toc-item-num\">1&nbsp;&nbsp;</span>Описание проекта</a></span></li><li><span><a href=\"#Описание-данных\" data-toc-modified-id=\"Описание-данных-2\"><span class=\"toc-item-num\">2&nbsp;&nbsp;</span>Описание данных</a></span></li><li><span><a href=\"#Изучение-данных\" data-toc-modified-id=\"Изучение-данных-3\"><span class=\"toc-item-num\">3&nbsp;&nbsp;</span>Изучение данных</a></span><ul class=\"toc-item\"><li><span><a href=\"#Вывод-после-изучения-данных\" data-toc-modified-id=\"Вывод-после-изучения-данных-3.1\"><span class=\"toc-item-num\">3.1&nbsp;&nbsp;</span>Вывод после изучения данных</a></span></li></ul></li><li><span><a href=\"#Предобработка-данных\" data-toc-modified-id=\"Предобработка-данных-4\"><span class=\"toc-item-num\">4&nbsp;&nbsp;</span>Предобработка данных</a></span><ul class=\"toc-item\"><li><span><a href=\"#Займемся-названиями-столбцов\" data-toc-modified-id=\"Займемся-названиями-столбцов-4.1\"><span class=\"toc-item-num\">4.1&nbsp;&nbsp;</span>Займемся названиями столбцов</a></span></li><li><span><a href=\"#Разберемся-с-пропусками\" data-toc-modified-id=\"Разберемся-с-пропусками-4.2\"><span class=\"toc-item-num\">4.2&nbsp;&nbsp;</span>Разберемся с пропусками</a></span><ul class=\"toc-item\"><li><span><a href=\"#Займемся-столбцом-name-—-название-игры\" data-toc-modified-id=\"Займемся-столбцом-name-—-название-игры-4.2.1\"><span class=\"toc-item-num\">4.2.1&nbsp;&nbsp;</span>Займемся столбцом <code>name</code> — название игры</a></span></li><li><span><a href=\"#Займемся-столбцом-year_of_release-—-год-выпуска\" data-toc-modified-id=\"Займемся-столбцом-year_of_release-—-год-выпуска-4.2.2\"><span class=\"toc-item-num\">4.2.2&nbsp;&nbsp;</span>Займемся столбцом <code>year_of_release</code> — год выпуска</a></span></li><li><span><a href=\"#Займемся-столбцом-rating-—-рейтинг-от-организации-ESRB\" data-toc-modified-id=\"Займемся-столбцом-rating-—-рейтинг-от-организации-ESRB-4.2.3\"><span class=\"toc-item-num\">4.2.3&nbsp;&nbsp;</span>Займемся столбцом <code>rating</code> — рейтинг от организации ESRB</a></span></li><li><span><a href=\"#Займемся-столбцом-user_score-—-оценка-пользователей\" data-toc-modified-id=\"Займемся-столбцом-user_score-—-оценка-пользователей-4.2.4\"><span class=\"toc-item-num\">4.2.4&nbsp;&nbsp;</span>Займемся столбцом <code>user_score</code> — оценка пользователей</a></span></li></ul></li><li><span><a href=\"#Создадим-столбец-total_sales\" data-toc-modified-id=\"Создадим-столбец-total_sales-4.3\"><span class=\"toc-item-num\">4.3&nbsp;&nbsp;</span>Создадим столбец <code>total_sales</code></a></span></li><li><span><a href=\"#Вывод-после-предобработки-данных\" data-toc-modified-id=\"Вывод-после-предобработки-данных-4.4\"><span class=\"toc-item-num\">4.4&nbsp;&nbsp;</span>Вывод после предобработки данных</a></span></li></ul></li><li><span><a href=\"#Анализ-данных\" data-toc-modified-id=\"Анализ-данных-5\"><span class=\"toc-item-num\">5&nbsp;&nbsp;</span>Анализ данных</a></span><ul class=\"toc-item\"><li><span><a href=\"#Посмотрим,-сколько-игр-выпускалось-в-разные-годы\" data-toc-modified-id=\"Посмотрим,-сколько-игр-выпускалось-в-разные-годы-5.1\"><span class=\"toc-item-num\">5.1&nbsp;&nbsp;</span>Посмотрим, сколько игр выпускалось в разные годы</a></span><ul class=\"toc-item\"><li><span><a href=\"#Вывод\" data-toc-modified-id=\"Вывод-5.1.1\"><span class=\"toc-item-num\">5.1.1&nbsp;&nbsp;</span>Вывод</a></span></li></ul></li><li><span><a href=\"#Посмотрим,-как-менялись-продажи-по-платформам\" data-toc-modified-id=\"Посмотрим,-как-менялись-продажи-по-платформам-5.2\"><span class=\"toc-item-num\">5.2&nbsp;&nbsp;</span>Посмотрим, как менялись продажи по платформам</a></span><ul class=\"toc-item\"><li><span><a href=\"#Вывод\" data-toc-modified-id=\"Вывод-5.2.1\"><span class=\"toc-item-num\">5.2.1&nbsp;&nbsp;</span>Вывод</a></span></li></ul></li><li><span><a href=\"#Выбор-актуального-периода-для-анализа\" data-toc-modified-id=\"Выбор-актуального-периода-для-анализа-5.3\"><span class=\"toc-item-num\">5.3&nbsp;&nbsp;</span>Выбор актуального периода для анализа</a></span><ul class=\"toc-item\"><li><span><a href=\"#Вывод\" data-toc-modified-id=\"Вывод-5.3.1\"><span class=\"toc-item-num\">5.3.1&nbsp;&nbsp;</span>Вывод</a></span></li></ul></li><li><span><a href=\"#Посмотрим-какие-платформы-лидируют-по-продажам\" data-toc-modified-id=\"Посмотрим-какие-платформы-лидируют-по-продажам-5.4\"><span class=\"toc-item-num\">5.4&nbsp;&nbsp;</span>Посмотрим какие платформы лидируют по продажам</a></span><ul class=\"toc-item\"><li><span><a href=\"#Вывод\" data-toc-modified-id=\"Вывод-5.4.1\"><span class=\"toc-item-num\">5.4.1&nbsp;&nbsp;</span>Вывод</a></span></li></ul></li><li><span><a href=\"#Построим-график-«ящик-с-усами»-по-глобальным-продажам-игр-в-разбивке-по-платформам\" data-toc-modified-id=\"Построим-график-«ящик-с-усами»-по-глобальным-продажам-игр-в-разбивке-по-платформам-5.5\"><span class=\"toc-item-num\">5.5&nbsp;&nbsp;</span>Построим график «ящик с усами» по глобальным продажам игр в разбивке по платформам</a></span><ul class=\"toc-item\"><li><span><a href=\"#Вывод\" data-toc-modified-id=\"Вывод-5.5.1\"><span class=\"toc-item-num\">5.5.1&nbsp;&nbsp;</span>Вывод</a></span></li></ul></li><li><span><a href=\"#Посмотрим,-как-влияют-на-продажи-внутри-одной-популярной-платформы-отзывы-пользователей-и-критиков\" data-toc-modified-id=\"Посмотрим,-как-влияют-на-продажи-внутри-одной-популярной-платформы-отзывы-пользователей-и-критиков-5.6\"><span class=\"toc-item-num\">5.6&nbsp;&nbsp;</span>Посмотрим, как влияют на продажи внутри одной популярной платформы отзывы пользователей и критиков</a></span><ul class=\"toc-item\"><li><span><a href=\"#Вывод\" data-toc-modified-id=\"Вывод-5.6.1\"><span class=\"toc-item-num\">5.6.1&nbsp;&nbsp;</span>Вывод</a></span></li></ul></li><li><span><a href=\"#Соотнесем-выводы-по-корреляции-с-продажами-игр-на-других-платформах\" data-toc-modified-id=\"Соотнесем-выводы-по-корреляции-с-продажами-игр-на-других-платформах-5.7\"><span class=\"toc-item-num\">5.7&nbsp;&nbsp;</span>Соотнесем выводы по корреляции с продажами игр на других платформах</a></span><ul class=\"toc-item\"><li><span><a href=\"#Вывод\" data-toc-modified-id=\"Вывод-5.7.1\"><span class=\"toc-item-num\">5.7.1&nbsp;&nbsp;</span>Вывод</a></span></li></ul></li><li><span><a href=\"#Посмотрим-на-общее-распределение-игр-по-жанрам\" data-toc-modified-id=\"Посмотрим-на-общее-распределение-игр-по-жанрам-5.8\"><span class=\"toc-item-num\">5.8&nbsp;&nbsp;</span>Посмотрим на общее распределение игр по жанрам</a></span><ul class=\"toc-item\"><li><span><a href=\"#Вывод\" data-toc-modified-id=\"Вывод-5.8.1\"><span class=\"toc-item-num\">5.8.1&nbsp;&nbsp;</span>Вывод</a></span></li></ul></li><li><span><a href=\"#Вывод\" data-toc-modified-id=\"Вывод-5.9\"><span class=\"toc-item-num\">5.9&nbsp;&nbsp;</span>Вывод</a></span></li></ul></li><li><span><a href=\"#Составим-портрет-пользователя-каждого-региона\" data-toc-modified-id=\"Составим-портрет-пользователя-каждого-региона-6\"><span class=\"toc-item-num\">6&nbsp;&nbsp;</span>Составим портрет пользователя каждого региона</a></span><ul class=\"toc-item\"><li><span><a href=\"#Определим-самые-популярные-платформы-для-кажого-региона\" data-toc-modified-id=\"Определим-самые-популярные-платформы-для-кажого-региона-6.1\"><span class=\"toc-item-num\">6.1&nbsp;&nbsp;</span>Определим самые популярные платформы для кажого региона</a></span><ul class=\"toc-item\"><li><span><a href=\"#Вывод\" data-toc-modified-id=\"Вывод-6.1.1\"><span class=\"toc-item-num\">6.1.1&nbsp;&nbsp;</span>Вывод</a></span></li></ul></li><li><span><a href=\"#Определим-самые-популярные-жанры-для-кажого-региона\" data-toc-modified-id=\"Определим-самые-популярные-жанры-для-кажого-региона-6.2\"><span class=\"toc-item-num\">6.2&nbsp;&nbsp;</span>Определим самые популярные жанры для кажого региона</a></span><ul class=\"toc-item\"><li><span><a href=\"#Вывод\" data-toc-modified-id=\"Вывод-6.2.1\"><span class=\"toc-item-num\">6.2.1&nbsp;&nbsp;</span>Вывод</a></span></li></ul></li><li><span><a href=\"#Посмотрим,-влияет-ли-рейтинг-ESRB-на-продажи-в-регионах\" data-toc-modified-id=\"Посмотрим,-влияет-ли-рейтинг-ESRB-на-продажи-в-регионах-6.3\"><span class=\"toc-item-num\">6.3&nbsp;&nbsp;</span>Посмотрим, влияет ли рейтинг ESRB на продажи в регионах</a></span><ul class=\"toc-item\"><li><span><a href=\"#Вывод\" data-toc-modified-id=\"Вывод-6.3.1\"><span class=\"toc-item-num\">6.3.1&nbsp;&nbsp;</span>Вывод</a></span></li></ul></li><li><span><a href=\"#Вывод\" data-toc-modified-id=\"Вывод-6.4\"><span class=\"toc-item-num\">6.4&nbsp;&nbsp;</span>Вывод</a></span></li></ul></li><li><span><a href=\"#Проверим-гипотезы\" data-toc-modified-id=\"Проверим-гипотезы-7\"><span class=\"toc-item-num\">7&nbsp;&nbsp;</span>Проверим гипотезы</a></span><ul class=\"toc-item\"><li><span><a href=\"#Гипотеза:-средние-пользовательские-рейтинги-платформ-Xbox-One-и-PC-одинаковые\" data-toc-modified-id=\"Гипотеза:-средние-пользовательские-рейтинги-платформ-Xbox-One-и-PC-одинаковые-7.1\"><span class=\"toc-item-num\">7.1&nbsp;&nbsp;</span>Гипотеза: средние пользовательские рейтинги платформ Xbox One и PC одинаковые</a></span><ul class=\"toc-item\"><li><span><a href=\"#Вывод\" data-toc-modified-id=\"Вывод-7.1.1\"><span class=\"toc-item-num\">7.1.1&nbsp;&nbsp;</span>Вывод</a></span></li></ul></li><li><span><a href=\"#Гипотеза:-средние-пользовательские-рейтинги-жанров-Action-и-Sports-разные\" data-toc-modified-id=\"Гипотеза:-средние-пользовательские-рейтинги-жанров-Action-и-Sports-разные-7.2\"><span class=\"toc-item-num\">7.2&nbsp;&nbsp;</span>Гипотеза: средние пользовательские рейтинги жанров Action и Sports разные</a></span><ul class=\"toc-item\"><li><span><a href=\"#Вывод\" data-toc-modified-id=\"Вывод-7.2.1\"><span class=\"toc-item-num\">7.2.1&nbsp;&nbsp;</span>Вывод</a></span></li></ul></li><li><span><a href=\"#Вывод\" data-toc-modified-id=\"Вывод-7.3\"><span class=\"toc-item-num\">7.3&nbsp;&nbsp;</span>Вывод</a></span></li></ul></li><li><span><a href=\"#Общий-вывод\" data-toc-modified-id=\"Общий-вывод-8\"><span class=\"toc-item-num\">8&nbsp;&nbsp;</span>Общий вывод</a></span></li></ul></div>"
   ]
  },
  {
   "cell_type": "markdown",
   "id": "ab40b57c",
   "metadata": {},
   "source": [
    "# Описание проекта\n",
    "Вы работаете в интернет-магазине «Стримчик», который продаёт по всему миру компьютерные игры. Из открытых источников доступны исторические данные о продажах игр, оценки пользователей и экспертов, жанры и платформы (например, Xbox или PlayStation). Вам нужно выявить определяющие успешность игры закономерности. Это позволит сделать ставку на потенциально популярный продукт и спланировать рекламные кампании.  \n",
    "Перед вами данные до 2016 года. Представим, что сейчас декабрь 2016 г., и вы планируете кампанию на 2017-й. Нужно отработать принцип работы с данными. Неважно, прогнозируете ли вы продажи на 2017 год по данным 2016-го или же 2027-й — по данным 2026 года.\n",
    "В наборе данных попадается аббревиатура ESRB (Entertainment Software Rating Board) — это ассоциация, определяющая возрастной рейтинг компьютерных игр. ESRB оценивает игровой контент и присваивает ему подходящую возрастную категорию, например, «Для взрослых», «Для детей младшего возраста» или «Для подростков».\n",
    "\n",
    "# Описание данных\n",
    "*\tName — название игры  \n",
    "*\tPlatform — платформа  \n",
    "*\tYear_of_Release — год выпуска  \n",
    "*\tGenre — жанр игры  \n",
    "*\tNA_sales — продажи в Северной Америке (миллионы проданных копий)  \n",
    "*\tEU_sales — продажи в Европе (миллионы проданных копий)  \n",
    "*\tJP_sales — продажи в Японии (миллионы проданных копий)  \n",
    "*\tOther_sales — продажи в других странах (миллионы проданных копий)  \n",
    "*\tCritic_Score — оценка критиков (максимум 100)  \n",
    "*\tUser_Score — оценка пользователей (максимум 10)  \n",
    "*\tRating — рейтинг от организации ESRB (англ. Entertainment Software Rating Board). Эта ассоциация определяет рейтинг компьютерных игр и присваивает им подходящую возрастную категорию.\n",
    "\n",
    "Данные за 2016 год могут быть неполными.\n"
   ]
  },
  {
   "cell_type": "markdown",
   "id": "a62173ff",
   "metadata": {},
   "source": [
    "# Изучение данных"
   ]
  },
  {
   "cell_type": "markdown",
   "id": "3166b174",
   "metadata": {},
   "source": [
    "Импортируем нужные библиотеки"
   ]
  },
  {
   "cell_type": "code",
   "execution_count": 1,
   "id": "5d8690b9",
   "metadata": {},
   "outputs": [],
   "source": [
    "import pandas as pd\n",
    "import numpy as np\n",
    "import matplotlib.pyplot as plt\n",
    "import seaborn as sns\n",
    "from scipy import stats as st"
   ]
  },
  {
   "cell_type": "markdown",
   "id": "c914419a",
   "metadata": {},
   "source": [
    "Загрузим данные и посмотрим на 10 строчек из них"
   ]
  },
  {
   "cell_type": "code",
   "execution_count": 2,
   "id": "47121148",
   "metadata": {},
   "outputs": [],
   "source": [
    "df = pd.read_csv('/datasets/games.csv')"
   ]
  },
  {
   "cell_type": "code",
   "execution_count": 3,
   "id": "8e9b6551",
   "metadata": {
    "scrolled": true
   },
   "outputs": [
    {
     "data": {
      "text/html": [
       "<div>\n",
       "<style scoped>\n",
       "    .dataframe tbody tr th:only-of-type {\n",
       "        vertical-align: middle;\n",
       "    }\n",
       "\n",
       "    .dataframe tbody tr th {\n",
       "        vertical-align: top;\n",
       "    }\n",
       "\n",
       "    .dataframe thead th {\n",
       "        text-align: right;\n",
       "    }\n",
       "</style>\n",
       "<table border=\"1\" class=\"dataframe\">\n",
       "  <thead>\n",
       "    <tr style=\"text-align: right;\">\n",
       "      <th></th>\n",
       "      <th>Name</th>\n",
       "      <th>Platform</th>\n",
       "      <th>Year_of_Release</th>\n",
       "      <th>Genre</th>\n",
       "      <th>NA_sales</th>\n",
       "      <th>EU_sales</th>\n",
       "      <th>JP_sales</th>\n",
       "      <th>Other_sales</th>\n",
       "      <th>Critic_Score</th>\n",
       "      <th>User_Score</th>\n",
       "      <th>Rating</th>\n",
       "    </tr>\n",
       "  </thead>\n",
       "  <tbody>\n",
       "    <tr>\n",
       "      <td>2204</td>\n",
       "      <td>Rise of the Tomb Raider</td>\n",
       "      <td>PS4</td>\n",
       "      <td>2016.0</td>\n",
       "      <td>Adventure</td>\n",
       "      <td>0.23</td>\n",
       "      <td>0.53</td>\n",
       "      <td>0.04</td>\n",
       "      <td>0.14</td>\n",
       "      <td>NaN</td>\n",
       "      <td>NaN</td>\n",
       "      <td>NaN</td>\n",
       "    </tr>\n",
       "    <tr>\n",
       "      <td>6532</td>\n",
       "      <td>Oddworld: Stranger's Wrath</td>\n",
       "      <td>XB</td>\n",
       "      <td>2005.0</td>\n",
       "      <td>Adventure</td>\n",
       "      <td>0.19</td>\n",
       "      <td>0.06</td>\n",
       "      <td>0.00</td>\n",
       "      <td>0.01</td>\n",
       "      <td>88.0</td>\n",
       "      <td>9.1</td>\n",
       "      <td>T</td>\n",
       "    </tr>\n",
       "    <tr>\n",
       "      <td>10223</td>\n",
       "      <td>Army Men: Soldiers of Misfortune</td>\n",
       "      <td>DS</td>\n",
       "      <td>2008.0</td>\n",
       "      <td>Shooter</td>\n",
       "      <td>0.10</td>\n",
       "      <td>0.00</td>\n",
       "      <td>0.00</td>\n",
       "      <td>0.01</td>\n",
       "      <td>35.0</td>\n",
       "      <td>tbd</td>\n",
       "      <td>E</td>\n",
       "    </tr>\n",
       "    <tr>\n",
       "      <td>7705</td>\n",
       "      <td>Solatorobo: Red the Hunter</td>\n",
       "      <td>DS</td>\n",
       "      <td>2010.0</td>\n",
       "      <td>Role-Playing</td>\n",
       "      <td>0.08</td>\n",
       "      <td>0.04</td>\n",
       "      <td>0.07</td>\n",
       "      <td>0.01</td>\n",
       "      <td>76.0</td>\n",
       "      <td>7.9</td>\n",
       "      <td>E10+</td>\n",
       "    </tr>\n",
       "    <tr>\n",
       "      <td>15308</td>\n",
       "      <td>UnchainBlades EXXiV</td>\n",
       "      <td>3DS</td>\n",
       "      <td>2012.0</td>\n",
       "      <td>Role-Playing</td>\n",
       "      <td>0.00</td>\n",
       "      <td>0.00</td>\n",
       "      <td>0.02</td>\n",
       "      <td>0.00</td>\n",
       "      <td>NaN</td>\n",
       "      <td>NaN</td>\n",
       "      <td>NaN</td>\n",
       "    </tr>\n",
       "    <tr>\n",
       "      <td>6450</td>\n",
       "      <td>Etrian Odyssey II: Heroes of Lagaard</td>\n",
       "      <td>DS</td>\n",
       "      <td>2008.0</td>\n",
       "      <td>Role-Playing</td>\n",
       "      <td>0.09</td>\n",
       "      <td>0.00</td>\n",
       "      <td>0.16</td>\n",
       "      <td>0.01</td>\n",
       "      <td>82.0</td>\n",
       "      <td>8.9</td>\n",
       "      <td>E10+</td>\n",
       "    </tr>\n",
       "    <tr>\n",
       "      <td>3739</td>\n",
       "      <td>NBA Street Vol. 2</td>\n",
       "      <td>GC</td>\n",
       "      <td>NaN</td>\n",
       "      <td>Sports</td>\n",
       "      <td>0.41</td>\n",
       "      <td>0.11</td>\n",
       "      <td>0.00</td>\n",
       "      <td>0.01</td>\n",
       "      <td>88.0</td>\n",
       "      <td>8.1</td>\n",
       "      <td>E</td>\n",
       "    </tr>\n",
       "    <tr>\n",
       "      <td>13162</td>\n",
       "      <td>PachiPara 14: Fuu to Kumo to Super Umi in Okinawa</td>\n",
       "      <td>PS2</td>\n",
       "      <td>2007.0</td>\n",
       "      <td>Misc</td>\n",
       "      <td>0.00</td>\n",
       "      <td>0.00</td>\n",
       "      <td>0.05</td>\n",
       "      <td>0.00</td>\n",
       "      <td>NaN</td>\n",
       "      <td>NaN</td>\n",
       "      <td>NaN</td>\n",
       "    </tr>\n",
       "    <tr>\n",
       "      <td>12253</td>\n",
       "      <td>Gunstar Super Heroes</td>\n",
       "      <td>GBA</td>\n",
       "      <td>2005.0</td>\n",
       "      <td>Shooter</td>\n",
       "      <td>0.05</td>\n",
       "      <td>0.02</td>\n",
       "      <td>0.00</td>\n",
       "      <td>0.00</td>\n",
       "      <td>83.0</td>\n",
       "      <td>8.5</td>\n",
       "      <td>E10+</td>\n",
       "    </tr>\n",
       "    <tr>\n",
       "      <td>15978</td>\n",
       "      <td>A Vampyre Story</td>\n",
       "      <td>PC</td>\n",
       "      <td>2008.0</td>\n",
       "      <td>Adventure</td>\n",
       "      <td>0.00</td>\n",
       "      <td>0.01</td>\n",
       "      <td>0.00</td>\n",
       "      <td>0.00</td>\n",
       "      <td>75.0</td>\n",
       "      <td>8.5</td>\n",
       "      <td>T</td>\n",
       "    </tr>\n",
       "  </tbody>\n",
       "</table>\n",
       "</div>"
      ],
      "text/plain": [
       "                                                    Name Platform  \\\n",
       "2204                             Rise of the Tomb Raider      PS4   \n",
       "6532                          Oddworld: Stranger's Wrath       XB   \n",
       "10223                   Army Men: Soldiers of Misfortune       DS   \n",
       "7705                          Solatorobo: Red the Hunter       DS   \n",
       "15308                                UnchainBlades EXXiV      3DS   \n",
       "6450                Etrian Odyssey II: Heroes of Lagaard       DS   \n",
       "3739                                   NBA Street Vol. 2       GC   \n",
       "13162  PachiPara 14: Fuu to Kumo to Super Umi in Okinawa      PS2   \n",
       "12253                               Gunstar Super Heroes      GBA   \n",
       "15978                                    A Vampyre Story       PC   \n",
       "\n",
       "       Year_of_Release         Genre  NA_sales  EU_sales  JP_sales  \\\n",
       "2204            2016.0     Adventure      0.23      0.53      0.04   \n",
       "6532            2005.0     Adventure      0.19      0.06      0.00   \n",
       "10223           2008.0       Shooter      0.10      0.00      0.00   \n",
       "7705            2010.0  Role-Playing      0.08      0.04      0.07   \n",
       "15308           2012.0  Role-Playing      0.00      0.00      0.02   \n",
       "6450            2008.0  Role-Playing      0.09      0.00      0.16   \n",
       "3739               NaN        Sports      0.41      0.11      0.00   \n",
       "13162           2007.0          Misc      0.00      0.00      0.05   \n",
       "12253           2005.0       Shooter      0.05      0.02      0.00   \n",
       "15978           2008.0     Adventure      0.00      0.01      0.00   \n",
       "\n",
       "       Other_sales  Critic_Score User_Score Rating  \n",
       "2204          0.14           NaN        NaN    NaN  \n",
       "6532          0.01          88.0        9.1      T  \n",
       "10223         0.01          35.0        tbd      E  \n",
       "7705          0.01          76.0        7.9   E10+  \n",
       "15308         0.00           NaN        NaN    NaN  \n",
       "6450          0.01          82.0        8.9   E10+  \n",
       "3739          0.01          88.0        8.1      E  \n",
       "13162         0.00           NaN        NaN    NaN  \n",
       "12253         0.00          83.0        8.5   E10+  \n",
       "15978         0.00          75.0        8.5      T  "
      ]
     },
     "execution_count": 3,
     "metadata": {},
     "output_type": "execute_result"
    }
   ],
   "source": [
    "df.sample(10)"
   ]
  },
  {
   "cell_type": "markdown",
   "id": "f6701bd8",
   "metadata": {},
   "source": [
    "Выведем информацию о датафрейме"
   ]
  },
  {
   "cell_type": "code",
   "execution_count": 4,
   "id": "47afddde",
   "metadata": {},
   "outputs": [
    {
     "name": "stdout",
     "output_type": "stream",
     "text": [
      "<class 'pandas.core.frame.DataFrame'>\n",
      "RangeIndex: 16715 entries, 0 to 16714\n",
      "Data columns (total 11 columns):\n",
      "Name               16713 non-null object\n",
      "Platform           16715 non-null object\n",
      "Year_of_Release    16446 non-null float64\n",
      "Genre              16713 non-null object\n",
      "NA_sales           16715 non-null float64\n",
      "EU_sales           16715 non-null float64\n",
      "JP_sales           16715 non-null float64\n",
      "Other_sales        16715 non-null float64\n",
      "Critic_Score       8137 non-null float64\n",
      "User_Score         10014 non-null object\n",
      "Rating             9949 non-null object\n",
      "dtypes: float64(6), object(5)\n",
      "memory usage: 1.4+ MB\n"
     ]
    }
   ],
   "source": [
    "df.info()"
   ]
  },
  {
   "cell_type": "markdown",
   "id": "980f153e",
   "metadata": {},
   "source": [
    "1) Название столбцов необходимо привести к нижнему регистру  \n",
    "2) Есть пропущенные значения  \n",
    "3) Привести столбцы к нужному типу данных  \n",
    "* Cтолбец `Year_of_Release` необходимо привести к типу данных **int**  \n",
    "* Столбец `User_Score` помимо оценок содержит и текстовую информацию, необходимо от нее избавиться и привести столбец к типу **float**"
   ]
  },
  {
   "cell_type": "markdown",
   "id": "7e919416",
   "metadata": {},
   "source": [
    "Выведем статистическую информацию по датафрейму"
   ]
  },
  {
   "cell_type": "code",
   "execution_count": 5,
   "id": "749c8eee",
   "metadata": {},
   "outputs": [
    {
     "data": {
      "text/html": [
       "<div>\n",
       "<style scoped>\n",
       "    .dataframe tbody tr th:only-of-type {\n",
       "        vertical-align: middle;\n",
       "    }\n",
       "\n",
       "    .dataframe tbody tr th {\n",
       "        vertical-align: top;\n",
       "    }\n",
       "\n",
       "    .dataframe thead th {\n",
       "        text-align: right;\n",
       "    }\n",
       "</style>\n",
       "<table border=\"1\" class=\"dataframe\">\n",
       "  <thead>\n",
       "    <tr style=\"text-align: right;\">\n",
       "      <th></th>\n",
       "      <th>count</th>\n",
       "      <th>mean</th>\n",
       "      <th>std</th>\n",
       "      <th>min</th>\n",
       "      <th>25%</th>\n",
       "      <th>50%</th>\n",
       "      <th>75%</th>\n",
       "      <th>max</th>\n",
       "    </tr>\n",
       "  </thead>\n",
       "  <tbody>\n",
       "    <tr>\n",
       "      <td>Year_of_Release</td>\n",
       "      <td>16446.0</td>\n",
       "      <td>2006.484616</td>\n",
       "      <td>5.877050</td>\n",
       "      <td>1980.0</td>\n",
       "      <td>2003.0</td>\n",
       "      <td>2007.00</td>\n",
       "      <td>2010.00</td>\n",
       "      <td>2016.00</td>\n",
       "    </tr>\n",
       "    <tr>\n",
       "      <td>NA_sales</td>\n",
       "      <td>16715.0</td>\n",
       "      <td>0.263377</td>\n",
       "      <td>0.813604</td>\n",
       "      <td>0.0</td>\n",
       "      <td>0.0</td>\n",
       "      <td>0.08</td>\n",
       "      <td>0.24</td>\n",
       "      <td>41.36</td>\n",
       "    </tr>\n",
       "    <tr>\n",
       "      <td>EU_sales</td>\n",
       "      <td>16715.0</td>\n",
       "      <td>0.145060</td>\n",
       "      <td>0.503339</td>\n",
       "      <td>0.0</td>\n",
       "      <td>0.0</td>\n",
       "      <td>0.02</td>\n",
       "      <td>0.11</td>\n",
       "      <td>28.96</td>\n",
       "    </tr>\n",
       "    <tr>\n",
       "      <td>JP_sales</td>\n",
       "      <td>16715.0</td>\n",
       "      <td>0.077617</td>\n",
       "      <td>0.308853</td>\n",
       "      <td>0.0</td>\n",
       "      <td>0.0</td>\n",
       "      <td>0.00</td>\n",
       "      <td>0.04</td>\n",
       "      <td>10.22</td>\n",
       "    </tr>\n",
       "    <tr>\n",
       "      <td>Other_sales</td>\n",
       "      <td>16715.0</td>\n",
       "      <td>0.047342</td>\n",
       "      <td>0.186731</td>\n",
       "      <td>0.0</td>\n",
       "      <td>0.0</td>\n",
       "      <td>0.01</td>\n",
       "      <td>0.03</td>\n",
       "      <td>10.57</td>\n",
       "    </tr>\n",
       "    <tr>\n",
       "      <td>Critic_Score</td>\n",
       "      <td>8137.0</td>\n",
       "      <td>68.967679</td>\n",
       "      <td>13.938165</td>\n",
       "      <td>13.0</td>\n",
       "      <td>60.0</td>\n",
       "      <td>71.00</td>\n",
       "      <td>79.00</td>\n",
       "      <td>98.00</td>\n",
       "    </tr>\n",
       "  </tbody>\n",
       "</table>\n",
       "</div>"
      ],
      "text/plain": [
       "                   count         mean        std     min     25%      50%  \\\n",
       "Year_of_Release  16446.0  2006.484616   5.877050  1980.0  2003.0  2007.00   \n",
       "NA_sales         16715.0     0.263377   0.813604     0.0     0.0     0.08   \n",
       "EU_sales         16715.0     0.145060   0.503339     0.0     0.0     0.02   \n",
       "JP_sales         16715.0     0.077617   0.308853     0.0     0.0     0.00   \n",
       "Other_sales      16715.0     0.047342   0.186731     0.0     0.0     0.01   \n",
       "Critic_Score      8137.0    68.967679  13.938165    13.0    60.0    71.00   \n",
       "\n",
       "                     75%      max  \n",
       "Year_of_Release  2010.00  2016.00  \n",
       "NA_sales            0.24    41.36  \n",
       "EU_sales            0.11    28.96  \n",
       "JP_sales            0.04    10.22  \n",
       "Other_sales         0.03    10.57  \n",
       "Critic_Score       79.00    98.00  "
      ]
     },
     "execution_count": 5,
     "metadata": {},
     "output_type": "execute_result"
    }
   ],
   "source": [
    "df.describe().T"
   ]
  },
  {
   "cell_type": "markdown",
   "id": "5183c7b5",
   "metadata": {},
   "source": [
    "1) В датафрейме данные с 1980 по 2016 год  \n",
    "2) Самая продаваемая игры находится в столбце `NA_sales` - продажи в Северной Америке, было продано 41.36 млн копий, что в разы отличается от других игр  \n",
    "3) Критики ставят в среднем 71 балл играм. Максимальная оценка 98, а минимальная 13"
   ]
  },
  {
   "cell_type": "markdown",
   "id": "72b00de7",
   "metadata": {},
   "source": [
    "Напишем функцию для нахождения количества пропусков по столбцам и процентного соотношения количества пропущенных значений ко всему датафрейму"
   ]
  },
  {
   "cell_type": "code",
   "execution_count": 6,
   "id": "b4fc2b28",
   "metadata": {},
   "outputs": [],
   "source": [
    "def print_isna(df, columns):\n",
    "    isna_df = pd.DataFrame()\n",
    "    for col in columns:\n",
    "        if df[col].isna().sum() > 0:\n",
    "            isna_df.loc[col,'count'] = df[col].isna().sum()\n",
    "            isna_df.loc[col,'percent'] = (isna_df.loc[col, 'count'] / df.shape[0] * 100).round(2)\n",
    "    isna_df = isna_df.sort_values(by='count', ascending=False)\n",
    "    display(isna_df)"
   ]
  },
  {
   "cell_type": "code",
   "execution_count": 7,
   "id": "91577b97",
   "metadata": {},
   "outputs": [
    {
     "data": {
      "text/html": [
       "<div>\n",
       "<style scoped>\n",
       "    .dataframe tbody tr th:only-of-type {\n",
       "        vertical-align: middle;\n",
       "    }\n",
       "\n",
       "    .dataframe tbody tr th {\n",
       "        vertical-align: top;\n",
       "    }\n",
       "\n",
       "    .dataframe thead th {\n",
       "        text-align: right;\n",
       "    }\n",
       "</style>\n",
       "<table border=\"1\" class=\"dataframe\">\n",
       "  <thead>\n",
       "    <tr style=\"text-align: right;\">\n",
       "      <th></th>\n",
       "      <th>count</th>\n",
       "      <th>percent</th>\n",
       "    </tr>\n",
       "  </thead>\n",
       "  <tbody>\n",
       "    <tr>\n",
       "      <td>Critic_Score</td>\n",
       "      <td>8578.0</td>\n",
       "      <td>51.32</td>\n",
       "    </tr>\n",
       "    <tr>\n",
       "      <td>Rating</td>\n",
       "      <td>6766.0</td>\n",
       "      <td>40.48</td>\n",
       "    </tr>\n",
       "    <tr>\n",
       "      <td>User_Score</td>\n",
       "      <td>6701.0</td>\n",
       "      <td>40.09</td>\n",
       "    </tr>\n",
       "    <tr>\n",
       "      <td>Year_of_Release</td>\n",
       "      <td>269.0</td>\n",
       "      <td>1.61</td>\n",
       "    </tr>\n",
       "    <tr>\n",
       "      <td>Name</td>\n",
       "      <td>2.0</td>\n",
       "      <td>0.01</td>\n",
       "    </tr>\n",
       "    <tr>\n",
       "      <td>Genre</td>\n",
       "      <td>2.0</td>\n",
       "      <td>0.01</td>\n",
       "    </tr>\n",
       "  </tbody>\n",
       "</table>\n",
       "</div>"
      ],
      "text/plain": [
       "                  count  percent\n",
       "Critic_Score     8578.0    51.32\n",
       "Rating           6766.0    40.48\n",
       "User_Score       6701.0    40.09\n",
       "Year_of_Release   269.0     1.61\n",
       "Name                2.0     0.01\n",
       "Genre               2.0     0.01"
      ]
     },
     "metadata": {},
     "output_type": "display_data"
    }
   ],
   "source": [
    "print_isna(df, df.columns)"
   ]
  },
  {
   "cell_type": "markdown",
   "id": "835f0dfe",
   "metadata": {},
   "source": [
    "Как мы видим, основные пропуски находятся с столбцах с оценками и рейтингом"
   ]
  },
  {
   "cell_type": "markdown",
   "id": "ef5c21e2",
   "metadata": {},
   "source": [
    "Посмотрим есть ли дубликаты"
   ]
  },
  {
   "cell_type": "code",
   "execution_count": 8,
   "id": "286aa5ba",
   "metadata": {},
   "outputs": [
    {
     "name": "stdout",
     "output_type": "stream",
     "text": [
      "Количество дубликатов 0 шт.\n"
     ]
    }
   ],
   "source": [
    "print('Количество дубликатов {} шт.'.format(df.duplicated().sum()))"
   ]
  },
  {
   "cell_type": "markdown",
   "id": "e75341aa",
   "metadata": {},
   "source": [
    "Посмотрим на уникальные значения в столбце `Platform` — платформа"
   ]
  },
  {
   "cell_type": "code",
   "execution_count": 9,
   "id": "e54d33c3",
   "metadata": {},
   "outputs": [
    {
     "data": {
      "text/plain": [
       "array(['Wii', 'NES', 'GB', 'DS', 'X360', 'PS3', 'PS2', 'SNES', 'GBA',\n",
       "       'PS4', '3DS', 'N64', 'PS', 'XB', 'PC', '2600', 'PSP', 'XOne',\n",
       "       'WiiU', 'GC', 'GEN', 'DC', 'PSV', 'SAT', 'SCD', 'WS', 'NG', 'TG16',\n",
       "       '3DO', 'GG', 'PCFX'], dtype=object)"
      ]
     },
     "execution_count": 9,
     "metadata": {},
     "output_type": "execute_result"
    }
   ],
   "source": [
    "df['Platform'].unique()"
   ]
  },
  {
   "cell_type": "markdown",
   "id": "9f0be8b0",
   "metadata": {},
   "source": [
    "Все приставки названы верно и нет ошибочных значений"
   ]
  },
  {
   "cell_type": "markdown",
   "id": "55954a53",
   "metadata": {},
   "source": [
    "Посмотрим на уникальные значения в столбце `Genre` — жанр игры"
   ]
  },
  {
   "cell_type": "code",
   "execution_count": 10,
   "id": "de1c9fdc",
   "metadata": {},
   "outputs": [
    {
     "data": {
      "text/plain": [
       "array(['Sports', 'Platform', 'Racing', 'Role-Playing', 'Puzzle', 'Misc',\n",
       "       'Shooter', 'Simulation', 'Action', 'Fighting', 'Adventure',\n",
       "       'Strategy', nan], dtype=object)"
      ]
     },
     "execution_count": 10,
     "metadata": {},
     "output_type": "execute_result"
    }
   ],
   "source": [
    "df['Genre'].unique()"
   ]
  },
  {
   "cell_type": "markdown",
   "id": "a5358ec8",
   "metadata": {},
   "source": [
    "Все жанры названы верно и нет ошибочных значений, кроме пропущенных"
   ]
  },
  {
   "cell_type": "markdown",
   "id": "d3466889",
   "metadata": {},
   "source": [
    "Посмотрим на уникальные значения в столбце `User_Score` — оценка пользователей"
   ]
  },
  {
   "cell_type": "code",
   "execution_count": 11,
   "id": "672dc5ec",
   "metadata": {},
   "outputs": [
    {
     "data": {
      "text/plain": [
       "array(['8', nan, '8.3', '8.5', '6.6', '8.4', '8.6', '7.7', '6.3', '7.4',\n",
       "       '8.2', '9', '7.9', '8.1', '8.7', '7.1', '3.4', '5.3', '4.8', '3.2',\n",
       "       '8.9', '6.4', '7.8', '7.5', '2.6', '7.2', '9.2', '7', '7.3', '4.3',\n",
       "       '7.6', '5.7', '5', '9.1', '6.5', 'tbd', '8.8', '6.9', '9.4', '6.8',\n",
       "       '6.1', '6.7', '5.4', '4', '4.9', '4.5', '9.3', '6.2', '4.2', '6',\n",
       "       '3.7', '4.1', '5.8', '5.6', '5.5', '4.4', '4.6', '5.9', '3.9',\n",
       "       '3.1', '2.9', '5.2', '3.3', '4.7', '5.1', '3.5', '2.5', '1.9', '3',\n",
       "       '2.7', '2.2', '2', '9.5', '2.1', '3.6', '2.8', '1.8', '3.8', '0',\n",
       "       '1.6', '9.6', '2.4', '1.7', '1.1', '0.3', '1.5', '0.7', '1.2',\n",
       "       '2.3', '0.5', '1.3', '0.2', '0.6', '1.4', '0.9', '1', '9.7'],\n",
       "      dtype=object)"
      ]
     },
     "execution_count": 11,
     "metadata": {},
     "output_type": "execute_result"
    }
   ],
   "source": [
    "df['User_Score'].unique()"
   ]
  },
  {
   "cell_type": "markdown",
   "id": "e9fd8c55",
   "metadata": {},
   "source": [
    "В интернете пишут, что аббревиатура **tbd** происходит от английского To Be Determined (будет определено) или To Be Decided (будет решено). Используется, если какая-то информация еще не определена. Получается это пропущенные значения и их следует заменить на **None**"
   ]
  },
  {
   "cell_type": "markdown",
   "id": "d35e4aac",
   "metadata": {},
   "source": [
    "Посмотрим на уникальные значения в столбце `Rating` — рейтинг от организации ESRB"
   ]
  },
  {
   "cell_type": "code",
   "execution_count": 12,
   "id": "1c29ef07",
   "metadata": {},
   "outputs": [
    {
     "data": {
      "text/plain": [
       "array(['E', nan, 'M', 'T', 'E10+', 'K-A', 'AO', 'EC', 'RP'], dtype=object)"
      ]
     },
     "execution_count": 12,
     "metadata": {},
     "output_type": "execute_result"
    }
   ],
   "source": [
    "df['Rating'].unique()"
   ]
  },
  {
   "cell_type": "markdown",
   "id": "a828a9ab",
   "metadata": {},
   "source": [
    "Аббривиатуры расшифровываются следующим образом:\n",
    "* «E» («Everyone») — «Для всех»  \n",
    "* «M» («Mature») — «Для взрослых»  \n",
    "* «T» («Teen») — «Подросткам»\n",
    "* «E10+» («Everyone 10 and older») — «Для всех от 10 лет и старше»\n",
    "* «K-A» («Kids to Adults») — «Для детей и взрослых»\n",
    "* «AO» («Adults Only 18+») — «Только для взрослых»\n",
    "* «EC» («Early childhood») — «Для детей младшего возраста»\n",
    "* «RP» («Rating Pending») — «Рейтинг ожидается»"
   ]
  },
  {
   "cell_type": "markdown",
   "id": "81c652ea",
   "metadata": {},
   "source": [
    "## Вывод после изучения данных"
   ]
  },
  {
   "cell_type": "markdown",
   "id": "4cf81c68",
   "metadata": {},
   "source": [
    "На этапе предобработки данных необходимо сделать следующее:\n",
    "1) Столбцы необходимо привести к нижнему регистру  \n",
    "2) Разобраться с пропущенными значениями  \n",
    "3) Привести столбцы к нужному типу данных  \n",
    "* Cтолбец `Year_of_Release` необходимо привести к типу данных **int**  \n",
    "* Столбец `User_Score` помимо оценок содержит и текстовую информацию, необходимо от нее избавиться и привести столбец к типу **float** \n",
    "\n",
    "4) Можно создать столбец с общей суммой продаж по всем регионам"
   ]
  },
  {
   "cell_type": "markdown",
   "id": "b5b112ab",
   "metadata": {},
   "source": [
    "# Предобработка данных"
   ]
  },
  {
   "cell_type": "markdown",
   "id": "5ce0b84c",
   "metadata": {},
   "source": [
    "## Займемся названиями столбцов"
   ]
  },
  {
   "cell_type": "markdown",
   "id": "b457913e",
   "metadata": {},
   "source": [
    "Приведем названия столбцов к нижнему регистру"
   ]
  },
  {
   "cell_type": "code",
   "execution_count": 13,
   "id": "18987aa2",
   "metadata": {},
   "outputs": [],
   "source": [
    "df.columns = df.columns.str.lower()"
   ]
  },
  {
   "cell_type": "code",
   "execution_count": 14,
   "id": "a57f0fd2",
   "metadata": {},
   "outputs": [
    {
     "data": {
      "text/html": [
       "<div>\n",
       "<style scoped>\n",
       "    .dataframe tbody tr th:only-of-type {\n",
       "        vertical-align: middle;\n",
       "    }\n",
       "\n",
       "    .dataframe tbody tr th {\n",
       "        vertical-align: top;\n",
       "    }\n",
       "\n",
       "    .dataframe thead th {\n",
       "        text-align: right;\n",
       "    }\n",
       "</style>\n",
       "<table border=\"1\" class=\"dataframe\">\n",
       "  <thead>\n",
       "    <tr style=\"text-align: right;\">\n",
       "      <th></th>\n",
       "      <th>name</th>\n",
       "      <th>platform</th>\n",
       "      <th>year_of_release</th>\n",
       "      <th>genre</th>\n",
       "      <th>na_sales</th>\n",
       "      <th>eu_sales</th>\n",
       "      <th>jp_sales</th>\n",
       "      <th>other_sales</th>\n",
       "      <th>critic_score</th>\n",
       "      <th>user_score</th>\n",
       "      <th>rating</th>\n",
       "    </tr>\n",
       "  </thead>\n",
       "  <tbody>\n",
       "    <tr>\n",
       "      <td>0</td>\n",
       "      <td>Wii Sports</td>\n",
       "      <td>Wii</td>\n",
       "      <td>2006.0</td>\n",
       "      <td>Sports</td>\n",
       "      <td>41.36</td>\n",
       "      <td>28.96</td>\n",
       "      <td>3.77</td>\n",
       "      <td>8.45</td>\n",
       "      <td>76.0</td>\n",
       "      <td>8</td>\n",
       "      <td>E</td>\n",
       "    </tr>\n",
       "    <tr>\n",
       "      <td>1</td>\n",
       "      <td>Super Mario Bros.</td>\n",
       "      <td>NES</td>\n",
       "      <td>1985.0</td>\n",
       "      <td>Platform</td>\n",
       "      <td>29.08</td>\n",
       "      <td>3.58</td>\n",
       "      <td>6.81</td>\n",
       "      <td>0.77</td>\n",
       "      <td>NaN</td>\n",
       "      <td>NaN</td>\n",
       "      <td>NaN</td>\n",
       "    </tr>\n",
       "    <tr>\n",
       "      <td>2</td>\n",
       "      <td>Mario Kart Wii</td>\n",
       "      <td>Wii</td>\n",
       "      <td>2008.0</td>\n",
       "      <td>Racing</td>\n",
       "      <td>15.68</td>\n",
       "      <td>12.76</td>\n",
       "      <td>3.79</td>\n",
       "      <td>3.29</td>\n",
       "      <td>82.0</td>\n",
       "      <td>8.3</td>\n",
       "      <td>E</td>\n",
       "    </tr>\n",
       "    <tr>\n",
       "      <td>3</td>\n",
       "      <td>Wii Sports Resort</td>\n",
       "      <td>Wii</td>\n",
       "      <td>2009.0</td>\n",
       "      <td>Sports</td>\n",
       "      <td>15.61</td>\n",
       "      <td>10.93</td>\n",
       "      <td>3.28</td>\n",
       "      <td>2.95</td>\n",
       "      <td>80.0</td>\n",
       "      <td>8</td>\n",
       "      <td>E</td>\n",
       "    </tr>\n",
       "    <tr>\n",
       "      <td>4</td>\n",
       "      <td>Pokemon Red/Pokemon Blue</td>\n",
       "      <td>GB</td>\n",
       "      <td>1996.0</td>\n",
       "      <td>Role-Playing</td>\n",
       "      <td>11.27</td>\n",
       "      <td>8.89</td>\n",
       "      <td>10.22</td>\n",
       "      <td>1.00</td>\n",
       "      <td>NaN</td>\n",
       "      <td>NaN</td>\n",
       "      <td>NaN</td>\n",
       "    </tr>\n",
       "    <tr>\n",
       "      <td>5</td>\n",
       "      <td>Tetris</td>\n",
       "      <td>GB</td>\n",
       "      <td>1989.0</td>\n",
       "      <td>Puzzle</td>\n",
       "      <td>23.20</td>\n",
       "      <td>2.26</td>\n",
       "      <td>4.22</td>\n",
       "      <td>0.58</td>\n",
       "      <td>NaN</td>\n",
       "      <td>NaN</td>\n",
       "      <td>NaN</td>\n",
       "    </tr>\n",
       "    <tr>\n",
       "      <td>6</td>\n",
       "      <td>New Super Mario Bros.</td>\n",
       "      <td>DS</td>\n",
       "      <td>2006.0</td>\n",
       "      <td>Platform</td>\n",
       "      <td>11.28</td>\n",
       "      <td>9.14</td>\n",
       "      <td>6.50</td>\n",
       "      <td>2.88</td>\n",
       "      <td>89.0</td>\n",
       "      <td>8.5</td>\n",
       "      <td>E</td>\n",
       "    </tr>\n",
       "    <tr>\n",
       "      <td>7</td>\n",
       "      <td>Wii Play</td>\n",
       "      <td>Wii</td>\n",
       "      <td>2006.0</td>\n",
       "      <td>Misc</td>\n",
       "      <td>13.96</td>\n",
       "      <td>9.18</td>\n",
       "      <td>2.93</td>\n",
       "      <td>2.84</td>\n",
       "      <td>58.0</td>\n",
       "      <td>6.6</td>\n",
       "      <td>E</td>\n",
       "    </tr>\n",
       "    <tr>\n",
       "      <td>8</td>\n",
       "      <td>New Super Mario Bros. Wii</td>\n",
       "      <td>Wii</td>\n",
       "      <td>2009.0</td>\n",
       "      <td>Platform</td>\n",
       "      <td>14.44</td>\n",
       "      <td>6.94</td>\n",
       "      <td>4.70</td>\n",
       "      <td>2.24</td>\n",
       "      <td>87.0</td>\n",
       "      <td>8.4</td>\n",
       "      <td>E</td>\n",
       "    </tr>\n",
       "    <tr>\n",
       "      <td>9</td>\n",
       "      <td>Duck Hunt</td>\n",
       "      <td>NES</td>\n",
       "      <td>1984.0</td>\n",
       "      <td>Shooter</td>\n",
       "      <td>26.93</td>\n",
       "      <td>0.63</td>\n",
       "      <td>0.28</td>\n",
       "      <td>0.47</td>\n",
       "      <td>NaN</td>\n",
       "      <td>NaN</td>\n",
       "      <td>NaN</td>\n",
       "    </tr>\n",
       "  </tbody>\n",
       "</table>\n",
       "</div>"
      ],
      "text/plain": [
       "                        name platform  year_of_release         genre  \\\n",
       "0                 Wii Sports      Wii           2006.0        Sports   \n",
       "1          Super Mario Bros.      NES           1985.0      Platform   \n",
       "2             Mario Kart Wii      Wii           2008.0        Racing   \n",
       "3          Wii Sports Resort      Wii           2009.0        Sports   \n",
       "4   Pokemon Red/Pokemon Blue       GB           1996.0  Role-Playing   \n",
       "5                     Tetris       GB           1989.0        Puzzle   \n",
       "6      New Super Mario Bros.       DS           2006.0      Platform   \n",
       "7                   Wii Play      Wii           2006.0          Misc   \n",
       "8  New Super Mario Bros. Wii      Wii           2009.0      Platform   \n",
       "9                  Duck Hunt      NES           1984.0       Shooter   \n",
       "\n",
       "   na_sales  eu_sales  jp_sales  other_sales  critic_score user_score rating  \n",
       "0     41.36     28.96      3.77         8.45          76.0          8      E  \n",
       "1     29.08      3.58      6.81         0.77           NaN        NaN    NaN  \n",
       "2     15.68     12.76      3.79         3.29          82.0        8.3      E  \n",
       "3     15.61     10.93      3.28         2.95          80.0          8      E  \n",
       "4     11.27      8.89     10.22         1.00           NaN        NaN    NaN  \n",
       "5     23.20      2.26      4.22         0.58           NaN        NaN    NaN  \n",
       "6     11.28      9.14      6.50         2.88          89.0        8.5      E  \n",
       "7     13.96      9.18      2.93         2.84          58.0        6.6      E  \n",
       "8     14.44      6.94      4.70         2.24          87.0        8.4      E  \n",
       "9     26.93      0.63      0.28         0.47           NaN        NaN    NaN  "
      ]
     },
     "execution_count": 14,
     "metadata": {},
     "output_type": "execute_result"
    }
   ],
   "source": [
    "df.head(10)"
   ]
  },
  {
   "cell_type": "markdown",
   "id": "b27e4a0f",
   "metadata": {},
   "source": [
    "## Разберемся с пропусками"
   ]
  },
  {
   "cell_type": "markdown",
   "id": "f5f42df8",
   "metadata": {},
   "source": [
    "### Займемся столбцом `name` — название игры"
   ]
  },
  {
   "cell_type": "markdown",
   "id": "88016025",
   "metadata": {},
   "source": [
    "Посмотрим на пропуски в столбце `name` — название игры"
   ]
  },
  {
   "cell_type": "code",
   "execution_count": 15,
   "id": "48407ec4",
   "metadata": {},
   "outputs": [
    {
     "data": {
      "text/html": [
       "<div>\n",
       "<style scoped>\n",
       "    .dataframe tbody tr th:only-of-type {\n",
       "        vertical-align: middle;\n",
       "    }\n",
       "\n",
       "    .dataframe tbody tr th {\n",
       "        vertical-align: top;\n",
       "    }\n",
       "\n",
       "    .dataframe thead th {\n",
       "        text-align: right;\n",
       "    }\n",
       "</style>\n",
       "<table border=\"1\" class=\"dataframe\">\n",
       "  <thead>\n",
       "    <tr style=\"text-align: right;\">\n",
       "      <th></th>\n",
       "      <th>name</th>\n",
       "      <th>platform</th>\n",
       "      <th>year_of_release</th>\n",
       "      <th>genre</th>\n",
       "      <th>na_sales</th>\n",
       "      <th>eu_sales</th>\n",
       "      <th>jp_sales</th>\n",
       "      <th>other_sales</th>\n",
       "      <th>critic_score</th>\n",
       "      <th>user_score</th>\n",
       "      <th>rating</th>\n",
       "    </tr>\n",
       "  </thead>\n",
       "  <tbody>\n",
       "    <tr>\n",
       "      <td>659</td>\n",
       "      <td>NaN</td>\n",
       "      <td>GEN</td>\n",
       "      <td>1993.0</td>\n",
       "      <td>NaN</td>\n",
       "      <td>1.78</td>\n",
       "      <td>0.53</td>\n",
       "      <td>0.00</td>\n",
       "      <td>0.08</td>\n",
       "      <td>NaN</td>\n",
       "      <td>NaN</td>\n",
       "      <td>NaN</td>\n",
       "    </tr>\n",
       "    <tr>\n",
       "      <td>14244</td>\n",
       "      <td>NaN</td>\n",
       "      <td>GEN</td>\n",
       "      <td>1993.0</td>\n",
       "      <td>NaN</td>\n",
       "      <td>0.00</td>\n",
       "      <td>0.00</td>\n",
       "      <td>0.03</td>\n",
       "      <td>0.00</td>\n",
       "      <td>NaN</td>\n",
       "      <td>NaN</td>\n",
       "      <td>NaN</td>\n",
       "    </tr>\n",
       "  </tbody>\n",
       "</table>\n",
       "</div>"
      ],
      "text/plain": [
       "      name platform  year_of_release genre  na_sales  eu_sales  jp_sales  \\\n",
       "659    NaN      GEN           1993.0   NaN      1.78      0.53      0.00   \n",
       "14244  NaN      GEN           1993.0   NaN      0.00      0.00      0.03   \n",
       "\n",
       "       other_sales  critic_score user_score rating  \n",
       "659           0.08           NaN        NaN    NaN  \n",
       "14244         0.00           NaN        NaN    NaN  "
      ]
     },
     "execution_count": 15,
     "metadata": {},
     "output_type": "execute_result"
    }
   ],
   "source": [
    "df[df['name'].isna()]"
   ]
  },
  {
   "cell_type": "code",
   "execution_count": 16,
   "id": "60c53dec",
   "metadata": {},
   "outputs": [
    {
     "name": "stdout",
     "output_type": "stream",
     "text": [
      "Количество пропущенных значений равно 2 шт\n"
     ]
    }
   ],
   "source": [
    "print('Количество пропущенных значений равно {} шт'.format(len(df[df['name'].isna()])))"
   ]
  },
  {
   "cell_type": "markdown",
   "id": "23ba06be",
   "metadata": {},
   "source": [
    "Пропуске с столбцах `name` и `genre` совпадают. Восстановить данные из имеющейся информации не получится, поэтому предлагаю удалить эти строки."
   ]
  },
  {
   "cell_type": "code",
   "execution_count": 17,
   "id": "ff301ae1",
   "metadata": {},
   "outputs": [],
   "source": [
    "df.dropna(subset=['name'], inplace=True)"
   ]
  },
  {
   "cell_type": "markdown",
   "id": "e2b08115",
   "metadata": {},
   "source": [
    "С этим столбцом разобрались пойдем дальше"
   ]
  },
  {
   "cell_type": "markdown",
   "id": "7d9a30a5",
   "metadata": {},
   "source": [
    "### Займемся столбцом `year_of_release` — год выпуска"
   ]
  },
  {
   "cell_type": "markdown",
   "id": "19ae5092",
   "metadata": {},
   "source": [
    "Посмотрим на пропущенные значения в столбеце `year_of_release` — год выпуска"
   ]
  },
  {
   "cell_type": "code",
   "execution_count": 18,
   "id": "5786c976",
   "metadata": {},
   "outputs": [
    {
     "data": {
      "text/html": [
       "<div>\n",
       "<style scoped>\n",
       "    .dataframe tbody tr th:only-of-type {\n",
       "        vertical-align: middle;\n",
       "    }\n",
       "\n",
       "    .dataframe tbody tr th {\n",
       "        vertical-align: top;\n",
       "    }\n",
       "\n",
       "    .dataframe thead th {\n",
       "        text-align: right;\n",
       "    }\n",
       "</style>\n",
       "<table border=\"1\" class=\"dataframe\">\n",
       "  <thead>\n",
       "    <tr style=\"text-align: right;\">\n",
       "      <th></th>\n",
       "      <th>name</th>\n",
       "      <th>platform</th>\n",
       "      <th>year_of_release</th>\n",
       "      <th>genre</th>\n",
       "      <th>na_sales</th>\n",
       "      <th>eu_sales</th>\n",
       "      <th>jp_sales</th>\n",
       "      <th>other_sales</th>\n",
       "      <th>critic_score</th>\n",
       "      <th>user_score</th>\n",
       "      <th>rating</th>\n",
       "    </tr>\n",
       "  </thead>\n",
       "  <tbody>\n",
       "    <tr>\n",
       "      <td>6299</td>\n",
       "      <td>Flag Capture</td>\n",
       "      <td>2600</td>\n",
       "      <td>NaN</td>\n",
       "      <td>Action</td>\n",
       "      <td>0.25</td>\n",
       "      <td>0.02</td>\n",
       "      <td>0.0</td>\n",
       "      <td>0.00</td>\n",
       "      <td>NaN</td>\n",
       "      <td>NaN</td>\n",
       "      <td>NaN</td>\n",
       "    </tr>\n",
       "    <tr>\n",
       "      <td>4445</td>\n",
       "      <td>Robert Ludlum's The Bourne Conspiracy</td>\n",
       "      <td>X360</td>\n",
       "      <td>NaN</td>\n",
       "      <td>Action</td>\n",
       "      <td>0.26</td>\n",
       "      <td>0.13</td>\n",
       "      <td>0.0</td>\n",
       "      <td>0.04</td>\n",
       "      <td>71.0</td>\n",
       "      <td>7.2</td>\n",
       "      <td>T</td>\n",
       "    </tr>\n",
       "    <tr>\n",
       "      <td>2273</td>\n",
       "      <td>LEGO Harry Potter: Years 5-7</td>\n",
       "      <td>PS3</td>\n",
       "      <td>NaN</td>\n",
       "      <td>Action</td>\n",
       "      <td>0.36</td>\n",
       "      <td>0.41</td>\n",
       "      <td>0.0</td>\n",
       "      <td>0.15</td>\n",
       "      <td>76.0</td>\n",
       "      <td>8.3</td>\n",
       "      <td>E10+</td>\n",
       "    </tr>\n",
       "    <tr>\n",
       "      <td>9876</td>\n",
       "      <td>Major League Baseball 2K6</td>\n",
       "      <td>PSP</td>\n",
       "      <td>NaN</td>\n",
       "      <td>Sports</td>\n",
       "      <td>0.11</td>\n",
       "      <td>0.00</td>\n",
       "      <td>0.0</td>\n",
       "      <td>0.01</td>\n",
       "      <td>69.0</td>\n",
       "      <td>tbd</td>\n",
       "      <td>E</td>\n",
       "    </tr>\n",
       "    <tr>\n",
       "      <td>16405</td>\n",
       "      <td>Freaky Flyers</td>\n",
       "      <td>GC</td>\n",
       "      <td>NaN</td>\n",
       "      <td>Racing</td>\n",
       "      <td>0.01</td>\n",
       "      <td>0.00</td>\n",
       "      <td>0.0</td>\n",
       "      <td>0.00</td>\n",
       "      <td>69.0</td>\n",
       "      <td>6.5</td>\n",
       "      <td>T</td>\n",
       "    </tr>\n",
       "    <tr>\n",
       "      <td>12970</td>\n",
       "      <td>Drill Dozer</td>\n",
       "      <td>GBA</td>\n",
       "      <td>NaN</td>\n",
       "      <td>Platform</td>\n",
       "      <td>0.04</td>\n",
       "      <td>0.01</td>\n",
       "      <td>0.0</td>\n",
       "      <td>0.00</td>\n",
       "      <td>81.0</td>\n",
       "      <td>8.3</td>\n",
       "      <td>E</td>\n",
       "    </tr>\n",
       "    <tr>\n",
       "      <td>4648</td>\n",
       "      <td>TERA</td>\n",
       "      <td>PC</td>\n",
       "      <td>NaN</td>\n",
       "      <td>Role-Playing</td>\n",
       "      <td>0.25</td>\n",
       "      <td>0.12</td>\n",
       "      <td>0.0</td>\n",
       "      <td>0.05</td>\n",
       "      <td>77.0</td>\n",
       "      <td>6.8</td>\n",
       "      <td>M</td>\n",
       "    </tr>\n",
       "    <tr>\n",
       "      <td>3459</td>\n",
       "      <td>NASCAR: Dirt to Daytona</td>\n",
       "      <td>PS2</td>\n",
       "      <td>NaN</td>\n",
       "      <td>Racing</td>\n",
       "      <td>0.28</td>\n",
       "      <td>0.22</td>\n",
       "      <td>0.0</td>\n",
       "      <td>0.07</td>\n",
       "      <td>84.0</td>\n",
       "      <td>8.8</td>\n",
       "      <td>E</td>\n",
       "    </tr>\n",
       "    <tr>\n",
       "      <td>5443</td>\n",
       "      <td>Bejeweled 3</td>\n",
       "      <td>DS</td>\n",
       "      <td>NaN</td>\n",
       "      <td>Puzzle</td>\n",
       "      <td>0.29</td>\n",
       "      <td>0.02</td>\n",
       "      <td>0.0</td>\n",
       "      <td>0.02</td>\n",
       "      <td>75.0</td>\n",
       "      <td>tbd</td>\n",
       "      <td>E</td>\n",
       "    </tr>\n",
       "    <tr>\n",
       "      <td>10790</td>\n",
       "      <td>Happy Feet Two</td>\n",
       "      <td>X360</td>\n",
       "      <td>NaN</td>\n",
       "      <td>Action</td>\n",
       "      <td>0.08</td>\n",
       "      <td>0.01</td>\n",
       "      <td>0.0</td>\n",
       "      <td>0.01</td>\n",
       "      <td>NaN</td>\n",
       "      <td>NaN</td>\n",
       "      <td>NaN</td>\n",
       "    </tr>\n",
       "  </tbody>\n",
       "</table>\n",
       "</div>"
      ],
      "text/plain": [
       "                                        name platform  year_of_release  \\\n",
       "6299                            Flag Capture     2600              NaN   \n",
       "4445   Robert Ludlum's The Bourne Conspiracy     X360              NaN   \n",
       "2273            LEGO Harry Potter: Years 5-7      PS3              NaN   \n",
       "9876               Major League Baseball 2K6      PSP              NaN   \n",
       "16405                          Freaky Flyers       GC              NaN   \n",
       "12970                            Drill Dozer      GBA              NaN   \n",
       "4648                                    TERA       PC              NaN   \n",
       "3459                 NASCAR: Dirt to Daytona      PS2              NaN   \n",
       "5443                             Bejeweled 3       DS              NaN   \n",
       "10790                         Happy Feet Two     X360              NaN   \n",
       "\n",
       "              genre  na_sales  eu_sales  jp_sales  other_sales  critic_score  \\\n",
       "6299         Action      0.25      0.02       0.0         0.00           NaN   \n",
       "4445         Action      0.26      0.13       0.0         0.04          71.0   \n",
       "2273         Action      0.36      0.41       0.0         0.15          76.0   \n",
       "9876         Sports      0.11      0.00       0.0         0.01          69.0   \n",
       "16405        Racing      0.01      0.00       0.0         0.00          69.0   \n",
       "12970      Platform      0.04      0.01       0.0         0.00          81.0   \n",
       "4648   Role-Playing      0.25      0.12       0.0         0.05          77.0   \n",
       "3459         Racing      0.28      0.22       0.0         0.07          84.0   \n",
       "5443         Puzzle      0.29      0.02       0.0         0.02          75.0   \n",
       "10790        Action      0.08      0.01       0.0         0.01           NaN   \n",
       "\n",
       "      user_score rating  \n",
       "6299         NaN    NaN  \n",
       "4445         7.2      T  \n",
       "2273         8.3   E10+  \n",
       "9876         tbd      E  \n",
       "16405        6.5      T  \n",
       "12970        8.3      E  \n",
       "4648         6.8      M  \n",
       "3459         8.8      E  \n",
       "5443         tbd      E  \n",
       "10790        NaN    NaN  "
      ]
     },
     "execution_count": 18,
     "metadata": {},
     "output_type": "execute_result"
    }
   ],
   "source": [
    "df[df['year_of_release'].isna()].sample(10)"
   ]
  },
  {
   "cell_type": "code",
   "execution_count": 19,
   "id": "de7c0a71",
   "metadata": {},
   "outputs": [
    {
     "name": "stdout",
     "output_type": "stream",
     "text": [
      "Количество пропущенных значений равно 269 шт\n"
     ]
    }
   ],
   "source": [
    "print('Количество пропущенных значений равно {} шт'.format(len(df[df['year_of_release'].isna()])))"
   ]
  },
  {
   "cell_type": "markdown",
   "id": "12325c11",
   "metadata": {},
   "source": [
    "Попробуем взять название игр у которых отсутствует год выпуска и посмотреть, не выходила ли она еще на каких-нибудь приставках"
   ]
  },
  {
   "cell_type": "code",
   "execution_count": 20,
   "id": "9fdf0ae0",
   "metadata": {},
   "outputs": [
    {
     "data": {
      "text/html": [
       "<div>\n",
       "<style scoped>\n",
       "    .dataframe tbody tr th:only-of-type {\n",
       "        vertical-align: middle;\n",
       "    }\n",
       "\n",
       "    .dataframe tbody tr th {\n",
       "        vertical-align: top;\n",
       "    }\n",
       "\n",
       "    .dataframe thead th {\n",
       "        text-align: right;\n",
       "    }\n",
       "</style>\n",
       "<table border=\"1\" class=\"dataframe\">\n",
       "  <thead>\n",
       "    <tr style=\"text-align: right;\">\n",
       "      <th></th>\n",
       "      <th>name</th>\n",
       "      <th>platform</th>\n",
       "      <th>year_of_release</th>\n",
       "      <th>genre</th>\n",
       "      <th>na_sales</th>\n",
       "      <th>eu_sales</th>\n",
       "      <th>jp_sales</th>\n",
       "      <th>other_sales</th>\n",
       "      <th>critic_score</th>\n",
       "      <th>user_score</th>\n",
       "      <th>rating</th>\n",
       "    </tr>\n",
       "  </thead>\n",
       "  <tbody>\n",
       "    <tr>\n",
       "      <td>2107</td>\n",
       "      <td>Dead Space 3</td>\n",
       "      <td>X360</td>\n",
       "      <td>2013.0</td>\n",
       "      <td>Action</td>\n",
       "      <td>0.64</td>\n",
       "      <td>0.26</td>\n",
       "      <td>0.0</td>\n",
       "      <td>0.08</td>\n",
       "      <td>78.0</td>\n",
       "      <td>6.4</td>\n",
       "      <td>M</td>\n",
       "    </tr>\n",
       "    <tr>\n",
       "      <td>2138</td>\n",
       "      <td>Dead Space 3</td>\n",
       "      <td>PS3</td>\n",
       "      <td>2013.0</td>\n",
       "      <td>Action</td>\n",
       "      <td>0.44</td>\n",
       "      <td>0.36</td>\n",
       "      <td>0.0</td>\n",
       "      <td>0.16</td>\n",
       "      <td>76.0</td>\n",
       "      <td>6.4</td>\n",
       "      <td>M</td>\n",
       "    </tr>\n",
       "    <tr>\n",
       "      <td>7724</td>\n",
       "      <td>Dead Space 3</td>\n",
       "      <td>PC</td>\n",
       "      <td>NaN</td>\n",
       "      <td>Action</td>\n",
       "      <td>0.02</td>\n",
       "      <td>0.16</td>\n",
       "      <td>0.0</td>\n",
       "      <td>0.02</td>\n",
       "      <td>78.0</td>\n",
       "      <td>6</td>\n",
       "      <td>M</td>\n",
       "    </tr>\n",
       "    <tr>\n",
       "      <td>12784</td>\n",
       "      <td>Tom Clancy's Rainbow Six: Critical Hour</td>\n",
       "      <td>XB</td>\n",
       "      <td>NaN</td>\n",
       "      <td>Shooter</td>\n",
       "      <td>0.04</td>\n",
       "      <td>0.01</td>\n",
       "      <td>0.0</td>\n",
       "      <td>0.00</td>\n",
       "      <td>54.0</td>\n",
       "      <td>3.6</td>\n",
       "      <td>M</td>\n",
       "    </tr>\n",
       "  </tbody>\n",
       "</table>\n",
       "</div>"
      ],
      "text/plain": [
       "                                          name platform  year_of_release  \\\n",
       "2107                              Dead Space 3     X360           2013.0   \n",
       "2138                              Dead Space 3      PS3           2013.0   \n",
       "7724                              Dead Space 3       PC              NaN   \n",
       "12784  Tom Clancy's Rainbow Six: Critical Hour       XB              NaN   \n",
       "\n",
       "         genre  na_sales  eu_sales  jp_sales  other_sales  critic_score  \\\n",
       "2107    Action      0.64      0.26       0.0         0.08          78.0   \n",
       "2138    Action      0.44      0.36       0.0         0.16          76.0   \n",
       "7724    Action      0.02      0.16       0.0         0.02          78.0   \n",
       "12784  Shooter      0.04      0.01       0.0         0.00          54.0   \n",
       "\n",
       "      user_score rating  \n",
       "2107         6.4      M  \n",
       "2138         6.4      M  \n",
       "7724           6      M  \n",
       "12784        3.6      M  "
      ]
     },
     "execution_count": 20,
     "metadata": {},
     "output_type": "execute_result"
    }
   ],
   "source": [
    "df[(df['name']=='Dead Space 3')|(df['name']==\"Tom Clancy's Rainbow Six: Critical Hour\")]"
   ]
  },
  {
   "cell_type": "markdown",
   "id": "a74e7a4d",
   "metadata": {},
   "source": [
    "Некоторые игры выходили сразу на нескольких приставках, восстановим для них пропущенное значения года по имеющимся данным, но как мы видим, для некоторых игр данные все же отсутствуют.  \n",
    "Заполнил пропущенные значения"
   ]
  },
  {
   "cell_type": "code",
   "execution_count": 21,
   "id": "a2446b5c",
   "metadata": {},
   "outputs": [],
   "source": [
    "df.loc[df['year_of_release'].isna(),\n",
    "       'year_of_release'] = df.loc[df['year_of_release'].isna(), 'name'].map(\n",
    "           df.groupby('name')['year_of_release'].last())"
   ]
  },
  {
   "cell_type": "markdown",
   "id": "d8dded6c",
   "metadata": {},
   "source": [
    "Выведем еще раз таблицу с названием игр у которых отсутствует год выпуска и посмотреть, есть ли изменения"
   ]
  },
  {
   "cell_type": "code",
   "execution_count": 22,
   "id": "642db61c",
   "metadata": {},
   "outputs": [
    {
     "data": {
      "text/html": [
       "<div>\n",
       "<style scoped>\n",
       "    .dataframe tbody tr th:only-of-type {\n",
       "        vertical-align: middle;\n",
       "    }\n",
       "\n",
       "    .dataframe tbody tr th {\n",
       "        vertical-align: top;\n",
       "    }\n",
       "\n",
       "    .dataframe thead th {\n",
       "        text-align: right;\n",
       "    }\n",
       "</style>\n",
       "<table border=\"1\" class=\"dataframe\">\n",
       "  <thead>\n",
       "    <tr style=\"text-align: right;\">\n",
       "      <th></th>\n",
       "      <th>name</th>\n",
       "      <th>platform</th>\n",
       "      <th>year_of_release</th>\n",
       "      <th>genre</th>\n",
       "      <th>na_sales</th>\n",
       "      <th>eu_sales</th>\n",
       "      <th>jp_sales</th>\n",
       "      <th>other_sales</th>\n",
       "      <th>critic_score</th>\n",
       "      <th>user_score</th>\n",
       "      <th>rating</th>\n",
       "    </tr>\n",
       "  </thead>\n",
       "  <tbody>\n",
       "    <tr>\n",
       "      <td>2107</td>\n",
       "      <td>Dead Space 3</td>\n",
       "      <td>X360</td>\n",
       "      <td>2013.0</td>\n",
       "      <td>Action</td>\n",
       "      <td>0.64</td>\n",
       "      <td>0.26</td>\n",
       "      <td>0.0</td>\n",
       "      <td>0.08</td>\n",
       "      <td>78.0</td>\n",
       "      <td>6.4</td>\n",
       "      <td>M</td>\n",
       "    </tr>\n",
       "    <tr>\n",
       "      <td>2138</td>\n",
       "      <td>Dead Space 3</td>\n",
       "      <td>PS3</td>\n",
       "      <td>2013.0</td>\n",
       "      <td>Action</td>\n",
       "      <td>0.44</td>\n",
       "      <td>0.36</td>\n",
       "      <td>0.0</td>\n",
       "      <td>0.16</td>\n",
       "      <td>76.0</td>\n",
       "      <td>6.4</td>\n",
       "      <td>M</td>\n",
       "    </tr>\n",
       "    <tr>\n",
       "      <td>7724</td>\n",
       "      <td>Dead Space 3</td>\n",
       "      <td>PC</td>\n",
       "      <td>2013.0</td>\n",
       "      <td>Action</td>\n",
       "      <td>0.02</td>\n",
       "      <td>0.16</td>\n",
       "      <td>0.0</td>\n",
       "      <td>0.02</td>\n",
       "      <td>78.0</td>\n",
       "      <td>6</td>\n",
       "      <td>M</td>\n",
       "    </tr>\n",
       "    <tr>\n",
       "      <td>12784</td>\n",
       "      <td>Tom Clancy's Rainbow Six: Critical Hour</td>\n",
       "      <td>XB</td>\n",
       "      <td>NaN</td>\n",
       "      <td>Shooter</td>\n",
       "      <td>0.04</td>\n",
       "      <td>0.01</td>\n",
       "      <td>0.0</td>\n",
       "      <td>0.00</td>\n",
       "      <td>54.0</td>\n",
       "      <td>3.6</td>\n",
       "      <td>M</td>\n",
       "    </tr>\n",
       "  </tbody>\n",
       "</table>\n",
       "</div>"
      ],
      "text/plain": [
       "                                          name platform  year_of_release  \\\n",
       "2107                              Dead Space 3     X360           2013.0   \n",
       "2138                              Dead Space 3      PS3           2013.0   \n",
       "7724                              Dead Space 3       PC           2013.0   \n",
       "12784  Tom Clancy's Rainbow Six: Critical Hour       XB              NaN   \n",
       "\n",
       "         genre  na_sales  eu_sales  jp_sales  other_sales  critic_score  \\\n",
       "2107    Action      0.64      0.26       0.0         0.08          78.0   \n",
       "2138    Action      0.44      0.36       0.0         0.16          76.0   \n",
       "7724    Action      0.02      0.16       0.0         0.02          78.0   \n",
       "12784  Shooter      0.04      0.01       0.0         0.00          54.0   \n",
       "\n",
       "      user_score rating  \n",
       "2107         6.4      M  \n",
       "2138         6.4      M  \n",
       "7724           6      M  \n",
       "12784        3.6      M  "
      ]
     },
     "execution_count": 22,
     "metadata": {},
     "output_type": "execute_result"
    }
   ],
   "source": [
    "df[(df['name']=='Dead Space 3')|(df['name']==\"Tom Clancy's Rainbow Six: Critical Hour\")]"
   ]
  },
  {
   "cell_type": "markdown",
   "id": "c065bdc7",
   "metadata": {},
   "source": [
    "Как мы видим у одной игры пропуск заполнился, посмотрим сколько осталось значений"
   ]
  },
  {
   "cell_type": "code",
   "execution_count": 23,
   "id": "6642a1ab",
   "metadata": {},
   "outputs": [
    {
     "data": {
      "text/html": [
       "<div>\n",
       "<style scoped>\n",
       "    .dataframe tbody tr th:only-of-type {\n",
       "        vertical-align: middle;\n",
       "    }\n",
       "\n",
       "    .dataframe tbody tr th {\n",
       "        vertical-align: top;\n",
       "    }\n",
       "\n",
       "    .dataframe thead th {\n",
       "        text-align: right;\n",
       "    }\n",
       "</style>\n",
       "<table border=\"1\" class=\"dataframe\">\n",
       "  <thead>\n",
       "    <tr style=\"text-align: right;\">\n",
       "      <th></th>\n",
       "      <th>count</th>\n",
       "      <th>percent</th>\n",
       "    </tr>\n",
       "  </thead>\n",
       "  <tbody>\n",
       "    <tr>\n",
       "      <td>critic_score</td>\n",
       "      <td>8576.0</td>\n",
       "      <td>51.31</td>\n",
       "    </tr>\n",
       "    <tr>\n",
       "      <td>rating</td>\n",
       "      <td>6764.0</td>\n",
       "      <td>40.47</td>\n",
       "    </tr>\n",
       "    <tr>\n",
       "      <td>user_score</td>\n",
       "      <td>6699.0</td>\n",
       "      <td>40.08</td>\n",
       "    </tr>\n",
       "    <tr>\n",
       "      <td>year_of_release</td>\n",
       "      <td>146.0</td>\n",
       "      <td>0.87</td>\n",
       "    </tr>\n",
       "  </tbody>\n",
       "</table>\n",
       "</div>"
      ],
      "text/plain": [
       "                  count  percent\n",
       "critic_score     8576.0    51.31\n",
       "rating           6764.0    40.47\n",
       "user_score       6699.0    40.08\n",
       "year_of_release   146.0     0.87"
      ]
     },
     "metadata": {},
     "output_type": "display_data"
    }
   ],
   "source": [
    "print_isna(df, df.columns)"
   ]
  },
  {
   "cell_type": "markdown",
   "id": "4830b94b",
   "metadata": {},
   "source": [
    "Осталось 146 игр без даты релиза, но это маленькое значение относительно всего датасета и достоверно точно не получится восстановить эти данные, поэтому предлагаю удалить эти данные"
   ]
  },
  {
   "cell_type": "code",
   "execution_count": 24,
   "id": "ce4eddfb",
   "metadata": {},
   "outputs": [],
   "source": [
    "df.dropna(subset=['year_of_release'], inplace=True)"
   ]
  },
  {
   "cell_type": "markdown",
   "id": "763bf85b",
   "metadata": {},
   "source": [
    "Так же предлагаю поменять тип данных на **int**"
   ]
  },
  {
   "cell_type": "code",
   "execution_count": 25,
   "id": "be39bd5b",
   "metadata": {},
   "outputs": [],
   "source": [
    "df['year_of_release'] = df['year_of_release'].astype('int')"
   ]
  },
  {
   "cell_type": "markdown",
   "id": "814df5e0",
   "metadata": {},
   "source": [
    "### Займемся столбцом `rating` — рейтинг от организации ESRB"
   ]
  },
  {
   "cell_type": "markdown",
   "id": "0fe7912d",
   "metadata": {},
   "source": [
    "Посмотрим на пропущенные значения"
   ]
  },
  {
   "cell_type": "code",
   "execution_count": 26,
   "id": "c7b09ddf",
   "metadata": {},
   "outputs": [
    {
     "data": {
      "text/html": [
       "<div>\n",
       "<style scoped>\n",
       "    .dataframe tbody tr th:only-of-type {\n",
       "        vertical-align: middle;\n",
       "    }\n",
       "\n",
       "    .dataframe tbody tr th {\n",
       "        vertical-align: top;\n",
       "    }\n",
       "\n",
       "    .dataframe thead th {\n",
       "        text-align: right;\n",
       "    }\n",
       "</style>\n",
       "<table border=\"1\" class=\"dataframe\">\n",
       "  <thead>\n",
       "    <tr style=\"text-align: right;\">\n",
       "      <th></th>\n",
       "      <th>name</th>\n",
       "      <th>platform</th>\n",
       "      <th>year_of_release</th>\n",
       "      <th>genre</th>\n",
       "      <th>na_sales</th>\n",
       "      <th>eu_sales</th>\n",
       "      <th>jp_sales</th>\n",
       "      <th>other_sales</th>\n",
       "      <th>critic_score</th>\n",
       "      <th>user_score</th>\n",
       "      <th>rating</th>\n",
       "    </tr>\n",
       "  </thead>\n",
       "  <tbody>\n",
       "    <tr>\n",
       "      <td>10559</td>\n",
       "      <td>Hakuouki Portable</td>\n",
       "      <td>PSP</td>\n",
       "      <td>2009</td>\n",
       "      <td>Adventure</td>\n",
       "      <td>0.00</td>\n",
       "      <td>0.00</td>\n",
       "      <td>0.10</td>\n",
       "      <td>0.00</td>\n",
       "      <td>NaN</td>\n",
       "      <td>NaN</td>\n",
       "      <td>NaN</td>\n",
       "    </tr>\n",
       "    <tr>\n",
       "      <td>3184</td>\n",
       "      <td>Taiko no Tatsujin: Chibi Dragon to Fushigi na Orb</td>\n",
       "      <td>3DS</td>\n",
       "      <td>2012</td>\n",
       "      <td>Misc</td>\n",
       "      <td>0.00</td>\n",
       "      <td>0.00</td>\n",
       "      <td>0.63</td>\n",
       "      <td>0.00</td>\n",
       "      <td>NaN</td>\n",
       "      <td>NaN</td>\n",
       "      <td>NaN</td>\n",
       "    </tr>\n",
       "    <tr>\n",
       "      <td>861</td>\n",
       "      <td>SimCity</td>\n",
       "      <td>SNES</td>\n",
       "      <td>1991</td>\n",
       "      <td>Simulation</td>\n",
       "      <td>0.93</td>\n",
       "      <td>0.27</td>\n",
       "      <td>0.75</td>\n",
       "      <td>0.04</td>\n",
       "      <td>NaN</td>\n",
       "      <td>NaN</td>\n",
       "      <td>NaN</td>\n",
       "    </tr>\n",
       "    <tr>\n",
       "      <td>13969</td>\n",
       "      <td>I'm A Celebrity: Get Me Out of Here!</td>\n",
       "      <td>DS</td>\n",
       "      <td>2009</td>\n",
       "      <td>Misc</td>\n",
       "      <td>0.00</td>\n",
       "      <td>0.04</td>\n",
       "      <td>0.00</td>\n",
       "      <td>0.00</td>\n",
       "      <td>NaN</td>\n",
       "      <td>NaN</td>\n",
       "      <td>NaN</td>\n",
       "    </tr>\n",
       "    <tr>\n",
       "      <td>16098</td>\n",
       "      <td>Secret Game Portable</td>\n",
       "      <td>PSP</td>\n",
       "      <td>2010</td>\n",
       "      <td>Adventure</td>\n",
       "      <td>0.00</td>\n",
       "      <td>0.00</td>\n",
       "      <td>0.01</td>\n",
       "      <td>0.00</td>\n",
       "      <td>NaN</td>\n",
       "      <td>NaN</td>\n",
       "      <td>NaN</td>\n",
       "    </tr>\n",
       "    <tr>\n",
       "      <td>794</td>\n",
       "      <td>Derby Stallion</td>\n",
       "      <td>PS</td>\n",
       "      <td>1997</td>\n",
       "      <td>Sports</td>\n",
       "      <td>0.00</td>\n",
       "      <td>0.00</td>\n",
       "      <td>1.96</td>\n",
       "      <td>0.14</td>\n",
       "      <td>NaN</td>\n",
       "      <td>NaN</td>\n",
       "      <td>NaN</td>\n",
       "    </tr>\n",
       "    <tr>\n",
       "      <td>4646</td>\n",
       "      <td>Zack &amp; Wiki: Quest for Barbaros' Treasure</td>\n",
       "      <td>Wii</td>\n",
       "      <td>2007</td>\n",
       "      <td>Adventure</td>\n",
       "      <td>0.18</td>\n",
       "      <td>0.16</td>\n",
       "      <td>0.03</td>\n",
       "      <td>0.04</td>\n",
       "      <td>NaN</td>\n",
       "      <td>NaN</td>\n",
       "      <td>NaN</td>\n",
       "    </tr>\n",
       "    <tr>\n",
       "      <td>7085</td>\n",
       "      <td>Dark Souls II</td>\n",
       "      <td>XOne</td>\n",
       "      <td>2015</td>\n",
       "      <td>Role-Playing</td>\n",
       "      <td>0.14</td>\n",
       "      <td>0.07</td>\n",
       "      <td>0.00</td>\n",
       "      <td>0.02</td>\n",
       "      <td>NaN</td>\n",
       "      <td>NaN</td>\n",
       "      <td>NaN</td>\n",
       "    </tr>\n",
       "    <tr>\n",
       "      <td>10871</td>\n",
       "      <td>Rosco McQueen: Firefighter Extreme</td>\n",
       "      <td>PS</td>\n",
       "      <td>1997</td>\n",
       "      <td>Action</td>\n",
       "      <td>0.05</td>\n",
       "      <td>0.04</td>\n",
       "      <td>0.00</td>\n",
       "      <td>0.01</td>\n",
       "      <td>NaN</td>\n",
       "      <td>NaN</td>\n",
       "      <td>NaN</td>\n",
       "    </tr>\n",
       "    <tr>\n",
       "      <td>5021</td>\n",
       "      <td>MediEvil II</td>\n",
       "      <td>PS</td>\n",
       "      <td>1999</td>\n",
       "      <td>Action</td>\n",
       "      <td>0.21</td>\n",
       "      <td>0.14</td>\n",
       "      <td>0.00</td>\n",
       "      <td>0.02</td>\n",
       "      <td>NaN</td>\n",
       "      <td>NaN</td>\n",
       "      <td>NaN</td>\n",
       "    </tr>\n",
       "  </tbody>\n",
       "</table>\n",
       "</div>"
      ],
      "text/plain": [
       "                                                    name platform  \\\n",
       "10559                                  Hakuouki Portable      PSP   \n",
       "3184   Taiko no Tatsujin: Chibi Dragon to Fushigi na Orb      3DS   \n",
       "861                                              SimCity     SNES   \n",
       "13969               I'm A Celebrity: Get Me Out of Here!       DS   \n",
       "16098                               Secret Game Portable      PSP   \n",
       "794                                       Derby Stallion       PS   \n",
       "4646           Zack & Wiki: Quest for Barbaros' Treasure      Wii   \n",
       "7085                                       Dark Souls II     XOne   \n",
       "10871                 Rosco McQueen: Firefighter Extreme       PS   \n",
       "5021                                         MediEvil II       PS   \n",
       "\n",
       "       year_of_release         genre  na_sales  eu_sales  jp_sales  \\\n",
       "10559             2009     Adventure      0.00      0.00      0.10   \n",
       "3184              2012          Misc      0.00      0.00      0.63   \n",
       "861               1991    Simulation      0.93      0.27      0.75   \n",
       "13969             2009          Misc      0.00      0.04      0.00   \n",
       "16098             2010     Adventure      0.00      0.00      0.01   \n",
       "794               1997        Sports      0.00      0.00      1.96   \n",
       "4646              2007     Adventure      0.18      0.16      0.03   \n",
       "7085              2015  Role-Playing      0.14      0.07      0.00   \n",
       "10871             1997        Action      0.05      0.04      0.00   \n",
       "5021              1999        Action      0.21      0.14      0.00   \n",
       "\n",
       "       other_sales  critic_score user_score rating  \n",
       "10559         0.00           NaN        NaN    NaN  \n",
       "3184          0.00           NaN        NaN    NaN  \n",
       "861           0.04           NaN        NaN    NaN  \n",
       "13969         0.00           NaN        NaN    NaN  \n",
       "16098         0.00           NaN        NaN    NaN  \n",
       "794           0.14           NaN        NaN    NaN  \n",
       "4646          0.04           NaN        NaN    NaN  \n",
       "7085          0.02           NaN        NaN    NaN  \n",
       "10871         0.01           NaN        NaN    NaN  \n",
       "5021          0.02           NaN        NaN    NaN  "
      ]
     },
     "execution_count": 26,
     "metadata": {},
     "output_type": "execute_result"
    }
   ],
   "source": [
    "df[df['rating'].isna()].sample(10)"
   ]
  },
  {
   "cell_type": "code",
   "execution_count": 27,
   "id": "4c23965e",
   "metadata": {},
   "outputs": [
    {
     "name": "stdout",
     "output_type": "stream",
     "text": [
      "Количество пропущенных значений равно 6699 шт\n"
     ]
    }
   ],
   "source": [
    "print('Количество пропущенных значений равно {} шт'.format(len(df[df['rating'].isna()])))"
   ]
  },
  {
   "cell_type": "markdown",
   "id": "f509c7f1",
   "metadata": {},
   "source": [
    "Пропущенные значения предлагаю заменить на **unknown**"
   ]
  },
  {
   "cell_type": "code",
   "execution_count": 28,
   "id": "4e1b5893",
   "metadata": {},
   "outputs": [],
   "source": [
    "df['rating'] = df['rating'].fillna('unknown')"
   ]
  },
  {
   "cell_type": "code",
   "execution_count": 29,
   "id": "9fbf1f0f",
   "metadata": {},
   "outputs": [
    {
     "name": "stdout",
     "output_type": "stream",
     "text": [
      "Теперь количество строк с рейтингом \"unknown\" равно 6699 шт\n"
     ]
    }
   ],
   "source": [
    "print('Теперь количество строк с рейтингом \"unknown\" равно {} шт'.\n",
    "      format(len(df[df['rating']=='unknown'])))"
   ]
  },
  {
   "cell_type": "markdown",
   "id": "50380015",
   "metadata": {},
   "source": [
    "С этим столбцом разобрались, пойдем дальше"
   ]
  },
  {
   "cell_type": "markdown",
   "id": "ce9ad137",
   "metadata": {},
   "source": [
    "### Займемся столбцом `user_score` — оценка пользователей"
   ]
  },
  {
   "cell_type": "markdown",
   "id": "e749fd9b",
   "metadata": {},
   "source": [
    "В столбце `user_score` заменим строки содержащие **tbd** на **None**"
   ]
  },
  {
   "cell_type": "code",
   "execution_count": 30,
   "id": "c2c2887d",
   "metadata": {},
   "outputs": [],
   "source": [
    "df['user_score'] = df['user_score'].replace('tbd', np.nan)"
   ]
  },
  {
   "cell_type": "code",
   "execution_count": 31,
   "id": "a6eb587f",
   "metadata": {},
   "outputs": [
    {
     "name": "stdout",
     "output_type": "stream",
     "text": [
      "Теперь количество нулевых значений в столбце \"user_score\" равно 9027 шт.\n"
     ]
    }
   ],
   "source": [
    "print('Теперь количество нулевых значений в столбце \"user_score\" равно {} шт.'.\n",
    "      format(len(df[df['user_score'].isna()])))"
   ]
  },
  {
   "cell_type": "markdown",
   "id": "70e2c44e",
   "metadata": {},
   "source": [
    "Так же предлагаю поменять тип данных столбца на **float**"
   ]
  },
  {
   "cell_type": "code",
   "execution_count": 32,
   "id": "e3e3dc49",
   "metadata": {},
   "outputs": [],
   "source": [
    "df['user_score'] = df['user_score'].astype('float')"
   ]
  },
  {
   "cell_type": "markdown",
   "id": "33e94432",
   "metadata": {},
   "source": [
    "Посмотрим на пропущенные значения этого столбца"
   ]
  },
  {
   "cell_type": "code",
   "execution_count": 33,
   "id": "3c88ca1d",
   "metadata": {},
   "outputs": [
    {
     "data": {
      "text/html": [
       "<div>\n",
       "<style scoped>\n",
       "    .dataframe tbody tr th:only-of-type {\n",
       "        vertical-align: middle;\n",
       "    }\n",
       "\n",
       "    .dataframe tbody tr th {\n",
       "        vertical-align: top;\n",
       "    }\n",
       "\n",
       "    .dataframe thead th {\n",
       "        text-align: right;\n",
       "    }\n",
       "</style>\n",
       "<table border=\"1\" class=\"dataframe\">\n",
       "  <thead>\n",
       "    <tr style=\"text-align: right;\">\n",
       "      <th></th>\n",
       "      <th>name</th>\n",
       "      <th>platform</th>\n",
       "      <th>year_of_release</th>\n",
       "      <th>genre</th>\n",
       "      <th>na_sales</th>\n",
       "      <th>eu_sales</th>\n",
       "      <th>jp_sales</th>\n",
       "      <th>other_sales</th>\n",
       "      <th>critic_score</th>\n",
       "      <th>user_score</th>\n",
       "      <th>rating</th>\n",
       "    </tr>\n",
       "  </thead>\n",
       "  <tbody>\n",
       "    <tr>\n",
       "      <td>687</td>\n",
       "      <td>Chrono Trigger</td>\n",
       "      <td>SNES</td>\n",
       "      <td>1995</td>\n",
       "      <td>Role-Playing</td>\n",
       "      <td>0.28</td>\n",
       "      <td>0.00</td>\n",
       "      <td>2.02</td>\n",
       "      <td>0.01</td>\n",
       "      <td>NaN</td>\n",
       "      <td>NaN</td>\n",
       "      <td>unknown</td>\n",
       "    </tr>\n",
       "    <tr>\n",
       "      <td>14344</td>\n",
       "      <td>Monster Rancher Hop-A-Bout</td>\n",
       "      <td>PS</td>\n",
       "      <td>2000</td>\n",
       "      <td>Action</td>\n",
       "      <td>0.02</td>\n",
       "      <td>0.01</td>\n",
       "      <td>0.00</td>\n",
       "      <td>0.00</td>\n",
       "      <td>NaN</td>\n",
       "      <td>NaN</td>\n",
       "      <td>unknown</td>\n",
       "    </tr>\n",
       "    <tr>\n",
       "      <td>1513</td>\n",
       "      <td>Test Drive 5</td>\n",
       "      <td>PS</td>\n",
       "      <td>1997</td>\n",
       "      <td>Racing</td>\n",
       "      <td>1.05</td>\n",
       "      <td>0.20</td>\n",
       "      <td>0.00</td>\n",
       "      <td>0.05</td>\n",
       "      <td>NaN</td>\n",
       "      <td>NaN</td>\n",
       "      <td>unknown</td>\n",
       "    </tr>\n",
       "    <tr>\n",
       "      <td>624</td>\n",
       "      <td>Tomb Raider: The Last Revelation</td>\n",
       "      <td>PS</td>\n",
       "      <td>1998</td>\n",
       "      <td>Action</td>\n",
       "      <td>1.15</td>\n",
       "      <td>1.14</td>\n",
       "      <td>0.06</td>\n",
       "      <td>0.13</td>\n",
       "      <td>NaN</td>\n",
       "      <td>NaN</td>\n",
       "      <td>unknown</td>\n",
       "    </tr>\n",
       "    <tr>\n",
       "      <td>2443</td>\n",
       "      <td>NFL GameDay</td>\n",
       "      <td>PS</td>\n",
       "      <td>1995</td>\n",
       "      <td>Sports</td>\n",
       "      <td>0.47</td>\n",
       "      <td>0.32</td>\n",
       "      <td>0.00</td>\n",
       "      <td>0.06</td>\n",
       "      <td>NaN</td>\n",
       "      <td>NaN</td>\n",
       "      <td>unknown</td>\n",
       "    </tr>\n",
       "    <tr>\n",
       "      <td>14465</td>\n",
       "      <td>Super Meat Boy: Ultra Edition!</td>\n",
       "      <td>PC</td>\n",
       "      <td>2011</td>\n",
       "      <td>Platform</td>\n",
       "      <td>0.00</td>\n",
       "      <td>0.02</td>\n",
       "      <td>0.00</td>\n",
       "      <td>0.01</td>\n",
       "      <td>NaN</td>\n",
       "      <td>NaN</td>\n",
       "      <td>unknown</td>\n",
       "    </tr>\n",
       "    <tr>\n",
       "      <td>15935</td>\n",
       "      <td>Final Fantasy XI: All-In-One Pack 2006</td>\n",
       "      <td>X360</td>\n",
       "      <td>2006</td>\n",
       "      <td>Role-Playing</td>\n",
       "      <td>0.00</td>\n",
       "      <td>0.00</td>\n",
       "      <td>0.02</td>\n",
       "      <td>0.00</td>\n",
       "      <td>NaN</td>\n",
       "      <td>NaN</td>\n",
       "      <td>unknown</td>\n",
       "    </tr>\n",
       "    <tr>\n",
       "      <td>15782</td>\n",
       "      <td>Taishou Moebius Line Vitable</td>\n",
       "      <td>PSV</td>\n",
       "      <td>2016</td>\n",
       "      <td>Adventure</td>\n",
       "      <td>0.00</td>\n",
       "      <td>0.00</td>\n",
       "      <td>0.02</td>\n",
       "      <td>0.00</td>\n",
       "      <td>NaN</td>\n",
       "      <td>NaN</td>\n",
       "      <td>unknown</td>\n",
       "    </tr>\n",
       "    <tr>\n",
       "      <td>5503</td>\n",
       "      <td>Night at the Museum: Battle of the Smithsonian</td>\n",
       "      <td>Wii</td>\n",
       "      <td>2009</td>\n",
       "      <td>Action</td>\n",
       "      <td>0.17</td>\n",
       "      <td>0.13</td>\n",
       "      <td>0.00</td>\n",
       "      <td>0.03</td>\n",
       "      <td>54.0</td>\n",
       "      <td>NaN</td>\n",
       "      <td>E10+</td>\n",
       "    </tr>\n",
       "    <tr>\n",
       "      <td>16371</td>\n",
       "      <td>Chaos;Head Noah</td>\n",
       "      <td>PSV</td>\n",
       "      <td>2014</td>\n",
       "      <td>Adventure</td>\n",
       "      <td>0.00</td>\n",
       "      <td>0.00</td>\n",
       "      <td>0.01</td>\n",
       "      <td>0.00</td>\n",
       "      <td>NaN</td>\n",
       "      <td>NaN</td>\n",
       "      <td>unknown</td>\n",
       "    </tr>\n",
       "  </tbody>\n",
       "</table>\n",
       "</div>"
      ],
      "text/plain": [
       "                                                 name platform  \\\n",
       "687                                    Chrono Trigger     SNES   \n",
       "14344                      Monster Rancher Hop-A-Bout       PS   \n",
       "1513                                     Test Drive 5       PS   \n",
       "624                  Tomb Raider: The Last Revelation       PS   \n",
       "2443                                      NFL GameDay       PS   \n",
       "14465                  Super Meat Boy: Ultra Edition!       PC   \n",
       "15935          Final Fantasy XI: All-In-One Pack 2006     X360   \n",
       "15782                    Taishou Moebius Line Vitable      PSV   \n",
       "5503   Night at the Museum: Battle of the Smithsonian      Wii   \n",
       "16371                                 Chaos;Head Noah      PSV   \n",
       "\n",
       "       year_of_release         genre  na_sales  eu_sales  jp_sales  \\\n",
       "687               1995  Role-Playing      0.28      0.00      2.02   \n",
       "14344             2000        Action      0.02      0.01      0.00   \n",
       "1513              1997        Racing      1.05      0.20      0.00   \n",
       "624               1998        Action      1.15      1.14      0.06   \n",
       "2443              1995        Sports      0.47      0.32      0.00   \n",
       "14465             2011      Platform      0.00      0.02      0.00   \n",
       "15935             2006  Role-Playing      0.00      0.00      0.02   \n",
       "15782             2016     Adventure      0.00      0.00      0.02   \n",
       "5503              2009        Action      0.17      0.13      0.00   \n",
       "16371             2014     Adventure      0.00      0.00      0.01   \n",
       "\n",
       "       other_sales  critic_score  user_score   rating  \n",
       "687           0.01           NaN         NaN  unknown  \n",
       "14344         0.00           NaN         NaN  unknown  \n",
       "1513          0.05           NaN         NaN  unknown  \n",
       "624           0.13           NaN         NaN  unknown  \n",
       "2443          0.06           NaN         NaN  unknown  \n",
       "14465         0.01           NaN         NaN  unknown  \n",
       "15935         0.00           NaN         NaN  unknown  \n",
       "15782         0.00           NaN         NaN  unknown  \n",
       "5503          0.03          54.0         NaN     E10+  \n",
       "16371         0.00           NaN         NaN  unknown  "
      ]
     },
     "execution_count": 33,
     "metadata": {},
     "output_type": "execute_result"
    }
   ],
   "source": [
    "df[df['user_score'].isna()].sample(10)"
   ]
  },
  {
   "cell_type": "code",
   "execution_count": 34,
   "id": "cd8cc51b",
   "metadata": {},
   "outputs": [
    {
     "data": {
      "text/html": [
       "<div>\n",
       "<style scoped>\n",
       "    .dataframe tbody tr th:only-of-type {\n",
       "        vertical-align: middle;\n",
       "    }\n",
       "\n",
       "    .dataframe tbody tr th {\n",
       "        vertical-align: top;\n",
       "    }\n",
       "\n",
       "    .dataframe thead th {\n",
       "        text-align: right;\n",
       "    }\n",
       "</style>\n",
       "<table border=\"1\" class=\"dataframe\">\n",
       "  <thead>\n",
       "    <tr style=\"text-align: right;\">\n",
       "      <th></th>\n",
       "      <th>count</th>\n",
       "      <th>percent</th>\n",
       "    </tr>\n",
       "  </thead>\n",
       "  <tbody>\n",
       "    <tr>\n",
       "      <td>user_score</td>\n",
       "      <td>9027.0</td>\n",
       "      <td>54.49</td>\n",
       "    </tr>\n",
       "    <tr>\n",
       "      <td>critic_score</td>\n",
       "      <td>8492.0</td>\n",
       "      <td>51.26</td>\n",
       "    </tr>\n",
       "  </tbody>\n",
       "</table>\n",
       "</div>"
      ],
      "text/plain": [
       "               count  percent\n",
       "user_score    9027.0    54.49\n",
       "critic_score  8492.0    51.26"
      ]
     },
     "metadata": {},
     "output_type": "display_data"
    }
   ],
   "source": [
    "print_isna(df, df.columns)"
   ]
  },
  {
   "cell_type": "markdown",
   "id": "4a7896eb",
   "metadata": {},
   "source": [
    "Большинство пропущенных значений в столбце `user_score` совпадает с пропущенными значениями в столбце `critic_score` и составляют более 50% данных. Возможно была допущена ошибка при выгрузке данных и они потерялись, поэтому предлагаю не трогать эти столбцы так как достоверно восстановить данные не получится"
   ]
  },
  {
   "cell_type": "markdown",
   "id": "f7989f92",
   "metadata": {},
   "source": [
    "## Создадим столбец `total_sales`"
   ]
  },
  {
   "cell_type": "markdown",
   "id": "7eba8bf7",
   "metadata": {},
   "source": [
    "Для подсчета общего количества продаж по всем регионам создадим столбец `total_sales`"
   ]
  },
  {
   "cell_type": "code",
   "execution_count": 35,
   "id": "6f3a3ea1",
   "metadata": {},
   "outputs": [],
   "source": [
    "df['total_sales'] = df['na_sales'] + df['eu_sales'] + df['jp_sales'] + df['other_sales']"
   ]
  },
  {
   "cell_type": "markdown",
   "id": "3cc9dfac",
   "metadata": {},
   "source": [
    "Посмотрим на получившуюся таблицу"
   ]
  },
  {
   "cell_type": "code",
   "execution_count": 36,
   "id": "35565845",
   "metadata": {},
   "outputs": [
    {
     "data": {
      "text/html": [
       "<div>\n",
       "<style scoped>\n",
       "    .dataframe tbody tr th:only-of-type {\n",
       "        vertical-align: middle;\n",
       "    }\n",
       "\n",
       "    .dataframe tbody tr th {\n",
       "        vertical-align: top;\n",
       "    }\n",
       "\n",
       "    .dataframe thead th {\n",
       "        text-align: right;\n",
       "    }\n",
       "</style>\n",
       "<table border=\"1\" class=\"dataframe\">\n",
       "  <thead>\n",
       "    <tr style=\"text-align: right;\">\n",
       "      <th></th>\n",
       "      <th>name</th>\n",
       "      <th>platform</th>\n",
       "      <th>year_of_release</th>\n",
       "      <th>genre</th>\n",
       "      <th>na_sales</th>\n",
       "      <th>eu_sales</th>\n",
       "      <th>jp_sales</th>\n",
       "      <th>other_sales</th>\n",
       "      <th>critic_score</th>\n",
       "      <th>user_score</th>\n",
       "      <th>rating</th>\n",
       "      <th>total_sales</th>\n",
       "    </tr>\n",
       "  </thead>\n",
       "  <tbody>\n",
       "    <tr>\n",
       "      <td>0</td>\n",
       "      <td>Wii Sports</td>\n",
       "      <td>Wii</td>\n",
       "      <td>2006</td>\n",
       "      <td>Sports</td>\n",
       "      <td>41.36</td>\n",
       "      <td>28.96</td>\n",
       "      <td>3.77</td>\n",
       "      <td>8.45</td>\n",
       "      <td>76.0</td>\n",
       "      <td>8.0</td>\n",
       "      <td>E</td>\n",
       "      <td>82.54</td>\n",
       "    </tr>\n",
       "    <tr>\n",
       "      <td>1</td>\n",
       "      <td>Super Mario Bros.</td>\n",
       "      <td>NES</td>\n",
       "      <td>1985</td>\n",
       "      <td>Platform</td>\n",
       "      <td>29.08</td>\n",
       "      <td>3.58</td>\n",
       "      <td>6.81</td>\n",
       "      <td>0.77</td>\n",
       "      <td>NaN</td>\n",
       "      <td>NaN</td>\n",
       "      <td>unknown</td>\n",
       "      <td>40.24</td>\n",
       "    </tr>\n",
       "    <tr>\n",
       "      <td>2</td>\n",
       "      <td>Mario Kart Wii</td>\n",
       "      <td>Wii</td>\n",
       "      <td>2008</td>\n",
       "      <td>Racing</td>\n",
       "      <td>15.68</td>\n",
       "      <td>12.76</td>\n",
       "      <td>3.79</td>\n",
       "      <td>3.29</td>\n",
       "      <td>82.0</td>\n",
       "      <td>8.3</td>\n",
       "      <td>E</td>\n",
       "      <td>35.52</td>\n",
       "    </tr>\n",
       "    <tr>\n",
       "      <td>3</td>\n",
       "      <td>Wii Sports Resort</td>\n",
       "      <td>Wii</td>\n",
       "      <td>2009</td>\n",
       "      <td>Sports</td>\n",
       "      <td>15.61</td>\n",
       "      <td>10.93</td>\n",
       "      <td>3.28</td>\n",
       "      <td>2.95</td>\n",
       "      <td>80.0</td>\n",
       "      <td>8.0</td>\n",
       "      <td>E</td>\n",
       "      <td>32.77</td>\n",
       "    </tr>\n",
       "    <tr>\n",
       "      <td>4</td>\n",
       "      <td>Pokemon Red/Pokemon Blue</td>\n",
       "      <td>GB</td>\n",
       "      <td>1996</td>\n",
       "      <td>Role-Playing</td>\n",
       "      <td>11.27</td>\n",
       "      <td>8.89</td>\n",
       "      <td>10.22</td>\n",
       "      <td>1.00</td>\n",
       "      <td>NaN</td>\n",
       "      <td>NaN</td>\n",
       "      <td>unknown</td>\n",
       "      <td>31.38</td>\n",
       "    </tr>\n",
       "    <tr>\n",
       "      <td>5</td>\n",
       "      <td>Tetris</td>\n",
       "      <td>GB</td>\n",
       "      <td>1989</td>\n",
       "      <td>Puzzle</td>\n",
       "      <td>23.20</td>\n",
       "      <td>2.26</td>\n",
       "      <td>4.22</td>\n",
       "      <td>0.58</td>\n",
       "      <td>NaN</td>\n",
       "      <td>NaN</td>\n",
       "      <td>unknown</td>\n",
       "      <td>30.26</td>\n",
       "    </tr>\n",
       "    <tr>\n",
       "      <td>6</td>\n",
       "      <td>New Super Mario Bros.</td>\n",
       "      <td>DS</td>\n",
       "      <td>2006</td>\n",
       "      <td>Platform</td>\n",
       "      <td>11.28</td>\n",
       "      <td>9.14</td>\n",
       "      <td>6.50</td>\n",
       "      <td>2.88</td>\n",
       "      <td>89.0</td>\n",
       "      <td>8.5</td>\n",
       "      <td>E</td>\n",
       "      <td>29.80</td>\n",
       "    </tr>\n",
       "    <tr>\n",
       "      <td>7</td>\n",
       "      <td>Wii Play</td>\n",
       "      <td>Wii</td>\n",
       "      <td>2006</td>\n",
       "      <td>Misc</td>\n",
       "      <td>13.96</td>\n",
       "      <td>9.18</td>\n",
       "      <td>2.93</td>\n",
       "      <td>2.84</td>\n",
       "      <td>58.0</td>\n",
       "      <td>6.6</td>\n",
       "      <td>E</td>\n",
       "      <td>28.91</td>\n",
       "    </tr>\n",
       "    <tr>\n",
       "      <td>8</td>\n",
       "      <td>New Super Mario Bros. Wii</td>\n",
       "      <td>Wii</td>\n",
       "      <td>2009</td>\n",
       "      <td>Platform</td>\n",
       "      <td>14.44</td>\n",
       "      <td>6.94</td>\n",
       "      <td>4.70</td>\n",
       "      <td>2.24</td>\n",
       "      <td>87.0</td>\n",
       "      <td>8.4</td>\n",
       "      <td>E</td>\n",
       "      <td>28.32</td>\n",
       "    </tr>\n",
       "    <tr>\n",
       "      <td>9</td>\n",
       "      <td>Duck Hunt</td>\n",
       "      <td>NES</td>\n",
       "      <td>1984</td>\n",
       "      <td>Shooter</td>\n",
       "      <td>26.93</td>\n",
       "      <td>0.63</td>\n",
       "      <td>0.28</td>\n",
       "      <td>0.47</td>\n",
       "      <td>NaN</td>\n",
       "      <td>NaN</td>\n",
       "      <td>unknown</td>\n",
       "      <td>28.31</td>\n",
       "    </tr>\n",
       "  </tbody>\n",
       "</table>\n",
       "</div>"
      ],
      "text/plain": [
       "                        name platform  year_of_release         genre  \\\n",
       "0                 Wii Sports      Wii             2006        Sports   \n",
       "1          Super Mario Bros.      NES             1985      Platform   \n",
       "2             Mario Kart Wii      Wii             2008        Racing   \n",
       "3          Wii Sports Resort      Wii             2009        Sports   \n",
       "4   Pokemon Red/Pokemon Blue       GB             1996  Role-Playing   \n",
       "5                     Tetris       GB             1989        Puzzle   \n",
       "6      New Super Mario Bros.       DS             2006      Platform   \n",
       "7                   Wii Play      Wii             2006          Misc   \n",
       "8  New Super Mario Bros. Wii      Wii             2009      Platform   \n",
       "9                  Duck Hunt      NES             1984       Shooter   \n",
       "\n",
       "   na_sales  eu_sales  jp_sales  other_sales  critic_score  user_score  \\\n",
       "0     41.36     28.96      3.77         8.45          76.0         8.0   \n",
       "1     29.08      3.58      6.81         0.77           NaN         NaN   \n",
       "2     15.68     12.76      3.79         3.29          82.0         8.3   \n",
       "3     15.61     10.93      3.28         2.95          80.0         8.0   \n",
       "4     11.27      8.89     10.22         1.00           NaN         NaN   \n",
       "5     23.20      2.26      4.22         0.58           NaN         NaN   \n",
       "6     11.28      9.14      6.50         2.88          89.0         8.5   \n",
       "7     13.96      9.18      2.93         2.84          58.0         6.6   \n",
       "8     14.44      6.94      4.70         2.24          87.0         8.4   \n",
       "9     26.93      0.63      0.28         0.47           NaN         NaN   \n",
       "\n",
       "    rating  total_sales  \n",
       "0        E        82.54  \n",
       "1  unknown        40.24  \n",
       "2        E        35.52  \n",
       "3        E        32.77  \n",
       "4  unknown        31.38  \n",
       "5  unknown        30.26  \n",
       "6        E        29.80  \n",
       "7        E        28.91  \n",
       "8        E        28.32  \n",
       "9  unknown        28.31  "
      ]
     },
     "execution_count": 36,
     "metadata": {},
     "output_type": "execute_result"
    }
   ],
   "source": [
    "df.head(10)"
   ]
  },
  {
   "cell_type": "markdown",
   "id": "47da1b58",
   "metadata": {},
   "source": [
    "На последок выведем информацию о датафрейме и посмотрим на пропущенные значения"
   ]
  },
  {
   "cell_type": "code",
   "execution_count": 37,
   "id": "0cd3f906",
   "metadata": {},
   "outputs": [
    {
     "name": "stdout",
     "output_type": "stream",
     "text": [
      "<class 'pandas.core.frame.DataFrame'>\n",
      "Int64Index: 16567 entries, 0 to 16714\n",
      "Data columns (total 12 columns):\n",
      "name               16567 non-null object\n",
      "platform           16567 non-null object\n",
      "year_of_release    16567 non-null int64\n",
      "genre              16567 non-null object\n",
      "na_sales           16567 non-null float64\n",
      "eu_sales           16567 non-null float64\n",
      "jp_sales           16567 non-null float64\n",
      "other_sales        16567 non-null float64\n",
      "critic_score       8075 non-null float64\n",
      "user_score         7540 non-null float64\n",
      "rating             16567 non-null object\n",
      "total_sales        16567 non-null float64\n",
      "dtypes: float64(7), int64(1), object(4)\n",
      "memory usage: 1.6+ MB\n"
     ]
    }
   ],
   "source": [
    "df.info()"
   ]
  },
  {
   "cell_type": "code",
   "execution_count": 38,
   "id": "d4232afd",
   "metadata": {},
   "outputs": [
    {
     "data": {
      "text/html": [
       "<div>\n",
       "<style scoped>\n",
       "    .dataframe tbody tr th:only-of-type {\n",
       "        vertical-align: middle;\n",
       "    }\n",
       "\n",
       "    .dataframe tbody tr th {\n",
       "        vertical-align: top;\n",
       "    }\n",
       "\n",
       "    .dataframe thead th {\n",
       "        text-align: right;\n",
       "    }\n",
       "</style>\n",
       "<table border=\"1\" class=\"dataframe\">\n",
       "  <thead>\n",
       "    <tr style=\"text-align: right;\">\n",
       "      <th></th>\n",
       "      <th>count</th>\n",
       "      <th>percent</th>\n",
       "    </tr>\n",
       "  </thead>\n",
       "  <tbody>\n",
       "    <tr>\n",
       "      <td>user_score</td>\n",
       "      <td>9027.0</td>\n",
       "      <td>54.49</td>\n",
       "    </tr>\n",
       "    <tr>\n",
       "      <td>critic_score</td>\n",
       "      <td>8492.0</td>\n",
       "      <td>51.26</td>\n",
       "    </tr>\n",
       "  </tbody>\n",
       "</table>\n",
       "</div>"
      ],
      "text/plain": [
       "               count  percent\n",
       "user_score    9027.0    54.49\n",
       "critic_score  8492.0    51.26"
      ]
     },
     "metadata": {},
     "output_type": "display_data"
    }
   ],
   "source": [
    "print_isna(df, df.columns)"
   ]
  },
  {
   "cell_type": "markdown",
   "id": "96a91ff4",
   "metadata": {},
   "source": [
    "## Вывод после предобработки данных"
   ]
  },
  {
   "cell_type": "markdown",
   "id": "ea01b424",
   "metadata": {},
   "source": [
    "На этапе предобработки данных мы сделали следующие:\n",
    "1) Привели названия столбцов к нижнему регистру  \n",
    "2) Пропуски с столбцах `name` и `genre` совпадали, их было всего 2 шт, что составляет 0.01% от всего датасета, но так как их было не восстановить по имеющейся информации, то мы их удалили  \n",
    "3) Для пропущенных значений в столбеце `year_of_release` мы сделали предположение, что игры выпускаются сразу на нескольких консолях и пропущенные значения можно заполнить информацией из других консолей, что мы и сделали. Было 269 пропущенных значений, а осталось 146 шт, что составляет 0.87% от всего датасета, поэтому оставшиеся значия мы решили удалить. Так же привели столбец к типу данных **int**  \n",
    "4) В столбце `rating` было пропущенно 6699 значений, оставшиеся значения содержат текстовую информацию с сокращенным названием рейтинга. Пропущенным значениям мы решили присвоить название **unknown**, так как для них рейтинг не известен  \n",
    "5) В столбце `user_score` были строки содержащие **tbd**, эта аббревиатура происходит от английского To Be Determined (будет определено) или To Be Decided (будет решено). Используется, если какая-то информация еще не определена. Было принято решение заменить пропущенные на **None** и привести столбец к типу данных **float**  \n",
    "6) Создали столбец `total_sales` с общими продажами по всем регионам\n",
    "\n",
    "Большинство пропущенных значений в столбце `user_score` совпадает с пропущенными значениями в столбце `critic_score` и составляют более 50% данных. Возможно была допущена ошибка при выгрузке данных и они потерялись, поэтому оставим эти столбцы в том виде в котором они есть, так как достоверно восстановить данные не получится"
   ]
  },
  {
   "cell_type": "markdown",
   "id": "c6eb603a",
   "metadata": {},
   "source": [
    "# Анализ данных"
   ]
  },
  {
   "cell_type": "markdown",
   "id": "2af53044",
   "metadata": {},
   "source": [
    "## Посмотрим, сколько игр выпускалось в разные годы"
   ]
  },
  {
   "cell_type": "markdown",
   "id": "588cd242",
   "metadata": {},
   "source": [
    "Предлагаю посмотреть, сколько игр выпускалось в разные годы и сделать вывод о том, важны ли данные за все периоды?  \n",
    "Для этого создадим сводную таблицу"
   ]
  },
  {
   "cell_type": "code",
   "execution_count": 39,
   "id": "31856afb",
   "metadata": {},
   "outputs": [
    {
     "data": {
      "text/html": [
       "<div>\n",
       "<style scoped>\n",
       "    .dataframe tbody tr th:only-of-type {\n",
       "        vertical-align: middle;\n",
       "    }\n",
       "\n",
       "    .dataframe tbody tr th {\n",
       "        vertical-align: top;\n",
       "    }\n",
       "\n",
       "    .dataframe thead th {\n",
       "        text-align: right;\n",
       "    }\n",
       "</style>\n",
       "<table border=\"1\" class=\"dataframe\">\n",
       "  <thead>\n",
       "    <tr style=\"text-align: right;\">\n",
       "      <th></th>\n",
       "      <th>game_count</th>\n",
       "    </tr>\n",
       "    <tr>\n",
       "      <th>year_of_release</th>\n",
       "      <th></th>\n",
       "    </tr>\n",
       "  </thead>\n",
       "  <tbody>\n",
       "    <tr>\n",
       "      <td>1980</td>\n",
       "      <td>9</td>\n",
       "    </tr>\n",
       "    <tr>\n",
       "      <td>1981</td>\n",
       "      <td>46</td>\n",
       "    </tr>\n",
       "    <tr>\n",
       "      <td>1982</td>\n",
       "      <td>36</td>\n",
       "    </tr>\n",
       "    <tr>\n",
       "      <td>1983</td>\n",
       "      <td>17</td>\n",
       "    </tr>\n",
       "    <tr>\n",
       "      <td>1984</td>\n",
       "      <td>14</td>\n",
       "    </tr>\n",
       "    <tr>\n",
       "      <td>1985</td>\n",
       "      <td>14</td>\n",
       "    </tr>\n",
       "    <tr>\n",
       "      <td>1986</td>\n",
       "      <td>21</td>\n",
       "    </tr>\n",
       "    <tr>\n",
       "      <td>1987</td>\n",
       "      <td>16</td>\n",
       "    </tr>\n",
       "    <tr>\n",
       "      <td>1988</td>\n",
       "      <td>15</td>\n",
       "    </tr>\n",
       "    <tr>\n",
       "      <td>1989</td>\n",
       "      <td>17</td>\n",
       "    </tr>\n",
       "    <tr>\n",
       "      <td>1990</td>\n",
       "      <td>16</td>\n",
       "    </tr>\n",
       "    <tr>\n",
       "      <td>1991</td>\n",
       "      <td>41</td>\n",
       "    </tr>\n",
       "    <tr>\n",
       "      <td>1992</td>\n",
       "      <td>43</td>\n",
       "    </tr>\n",
       "    <tr>\n",
       "      <td>1993</td>\n",
       "      <td>60</td>\n",
       "    </tr>\n",
       "    <tr>\n",
       "      <td>1994</td>\n",
       "      <td>121</td>\n",
       "    </tr>\n",
       "    <tr>\n",
       "      <td>1995</td>\n",
       "      <td>219</td>\n",
       "    </tr>\n",
       "    <tr>\n",
       "      <td>1996</td>\n",
       "      <td>263</td>\n",
       "    </tr>\n",
       "    <tr>\n",
       "      <td>1997</td>\n",
       "      <td>290</td>\n",
       "    </tr>\n",
       "    <tr>\n",
       "      <td>1998</td>\n",
       "      <td>379</td>\n",
       "    </tr>\n",
       "    <tr>\n",
       "      <td>1999</td>\n",
       "      <td>339</td>\n",
       "    </tr>\n",
       "    <tr>\n",
       "      <td>2000</td>\n",
       "      <td>350</td>\n",
       "    </tr>\n",
       "    <tr>\n",
       "      <td>2001</td>\n",
       "      <td>484</td>\n",
       "    </tr>\n",
       "    <tr>\n",
       "      <td>2002</td>\n",
       "      <td>845</td>\n",
       "    </tr>\n",
       "    <tr>\n",
       "      <td>2003</td>\n",
       "      <td>785</td>\n",
       "    </tr>\n",
       "    <tr>\n",
       "      <td>2004</td>\n",
       "      <td>765</td>\n",
       "    </tr>\n",
       "    <tr>\n",
       "      <td>2005</td>\n",
       "      <td>948</td>\n",
       "    </tr>\n",
       "    <tr>\n",
       "      <td>2006</td>\n",
       "      <td>1019</td>\n",
       "    </tr>\n",
       "    <tr>\n",
       "      <td>2007</td>\n",
       "      <td>1202</td>\n",
       "    </tr>\n",
       "    <tr>\n",
       "      <td>2008</td>\n",
       "      <td>1440</td>\n",
       "    </tr>\n",
       "    <tr>\n",
       "      <td>2009</td>\n",
       "      <td>1431</td>\n",
       "    </tr>\n",
       "    <tr>\n",
       "      <td>2010</td>\n",
       "      <td>1270</td>\n",
       "    </tr>\n",
       "    <tr>\n",
       "      <td>2011</td>\n",
       "      <td>1153</td>\n",
       "    </tr>\n",
       "    <tr>\n",
       "      <td>2012</td>\n",
       "      <td>662</td>\n",
       "    </tr>\n",
       "    <tr>\n",
       "      <td>2013</td>\n",
       "      <td>547</td>\n",
       "    </tr>\n",
       "    <tr>\n",
       "      <td>2014</td>\n",
       "      <td>582</td>\n",
       "    </tr>\n",
       "    <tr>\n",
       "      <td>2015</td>\n",
       "      <td>606</td>\n",
       "    </tr>\n",
       "    <tr>\n",
       "      <td>2016</td>\n",
       "      <td>502</td>\n",
       "    </tr>\n",
       "  </tbody>\n",
       "</table>\n",
       "</div>"
      ],
      "text/plain": [
       "                 game_count\n",
       "year_of_release            \n",
       "1980                      9\n",
       "1981                     46\n",
       "1982                     36\n",
       "1983                     17\n",
       "1984                     14\n",
       "1985                     14\n",
       "1986                     21\n",
       "1987                     16\n",
       "1988                     15\n",
       "1989                     17\n",
       "1990                     16\n",
       "1991                     41\n",
       "1992                     43\n",
       "1993                     60\n",
       "1994                    121\n",
       "1995                    219\n",
       "1996                    263\n",
       "1997                    290\n",
       "1998                    379\n",
       "1999                    339\n",
       "2000                    350\n",
       "2001                    484\n",
       "2002                    845\n",
       "2003                    785\n",
       "2004                    765\n",
       "2005                    948\n",
       "2006                   1019\n",
       "2007                   1202\n",
       "2008                   1440\n",
       "2009                   1431\n",
       "2010                   1270\n",
       "2011                   1153\n",
       "2012                    662\n",
       "2013                    547\n",
       "2014                    582\n",
       "2015                    606\n",
       "2016                    502"
      ]
     },
     "execution_count": 39,
     "metadata": {},
     "output_type": "execute_result"
    }
   ],
   "source": [
    "games_in_year = df.pivot_table(index='year_of_release', values='name', aggfunc='count')\n",
    "games_in_year.columns = ['game_count']\n",
    "games_in_year"
   ]
  },
  {
   "cell_type": "markdown",
   "id": "6a7be109",
   "metadata": {},
   "source": [
    "Для наглядности нарисуем график"
   ]
  },
  {
   "cell_type": "code",
   "execution_count": 40,
   "id": "95bf2e4d",
   "metadata": {},
   "outputs": [
    {
     "data": {
      "text/plain": [
       "Text(0, 0.5, 'Количество штук')"
      ]
     },
     "execution_count": 40,
     "metadata": {},
     "output_type": "execute_result"
    },
    {
     "data": {
      "image/png": "[encoded data removed]",
      "text/plain": [
       "<Figure size 1080x360 with 1 Axes>"
      ]
     },
     "metadata": {
      "needs_background": "light"
     },
     "output_type": "display_data"
    }
   ],
   "source": [
    "fig, ax = plt.subplots(figsize=(15,5))\n",
    "sns.barplot(data=games_in_year, x=games_in_year.index, y='game_count', ax=ax)\n",
    "plt.xticks(rotation=45)\n",
    "plt.title('Количество выпущенных игр по годам')\n",
    "plt.xlabel('Год релиза')\n",
    "plt.ylabel('Количество штук')"
   ]
  },
  {
   "cell_type": "markdown",
   "id": "b8a223ef",
   "metadata": {},
   "source": [
    "### Вывод"
   ]
  },
  {
   "cell_type": "markdown",
   "id": "93f8eaea",
   "metadata": {},
   "source": [
    "По полученной информации можно сделать следующие выводы:\n",
    "* Количество выпущенных игр начало расти с 1994 года, скорее всего это связано с развитием технологий\n",
    "* Самый пик выпускаемых игр приходится на 2008 и 2009 год\n",
    "* После 2011 года пошел резкий спад по количеству выпускаемых игр, скорее всего это связано с изменениями в игровой индустрии и разработка более качественных игр занимает больше времени"
   ]
  },
  {
   "cell_type": "markdown",
   "id": "db55a513",
   "metadata": {},
   "source": [
    "## Посмотрим, как менялись продажи по платформам"
   ]
  },
  {
   "cell_type": "markdown",
   "id": "c2be1f56",
   "metadata": {},
   "source": [
    "Для начала создадим таблицу с топ-10 суммарых продаж по консолям"
   ]
  },
  {
   "cell_type": "code",
   "execution_count": 41,
   "id": "ff1a8b46",
   "metadata": {},
   "outputs": [
    {
     "data": {
      "text/html": [
       "<div>\n",
       "<style scoped>\n",
       "    .dataframe tbody tr th:only-of-type {\n",
       "        vertical-align: middle;\n",
       "    }\n",
       "\n",
       "    .dataframe tbody tr th {\n",
       "        vertical-align: top;\n",
       "    }\n",
       "\n",
       "    .dataframe thead th {\n",
       "        text-align: right;\n",
       "    }\n",
       "</style>\n",
       "<table border=\"1\" class=\"dataframe\">\n",
       "  <thead>\n",
       "    <tr style=\"text-align: right;\">\n",
       "      <th></th>\n",
       "      <th>platform</th>\n",
       "      <th>total_sales</th>\n",
       "    </tr>\n",
       "  </thead>\n",
       "  <tbody>\n",
       "    <tr>\n",
       "      <td>16</td>\n",
       "      <td>PS2</td>\n",
       "      <td>1247.16</td>\n",
       "    </tr>\n",
       "    <tr>\n",
       "      <td>28</td>\n",
       "      <td>X360</td>\n",
       "      <td>966.61</td>\n",
       "    </tr>\n",
       "    <tr>\n",
       "      <td>17</td>\n",
       "      <td>PS3</td>\n",
       "      <td>935.19</td>\n",
       "    </tr>\n",
       "    <tr>\n",
       "      <td>26</td>\n",
       "      <td>Wii</td>\n",
       "      <td>903.31</td>\n",
       "    </tr>\n",
       "    <tr>\n",
       "      <td>4</td>\n",
       "      <td>DS</td>\n",
       "      <td>804.28</td>\n",
       "    </tr>\n",
       "    <tr>\n",
       "      <td>15</td>\n",
       "      <td>PS</td>\n",
       "      <td>727.58</td>\n",
       "    </tr>\n",
       "    <tr>\n",
       "      <td>18</td>\n",
       "      <td>PS4</td>\n",
       "      <td>314.14</td>\n",
       "    </tr>\n",
       "    <tr>\n",
       "      <td>6</td>\n",
       "      <td>GBA</td>\n",
       "      <td>313.73</td>\n",
       "    </tr>\n",
       "    <tr>\n",
       "      <td>19</td>\n",
       "      <td>PSP</td>\n",
       "      <td>293.57</td>\n",
       "    </tr>\n",
       "    <tr>\n",
       "      <td>13</td>\n",
       "      <td>PC</td>\n",
       "      <td>258.86</td>\n",
       "    </tr>\n",
       "  </tbody>\n",
       "</table>\n",
       "</div>"
      ],
      "text/plain": [
       "   platform  total_sales\n",
       "16      PS2      1247.16\n",
       "28     X360       966.61\n",
       "17      PS3       935.19\n",
       "26      Wii       903.31\n",
       "4        DS       804.28\n",
       "15       PS       727.58\n",
       "18      PS4       314.14\n",
       "6       GBA       313.73\n",
       "19      PSP       293.57\n",
       "13       PC       258.86"
      ]
     },
     "execution_count": 41,
     "metadata": {},
     "output_type": "execute_result"
    }
   ],
   "source": [
    "platform_sales = (df.pivot_table(index='platform',\n",
    "                                 values='total_sales',\n",
    "                                 aggfunc='sum').reset_index().sort_values(\n",
    "                                     by='total_sales',\n",
    "                                     ascending=False)).head(10)\n",
    "\n",
    "platform_sales"
   ]
  },
  {
   "cell_type": "markdown",
   "id": "d99a9c96",
   "metadata": {},
   "source": [
    "Теперь создадим сводную таблицу по платформам с наибольшими суммарными продажами и построим распределение по годам, и посмотрим как долго живут платформы. "
   ]
  },
  {
   "cell_type": "code",
   "execution_count": 42,
   "id": "ad8162b8",
   "metadata": {},
   "outputs": [
    {
     "data": {
      "text/html": [
       "<div>\n",
       "<style scoped>\n",
       "    .dataframe tbody tr th:only-of-type {\n",
       "        vertical-align: middle;\n",
       "    }\n",
       "\n",
       "    .dataframe tbody tr th {\n",
       "        vertical-align: top;\n",
       "    }\n",
       "\n",
       "    .dataframe thead th {\n",
       "        text-align: right;\n",
       "    }\n",
       "</style>\n",
       "<table border=\"1\" class=\"dataframe\">\n",
       "  <thead>\n",
       "    <tr style=\"text-align: right;\">\n",
       "      <th></th>\n",
       "      <th>platform</th>\n",
       "      <th>year_of_release</th>\n",
       "      <th>total_sales</th>\n",
       "    </tr>\n",
       "  </thead>\n",
       "  <tbody>\n",
       "    <tr>\n",
       "      <td>39</td>\n",
       "      <td>PC</td>\n",
       "      <td>2011</td>\n",
       "      <td>35.16</td>\n",
       "    </tr>\n",
       "    <tr>\n",
       "      <td>79</td>\n",
       "      <td>PS3</td>\n",
       "      <td>2016</td>\n",
       "      <td>3.60</td>\n",
       "    </tr>\n",
       "    <tr>\n",
       "      <td>8</td>\n",
       "      <td>DS</td>\n",
       "      <td>2011</td>\n",
       "      <td>26.33</td>\n",
       "    </tr>\n",
       "    <tr>\n",
       "      <td>118</td>\n",
       "      <td>X360</td>\n",
       "      <td>2016</td>\n",
       "      <td>1.52</td>\n",
       "    </tr>\n",
       "    <tr>\n",
       "      <td>31</td>\n",
       "      <td>PC</td>\n",
       "      <td>2003</td>\n",
       "      <td>8.89</td>\n",
       "    </tr>\n",
       "    <tr>\n",
       "      <td>68</td>\n",
       "      <td>PS3</td>\n",
       "      <td>2005</td>\n",
       "      <td>0.19</td>\n",
       "    </tr>\n",
       "    <tr>\n",
       "      <td>26</td>\n",
       "      <td>PC</td>\n",
       "      <td>1998</td>\n",
       "      <td>3.26</td>\n",
       "    </tr>\n",
       "    <tr>\n",
       "      <td>27</td>\n",
       "      <td>PC</td>\n",
       "      <td>1999</td>\n",
       "      <td>4.74</td>\n",
       "    </tr>\n",
       "    <tr>\n",
       "      <td>75</td>\n",
       "      <td>PS3</td>\n",
       "      <td>2012</td>\n",
       "      <td>108.28</td>\n",
       "    </tr>\n",
       "    <tr>\n",
       "      <td>101</td>\n",
       "      <td>Wii</td>\n",
       "      <td>2011</td>\n",
       "      <td>59.79</td>\n",
       "    </tr>\n",
       "  </tbody>\n",
       "</table>\n",
       "</div>"
      ],
      "text/plain": [
       "    platform  year_of_release  total_sales\n",
       "39        PC             2011        35.16\n",
       "79       PS3             2016         3.60\n",
       "8         DS             2011        26.33\n",
       "118     X360             2016         1.52\n",
       "31        PC             2003         8.89\n",
       "68       PS3             2005         0.19\n",
       "26        PC             1998         3.26\n",
       "27        PC             1999         4.74\n",
       "75       PS3             2012       108.28\n",
       "101      Wii             2011        59.79"
      ]
     },
     "execution_count": 42,
     "metadata": {},
     "output_type": "execute_result"
    }
   ],
   "source": [
    "sort_platform = df[df['platform'].isin(platform_sales['platform'])]\n",
    "top_platform = sort_platform.pivot_table(index=['platform', 'year_of_release'], values='total_sales', aggfunc='sum').reset_index()\n",
    "top_platform.sample(10)"
   ]
  },
  {
   "cell_type": "code",
   "execution_count": 43,
   "id": "ca1f3900",
   "metadata": {},
   "outputs": [
    {
     "data": {
      "text/plain": [
       "Text(0, 0.5, 'Общая сумма продаж, млн')"
      ]
     },
     "execution_count": 43,
     "metadata": {},
     "output_type": "execute_result"
    },
    {
     "data": {
      "image/png": "[encoded data removed]",
      "text/plain": [
       "<Figure size 1080x360 with 1 Axes>"
      ]
     },
     "metadata": {
      "needs_background": "light"
     },
     "output_type": "display_data"
    }
   ],
   "source": [
    "fig, ax = plt.subplots(figsize=(15,5))\n",
    "sns.lineplot(data=top_platform, x=\"year_of_release\", y=\"total_sales\", hue=\"platform\", ax=ax)\n",
    "plt.title('Суммарные продажи игр для платформ по годам')\n",
    "plt.xlabel('Года')\n",
    "plt.ylabel('Общая сумма продаж, млн')"
   ]
  },
  {
   "cell_type": "code",
   "execution_count": 44,
   "id": "809841cd",
   "metadata": {},
   "outputs": [
    {
     "data": {
      "text/plain": [
       "<seaborn.axisgrid.FacetGrid at 0x7f5a46ea1550>"
      ]
     },
     "execution_count": 44,
     "metadata": {},
     "output_type": "execute_result"
    },
    {
     "data": {
      "image/png": "[encoded data removed]",
      "text/plain": [
       "<Figure size 864x1080 with 10 Axes>"
      ]
     },
     "metadata": {
      "needs_background": "light"
     },
     "output_type": "display_data"
    }
   ],
   "source": [
    "g = sns.FacetGrid(top_platform,  col=\"platform\", col_wrap=2, aspect=2, hue='platform', sharex=False)\n",
    "g.map_dataframe(sns.barplot, x=\"year_of_release\", y=\"total_sales\")\n",
    "g.set_xticklabels(rotation=45)\n",
    "g.set_xlabels('Года')\n",
    "g.set_ylabels('Общая сумма продаж, млн')"
   ]
  },
  {
   "cell_type": "markdown",
   "id": "87fd6a57",
   "metadata": {},
   "source": [
    "Из новых платформ на графике видем только PS4, на момент 2016 года у нее есть продажи, остальные платформы либо уже прекратили свое существование, либо близки к тому чтобы прекратить свое существование.  \n",
    "Так же на графике видим PC - это старичок, у которого начались продажи с 1985 года и идут до сих пор.  \n",
    "По графикам, можно сделать вывод, что жизнь платформ составляет около 10 лет, предлагаю построить сводную таблицу и посмотреть так ли это  "
   ]
  },
  {
   "cell_type": "code",
   "execution_count": 45,
   "id": "6fda1793",
   "metadata": {},
   "outputs": [
    {
     "data": {
      "text/html": [
       "<div>\n",
       "<style scoped>\n",
       "    .dataframe tbody tr th:only-of-type {\n",
       "        vertical-align: middle;\n",
       "    }\n",
       "\n",
       "    .dataframe tbody tr th {\n",
       "        vertical-align: top;\n",
       "    }\n",
       "\n",
       "    .dataframe thead th {\n",
       "        text-align: right;\n",
       "    }\n",
       "</style>\n",
       "<table border=\"1\" class=\"dataframe\">\n",
       "  <thead>\n",
       "    <tr style=\"text-align: right;\">\n",
       "      <th></th>\n",
       "      <th>platform</th>\n",
       "      <th>start_year</th>\n",
       "      <th>end_year</th>\n",
       "      <th>life_period</th>\n",
       "    </tr>\n",
       "  </thead>\n",
       "  <tbody>\n",
       "    <tr>\n",
       "      <td>0</td>\n",
       "      <td>2600</td>\n",
       "      <td>1980</td>\n",
       "      <td>2002</td>\n",
       "      <td>22</td>\n",
       "    </tr>\n",
       "    <tr>\n",
       "      <td>11</td>\n",
       "      <td>NES</td>\n",
       "      <td>1983</td>\n",
       "      <td>1994</td>\n",
       "      <td>11</td>\n",
       "    </tr>\n",
       "    <tr>\n",
       "      <td>4</td>\n",
       "      <td>DS</td>\n",
       "      <td>1985</td>\n",
       "      <td>2013</td>\n",
       "      <td>28</td>\n",
       "    </tr>\n",
       "    <tr>\n",
       "      <td>13</td>\n",
       "      <td>PC</td>\n",
       "      <td>1985</td>\n",
       "      <td>2016</td>\n",
       "      <td>31</td>\n",
       "    </tr>\n",
       "    <tr>\n",
       "      <td>5</td>\n",
       "      <td>GB</td>\n",
       "      <td>1988</td>\n",
       "      <td>2001</td>\n",
       "      <td>13</td>\n",
       "    </tr>\n",
       "    <tr>\n",
       "      <td>23</td>\n",
       "      <td>SNES</td>\n",
       "      <td>1990</td>\n",
       "      <td>1999</td>\n",
       "      <td>9</td>\n",
       "    </tr>\n",
       "    <tr>\n",
       "      <td>8</td>\n",
       "      <td>GEN</td>\n",
       "      <td>1990</td>\n",
       "      <td>1994</td>\n",
       "      <td>4</td>\n",
       "    </tr>\n",
       "    <tr>\n",
       "      <td>9</td>\n",
       "      <td>GG</td>\n",
       "      <td>1992</td>\n",
       "      <td>1992</td>\n",
       "      <td>0</td>\n",
       "    </tr>\n",
       "    <tr>\n",
       "      <td>22</td>\n",
       "      <td>SCD</td>\n",
       "      <td>1993</td>\n",
       "      <td>1994</td>\n",
       "      <td>1</td>\n",
       "    </tr>\n",
       "    <tr>\n",
       "      <td>12</td>\n",
       "      <td>NG</td>\n",
       "      <td>1993</td>\n",
       "      <td>1996</td>\n",
       "      <td>3</td>\n",
       "    </tr>\n",
       "    <tr>\n",
       "      <td>21</td>\n",
       "      <td>SAT</td>\n",
       "      <td>1994</td>\n",
       "      <td>1999</td>\n",
       "      <td>5</td>\n",
       "    </tr>\n",
       "    <tr>\n",
       "      <td>15</td>\n",
       "      <td>PS</td>\n",
       "      <td>1994</td>\n",
       "      <td>2003</td>\n",
       "      <td>9</td>\n",
       "    </tr>\n",
       "    <tr>\n",
       "      <td>1</td>\n",
       "      <td>3DO</td>\n",
       "      <td>1994</td>\n",
       "      <td>1995</td>\n",
       "      <td>1</td>\n",
       "    </tr>\n",
       "    <tr>\n",
       "      <td>24</td>\n",
       "      <td>TG16</td>\n",
       "      <td>1995</td>\n",
       "      <td>1995</td>\n",
       "      <td>0</td>\n",
       "    </tr>\n",
       "    <tr>\n",
       "      <td>14</td>\n",
       "      <td>PCFX</td>\n",
       "      <td>1996</td>\n",
       "      <td>1996</td>\n",
       "      <td>0</td>\n",
       "    </tr>\n",
       "    <tr>\n",
       "      <td>10</td>\n",
       "      <td>N64</td>\n",
       "      <td>1996</td>\n",
       "      <td>2004</td>\n",
       "      <td>8</td>\n",
       "    </tr>\n",
       "    <tr>\n",
       "      <td>16</td>\n",
       "      <td>PS2</td>\n",
       "      <td>1997</td>\n",
       "      <td>2011</td>\n",
       "      <td>14</td>\n",
       "    </tr>\n",
       "    <tr>\n",
       "      <td>3</td>\n",
       "      <td>DC</td>\n",
       "      <td>1998</td>\n",
       "      <td>2008</td>\n",
       "      <td>10</td>\n",
       "    </tr>\n",
       "    <tr>\n",
       "      <td>25</td>\n",
       "      <td>WS</td>\n",
       "      <td>1999</td>\n",
       "      <td>2001</td>\n",
       "      <td>2</td>\n",
       "    </tr>\n",
       "    <tr>\n",
       "      <td>6</td>\n",
       "      <td>GBA</td>\n",
       "      <td>2000</td>\n",
       "      <td>2007</td>\n",
       "      <td>7</td>\n",
       "    </tr>\n",
       "    <tr>\n",
       "      <td>29</td>\n",
       "      <td>XB</td>\n",
       "      <td>2000</td>\n",
       "      <td>2008</td>\n",
       "      <td>8</td>\n",
       "    </tr>\n",
       "    <tr>\n",
       "      <td>7</td>\n",
       "      <td>GC</td>\n",
       "      <td>2001</td>\n",
       "      <td>2007</td>\n",
       "      <td>6</td>\n",
       "    </tr>\n",
       "    <tr>\n",
       "      <td>19</td>\n",
       "      <td>PSP</td>\n",
       "      <td>2004</td>\n",
       "      <td>2015</td>\n",
       "      <td>11</td>\n",
       "    </tr>\n",
       "    <tr>\n",
       "      <td>17</td>\n",
       "      <td>PS3</td>\n",
       "      <td>2005</td>\n",
       "      <td>2016</td>\n",
       "      <td>11</td>\n",
       "    </tr>\n",
       "    <tr>\n",
       "      <td>28</td>\n",
       "      <td>X360</td>\n",
       "      <td>2005</td>\n",
       "      <td>2016</td>\n",
       "      <td>11</td>\n",
       "    </tr>\n",
       "    <tr>\n",
       "      <td>26</td>\n",
       "      <td>Wii</td>\n",
       "      <td>2006</td>\n",
       "      <td>2016</td>\n",
       "      <td>10</td>\n",
       "    </tr>\n",
       "    <tr>\n",
       "      <td>2</td>\n",
       "      <td>3DS</td>\n",
       "      <td>2010</td>\n",
       "      <td>2016</td>\n",
       "      <td>6</td>\n",
       "    </tr>\n",
       "    <tr>\n",
       "      <td>20</td>\n",
       "      <td>PSV</td>\n",
       "      <td>2011</td>\n",
       "      <td>2016</td>\n",
       "      <td>5</td>\n",
       "    </tr>\n",
       "    <tr>\n",
       "      <td>27</td>\n",
       "      <td>WiiU</td>\n",
       "      <td>2012</td>\n",
       "      <td>2016</td>\n",
       "      <td>4</td>\n",
       "    </tr>\n",
       "    <tr>\n",
       "      <td>18</td>\n",
       "      <td>PS4</td>\n",
       "      <td>2013</td>\n",
       "      <td>2016</td>\n",
       "      <td>3</td>\n",
       "    </tr>\n",
       "    <tr>\n",
       "      <td>30</td>\n",
       "      <td>XOne</td>\n",
       "      <td>2013</td>\n",
       "      <td>2016</td>\n",
       "      <td>3</td>\n",
       "    </tr>\n",
       "  </tbody>\n",
       "</table>\n",
       "</div>"
      ],
      "text/plain": [
       "   platform  start_year  end_year  life_period\n",
       "0      2600        1980      2002           22\n",
       "11      NES        1983      1994           11\n",
       "4        DS        1985      2013           28\n",
       "13       PC        1985      2016           31\n",
       "5        GB        1988      2001           13\n",
       "23     SNES        1990      1999            9\n",
       "8       GEN        1990      1994            4\n",
       "9        GG        1992      1992            0\n",
       "22      SCD        1993      1994            1\n",
       "12       NG        1993      1996            3\n",
       "21      SAT        1994      1999            5\n",
       "15       PS        1994      2003            9\n",
       "1       3DO        1994      1995            1\n",
       "24     TG16        1995      1995            0\n",
       "14     PCFX        1996      1996            0\n",
       "10      N64        1996      2004            8\n",
       "16      PS2        1997      2011           14\n",
       "3        DC        1998      2008           10\n",
       "25       WS        1999      2001            2\n",
       "6       GBA        2000      2007            7\n",
       "29       XB        2000      2008            8\n",
       "7        GC        2001      2007            6\n",
       "19      PSP        2004      2015           11\n",
       "17      PS3        2005      2016           11\n",
       "28     X360        2005      2016           11\n",
       "26      Wii        2006      2016           10\n",
       "2       3DS        2010      2016            6\n",
       "20      PSV        2011      2016            5\n",
       "27     WiiU        2012      2016            4\n",
       "18      PS4        2013      2016            3\n",
       "30     XOne        2013      2016            3"
      ]
     },
     "execution_count": 45,
     "metadata": {},
     "output_type": "execute_result"
    }
   ],
   "source": [
    "platform_life = df.pivot_table(index=['platform'],\n",
    "                               values=['year_of_release'],\n",
    "                               aggfunc=['min', 'max']).reset_index()\n",
    "platform_life.columns = ['platform', 'start_year', 'end_year']\n",
    "platform_life = platform_life.sort_values(by='start_year')\n",
    "platform_life['life_period'] = platform_life['end_year'] - platform_life['start_year']\n",
    "\n",
    "platform_life"
   ]
  },
  {
   "cell_type": "markdown",
   "id": "bb9d620b",
   "metadata": {},
   "source": [
    "Для расчета среднего жизненного цикла предлагаю отбросить данные с 2010 года так как это явно относительно новые платформы"
   ]
  },
  {
   "cell_type": "code",
   "execution_count": 46,
   "id": "32457e64",
   "metadata": {},
   "outputs": [
    {
     "name": "stdout",
     "output_type": "stream",
     "text": [
      "Среднее время жизни платформы состаляет 8.5 лет\n"
     ]
    }
   ],
   "source": [
    "print('Среднее время жизни платформы состаляет {} лет'.format(\n",
    "    platform_life['life_period'][:-5].median()))"
   ]
  },
  {
   "cell_type": "markdown",
   "id": "dcb150ca",
   "metadata": {},
   "source": [
    "### Вывод"
   ]
  },
  {
   "cell_type": "markdown",
   "id": "93dbd1ef",
   "metadata": {},
   "source": [
    "На данном этапе мы создали сводную таблицу по платформам с наибольшими суммарными продажами и построили распределение по годам. \n",
    "Из новых платформ на графике только PS4, на момент 2016 года у нее есть продажи, остальные платформы либо уже прекратили свое существование, либо близки к тому чтобы прекратить свое существование.  \n",
    "Так же на графике видим PC - это старичок, у которого начались продажи с 1985 года и идут до сих пор.   \n",
    "Далее мы определили среднее время жизни платформы и оно составляет 8,5 лет"
   ]
  },
  {
   "cell_type": "markdown",
   "id": "7606bac4",
   "metadata": {},
   "source": [
    "## Выбор актуального периода для анализа"
   ]
  },
  {
   "cell_type": "markdown",
   "id": "ed29b35d",
   "metadata": {},
   "source": [
    "Для выбора актуального периода еще раз выведем сводную таблицу созданную на предыдущем шаге и построим график по количеству выпускаемых платформ по годам"
   ]
  },
  {
   "cell_type": "code",
   "execution_count": 47,
   "id": "87c42062",
   "metadata": {},
   "outputs": [
    {
     "data": {
      "text/html": [
       "<div>\n",
       "<style scoped>\n",
       "    .dataframe tbody tr th:only-of-type {\n",
       "        vertical-align: middle;\n",
       "    }\n",
       "\n",
       "    .dataframe tbody tr th {\n",
       "        vertical-align: top;\n",
       "    }\n",
       "\n",
       "    .dataframe thead th {\n",
       "        text-align: right;\n",
       "    }\n",
       "</style>\n",
       "<table border=\"1\" class=\"dataframe\">\n",
       "  <thead>\n",
       "    <tr style=\"text-align: right;\">\n",
       "      <th></th>\n",
       "      <th>platform</th>\n",
       "      <th>start_year</th>\n",
       "      <th>end_year</th>\n",
       "      <th>life_period</th>\n",
       "    </tr>\n",
       "  </thead>\n",
       "  <tbody>\n",
       "    <tr>\n",
       "      <td>0</td>\n",
       "      <td>2600</td>\n",
       "      <td>1980</td>\n",
       "      <td>2002</td>\n",
       "      <td>22</td>\n",
       "    </tr>\n",
       "    <tr>\n",
       "      <td>11</td>\n",
       "      <td>NES</td>\n",
       "      <td>1983</td>\n",
       "      <td>1994</td>\n",
       "      <td>11</td>\n",
       "    </tr>\n",
       "    <tr>\n",
       "      <td>4</td>\n",
       "      <td>DS</td>\n",
       "      <td>1985</td>\n",
       "      <td>2013</td>\n",
       "      <td>28</td>\n",
       "    </tr>\n",
       "    <tr>\n",
       "      <td>13</td>\n",
       "      <td>PC</td>\n",
       "      <td>1985</td>\n",
       "      <td>2016</td>\n",
       "      <td>31</td>\n",
       "    </tr>\n",
       "    <tr>\n",
       "      <td>5</td>\n",
       "      <td>GB</td>\n",
       "      <td>1988</td>\n",
       "      <td>2001</td>\n",
       "      <td>13</td>\n",
       "    </tr>\n",
       "    <tr>\n",
       "      <td>23</td>\n",
       "      <td>SNES</td>\n",
       "      <td>1990</td>\n",
       "      <td>1999</td>\n",
       "      <td>9</td>\n",
       "    </tr>\n",
       "    <tr>\n",
       "      <td>8</td>\n",
       "      <td>GEN</td>\n",
       "      <td>1990</td>\n",
       "      <td>1994</td>\n",
       "      <td>4</td>\n",
       "    </tr>\n",
       "    <tr>\n",
       "      <td>9</td>\n",
       "      <td>GG</td>\n",
       "      <td>1992</td>\n",
       "      <td>1992</td>\n",
       "      <td>0</td>\n",
       "    </tr>\n",
       "    <tr>\n",
       "      <td>22</td>\n",
       "      <td>SCD</td>\n",
       "      <td>1993</td>\n",
       "      <td>1994</td>\n",
       "      <td>1</td>\n",
       "    </tr>\n",
       "    <tr>\n",
       "      <td>12</td>\n",
       "      <td>NG</td>\n",
       "      <td>1993</td>\n",
       "      <td>1996</td>\n",
       "      <td>3</td>\n",
       "    </tr>\n",
       "    <tr>\n",
       "      <td>21</td>\n",
       "      <td>SAT</td>\n",
       "      <td>1994</td>\n",
       "      <td>1999</td>\n",
       "      <td>5</td>\n",
       "    </tr>\n",
       "    <tr>\n",
       "      <td>15</td>\n",
       "      <td>PS</td>\n",
       "      <td>1994</td>\n",
       "      <td>2003</td>\n",
       "      <td>9</td>\n",
       "    </tr>\n",
       "    <tr>\n",
       "      <td>1</td>\n",
       "      <td>3DO</td>\n",
       "      <td>1994</td>\n",
       "      <td>1995</td>\n",
       "      <td>1</td>\n",
       "    </tr>\n",
       "    <tr>\n",
       "      <td>24</td>\n",
       "      <td>TG16</td>\n",
       "      <td>1995</td>\n",
       "      <td>1995</td>\n",
       "      <td>0</td>\n",
       "    </tr>\n",
       "    <tr>\n",
       "      <td>14</td>\n",
       "      <td>PCFX</td>\n",
       "      <td>1996</td>\n",
       "      <td>1996</td>\n",
       "      <td>0</td>\n",
       "    </tr>\n",
       "    <tr>\n",
       "      <td>10</td>\n",
       "      <td>N64</td>\n",
       "      <td>1996</td>\n",
       "      <td>2004</td>\n",
       "      <td>8</td>\n",
       "    </tr>\n",
       "    <tr>\n",
       "      <td>16</td>\n",
       "      <td>PS2</td>\n",
       "      <td>1997</td>\n",
       "      <td>2011</td>\n",
       "      <td>14</td>\n",
       "    </tr>\n",
       "    <tr>\n",
       "      <td>3</td>\n",
       "      <td>DC</td>\n",
       "      <td>1998</td>\n",
       "      <td>2008</td>\n",
       "      <td>10</td>\n",
       "    </tr>\n",
       "    <tr>\n",
       "      <td>25</td>\n",
       "      <td>WS</td>\n",
       "      <td>1999</td>\n",
       "      <td>2001</td>\n",
       "      <td>2</td>\n",
       "    </tr>\n",
       "    <tr>\n",
       "      <td>6</td>\n",
       "      <td>GBA</td>\n",
       "      <td>2000</td>\n",
       "      <td>2007</td>\n",
       "      <td>7</td>\n",
       "    </tr>\n",
       "    <tr>\n",
       "      <td>29</td>\n",
       "      <td>XB</td>\n",
       "      <td>2000</td>\n",
       "      <td>2008</td>\n",
       "      <td>8</td>\n",
       "    </tr>\n",
       "    <tr>\n",
       "      <td>7</td>\n",
       "      <td>GC</td>\n",
       "      <td>2001</td>\n",
       "      <td>2007</td>\n",
       "      <td>6</td>\n",
       "    </tr>\n",
       "    <tr>\n",
       "      <td>19</td>\n",
       "      <td>PSP</td>\n",
       "      <td>2004</td>\n",
       "      <td>2015</td>\n",
       "      <td>11</td>\n",
       "    </tr>\n",
       "    <tr>\n",
       "      <td>17</td>\n",
       "      <td>PS3</td>\n",
       "      <td>2005</td>\n",
       "      <td>2016</td>\n",
       "      <td>11</td>\n",
       "    </tr>\n",
       "    <tr>\n",
       "      <td>28</td>\n",
       "      <td>X360</td>\n",
       "      <td>2005</td>\n",
       "      <td>2016</td>\n",
       "      <td>11</td>\n",
       "    </tr>\n",
       "    <tr>\n",
       "      <td>26</td>\n",
       "      <td>Wii</td>\n",
       "      <td>2006</td>\n",
       "      <td>2016</td>\n",
       "      <td>10</td>\n",
       "    </tr>\n",
       "    <tr>\n",
       "      <td>2</td>\n",
       "      <td>3DS</td>\n",
       "      <td>2010</td>\n",
       "      <td>2016</td>\n",
       "      <td>6</td>\n",
       "    </tr>\n",
       "    <tr>\n",
       "      <td>20</td>\n",
       "      <td>PSV</td>\n",
       "      <td>2011</td>\n",
       "      <td>2016</td>\n",
       "      <td>5</td>\n",
       "    </tr>\n",
       "    <tr>\n",
       "      <td>27</td>\n",
       "      <td>WiiU</td>\n",
       "      <td>2012</td>\n",
       "      <td>2016</td>\n",
       "      <td>4</td>\n",
       "    </tr>\n",
       "    <tr>\n",
       "      <td>18</td>\n",
       "      <td>PS4</td>\n",
       "      <td>2013</td>\n",
       "      <td>2016</td>\n",
       "      <td>3</td>\n",
       "    </tr>\n",
       "    <tr>\n",
       "      <td>30</td>\n",
       "      <td>XOne</td>\n",
       "      <td>2013</td>\n",
       "      <td>2016</td>\n",
       "      <td>3</td>\n",
       "    </tr>\n",
       "  </tbody>\n",
       "</table>\n",
       "</div>"
      ],
      "text/plain": [
       "   platform  start_year  end_year  life_period\n",
       "0      2600        1980      2002           22\n",
       "11      NES        1983      1994           11\n",
       "4        DS        1985      2013           28\n",
       "13       PC        1985      2016           31\n",
       "5        GB        1988      2001           13\n",
       "23     SNES        1990      1999            9\n",
       "8       GEN        1990      1994            4\n",
       "9        GG        1992      1992            0\n",
       "22      SCD        1993      1994            1\n",
       "12       NG        1993      1996            3\n",
       "21      SAT        1994      1999            5\n",
       "15       PS        1994      2003            9\n",
       "1       3DO        1994      1995            1\n",
       "24     TG16        1995      1995            0\n",
       "14     PCFX        1996      1996            0\n",
       "10      N64        1996      2004            8\n",
       "16      PS2        1997      2011           14\n",
       "3        DC        1998      2008           10\n",
       "25       WS        1999      2001            2\n",
       "6       GBA        2000      2007            7\n",
       "29       XB        2000      2008            8\n",
       "7        GC        2001      2007            6\n",
       "19      PSP        2004      2015           11\n",
       "17      PS3        2005      2016           11\n",
       "28     X360        2005      2016           11\n",
       "26      Wii        2006      2016           10\n",
       "2       3DS        2010      2016            6\n",
       "20      PSV        2011      2016            5\n",
       "27     WiiU        2012      2016            4\n",
       "18      PS4        2013      2016            3\n",
       "30     XOne        2013      2016            3"
      ]
     },
     "execution_count": 47,
     "metadata": {},
     "output_type": "execute_result"
    }
   ],
   "source": [
    "platform_life"
   ]
  },
  {
   "cell_type": "markdown",
   "id": "192fc2be",
   "metadata": {},
   "source": [
    "### Вывод"
   ]
  },
  {
   "cell_type": "markdown",
   "id": "ab2c15a8",
   "metadata": {},
   "source": [
    "Из сводной таблицы и графика видно, что платформы выходили чаще до начала 2000х, после стали намного реже. С 2006 до 2010 года был большой простой по выпуску платформ, а так как у нас средний жизненный цикл платформ составляет почти 9 лет, то предлагаю эти данные отбросить и выбрать актуальный период начиная с 2010 года."
   ]
  },
  {
   "cell_type": "markdown",
   "id": "a1614264",
   "metadata": {},
   "source": [
    "## Посмотрим какие платформы лидируют по продажам"
   ]
  },
  {
   "cell_type": "markdown",
   "id": "873fc836",
   "metadata": {},
   "source": [
    "Для просмотра лидирующих платформ за выбранный период(с 2010 года) предлагаю из сводной таблицы созданной на предыдщуем шаге взять название платформ для дальнейшнего анализа, но так же добавить к ним старичка PC так как у него пока нет аналогов и есть продажи"
   ]
  },
  {
   "cell_type": "code",
   "execution_count": 49,
   "id": "967e3e20",
   "metadata": {},
   "outputs": [
    {
     "data": {
      "text/html": [
       "<div>\n",
       "<style scoped>\n",
       "    .dataframe tbody tr th:only-of-type {\n",
       "        vertical-align: middle;\n",
       "    }\n",
       "\n",
       "    .dataframe tbody tr th {\n",
       "        vertical-align: top;\n",
       "    }\n",
       "\n",
       "    .dataframe thead th {\n",
       "        text-align: right;\n",
       "    }\n",
       "</style>\n",
       "<table border=\"1\" class=\"dataframe\">\n",
       "  <thead>\n",
       "    <tr style=\"text-align: right;\">\n",
       "      <th></th>\n",
       "      <th>platform</th>\n",
       "      <th>start_year</th>\n",
       "      <th>end_year</th>\n",
       "      <th>life_period</th>\n",
       "    </tr>\n",
       "  </thead>\n",
       "  <tbody>\n",
       "    <tr>\n",
       "      <td>2</td>\n",
       "      <td>3DS</td>\n",
       "      <td>2010</td>\n",
       "      <td>2016</td>\n",
       "      <td>6</td>\n",
       "    </tr>\n",
       "    <tr>\n",
       "      <td>20</td>\n",
       "      <td>PSV</td>\n",
       "      <td>2011</td>\n",
       "      <td>2016</td>\n",
       "      <td>5</td>\n",
       "    </tr>\n",
       "    <tr>\n",
       "      <td>27</td>\n",
       "      <td>WiiU</td>\n",
       "      <td>2012</td>\n",
       "      <td>2016</td>\n",
       "      <td>4</td>\n",
       "    </tr>\n",
       "    <tr>\n",
       "      <td>18</td>\n",
       "      <td>PS4</td>\n",
       "      <td>2013</td>\n",
       "      <td>2016</td>\n",
       "      <td>3</td>\n",
       "    </tr>\n",
       "    <tr>\n",
       "      <td>30</td>\n",
       "      <td>XOne</td>\n",
       "      <td>2013</td>\n",
       "      <td>2016</td>\n",
       "      <td>3</td>\n",
       "    </tr>\n",
       "  </tbody>\n",
       "</table>\n",
       "</div>"
      ],
      "text/plain": [
       "   platform  start_year  end_year  life_period\n",
       "2       3DS        2010      2016            6\n",
       "20      PSV        2011      2016            5\n",
       "27     WiiU        2012      2016            4\n",
       "18      PS4        2013      2016            3\n",
       "30     XOne        2013      2016            3"
      ]
     },
     "execution_count": 49,
     "metadata": {},
     "output_type": "execute_result"
    }
   ],
   "source": [
    "platform_life[-5:]"
   ]
  },
  {
   "cell_type": "code",
   "execution_count": 50,
   "id": "8a2eeae9",
   "metadata": {},
   "outputs": [],
   "source": [
    "actual_platform = platform_life[-5:]['platform'].to_list()\n",
    "actual_platform.append('PC')"
   ]
  },
  {
   "cell_type": "code",
   "execution_count": 51,
   "id": "a62027ba",
   "metadata": {},
   "outputs": [
    {
     "data": {
      "text/plain": [
       "['3DS', 'PSV', 'WiiU', 'PS4', 'XOne', 'PC']"
      ]
     },
     "execution_count": 51,
     "metadata": {},
     "output_type": "execute_result"
    }
   ],
   "source": [
    "actual_platform"
   ]
  },
  {
   "cell_type": "markdown",
   "id": "897f28e3",
   "metadata": {},
   "source": [
    "Теперь возьмем отфильтруем общий датасет по получившимся платформам, но так как данные за 2016 год не полные, то их тоже не будем учитывать"
   ]
  },
  {
   "cell_type": "code",
   "execution_count": 52,
   "id": "9f5f8262",
   "metadata": {},
   "outputs": [
    {
     "data": {
      "text/html": [
       "<div>\n",
       "<style scoped>\n",
       "    .dataframe tbody tr th:only-of-type {\n",
       "        vertical-align: middle;\n",
       "    }\n",
       "\n",
       "    .dataframe tbody tr th {\n",
       "        vertical-align: top;\n",
       "    }\n",
       "\n",
       "    .dataframe thead th {\n",
       "        text-align: right;\n",
       "    }\n",
       "</style>\n",
       "<table border=\"1\" class=\"dataframe\">\n",
       "  <thead>\n",
       "    <tr style=\"text-align: right;\">\n",
       "      <th></th>\n",
       "      <th>name</th>\n",
       "      <th>platform</th>\n",
       "      <th>year_of_release</th>\n",
       "      <th>genre</th>\n",
       "      <th>na_sales</th>\n",
       "      <th>eu_sales</th>\n",
       "      <th>jp_sales</th>\n",
       "      <th>other_sales</th>\n",
       "      <th>critic_score</th>\n",
       "      <th>user_score</th>\n",
       "      <th>rating</th>\n",
       "      <th>total_sales</th>\n",
       "    </tr>\n",
       "  </thead>\n",
       "  <tbody>\n",
       "    <tr>\n",
       "      <td>9694</td>\n",
       "      <td>One Piece: Pirate Warriors 2</td>\n",
       "      <td>PSV</td>\n",
       "      <td>2013</td>\n",
       "      <td>Action</td>\n",
       "      <td>0.00</td>\n",
       "      <td>0.00</td>\n",
       "      <td>0.12</td>\n",
       "      <td>0.00</td>\n",
       "      <td>NaN</td>\n",
       "      <td>NaN</td>\n",
       "      <td>unknown</td>\n",
       "      <td>0.12</td>\n",
       "    </tr>\n",
       "    <tr>\n",
       "      <td>47</td>\n",
       "      <td>Pokemon Omega Ruby/Pokemon Alpha Sapphire</td>\n",
       "      <td>3DS</td>\n",
       "      <td>2014</td>\n",
       "      <td>Role-Playing</td>\n",
       "      <td>4.35</td>\n",
       "      <td>3.49</td>\n",
       "      <td>3.10</td>\n",
       "      <td>0.74</td>\n",
       "      <td>NaN</td>\n",
       "      <td>NaN</td>\n",
       "      <td>unknown</td>\n",
       "      <td>11.68</td>\n",
       "    </tr>\n",
       "    <tr>\n",
       "      <td>7253</td>\n",
       "      <td>The Amazing Spider-Man 2 (2014)</td>\n",
       "      <td>XOne</td>\n",
       "      <td>2014</td>\n",
       "      <td>Action</td>\n",
       "      <td>0.12</td>\n",
       "      <td>0.08</td>\n",
       "      <td>0.00</td>\n",
       "      <td>0.02</td>\n",
       "      <td>NaN</td>\n",
       "      <td>NaN</td>\n",
       "      <td>unknown</td>\n",
       "      <td>0.22</td>\n",
       "    </tr>\n",
       "    <tr>\n",
       "      <td>2954</td>\n",
       "      <td>Need for Speed (2015)</td>\n",
       "      <td>XOne</td>\n",
       "      <td>2015</td>\n",
       "      <td>Racing</td>\n",
       "      <td>0.30</td>\n",
       "      <td>0.33</td>\n",
       "      <td>0.00</td>\n",
       "      <td>0.06</td>\n",
       "      <td>NaN</td>\n",
       "      <td>NaN</td>\n",
       "      <td>unknown</td>\n",
       "      <td>0.69</td>\n",
       "    </tr>\n",
       "    <tr>\n",
       "      <td>323</td>\n",
       "      <td>Call of Duty: Ghosts</td>\n",
       "      <td>PS4</td>\n",
       "      <td>2013</td>\n",
       "      <td>Shooter</td>\n",
       "      <td>1.78</td>\n",
       "      <td>1.43</td>\n",
       "      <td>0.05</td>\n",
       "      <td>0.57</td>\n",
       "      <td>78.0</td>\n",
       "      <td>3.7</td>\n",
       "      <td>M</td>\n",
       "      <td>3.83</td>\n",
       "    </tr>\n",
       "    <tr>\n",
       "      <td>10576</td>\n",
       "      <td>Terraria</td>\n",
       "      <td>PSV</td>\n",
       "      <td>2013</td>\n",
       "      <td>Action</td>\n",
       "      <td>0.00</td>\n",
       "      <td>0.01</td>\n",
       "      <td>0.09</td>\n",
       "      <td>0.00</td>\n",
       "      <td>85.0</td>\n",
       "      <td>7.8</td>\n",
       "      <td>T</td>\n",
       "      <td>0.10</td>\n",
       "    </tr>\n",
       "    <tr>\n",
       "      <td>10690</td>\n",
       "      <td>Fate/hollow ataraxia</td>\n",
       "      <td>PSV</td>\n",
       "      <td>2014</td>\n",
       "      <td>Adventure</td>\n",
       "      <td>0.00</td>\n",
       "      <td>0.00</td>\n",
       "      <td>0.10</td>\n",
       "      <td>0.00</td>\n",
       "      <td>NaN</td>\n",
       "      <td>NaN</td>\n",
       "      <td>unknown</td>\n",
       "      <td>0.10</td>\n",
       "    </tr>\n",
       "    <tr>\n",
       "      <td>11892</td>\n",
       "      <td>Petz Fantasy 3D</td>\n",
       "      <td>3DS</td>\n",
       "      <td>2011</td>\n",
       "      <td>Simulation</td>\n",
       "      <td>0.07</td>\n",
       "      <td>0.00</td>\n",
       "      <td>0.00</td>\n",
       "      <td>0.00</td>\n",
       "      <td>NaN</td>\n",
       "      <td>NaN</td>\n",
       "      <td>E</td>\n",
       "      <td>0.07</td>\n",
       "    </tr>\n",
       "    <tr>\n",
       "      <td>15504</td>\n",
       "      <td>Angelique Retour</td>\n",
       "      <td>PSV</td>\n",
       "      <td>2015</td>\n",
       "      <td>Action</td>\n",
       "      <td>0.00</td>\n",
       "      <td>0.00</td>\n",
       "      <td>0.02</td>\n",
       "      <td>0.00</td>\n",
       "      <td>NaN</td>\n",
       "      <td>NaN</td>\n",
       "      <td>unknown</td>\n",
       "      <td>0.02</td>\n",
       "    </tr>\n",
       "    <tr>\n",
       "      <td>5287</td>\n",
       "      <td>One Piece: Burning Blood</td>\n",
       "      <td>PS4</td>\n",
       "      <td>2016</td>\n",
       "      <td>Fighting</td>\n",
       "      <td>0.11</td>\n",
       "      <td>0.13</td>\n",
       "      <td>0.07</td>\n",
       "      <td>0.05</td>\n",
       "      <td>66.0</td>\n",
       "      <td>7.8</td>\n",
       "      <td>T</td>\n",
       "      <td>0.36</td>\n",
       "    </tr>\n",
       "  </tbody>\n",
       "</table>\n",
       "</div>"
      ],
      "text/plain": [
       "                                            name platform  year_of_release  \\\n",
       "9694                One Piece: Pirate Warriors 2      PSV             2013   \n",
       "47     Pokemon Omega Ruby/Pokemon Alpha Sapphire      3DS             2014   \n",
       "7253             The Amazing Spider-Man 2 (2014)     XOne             2014   \n",
       "2954                       Need for Speed (2015)     XOne             2015   \n",
       "323                         Call of Duty: Ghosts      PS4             2013   \n",
       "10576                                   Terraria      PSV             2013   \n",
       "10690                       Fate/hollow ataraxia      PSV             2014   \n",
       "11892                            Petz Fantasy 3D      3DS             2011   \n",
       "15504                           Angelique Retour      PSV             2015   \n",
       "5287                    One Piece: Burning Blood      PS4             2016   \n",
       "\n",
       "              genre  na_sales  eu_sales  jp_sales  other_sales  critic_score  \\\n",
       "9694         Action      0.00      0.00      0.12         0.00           NaN   \n",
       "47     Role-Playing      4.35      3.49      3.10         0.74           NaN   \n",
       "7253         Action      0.12      0.08      0.00         0.02           NaN   \n",
       "2954         Racing      0.30      0.33      0.00         0.06           NaN   \n",
       "323         Shooter      1.78      1.43      0.05         0.57          78.0   \n",
       "10576        Action      0.00      0.01      0.09         0.00          85.0   \n",
       "10690     Adventure      0.00      0.00      0.10         0.00           NaN   \n",
       "11892    Simulation      0.07      0.00      0.00         0.00           NaN   \n",
       "15504        Action      0.00      0.00      0.02         0.00           NaN   \n",
       "5287       Fighting      0.11      0.13      0.07         0.05          66.0   \n",
       "\n",
       "       user_score   rating  total_sales  \n",
       "9694          NaN  unknown         0.12  \n",
       "47            NaN  unknown        11.68  \n",
       "7253          NaN  unknown         0.22  \n",
       "2954          NaN  unknown         0.69  \n",
       "323           3.7        M         3.83  \n",
       "10576         7.8        T         0.10  \n",
       "10690         NaN  unknown         0.10  \n",
       "11892         NaN        E         0.07  \n",
       "15504         NaN  unknown         0.02  \n",
       "5287          7.8        T         0.36  "
      ]
     },
     "execution_count": 52,
     "metadata": {},
     "output_type": "execute_result"
    }
   ],
   "source": [
    "actual_df = df[(df['platform'].isin(actual_platform))\n",
    "               & (df['year_of_release'] <= 2016) &\n",
    "               (df['year_of_release'] > 2010)]\n",
    "actual_df.sample(10)"
   ]
  },
  {
   "cell_type": "markdown",
   "id": "ff12bdfe",
   "metadata": {},
   "source": [
    "Теперь создадим сводную таблицу по количеству продаж по этим платформам и нарисуем график"
   ]
  },
  {
   "cell_type": "code",
   "execution_count": 53,
   "id": "490b7e24",
   "metadata": {},
   "outputs": [
    {
     "data": {
      "text/html": [
       "<div>\n",
       "<style scoped>\n",
       "    .dataframe tbody tr th:only-of-type {\n",
       "        vertical-align: middle;\n",
       "    }\n",
       "\n",
       "    .dataframe tbody tr th {\n",
       "        vertical-align: top;\n",
       "    }\n",
       "\n",
       "    .dataframe thead th {\n",
       "        text-align: right;\n",
       "    }\n",
       "</style>\n",
       "<table border=\"1\" class=\"dataframe\">\n",
       "  <thead>\n",
       "    <tr style=\"text-align: right;\">\n",
       "      <th></th>\n",
       "      <th>platform</th>\n",
       "      <th>year_of_release</th>\n",
       "      <th>total_sales</th>\n",
       "    </tr>\n",
       "  </thead>\n",
       "  <tbody>\n",
       "    <tr>\n",
       "      <td>15</td>\n",
       "      <td>PS4</td>\n",
       "      <td>2016</td>\n",
       "      <td>69.25</td>\n",
       "    </tr>\n",
       "    <tr>\n",
       "      <td>18</td>\n",
       "      <td>PSV</td>\n",
       "      <td>2013</td>\n",
       "      <td>10.59</td>\n",
       "    </tr>\n",
       "    <tr>\n",
       "      <td>19</td>\n",
       "      <td>PSV</td>\n",
       "      <td>2014</td>\n",
       "      <td>11.90</td>\n",
       "    </tr>\n",
       "    <tr>\n",
       "      <td>20</td>\n",
       "      <td>PSV</td>\n",
       "      <td>2015</td>\n",
       "      <td>6.25</td>\n",
       "    </tr>\n",
       "    <tr>\n",
       "      <td>3</td>\n",
       "      <td>3DS</td>\n",
       "      <td>2014</td>\n",
       "      <td>43.76</td>\n",
       "    </tr>\n",
       "    <tr>\n",
       "      <td>5</td>\n",
       "      <td>3DS</td>\n",
       "      <td>2016</td>\n",
       "      <td>15.14</td>\n",
       "    </tr>\n",
       "    <tr>\n",
       "      <td>21</td>\n",
       "      <td>PSV</td>\n",
       "      <td>2016</td>\n",
       "      <td>4.25</td>\n",
       "    </tr>\n",
       "    <tr>\n",
       "      <td>6</td>\n",
       "      <td>PC</td>\n",
       "      <td>2011</td>\n",
       "      <td>35.16</td>\n",
       "    </tr>\n",
       "    <tr>\n",
       "      <td>7</td>\n",
       "      <td>PC</td>\n",
       "      <td>2012</td>\n",
       "      <td>23.45</td>\n",
       "    </tr>\n",
       "    <tr>\n",
       "      <td>0</td>\n",
       "      <td>3DS</td>\n",
       "      <td>2011</td>\n",
       "      <td>63.20</td>\n",
       "    </tr>\n",
       "  </tbody>\n",
       "</table>\n",
       "</div>"
      ],
      "text/plain": [
       "   platform  year_of_release  total_sales\n",
       "15      PS4             2016        69.25\n",
       "18      PSV             2013        10.59\n",
       "19      PSV             2014        11.90\n",
       "20      PSV             2015         6.25\n",
       "3       3DS             2014        43.76\n",
       "5       3DS             2016        15.14\n",
       "21      PSV             2016         4.25\n",
       "6        PC             2011        35.16\n",
       "7        PC             2012        23.45\n",
       "0       3DS             2011        63.20"
      ]
     },
     "execution_count": 53,
     "metadata": {},
     "output_type": "execute_result"
    }
   ],
   "source": [
    "top_sale_from_actual = actual_df.pivot_table(index=['platform', 'year_of_release'],\n",
    "                      values='total_sales',\n",
    "                      aggfunc='sum').reset_index()\n",
    "top_sale_from_actual.sample(10)"
   ]
  },
  {
   "cell_type": "code",
   "execution_count": 54,
   "id": "c1bd7af4",
   "metadata": {},
   "outputs": [
    {
     "data": {
      "text/plain": [
       "Text(0, 0.5, 'Количество продаж, млн')"
      ]
     },
     "execution_count": 54,
     "metadata": {},
     "output_type": "execute_result"
    },
    {
     "data": {
      "image/png": "[encoded data removed]",
      "text/plain": [
       "<Figure size 1080x360 with 1 Axes>"
      ]
     },
     "metadata": {
      "needs_background": "light"
     },
     "output_type": "display_data"
    }
   ],
   "source": [
    "fig, ax = plt.subplots(figsize=(15,5))\n",
    "sns.barplot(data=top_sale_from_actual, x='year_of_release', y='total_sales', hue='platform')\n",
    "plt.title('Количество продаж по платформам по годам')\n",
    "plt.xlabel('Года')\n",
    "plt.ylabel('Количество продаж, млн')"
   ]
  },
  {
   "cell_type": "markdown",
   "id": "b022b4f6",
   "metadata": {},
   "source": [
    "Как мы видим, суммы продаж растут по 2 платформам, это PS4 и XOne, по остальным платформам продажи только падают. Лидирующую позицию по продажам занимает PS4."
   ]
  },
  {
   "cell_type": "markdown",
   "id": "fbea7721",
   "metadata": {},
   "source": [
    "### Вывод"
   ]
  },
  {
   "cell_type": "markdown",
   "id": "9fbbfe60",
   "metadata": {},
   "source": [
    "Для просмотра лидирующих платформ за выбранный период(с 2010 года), мы создали сводную таблицу по количеству продаж по выпущенным платформам в этот период, но так же добавили в этот список PC и нарисовали график. После анализа графика можно выделить две потенциально прибыльных платформы, это PS4 и XOne, по остальным платформам идет спад по продажам."
   ]
  },
  {
   "cell_type": "markdown",
   "id": "097db886",
   "metadata": {},
   "source": [
    "## Построим график «ящик с усами» по глобальным продажам игр в разбивке по платформам"
   ]
  },
  {
   "cell_type": "markdown",
   "id": "541bd939",
   "metadata": {},
   "source": [
    "Для графика «ящик с усами» возьмем датафрейм со списком платформ и глобальных продаж из предыдущего шага и посмотрим на получившийся результат"
   ]
  },
  {
   "cell_type": "code",
   "execution_count": 55,
   "id": "65093e21",
   "metadata": {},
   "outputs": [
    {
     "data": {
      "text/plain": [
       "Text(0, 0.5, 'Платформы')"
      ]
     },
     "execution_count": 55,
     "metadata": {},
     "output_type": "execute_result"
    },
    {
     "data": {
      "image/png": "[encoded data removed]",
      "text/plain": [
       "<Figure size 1080x576 with 1 Axes>"
      ]
     },
     "metadata": {
      "needs_background": "light"
     },
     "output_type": "display_data"
    }
   ],
   "source": [
    "fig, ax = plt.subplots(figsize=(15,8))\n",
    "sns.boxplot(data=top_sale_from_actual, x='total_sales', y='platform')\n",
    "plt.title('Распределение по глобальным продажам игр в разбивке по платформам')\n",
    "plt.xlabel('Сумма продаж, млн')\n",
    "plt.ylabel('Платформы')"
   ]
  },
  {
   "cell_type": "markdown",
   "id": "f95f092c",
   "metadata": {},
   "source": [
    "### Вывод"
   ]
  },
  {
   "cell_type": "markdown",
   "id": "0f6e1fc0",
   "metadata": {},
   "source": [
    "По графику можно сделать следующие выводы: \n",
    "* у PS4 очень большой разброс по глобальным продажам, но медианное значение находится в районе 100 млн\n",
    "* у PC медианное значение продаж находится близко к минимальному и находится в районе 16 млн\n",
    "* у XOne, конкурента PS4, сумма продаж почти в 2 раза меньше, медианное значение около 55 млн\n",
    "* у 3DS почти такое же медианное значение продаж как и у XOne и в целом разброс продаж меньше\n",
    "* у PSV медианное значение продаж располагается в районе 15 млн и близко к максимальному\n",
    "* у WiiU медианное располагается в районе 20 млн и разброс очень маленький"
   ]
  },
  {
   "cell_type": "markdown",
   "id": "b662354c",
   "metadata": {},
   "source": [
    "## Посмотрим, как влияют на продажи внутри одной популярной платформы отзывы пользователей и критиков"
   ]
  },
  {
   "cell_type": "markdown",
   "id": "653493fa",
   "metadata": {},
   "source": [
    "В качестве популярной платформы возьмем PS4, так как она занимает лидирующие позиции по продажам"
   ]
  },
  {
   "cell_type": "code",
   "execution_count": 56,
   "id": "e23ed8fa",
   "metadata": {},
   "outputs": [
    {
     "data": {
      "text/html": [
       "<div>\n",
       "<style scoped>\n",
       "    .dataframe tbody tr th:only-of-type {\n",
       "        vertical-align: middle;\n",
       "    }\n",
       "\n",
       "    .dataframe tbody tr th {\n",
       "        vertical-align: top;\n",
       "    }\n",
       "\n",
       "    .dataframe thead th {\n",
       "        text-align: right;\n",
       "    }\n",
       "</style>\n",
       "<table border=\"1\" class=\"dataframe\">\n",
       "  <thead>\n",
       "    <tr style=\"text-align: right;\">\n",
       "      <th></th>\n",
       "      <th>name</th>\n",
       "      <th>platform</th>\n",
       "      <th>year_of_release</th>\n",
       "      <th>genre</th>\n",
       "      <th>na_sales</th>\n",
       "      <th>eu_sales</th>\n",
       "      <th>jp_sales</th>\n",
       "      <th>other_sales</th>\n",
       "      <th>critic_score</th>\n",
       "      <th>user_score</th>\n",
       "      <th>rating</th>\n",
       "      <th>total_sales</th>\n",
       "    </tr>\n",
       "  </thead>\n",
       "  <tbody>\n",
       "    <tr>\n",
       "      <td>6537</td>\n",
       "      <td>Battleborn</td>\n",
       "      <td>PS4</td>\n",
       "      <td>2016</td>\n",
       "      <td>Shooter</td>\n",
       "      <td>0.12</td>\n",
       "      <td>0.08</td>\n",
       "      <td>0.02</td>\n",
       "      <td>0.04</td>\n",
       "      <td>68.0</td>\n",
       "      <td>6.8</td>\n",
       "      <td>T</td>\n",
       "      <td>0.26</td>\n",
       "    </tr>\n",
       "    <tr>\n",
       "      <td>8636</td>\n",
       "      <td>Putty Squad</td>\n",
       "      <td>PS4</td>\n",
       "      <td>2013</td>\n",
       "      <td>Platform</td>\n",
       "      <td>0.06</td>\n",
       "      <td>0.07</td>\n",
       "      <td>0.00</td>\n",
       "      <td>0.03</td>\n",
       "      <td>38.0</td>\n",
       "      <td>2.9</td>\n",
       "      <td>E10+</td>\n",
       "      <td>0.16</td>\n",
       "    </tr>\n",
       "    <tr>\n",
       "      <td>2718</td>\n",
       "      <td>Titanfall 2</td>\n",
       "      <td>PS4</td>\n",
       "      <td>2016</td>\n",
       "      <td>Shooter</td>\n",
       "      <td>0.34</td>\n",
       "      <td>0.25</td>\n",
       "      <td>0.05</td>\n",
       "      <td>0.12</td>\n",
       "      <td>89.0</td>\n",
       "      <td>8.4</td>\n",
       "      <td>M</td>\n",
       "      <td>0.76</td>\n",
       "    </tr>\n",
       "    <tr>\n",
       "      <td>14773</td>\n",
       "      <td>Loading Human</td>\n",
       "      <td>PS4</td>\n",
       "      <td>2016</td>\n",
       "      <td>Adventure</td>\n",
       "      <td>0.01</td>\n",
       "      <td>0.01</td>\n",
       "      <td>0.00</td>\n",
       "      <td>0.00</td>\n",
       "      <td>NaN</td>\n",
       "      <td>NaN</td>\n",
       "      <td>unknown</td>\n",
       "      <td>0.02</td>\n",
       "    </tr>\n",
       "    <tr>\n",
       "      <td>2889</td>\n",
       "      <td>Dragon Ball: Xenoverse 2</td>\n",
       "      <td>PS4</td>\n",
       "      <td>2016</td>\n",
       "      <td>Action</td>\n",
       "      <td>0.24</td>\n",
       "      <td>0.27</td>\n",
       "      <td>0.09</td>\n",
       "      <td>0.10</td>\n",
       "      <td>73.0</td>\n",
       "      <td>7.8</td>\n",
       "      <td>T</td>\n",
       "      <td>0.70</td>\n",
       "    </tr>\n",
       "    <tr>\n",
       "      <td>9241</td>\n",
       "      <td>Brothers: A Tale of Two Sons</td>\n",
       "      <td>PS4</td>\n",
       "      <td>2015</td>\n",
       "      <td>Adventure</td>\n",
       "      <td>0.03</td>\n",
       "      <td>0.08</td>\n",
       "      <td>0.00</td>\n",
       "      <td>0.02</td>\n",
       "      <td>81.0</td>\n",
       "      <td>8.6</td>\n",
       "      <td>T</td>\n",
       "      <td>0.13</td>\n",
       "    </tr>\n",
       "    <tr>\n",
       "      <td>13078</td>\n",
       "      <td>Game of Thrones (Telltale)</td>\n",
       "      <td>PS4</td>\n",
       "      <td>2015</td>\n",
       "      <td>Adventure</td>\n",
       "      <td>0.04</td>\n",
       "      <td>0.00</td>\n",
       "      <td>0.00</td>\n",
       "      <td>0.01</td>\n",
       "      <td>NaN</td>\n",
       "      <td>NaN</td>\n",
       "      <td>unknown</td>\n",
       "      <td>0.05</td>\n",
       "    </tr>\n",
       "    <tr>\n",
       "      <td>15175</td>\n",
       "      <td>Anima - Gate of Memories</td>\n",
       "      <td>PS4</td>\n",
       "      <td>2016</td>\n",
       "      <td>Action</td>\n",
       "      <td>0.00</td>\n",
       "      <td>0.02</td>\n",
       "      <td>0.00</td>\n",
       "      <td>0.00</td>\n",
       "      <td>52.0</td>\n",
       "      <td>7.9</td>\n",
       "      <td>T</td>\n",
       "      <td>0.02</td>\n",
       "    </tr>\n",
       "    <tr>\n",
       "      <td>16362</td>\n",
       "      <td>Crows: Burning Edge</td>\n",
       "      <td>PS4</td>\n",
       "      <td>2016</td>\n",
       "      <td>Action</td>\n",
       "      <td>0.00</td>\n",
       "      <td>0.00</td>\n",
       "      <td>0.01</td>\n",
       "      <td>0.00</td>\n",
       "      <td>NaN</td>\n",
       "      <td>NaN</td>\n",
       "      <td>unknown</td>\n",
       "      <td>0.01</td>\n",
       "    </tr>\n",
       "    <tr>\n",
       "      <td>16503</td>\n",
       "      <td>Shin Hayarigami 2</td>\n",
       "      <td>PS4</td>\n",
       "      <td>2016</td>\n",
       "      <td>Adventure</td>\n",
       "      <td>0.00</td>\n",
       "      <td>0.00</td>\n",
       "      <td>0.01</td>\n",
       "      <td>0.00</td>\n",
       "      <td>NaN</td>\n",
       "      <td>NaN</td>\n",
       "      <td>unknown</td>\n",
       "      <td>0.01</td>\n",
       "    </tr>\n",
       "  </tbody>\n",
       "</table>\n",
       "</div>"
      ],
      "text/plain": [
       "                               name platform  year_of_release      genre  \\\n",
       "6537                     Battleborn      PS4             2016    Shooter   \n",
       "8636                    Putty Squad      PS4             2013   Platform   \n",
       "2718                    Titanfall 2      PS4             2016    Shooter   \n",
       "14773                 Loading Human      PS4             2016  Adventure   \n",
       "2889       Dragon Ball: Xenoverse 2      PS4             2016     Action   \n",
       "9241   Brothers: A Tale of Two Sons      PS4             2015  Adventure   \n",
       "13078    Game of Thrones (Telltale)      PS4             2015  Adventure   \n",
       "15175      Anima - Gate of Memories      PS4             2016     Action   \n",
       "16362           Crows: Burning Edge      PS4             2016     Action   \n",
       "16503             Shin Hayarigami 2      PS4             2016  Adventure   \n",
       "\n",
       "       na_sales  eu_sales  jp_sales  other_sales  critic_score  user_score  \\\n",
       "6537       0.12      0.08      0.02         0.04          68.0         6.8   \n",
       "8636       0.06      0.07      0.00         0.03          38.0         2.9   \n",
       "2718       0.34      0.25      0.05         0.12          89.0         8.4   \n",
       "14773      0.01      0.01      0.00         0.00           NaN         NaN   \n",
       "2889       0.24      0.27      0.09         0.10          73.0         7.8   \n",
       "9241       0.03      0.08      0.00         0.02          81.0         8.6   \n",
       "13078      0.04      0.00      0.00         0.01           NaN         NaN   \n",
       "15175      0.00      0.02      0.00         0.00          52.0         7.9   \n",
       "16362      0.00      0.00      0.01         0.00           NaN         NaN   \n",
       "16503      0.00      0.00      0.01         0.00           NaN         NaN   \n",
       "\n",
       "        rating  total_sales  \n",
       "6537         T         0.26  \n",
       "8636      E10+         0.16  \n",
       "2718         M         0.76  \n",
       "14773  unknown         0.02  \n",
       "2889         T         0.70  \n",
       "9241         T         0.13  \n",
       "13078  unknown         0.05  \n",
       "15175        T         0.02  \n",
       "16362  unknown         0.01  \n",
       "16503  unknown         0.01  "
      ]
     },
     "execution_count": 56,
     "metadata": {},
     "output_type": "execute_result"
    }
   ],
   "source": [
    "ps4_df = actual_df[actual_df['platform']=='PS4']\n",
    "ps4_df.sample(10)"
   ]
  },
  {
   "cell_type": "markdown",
   "id": "ad53fca0",
   "metadata": {},
   "source": [
    "Построим диаграмму рассеивания по пользовательским оценка "
   ]
  },
  {
   "cell_type": "code",
   "execution_count": 57,
   "id": "a8fc19df",
   "metadata": {},
   "outputs": [
    {
     "data": {
      "text/plain": [
       "Text(0, 0.5, 'Суммарные продажи, млн')"
      ]
     },
     "execution_count": 57,
     "metadata": {},
     "output_type": "execute_result"
    },
    {
     "data": {
      "image/png": "[encoded data removed]",
      "text/plain": [
       "<Figure size 1080x360 with 1 Axes>"
      ]
     },
     "metadata": {
      "needs_background": "light"
     },
     "output_type": "display_data"
    }
   ],
   "source": [
    "fig, ax = plt.subplots(figsize=(15,5))\n",
    "sns.scatterplot(data=ps4_df, x=\"user_score\", y='total_sales')\n",
    "plt.title('Диаграмма рассеивания по пользовательским оценка')\n",
    "plt.xlabel('Пользовательские оценки')\n",
    "plt.ylabel('Суммарные продажи, млн')"
   ]
  },
  {
   "cell_type": "code",
   "execution_count": 58,
   "id": "8da0eade",
   "metadata": {},
   "outputs": [
    {
     "name": "stdout",
     "output_type": "stream",
     "text": [
      "Коэффициент корреляции продаж по оценкам пользователей составляет -0.03\n"
     ]
    }
   ],
   "source": [
    "print('Коэффициент корреляции продаж по оценкам пользователей составляет {}'.format(\n",
    "    round(ps4_df['user_score'].corr(ps4_df['total_sales']),2)))"
   ]
  },
  {
   "cell_type": "markdown",
   "id": "20eb2bc1",
   "metadata": {},
   "source": [
    "Мы получили коэффицент корреляции равны 0.02, это может говорить об отсутствии корреляции между оценками пользователей и продажами.  \n",
    "Теперь построим диаграмму рассеивания по оценками критиков"
   ]
  },
  {
   "cell_type": "code",
   "execution_count": 59,
   "id": "0b76a62a",
   "metadata": {},
   "outputs": [
    {
     "data": {
      "text/plain": [
       "Text(0, 0.5, 'Суммарные продажи, млн')"
      ]
     },
     "execution_count": 59,
     "metadata": {},
     "output_type": "execute_result"
    },
    {
     "data": {
      "image/png": "[encoded data removed]",
      "text/plain": [
       "<Figure size 1080x360 with 1 Axes>"
      ]
     },
     "metadata": {
      "needs_background": "light"
     },
     "output_type": "display_data"
    }
   ],
   "source": [
    "fig, ax = plt.subplots(figsize=(15, 5))\n",
    "sns.scatterplot(data=ps4_df, x='critic_score', y='total_sales')\n",
    "plt.title('Диаграмма рассеивания по пользовательским оценка')\n",
    "plt.xlabel('Пользовательские оценки')\n",
    "plt.ylabel('Суммарные продажи, млн')"
   ]
  },
  {
   "cell_type": "code",
   "execution_count": 60,
   "id": "053cadb2",
   "metadata": {},
   "outputs": [
    {
     "name": "stdout",
     "output_type": "stream",
     "text": [
      "Коэффициент корреляции продаж по оценкам критиков составляет 0.41\n"
     ]
    }
   ],
   "source": [
    "print('Коэффициент корреляции продаж по оценкам критиков составляет {}'.format(\n",
    "    round(ps4_df['critic_score'].corr(ps4_df['total_sales']),2)))"
   ]
  },
  {
   "cell_type": "markdown",
   "id": "89adea06",
   "metadata": {},
   "source": [
    "Мы получили коэффицент корреляции равный 0.43, это может говорить о положительной корреляции между оценками критиков и продажами. Следовательно чем выше оценки критиков - тем выше продажи."
   ]
  },
  {
   "cell_type": "markdown",
   "id": "5a499325",
   "metadata": {},
   "source": [
    "### Вывод"
   ]
  },
  {
   "cell_type": "markdown",
   "id": "4591e544",
   "metadata": {},
   "source": [
    "Для продаж по пользовтаельским оценка, мы получили коэффициент корреляции равный 0.02, это может говорить об отсутствии корреляции между оценками пользователей и продажами. Следовательно рейтинг пользователей никак не влияет на проадажи.   \n",
    "А вот для продаж по оценка критиков, мы получили коэффицент корреляции равный 0.43, это может говорить о положительной корреляции между оценками критиков и продажами. Следовательно чем выше оценки критиков - тем выше продажи.  "
   ]
  },
  {
   "cell_type": "markdown",
   "id": "184b2d6a",
   "metadata": {},
   "source": [
    "## Соотнесем выводы по корреляции с продажами игр на других платформах"
   ]
  },
  {
   "cell_type": "markdown",
   "id": "5fb0d518",
   "metadata": {},
   "source": [
    "Соотнесем выводы по корреляции с продажами игр на других платформах, для анализа возьмем названия платформ которые выпущены с 2010 года и PC"
   ]
  },
  {
   "cell_type": "code",
   "execution_count": 61,
   "id": "9e5071b7",
   "metadata": {},
   "outputs": [],
   "source": [
    "all_platforms = top_sale_from_actual['platform'].unique()"
   ]
  },
  {
   "cell_type": "code",
   "execution_count": 62,
   "id": "5efdbfe1",
   "metadata": {},
   "outputs": [
    {
     "name": "stdout",
     "output_type": "stream",
     "text": [
      "Название платформы  |продажи и оценки критиков     |продажи и оценки пользователей\n",
      "\n",
      "3DS                 |0.35                          |0.22                     \n",
      "PC                  |0.32                          |-0.05                    \n",
      "PS4                 |0.41                          |-0.03                    \n",
      "PSV                 |0.13                          |0.01                     \n",
      "WiiU                |0.35                          |0.4                      \n",
      "XOne                |0.42                          |-0.07                    \n"
     ]
    }
   ],
   "source": [
    "print('{: <20}|{: <30}|{: <25}'.format(\n",
    "    'Название платформы', \n",
    "    'продажи и оценки критиков', \n",
    "    'продажи и оценки пользователей'))\n",
    "print()\n",
    "for platform in all_platforms:\n",
    "    print('{: <20}|{: <30}|{: <25}'.format(\n",
    "        platform, \n",
    "        round(actual_df[actual_df['platform']==platform]['critic_score'].corr(actual_df['total_sales']),2), \n",
    "        round(actual_df[actual_df['platform']==platform]['user_score'].corr(actual_df['total_sales']),2)))"
   ]
  },
  {
   "cell_type": "markdown",
   "id": "9e8e7dfc",
   "metadata": {},
   "source": [
    "### Вывод"
   ]
  },
  {
   "cell_type": "markdown",
   "id": "33ddf026",
   "metadata": {},
   "source": [
    "Как мы видим, для всех платформ положительную корреляцию по продажам оказывают оценки критиков, следовательно чем выше оценка - тем выше продажи. А вот по корреляция продаж и оценок пользователей для консольных платформ и PC можно сделать вывод, что оценки пользователей никак не влияют на продажи, но если посмотреть на портативные платформы: 3DS и WiiU, то тут мы уже видим положительную корреляцию, чем выше оценки - тем выше продажи.  \n",
    "Следовательно на продажи влияют оценки критиков, а оценки пользователей только на портативные платформы."
   ]
  },
  {
   "cell_type": "markdown",
   "id": "054917ec",
   "metadata": {},
   "source": [
    "## Посмотрим на общее распределение игр по жанрам"
   ]
  },
  {
   "cell_type": "markdown",
   "id": "199a3e51",
   "metadata": {},
   "source": [
    "Теперь посмотрим на распределение игр по жанрам. Для этого создадим сводную таблицу где посчитаем количество выпускаемых игр по жанрам и общую сумму продаж. Далее нарисуем графики для больше наглядности."
   ]
  },
  {
   "cell_type": "code",
   "execution_count": 63,
   "id": "9a05f962",
   "metadata": {},
   "outputs": [
    {
     "data": {
      "text/html": [
       "<div>\n",
       "<style scoped>\n",
       "    .dataframe tbody tr th:only-of-type {\n",
       "        vertical-align: middle;\n",
       "    }\n",
       "\n",
       "    .dataframe tbody tr th {\n",
       "        vertical-align: top;\n",
       "    }\n",
       "\n",
       "    .dataframe thead th {\n",
       "        text-align: right;\n",
       "    }\n",
       "</style>\n",
       "<table border=\"1\" class=\"dataframe\">\n",
       "  <thead>\n",
       "    <tr style=\"text-align: right;\">\n",
       "      <th></th>\n",
       "      <th>genre</th>\n",
       "      <th>genre_count</th>\n",
       "      <th>total_sales</th>\n",
       "      <th>median_sales</th>\n",
       "    </tr>\n",
       "  </thead>\n",
       "  <tbody>\n",
       "    <tr>\n",
       "      <td>0</td>\n",
       "      <td>Action</td>\n",
       "      <td>722</td>\n",
       "      <td>248.13</td>\n",
       "      <td>0.110</td>\n",
       "    </tr>\n",
       "    <tr>\n",
       "      <td>1</td>\n",
       "      <td>Adventure</td>\n",
       "      <td>204</td>\n",
       "      <td>19.64</td>\n",
       "      <td>0.030</td>\n",
       "    </tr>\n",
       "    <tr>\n",
       "      <td>2</td>\n",
       "      <td>Fighting</td>\n",
       "      <td>63</td>\n",
       "      <td>30.67</td>\n",
       "      <td>0.120</td>\n",
       "    </tr>\n",
       "    <tr>\n",
       "      <td>3</td>\n",
       "      <td>Misc</td>\n",
       "      <td>148</td>\n",
       "      <td>44.40</td>\n",
       "      <td>0.110</td>\n",
       "    </tr>\n",
       "    <tr>\n",
       "      <td>4</td>\n",
       "      <td>Platform</td>\n",
       "      <td>77</td>\n",
       "      <td>65.56</td>\n",
       "      <td>0.210</td>\n",
       "    </tr>\n",
       "    <tr>\n",
       "      <td>5</td>\n",
       "      <td>Puzzle</td>\n",
       "      <td>40</td>\n",
       "      <td>7.63</td>\n",
       "      <td>0.065</td>\n",
       "    </tr>\n",
       "    <tr>\n",
       "      <td>6</td>\n",
       "      <td>Racing</td>\n",
       "      <td>92</td>\n",
       "      <td>49.34</td>\n",
       "      <td>0.130</td>\n",
       "    </tr>\n",
       "    <tr>\n",
       "      <td>7</td>\n",
       "      <td>Role-Playing</td>\n",
       "      <td>284</td>\n",
       "      <td>161.46</td>\n",
       "      <td>0.155</td>\n",
       "    </tr>\n",
       "    <tr>\n",
       "      <td>8</td>\n",
       "      <td>Shooter</td>\n",
       "      <td>163</td>\n",
       "      <td>182.93</td>\n",
       "      <td>0.410</td>\n",
       "    </tr>\n",
       "    <tr>\n",
       "      <td>9</td>\n",
       "      <td>Simulation</td>\n",
       "      <td>87</td>\n",
       "      <td>41.26</td>\n",
       "      <td>0.100</td>\n",
       "    </tr>\n",
       "    <tr>\n",
       "      <td>10</td>\n",
       "      <td>Sports</td>\n",
       "      <td>164</td>\n",
       "      <td>101.46</td>\n",
       "      <td>0.195</td>\n",
       "    </tr>\n",
       "    <tr>\n",
       "      <td>11</td>\n",
       "      <td>Strategy</td>\n",
       "      <td>80</td>\n",
       "      <td>13.86</td>\n",
       "      <td>0.060</td>\n",
       "    </tr>\n",
       "  </tbody>\n",
       "</table>\n",
       "</div>"
      ],
      "text/plain": [
       "           genre  genre_count  total_sales  median_sales\n",
       "0         Action          722       248.13         0.110\n",
       "1      Adventure          204        19.64         0.030\n",
       "2       Fighting           63        30.67         0.120\n",
       "3           Misc          148        44.40         0.110\n",
       "4       Platform           77        65.56         0.210\n",
       "5         Puzzle           40         7.63         0.065\n",
       "6         Racing           92        49.34         0.130\n",
       "7   Role-Playing          284       161.46         0.155\n",
       "8        Shooter          163       182.93         0.410\n",
       "9     Simulation           87        41.26         0.100\n",
       "10        Sports          164       101.46         0.195\n",
       "11      Strategy           80        13.86         0.060"
      ]
     },
     "execution_count": 63,
     "metadata": {},
     "output_type": "execute_result"
    }
   ],
   "source": [
    "genre_df = actual_df.pivot_table(index='genre', values='total_sales', aggfunc=['count','sum', 'median']).reset_index()\n",
    "genre_df.columns = ['genre', 'genre_count', 'total_sales', 'median_sales']\n",
    "genre_df"
   ]
  },
  {
   "cell_type": "code",
   "execution_count": 64,
   "id": "fd1fc136",
   "metadata": {},
   "outputs": [
    {
     "data": {
      "text/plain": [
       "Text(0, 0.5, 'Количество продаж, шт')"
      ]
     },
     "execution_count": 64,
     "metadata": {},
     "output_type": "execute_result"
    },
    {
     "data": {
      "image/png": "[encoded data removed]",
      "text/plain": [
       "<Figure size 1080x360 with 1 Axes>"
      ]
     },
     "metadata": {
      "needs_background": "light"
     },
     "output_type": "display_data"
    }
   ],
   "source": [
    "fig, ax = plt.subplots(figsize=(15,5))\n",
    "sns.barplot(data=genre_df.sort_values(by='genre_count', ascending=False), \n",
    "            x='genre', y='genre_count')\n",
    "\n",
    "plt.title('Количество продаж по жанрам')\n",
    "plt.xlabel('Жанры')\n",
    "plt.ylabel('Количество продаж, шт')"
   ]
  },
  {
   "cell_type": "code",
   "execution_count": 65,
   "id": "85ba3d4b",
   "metadata": {},
   "outputs": [
    {
     "data": {
      "text/plain": [
       "Text(0, 0.5, 'Сумма продаж, млн')"
      ]
     },
     "execution_count": 65,
     "metadata": {},
     "output_type": "execute_result"
    },
    {
     "data": {
      "image/png": "[encoded data removed]",
      "text/plain": [
       "<Figure size 1080x360 with 1 Axes>"
      ]
     },
     "metadata": {
      "needs_background": "light"
     },
     "output_type": "display_data"
    }
   ],
   "source": [
    "fig, ax = plt.subplots(figsize=(15,5))\n",
    "sns.barplot(data=genre_df.sort_values(by='total_sales', ascending=False), \n",
    "            x='genre', y='total_sales')\n",
    "\n",
    "plt.title('Сумма продаж по жанрам')\n",
    "plt.xlabel('Жанры')\n",
    "plt.ylabel('Сумма продаж, млн')"
   ]
  },
  {
   "cell_type": "code",
   "execution_count": 66,
   "id": "448123c0",
   "metadata": {},
   "outputs": [
    {
     "data": {
      "text/plain": [
       "Text(0, 0.5, 'Сумма продаж, млн')"
      ]
     },
     "execution_count": 66,
     "metadata": {},
     "output_type": "execute_result"
    },
    {
     "data": {
      "image/png": "[encoded data removed]",
      "text/plain": [
       "<Figure size 1080x360 with 1 Axes>"
      ]
     },
     "metadata": {
      "needs_background": "light"
     },
     "output_type": "display_data"
    }
   ],
   "source": [
    "fig, ax = plt.subplots(figsize=(15,5))\n",
    "sns.barplot(data=genre_df.sort_values(by='median_sales', ascending=False), \n",
    "            x='genre', y='median_sales')\n",
    "\n",
    "plt.title('Медианная сумма продаж по жанрам')\n",
    "plt.xlabel('Жанры')\n",
    "plt.ylabel('Сумма продаж, млн')"
   ]
  },
  {
   "cell_type": "markdown",
   "id": "b9541be2",
   "metadata": {},
   "source": [
    "### Вывод"
   ]
  },
  {
   "cell_type": "markdown",
   "id": "dc6668d5",
   "metadata": {},
   "source": [
    "Как мы видим, жанр **Action** является лидером по количеству выпускаемых игр и по общей сумме продаж, а вот далее мы видим уже отличия. Жанр **Role-Playing** занимает 2 место по количеству выпускаемых игр, но 3 место по общей сумме продаж, в то время, как жанр **Shooter** занимает 6 место по количеству выпускаемых игр, но 2 место по сумме продаж.  \n",
    "Следовательно, можно сделать вывод, что не всегда количество выпускаемых игр влияет на общую сумму продаж. \n",
    "Самым популярным жанром является **Action**, самым не популярным **Puzzle**, но так же хочется отметить жанр **Shooter**, количество выпускаемых игр по сравнению с жанром **Action** - мало, а вот сумма продаж наоборот близка к сумме продаж **Action**.  \n",
    "\n",
    "Но так же, мы можем сказать, что данный вывод не корректен. Если посмотреть на медианные продажи, то мы сразу видим, что жанр **Shooter** занимает лидирующие позиции с медианными продажами более 0.4 млн, а вот у жанра **Action** медианные продажи составляют лишь около 0,12 млн. Скорее всего, в жанре **Action** есть игры которые продаются сильно дороже остальных представителей этого жанра.   \n",
    "Стабильно высокие медианные продажи у жанра **Shooter** с продажами более 0.4 млн, **Platform** с продажами более 0.2 млн и **Sports** с продажами около 0.2 млн."
   ]
  },
  {
   "cell_type": "markdown",
   "id": "af8e10fc",
   "metadata": {},
   "source": [
    "## Вывод"
   ]
  },
  {
   "cell_type": "markdown",
   "id": "924d086b",
   "metadata": {},
   "source": [
    "Во время анализа мы сделали следующее:\n",
    "1) Посмотрели на количество выпускаемых игр:\n",
    "* Количество выпущенных игр начало расти с 1994 года, скорее всего это связано с развитием технологий\n",
    "* Самый пик выпускаемых игр приходится на 2008 и 2009 год\n",
    "* После 2011 года пошел резкий спад по количеству выпускаемых игр, скорее всего это связано с изменениями в игровой индустрии и разработка более качественных игр занимает больше времени\n",
    "\n",
    "2) Посмотрели как менялись продажи по платформам:  \n",
    "Из новых платформ на графике получили только PS4, на момент 2016 года у нее есть продажи, остальные платформы либо уже прекратили свое существование, либо близки к тому чтобы прекратить свое существование.  \n",
    "Так же на графике видим PC - это старичок, у которого начались продажи с 1985 года и идут до сих пор. \n",
    "Далее мы определили среднее время жизни платформы и оно составляет 8,5 лет.\n",
    "Посмотрели, что платформы выходили чаще до начала 2000х, после стали намного реже. С 2006 до 2010 года был большой простой по выпуску платформ, а так как у нас средний жизненный цикл платформ составляет почти 9 лет, то мы выбрали актуальный период начиная с 2010 года.\n",
    "\n",
    "3) Для просмотра лидирующих платформ за выбранный период(с 2010 года), мы создали сводную таблицу по количеству продаж по выпущенным платформам в этот период, но так же добавили в этот список PC и нарисовали график. После анализа графика выделили две потенциально прибыльных платформы, это PS4 и XOne, по остальным платформам идет спад по продажам.\n",
    "\n",
    "4) Посмотрели как влияют на продажи пользовательские оценки и оценки критиков.  \n",
    "Для всех платформ положительную корреляцию по продажам оказывают оценки критиков, следовательно чем выше оценка - тем выше продажи. А вот по корреляция продаж и оценок пользователей для консольных платформ и PC можно сделать вывод, что оценки пользователей никак не влияют на продажи, но если посмотреть на портативные платформы: 3DS и WiiU, то тут мы уже видим положительную корреляцию, чем выше оценки - тем выше продажи.  \n",
    "Следовательно на продажи влияют оценки критиков, а оценки пользователей только на портативные платформы.\n",
    "\n",
    "5) Жанр **Action** является лидером по количеству выпускаемых игр и по общей сумме продаж, а вот далее идут уже отличия. Жанр **Role-Playing** занимает 2 место по количеству выпускаемых игр, но 3 место по общей сумме продаж, в то время, как жанр **Shooter** занимает 6 место по количеству выпускаемых игр, но 2 место по сумме продаж.  \n",
    "Следовательно, можно сделать вывод, что не всегда количество выпускаемых игр влияет на общую сумму продаж. \n",
    "Самым популярным жанром является **Action**, самым не популярным **Puzzle**, но так же хочется отметить жанр **Shooter**, количество выпускаемых игр по сравнению с жанром **Action** - мало, а вот сумма продаж наоборот близка к сумме продаж **Action**."
   ]
  },
  {
   "cell_type": "markdown",
   "id": "7adb2ea3",
   "metadata": {},
   "source": [
    "# Составим портрет пользователя каждого региона"
   ]
  },
  {
   "cell_type": "markdown",
   "id": "f054c78e",
   "metadata": {},
   "source": [
    "## Определим самые популярные платформы для кажого региона"
   ]
  },
  {
   "cell_type": "markdown",
   "id": "a274d6b0",
   "metadata": {},
   "source": [
    "Создадим сводную таблицу по платформам и по суммам продаж в каждом регионе"
   ]
  },
  {
   "cell_type": "code",
   "execution_count": 67,
   "id": "19eafac4",
   "metadata": {},
   "outputs": [
    {
     "data": {
      "text/html": [
       "<div>\n",
       "<style scoped>\n",
       "    .dataframe tbody tr th:only-of-type {\n",
       "        vertical-align: middle;\n",
       "    }\n",
       "\n",
       "    .dataframe tbody tr th {\n",
       "        vertical-align: top;\n",
       "    }\n",
       "\n",
       "    .dataframe thead th {\n",
       "        text-align: right;\n",
       "    }\n",
       "</style>\n",
       "<table border=\"1\" class=\"dataframe\">\n",
       "  <thead>\n",
       "    <tr style=\"text-align: right;\">\n",
       "      <th></th>\n",
       "      <th>platform</th>\n",
       "      <th>eu_sales</th>\n",
       "      <th>jp_sales</th>\n",
       "      <th>na_sales</th>\n",
       "    </tr>\n",
       "  </thead>\n",
       "  <tbody>\n",
       "    <tr>\n",
       "      <td>0</td>\n",
       "      <td>3DS</td>\n",
       "      <td>61.46</td>\n",
       "      <td>100.62</td>\n",
       "      <td>82.83</td>\n",
       "    </tr>\n",
       "    <tr>\n",
       "      <td>1</td>\n",
       "      <td>PC</td>\n",
       "      <td>57.38</td>\n",
       "      <td>0.00</td>\n",
       "      <td>30.08</td>\n",
       "    </tr>\n",
       "    <tr>\n",
       "      <td>2</td>\n",
       "      <td>PS4</td>\n",
       "      <td>141.09</td>\n",
       "      <td>15.96</td>\n",
       "      <td>108.74</td>\n",
       "    </tr>\n",
       "    <tr>\n",
       "      <td>3</td>\n",
       "      <td>PSV</td>\n",
       "      <td>13.07</td>\n",
       "      <td>21.84</td>\n",
       "      <td>12.47</td>\n",
       "    </tr>\n",
       "    <tr>\n",
       "      <td>4</td>\n",
       "      <td>WiiU</td>\n",
       "      <td>25.13</td>\n",
       "      <td>13.01</td>\n",
       "      <td>38.10</td>\n",
       "    </tr>\n",
       "    <tr>\n",
       "      <td>5</td>\n",
       "      <td>XOne</td>\n",
       "      <td>51.59</td>\n",
       "      <td>0.34</td>\n",
       "      <td>93.12</td>\n",
       "    </tr>\n",
       "  </tbody>\n",
       "</table>\n",
       "</div>"
      ],
      "text/plain": [
       "  platform  eu_sales  jp_sales  na_sales\n",
       "0      3DS     61.46    100.62     82.83\n",
       "1       PC     57.38      0.00     30.08\n",
       "2      PS4    141.09     15.96    108.74\n",
       "3      PSV     13.07     21.84     12.47\n",
       "4     WiiU     25.13     13.01     38.10\n",
       "5     XOne     51.59      0.34     93.12"
      ]
     },
     "execution_count": 67,
     "metadata": {},
     "output_type": "execute_result"
    }
   ],
   "source": [
    "top_platform_regions = actual_df.pivot_table(index='platform', \n",
    "                                             values=['na_sales', 'eu_sales', 'jp_sales'], \n",
    "                                             aggfunc='sum').reset_index()\n",
    "top_platform_regions"
   ]
  },
  {
   "cell_type": "markdown",
   "id": "6e4dba5a",
   "metadata": {},
   "source": [
    "Теперь нарисуем график для визуализации данных"
   ]
  },
  {
   "cell_type": "code",
   "execution_count": 68,
   "id": "eeeacdf2",
   "metadata": {},
   "outputs": [
    {
     "data": {
      "image/png": "[encoded data removed]",
      "text/plain": [
       "<Figure size 1080x360 with 1 Axes>"
      ]
     },
     "metadata": {
      "needs_background": "light"
     },
     "output_type": "display_data"
    },
    {
     "data": {
      "image/png": "[encoded data removed]",
      "text/plain": [
       "<Figure size 1080x360 with 1 Axes>"
      ]
     },
     "metadata": {
      "needs_background": "light"
     },
     "output_type": "display_data"
    },
    {
     "data": {
      "image/png": "[encoded data removed]",
      "text/plain": [
       "<Figure size 1080x360 with 1 Axes>"
      ]
     },
     "metadata": {
      "needs_background": "light"
     },
     "output_type": "display_data"
    }
   ],
   "source": [
    "regions = ['eu_sales', 'jp_sales', 'na_sales']\n",
    "for region in range(len(regions)):\n",
    "    top_platform_regions.sort_values(by=regions[region], \n",
    "                                     ascending=False).plot(kind='bar', \n",
    "                                                           x='platform', \n",
    "                                                           y=regions[region],\n",
    "                                                           figsize=(15,5)\n",
    "                                                          )\n",
    "    plt.title('Продажи в регионе '+regions[region])\n",
    "    plt.xlabel('Платформы')\n",
    "    plt.ylabel('Сумма продаж, млн')"
   ]
  },
  {
   "cell_type": "markdown",
   "id": "5f78be91",
   "metadata": {},
   "source": [
    "### Вывод"
   ]
  },
  {
   "cell_type": "markdown",
   "id": "7cd72f26",
   "metadata": {},
   "source": [
    "1) В регионе **eu_sales** (в Европе), самой популярной платформой является **PS4**, ее продажи составляют более 110 млн, их конкурент **XOne** занимает лишь 4 место, уступая **3DS** и **PC**, продажи которых около 50 млн.  \n",
    "2) В регионе **jp_sales** (в Японии), самыми популярными являются портативные платформы, но абсолютный лидер среди них **3DS**, продажи данной платформы составляют около 90 млн, когда остальные ели дотягивают до 10-20 млн.  \n",
    "3) В регионе **na_sales** (в Северной Америке), лидирующую позицию занимает **PS4**, их продажи почти 90 млн, далее идет **XOne** и **3DS**, с продажами около 80 млн. "
   ]
  },
  {
   "cell_type": "markdown",
   "id": "b6126d33",
   "metadata": {},
   "source": [
    "## Определим самые популярные жанры для кажого региона"
   ]
  },
  {
   "cell_type": "markdown",
   "id": "226946a5",
   "metadata": {},
   "source": [
    "Создадим сводную таблицу по жанрам и по суммам продажам в каждом регионе"
   ]
  },
  {
   "cell_type": "code",
   "execution_count": 69,
   "id": "6b955d24",
   "metadata": {},
   "outputs": [
    {
     "data": {
      "text/html": [
       "<div>\n",
       "<style scoped>\n",
       "    .dataframe tbody tr th:only-of-type {\n",
       "        vertical-align: middle;\n",
       "    }\n",
       "\n",
       "    .dataframe tbody tr th {\n",
       "        vertical-align: top;\n",
       "    }\n",
       "\n",
       "    .dataframe thead th {\n",
       "        text-align: right;\n",
       "    }\n",
       "</style>\n",
       "<table border=\"1\" class=\"dataframe\">\n",
       "  <thead>\n",
       "    <tr style=\"text-align: right;\">\n",
       "      <th></th>\n",
       "      <th>genre</th>\n",
       "      <th>eu_sales</th>\n",
       "      <th>jp_sales</th>\n",
       "      <th>na_sales</th>\n",
       "    </tr>\n",
       "  </thead>\n",
       "  <tbody>\n",
       "    <tr>\n",
       "      <td>0</td>\n",
       "      <td>Action</td>\n",
       "      <td>91.02</td>\n",
       "      <td>36.54</td>\n",
       "      <td>93.72</td>\n",
       "    </tr>\n",
       "    <tr>\n",
       "      <td>1</td>\n",
       "      <td>Adventure</td>\n",
       "      <td>7.01</td>\n",
       "      <td>5.57</td>\n",
       "      <td>5.17</td>\n",
       "    </tr>\n",
       "    <tr>\n",
       "      <td>2</td>\n",
       "      <td>Fighting</td>\n",
       "      <td>7.87</td>\n",
       "      <td>5.67</td>\n",
       "      <td>14.05</td>\n",
       "    </tr>\n",
       "    <tr>\n",
       "      <td>3</td>\n",
       "      <td>Misc</td>\n",
       "      <td>12.76</td>\n",
       "      <td>10.70</td>\n",
       "      <td>17.24</td>\n",
       "    </tr>\n",
       "    <tr>\n",
       "      <td>4</td>\n",
       "      <td>Platform</td>\n",
       "      <td>22.30</td>\n",
       "      <td>10.71</td>\n",
       "      <td>26.97</td>\n",
       "    </tr>\n",
       "    <tr>\n",
       "      <td>5</td>\n",
       "      <td>Puzzle</td>\n",
       "      <td>3.00</td>\n",
       "      <td>2.07</td>\n",
       "      <td>2.03</td>\n",
       "    </tr>\n",
       "    <tr>\n",
       "      <td>6</td>\n",
       "      <td>Racing</td>\n",
       "      <td>22.04</td>\n",
       "      <td>4.60</td>\n",
       "      <td>17.72</td>\n",
       "    </tr>\n",
       "    <tr>\n",
       "      <td>7</td>\n",
       "      <td>Role-Playing</td>\n",
       "      <td>42.91</td>\n",
       "      <td>54.19</td>\n",
       "      <td>52.00</td>\n",
       "    </tr>\n",
       "    <tr>\n",
       "      <td>8</td>\n",
       "      <td>Shooter</td>\n",
       "      <td>72.92</td>\n",
       "      <td>4.95</td>\n",
       "      <td>81.83</td>\n",
       "    </tr>\n",
       "    <tr>\n",
       "      <td>9</td>\n",
       "      <td>Simulation</td>\n",
       "      <td>17.50</td>\n",
       "      <td>10.64</td>\n",
       "      <td>10.43</td>\n",
       "    </tr>\n",
       "    <tr>\n",
       "      <td>10</td>\n",
       "      <td>Sports</td>\n",
       "      <td>43.66</td>\n",
       "      <td>4.54</td>\n",
       "      <td>40.04</td>\n",
       "    </tr>\n",
       "    <tr>\n",
       "      <td>11</td>\n",
       "      <td>Strategy</td>\n",
       "      <td>6.73</td>\n",
       "      <td>1.59</td>\n",
       "      <td>4.14</td>\n",
       "    </tr>\n",
       "  </tbody>\n",
       "</table>\n",
       "</div>"
      ],
      "text/plain": [
       "           genre  eu_sales  jp_sales  na_sales\n",
       "0         Action     91.02     36.54     93.72\n",
       "1      Adventure      7.01      5.57      5.17\n",
       "2       Fighting      7.87      5.67     14.05\n",
       "3           Misc     12.76     10.70     17.24\n",
       "4       Platform     22.30     10.71     26.97\n",
       "5         Puzzle      3.00      2.07      2.03\n",
       "6         Racing     22.04      4.60     17.72\n",
       "7   Role-Playing     42.91     54.19     52.00\n",
       "8        Shooter     72.92      4.95     81.83\n",
       "9     Simulation     17.50     10.64     10.43\n",
       "10        Sports     43.66      4.54     40.04\n",
       "11      Strategy      6.73      1.59      4.14"
      ]
     },
     "execution_count": 69,
     "metadata": {},
     "output_type": "execute_result"
    }
   ],
   "source": [
    "top_genre_regions = actual_df.pivot_table(index='genre', \n",
    "                                             values=['na_sales', 'eu_sales', 'jp_sales'], \n",
    "                                             aggfunc='sum').reset_index()\n",
    "top_genre_regions"
   ]
  },
  {
   "cell_type": "markdown",
   "id": "5a01323b",
   "metadata": {},
   "source": [
    "Теперь нарисуем график для визуализации данных"
   ]
  },
  {
   "cell_type": "code",
   "execution_count": 70,
   "id": "53ba4c97",
   "metadata": {},
   "outputs": [
    {
     "data": {
      "image/png": "[encoded data removed]",
      "text/plain": [
       "<Figure size 1080x360 with 1 Axes>"
      ]
     },
     "metadata": {
      "needs_background": "light"
     },
     "output_type": "display_data"
    },
    {
     "data": {
      "image/png": "[encoded data removed]",
      "text/plain": [
       "<Figure size 1080x360 with 1 Axes>"
      ]
     },
     "metadata": {
      "needs_background": "light"
     },
     "output_type": "display_data"
    },
    {
     "data": {
      "image/png": "[encoded data removed]",
      "text/plain": [
       "<Figure size 1080x360 with 1 Axes>"
      ]
     },
     "metadata": {
      "needs_background": "light"
     },
     "output_type": "display_data"
    }
   ],
   "source": [
    "regions = ['eu_sales', 'jp_sales', 'na_sales']\n",
    "for region in range(len(regions)):\n",
    "    top_genre_regions.sort_values(by=regions[region], \n",
    "                                     ascending=False).plot(kind='bar', \n",
    "                                                           x='genre', \n",
    "                                                           y=regions[region],\n",
    "                                                           figsize=(15,5)\n",
    "                                                          )\n",
    "    plt.title('Продажи в регионе '+regions[region])\n",
    "    plt.xlabel('Жанры')\n",
    "    plt.ylabel('Сумма продаж, млн')"
   ]
  },
  {
   "cell_type": "markdown",
   "id": "339592e7",
   "metadata": {},
   "source": [
    "### Вывод"
   ]
  },
  {
   "cell_type": "markdown",
   "id": "4521eeea",
   "metadata": {},
   "source": [
    "1) В регионе **eu_sales** (в Европе), самым популярным жанром является **Action**, его продажи составляют 80 млн. Далее идет **Shooter** с продажами 55 млн и **Role-Playing** с продажами около 40 млн.\n",
    "2) В регионе **jp_sales** (в Японии), самым популярным жанром является **Role-Playing**, продажи составляют почти 50 млн. На 2 месте **Action** с продажами около 30 млн.\n",
    "3) В регионе **na_sales** (в Северной Америке), самым популярным жанром является **Action**, его продажи более 80 млн. Далее идет **Shooter** с продажами более 60 млн и **Role-Playing** с продажами около 45 млн.  \n",
    "В целом предпочтения в Европе и Северной Америке совпадают, в Японии предпочтения отдают жанру **Role-Playing**."
   ]
  },
  {
   "cell_type": "markdown",
   "id": "1c8b477b",
   "metadata": {},
   "source": [
    "## Посмотрим, влияет ли рейтинг ESRB на продажи в регионах"
   ]
  },
  {
   "cell_type": "markdown",
   "id": "df9e93f6",
   "metadata": {},
   "source": [
    "Создадим сводную таблицу по рейтингу и по суммам продажам в каждом регионе.  \n",
    "\n",
    "Аббривиатуры рейтинга расшифровываются следующим образом:\n",
    "* «E» («Everyone») — «Для всех»  \n",
    "* «M» («Mature») — «Для взрослых»  \n",
    "* «T» («Teen») — «Подросткам»\n",
    "* «E10+» («Everyone 10 and older») — «Для всех от 10 лет и старше»\n",
    "* «K-A» («Kids to Adults») — «Для детей и взрослых»\n",
    "* «AO» («Adults Only 18+») — «Только для взрослых»\n",
    "* «EC» («Early childhood») — «Для детей младшего возраста»\n",
    "* «RP» («Rating Pending») — «Рейтинг ожидается»"
   ]
  },
  {
   "cell_type": "code",
   "execution_count": 71,
   "id": "7d7456bc",
   "metadata": {},
   "outputs": [
    {
     "data": {
      "text/html": [
       "<div>\n",
       "<style scoped>\n",
       "    .dataframe tbody tr th:only-of-type {\n",
       "        vertical-align: middle;\n",
       "    }\n",
       "\n",
       "    .dataframe tbody tr th {\n",
       "        vertical-align: top;\n",
       "    }\n",
       "\n",
       "    .dataframe thead th {\n",
       "        text-align: right;\n",
       "    }\n",
       "</style>\n",
       "<table border=\"1\" class=\"dataframe\">\n",
       "  <thead>\n",
       "    <tr style=\"text-align: right;\">\n",
       "      <th></th>\n",
       "      <th>rating</th>\n",
       "      <th>eu_sales</th>\n",
       "      <th>jp_sales</th>\n",
       "      <th>na_sales</th>\n",
       "    </tr>\n",
       "  </thead>\n",
       "  <tbody>\n",
       "    <tr>\n",
       "      <td>0</td>\n",
       "      <td>E</td>\n",
       "      <td>81.66</td>\n",
       "      <td>29.76</td>\n",
       "      <td>81.14</td>\n",
       "    </tr>\n",
       "    <tr>\n",
       "      <td>1</td>\n",
       "      <td>E10+</td>\n",
       "      <td>34.06</td>\n",
       "      <td>8.32</td>\n",
       "      <td>45.12</td>\n",
       "    </tr>\n",
       "    <tr>\n",
       "      <td>2</td>\n",
       "      <td>M</td>\n",
       "      <td>113.65</td>\n",
       "      <td>9.28</td>\n",
       "      <td>112.31</td>\n",
       "    </tr>\n",
       "    <tr>\n",
       "      <td>3</td>\n",
       "      <td>RP</td>\n",
       "      <td>0.03</td>\n",
       "      <td>0.00</td>\n",
       "      <td>0.00</td>\n",
       "    </tr>\n",
       "    <tr>\n",
       "      <td>4</td>\n",
       "      <td>T</td>\n",
       "      <td>44.67</td>\n",
       "      <td>16.50</td>\n",
       "      <td>47.91</td>\n",
       "    </tr>\n",
       "    <tr>\n",
       "      <td>5</td>\n",
       "      <td>unknown</td>\n",
       "      <td>75.65</td>\n",
       "      <td>87.91</td>\n",
       "      <td>78.86</td>\n",
       "    </tr>\n",
       "  </tbody>\n",
       "</table>\n",
       "</div>"
      ],
      "text/plain": [
       "    rating  eu_sales  jp_sales  na_sales\n",
       "0        E     81.66     29.76     81.14\n",
       "1     E10+     34.06      8.32     45.12\n",
       "2        M    113.65      9.28    112.31\n",
       "3       RP      0.03      0.00      0.00\n",
       "4        T     44.67     16.50     47.91\n",
       "5  unknown     75.65     87.91     78.86"
      ]
     },
     "execution_count": 71,
     "metadata": {},
     "output_type": "execute_result"
    }
   ],
   "source": [
    "top_rating_regions = actual_df.pivot_table(index='rating', \n",
    "                                             values=['na_sales', 'eu_sales', 'jp_sales'], \n",
    "                                             aggfunc='sum').reset_index()\n",
    "top_rating_regions"
   ]
  },
  {
   "cell_type": "markdown",
   "id": "7ec3b90e",
   "metadata": {},
   "source": [
    "Теперь нарисуем график для визуализации данных"
   ]
  },
  {
   "cell_type": "code",
   "execution_count": 72,
   "id": "4de3b74e",
   "metadata": {},
   "outputs": [
    {
     "data": {
      "image/png": "[encoded data removed]",
      "text/plain": [
       "<Figure size 1080x360 with 1 Axes>"
      ]
     },
     "metadata": {
      "needs_background": "light"
     },
     "output_type": "display_data"
    },
    {
     "data": {
      "image/png": "[encoded data removed]",
      "text/plain": [
       "<Figure size 1080x360 with 1 Axes>"
      ]
     },
     "metadata": {
      "needs_background": "light"
     },
     "output_type": "display_data"
    },
    {
     "data": {
      "image/png": "[encoded data removed]",
      "text/plain": [
       "<Figure size 1080x360 with 1 Axes>"
      ]
     },
     "metadata": {
      "needs_background": "light"
     },
     "output_type": "display_data"
    }
   ],
   "source": [
    "regions = ['eu_sales', 'jp_sales', 'na_sales']\n",
    "for region in range(len(regions)):\n",
    "    top_rating_regions.sort_values(by=regions[region], \n",
    "                                     ascending=False).plot(kind='bar', \n",
    "                                                           x='rating', \n",
    "                                                           y=regions[region],\n",
    "                                                           figsize=(15,5)\n",
    "                                                          )\n",
    "    plt.title('Продажи в регионе '+regions[region])\n",
    "    plt.xlabel('Название рейтингов')\n",
    "    plt.ylabel('Сумма продаж, млн')"
   ]
  },
  {
   "cell_type": "markdown",
   "id": "690b2db9",
   "metadata": {},
   "source": [
    "### Вывод"
   ]
  },
  {
   "cell_type": "markdown",
   "id": "486a78d9",
   "metadata": {},
   "source": [
    "1) В регионе **eu_sales** (в Европе), самым популярным рейтингом является **M** («Mature») — «Для взрослых», его продажи составляют почти 100 млн. Далее идет **E** («Everyone») — «Для всех» и **unknown** - неизвестный рейтинг, с продажами 65 млн.  \n",
    "2) В регионе **jp_sales** (в Японии), самым популярным рейтингом является **unknown** - неизвестный рейтинг, его продажи составляют более 70 млн. На 2 месте **E** («Everyone») — «Для всех» с продажами около 30 млн.  \n",
    "3) В регионе **na_sales** (в Северной Америке), самым популярным рейтингом является **M** («Mature») — «Для взрослых», его продажи составляют почти 100 млн. Далее идет **E** («Everyone») — «Для всех» и **unknown** - неизвестный рейтинг, с продажами около 70 млн. \n",
    "\n",
    "В целом предпочтения по рейтингам в Европе и Северной Америке совпадают, в Японии предпочтения отдают рейтингу **unknown**.\n",
    "\n",
    "Скорее всего пропущенные значения в рейтинг, которое мы назвали **unknown** относится к жанру игр **Role-Playing** так как он занимает в Японии тоже первое место и совпадает с местами по остальными регионами."
   ]
  },
  {
   "cell_type": "markdown",
   "id": "6b20621f",
   "metadata": {},
   "source": [
    "## Вывод"
   ]
  },
  {
   "cell_type": "markdown",
   "id": "369e2d35",
   "metadata": {},
   "source": [
    "1) В регионе **eu_sales** (в Европе), самой популярной платформой является **PS4**, ее продажи составляют более 110 млн, их конкурент **XOne** занимает лишь 4 место, уступая **3DS** и **PC**, продажи которых около 50 млн.  \n",
    "Самым популярным жанром является **Action**, его продажи составляют 80 млн. Далее идет **Shooter** с продажами 55 млн и **Role-Playing** с продажами около 40 млн.  \n",
    "Самым популярным рейтингом является **M** («Mature») — «Для взрослых», его продажи составляют почти 100 млн. Далее идет **E** («Everyone») — «Для всех» и **unknown** - неизвестный рейтинг, с продажами 65 млн.  \n",
    "\n",
    "2) В регионе **jp_sales** (в Японии), самыми популярными являются портативные платформы, но абсолютный лидер среди них **3DS**, продажи данной платформы составляют около 90 млн, когда остальные ели дотягивают до 10-20 млн.  \n",
    "Самым популярным жанром является **Role-Playing**, продажи составляют почти 50 млн. На 2 месте **Action** с продажами около 30 млн.    \n",
    "Самым популярным рейтингом является **unknown** - неизвестный рейтинг, его продажи составляют более 70 млн. На 2 месте **E** («Everyone») — «Для всех» с продажами около 30 млн. \n",
    "\n",
    "3) В регионе **na_sales** (в Северной Америке), лидирующую позицию занимает **PS4**, их продажи почти 90 млн, далее идет **XOne** и **3DS**, с продажами около 80 млн.  \n",
    "Самым популярным жанром является **Action**, его продажи более 80 млн. Далее идет **Shooter** с продажами более 60 млн и **Role-Playing** с продажами около 45 млн.  \n",
    "Самым популярным рейтингом является **M** («Mature») — «Для взрослых», его продажи составляют почти 100 млн. Далее идет **E** («Everyone») — «Для всех» и **unknown** - неизвестный рейтинг, с продажами около 70 млн. \n",
    "\n",
    "В целом, предпочтения в Европе и Северной Америке совпадают, по платформам у них один и тот же фаворит - **PS4**, выбирают одни и те же жанры **Action** и **Shooter**, так же выбирают игры с одинаковым рейтингом **E** («Everyone») — «Для всех» и **unknown** - неизвестный рейтинг.  \n",
    "В Японии предпочтения отдают портативной платформе **3DS**, жанру **Role-Playing** и рейтингу **unknown** - неизвестный рейтинг. Скорее всего пропущенные значения в рейтинг, которое мы назвали **unknown** относится к жанру игр **Role-Playing** так как он занимает в Японии тоже первое место и совпадает с местами по остальными регионами."
   ]
  },
  {
   "cell_type": "markdown",
   "id": "6d0b22c3",
   "metadata": {},
   "source": [
    "# Проверим гипотезы"
   ]
  },
  {
   "cell_type": "markdown",
   "id": "a06bd237",
   "metadata": {},
   "source": [
    "## Гипотеза: средние пользовательские рейтинги платформ Xbox One и PC одинаковые"
   ]
  },
  {
   "cell_type": "markdown",
   "id": "76f8a061",
   "metadata": {},
   "source": [
    "Сформируем гипотезу следующим образом:  \n",
    "$H_{0}$ = средние пользовательские рейтинги платформ Xbox One и PC одинаковые;  \n",
    "$H_{1}$ = средние пользовательские рейтинги платформ Xbox One и PC различаются.\n",
    "\n",
    "Для оценки будет использовать Т-тест с двусторонним критерием.  \n",
    "Уровень значимости зададим равный 0.05"
   ]
  },
  {
   "cell_type": "code",
   "execution_count": 73,
   "id": "cb2b7c2e",
   "metadata": {},
   "outputs": [
    {
     "name": "stdout",
     "output_type": "stream",
     "text": [
      "p-значение:  0.6981816747159599\n",
      "\n",
      "Не получилось отвергнуть нулевую гипотезу\n"
     ]
    }
   ],
   "source": [
    "x_one = actual_df[actual_df['platform']=='XOne']['user_score']\n",
    "pc = actual_df[actual_df['platform']=='PC']['user_score']\n",
    "\n",
    "alpha = 0.05\n",
    "\n",
    "results = st.ttest_ind(\n",
    "    x_one, \n",
    "    pc,\n",
    "    nan_policy='omit'\n",
    ")\n",
    "\n",
    "print('p-значение: ', results.pvalue)\n",
    "print()\n",
    "\n",
    "if results.pvalue < alpha:\n",
    "    print('Отвергаем нулевую гипотезу')\n",
    "else:\n",
    "    print('Не получилось отвергнуть нулевую гипотезу')"
   ]
  },
  {
   "cell_type": "code",
   "execution_count": 74,
   "id": "ea46f1d1",
   "metadata": {},
   "outputs": [
    {
     "name": "stdout",
     "output_type": "stream",
     "text": [
      "Среднее значение пользовательских оценок для игр по платформе XOne:  6.52\n",
      "Среднее значение пользовательских оценок для игр по платформе PC:  6.47\n"
     ]
    }
   ],
   "source": [
    "print('Среднее значение пользовательских оценок для игр по платформе XOne: ', round(x_one.mean(),2))\n",
    "print('Среднее значение пользовательских оценок для игр по платформе PC: ', round(pc.mean(),2))"
   ]
  },
  {
   "cell_type": "markdown",
   "id": "ff9f06cd",
   "metadata": {},
   "source": [
    "### Вывод"
   ]
  },
  {
   "cell_type": "markdown",
   "id": "7d6dd834",
   "metadata": {},
   "source": [
    "Среднее значение пользовательских оценок для игр по платформам за выбранный период(с 2010 года) почти равны. Для **XOne** получили средний рейтинг 6.48, для **PC** получили 6.49, поэтому не получилось отвергнуть нулевую гипотезу"
   ]
  },
  {
   "cell_type": "markdown",
   "id": "872d3cf6",
   "metadata": {},
   "source": [
    "## Гипотеза: средние пользовательские рейтинги жанров Action и Sports разные"
   ]
  },
  {
   "cell_type": "markdown",
   "id": "4a2cf921",
   "metadata": {},
   "source": [
    "Сформируем гипотезу следующим образом:  \n",
    "$H_{0}$ = средние пользовательские рейтинги жанров Action и Sports одинаковые;  \n",
    "$H_{1}$ = средние пользовательские рейтинги жанров Action и Sports различаются.\n",
    "\n",
    "Для оценки будет использовать Т-тест с двусторонним критерием.  \n",
    "Уровень значимости зададим равный 0.05"
   ]
  },
  {
   "cell_type": "code",
   "execution_count": 75,
   "id": "803e0c0a",
   "metadata": {},
   "outputs": [
    {
     "name": "stdout",
     "output_type": "stream",
     "text": [
      "p-значение:  2.66267469440518e-13\n",
      "\n",
      "Отвергаем нулевую гипотезу\n"
     ]
    }
   ],
   "source": [
    "action = actual_df[actual_df['genre']=='Action']['user_score']\n",
    "sports = actual_df[actual_df['genre']=='Sports']['user_score']\n",
    "\n",
    "alpha = 0.05\n",
    "\n",
    "results = st.ttest_ind(\n",
    "    action, \n",
    "    sports,\n",
    "    nan_policy='omit'\n",
    ")\n",
    "\n",
    "print('p-значение: ', results.pvalue)\n",
    "print()\n",
    "\n",
    "if results.pvalue < alpha:\n",
    "    print('Отвергаем нулевую гипотезу')\n",
    "else:\n",
    "    print('Не получилось отвергнуть нулевую гипотезу')"
   ]
  },
  {
   "cell_type": "code",
   "execution_count": 76,
   "id": "fe6154f9",
   "metadata": {},
   "outputs": [
    {
     "name": "stdout",
     "output_type": "stream",
     "text": [
      "Среднее значение пользовательских оценок для игр по жанру Action:  6.83\n",
      "Среднее значение пользовательских оценок для игр по жанру Sports:  5.72\n"
     ]
    }
   ],
   "source": [
    "print('Среднее значение пользовательских оценок для игр по жанру Action: ', round(action.mean(),2))\n",
    "print('Среднее значение пользовательских оценок для игр по жанру Sports: ', round(sports.mean(),2))"
   ]
  },
  {
   "cell_type": "markdown",
   "id": "891d1e58",
   "metadata": {},
   "source": [
    "### Вывод"
   ]
  },
  {
   "cell_type": "markdown",
   "id": "b3d9e7c8",
   "metadata": {},
   "source": [
    "Среднее значение пользовательских оценок для игр по жанру **Action** получили 6.86, а для жанра **Sports** получили 5.59, так как оценки пользователей для жанров отличаются, то мы отвергаем нулевую гипотезу о их равности."
   ]
  },
  {
   "cell_type": "markdown",
   "id": "79394c45",
   "metadata": {},
   "source": [
    "## Вывод"
   ]
  },
  {
   "cell_type": "markdown",
   "id": "3483ffbf",
   "metadata": {},
   "source": [
    "Мы выдвинули две гипотезы:\n",
    "1) Средние пользовательские рейтинги платформ Xbox One и PC одинаковые  \n",
    "Сформировали гипотезу следующим образом:  \n",
    "$H_{0}$ = средние пользовательские рейтинги платформ Xbox One и PC одинаковые;  \n",
    "$H_{1}$ = средние пользовательские рейтинги платформ Xbox One и PC различаются.\n",
    "\n",
    "Для оценки будет использовать Т-тест с двусторонним критерием.  \n",
    "Уровень значимости зададим равный 0.05\n",
    "Получили, что среднее значение пользовательских оценок для игр по платформам за выбранный период(с 2010 года) почти равны. Для **XOne** получили средний рейтинг 6.48, для **PC** получили 6.49, поэтому не получилось отвергнуть нулевую гипотезу\n",
    "\n",
    "2) Средние пользовательские рейтинги жанров Action и Sports разные  \n",
    "Сформировали гипотезу следующим образом:  \n",
    "$H_{0}$ = средние пользовательские рейтинги жанров Action и Sports одинаковые;  \n",
    "$H_{1}$ = средние пользовательские рейтинги жанров Action и Sports различаются.\n",
    "\n",
    "Для оценки будет использовать Т-тест с двусторонним критерием.  \n",
    "Уровень значимости зададим равный 0.05\n",
    "Получили среднее значение пользовательских оценок для игр по жанру **Action** равное 6.86, а для жанра **Sports** получили 5.59, так как оценки пользователей для жанров отличаются, то мы отвергаем нулевую гипотезу о их равности."
   ]
  },
  {
   "cell_type": "markdown",
   "id": "4694484e",
   "metadata": {},
   "source": [
    "# Общий вывод"
   ]
  },
  {
   "cell_type": "markdown",
   "id": "7315dc26",
   "metadata": {},
   "source": [
    "При изучении данных мы столкнулись с неверным регистром столбцов датафрейма, большим количеством пропущенных значений, неверным типом данных в столбцах, поэтому мы провели предобработку данных и сделали следующие:\n",
    "1) Привели названия столбцов к нижнему регистру  \n",
    "2) Пропуски с столбцах `name` и `genre` совпадали, их было всего 2 шт, что составляет 0.01% от всего датасета, но так как их было не восстановить по имеющейся информации, то мы их удалили  \n",
    "3) Для пропущенных значений в столбеце `year_of_release` мы сделали предположение, что игры выпускаются сразу на нескольких консолях и пропущенные значения можно заполнить информацией из других консолей, что мы и сделали. Было 269 пропущенных значений, а осталось 146 шт, что составляет 0.87% от всего датасета, поэтому оставшиеся значия мы решили удалить. Так же привели столбец к типу данных **int**  \n",
    "4) В столбце `rating` было пропущенно 6699 значений, оставшиеся значения содержат текстовую информацию с сокращенным названием рейтинга. Пропущенным значениям мы решили присвоить название **unknown**, так как для них рейтинг не известен  \n",
    "5) В столбце `user_score` были строки содержащие **tbd**, эта аббревиатура происходит от английского To Be Determined (будет определено) или To Be Decided (будет решено). Используется, если какая-то информация еще не определена. Было принято решение заменить пропущенные на **None** и привести столбец к типу данных **float**  \n",
    "6) Создали столбец `total_sales` с общими продажами по всем регионам\n",
    "\n",
    "Большинство пропущенных значений в столбце `user_score` совпадает с пропущенными значениями в столбце `critic_score` и составляют более 50% данных. Возможно была допущена ошибка при выгрузке данных и они потерялись, поэтому оставим эти столбцы в том виде в котором они есть, так как достоверно восстановить данные не получится\n",
    "\n",
    "Во время анализа данных мы сделали следующее:\n",
    "1) Посмотрели на количество выпускаемых игр:\n",
    "* Количество выпущенных игр начало расти с 1994 года, скорее всего это связано с развитием технологий\n",
    "* Самый пик выпускаемых игр приходится на 2008 и 2009 год\n",
    "* После 2011 года пошел резкий спад по количеству выпускаемых игр, скорее всего это связано с изменениями в игровой индустрии и разработка более качественных игр занимает больше времени\n",
    "\n",
    "2) Посмотрели как менялись продажи по платформам:  \n",
    "Из новых платформ на графике получили только PS4, на момент 2016 года у нее есть продажи, остальные платформы либо уже прекратили свое существование, либо близки к тому чтобы прекратить свое существование.  \n",
    "Так же на графике видим PC - это старичок, у которого начались продажи с 1985 года и идут до сих пор. \n",
    "Далее мы определили среднее время жизни платформы и оно составляет 8,5 лет.\n",
    "Посмотрели, что платформы выходили чаще до начала 2000х, после стали намного реже. С 2006 до 2010 года был большой простой по выпуску платформ, а так как у нас средний жизненный цикл платформ составляет почти 9 лет, то мы выбрали актуальный период начиная с 2010 года.\n",
    "\n",
    "3) Для просмотра лидирующих платформ за выбранный период(с 2010 года), мы создали сводную таблицу по количеству продаж по выпущенным платформам в этот период, но так же добавили в этот список PC и нарисовали график. После анализа графика выделили две потенциально прибыльных платформы, это PS4 и XOne, по остальным платформам идет спад по продажам.\n",
    "\n",
    "4) Посмотрели как влияют на продажи пользовательские оценки и оценки критиков.  \n",
    "Для всех платформ положительную корреляцию по продажам оказывают оценки критиков, следовательно чем выше оценка - тем выше продажи. А вот по корреляция продаж и оценок пользователей для консольных платформ и PC можно сделать вывод, что оценки пользователей никак не влияют на продажи, но если посмотреть на портативные платформы: 3DS и WiiU, то тут мы уже видим положительную корреляцию, чем выше оценки - тем выше продажи.  \n",
    "Следовательно на продажи влияют оценки критиков, а оценки пользователей только на портативные платформы.\n",
    "\n",
    "5) Жанр **Action** является лидером по количеству выпускаемых игр и по общей сумме продаж, а вот далее идут уже отличия. Жанр **Role-Playing** занимает 2 место по количеству выпускаемых игр, но 3 место по общей сумме продаж, в то время, как жанр **Shooter** занимает 6 место по количеству выпускаемых игр, но 2 место по сумме продаж.  \n",
    "Следовательно, можно сделать вывод, что не всегда количество выпускаемых игр влияет на общую сумму продаж. \n",
    "Самым популярным жанром является **Action**, самым не популярным **Puzzle**, но так же хочется отметить жанр **Shooter**, количество выпускаемых игр по сравнению с жанром **Action** - мало, а вот сумма продаж наоборот близка к сумме продаж **Action**.\n",
    "\n",
    "Далее мы составили портрет пользователя по каждому региону и получили следующую информацию:\n",
    "1) В регионе **eu_sales** (в Европе), самой популярной платформой является **PS4**, ее продажи составляют более 110 млн, их конкурент **XOne** занимает лишь 4 место, уступая **3DS** и **PC**, продажи которых около 50 млн.  \n",
    "Самым популярным жанром является **Action**, его продажи составляют 80 млн. Далее идет **Shooter** с продажами 55 млн и **Role-Playing** с продажами около 40 млн.  \n",
    "Самым популярным рейтингом является **M** («Mature») — «Для взрослых», его продажи составляют почти 100 млн. Далее идет **E** («Everyone») — «Для всех» и **unknown** - неизвестный рейтинг, с продажами 65 млн.  \n",
    "\n",
    "2) В регионе **jp_sales** (в Японии), самыми популярными являются портативные платформы, но абсолютный лидер среди них **3DS**, продажи данной платформы составляют около 90 млн, когда остальные ели дотягивают до 10-20 млн.  \n",
    "Самым популярным жанром является **Role-Playing**, продажи составляют почти 50 млн. На 2 месте **Action** с продажами около 30 млн.    \n",
    "Самым популярным рейтингом является **unknown** - неизвестный рейтинг, его продажи составляют более 70 млн. На 2 месте **E** («Everyone») — «Для всех» с продажами около 30 млн. \n",
    "\n",
    "3) В регионе **na_sales** (в Северной Америке), лидирующую позицию занимает **PS4**, их продажи почти 90 млн, далее идет **XOne** и **3DS**, с продажами около 80 млн.  \n",
    "Самым популярным жанром является **Action**, его продажи более 80 млн. Далее идет **Shooter** с продажами более 60 млн и **Role-Playing** с продажами около 45 млн.  \n",
    "Самым популярным рейтингом является **M** («Mature») — «Для взрослых», его продажи составляют почти 100 млн. Далее идет **E** («Everyone») — «Для всех» и **unknown** - неизвестный рейтинг, с продажами около 70 млн. \n",
    "\n",
    "В целом, предпочтения в Европе и Северной Америке совпадают, по платформам у них один и тот же фаворит - **PS4**, выбирают одни и те же жанры **Action** и **Shooter**, так же выбирают игры с одинаковым рейтингом **E** («Everyone») — «Для всех» и **unknown** - неизвестный рейтинг.  \n",
    "В Японии предпочтения отдают портативной платформе **3DS**, жанру **Role-Playing** и рейтингу **unknown** - неизвестный рейтинг. Скорее всего пропущенные значения в рейтинг, которое мы назвали **unknown** относится к жанру игр **Role-Playing** так как он занимает в Японии тоже первое место и совпадает с местами по остальными регионами.\n",
    "\n",
    "И в заключении мы выдвинули две гипотезы:\n",
    "1) Средние пользовательские рейтинги платформ Xbox One и PC одинаковые  \n",
    "Сформировали гипотезу следующим образом:  \n",
    "$H_{0}$ = средние пользовательские рейтинги платформ Xbox One и PC одинаковые;  \n",
    "$H_{1}$ = средние пользовательские рейтинги платформ Xbox One и PC различаются.\n",
    "\n",
    "Для оценки будет использовать Т-тест с двусторонним критерием.  \n",
    "Уровень значимости зададим равный 0.05\n",
    "Получили, что среднее значение пользовательских оценок для игр по платформам за выбранный период(с 2010 года) почти равны. Для **XOne** получили средний рейтинг 6.48, для **PC** получили 6.49, поэтому не получилось отвергнуть нулевую гипотезу\n",
    "\n",
    "2) Средние пользовательские рейтинги жанров Action и Sports разные  \n",
    "Сформировали гипотезу следующим образом:  \n",
    "$H_{0}$ = средние пользовательские рейтинги жанров Action и Sports одинаковые;  \n",
    "$H_{1}$ = средние пользовательские рейтинги жанров Action и Sports различаются.\n",
    "\n",
    "Для оценки будет использовать Т-тест с двусторонним критерием.  \n",
    "Уровень значимости зададим равный 0.05\n",
    "Получили среднее значение пользовательских оценок для игр по жанру **Action** равное 6.86, а для жанра **Sports** получили 5.59, так как оценки пользователей для жанров отличаются, то мы отвергаем нулевую гипотезу о их равности."
   ]
  },
  {
   "cell_type": "code",
   "execution_count": null,
   "id": "070cb2a0",
   "metadata": {},
   "outputs": [],
   "source": []
  }
 ],
 "metadata": {
  "ExecuteTimeLog": [
   {
    "duration": 1167,
    "start_time": "2022-01-28T14:37:10.090Z"
   },
   {
    "duration": 1435,
    "start_time": "2022-01-28T14:37:11.259Z"
   },
   {
    "duration": -87730,
    "start_time": "2022-01-28T14:38:40.428Z"
   },
   {
    "duration": -87733,
    "start_time": "2022-01-28T14:38:40.432Z"
   },
   {
    "duration": -87736,
    "start_time": "2022-01-28T14:38:40.436Z"
   },
   {
    "duration": -87742,
    "start_time": "2022-01-28T14:38:40.443Z"
   },
   {
    "duration": -87745,
    "start_time": "2022-01-28T14:38:40.447Z"
   },
   {
    "duration": -87749,
    "start_time": "2022-01-28T14:38:40.452Z"
   },
   {
    "duration": -87752,
    "start_time": "2022-01-28T14:38:40.456Z"
   },
   {
    "duration": -87756,
    "start_time": "2022-01-28T14:38:40.461Z"
   },
   {
    "duration": -87760,
    "start_time": "2022-01-28T14:38:40.466Z"
   },
   {
    "duration": -87763,
    "start_time": "2022-01-28T14:38:40.470Z"
   },
   {
    "duration": -87767,
    "start_time": "2022-01-28T14:38:40.475Z"
   },
   {
    "duration": -87770,
    "start_time": "2022-01-28T14:38:40.479Z"
   },
   {
    "duration": -87773,
    "start_time": "2022-01-28T14:38:40.483Z"
   },
   {
    "duration": -87777,
    "start_time": "2022-01-28T14:38:40.488Z"
   },
   {
    "duration": -87781,
    "start_time": "2022-01-28T14:38:40.493Z"
   },
   {
    "duration": -87785,
    "start_time": "2022-01-28T14:38:40.498Z"
   },
   {
    "duration": -87788,
    "start_time": "2022-01-28T14:38:40.502Z"
   },
   {
    "duration": -87793,
    "start_time": "2022-01-28T14:38:40.508Z"
   },
   {
    "duration": -87796,
    "start_time": "2022-01-28T14:38:40.512Z"
   },
   {
    "duration": -87799,
    "start_time": "2022-01-28T14:38:40.516Z"
   },
   {
    "duration": -87803,
    "start_time": "2022-01-28T14:38:40.520Z"
   },
   {
    "duration": -87814,
    "start_time": "2022-01-28T14:38:40.532Z"
   },
   {
    "duration": -87817,
    "start_time": "2022-01-28T14:38:40.536Z"
   },
   {
    "duration": -87823,
    "start_time": "2022-01-28T14:38:40.543Z"
   },
   {
    "duration": -87826,
    "start_time": "2022-01-28T14:38:40.547Z"
   },
   {
    "duration": -87829,
    "start_time": "2022-01-28T14:38:40.551Z"
   },
   {
    "duration": -87833,
    "start_time": "2022-01-28T14:38:40.555Z"
   },
   {
    "duration": -87837,
    "start_time": "2022-01-28T14:38:40.560Z"
   },
   {
    "duration": -87840,
    "start_time": "2022-01-28T14:38:40.564Z"
   },
   {
    "duration": -87843,
    "start_time": "2022-01-28T14:38:40.568Z"
   },
   {
    "duration": -87847,
    "start_time": "2022-01-28T14:38:40.573Z"
   },
   {
    "duration": -87852,
    "start_time": "2022-01-28T14:38:40.578Z"
   },
   {
    "duration": -87854,
    "start_time": "2022-01-28T14:38:40.581Z"
   },
   {
    "duration": -87858,
    "start_time": "2022-01-28T14:38:40.586Z"
   },
   {
    "duration": -87862,
    "start_time": "2022-01-28T14:38:40.591Z"
   },
   {
    "duration": -87866,
    "start_time": "2022-01-28T14:38:40.596Z"
   },
   {
    "duration": -87870,
    "start_time": "2022-01-28T14:38:40.601Z"
   },
   {
    "duration": -87873,
    "start_time": "2022-01-28T14:38:40.605Z"
   },
   {
    "duration": -87877,
    "start_time": "2022-01-28T14:38:40.610Z"
   },
   {
    "duration": -87882,
    "start_time": "2022-01-28T14:38:40.615Z"
   },
   {
    "duration": -87885,
    "start_time": "2022-01-28T14:38:40.619Z"
   },
   {
    "duration": -87890,
    "start_time": "2022-01-28T14:38:40.625Z"
   },
   {
    "duration": -87893,
    "start_time": "2022-01-28T14:38:40.629Z"
   },
   {
    "duration": -87905,
    "start_time": "2022-01-28T14:38:40.641Z"
   },
   {
    "duration": -87869,
    "start_time": "2022-01-28T14:38:40.666Z"
   },
   {
    "duration": -87872,
    "start_time": "2022-01-28T14:38:40.670Z"
   },
   {
    "duration": -87875,
    "start_time": "2022-01-28T14:38:40.674Z"
   },
   {
    "duration": -87879,
    "start_time": "2022-01-28T14:38:40.678Z"
   },
   {
    "duration": -87882,
    "start_time": "2022-01-28T14:38:40.682Z"
   },
   {
    "duration": -87885,
    "start_time": "2022-01-28T14:38:40.686Z"
   },
   {
    "duration": -87888,
    "start_time": "2022-01-28T14:38:40.690Z"
   },
   {
    "duration": -87892,
    "start_time": "2022-01-28T14:38:40.695Z"
   },
   {
    "duration": -87895,
    "start_time": "2022-01-28T14:38:40.699Z"
   },
   {
    "duration": -87898,
    "start_time": "2022-01-28T14:38:40.703Z"
   },
   {
    "duration": -87914,
    "start_time": "2022-01-28T14:38:40.720Z"
   },
   {
    "duration": -87918,
    "start_time": "2022-01-28T14:38:40.725Z"
   },
   {
    "duration": -87922,
    "start_time": "2022-01-28T14:38:40.729Z"
   },
   {
    "duration": -87924,
    "start_time": "2022-01-28T14:38:40.732Z"
   },
   {
    "duration": -87927,
    "start_time": "2022-01-28T14:38:40.736Z"
   },
   {
    "duration": -87937,
    "start_time": "2022-01-28T14:38:40.747Z"
   },
   {
    "duration": -87940,
    "start_time": "2022-01-28T14:38:40.751Z"
   },
   {
    "duration": -87943,
    "start_time": "2022-01-28T14:38:40.755Z"
   },
   {
    "duration": -87947,
    "start_time": "2022-01-28T14:38:40.759Z"
   },
   {
    "duration": -87957,
    "start_time": "2022-01-28T14:38:40.770Z"
   },
   {
    "duration": -88012,
    "start_time": "2022-01-28T14:38:40.826Z"
   },
   {
    "duration": -88038,
    "start_time": "2022-01-28T14:38:40.853Z"
   },
   {
    "duration": -88041,
    "start_time": "2022-01-28T14:38:40.857Z"
   },
   {
    "duration": -88049,
    "start_time": "2022-01-28T14:38:40.866Z"
   },
   {
    "duration": -88051,
    "start_time": "2022-01-28T14:38:40.869Z"
   },
   {
    "duration": -88054,
    "start_time": "2022-01-28T14:38:40.873Z"
   },
   {
    "duration": -88058,
    "start_time": "2022-01-28T14:38:40.877Z"
   },
   {
    "duration": -88063,
    "start_time": "2022-01-28T14:38:40.883Z"
   },
   {
    "duration": -88066,
    "start_time": "2022-01-28T14:38:40.887Z"
   },
   {
    "duration": 1174,
    "start_time": "2022-01-28T14:39:03.272Z"
   },
   {
    "duration": 39,
    "start_time": "2022-01-28T14:39:04.448Z"
   },
   {
    "duration": 17,
    "start_time": "2022-01-28T14:39:04.489Z"
   },
   {
    "duration": 9,
    "start_time": "2022-01-28T14:39:04.508Z"
   },
   {
    "duration": 31,
    "start_time": "2022-01-28T14:39:04.519Z"
   },
   {
    "duration": 4,
    "start_time": "2022-01-28T14:39:04.551Z"
   },
   {
    "duration": 48,
    "start_time": "2022-01-28T14:39:04.557Z"
   },
   {
    "duration": 17,
    "start_time": "2022-01-28T14:39:04.607Z"
   },
   {
    "duration": 5,
    "start_time": "2022-01-28T14:39:04.626Z"
   },
   {
    "duration": 8,
    "start_time": "2022-01-28T14:39:04.632Z"
   },
   {
    "duration": 8,
    "start_time": "2022-01-28T14:39:04.642Z"
   },
   {
    "duration": 8,
    "start_time": "2022-01-28T14:39:04.651Z"
   },
   {
    "duration": 5,
    "start_time": "2022-01-28T14:39:04.661Z"
   },
   {
    "duration": 42,
    "start_time": "2022-01-28T14:39:04.667Z"
   },
   {
    "duration": 17,
    "start_time": "2022-01-28T14:39:04.710Z"
   },
   {
    "duration": 8,
    "start_time": "2022-01-28T14:39:04.728Z"
   },
   {
    "duration": 9,
    "start_time": "2022-01-28T14:39:04.738Z"
   },
   {
    "duration": 15,
    "start_time": "2022-01-28T14:39:04.748Z"
   },
   {
    "duration": 4,
    "start_time": "2022-01-28T14:39:04.765Z"
   },
   {
    "duration": 17,
    "start_time": "2022-01-28T14:39:04.796Z"
   },
   {
    "duration": 22,
    "start_time": "2022-01-28T14:39:04.815Z"
   },
   {
    "duration": 15,
    "start_time": "2022-01-28T14:39:04.839Z"
   },
   {
    "duration": 45,
    "start_time": "2022-01-28T14:39:04.858Z"
   },
   {
    "duration": 7,
    "start_time": "2022-01-28T14:39:04.906Z"
   },
   {
    "duration": 7,
    "start_time": "2022-01-28T14:39:04.914Z"
   },
   {
    "duration": 20,
    "start_time": "2022-01-28T14:39:04.923Z"
   },
   {
    "duration": 7,
    "start_time": "2022-01-28T14:39:04.945Z"
   },
   {
    "duration": 8,
    "start_time": "2022-01-28T14:39:04.954Z"
   },
   {
    "duration": 8,
    "start_time": "2022-01-28T14:39:04.964Z"
   },
   {
    "duration": 26,
    "start_time": "2022-01-28T14:39:04.974Z"
   },
   {
    "duration": 20,
    "start_time": "2022-01-28T14:39:05.002Z"
   },
   {
    "duration": 5,
    "start_time": "2022-01-28T14:39:05.024Z"
   },
   {
    "duration": 18,
    "start_time": "2022-01-28T14:39:05.031Z"
   },
   {
    "duration": 16,
    "start_time": "2022-01-28T14:39:05.051Z"
   },
   {
    "duration": 30,
    "start_time": "2022-01-28T14:39:05.069Z"
   },
   {
    "duration": 15,
    "start_time": "2022-01-28T14:39:05.100Z"
   },
   {
    "duration": 10,
    "start_time": "2022-01-28T14:39:05.117Z"
   },
   {
    "duration": 16,
    "start_time": "2022-01-28T14:39:05.129Z"
   },
   {
    "duration": 14,
    "start_time": "2022-01-28T14:39:05.146Z"
   },
   {
    "duration": 513,
    "start_time": "2022-01-28T14:39:05.162Z"
   },
   {
    "duration": 25,
    "start_time": "2022-01-28T14:39:05.676Z"
   },
   {
    "duration": 21,
    "start_time": "2022-01-28T14:39:05.702Z"
   },
   {
    "duration": 461,
    "start_time": "2022-01-28T14:39:05.724Z"
   },
   {
    "duration": 2618,
    "start_time": "2022-01-28T14:39:06.187Z"
   },
   {
    "duration": 28,
    "start_time": "2022-01-28T14:39:08.807Z"
   },
   {
    "duration": 5,
    "start_time": "2022-01-28T14:39:08.837Z"
   },
   {
    "duration": 12,
    "start_time": "2022-01-28T14:39:08.844Z"
   },
   {
    "duration": 501,
    "start_time": "2022-01-28T14:39:08.858Z"
   },
   {
    "duration": -87722,
    "start_time": "2022-01-28T14:40:37.084Z"
   },
   {
    "duration": -87727,
    "start_time": "2022-01-28T14:40:37.090Z"
   },
   {
    "duration": -87729,
    "start_time": "2022-01-28T14:40:37.094Z"
   },
   {
    "duration": -87733,
    "start_time": "2022-01-28T14:40:37.099Z"
   },
   {
    "duration": -87735,
    "start_time": "2022-01-28T14:40:37.103Z"
   },
   {
    "duration": -87738,
    "start_time": "2022-01-28T14:40:37.107Z"
   },
   {
    "duration": -87740,
    "start_time": "2022-01-28T14:40:37.111Z"
   },
   {
    "duration": -87752,
    "start_time": "2022-01-28T14:40:37.124Z"
   },
   {
    "duration": -87731,
    "start_time": "2022-01-28T14:40:37.128Z"
   },
   {
    "duration": -87733,
    "start_time": "2022-01-28T14:40:37.132Z"
   },
   {
    "duration": -87735,
    "start_time": "2022-01-28T14:40:37.136Z"
   },
   {
    "duration": -87738,
    "start_time": "2022-01-28T14:40:37.140Z"
   },
   {
    "duration": -87741,
    "start_time": "2022-01-28T14:40:37.144Z"
   },
   {
    "duration": -87744,
    "start_time": "2022-01-28T14:40:37.149Z"
   },
   {
    "duration": -87747,
    "start_time": "2022-01-28T14:40:37.153Z"
   },
   {
    "duration": -87750,
    "start_time": "2022-01-28T14:40:37.157Z"
   },
   {
    "duration": -87753,
    "start_time": "2022-01-28T14:40:37.161Z"
   },
   {
    "duration": -87756,
    "start_time": "2022-01-28T14:40:37.165Z"
   },
   {
    "duration": -87758,
    "start_time": "2022-01-28T14:40:37.168Z"
   },
   {
    "duration": -87762,
    "start_time": "2022-01-28T14:40:37.173Z"
   },
   {
    "duration": -87765,
    "start_time": "2022-01-28T14:40:37.177Z"
   },
   {
    "duration": -87768,
    "start_time": "2022-01-28T14:40:37.181Z"
   },
   {
    "duration": -87772,
    "start_time": "2022-01-28T14:40:37.185Z"
   },
   {
    "duration": -87776,
    "start_time": "2022-01-28T14:40:37.190Z"
   },
   {
    "duration": -87779,
    "start_time": "2022-01-28T14:40:37.194Z"
   },
   {
    "duration": -87795,
    "start_time": "2022-01-28T14:40:37.211Z"
   },
   {
    "duration": -87803,
    "start_time": "2022-01-28T14:40:37.220Z"
   },
   {
    "duration": 10,
    "start_time": "2022-01-28T14:49:35.694Z"
   },
   {
    "duration": 12,
    "start_time": "2022-01-28T14:49:35.706Z"
   },
   {
    "duration": 9,
    "start_time": "2022-01-28T14:49:35.720Z"
   },
   {
    "duration": 24,
    "start_time": "2022-01-28T14:49:35.730Z"
   },
   {
    "duration": 46,
    "start_time": "2022-01-28T14:49:35.756Z"
   },
   {
    "duration": 413,
    "start_time": "2022-01-28T14:49:35.804Z"
   },
   {
    "duration": 379,
    "start_time": "2022-01-28T14:49:36.220Z"
   },
   {
    "duration": 18,
    "start_time": "2022-01-28T14:49:36.602Z"
   },
   {
    "duration": 375,
    "start_time": "2022-01-28T14:49:36.622Z"
   },
   {
    "duration": 5,
    "start_time": "2022-01-28T14:49:36.999Z"
   },
   {
    "duration": 393,
    "start_time": "2022-01-28T14:49:37.006Z"
   },
   {
    "duration": 5,
    "start_time": "2022-01-28T14:49:37.400Z"
   },
   {
    "duration": 7,
    "start_time": "2022-01-28T14:49:37.407Z"
   },
   {
    "duration": 29,
    "start_time": "2022-01-28T14:49:37.416Z"
   },
   {
    "duration": 23,
    "start_time": "2022-01-28T14:49:37.447Z"
   },
   {
    "duration": 319,
    "start_time": "2022-01-28T14:49:37.471Z"
   },
   {
    "duration": 413,
    "start_time": "2022-01-28T14:49:37.792Z"
   },
   {
    "duration": 17,
    "start_time": "2022-01-28T14:49:38.207Z"
   },
   {
    "duration": 690,
    "start_time": "2022-01-28T14:49:38.226Z"
   },
   {
    "duration": 19,
    "start_time": "2022-01-28T14:49:38.918Z"
   },
   {
    "duration": 861,
    "start_time": "2022-01-28T14:49:38.939Z"
   },
   {
    "duration": 19,
    "start_time": "2022-01-28T14:49:39.802Z"
   },
   {
    "duration": 702,
    "start_time": "2022-01-28T14:49:39.825Z"
   },
   {
    "duration": 10,
    "start_time": "2022-01-28T14:49:40.529Z"
   },
   {
    "duration": 7,
    "start_time": "2022-01-28T14:49:40.541Z"
   },
   {
    "duration": 12,
    "start_time": "2022-01-28T14:49:40.550Z"
   },
   {
    "duration": 5,
    "start_time": "2022-01-28T14:49:40.564Z"
   },
   {
    "duration": 10,
    "start_time": "2022-01-28T14:54:30.258Z"
   },
   {
    "duration": 9,
    "start_time": "2022-01-28T14:54:36.188Z"
   },
   {
    "duration": 9,
    "start_time": "2022-01-28T14:54:40.903Z"
   },
   {
    "duration": 1519,
    "start_time": "2022-01-28T20:15:43.094Z"
   },
   {
    "duration": 3268,
    "start_time": "2022-01-28T20:15:44.616Z"
   },
   {
    "duration": -115,
    "start_time": "2022-01-28T20:15:48.005Z"
   },
   {
    "duration": -137,
    "start_time": "2022-01-28T20:15:48.029Z"
   },
   {
    "duration": -167,
    "start_time": "2022-01-28T20:15:48.060Z"
   },
   {
    "duration": -198,
    "start_time": "2022-01-28T20:15:48.092Z"
   },
   {
    "duration": -228,
    "start_time": "2022-01-28T20:15:48.124Z"
   },
   {
    "duration": -237,
    "start_time": "2022-01-28T20:15:48.134Z"
   },
   {
    "duration": -256,
    "start_time": "2022-01-28T20:15:48.155Z"
   },
   {
    "duration": -262,
    "start_time": "2022-01-28T20:15:48.163Z"
   },
   {
    "duration": -271,
    "start_time": "2022-01-28T20:15:48.173Z"
   },
   {
    "duration": -277,
    "start_time": "2022-01-28T20:15:48.181Z"
   },
   {
    "duration": -287,
    "start_time": "2022-01-28T20:15:48.192Z"
   },
   {
    "duration": -295,
    "start_time": "2022-01-28T20:15:48.202Z"
   },
   {
    "duration": -303,
    "start_time": "2022-01-28T20:15:48.211Z"
   },
   {
    "duration": -310,
    "start_time": "2022-01-28T20:15:48.220Z"
   },
   {
    "duration": -365,
    "start_time": "2022-01-28T20:15:48.276Z"
   },
   {
    "duration": -376,
    "start_time": "2022-01-28T20:15:48.289Z"
   },
   {
    "duration": -389,
    "start_time": "2022-01-28T20:15:48.303Z"
   },
   {
    "duration": -395,
    "start_time": "2022-01-28T20:15:48.311Z"
   },
   {
    "duration": -419,
    "start_time": "2022-01-28T20:15:48.336Z"
   },
   {
    "duration": -433,
    "start_time": "2022-01-28T20:15:48.352Z"
   },
   {
    "duration": -486,
    "start_time": "2022-01-28T20:15:48.406Z"
   },
   {
    "duration": -507,
    "start_time": "2022-01-28T20:15:48.429Z"
   },
   {
    "duration": -530,
    "start_time": "2022-01-28T20:15:48.453Z"
   },
   {
    "duration": -534,
    "start_time": "2022-01-28T20:15:48.466Z"
   },
   {
    "duration": -545,
    "start_time": "2022-01-28T20:15:48.478Z"
   },
   {
    "duration": -556,
    "start_time": "2022-01-28T20:15:48.491Z"
   },
   {
    "duration": -594,
    "start_time": "2022-01-28T20:15:48.531Z"
   },
   {
    "duration": -607,
    "start_time": "2022-01-28T20:15:48.545Z"
   },
   {
    "duration": -616,
    "start_time": "2022-01-28T20:15:48.556Z"
   },
   {
    "duration": -622,
    "start_time": "2022-01-28T20:15:48.564Z"
   },
   {
    "duration": -630,
    "start_time": "2022-01-28T20:15:48.573Z"
   },
   {
    "duration": -635,
    "start_time": "2022-01-28T20:15:48.579Z"
   },
   {
    "duration": -643,
    "start_time": "2022-01-28T20:15:48.589Z"
   },
   {
    "duration": -650,
    "start_time": "2022-01-28T20:15:48.597Z"
   },
   {
    "duration": -659,
    "start_time": "2022-01-28T20:15:48.608Z"
   },
   {
    "duration": -667,
    "start_time": "2022-01-28T20:15:48.617Z"
   },
   {
    "duration": -764,
    "start_time": "2022-01-28T20:15:48.716Z"
   },
   {
    "duration": -771,
    "start_time": "2022-01-28T20:15:48.724Z"
   },
   {
    "duration": -778,
    "start_time": "2022-01-28T20:15:48.732Z"
   },
   {
    "duration": -783,
    "start_time": "2022-01-28T20:15:48.739Z"
   },
   {
    "duration": -791,
    "start_time": "2022-01-28T20:15:48.748Z"
   },
   {
    "duration": -797,
    "start_time": "2022-01-28T20:15:48.755Z"
   },
   {
    "duration": -802,
    "start_time": "2022-01-28T20:15:48.762Z"
   },
   {
    "duration": -810,
    "start_time": "2022-01-28T20:15:48.771Z"
   },
   {
    "duration": -818,
    "start_time": "2022-01-28T20:15:48.780Z"
   },
   {
    "duration": -824,
    "start_time": "2022-01-28T20:15:48.787Z"
   },
   {
    "duration": -829,
    "start_time": "2022-01-28T20:15:48.794Z"
   },
   {
    "duration": -907,
    "start_time": "2022-01-28T20:15:48.873Z"
   },
   {
    "duration": -886,
    "start_time": "2022-01-28T20:15:48.918Z"
   },
   {
    "duration": -892,
    "start_time": "2022-01-28T20:15:48.925Z"
   },
   {
    "duration": -959,
    "start_time": "2022-01-28T20:15:48.994Z"
   },
   {
    "duration": -967,
    "start_time": "2022-01-28T20:15:49.003Z"
   },
   {
    "duration": -972,
    "start_time": "2022-01-28T20:15:49.009Z"
   },
   {
    "duration": -978,
    "start_time": "2022-01-28T20:15:49.017Z"
   },
   {
    "duration": -984,
    "start_time": "2022-01-28T20:15:49.024Z"
   },
   {
    "duration": -989,
    "start_time": "2022-01-28T20:15:49.030Z"
   },
   {
    "duration": -996,
    "start_time": "2022-01-28T20:15:49.039Z"
   },
   {
    "duration": -1001,
    "start_time": "2022-01-28T20:15:49.045Z"
   },
   {
    "duration": -1008,
    "start_time": "2022-01-28T20:15:49.054Z"
   },
   {
    "duration": -1013,
    "start_time": "2022-01-28T20:15:49.060Z"
   },
   {
    "duration": -1020,
    "start_time": "2022-01-28T20:15:49.068Z"
   },
   {
    "duration": -1023,
    "start_time": "2022-01-28T20:15:49.073Z"
   },
   {
    "duration": -1028,
    "start_time": "2022-01-28T20:15:49.080Z"
   },
   {
    "duration": -1035,
    "start_time": "2022-01-28T20:15:49.088Z"
   },
   {
    "duration": -1060,
    "start_time": "2022-01-28T20:15:49.114Z"
   },
   {
    "duration": -1084,
    "start_time": "2022-01-28T20:15:49.140Z"
   },
   {
    "duration": -1090,
    "start_time": "2022-01-28T20:15:49.147Z"
   },
   {
    "duration": -1095,
    "start_time": "2022-01-28T20:15:49.153Z"
   },
   {
    "duration": -1100,
    "start_time": "2022-01-28T20:15:49.160Z"
   },
   {
    "duration": -1108,
    "start_time": "2022-01-28T20:15:49.169Z"
   },
   {
    "duration": -1114,
    "start_time": "2022-01-28T20:15:49.177Z"
   },
   {
    "duration": -1120,
    "start_time": "2022-01-28T20:15:49.184Z"
   },
   {
    "duration": -1125,
    "start_time": "2022-01-28T20:15:49.190Z"
   },
   {
    "duration": -1129,
    "start_time": "2022-01-28T20:15:49.195Z"
   },
   {
    "duration": 1557,
    "start_time": "2022-01-28T20:16:28.233Z"
   },
   {
    "duration": 47,
    "start_time": "2022-01-28T20:16:29.794Z"
   },
   {
    "duration": 29,
    "start_time": "2022-01-28T20:16:29.845Z"
   },
   {
    "duration": 15,
    "start_time": "2022-01-28T20:16:29.878Z"
   },
   {
    "duration": 72,
    "start_time": "2022-01-28T20:16:29.896Z"
   },
   {
    "duration": 6,
    "start_time": "2022-01-28T20:16:29.970Z"
   },
   {
    "duration": 63,
    "start_time": "2022-01-28T20:16:29.978Z"
   },
   {
    "duration": 24,
    "start_time": "2022-01-28T20:16:30.046Z"
   },
   {
    "duration": 7,
    "start_time": "2022-01-28T20:16:30.073Z"
   },
   {
    "duration": 15,
    "start_time": "2022-01-28T20:16:30.083Z"
   },
   {
    "duration": 33,
    "start_time": "2022-01-28T20:16:30.101Z"
   },
   {
    "duration": 8,
    "start_time": "2022-01-28T20:16:30.137Z"
   },
   {
    "duration": 6,
    "start_time": "2022-01-28T20:16:30.148Z"
   },
   {
    "duration": 28,
    "start_time": "2022-01-28T20:16:30.156Z"
   },
   {
    "duration": 51,
    "start_time": "2022-01-28T20:16:30.187Z"
   },
   {
    "duration": 11,
    "start_time": "2022-01-28T20:16:30.240Z"
   },
   {
    "duration": 13,
    "start_time": "2022-01-28T20:16:30.254Z"
   },
   {
    "duration": 27,
    "start_time": "2022-01-28T20:16:30.269Z"
   },
   {
    "duration": 6,
    "start_time": "2022-01-28T20:16:30.299Z"
   },
   {
    "duration": 48,
    "start_time": "2022-01-28T20:16:30.307Z"
   },
   {
    "duration": 40,
    "start_time": "2022-01-28T20:16:30.358Z"
   },
   {
    "duration": 43,
    "start_time": "2022-01-28T20:16:30.400Z"
   },
   {
    "duration": 36,
    "start_time": "2022-01-28T20:16:30.450Z"
   },
   {
    "duration": 10,
    "start_time": "2022-01-28T20:16:30.489Z"
   },
   {
    "duration": 33,
    "start_time": "2022-01-28T20:16:30.501Z"
   },
   {
    "duration": 44,
    "start_time": "2022-01-28T20:16:30.536Z"
   },
   {
    "duration": 22,
    "start_time": "2022-01-28T20:16:30.583Z"
   },
   {
    "duration": 22,
    "start_time": "2022-01-28T20:16:30.607Z"
   },
   {
    "duration": 12,
    "start_time": "2022-01-28T20:16:30.632Z"
   },
   {
    "duration": 17,
    "start_time": "2022-01-28T20:16:30.646Z"
   },
   {
    "duration": 27,
    "start_time": "2022-01-28T20:16:30.665Z"
   },
   {
    "duration": 6,
    "start_time": "2022-01-28T20:16:30.694Z"
   },
   {
    "duration": 25,
    "start_time": "2022-01-28T20:16:30.702Z"
   },
   {
    "duration": 24,
    "start_time": "2022-01-28T20:16:30.732Z"
   },
   {
    "duration": 9,
    "start_time": "2022-01-28T20:16:30.759Z"
   },
   {
    "duration": 21,
    "start_time": "2022-01-28T20:16:30.770Z"
   },
   {
    "duration": 48,
    "start_time": "2022-01-28T20:16:30.794Z"
   },
   {
    "duration": 23,
    "start_time": "2022-01-28T20:16:30.844Z"
   },
   {
    "duration": 20,
    "start_time": "2022-01-28T20:16:30.869Z"
   },
   {
    "duration": 752,
    "start_time": "2022-01-28T20:16:30.891Z"
   },
   {
    "duration": 23,
    "start_time": "2022-01-28T20:16:31.646Z"
   },
   {
    "duration": 50,
    "start_time": "2022-01-28T20:16:31.671Z"
   },
   {
    "duration": 715,
    "start_time": "2022-01-28T20:16:31.723Z"
   },
   {
    "duration": 3945,
    "start_time": "2022-01-28T20:16:32.441Z"
   },
   {
    "duration": 52,
    "start_time": "2022-01-28T20:16:36.388Z"
   },
   {
    "duration": 5,
    "start_time": "2022-01-28T20:16:36.442Z"
   },
   {
    "duration": 16,
    "start_time": "2022-01-28T20:16:36.449Z"
   },
   {
    "duration": 769,
    "start_time": "2022-01-28T20:16:36.467Z"
   },
   {
    "duration": -259,
    "start_time": "2022-01-28T20:16:37.498Z"
   },
   {
    "duration": -266,
    "start_time": "2022-01-28T20:16:37.506Z"
   },
   {
    "duration": -273,
    "start_time": "2022-01-28T20:16:37.515Z"
   },
   {
    "duration": -382,
    "start_time": "2022-01-28T20:16:37.626Z"
   },
   {
    "duration": -389,
    "start_time": "2022-01-28T20:16:37.634Z"
   },
   {
    "duration": -394,
    "start_time": "2022-01-28T20:16:37.641Z"
   },
   {
    "duration": -403,
    "start_time": "2022-01-28T20:16:37.652Z"
   },
   {
    "duration": -409,
    "start_time": "2022-01-28T20:16:37.659Z"
   },
   {
    "duration": -417,
    "start_time": "2022-01-28T20:16:37.668Z"
   },
   {
    "duration": -422,
    "start_time": "2022-01-28T20:16:37.675Z"
   },
   {
    "duration": -431,
    "start_time": "2022-01-28T20:16:37.685Z"
   },
   {
    "duration": -435,
    "start_time": "2022-01-28T20:16:37.691Z"
   },
   {
    "duration": -443,
    "start_time": "2022-01-28T20:16:37.700Z"
   },
   {
    "duration": -448,
    "start_time": "2022-01-28T20:16:37.707Z"
   },
   {
    "duration": -456,
    "start_time": "2022-01-28T20:16:37.716Z"
   },
   {
    "duration": -463,
    "start_time": "2022-01-28T20:16:37.724Z"
   },
   {
    "duration": -490,
    "start_time": "2022-01-28T20:16:37.753Z"
   },
   {
    "duration": -497,
    "start_time": "2022-01-28T20:16:37.761Z"
   },
   {
    "duration": -504,
    "start_time": "2022-01-28T20:16:37.770Z"
   },
   {
    "duration": -509,
    "start_time": "2022-01-28T20:16:37.776Z"
   },
   {
    "duration": -517,
    "start_time": "2022-01-28T20:16:37.786Z"
   },
   {
    "duration": -524,
    "start_time": "2022-01-28T20:16:37.794Z"
   },
   {
    "duration": -532,
    "start_time": "2022-01-28T20:16:37.803Z"
   },
   {
    "duration": -538,
    "start_time": "2022-01-28T20:16:37.810Z"
   },
   {
    "duration": -547,
    "start_time": "2022-01-28T20:16:37.820Z"
   },
   {
    "duration": -553,
    "start_time": "2022-01-28T20:16:37.827Z"
   },
   {
    "duration": -506,
    "start_time": "2022-01-28T20:16:37.837Z"
   },
   {
    "duration": -511,
    "start_time": "2022-01-28T20:16:37.844Z"
   },
   {
    "duration": 11,
    "start_time": "2022-01-28T20:17:10.519Z"
   },
   {
    "duration": 9,
    "start_time": "2022-01-28T20:17:10.532Z"
   },
   {
    "duration": 16,
    "start_time": "2022-01-28T20:17:10.543Z"
   },
   {
    "duration": 28,
    "start_time": "2022-01-28T20:17:10.561Z"
   },
   {
    "duration": 53,
    "start_time": "2022-01-28T20:17:10.591Z"
   },
   {
    "duration": 631,
    "start_time": "2022-01-28T20:17:10.647Z"
   },
   {
    "duration": 555,
    "start_time": "2022-01-28T20:17:11.282Z"
   },
   {
    "duration": 25,
    "start_time": "2022-01-28T20:17:11.840Z"
   },
   {
    "duration": 503,
    "start_time": "2022-01-28T20:17:11.867Z"
   },
   {
    "duration": 6,
    "start_time": "2022-01-28T20:17:12.373Z"
   },
   {
    "duration": 551,
    "start_time": "2022-01-28T20:17:12.383Z"
   },
   {
    "duration": 6,
    "start_time": "2022-01-28T20:17:12.937Z"
   },
   {
    "duration": 14,
    "start_time": "2022-01-28T20:17:12.945Z"
   },
   {
    "duration": 46,
    "start_time": "2022-01-28T20:17:12.962Z"
   },
   {
    "duration": 72,
    "start_time": "2022-01-28T20:17:13.010Z"
   },
   {
    "duration": 463,
    "start_time": "2022-01-28T20:17:13.084Z"
   },
   {
    "duration": 528,
    "start_time": "2022-01-28T20:17:13.549Z"
   },
   {
    "duration": 451,
    "start_time": "2022-01-28T20:17:14.081Z"
   },
   {
    "duration": 25,
    "start_time": "2022-01-28T20:17:14.535Z"
   },
   {
    "duration": 1069,
    "start_time": "2022-01-28T20:17:14.563Z"
   },
   {
    "duration": 25,
    "start_time": "2022-01-28T20:17:15.635Z"
   },
   {
    "duration": 1242,
    "start_time": "2022-01-28T20:17:15.663Z"
   },
   {
    "duration": 38,
    "start_time": "2022-01-28T20:17:16.908Z"
   },
   {
    "duration": 1049,
    "start_time": "2022-01-28T20:17:16.949Z"
   },
   {
    "duration": 12,
    "start_time": "2022-01-28T20:17:18.001Z"
   },
   {
    "duration": 21,
    "start_time": "2022-01-28T20:17:18.016Z"
   },
   {
    "duration": 14,
    "start_time": "2022-01-28T20:17:18.039Z"
   },
   {
    "duration": 6,
    "start_time": "2022-01-28T20:17:18.056Z"
   }
  ],
  "kernelspec": {
   "display_name": "Python 3.9.0 64-bit",
   "language": "python",
   "name": "python3"
  },
  "language_info": {
   "codemirror_mode": {
    "name": "ipython",
    "version": 3
   },
   "file_extension": ".py",
   "mimetype": "text/x-python",
   "name": "python",
   "nbconvert_exporter": "python",
   "pygments_lexer": "ipython3",
   "version": "3.9.0"
  },
  "toc": {
   "base_numbering": 1,
   "nav_menu": {
    "height": "472px",
    "width": "657px"
   },
   "number_sections": true,
   "sideBar": true,
   "skip_h1_title": false,
   "title_cell": "Содержание",
   "title_sidebar": "Contents",
   "toc_cell": true,
   "toc_position": {
    "height": "calc(100% - 180px)",
    "left": "10px",
    "top": "150px",
    "width": "286px"
   },
   "toc_section_display": true,
   "toc_window_display": false
  },
  "vscode": {
   "interpreter": {
    "hash": "aee8b7b246df8f9039afb4144a1f6fd8d2ca17a180786b69acc140d282b71a49"
   }
  }
 },
 "nbformat": 4,
 "nbformat_minor": 5
}
