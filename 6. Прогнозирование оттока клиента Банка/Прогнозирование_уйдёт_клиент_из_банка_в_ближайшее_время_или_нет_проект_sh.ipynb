{
 "cells": [
  {
   "cell_type": "markdown",
   "id": "8636cf40",
   "metadata": {
    "toc": true
   },
   "source": [
    "<h1>Содержание<span class=\"tocSkip\"></span></h1>\n",
    "<div class=\"toc\"><ul class=\"toc-item\"><li><span><a href=\"#Описание-проекта\" data-toc-modified-id=\"Описание-проекта-1\"><span class=\"toc-item-num\">1&nbsp;&nbsp;</span>Описание проекта</a></span></li><li><span><a href=\"#Описание-данных\" data-toc-modified-id=\"Описание-данных-2\"><span class=\"toc-item-num\">2&nbsp;&nbsp;</span>Описание данных</a></span></li><li><span><a href=\"#Изучение-данных\" data-toc-modified-id=\"Изучение-данных-3\"><span class=\"toc-item-num\">3&nbsp;&nbsp;</span>Изучение данных</a></span><ul class=\"toc-item\"><li><span><a href=\"#Вывод\" data-toc-modified-id=\"Вывод-3.1\"><span class=\"toc-item-num\">3.1&nbsp;&nbsp;</span>Вывод</a></span></li></ul></li><li><span><a href=\"#Предобработка-данных\" data-toc-modified-id=\"Предобработка-данных-4\"><span class=\"toc-item-num\">4&nbsp;&nbsp;</span>Предобработка данных</a></span><ul class=\"toc-item\"><li><span><a href=\"#Удалим-не-нужные-столбцы\" data-toc-modified-id=\"Удалим-не-нужные-столбцы-4.1\"><span class=\"toc-item-num\">4.1&nbsp;&nbsp;</span>Удалим не нужные столбцы</a></span></li><li><span><a href=\"#Займемся-названиями-столбцов\" data-toc-modified-id=\"Займемся-названиями-столбцов-4.2\"><span class=\"toc-item-num\">4.2&nbsp;&nbsp;</span>Займемся названиями столбцов</a></span></li><li><span><a href=\"#Заполним-пропущенные-значения\" data-toc-modified-id=\"Заполним-пропущенные-значения-4.3\"><span class=\"toc-item-num\">4.3&nbsp;&nbsp;</span>Заполним пропущенные значения</a></span></li><li><span><a href=\"#Преобразуем-категориальные-признаки-в-численные\" data-toc-modified-id=\"Преобразуем-категориальные-признаки-в-численные-4.4\"><span class=\"toc-item-num\">4.4&nbsp;&nbsp;</span>Преобразуем категориальные признаки в численные</a></span></li><li><span><a href=\"#Вывод\" data-toc-modified-id=\"Вывод-4.5\"><span class=\"toc-item-num\">4.5&nbsp;&nbsp;</span>Вывод</a></span></li></ul></li><li><span><a href=\"#Разбиение-данных-на-выборки\" data-toc-modified-id=\"Разбиение-данных-на-выборки-5\"><span class=\"toc-item-num\">5&nbsp;&nbsp;</span>Разбиение данных на выборки</a></span><ul class=\"toc-item\"><li><span><a href=\"#Разбиение-на-выборки\" data-toc-modified-id=\"Разбиение-на-выборки-5.1\"><span class=\"toc-item-num\">5.1&nbsp;&nbsp;</span>Разбиение на выборки</a></span></li><li><span><a href=\"#Обучение-моделей-без-учета-дисбаланса-классов\" data-toc-modified-id=\"Обучение-моделей-без-учета-дисбаланса-классов-5.2\"><span class=\"toc-item-num\">5.2&nbsp;&nbsp;</span>Обучение моделей без учета дисбаланса классов</a></span><ul class=\"toc-item\"><li><span><a href=\"#Логистическая-регрессия\" data-toc-modified-id=\"Логистическая-регрессия-5.2.1\"><span class=\"toc-item-num\">5.2.1&nbsp;&nbsp;</span>Логистическая регрессия</a></span></li><li><span><a href=\"#Дерево-решений\" data-toc-modified-id=\"Дерево-решений-5.2.2\"><span class=\"toc-item-num\">5.2.2&nbsp;&nbsp;</span>Дерево решений</a></span></li><li><span><a href=\"#Случайный-лес\" data-toc-modified-id=\"Случайный-лес-5.2.3\"><span class=\"toc-item-num\">5.2.3&nbsp;&nbsp;</span>Случайный лес</a></span></li></ul></li><li><span><a href=\"#Масштабирование-признаков\" data-toc-modified-id=\"Масштабирование-признаков-5.3\"><span class=\"toc-item-num\">5.3&nbsp;&nbsp;</span>Масштабирование признаков</a></span></li><li><span><a href=\"#Увеличение-выборки-методом-upsampling\" data-toc-modified-id=\"Увеличение-выборки-методом-upsampling-5.4\"><span class=\"toc-item-num\">5.4&nbsp;&nbsp;</span>Увеличение выборки методом upsampling</a></span></li><li><span><a href=\"#Уменьшение-выборки-методом-downsampling\" data-toc-modified-id=\"Уменьшение-выборки-методом-downsampling-5.5\"><span class=\"toc-item-num\">5.5&nbsp;&nbsp;</span>Уменьшение выборки методом downsampling</a></span></li><li><span><a href=\"#Вывод\" data-toc-modified-id=\"Вывод-5.6\"><span class=\"toc-item-num\">5.6&nbsp;&nbsp;</span>Вывод</a></span></li></ul></li><li><span><a href=\"#Обучение-моделей-машинного-обучения\" data-toc-modified-id=\"Обучение-моделей-машинного-обучения-6\"><span class=\"toc-item-num\">6&nbsp;&nbsp;</span>Обучение моделей машинного обучения</a></span><ul class=\"toc-item\"><li><span><a href=\"#Логистическая-регрессия\" data-toc-modified-id=\"Логистическая-регрессия-6.1\"><span class=\"toc-item-num\">6.1&nbsp;&nbsp;</span>Логистическая регрессия</a></span><ul class=\"toc-item\"><li><span><a href=\"#Логистическая-регресия-с-class_weight-=-balanced\" data-toc-modified-id=\"Логистическая-регресия-с-class_weight-=-balanced-6.1.1\"><span class=\"toc-item-num\">6.1.1&nbsp;&nbsp;</span>Логистическая регресия с <code>class_weight</code> = balanced</a></span></li><li><span><a href=\"#Логистическая-регресия-с-увеличение-выборки-методом-upsampling\" data-toc-modified-id=\"Логистическая-регресия-с-увеличение-выборки-методом-upsampling-6.1.2\"><span class=\"toc-item-num\">6.1.2&nbsp;&nbsp;</span>Логистическая регресия с увеличение выборки методом upsampling</a></span></li><li><span><a href=\"#Логистическая-регресия-с-уменьшение-выборки-методом-downsampling\" data-toc-modified-id=\"Логистическая-регресия-с-уменьшение-выборки-методом-downsampling-6.1.3\"><span class=\"toc-item-num\">6.1.3&nbsp;&nbsp;</span>Логистическая регресия с уменьшение выборки методом downsampling</a></span></li><li><span><a href=\"#Вывод\" data-toc-modified-id=\"Вывод-6.1.4\"><span class=\"toc-item-num\">6.1.4&nbsp;&nbsp;</span>Вывод</a></span></li></ul></li><li><span><a href=\"#Дерево-решений\" data-toc-modified-id=\"Дерево-решений-6.2\"><span class=\"toc-item-num\">6.2&nbsp;&nbsp;</span>Дерево решений</a></span><ul class=\"toc-item\"><li><span><a href=\"#Дерево-решений-с-class_weight-=-balanced\" data-toc-modified-id=\"Дерево-решений-с-class_weight-=-balanced-6.2.1\"><span class=\"toc-item-num\">6.2.1&nbsp;&nbsp;</span>Дерево решений с <code>class_weight</code> = balanced</a></span></li><li><span><a href=\"#Дерево-решений-с-увеличение-выборки-методом-upsampling\" data-toc-modified-id=\"Дерево-решений-с-увеличение-выборки-методом-upsampling-6.2.2\"><span class=\"toc-item-num\">6.2.2&nbsp;&nbsp;</span>Дерево решений с увеличение выборки методом upsampling</a></span></li><li><span><a href=\"#Дерево-решений-с-уменьшение-выборки-методом-downsampling\" data-toc-modified-id=\"Дерево-решений-с-уменьшение-выборки-методом-downsampling-6.2.3\"><span class=\"toc-item-num\">6.2.3&nbsp;&nbsp;</span>Дерево решений с уменьшение выборки методом downsampling</a></span></li><li><span><a href=\"#Вывод\" data-toc-modified-id=\"Вывод-6.2.4\"><span class=\"toc-item-num\">6.2.4&nbsp;&nbsp;</span>Вывод</a></span></li></ul></li><li><span><a href=\"#Случайный-лес\" data-toc-modified-id=\"Случайный-лес-6.3\"><span class=\"toc-item-num\">6.3&nbsp;&nbsp;</span>Случайный лес</a></span><ul class=\"toc-item\"><li><span><a href=\"#Случайный-лес-с-class_weight-=-balanced\" data-toc-modified-id=\"Случайный-лес-с-class_weight-=-balanced-6.3.1\"><span class=\"toc-item-num\">6.3.1&nbsp;&nbsp;</span>Случайный лес с <code>class_weight</code> = balanced</a></span></li><li><span><a href=\"#Случайный-лес-с-увеличение-выборки-методом-upsampling\" data-toc-modified-id=\"Случайный-лес-с-увеличение-выборки-методом-upsampling-6.3.2\"><span class=\"toc-item-num\">6.3.2&nbsp;&nbsp;</span>Случайный лес с увеличение выборки методом upsampling</a></span></li><li><span><a href=\"#Случайный-лес-с-уменьшение-выборки-методом-downsampling\" data-toc-modified-id=\"Случайный-лес-с-уменьшение-выборки-методом-downsampling-6.3.3\"><span class=\"toc-item-num\">6.3.3&nbsp;&nbsp;</span>Случайный лес с уменьшение выборки методом downsampling</a></span></li><li><span><a href=\"#Вывод\" data-toc-modified-id=\"Вывод-6.3.4\"><span class=\"toc-item-num\">6.3.4&nbsp;&nbsp;</span>Вывод</a></span></li></ul></li><li><span><a href=\"#Вывод\" data-toc-modified-id=\"Вывод-6.4\"><span class=\"toc-item-num\">6.4&nbsp;&nbsp;</span>Вывод</a></span></li></ul></li><li><span><a href=\"#Тестирование-модели\" data-toc-modified-id=\"Тестирование-модели-7\"><span class=\"toc-item-num\">7&nbsp;&nbsp;</span>Тестирование модели</a></span></li><li><span><a href=\"#Общий-вывод\" data-toc-modified-id=\"Общий-вывод-8\"><span class=\"toc-item-num\">8&nbsp;&nbsp;</span>Общий вывод</a></span></li></ul></div>"
   ]
  },
  {
   "cell_type": "markdown",
   "id": "71d91862",
   "metadata": {},
   "source": [
    "# Описание проекта"
   ]
  },
  {
   "cell_type": "markdown",
   "id": "1284bc57",
   "metadata": {},
   "source": [
    "Из «Бета-Банка» стали уходить клиенты. Каждый месяц. Немного, но заметно. Банковские маркетологи посчитали: сохранять текущих клиентов дешевле, чем привлекать новых.  \n",
    "Нужно спрогнозировать, уйдёт клиент из банка в ближайшее время или нет. Вам предоставлены исторические данные о поведении клиентов и расторжении договоров с банком.  \n",
    "Постройте модель с предельно большим значением F1-меры. Чтобы сдать проект успешно, нужно довести метрику до 0.59. Проверьте F1-меру на тестовой выборке самостоятельно.  \n",
    "Дополнительно измеряйте AUC-ROC, сравнивайте её значение с F1-мерой.  "
   ]
  },
  {
   "cell_type": "markdown",
   "id": "4c193321",
   "metadata": {},
   "source": [
    "# Описание данных"
   ]
  },
  {
   "cell_type": "markdown",
   "id": "d1521e22",
   "metadata": {},
   "source": [
    "**Признаки**\n",
    "- RowNumber — индекс строки в данных  \n",
    "- CustomerId — уникальный идентификатор клиента  \n",
    "- Surname — фамилия  \n",
    "- CreditScore — кредитный рейтинг  \n",
    "- Geography — страна проживания  \n",
    "- Gender — пол  \n",
    "- Age — возраст  \n",
    "- Tenure — сколько лет человек является клиентом банка  \n",
    "- Balance — баланс на счёте  \n",
    "- NumOfProducts — количество продуктов банка, используемых клиентом  \n",
    "- HasCrCard — наличие кредитной карты  \n",
    "- IsActiveMember — активность клиента  \n",
    "- EstimatedSalary — предполагаемая зарплата \n",
    "\n",
    "**Целевой признак**\n",
    "- Exited — факт ухода клиента"
   ]
  },
  {
   "cell_type": "markdown",
   "id": "500f9eaa",
   "metadata": {},
   "source": [
    "# Изучение данных"
   ]
  },
  {
   "cell_type": "markdown",
   "id": "faaaa641",
   "metadata": {},
   "source": [
    "Импортируем необходимые библиотеки"
   ]
  },
  {
   "cell_type": "code",
   "execution_count": 1,
   "id": "f51b329c",
   "metadata": {},
   "outputs": [],
   "source": [
    "import pandas as pd\n",
    "from sklearn.model_selection import train_test_split\n",
    "from sklearn.preprocessing import StandardScaler\n",
    "from sklearn.utils import shuffle\n",
    "from sklearn.metrics import f1_score\n",
    "from sklearn.metrics import roc_auc_score\n",
    "from sklearn.linear_model import LogisticRegression\n",
    "from sklearn.tree import DecisionTreeClassifier\n",
    "from sklearn.ensemble import RandomForestClassifier"
   ]
  },
  {
   "cell_type": "markdown",
   "id": "d211f15b",
   "metadata": {},
   "source": [
    "Загрузим датасет и посмотрим на 10 строчек из него"
   ]
  },
  {
   "cell_type": "code",
   "execution_count": 2,
   "id": "947a9fc9",
   "metadata": {},
   "outputs": [],
   "source": [
    "df = pd.read_csv('Churn.csv')"
   ]
  },
  {
   "cell_type": "code",
   "execution_count": 3,
   "id": "cb14b3b3",
   "metadata": {},
   "outputs": [
    {
     "data": {
      "text/html": [
       "<div>\n",
       "<style scoped>\n",
       "    .dataframe tbody tr th:only-of-type {\n",
       "        vertical-align: middle;\n",
       "    }\n",
       "\n",
       "    .dataframe tbody tr th {\n",
       "        vertical-align: top;\n",
       "    }\n",
       "\n",
       "    .dataframe thead th {\n",
       "        text-align: right;\n",
       "    }\n",
       "</style>\n",
       "<table border=\"1\" class=\"dataframe\">\n",
       "  <thead>\n",
       "    <tr style=\"text-align: right;\">\n",
       "      <th></th>\n",
       "      <th>RowNumber</th>\n",
       "      <th>CustomerId</th>\n",
       "      <th>Surname</th>\n",
       "      <th>CreditScore</th>\n",
       "      <th>Geography</th>\n",
       "      <th>Gender</th>\n",
       "      <th>Age</th>\n",
       "      <th>Tenure</th>\n",
       "      <th>Balance</th>\n",
       "      <th>NumOfProducts</th>\n",
       "      <th>HasCrCard</th>\n",
       "      <th>IsActiveMember</th>\n",
       "      <th>EstimatedSalary</th>\n",
       "      <th>Exited</th>\n",
       "    </tr>\n",
       "  </thead>\n",
       "  <tbody>\n",
       "    <tr>\n",
       "      <th>1895</th>\n",
       "      <td>1896</td>\n",
       "      <td>15649418</td>\n",
       "      <td>Krylov</td>\n",
       "      <td>776</td>\n",
       "      <td>France</td>\n",
       "      <td>Female</td>\n",
       "      <td>29</td>\n",
       "      <td>7.0</td>\n",
       "      <td>178171.04</td>\n",
       "      <td>2</td>\n",
       "      <td>1</td>\n",
       "      <td>1</td>\n",
       "      <td>115818.51</td>\n",
       "      <td>0</td>\n",
       "    </tr>\n",
       "    <tr>\n",
       "      <th>4823</th>\n",
       "      <td>4824</td>\n",
       "      <td>15744789</td>\n",
       "      <td>McConnell</td>\n",
       "      <td>786</td>\n",
       "      <td>Spain</td>\n",
       "      <td>Female</td>\n",
       "      <td>32</td>\n",
       "      <td>6.0</td>\n",
       "      <td>114512.59</td>\n",
       "      <td>1</td>\n",
       "      <td>1</td>\n",
       "      <td>0</td>\n",
       "      <td>15796.66</td>\n",
       "      <td>0</td>\n",
       "    </tr>\n",
       "    <tr>\n",
       "      <th>1996</th>\n",
       "      <td>1997</td>\n",
       "      <td>15755678</td>\n",
       "      <td>Kovalyov</td>\n",
       "      <td>534</td>\n",
       "      <td>France</td>\n",
       "      <td>Male</td>\n",
       "      <td>62</td>\n",
       "      <td>2.0</td>\n",
       "      <td>0.00</td>\n",
       "      <td>2</td>\n",
       "      <td>0</td>\n",
       "      <td>0</td>\n",
       "      <td>42763.12</td>\n",
       "      <td>1</td>\n",
       "    </tr>\n",
       "    <tr>\n",
       "      <th>5849</th>\n",
       "      <td>5850</td>\n",
       "      <td>15608873</td>\n",
       "      <td>Smith</td>\n",
       "      <td>665</td>\n",
       "      <td>France</td>\n",
       "      <td>Male</td>\n",
       "      <td>51</td>\n",
       "      <td>2.0</td>\n",
       "      <td>0.00</td>\n",
       "      <td>1</td>\n",
       "      <td>0</td>\n",
       "      <td>0</td>\n",
       "      <td>53353.36</td>\n",
       "      <td>0</td>\n",
       "    </tr>\n",
       "    <tr>\n",
       "      <th>6303</th>\n",
       "      <td>6304</td>\n",
       "      <td>15591169</td>\n",
       "      <td>Hawes</td>\n",
       "      <td>788</td>\n",
       "      <td>Germany</td>\n",
       "      <td>Female</td>\n",
       "      <td>49</td>\n",
       "      <td>4.0</td>\n",
       "      <td>137455.99</td>\n",
       "      <td>1</td>\n",
       "      <td>1</td>\n",
       "      <td>0</td>\n",
       "      <td>184178.29</td>\n",
       "      <td>1</td>\n",
       "    </tr>\n",
       "    <tr>\n",
       "      <th>8279</th>\n",
       "      <td>8280</td>\n",
       "      <td>15813283</td>\n",
       "      <td>Mai</td>\n",
       "      <td>605</td>\n",
       "      <td>France</td>\n",
       "      <td>Female</td>\n",
       "      <td>34</td>\n",
       "      <td>2.0</td>\n",
       "      <td>0.00</td>\n",
       "      <td>1</td>\n",
       "      <td>0</td>\n",
       "      <td>0</td>\n",
       "      <td>35982.42</td>\n",
       "      <td>0</td>\n",
       "    </tr>\n",
       "    <tr>\n",
       "      <th>9121</th>\n",
       "      <td>9122</td>\n",
       "      <td>15693526</td>\n",
       "      <td>Ku</td>\n",
       "      <td>618</td>\n",
       "      <td>France</td>\n",
       "      <td>Female</td>\n",
       "      <td>40</td>\n",
       "      <td>0.0</td>\n",
       "      <td>0.00</td>\n",
       "      <td>1</td>\n",
       "      <td>1</td>\n",
       "      <td>0</td>\n",
       "      <td>119059.13</td>\n",
       "      <td>0</td>\n",
       "    </tr>\n",
       "    <tr>\n",
       "      <th>1696</th>\n",
       "      <td>1697</td>\n",
       "      <td>15700255</td>\n",
       "      <td>Robson</td>\n",
       "      <td>814</td>\n",
       "      <td>Germany</td>\n",
       "      <td>Male</td>\n",
       "      <td>44</td>\n",
       "      <td>8.0</td>\n",
       "      <td>95488.82</td>\n",
       "      <td>2</td>\n",
       "      <td>0</td>\n",
       "      <td>0</td>\n",
       "      <td>107013.59</td>\n",
       "      <td>0</td>\n",
       "    </tr>\n",
       "    <tr>\n",
       "      <th>4507</th>\n",
       "      <td>4508</td>\n",
       "      <td>15587690</td>\n",
       "      <td>Madueke</td>\n",
       "      <td>592</td>\n",
       "      <td>France</td>\n",
       "      <td>Male</td>\n",
       "      <td>28</td>\n",
       "      <td>2.0</td>\n",
       "      <td>116498.22</td>\n",
       "      <td>1</td>\n",
       "      <td>1</td>\n",
       "      <td>0</td>\n",
       "      <td>144290.25</td>\n",
       "      <td>0</td>\n",
       "    </tr>\n",
       "    <tr>\n",
       "      <th>1177</th>\n",
       "      <td>1178</td>\n",
       "      <td>15651369</td>\n",
       "      <td>Wright</td>\n",
       "      <td>626</td>\n",
       "      <td>France</td>\n",
       "      <td>Male</td>\n",
       "      <td>21</td>\n",
       "      <td>1.0</td>\n",
       "      <td>0.00</td>\n",
       "      <td>2</td>\n",
       "      <td>1</td>\n",
       "      <td>0</td>\n",
       "      <td>66232.23</td>\n",
       "      <td>0</td>\n",
       "    </tr>\n",
       "  </tbody>\n",
       "</table>\n",
       "</div>"
      ],
      "text/plain": [
       "      RowNumber  CustomerId    Surname  CreditScore Geography  Gender  Age  \\\n",
       "1895       1896    15649418     Krylov          776    France  Female   29   \n",
       "4823       4824    15744789  McConnell          786     Spain  Female   32   \n",
       "1996       1997    15755678   Kovalyov          534    France    Male   62   \n",
       "5849       5850    15608873      Smith          665    France    Male   51   \n",
       "6303       6304    15591169      Hawes          788   Germany  Female   49   \n",
       "8279       8280    15813283        Mai          605    France  Female   34   \n",
       "9121       9122    15693526         Ku          618    France  Female   40   \n",
       "1696       1697    15700255     Robson          814   Germany    Male   44   \n",
       "4507       4508    15587690    Madueke          592    France    Male   28   \n",
       "1177       1178    15651369     Wright          626    France    Male   21   \n",
       "\n",
       "      Tenure    Balance  NumOfProducts  HasCrCard  IsActiveMember  \\\n",
       "1895     7.0  178171.04              2          1               1   \n",
       "4823     6.0  114512.59              1          1               0   \n",
       "1996     2.0       0.00              2          0               0   \n",
       "5849     2.0       0.00              1          0               0   \n",
       "6303     4.0  137455.99              1          1               0   \n",
       "8279     2.0       0.00              1          0               0   \n",
       "9121     0.0       0.00              1          1               0   \n",
       "1696     8.0   95488.82              2          0               0   \n",
       "4507     2.0  116498.22              1          1               0   \n",
       "1177     1.0       0.00              2          1               0   \n",
       "\n",
       "      EstimatedSalary  Exited  \n",
       "1895        115818.51       0  \n",
       "4823         15796.66       0  \n",
       "1996         42763.12       1  \n",
       "5849         53353.36       0  \n",
       "6303        184178.29       1  \n",
       "8279         35982.42       0  \n",
       "9121        119059.13       0  \n",
       "1696        107013.59       0  \n",
       "4507        144290.25       0  \n",
       "1177         66232.23       0  "
      ]
     },
     "execution_count": 3,
     "metadata": {},
     "output_type": "execute_result"
    }
   ],
   "source": [
    "df.sample(10)"
   ]
  },
  {
   "cell_type": "markdown",
   "id": "f7b03ce2",
   "metadata": {},
   "source": [
    "Выведем информацию о таблице"
   ]
  },
  {
   "cell_type": "code",
   "execution_count": 4,
   "id": "9d553cee",
   "metadata": {},
   "outputs": [
    {
     "name": "stdout",
     "output_type": "stream",
     "text": [
      "<class 'pandas.core.frame.DataFrame'>\n",
      "RangeIndex: 10000 entries, 0 to 9999\n",
      "Data columns (total 14 columns):\n",
      " #   Column           Non-Null Count  Dtype  \n",
      "---  ------           --------------  -----  \n",
      " 0   RowNumber        10000 non-null  int64  \n",
      " 1   CustomerId       10000 non-null  int64  \n",
      " 2   Surname          10000 non-null  object \n",
      " 3   CreditScore      10000 non-null  int64  \n",
      " 4   Geography        10000 non-null  object \n",
      " 5   Gender           10000 non-null  object \n",
      " 6   Age              10000 non-null  int64  \n",
      " 7   Tenure           9091 non-null   float64\n",
      " 8   Balance          10000 non-null  float64\n",
      " 9   NumOfProducts    10000 non-null  int64  \n",
      " 10  HasCrCard        10000 non-null  int64  \n",
      " 11  IsActiveMember   10000 non-null  int64  \n",
      " 12  EstimatedSalary  10000 non-null  float64\n",
      " 13  Exited           10000 non-null  int64  \n",
      "dtypes: float64(3), int64(8), object(3)\n",
      "memory usage: 1.1+ MB\n"
     ]
    }
   ],
   "source": [
    "df.info()"
   ]
  },
  {
   "cell_type": "markdown",
   "id": "53e0a6f7",
   "metadata": {},
   "source": [
    "Сразу бросается в глаза, что столбцы необходимо привести к snake_case.\n",
    "Из таблицы видно, что некоторые столбцы имеют тип данных `object`, необходимо будет преобразовать категориальные признаки в численные. Столбцы `RowNumber`, `CustomerId`, `Surname` для дальнейшего анализа будут не нужны, необходимо их будет убрать.  \n",
    "Так же видно, что есть пропущенные значения, посмотрим на их количество и процент от общего количества строк данных."
   ]
  },
  {
   "cell_type": "code",
   "execution_count": 5,
   "id": "86d2f709",
   "metadata": {},
   "outputs": [
    {
     "data": {
      "text/html": [
       "<div>\n",
       "<style scoped>\n",
       "    .dataframe tbody tr th:only-of-type {\n",
       "        vertical-align: middle;\n",
       "    }\n",
       "\n",
       "    .dataframe tbody tr th {\n",
       "        vertical-align: top;\n",
       "    }\n",
       "\n",
       "    .dataframe thead th {\n",
       "        text-align: right;\n",
       "    }\n",
       "</style>\n",
       "<table border=\"1\" class=\"dataframe\">\n",
       "  <thead>\n",
       "    <tr style=\"text-align: right;\">\n",
       "      <th></th>\n",
       "      <th>count_missing</th>\n",
       "      <th>percent_missing</th>\n",
       "    </tr>\n",
       "  </thead>\n",
       "  <tbody>\n",
       "    <tr>\n",
       "      <th>Tenure</th>\n",
       "      <td>909</td>\n",
       "      <td>9.09</td>\n",
       "    </tr>\n",
       "    <tr>\n",
       "      <th>RowNumber</th>\n",
       "      <td>0</td>\n",
       "      <td>0.00</td>\n",
       "    </tr>\n",
       "    <tr>\n",
       "      <th>CustomerId</th>\n",
       "      <td>0</td>\n",
       "      <td>0.00</td>\n",
       "    </tr>\n",
       "    <tr>\n",
       "      <th>Surname</th>\n",
       "      <td>0</td>\n",
       "      <td>0.00</td>\n",
       "    </tr>\n",
       "    <tr>\n",
       "      <th>CreditScore</th>\n",
       "      <td>0</td>\n",
       "      <td>0.00</td>\n",
       "    </tr>\n",
       "    <tr>\n",
       "      <th>Geography</th>\n",
       "      <td>0</td>\n",
       "      <td>0.00</td>\n",
       "    </tr>\n",
       "    <tr>\n",
       "      <th>Gender</th>\n",
       "      <td>0</td>\n",
       "      <td>0.00</td>\n",
       "    </tr>\n",
       "    <tr>\n",
       "      <th>Age</th>\n",
       "      <td>0</td>\n",
       "      <td>0.00</td>\n",
       "    </tr>\n",
       "    <tr>\n",
       "      <th>Balance</th>\n",
       "      <td>0</td>\n",
       "      <td>0.00</td>\n",
       "    </tr>\n",
       "    <tr>\n",
       "      <th>NumOfProducts</th>\n",
       "      <td>0</td>\n",
       "      <td>0.00</td>\n",
       "    </tr>\n",
       "    <tr>\n",
       "      <th>HasCrCard</th>\n",
       "      <td>0</td>\n",
       "      <td>0.00</td>\n",
       "    </tr>\n",
       "    <tr>\n",
       "      <th>IsActiveMember</th>\n",
       "      <td>0</td>\n",
       "      <td>0.00</td>\n",
       "    </tr>\n",
       "    <tr>\n",
       "      <th>EstimatedSalary</th>\n",
       "      <td>0</td>\n",
       "      <td>0.00</td>\n",
       "    </tr>\n",
       "    <tr>\n",
       "      <th>Exited</th>\n",
       "      <td>0</td>\n",
       "      <td>0.00</td>\n",
       "    </tr>\n",
       "  </tbody>\n",
       "</table>\n",
       "</div>"
      ],
      "text/plain": [
       "                 count_missing  percent_missing\n",
       "Tenure                     909             9.09\n",
       "RowNumber                    0             0.00\n",
       "CustomerId                   0             0.00\n",
       "Surname                      0             0.00\n",
       "CreditScore                  0             0.00\n",
       "Geography                    0             0.00\n",
       "Gender                       0             0.00\n",
       "Age                          0             0.00\n",
       "Balance                      0             0.00\n",
       "NumOfProducts                0             0.00\n",
       "HasCrCard                    0             0.00\n",
       "IsActiveMember               0             0.00\n",
       "EstimatedSalary              0             0.00\n",
       "Exited                       0             0.00"
      ]
     },
     "execution_count": 5,
     "metadata": {},
     "output_type": "execute_result"
    }
   ],
   "source": [
    "pd.DataFrame({\n",
    "    'count_missing': df.isna().sum(),\n",
    "    'percent_missing': df.isna().mean() * 100\n",
    "}).sort_values(by='count_missing', ascending=False)"
   ]
  },
  {
   "cell_type": "markdown",
   "id": "14f38986",
   "metadata": {},
   "source": [
    "Как мы видим, в столбце `Tenure` — сколько лет человек является клиентом банка, есть 909 пропусков, это 9.09% от общего количество данных. Посмотрим на строки с пропущенными значениями."
   ]
  },
  {
   "cell_type": "code",
   "execution_count": 6,
   "id": "f33c97d9",
   "metadata": {},
   "outputs": [
    {
     "data": {
      "text/html": [
       "<div>\n",
       "<style scoped>\n",
       "    .dataframe tbody tr th:only-of-type {\n",
       "        vertical-align: middle;\n",
       "    }\n",
       "\n",
       "    .dataframe tbody tr th {\n",
       "        vertical-align: top;\n",
       "    }\n",
       "\n",
       "    .dataframe thead th {\n",
       "        text-align: right;\n",
       "    }\n",
       "</style>\n",
       "<table border=\"1\" class=\"dataframe\">\n",
       "  <thead>\n",
       "    <tr style=\"text-align: right;\">\n",
       "      <th></th>\n",
       "      <th>RowNumber</th>\n",
       "      <th>CustomerId</th>\n",
       "      <th>Surname</th>\n",
       "      <th>CreditScore</th>\n",
       "      <th>Geography</th>\n",
       "      <th>Gender</th>\n",
       "      <th>Age</th>\n",
       "      <th>Tenure</th>\n",
       "      <th>Balance</th>\n",
       "      <th>NumOfProducts</th>\n",
       "      <th>HasCrCard</th>\n",
       "      <th>IsActiveMember</th>\n",
       "      <th>EstimatedSalary</th>\n",
       "      <th>Exited</th>\n",
       "    </tr>\n",
       "  </thead>\n",
       "  <tbody>\n",
       "    <tr>\n",
       "      <th>6487</th>\n",
       "      <td>6488</td>\n",
       "      <td>15574283</td>\n",
       "      <td>Padovano</td>\n",
       "      <td>580</td>\n",
       "      <td>France</td>\n",
       "      <td>Male</td>\n",
       "      <td>31</td>\n",
       "      <td>NaN</td>\n",
       "      <td>0.00</td>\n",
       "      <td>2</td>\n",
       "      <td>0</td>\n",
       "      <td>1</td>\n",
       "      <td>64014.24</td>\n",
       "      <td>0</td>\n",
       "    </tr>\n",
       "    <tr>\n",
       "      <th>3183</th>\n",
       "      <td>3184</td>\n",
       "      <td>15734161</td>\n",
       "      <td>Nnonso</td>\n",
       "      <td>636</td>\n",
       "      <td>France</td>\n",
       "      <td>Male</td>\n",
       "      <td>43</td>\n",
       "      <td>NaN</td>\n",
       "      <td>0.00</td>\n",
       "      <td>2</td>\n",
       "      <td>1</td>\n",
       "      <td>0</td>\n",
       "      <td>43128.95</td>\n",
       "      <td>0</td>\n",
       "    </tr>\n",
       "    <tr>\n",
       "      <th>1447</th>\n",
       "      <td>1448</td>\n",
       "      <td>15697311</td>\n",
       "      <td>Nebechukwu</td>\n",
       "      <td>697</td>\n",
       "      <td>Spain</td>\n",
       "      <td>Male</td>\n",
       "      <td>56</td>\n",
       "      <td>NaN</td>\n",
       "      <td>110802.03</td>\n",
       "      <td>1</td>\n",
       "      <td>1</td>\n",
       "      <td>1</td>\n",
       "      <td>50230.31</td>\n",
       "      <td>1</td>\n",
       "    </tr>\n",
       "    <tr>\n",
       "      <th>7705</th>\n",
       "      <td>7706</td>\n",
       "      <td>15647306</td>\n",
       "      <td>Gibbs</td>\n",
       "      <td>777</td>\n",
       "      <td>France</td>\n",
       "      <td>Female</td>\n",
       "      <td>29</td>\n",
       "      <td>NaN</td>\n",
       "      <td>131240.61</td>\n",
       "      <td>1</td>\n",
       "      <td>1</td>\n",
       "      <td>1</td>\n",
       "      <td>163746.09</td>\n",
       "      <td>1</td>\n",
       "    </tr>\n",
       "    <tr>\n",
       "      <th>7190</th>\n",
       "      <td>7191</td>\n",
       "      <td>15774262</td>\n",
       "      <td>Hobson</td>\n",
       "      <td>597</td>\n",
       "      <td>Germany</td>\n",
       "      <td>Male</td>\n",
       "      <td>52</td>\n",
       "      <td>NaN</td>\n",
       "      <td>83693.34</td>\n",
       "      <td>2</td>\n",
       "      <td>1</td>\n",
       "      <td>1</td>\n",
       "      <td>161083.53</td>\n",
       "      <td>0</td>\n",
       "    </tr>\n",
       "    <tr>\n",
       "      <th>6479</th>\n",
       "      <td>6480</td>\n",
       "      <td>15704160</td>\n",
       "      <td>Wan</td>\n",
       "      <td>648</td>\n",
       "      <td>Spain</td>\n",
       "      <td>Male</td>\n",
       "      <td>49</td>\n",
       "      <td>NaN</td>\n",
       "      <td>0.00</td>\n",
       "      <td>1</td>\n",
       "      <td>1</td>\n",
       "      <td>0</td>\n",
       "      <td>149946.43</td>\n",
       "      <td>1</td>\n",
       "    </tr>\n",
       "    <tr>\n",
       "      <th>5672</th>\n",
       "      <td>5673</td>\n",
       "      <td>15622442</td>\n",
       "      <td>Mazzi</td>\n",
       "      <td>619</td>\n",
       "      <td>France</td>\n",
       "      <td>Male</td>\n",
       "      <td>29</td>\n",
       "      <td>NaN</td>\n",
       "      <td>0.00</td>\n",
       "      <td>2</td>\n",
       "      <td>1</td>\n",
       "      <td>0</td>\n",
       "      <td>194310.10</td>\n",
       "      <td>0</td>\n",
       "    </tr>\n",
       "    <tr>\n",
       "      <th>3731</th>\n",
       "      <td>3732</td>\n",
       "      <td>15568573</td>\n",
       "      <td>Graham</td>\n",
       "      <td>554</td>\n",
       "      <td>Germany</td>\n",
       "      <td>Female</td>\n",
       "      <td>51</td>\n",
       "      <td>NaN</td>\n",
       "      <td>105701.91</td>\n",
       "      <td>1</td>\n",
       "      <td>0</td>\n",
       "      <td>1</td>\n",
       "      <td>179797.79</td>\n",
       "      <td>1</td>\n",
       "    </tr>\n",
       "    <tr>\n",
       "      <th>6213</th>\n",
       "      <td>6214</td>\n",
       "      <td>15697678</td>\n",
       "      <td>Maxwell</td>\n",
       "      <td>590</td>\n",
       "      <td>Germany</td>\n",
       "      <td>Male</td>\n",
       "      <td>36</td>\n",
       "      <td>NaN</td>\n",
       "      <td>92340.69</td>\n",
       "      <td>2</td>\n",
       "      <td>1</td>\n",
       "      <td>1</td>\n",
       "      <td>174667.58</td>\n",
       "      <td>0</td>\n",
       "    </tr>\n",
       "    <tr>\n",
       "      <th>7904</th>\n",
       "      <td>7905</td>\n",
       "      <td>15783338</td>\n",
       "      <td>Williams</td>\n",
       "      <td>449</td>\n",
       "      <td>Spain</td>\n",
       "      <td>Male</td>\n",
       "      <td>32</td>\n",
       "      <td>NaN</td>\n",
       "      <td>155619.36</td>\n",
       "      <td>1</td>\n",
       "      <td>1</td>\n",
       "      <td>1</td>\n",
       "      <td>166692.03</td>\n",
       "      <td>0</td>\n",
       "    </tr>\n",
       "  </tbody>\n",
       "</table>\n",
       "</div>"
      ],
      "text/plain": [
       "      RowNumber  CustomerId     Surname  CreditScore Geography  Gender  Age  \\\n",
       "6487       6488    15574283    Padovano          580    France    Male   31   \n",
       "3183       3184    15734161      Nnonso          636    France    Male   43   \n",
       "1447       1448    15697311  Nebechukwu          697     Spain    Male   56   \n",
       "7705       7706    15647306       Gibbs          777    France  Female   29   \n",
       "7190       7191    15774262      Hobson          597   Germany    Male   52   \n",
       "6479       6480    15704160         Wan          648     Spain    Male   49   \n",
       "5672       5673    15622442       Mazzi          619    France    Male   29   \n",
       "3731       3732    15568573      Graham          554   Germany  Female   51   \n",
       "6213       6214    15697678     Maxwell          590   Germany    Male   36   \n",
       "7904       7905    15783338    Williams          449     Spain    Male   32   \n",
       "\n",
       "      Tenure    Balance  NumOfProducts  HasCrCard  IsActiveMember  \\\n",
       "6487     NaN       0.00              2          0               1   \n",
       "3183     NaN       0.00              2          1               0   \n",
       "1447     NaN  110802.03              1          1               1   \n",
       "7705     NaN  131240.61              1          1               1   \n",
       "7190     NaN   83693.34              2          1               1   \n",
       "6479     NaN       0.00              1          1               0   \n",
       "5672     NaN       0.00              2          1               0   \n",
       "3731     NaN  105701.91              1          0               1   \n",
       "6213     NaN   92340.69              2          1               1   \n",
       "7904     NaN  155619.36              1          1               1   \n",
       "\n",
       "      EstimatedSalary  Exited  \n",
       "6487         64014.24       0  \n",
       "3183         43128.95       0  \n",
       "1447         50230.31       1  \n",
       "7705        163746.09       1  \n",
       "7190        161083.53       0  \n",
       "6479        149946.43       1  \n",
       "5672        194310.10       0  \n",
       "3731        179797.79       1  \n",
       "6213        174667.58       0  \n",
       "7904        166692.03       0  "
      ]
     },
     "execution_count": 6,
     "metadata": {},
     "output_type": "execute_result"
    }
   ],
   "source": [
    "df[df['Tenure'].isna()].sample(10)"
   ]
  },
  {
   "cell_type": "markdown",
   "id": "a819ae02",
   "metadata": {},
   "source": [
    "Видимо была допущена ошибка при выгрузке данных и поэтому образовались пропущенные значения. Достоверно восстановить данные не получится, но удалять их не хочется так как пропущен достаточно большой процент данных. Поэтому предлагаю сгруппировать данные по стране проживания и полу и заполнить пропущенные значения в стобце `Tenure` медианным значением по группе.  "
   ]
  },
  {
   "cell_type": "code",
   "execution_count": 7,
   "id": "f5c1f734",
   "metadata": {},
   "outputs": [
    {
     "name": "stdout",
     "output_type": "stream",
     "text": [
      "Количество дубликатов в данных равно 0\n"
     ]
    }
   ],
   "source": [
    "print(f'Количество дубликатов в данных равно {df.duplicated().sum()}')"
   ]
  },
  {
   "cell_type": "markdown",
   "id": "962ffb48",
   "metadata": {},
   "source": [
    "Выведем статистическую информацию"
   ]
  },
  {
   "cell_type": "code",
   "execution_count": 8,
   "id": "8b5660b6",
   "metadata": {},
   "outputs": [
    {
     "data": {
      "text/html": [
       "<div>\n",
       "<style scoped>\n",
       "    .dataframe tbody tr th:only-of-type {\n",
       "        vertical-align: middle;\n",
       "    }\n",
       "\n",
       "    .dataframe tbody tr th {\n",
       "        vertical-align: top;\n",
       "    }\n",
       "\n",
       "    .dataframe thead th {\n",
       "        text-align: right;\n",
       "    }\n",
       "</style>\n",
       "<table border=\"1\" class=\"dataframe\">\n",
       "  <thead>\n",
       "    <tr style=\"text-align: right;\">\n",
       "      <th></th>\n",
       "      <th>count</th>\n",
       "      <th>mean</th>\n",
       "      <th>std</th>\n",
       "      <th>min</th>\n",
       "      <th>25%</th>\n",
       "      <th>50%</th>\n",
       "      <th>75%</th>\n",
       "      <th>max</th>\n",
       "    </tr>\n",
       "  </thead>\n",
       "  <tbody>\n",
       "    <tr>\n",
       "      <th>RowNumber</th>\n",
       "      <td>10000.0</td>\n",
       "      <td>5.000500e+03</td>\n",
       "      <td>2886.895680</td>\n",
       "      <td>1.00</td>\n",
       "      <td>2500.75</td>\n",
       "      <td>5.000500e+03</td>\n",
       "      <td>7.500250e+03</td>\n",
       "      <td>10000.00</td>\n",
       "    </tr>\n",
       "    <tr>\n",
       "      <th>CustomerId</th>\n",
       "      <td>10000.0</td>\n",
       "      <td>1.569094e+07</td>\n",
       "      <td>71936.186123</td>\n",
       "      <td>15565701.00</td>\n",
       "      <td>15628528.25</td>\n",
       "      <td>1.569074e+07</td>\n",
       "      <td>1.575323e+07</td>\n",
       "      <td>15815690.00</td>\n",
       "    </tr>\n",
       "    <tr>\n",
       "      <th>CreditScore</th>\n",
       "      <td>10000.0</td>\n",
       "      <td>6.505288e+02</td>\n",
       "      <td>96.653299</td>\n",
       "      <td>350.00</td>\n",
       "      <td>584.00</td>\n",
       "      <td>6.520000e+02</td>\n",
       "      <td>7.180000e+02</td>\n",
       "      <td>850.00</td>\n",
       "    </tr>\n",
       "    <tr>\n",
       "      <th>Age</th>\n",
       "      <td>10000.0</td>\n",
       "      <td>3.892180e+01</td>\n",
       "      <td>10.487806</td>\n",
       "      <td>18.00</td>\n",
       "      <td>32.00</td>\n",
       "      <td>3.700000e+01</td>\n",
       "      <td>4.400000e+01</td>\n",
       "      <td>92.00</td>\n",
       "    </tr>\n",
       "    <tr>\n",
       "      <th>Tenure</th>\n",
       "      <td>9091.0</td>\n",
       "      <td>4.997690e+00</td>\n",
       "      <td>2.894723</td>\n",
       "      <td>0.00</td>\n",
       "      <td>2.00</td>\n",
       "      <td>5.000000e+00</td>\n",
       "      <td>7.000000e+00</td>\n",
       "      <td>10.00</td>\n",
       "    </tr>\n",
       "    <tr>\n",
       "      <th>Balance</th>\n",
       "      <td>10000.0</td>\n",
       "      <td>7.648589e+04</td>\n",
       "      <td>62397.405202</td>\n",
       "      <td>0.00</td>\n",
       "      <td>0.00</td>\n",
       "      <td>9.719854e+04</td>\n",
       "      <td>1.276442e+05</td>\n",
       "      <td>250898.09</td>\n",
       "    </tr>\n",
       "    <tr>\n",
       "      <th>NumOfProducts</th>\n",
       "      <td>10000.0</td>\n",
       "      <td>1.530200e+00</td>\n",
       "      <td>0.581654</td>\n",
       "      <td>1.00</td>\n",
       "      <td>1.00</td>\n",
       "      <td>1.000000e+00</td>\n",
       "      <td>2.000000e+00</td>\n",
       "      <td>4.00</td>\n",
       "    </tr>\n",
       "    <tr>\n",
       "      <th>HasCrCard</th>\n",
       "      <td>10000.0</td>\n",
       "      <td>7.055000e-01</td>\n",
       "      <td>0.455840</td>\n",
       "      <td>0.00</td>\n",
       "      <td>0.00</td>\n",
       "      <td>1.000000e+00</td>\n",
       "      <td>1.000000e+00</td>\n",
       "      <td>1.00</td>\n",
       "    </tr>\n",
       "    <tr>\n",
       "      <th>IsActiveMember</th>\n",
       "      <td>10000.0</td>\n",
       "      <td>5.151000e-01</td>\n",
       "      <td>0.499797</td>\n",
       "      <td>0.00</td>\n",
       "      <td>0.00</td>\n",
       "      <td>1.000000e+00</td>\n",
       "      <td>1.000000e+00</td>\n",
       "      <td>1.00</td>\n",
       "    </tr>\n",
       "    <tr>\n",
       "      <th>EstimatedSalary</th>\n",
       "      <td>10000.0</td>\n",
       "      <td>1.000902e+05</td>\n",
       "      <td>57510.492818</td>\n",
       "      <td>11.58</td>\n",
       "      <td>51002.11</td>\n",
       "      <td>1.001939e+05</td>\n",
       "      <td>1.493882e+05</td>\n",
       "      <td>199992.48</td>\n",
       "    </tr>\n",
       "    <tr>\n",
       "      <th>Exited</th>\n",
       "      <td>10000.0</td>\n",
       "      <td>2.037000e-01</td>\n",
       "      <td>0.402769</td>\n",
       "      <td>0.00</td>\n",
       "      <td>0.00</td>\n",
       "      <td>0.000000e+00</td>\n",
       "      <td>0.000000e+00</td>\n",
       "      <td>1.00</td>\n",
       "    </tr>\n",
       "  </tbody>\n",
       "</table>\n",
       "</div>"
      ],
      "text/plain": [
       "                   count          mean           std          min  \\\n",
       "RowNumber        10000.0  5.000500e+03   2886.895680         1.00   \n",
       "CustomerId       10000.0  1.569094e+07  71936.186123  15565701.00   \n",
       "CreditScore      10000.0  6.505288e+02     96.653299       350.00   \n",
       "Age              10000.0  3.892180e+01     10.487806        18.00   \n",
       "Tenure            9091.0  4.997690e+00      2.894723         0.00   \n",
       "Balance          10000.0  7.648589e+04  62397.405202         0.00   \n",
       "NumOfProducts    10000.0  1.530200e+00      0.581654         1.00   \n",
       "HasCrCard        10000.0  7.055000e-01      0.455840         0.00   \n",
       "IsActiveMember   10000.0  5.151000e-01      0.499797         0.00   \n",
       "EstimatedSalary  10000.0  1.000902e+05  57510.492818        11.58   \n",
       "Exited           10000.0  2.037000e-01      0.402769         0.00   \n",
       "\n",
       "                         25%           50%           75%          max  \n",
       "RowNumber            2500.75  5.000500e+03  7.500250e+03     10000.00  \n",
       "CustomerId       15628528.25  1.569074e+07  1.575323e+07  15815690.00  \n",
       "CreditScore           584.00  6.520000e+02  7.180000e+02       850.00  \n",
       "Age                    32.00  3.700000e+01  4.400000e+01        92.00  \n",
       "Tenure                  2.00  5.000000e+00  7.000000e+00        10.00  \n",
       "Balance                 0.00  9.719854e+04  1.276442e+05    250898.09  \n",
       "NumOfProducts           1.00  1.000000e+00  2.000000e+00         4.00  \n",
       "HasCrCard               0.00  1.000000e+00  1.000000e+00         1.00  \n",
       "IsActiveMember          0.00  1.000000e+00  1.000000e+00         1.00  \n",
       "EstimatedSalary     51002.11  1.001939e+05  1.493882e+05    199992.48  \n",
       "Exited                  0.00  0.000000e+00  0.000000e+00         1.00  "
      ]
     },
     "execution_count": 8,
     "metadata": {},
     "output_type": "execute_result"
    }
   ],
   "source": [
    "df.describe().T"
   ]
  },
  {
   "cell_type": "markdown",
   "id": "e62a3043",
   "metadata": {},
   "source": [
    "По статистической информации все значения в порядке, выбросов нет.  \n",
    "Посмотрим на распределение людей по странам "
   ]
  },
  {
   "cell_type": "code",
   "execution_count": 9,
   "id": "4bbf8baa",
   "metadata": {},
   "outputs": [
    {
     "data": {
      "text/plain": [
       "France     5014\n",
       "Germany    2509\n",
       "Spain      2477\n",
       "Name: Geography, dtype: int64"
      ]
     },
     "execution_count": 9,
     "metadata": {},
     "output_type": "execute_result"
    }
   ],
   "source": [
    "df['Geography'].value_counts(ascending=False)"
   ]
  },
  {
   "cell_type": "markdown",
   "id": "1c8079ae",
   "metadata": {},
   "source": [
    "Как мы видим, больше всего представлено Французов.  \n",
    "Теперь посмотрим на распределение людей по полу в странах"
   ]
  },
  {
   "cell_type": "code",
   "execution_count": 10,
   "id": "dd902cec",
   "metadata": {},
   "outputs": [
    {
     "data": {
      "text/html": [
       "<div>\n",
       "<style scoped>\n",
       "    .dataframe tbody tr th:only-of-type {\n",
       "        vertical-align: middle;\n",
       "    }\n",
       "\n",
       "    .dataframe tbody tr th {\n",
       "        vertical-align: top;\n",
       "    }\n",
       "\n",
       "    .dataframe thead th {\n",
       "        text-align: right;\n",
       "    }\n",
       "</style>\n",
       "<table border=\"1\" class=\"dataframe\">\n",
       "  <thead>\n",
       "    <tr style=\"text-align: right;\">\n",
       "      <th></th>\n",
       "      <th></th>\n",
       "      <th>count</th>\n",
       "    </tr>\n",
       "    <tr>\n",
       "      <th>Geography</th>\n",
       "      <th>Gender</th>\n",
       "      <th></th>\n",
       "    </tr>\n",
       "  </thead>\n",
       "  <tbody>\n",
       "    <tr>\n",
       "      <th rowspan=\"2\" valign=\"top\">France</th>\n",
       "      <th>Female</th>\n",
       "      <td>2261</td>\n",
       "    </tr>\n",
       "    <tr>\n",
       "      <th>Male</th>\n",
       "      <td>2753</td>\n",
       "    </tr>\n",
       "    <tr>\n",
       "      <th rowspan=\"2\" valign=\"top\">Germany</th>\n",
       "      <th>Female</th>\n",
       "      <td>1193</td>\n",
       "    </tr>\n",
       "    <tr>\n",
       "      <th>Male</th>\n",
       "      <td>1316</td>\n",
       "    </tr>\n",
       "    <tr>\n",
       "      <th rowspan=\"2\" valign=\"top\">Spain</th>\n",
       "      <th>Female</th>\n",
       "      <td>1089</td>\n",
       "    </tr>\n",
       "    <tr>\n",
       "      <th>Male</th>\n",
       "      <td>1388</td>\n",
       "    </tr>\n",
       "  </tbody>\n",
       "</table>\n",
       "</div>"
      ],
      "text/plain": [
       "                  count\n",
       "Geography Gender       \n",
       "France    Female   2261\n",
       "          Male     2753\n",
       "Germany   Female   1193\n",
       "          Male     1316\n",
       "Spain     Female   1089\n",
       "          Male     1388"
      ]
     },
     "execution_count": 10,
     "metadata": {},
     "output_type": "execute_result"
    }
   ],
   "source": [
    "df.pivot_table(index=['Geography', 'Gender'],\n",
    "               values='CustomerId',\n",
    "               aggfunc={'CustomerId': ['count']})"
   ]
  },
  {
   "cell_type": "markdown",
   "id": "631433cf",
   "metadata": {},
   "source": [
    "Данные по полу распеределены поравну внутри стран"
   ]
  },
  {
   "cell_type": "markdown",
   "id": "ac8096a1",
   "metadata": {},
   "source": [
    "Посмотрим на распределение значений в целевой переменной `Exited`"
   ]
  },
  {
   "cell_type": "code",
   "execution_count": 11,
   "id": "c827b05c",
   "metadata": {},
   "outputs": [
    {
     "data": {
      "text/html": [
       "<div>\n",
       "<style scoped>\n",
       "    .dataframe tbody tr th:only-of-type {\n",
       "        vertical-align: middle;\n",
       "    }\n",
       "\n",
       "    .dataframe tbody tr th {\n",
       "        vertical-align: top;\n",
       "    }\n",
       "\n",
       "    .dataframe thead th {\n",
       "        text-align: right;\n",
       "    }\n",
       "</style>\n",
       "<table border=\"1\" class=\"dataframe\">\n",
       "  <thead>\n",
       "    <tr style=\"text-align: right;\">\n",
       "      <th></th>\n",
       "      <th>count</th>\n",
       "      <th>percent</th>\n",
       "    </tr>\n",
       "  </thead>\n",
       "  <tbody>\n",
       "    <tr>\n",
       "      <th>0</th>\n",
       "      <td>7963</td>\n",
       "      <td>0.7963</td>\n",
       "    </tr>\n",
       "    <tr>\n",
       "      <th>1</th>\n",
       "      <td>2037</td>\n",
       "      <td>0.2037</td>\n",
       "    </tr>\n",
       "  </tbody>\n",
       "</table>\n",
       "</div>"
      ],
      "text/plain": [
       "   count  percent\n",
       "0   7963   0.7963\n",
       "1   2037   0.2037"
      ]
     },
     "execution_count": 11,
     "metadata": {},
     "output_type": "execute_result"
    }
   ],
   "source": [
    "pd.DataFrame({\n",
    "    'count': df['Exited'].value_counts(),\n",
    "    'percent': df['Exited'].value_counts() / len(df)\n",
    "})"
   ]
  },
  {
   "cell_type": "markdown",
   "id": "e102744f",
   "metadata": {},
   "source": [
    "Как мы видим, в данных есть дисбаланс классов целевой переменной. Клиентов которые действительно ушли в 4 раза меньше тех кто является клиентом банка, их доля составляет 20% от общего количества.  \n",
    "Необходимо будет попробовать методы upsampling и downsampling при обучении моделей для борьбы с дисбалансом классов."
   ]
  },
  {
   "cell_type": "markdown",
   "id": "92c6743c",
   "metadata": {},
   "source": [
    "## Вывод"
   ]
  },
  {
   "cell_type": "markdown",
   "id": "abdd8a53",
   "metadata": {},
   "source": [
    "Во время изучения данных мы заметили, что столбцы необходимо привести к нижнему регистру.  \n",
    "\n",
    "Некоторые столбцы имеют тип данных `object`, необходимо будет преобразовать категориальные признаки в \n",
    "численные.  \n",
    "\n",
    "Столбцы `RowNumber`, `CustomerId`, `Surname` для дальнейшего анализа будут не нужны, необходимо их будет убрать.\n",
    "\n",
    "В столбце `Tenure` — сколько лет человек является клиентом банка, есть 909 пропусков, это 9.09% от общего количество данных. Видимо была допущена ошибка при выгрузке данных и поэтому образовались пропущенные значения. Достоверно восстановить данные не получится, но удалять их не хочется так как пропущен достаточно большой процент данных. Поэтому предлагаю сгруппировать данные по стране проживания и полу и заполнить пропущенные значения в стобце `Tenure` медианным значением по группе.  \n",
    "Дубликатов в данных нет, выбросов тоже.  \n",
    "В данных есть дисбаланс классов целевой переменной. Клиентов которые действительно ушли в 4 раза меньше тех кто является клиентом банка, их доля составляет 20% от общего количества.  \n",
    "Необходимо будет попробовать методы upsampling и downsampling при обучении моделей для борьбы с дисбалансом классов."
   ]
  },
  {
   "cell_type": "markdown",
   "id": "572e1d09",
   "metadata": {},
   "source": [
    "# Предобработка данных"
   ]
  },
  {
   "cell_type": "markdown",
   "id": "5f3edc87",
   "metadata": {},
   "source": [
    "## Удалим не нужные столбцы"
   ]
  },
  {
   "cell_type": "markdown",
   "id": "7aa061b6",
   "metadata": {},
   "source": [
    "Столбцы `RowNumber`, `CustomerId`, `Surname` для дальнейшего анализа будут не нужны, поэтому удалим их."
   ]
  },
  {
   "cell_type": "code",
   "execution_count": 12,
   "id": "63a987f8",
   "metadata": {},
   "outputs": [],
   "source": [
    "df = df.drop(['RowNumber', 'CustomerId', 'Surname'], axis=1)"
   ]
  },
  {
   "cell_type": "markdown",
   "id": "e8c46467",
   "metadata": {},
   "source": [
    "Выведем 5 строк чтобы убедиться что больше нет лишних столбцов"
   ]
  },
  {
   "cell_type": "code",
   "execution_count": 13,
   "id": "515a8650",
   "metadata": {},
   "outputs": [
    {
     "data": {
      "text/html": [
       "<div>\n",
       "<style scoped>\n",
       "    .dataframe tbody tr th:only-of-type {\n",
       "        vertical-align: middle;\n",
       "    }\n",
       "\n",
       "    .dataframe tbody tr th {\n",
       "        vertical-align: top;\n",
       "    }\n",
       "\n",
       "    .dataframe thead th {\n",
       "        text-align: right;\n",
       "    }\n",
       "</style>\n",
       "<table border=\"1\" class=\"dataframe\">\n",
       "  <thead>\n",
       "    <tr style=\"text-align: right;\">\n",
       "      <th></th>\n",
       "      <th>CreditScore</th>\n",
       "      <th>Geography</th>\n",
       "      <th>Gender</th>\n",
       "      <th>Age</th>\n",
       "      <th>Tenure</th>\n",
       "      <th>Balance</th>\n",
       "      <th>NumOfProducts</th>\n",
       "      <th>HasCrCard</th>\n",
       "      <th>IsActiveMember</th>\n",
       "      <th>EstimatedSalary</th>\n",
       "      <th>Exited</th>\n",
       "    </tr>\n",
       "  </thead>\n",
       "  <tbody>\n",
       "    <tr>\n",
       "      <th>0</th>\n",
       "      <td>619</td>\n",
       "      <td>France</td>\n",
       "      <td>Female</td>\n",
       "      <td>42</td>\n",
       "      <td>2.0</td>\n",
       "      <td>0.00</td>\n",
       "      <td>1</td>\n",
       "      <td>1</td>\n",
       "      <td>1</td>\n",
       "      <td>101348.88</td>\n",
       "      <td>1</td>\n",
       "    </tr>\n",
       "    <tr>\n",
       "      <th>1</th>\n",
       "      <td>608</td>\n",
       "      <td>Spain</td>\n",
       "      <td>Female</td>\n",
       "      <td>41</td>\n",
       "      <td>1.0</td>\n",
       "      <td>83807.86</td>\n",
       "      <td>1</td>\n",
       "      <td>0</td>\n",
       "      <td>1</td>\n",
       "      <td>112542.58</td>\n",
       "      <td>0</td>\n",
       "    </tr>\n",
       "    <tr>\n",
       "      <th>2</th>\n",
       "      <td>502</td>\n",
       "      <td>France</td>\n",
       "      <td>Female</td>\n",
       "      <td>42</td>\n",
       "      <td>8.0</td>\n",
       "      <td>159660.80</td>\n",
       "      <td>3</td>\n",
       "      <td>1</td>\n",
       "      <td>0</td>\n",
       "      <td>113931.57</td>\n",
       "      <td>1</td>\n",
       "    </tr>\n",
       "    <tr>\n",
       "      <th>3</th>\n",
       "      <td>699</td>\n",
       "      <td>France</td>\n",
       "      <td>Female</td>\n",
       "      <td>39</td>\n",
       "      <td>1.0</td>\n",
       "      <td>0.00</td>\n",
       "      <td>2</td>\n",
       "      <td>0</td>\n",
       "      <td>0</td>\n",
       "      <td>93826.63</td>\n",
       "      <td>0</td>\n",
       "    </tr>\n",
       "    <tr>\n",
       "      <th>4</th>\n",
       "      <td>850</td>\n",
       "      <td>Spain</td>\n",
       "      <td>Female</td>\n",
       "      <td>43</td>\n",
       "      <td>2.0</td>\n",
       "      <td>125510.82</td>\n",
       "      <td>1</td>\n",
       "      <td>1</td>\n",
       "      <td>1</td>\n",
       "      <td>79084.10</td>\n",
       "      <td>0</td>\n",
       "    </tr>\n",
       "  </tbody>\n",
       "</table>\n",
       "</div>"
      ],
      "text/plain": [
       "   CreditScore Geography  Gender  Age  Tenure    Balance  NumOfProducts  \\\n",
       "0          619    France  Female   42     2.0       0.00              1   \n",
       "1          608     Spain  Female   41     1.0   83807.86              1   \n",
       "2          502    France  Female   42     8.0  159660.80              3   \n",
       "3          699    France  Female   39     1.0       0.00              2   \n",
       "4          850     Spain  Female   43     2.0  125510.82              1   \n",
       "\n",
       "   HasCrCard  IsActiveMember  EstimatedSalary  Exited  \n",
       "0          1               1        101348.88       1  \n",
       "1          0               1        112542.58       0  \n",
       "2          1               0        113931.57       1  \n",
       "3          0               0         93826.63       0  \n",
       "4          1               1         79084.10       0  "
      ]
     },
     "execution_count": 13,
     "metadata": {},
     "output_type": "execute_result"
    }
   ],
   "source": [
    "df.head()"
   ]
  },
  {
   "cell_type": "markdown",
   "id": "7b49c5bd",
   "metadata": {},
   "source": [
    "## Займемся названиями столбцов"
   ]
  },
  {
   "cell_type": "markdown",
   "id": "fa5d0ffa",
   "metadata": {},
   "source": [
    "Выведем список названий столбцов"
   ]
  },
  {
   "cell_type": "code",
   "execution_count": 14,
   "id": "2c59915b",
   "metadata": {},
   "outputs": [
    {
     "data": {
      "text/plain": [
       "['CreditScore',\n",
       " 'Geography',\n",
       " 'Gender',\n",
       " 'Age',\n",
       " 'Tenure',\n",
       " 'Balance',\n",
       " 'NumOfProducts',\n",
       " 'HasCrCard',\n",
       " 'IsActiveMember',\n",
       " 'EstimatedSalary',\n",
       " 'Exited']"
      ]
     },
     "execution_count": 14,
     "metadata": {},
     "output_type": "execute_result"
    }
   ],
   "source": [
    "df.columns.to_list()"
   ]
  },
  {
   "cell_type": "markdown",
   "id": "9459adb3",
   "metadata": {},
   "source": [
    "Теперь приведем их к нижнему регистру и расставим пробелы, после выведем чтобы убедиться что все получилось"
   ]
  },
  {
   "cell_type": "code",
   "execution_count": 15,
   "id": "f927d055",
   "metadata": {},
   "outputs": [],
   "source": [
    "df.columns = [i.lower() for i in ['Credit_Score',\n",
    " 'Geography',\n",
    " 'Gender',\n",
    " 'Age',\n",
    " 'Tenure',\n",
    " 'Balance',\n",
    " 'Num_Of_Products',\n",
    " 'Has_Cr_Card',\n",
    " 'Is_Active_Member',\n",
    " 'Estimated_Salary',\n",
    " 'Exited']]"
   ]
  },
  {
   "cell_type": "markdown",
   "id": "07c00e3b",
   "metadata": {},
   "source": [
    "Выведем получившиеся названия столбцов"
   ]
  },
  {
   "cell_type": "code",
   "execution_count": 16,
   "id": "daabd73b",
   "metadata": {},
   "outputs": [
    {
     "data": {
      "text/plain": [
       "['credit_score',\n",
       " 'geography',\n",
       " 'gender',\n",
       " 'age',\n",
       " 'tenure',\n",
       " 'balance',\n",
       " 'num_of_products',\n",
       " 'has_cr_card',\n",
       " 'is_active_member',\n",
       " 'estimated_salary',\n",
       " 'exited']"
      ]
     },
     "execution_count": 16,
     "metadata": {},
     "output_type": "execute_result"
    }
   ],
   "source": [
    "df.columns.to_list()"
   ]
  },
  {
   "cell_type": "markdown",
   "id": "3e7da319",
   "metadata": {},
   "source": [
    "## Заполним пропущенные значения"
   ]
  },
  {
   "cell_type": "markdown",
   "id": "978f6f0a",
   "metadata": {},
   "source": [
    "Для того, чтобы заполнить пропущенные значения в столбце `Tenure`, предлагаю сгруппировать данные по стране проживания и полу далее заполнить пропуски медианным значением по группе."
   ]
  },
  {
   "cell_type": "code",
   "execution_count": 17,
   "id": "722d101a",
   "metadata": {},
   "outputs": [],
   "source": [
    "df['tenure'] = df['tenure'].fillna(\n",
    "    df.groupby(['geography', 'gender'])['tenure'].transform('median'))"
   ]
  },
  {
   "cell_type": "code",
   "execution_count": 18,
   "id": "8a24a6e5",
   "metadata": {},
   "outputs": [
    {
     "name": "stdout",
     "output_type": "stream",
     "text": [
      "Количество пропущенных значений в столбце tenure равно 0\n"
     ]
    }
   ],
   "source": [
    "print(\n",
    "    f'Количество пропущенных значений в столбце tenure равно {df[\"tenure\"].isna().sum()}'\n",
    ")"
   ]
  },
  {
   "cell_type": "markdown",
   "id": "4dd177b2",
   "metadata": {},
   "source": [
    "## Преобразуем категориальные признаки в численные"
   ]
  },
  {
   "cell_type": "markdown",
   "id": "0cdb3e67",
   "metadata": {},
   "source": [
    "Посмотри на типы данных столбцов"
   ]
  },
  {
   "cell_type": "code",
   "execution_count": 19,
   "id": "313f999d",
   "metadata": {},
   "outputs": [
    {
     "data": {
      "text/plain": [
       "credit_score          int64\n",
       "geography            object\n",
       "gender               object\n",
       "age                   int64\n",
       "tenure              float64\n",
       "balance             float64\n",
       "num_of_products       int64\n",
       "has_cr_card           int64\n",
       "is_active_member      int64\n",
       "estimated_salary    float64\n",
       "exited                int64\n",
       "dtype: object"
      ]
     },
     "execution_count": 19,
     "metadata": {},
     "output_type": "execute_result"
    }
   ],
   "source": [
    "df.dtypes"
   ]
  },
  {
   "cell_type": "markdown",
   "id": "d8f37eed",
   "metadata": {},
   "source": [
    "У нас есть два столбца типа **object**, это столбцы `geography` и `gender`. Проведем их кодирование с помощью техники **One-Hot Encoding** - это процесс, с помощью которого категориальные переменные преобразуются в подходящую алгоритмам машинного обучения форму, для этого воспользуемся функцией **get_dummies()**"
   ]
  },
  {
   "cell_type": "code",
   "execution_count": 20,
   "id": "19815e55",
   "metadata": {},
   "outputs": [],
   "source": [
    "df = pd.get_dummies(df, drop_first=True)\n",
    "df.columns = df.columns.str.lower()"
   ]
  },
  {
   "cell_type": "code",
   "execution_count": 21,
   "id": "6a7373dc",
   "metadata": {},
   "outputs": [
    {
     "data": {
      "text/html": [
       "<div>\n",
       "<style scoped>\n",
       "    .dataframe tbody tr th:only-of-type {\n",
       "        vertical-align: middle;\n",
       "    }\n",
       "\n",
       "    .dataframe tbody tr th {\n",
       "        vertical-align: top;\n",
       "    }\n",
       "\n",
       "    .dataframe thead th {\n",
       "        text-align: right;\n",
       "    }\n",
       "</style>\n",
       "<table border=\"1\" class=\"dataframe\">\n",
       "  <thead>\n",
       "    <tr style=\"text-align: right;\">\n",
       "      <th></th>\n",
       "      <th>credit_score</th>\n",
       "      <th>age</th>\n",
       "      <th>tenure</th>\n",
       "      <th>balance</th>\n",
       "      <th>num_of_products</th>\n",
       "      <th>has_cr_card</th>\n",
       "      <th>is_active_member</th>\n",
       "      <th>estimated_salary</th>\n",
       "      <th>exited</th>\n",
       "      <th>geography_germany</th>\n",
       "      <th>geography_spain</th>\n",
       "      <th>gender_male</th>\n",
       "    </tr>\n",
       "  </thead>\n",
       "  <tbody>\n",
       "    <tr>\n",
       "      <th>5033</th>\n",
       "      <td>536</td>\n",
       "      <td>61</td>\n",
       "      <td>8.0</td>\n",
       "      <td>65190.29</td>\n",
       "      <td>1</td>\n",
       "      <td>1</td>\n",
       "      <td>1</td>\n",
       "      <td>64308.49</td>\n",
       "      <td>1</td>\n",
       "      <td>0</td>\n",
       "      <td>0</td>\n",
       "      <td>0</td>\n",
       "    </tr>\n",
       "    <tr>\n",
       "      <th>2399</th>\n",
       "      <td>541</td>\n",
       "      <td>51</td>\n",
       "      <td>7.0</td>\n",
       "      <td>90373.28</td>\n",
       "      <td>2</td>\n",
       "      <td>1</td>\n",
       "      <td>0</td>\n",
       "      <td>179861.79</td>\n",
       "      <td>0</td>\n",
       "      <td>1</td>\n",
       "      <td>0</td>\n",
       "      <td>1</td>\n",
       "    </tr>\n",
       "    <tr>\n",
       "      <th>2786</th>\n",
       "      <td>511</td>\n",
       "      <td>40</td>\n",
       "      <td>5.0</td>\n",
       "      <td>124401.60</td>\n",
       "      <td>1</td>\n",
       "      <td>1</td>\n",
       "      <td>0</td>\n",
       "      <td>198814.24</td>\n",
       "      <td>1</td>\n",
       "      <td>1</td>\n",
       "      <td>0</td>\n",
       "      <td>0</td>\n",
       "    </tr>\n",
       "    <tr>\n",
       "      <th>4088</th>\n",
       "      <td>755</td>\n",
       "      <td>40</td>\n",
       "      <td>2.0</td>\n",
       "      <td>137430.82</td>\n",
       "      <td>2</td>\n",
       "      <td>0</td>\n",
       "      <td>0</td>\n",
       "      <td>176768.59</td>\n",
       "      <td>0</td>\n",
       "      <td>1</td>\n",
       "      <td>0</td>\n",
       "      <td>1</td>\n",
       "    </tr>\n",
       "    <tr>\n",
       "      <th>8570</th>\n",
       "      <td>755</td>\n",
       "      <td>28</td>\n",
       "      <td>7.0</td>\n",
       "      <td>124540.28</td>\n",
       "      <td>1</td>\n",
       "      <td>0</td>\n",
       "      <td>1</td>\n",
       "      <td>188850.89</td>\n",
       "      <td>0</td>\n",
       "      <td>0</td>\n",
       "      <td>0</td>\n",
       "      <td>0</td>\n",
       "    </tr>\n",
       "    <tr>\n",
       "      <th>4867</th>\n",
       "      <td>648</td>\n",
       "      <td>34</td>\n",
       "      <td>3.0</td>\n",
       "      <td>0.00</td>\n",
       "      <td>1</td>\n",
       "      <td>1</td>\n",
       "      <td>0</td>\n",
       "      <td>54726.43</td>\n",
       "      <td>0</td>\n",
       "      <td>0</td>\n",
       "      <td>0</td>\n",
       "      <td>0</td>\n",
       "    </tr>\n",
       "    <tr>\n",
       "      <th>5468</th>\n",
       "      <td>591</td>\n",
       "      <td>45</td>\n",
       "      <td>5.0</td>\n",
       "      <td>0.00</td>\n",
       "      <td>2</td>\n",
       "      <td>1</td>\n",
       "      <td>1</td>\n",
       "      <td>155492.87</td>\n",
       "      <td>0</td>\n",
       "      <td>0</td>\n",
       "      <td>0</td>\n",
       "      <td>1</td>\n",
       "    </tr>\n",
       "    <tr>\n",
       "      <th>320</th>\n",
       "      <td>525</td>\n",
       "      <td>57</td>\n",
       "      <td>5.0</td>\n",
       "      <td>145965.33</td>\n",
       "      <td>1</td>\n",
       "      <td>1</td>\n",
       "      <td>1</td>\n",
       "      <td>64448.36</td>\n",
       "      <td>0</td>\n",
       "      <td>0</td>\n",
       "      <td>1</td>\n",
       "      <td>0</td>\n",
       "    </tr>\n",
       "    <tr>\n",
       "      <th>7996</th>\n",
       "      <td>717</td>\n",
       "      <td>22</td>\n",
       "      <td>5.0</td>\n",
       "      <td>112465.06</td>\n",
       "      <td>1</td>\n",
       "      <td>1</td>\n",
       "      <td>1</td>\n",
       "      <td>92977.75</td>\n",
       "      <td>0</td>\n",
       "      <td>0</td>\n",
       "      <td>0</td>\n",
       "      <td>0</td>\n",
       "    </tr>\n",
       "    <tr>\n",
       "      <th>6459</th>\n",
       "      <td>606</td>\n",
       "      <td>45</td>\n",
       "      <td>5.0</td>\n",
       "      <td>63832.43</td>\n",
       "      <td>1</td>\n",
       "      <td>1</td>\n",
       "      <td>1</td>\n",
       "      <td>93707.80</td>\n",
       "      <td>0</td>\n",
       "      <td>1</td>\n",
       "      <td>0</td>\n",
       "      <td>1</td>\n",
       "    </tr>\n",
       "  </tbody>\n",
       "</table>\n",
       "</div>"
      ],
      "text/plain": [
       "      credit_score  age  tenure    balance  num_of_products  has_cr_card  \\\n",
       "5033           536   61     8.0   65190.29                1            1   \n",
       "2399           541   51     7.0   90373.28                2            1   \n",
       "2786           511   40     5.0  124401.60                1            1   \n",
       "4088           755   40     2.0  137430.82                2            0   \n",
       "8570           755   28     7.0  124540.28                1            0   \n",
       "4867           648   34     3.0       0.00                1            1   \n",
       "5468           591   45     5.0       0.00                2            1   \n",
       "320            525   57     5.0  145965.33                1            1   \n",
       "7996           717   22     5.0  112465.06                1            1   \n",
       "6459           606   45     5.0   63832.43                1            1   \n",
       "\n",
       "      is_active_member  estimated_salary  exited  geography_germany  \\\n",
       "5033                 1          64308.49       1                  0   \n",
       "2399                 0         179861.79       0                  1   \n",
       "2786                 0         198814.24       1                  1   \n",
       "4088                 0         176768.59       0                  1   \n",
       "8570                 1         188850.89       0                  0   \n",
       "4867                 0          54726.43       0                  0   \n",
       "5468                 1         155492.87       0                  0   \n",
       "320                  1          64448.36       0                  0   \n",
       "7996                 1          92977.75       0                  0   \n",
       "6459                 1          93707.80       0                  1   \n",
       "\n",
       "      geography_spain  gender_male  \n",
       "5033                0            0  \n",
       "2399                0            1  \n",
       "2786                0            0  \n",
       "4088                0            1  \n",
       "8570                0            0  \n",
       "4867                0            0  \n",
       "5468                0            1  \n",
       "320                 1            0  \n",
       "7996                0            0  \n",
       "6459                0            1  "
      ]
     },
     "execution_count": 21,
     "metadata": {},
     "output_type": "execute_result"
    }
   ],
   "source": [
    "df.sample(10)"
   ]
  },
  {
   "cell_type": "markdown",
   "id": "38f66b4f",
   "metadata": {},
   "source": [
    "## Вывод"
   ]
  },
  {
   "cell_type": "markdown",
   "id": "7cb09d70",
   "metadata": {},
   "source": [
    "На данном этапе мы сделали слеюущее:\n",
    "1) Удалили столбцы `RowNumber`, `CustomerId`, `Surname` так как для дальнейшего анализа они нам будут не нужны.  \n",
    "2) Привели столбцы к нижнему регистиру и виду snake_case.  \n",
    "3) Заполнили пропущенные значения в столбце `Tenure`, для этого мы сгруппировать данные по стране проживания и полу, а далее заполнили пропуски медианным значением по группе.  \n",
    "4) Преобразовали категориальные признаки в численные. У нас было два столбца типа **object**, это столбцы `geography` и `gender`. Мы провели их кодирование с помощью техники **One-Hot Encoding** - это процесс, с помощью которого категориальные переменные преобразуются в подходящую алгоритмам машинного обучения форму, дфля этого воспользовались функцией **get_dummies()**"
   ]
  },
  {
   "cell_type": "markdown",
   "id": "3317c327",
   "metadata": {},
   "source": [
    "# Разбиение данных на выборки"
   ]
  },
  {
   "cell_type": "markdown",
   "id": "5bc3c6b7",
   "metadata": {},
   "source": [
    "Перед нами стоит здача бинарной классификации, необходимо определить уйдет клиент из банка или нет.  \n",
    "Для того, чтобы обучить модель машинного обучения нам необходимо разбить данные на признаки и целую переменную. В нашем случае целевой переменной будет столбец `exited` — факт ухода клиента, а остальные столбцы будут признаками."
   ]
  },
  {
   "cell_type": "code",
   "execution_count": 22,
   "id": "6a5b2f1d",
   "metadata": {},
   "outputs": [],
   "source": [
    "features = df.drop('exited', axis=1)\n",
    "target = df['exited']"
   ]
  },
  {
   "cell_type": "markdown",
   "id": "9b1426cd",
   "metadata": {},
   "source": [
    "## Разбиение на выборки"
   ]
  },
  {
   "cell_type": "markdown",
   "id": "b8223d00",
   "metadata": {},
   "source": [
    "Теперь разобьем данные на обучающую, тестовую и валидационную выборки в соотношении 3:1:1."
   ]
  },
  {
   "cell_type": "code",
   "execution_count": 23,
   "id": "25323287",
   "metadata": {},
   "outputs": [],
   "source": [
    "features_train, features_test, target_train, target_test = train_test_split(\n",
    "    features, target, test_size=0.2, random_state=12345)\n",
    "\n",
    "features_train, features_valid, target_train, target_valid = train_test_split(\n",
    "    features_train, target_train, test_size=0.25, random_state=12345)"
   ]
  },
  {
   "cell_type": "code",
   "execution_count": 24,
   "id": "16badd90",
   "metadata": {},
   "outputs": [
    {
     "name": "stdout",
     "output_type": "stream",
     "text": [
      "Размер обучающей выборки равен 6000, это 60.0% от данных\n",
      "Размер тестовой выборки равен 2000, это 20.0% от данных\n",
      "Размер валидационной выборки равен 2000, это 20.0% от данных\n"
     ]
    }
   ],
   "source": [
    "print('Размер обучающей выборки равен {}, это {:.1%} от данных'.format(\n",
    "    len(features_train), len(features_train)/features.shape[0]))\n",
    "\n",
    "print('Размер тестовой выборки равен {}, это {:.1%} от данных'.format(\n",
    "    len(features_test), len(features_test)/features.shape[0]))\n",
    "\n",
    "print('Размер валидационной выборки равен {}, это {:.1%} от данных'.format(\n",
    "    len(features_valid), len(features_valid)/features.shape[0]))"
   ]
  },
  {
   "cell_type": "code",
   "execution_count": 25,
   "id": "0bf3c1ad",
   "metadata": {
    "scrolled": true
   },
   "outputs": [
    {
     "name": "stdout",
     "output_type": "stream",
     "text": [
      "Количество ушедших пользователей в обучающей выборке 1219шт, это 20.3% от размера выборки\n",
      "Количество ушедших пользователей в тестовой выборке 427шт, это 21.3% от размера выборки\n",
      "Количество ушедших пользователей в валидационной выборке 391шт, это 19.6% от размера выборки\n"
     ]
    }
   ],
   "source": [
    "print(\n",
    "    'Количество ушедших пользователей в обучающей выборке {}шт, это {:.1%} от размера выборки'\n",
    "    .format(target_train.sum(), target_train.mean()))\n",
    "print(\n",
    "    'Количество ушедших пользователей в тестовой выборке {}шт, это {:.1%} от размера выборки'\n",
    "    .format(target_test.sum(), target_test.mean()))\n",
    "print(\n",
    "    'Количество ушедших пользователей в валидационной выборке {}шт, это {:.1%} от размера выборки'\n",
    "    .format(target_valid.sum(), target_valid.mean()))"
   ]
  },
  {
   "cell_type": "markdown",
   "id": "ff8357b1",
   "metadata": {},
   "source": [
    "## Обучение моделей без учета дисбаланса классов"
   ]
  },
  {
   "cell_type": "markdown",
   "id": "908fc09c",
   "metadata": {},
   "source": [
    "На данном этапе мы будем обучать несколько моделей машинного обучения: \n",
    "- Логистическая регрессия\n",
    "- Дерево решений\n",
    "- Случайный лес"
   ]
  },
  {
   "cell_type": "markdown",
   "id": "a3026175",
   "metadata": {},
   "source": [
    "### Логистическая регрессия"
   ]
  },
  {
   "cell_type": "markdown",
   "id": "677e647a",
   "metadata": {},
   "source": [
    "Создадим и обучим модель на тестовой выборке"
   ]
  },
  {
   "cell_type": "code",
   "execution_count": 26,
   "id": "39e5f723",
   "metadata": {},
   "outputs": [
    {
     "data": {
      "text/plain": [
       "LogisticRegression(random_state=12345, solver='liblinear')"
      ]
     },
     "execution_count": 26,
     "metadata": {},
     "output_type": "execute_result"
    }
   ],
   "source": [
    "lr_model = LogisticRegression(solver='liblinear', random_state=12345)\n",
    "lr_model.fit(features_train, target_train)"
   ]
  },
  {
   "cell_type": "markdown",
   "id": "18762197",
   "metadata": {},
   "source": [
    "Получим предсказание модели ухода пользователей на валидационной выборке и посмотрим на сколько верно наша модель предсказывает результаты"
   ]
  },
  {
   "cell_type": "code",
   "execution_count": 27,
   "id": "9b8ce242",
   "metadata": {},
   "outputs": [
    {
     "name": "stdout",
     "output_type": "stream",
     "text": [
      "F1_score равен 0.10\n",
      "ROC_AUC_score равен 0.68\n"
     ]
    }
   ],
   "source": [
    "lr_predict_valid = lr_model.predict(features_valid)\n",
    "\n",
    "lr_prob_valid = lr_model.predict_proba(features_valid)\n",
    "lr_prob_valid_ones = lr_prob_valid[:,1]\n",
    "\n",
    "print(\"F1_score равен {:.2f}\".format(f1_score(target_valid, lr_predict_valid)))\n",
    "print(\"ROC_AUC_score равен {:.2f}\".format(roc_auc_score(target_valid, lr_prob_valid_ones)))"
   ]
  },
  {
   "cell_type": "markdown",
   "id": "58a34dfa",
   "metadata": {},
   "source": [
    "Мы получили очень низкий результат **F1_score** равный 0.1, что говорит о том что наша модель очень часто ошибается."
   ]
  },
  {
   "cell_type": "markdown",
   "id": "2dbd33dc",
   "metadata": {},
   "source": [
    "### Дерево решений"
   ]
  },
  {
   "cell_type": "markdown",
   "id": "5513c8f9",
   "metadata": {},
   "source": [
    "Создадим и обучим модель на тестовой выборке"
   ]
  },
  {
   "cell_type": "code",
   "execution_count": 28,
   "id": "d5753c44",
   "metadata": {},
   "outputs": [
    {
     "name": "stdout",
     "output_type": "stream",
     "text": [
      "Наилучший результат f1_score равен 0.56\n",
      "Максимальная глубина равна 7\n",
      "ROC_AUC_score равен 0.82\n"
     ]
    }
   ],
   "source": [
    "best_dt_f1_score = 0\n",
    "best_dt_depth = 0\n",
    "best_dt_roc = 0\n",
    "best_dt_tree = None\n",
    "\n",
    "for depth in range(1, 16):\n",
    "    dt_model = DecisionTreeClassifier(max_depth=depth,\n",
    "                                      random_state=12345)\n",
    "    dt_model.fit(features_train, target_train)\n",
    "\n",
    "    predict_valid = dt_model.predict(features_valid)\n",
    "\n",
    "    prob_valid = dt_model.predict_proba(features_valid)\n",
    "    prob_valid_ones = prob_valid[:, 1]\n",
    "    \n",
    "    f1 = f1_score(target_valid, predict_valid)\n",
    "    roc_score = roc_auc_score(target_valid, prob_valid_ones)\n",
    "\n",
    "    if f1 > best_dt_f1_score:\n",
    "        best_dt_f1_score = f1\n",
    "        best_dt_depth = depth\n",
    "        best_dt_roc = roc_score\n",
    "        best_dt_tree = dt_model\n",
    "\n",
    "print(\"Наилучший результат f1_score равен {:.2f}\".format(best_dt_f1_score))\n",
    "print(\"Максимальная глубина равна {}\".format(best_dt_depth))\n",
    "print(\"ROC_AUC_score равен {:.2f}\".format(best_dt_roc))"
   ]
  },
  {
   "cell_type": "markdown",
   "id": "e76f83c3",
   "metadata": {},
   "source": [
    "Видно, что дерево решений значительно лучше работает чем логистическая регрессия при дисбалансе классов. Получили близкий к требуемуему значению результат **f1_score** равный 0.56"
   ]
  },
  {
   "cell_type": "markdown",
   "id": "fad63f16",
   "metadata": {},
   "source": [
    "### Случайный лес"
   ]
  },
  {
   "cell_type": "markdown",
   "id": "33011145",
   "metadata": {},
   "source": [
    "Создадим и обучим модель на тестовой выборке"
   ]
  },
  {
   "cell_type": "code",
   "execution_count": 29,
   "id": "ebd48538",
   "metadata": {},
   "outputs": [
    {
     "name": "stdout",
     "output_type": "stream",
     "text": [
      "Наилучший результат f1_score равен 0.58\n",
      "ROC_AUC_score равен 0.69\n",
      "Максимальная глубина равна 14\n",
      "Количество деревьев равно 40\n"
     ]
    }
   ],
   "source": [
    "best_rf_f1_score = 0\n",
    "best_rf_depth = 0\n",
    "best_rf_roc = 0\n",
    "best_estimators = 0\n",
    "best_rf = None\n",
    "\n",
    "for estimators in range(10, 101, 10):\n",
    "    for depth in range(1, 16):\n",
    "        rf_model = RandomForestClassifier(n_estimators=estimators, \n",
    "                                                   max_depth=depth,\n",
    "                                                   random_state=12345)\n",
    "        rf_model.fit(features_train, target_train)\n",
    "        \n",
    "        predict_valid = rf_model.predict(features_valid)\n",
    "        prob_valide = rf_model.predict_proba(features_valid)\n",
    "        prob_valid_ones = prob_valid[:, 1]\n",
    "        \n",
    "        f1 = f1_score(target_valid, predict_valid)\n",
    "        roc_score = roc_auc_score(target_valid, prob_valid_ones)\n",
    "        \n",
    "        if f1 > best_rf_f1_score:\n",
    "            best_rf_f1_score = f1\n",
    "            best_rf_depth = depth\n",
    "            best_rf_roc = roc_score\n",
    "            best_estimators = estimators\n",
    "            best_rf = rf_model\n",
    "            \n",
    "            \n",
    "print(\"Наилучший результат f1_score равен {:.2f}\".format(best_rf_f1_score))\n",
    "print(\"ROC_AUC_score равен {:.2f}\".format(best_rf_roc))  \n",
    "print(\"Максимальная глубина равна {}\".format(best_rf_depth))\n",
    "print(\"Количество деревьев равно {}\".format(best_estimators))"
   ]
  },
  {
   "cell_type": "markdown",
   "id": "c3ef4dc7",
   "metadata": {},
   "source": [
    "Как и дерево решений, случайный лес показал более лучшие результаты чем логистическая ргегрессия и получили близкий к требуемуему значению результат **f1_score** равный 0.58"
   ]
  },
  {
   "cell_type": "markdown",
   "id": "ffe7ddfe",
   "metadata": {},
   "source": [
    "## Масштабирование признаков"
   ]
  },
  {
   "cell_type": "markdown",
   "id": "67c8bd20",
   "metadata": {},
   "source": [
    "Один из методов масштабирования — стандартизации данных. Она делается чтобы привести данные к одному масштабу, для этого приведем столбцы с числовыми данными к одному масштабу. Для этого воспользуемся **StandardScaler** из библиотеки sklearn.  \n",
    "Создадим объект этой структуры и настроим его на обучающих данных. "
   ]
  },
  {
   "cell_type": "code",
   "execution_count": 30,
   "id": "720d0ed8",
   "metadata": {},
   "outputs": [
    {
     "data": {
      "text/plain": [
       "StandardScaler()"
      ]
     },
     "execution_count": 30,
     "metadata": {},
     "output_type": "execute_result"
    }
   ],
   "source": [
    "numeric = ['credit_score', 'age', 'tenure', 'balance', 'num_of_products', 'estimated_salary']\n",
    "\n",
    "scaler = StandardScaler()\n",
    "scaler.fit(features_train[numeric])"
   ]
  },
  {
   "cell_type": "markdown",
   "id": "e9241736",
   "metadata": {},
   "source": [
    "Теперь преобразуем обучающую, валидационную и тестовую выборки с числовыми признаками."
   ]
  },
  {
   "cell_type": "code",
   "execution_count": 31,
   "id": "3a62cf90",
   "metadata": {},
   "outputs": [],
   "source": [
    "pd.options.mode.chained_assignment = None"
   ]
  },
  {
   "cell_type": "code",
   "execution_count": 32,
   "id": "271d3f1a",
   "metadata": {},
   "outputs": [],
   "source": [
    "features_train[numeric] = scaler.transform(features_train[numeric])\n",
    "features_valid[numeric] = scaler.transform(features_valid[numeric])\n",
    "features_test[numeric] = scaler.transform(features_test[numeric])"
   ]
  },
  {
   "cell_type": "markdown",
   "id": "306c5412",
   "metadata": {},
   "source": [
    "Убдеимся, что все получилось"
   ]
  },
  {
   "cell_type": "code",
   "execution_count": 33,
   "id": "a942ba31",
   "metadata": {
    "scrolled": true
   },
   "outputs": [
    {
     "data": {
      "text/html": [
       "<div>\n",
       "<style scoped>\n",
       "    .dataframe tbody tr th:only-of-type {\n",
       "        vertical-align: middle;\n",
       "    }\n",
       "\n",
       "    .dataframe tbody tr th {\n",
       "        vertical-align: top;\n",
       "    }\n",
       "\n",
       "    .dataframe thead th {\n",
       "        text-align: right;\n",
       "    }\n",
       "</style>\n",
       "<table border=\"1\" class=\"dataframe\">\n",
       "  <thead>\n",
       "    <tr style=\"text-align: right;\">\n",
       "      <th></th>\n",
       "      <th>credit_score</th>\n",
       "      <th>age</th>\n",
       "      <th>tenure</th>\n",
       "      <th>balance</th>\n",
       "      <th>num_of_products</th>\n",
       "      <th>has_cr_card</th>\n",
       "      <th>is_active_member</th>\n",
       "      <th>estimated_salary</th>\n",
       "      <th>geography_germany</th>\n",
       "      <th>geography_spain</th>\n",
       "      <th>gender_male</th>\n",
       "    </tr>\n",
       "  </thead>\n",
       "  <tbody>\n",
       "    <tr>\n",
       "      <th>492</th>\n",
       "      <td>-0.134048</td>\n",
       "      <td>-0.078068</td>\n",
       "      <td>-0.369113</td>\n",
       "      <td>0.076163</td>\n",
       "      <td>0.816929</td>\n",
       "      <td>0</td>\n",
       "      <td>1</td>\n",
       "      <td>0.331571</td>\n",
       "      <td>0</td>\n",
       "      <td>0</td>\n",
       "      <td>0</td>\n",
       "    </tr>\n",
       "    <tr>\n",
       "      <th>6655</th>\n",
       "      <td>-1.010798</td>\n",
       "      <td>0.494555</td>\n",
       "      <td>-0.007415</td>\n",
       "      <td>0.136391</td>\n",
       "      <td>-0.896909</td>\n",
       "      <td>1</td>\n",
       "      <td>1</td>\n",
       "      <td>-0.727858</td>\n",
       "      <td>0</td>\n",
       "      <td>0</td>\n",
       "      <td>1</td>\n",
       "    </tr>\n",
       "    <tr>\n",
       "      <th>4287</th>\n",
       "      <td>0.639554</td>\n",
       "      <td>1.353490</td>\n",
       "      <td>-1.454209</td>\n",
       "      <td>0.358435</td>\n",
       "      <td>-0.896909</td>\n",
       "      <td>1</td>\n",
       "      <td>1</td>\n",
       "      <td>-0.477006</td>\n",
       "      <td>1</td>\n",
       "      <td>0</td>\n",
       "      <td>1</td>\n",
       "    </tr>\n",
       "    <tr>\n",
       "      <th>42</th>\n",
       "      <td>-0.990168</td>\n",
       "      <td>2.116987</td>\n",
       "      <td>-1.092511</td>\n",
       "      <td>0.651725</td>\n",
       "      <td>-0.896909</td>\n",
       "      <td>1</td>\n",
       "      <td>1</td>\n",
       "      <td>-0.100232</td>\n",
       "      <td>0</td>\n",
       "      <td>0</td>\n",
       "      <td>0</td>\n",
       "    </tr>\n",
       "    <tr>\n",
       "      <th>8178</th>\n",
       "      <td>0.567351</td>\n",
       "      <td>0.685430</td>\n",
       "      <td>0.715982</td>\n",
       "      <td>0.813110</td>\n",
       "      <td>0.816929</td>\n",
       "      <td>1</td>\n",
       "      <td>1</td>\n",
       "      <td>0.801922</td>\n",
       "      <td>0</td>\n",
       "      <td>0</td>\n",
       "      <td>0</td>\n",
       "    </tr>\n",
       "    <tr>\n",
       "      <th>2127</th>\n",
       "      <td>0.598296</td>\n",
       "      <td>-0.459816</td>\n",
       "      <td>1.439380</td>\n",
       "      <td>0.921963</td>\n",
       "      <td>0.816929</td>\n",
       "      <td>1</td>\n",
       "      <td>0</td>\n",
       "      <td>0.820416</td>\n",
       "      <td>1</td>\n",
       "      <td>0</td>\n",
       "      <td>1</td>\n",
       "    </tr>\n",
       "    <tr>\n",
       "      <th>2051</th>\n",
       "      <td>0.618925</td>\n",
       "      <td>-0.173505</td>\n",
       "      <td>-1.454209</td>\n",
       "      <td>0.482629</td>\n",
       "      <td>0.816929</td>\n",
       "      <td>0</td>\n",
       "      <td>0</td>\n",
       "      <td>1.208574</td>\n",
       "      <td>0</td>\n",
       "      <td>0</td>\n",
       "      <td>0</td>\n",
       "    </tr>\n",
       "    <tr>\n",
       "      <th>6712</th>\n",
       "      <td>-0.546636</td>\n",
       "      <td>0.399118</td>\n",
       "      <td>-0.369113</td>\n",
       "      <td>-1.232442</td>\n",
       "      <td>-0.896909</td>\n",
       "      <td>1</td>\n",
       "      <td>0</td>\n",
       "      <td>1.225280</td>\n",
       "      <td>0</td>\n",
       "      <td>0</td>\n",
       "      <td>0</td>\n",
       "    </tr>\n",
       "    <tr>\n",
       "      <th>4994</th>\n",
       "      <td>1.485360</td>\n",
       "      <td>1.258053</td>\n",
       "      <td>-0.007415</td>\n",
       "      <td>1.450438</td>\n",
       "      <td>-0.896909</td>\n",
       "      <td>1</td>\n",
       "      <td>1</td>\n",
       "      <td>-0.645530</td>\n",
       "      <td>1</td>\n",
       "      <td>0</td>\n",
       "      <td>0</td>\n",
       "    </tr>\n",
       "    <tr>\n",
       "      <th>9523</th>\n",
       "      <td>0.082561</td>\n",
       "      <td>-0.650691</td>\n",
       "      <td>-1.815908</td>\n",
       "      <td>0.607589</td>\n",
       "      <td>-0.896909</td>\n",
       "      <td>1</td>\n",
       "      <td>0</td>\n",
       "      <td>-0.266350</td>\n",
       "      <td>0</td>\n",
       "      <td>0</td>\n",
       "      <td>0</td>\n",
       "    </tr>\n",
       "  </tbody>\n",
       "</table>\n",
       "</div>"
      ],
      "text/plain": [
       "      credit_score       age    tenure   balance  num_of_products  \\\n",
       "492      -0.134048 -0.078068 -0.369113  0.076163         0.816929   \n",
       "6655     -1.010798  0.494555 -0.007415  0.136391        -0.896909   \n",
       "4287      0.639554  1.353490 -1.454209  0.358435        -0.896909   \n",
       "42       -0.990168  2.116987 -1.092511  0.651725        -0.896909   \n",
       "8178      0.567351  0.685430  0.715982  0.813110         0.816929   \n",
       "2127      0.598296 -0.459816  1.439380  0.921963         0.816929   \n",
       "2051      0.618925 -0.173505 -1.454209  0.482629         0.816929   \n",
       "6712     -0.546636  0.399118 -0.369113 -1.232442        -0.896909   \n",
       "4994      1.485360  1.258053 -0.007415  1.450438        -0.896909   \n",
       "9523      0.082561 -0.650691 -1.815908  0.607589        -0.896909   \n",
       "\n",
       "      has_cr_card  is_active_member  estimated_salary  geography_germany  \\\n",
       "492             0                 1          0.331571                  0   \n",
       "6655            1                 1         -0.727858                  0   \n",
       "4287            1                 1         -0.477006                  1   \n",
       "42              1                 1         -0.100232                  0   \n",
       "8178            1                 1          0.801922                  0   \n",
       "2127            1                 0          0.820416                  1   \n",
       "2051            0                 0          1.208574                  0   \n",
       "6712            1                 0          1.225280                  0   \n",
       "4994            1                 1         -0.645530                  1   \n",
       "9523            1                 0         -0.266350                  0   \n",
       "\n",
       "      geography_spain  gender_male  \n",
       "492                 0            0  \n",
       "6655                0            1  \n",
       "4287                0            1  \n",
       "42                  0            0  \n",
       "8178                0            0  \n",
       "2127                0            1  \n",
       "2051                0            0  \n",
       "6712                0            0  \n",
       "4994                0            0  \n",
       "9523                0            0  "
      ]
     },
     "execution_count": 33,
     "metadata": {},
     "output_type": "execute_result"
    }
   ],
   "source": [
    "features_train.head(10)"
   ]
  },
  {
   "cell_type": "markdown",
   "id": "80e19124",
   "metadata": {},
   "source": [
    "## Увеличение выборки методом upsampling"
   ]
  },
  {
   "cell_type": "markdown",
   "id": "36454d11",
   "metadata": {},
   "source": [
    "Напишем функцию для увеличения выборки, для этого будем использовать обучающий набор данных. Суть метода заключается в том, чтобы увеличить количество значений того класса, которого меньше в выборке."
   ]
  },
  {
   "cell_type": "code",
   "execution_count": 34,
   "id": "fa07df6d",
   "metadata": {},
   "outputs": [],
   "source": [
    "def upsampling(features, target, repeat):\n",
    "    features_zeros = features[target == 0]\n",
    "    features_ones = features[target == 1]\n",
    "    target_zeros = target[target == 0]\n",
    "    target_ones = target[target == 1]\n",
    "\n",
    "    features_upsampling = pd.concat([features_zeros] + [features_ones] * repeat)\n",
    "    target_upsampling = pd.concat([target_zeros] + [target_ones] * repeat)\n",
    "\n",
    "    features_upsampling, target_upsampling = shuffle(features_upsampling,\n",
    "                                                    target_upsampling,\n",
    "                                                    random_state=12345)\n",
    "    return features_upsampling, target_upsampling"
   ]
  },
  {
   "cell_type": "code",
   "execution_count": 35,
   "id": "b9dea22f",
   "metadata": {},
   "outputs": [],
   "source": [
    "features_upsampling, target_upsampling = upsampling(features_train, target_train, 4)"
   ]
  },
  {
   "cell_type": "code",
   "execution_count": 36,
   "id": "24e4c86a",
   "metadata": {},
   "outputs": [
    {
     "name": "stdout",
     "output_type": "stream",
     "text": [
      "Количество не ушедших пользователей в обучающей выборке 4781шт, это 49.5% от размера выборки\n",
      "Количество ушедших пользователей в обучающей выборке 4876шт, это 50.5% от размера выборки\n"
     ]
    }
   ],
   "source": [
    "print(\n",
    "    'Количество не ушедших пользователей в обучающей выборке {}шт, это {:.1%} от размера выборки'\n",
    "    .format(target_upsampling[target_upsampling == 0].count(), \n",
    "            len(target_upsampling[target_upsampling == 0])/len(target_upsampling)))\n",
    "print(\n",
    "    'Количество ушедших пользователей в обучающей выборке {}шт, это {:.1%} от размера выборки'\n",
    "    .format(target_upsampling.sum(), target_upsampling.mean()))"
   ]
  },
  {
   "cell_type": "markdown",
   "id": "ebb67395",
   "metadata": {},
   "source": [
    "## Уменьшение выборки методом downsampling"
   ]
  },
  {
   "cell_type": "markdown",
   "id": "1ca1da0c",
   "metadata": {},
   "source": [
    "Напишем функцию для уменьшения выборки, для этого будем использовать обучающий набор данных. Суть метода заключается в том, чтобы уменьшить количество значений того класса, которого больше в выборке."
   ]
  },
  {
   "cell_type": "code",
   "execution_count": 37,
   "id": "80e9b5db",
   "metadata": {},
   "outputs": [],
   "source": [
    "def downsampling(features, target, fraction):\n",
    "    features_zeros = features[target == 0]\n",
    "    features_ones = features[target == 1]\n",
    "    target_zeros = target[target == 0]\n",
    "    target_ones = target[target == 1]\n",
    "\n",
    "    features_downsampling = pd.concat(\n",
    "        [features_zeros.sample(frac=fraction, random_state=12345)] +\n",
    "        [features_ones])\n",
    "    target_downsampling = pd.concat(\n",
    "        [target_zeros.sample(frac=fraction, random_state=12345)] +\n",
    "        [target_ones])\n",
    "\n",
    "    features_downsampling, target_downsampling = shuffle(features_downsampling,\n",
    "                                                        target_downsampling,\n",
    "                                                        random_state=12345)\n",
    "    \n",
    "    return features_downsampling, target_downsampling"
   ]
  },
  {
   "cell_type": "code",
   "execution_count": 38,
   "id": "4c08569f",
   "metadata": {},
   "outputs": [],
   "source": [
    "features_downsampling, target_downsampling = downsampling(features, target, 0.25)"
   ]
  },
  {
   "cell_type": "code",
   "execution_count": 39,
   "id": "c7c2d1dc",
   "metadata": {},
   "outputs": [
    {
     "name": "stdout",
     "output_type": "stream",
     "text": [
      "Количество не ушедших пользователей в обучающей выборке 1991шт, это 49.4% от размера выборки\n",
      "Количество ушедших пользователей в обучающей выборке 2037шт, это 50.6% от размера выборки\n"
     ]
    }
   ],
   "source": [
    "print(\n",
    "    'Количество не ушедших пользователей в обучающей выборке {}шт, это {:.1%} от размера выборки'\n",
    "    .format(target_downsampling[target_downsampling == 0].count(), \n",
    "            len(target_downsampling[target_downsampling == 0])/len(target_downsampling)))\n",
    "print(\n",
    "    'Количество ушедших пользователей в обучающей выборке {}шт, это {:.1%} от размера выборки'\n",
    "    .format(target_downsampling.sum(), target_downsampling.mean()))"
   ]
  },
  {
   "cell_type": "markdown",
   "id": "3a8eff38",
   "metadata": {},
   "source": [
    "## Вывод"
   ]
  },
  {
   "cell_type": "markdown",
   "id": "81afc898",
   "metadata": {},
   "source": [
    "На данном этапе мы выполнили следующую работу:\n",
    "1) Мы определили, что перед нами стоит здача бинарной классификации, необходимо определить уйдет клиент из банка или нет.  \n",
    "Для того, чтобы обучить модель машинного обучения мы разбили данные на признаки и целую переменную. Целевой переменной выступает столбец `exited` — факт ухода клиента, а остальные столбцы будут признаками.  \n",
    "2) Мы обучили несколько моделей машинного обучения без учета дисбаланса класса: \n",
    "- Логистическая регрессия  \n",
    "- Дерево решений  \n",
    "- Случайный лес \n",
    "\n",
    "Самый наилучший результата показала модель случайного леса с **f1_score** равным 0.58, что близко к требуемому значению и **ROC_AUC_score** равный 0.69, что говорит что модель не совсем плохо предсказывает верные значения.   \n",
    "3) Далее мы масштабировали признаки. Один из методов масштабирования — стандартизации данных. Она делается чтобы привести данные к одному масштабу, для этого мы привели столбцы с числовыми данными к одному масштабу. Для этого использовали StandardScaler из библиотеки sklearn.  \n",
    "4) После этого мы написали функцию для увеличения выборки, для этого использовали обучающий набор данных. Суть метода заключается в том, чтобы увеличить количество значений того класса, которого меньше в выборке.  \n",
    "5) И написали функцию для уменьшения выборки, для этого будем использовать обучающий набор данных. Суть метода заключается в том, чтобы уменьшить количество значений того класса, которого больше в выборке."
   ]
  },
  {
   "cell_type": "markdown",
   "id": "f59d39be",
   "metadata": {},
   "source": [
    "# Обучение моделей машинного обучения"
   ]
  },
  {
   "cell_type": "markdown",
   "id": "e40e6446",
   "metadata": {},
   "source": [
    "На данном этапе мы будем обучать несколько моделей машинного обучения: \n",
    "- Логистическая регрессия\n",
    "- Дерево решений\n",
    "- Случайный лес"
   ]
  },
  {
   "cell_type": "markdown",
   "id": "c4bd50b9",
   "metadata": {},
   "source": [
    "## Логистическая регрессия"
   ]
  },
  {
   "cell_type": "markdown",
   "id": "335c1e5b",
   "metadata": {},
   "source": [
    "Для начала обучим модель логистической регрессии на обучающей выборке, но так как у нас есть дисбаланс классов мы зададим параметр `class_weight` со значением **balanced**"
   ]
  },
  {
   "cell_type": "markdown",
   "id": "afb72306",
   "metadata": {},
   "source": [
    "### Логистическая регресия с `class_weight` = balanced"
   ]
  },
  {
   "cell_type": "markdown",
   "id": "bb1f608e",
   "metadata": {},
   "source": [
    "Создадим и обучим модель логистической регрессии"
   ]
  },
  {
   "cell_type": "code",
   "execution_count": 40,
   "id": "282ec8e2",
   "metadata": {},
   "outputs": [
    {
     "data": {
      "text/plain": [
       "LogisticRegression(class_weight='balanced', random_state=12345,\n",
       "                   solver='liblinear')"
      ]
     },
     "execution_count": 40,
     "metadata": {},
     "output_type": "execute_result"
    }
   ],
   "source": [
    "lr_model_balanced = LogisticRegression(solver='liblinear', class_weight='balanced', random_state=12345)\n",
    "lr_model_balanced.fit(features_train, target_train)"
   ]
  },
  {
   "cell_type": "markdown",
   "id": "ebf4219e",
   "metadata": {},
   "source": [
    "Получим предсказание модели ухода пользователей на валидационной выборке и посмотрим на сколько верно наша модель предсказывает результаты"
   ]
  },
  {
   "cell_type": "code",
   "execution_count": 41,
   "id": "45f81090",
   "metadata": {},
   "outputs": [
    {
     "name": "stdout",
     "output_type": "stream",
     "text": [
      "F1_score равен 0.47\n",
      "ROC_AUC_score равен 0.77\n"
     ]
    }
   ],
   "source": [
    "balanced_predict_valid = lr_model_balanced.predict(features_valid)\n",
    "\n",
    "balanced_prob_valid = lr_model_balanced.predict_proba(features_valid)\n",
    "balanced_prob_valid_ones = balanced_prob_valid[:,1]\n",
    "\n",
    "print(\"F1_score равен {:.2f}\".format(f1_score(target_valid, balanced_predict_valid)))\n",
    "print(\"ROC_AUC_score равен {:.2f}\".format(roc_auc_score(target_valid, balanced_prob_valid_ones)))"
   ]
  },
  {
   "cell_type": "markdown",
   "id": "9bcb65ea",
   "metadata": {},
   "source": [
    "Как мы видим, значение **f1_score** далеко от 1 и равен 0.47, а значит модель плохо предсказывет верные результаты, а вот значение **ROC_AUC_score** выше 0.5, что говорит о том, что модель предсказывает результаты лучше чем случайная модель. "
   ]
  },
  {
   "cell_type": "markdown",
   "id": "78c36e99",
   "metadata": {},
   "source": [
    "### Логистическая регресия с увеличение выборки методом upsampling"
   ]
  },
  {
   "cell_type": "markdown",
   "id": "ea9703f6",
   "metadata": {},
   "source": [
    "Создадим и обучим модель логистической регрессии"
   ]
  },
  {
   "cell_type": "code",
   "execution_count": 42,
   "id": "aac787f4",
   "metadata": {},
   "outputs": [
    {
     "data": {
      "text/plain": [
       "LogisticRegression(random_state=12345, solver='liblinear')"
      ]
     },
     "execution_count": 42,
     "metadata": {},
     "output_type": "execute_result"
    }
   ],
   "source": [
    "lr_model_upsampling = LogisticRegression(solver='liblinear', random_state=12345)\n",
    "lr_model_upsampling.fit(features_upsampling, target_upsampling)"
   ]
  },
  {
   "cell_type": "markdown",
   "id": "ceec569e",
   "metadata": {},
   "source": [
    "Получим предсказание модели ухода пользователей на валидационной выборке и посмотрим на сколько верно наша модель предсказывает результаты"
   ]
  },
  {
   "cell_type": "code",
   "execution_count": 43,
   "id": "3c7f6237",
   "metadata": {},
   "outputs": [
    {
     "name": "stdout",
     "output_type": "stream",
     "text": [
      "F1_score равен 0.48\n",
      "ROC_AUC_score равен 0.77\n"
     ]
    }
   ],
   "source": [
    "upsampling_predict_valid = lr_model_upsampling.predict(features_valid)\n",
    "\n",
    "upsampling_prob_valid = lr_model_upsampling.predict_proba(features_valid)\n",
    "upsampling_prob_valid_ones = upsampling_prob_valid[:, 1]\n",
    "\n",
    "print(\"F1_score равен {:.2f}\".format(f1_score(target_valid, upsampling_predict_valid)))\n",
    "print(\"ROC_AUC_score равен {:.2f}\".format(roc_auc_score(target_valid, upsampling_prob_valid_ones)))"
   ]
  },
  {
   "cell_type": "markdown",
   "id": "99589272",
   "metadata": {},
   "source": [
    "В случае использования увеличения выборки **f1_score** совсем чуть-чуть показал более лучшее значение равное 0.48"
   ]
  },
  {
   "cell_type": "markdown",
   "id": "b1da1d5b",
   "metadata": {},
   "source": [
    "### Логистическая регресия с уменьшение выборки методом downsampling"
   ]
  },
  {
   "cell_type": "markdown",
   "id": "668222bd",
   "metadata": {},
   "source": [
    "Создадим и обучим модель логистической регрессии"
   ]
  },
  {
   "cell_type": "code",
   "execution_count": 44,
   "id": "ebc85e4c",
   "metadata": {},
   "outputs": [
    {
     "data": {
      "text/plain": [
       "LogisticRegression(random_state=12345, solver='liblinear')"
      ]
     },
     "execution_count": 44,
     "metadata": {},
     "output_type": "execute_result"
    }
   ],
   "source": [
    "lr_model_downsampling = LogisticRegression(solver='liblinear', random_state=12345)\n",
    "lr_model_downsampling.fit(features_downsampling, target_downsampling)"
   ]
  },
  {
   "cell_type": "markdown",
   "id": "13259303",
   "metadata": {},
   "source": [
    "Получим предсказание модели ухода пользователей на валидационной выборке и посмотрим на сколько верно наша модель предсказывает результаты"
   ]
  },
  {
   "cell_type": "code",
   "execution_count": 45,
   "id": "04e1c614",
   "metadata": {},
   "outputs": [
    {
     "name": "stdout",
     "output_type": "stream",
     "text": [
      "F1_score равен 0.46\n",
      "ROC_AUC_score равен 0.75\n"
     ]
    }
   ],
   "source": [
    "downsampling_predict_valid = lr_model_downsampling.predict(features_valid)\n",
    "\n",
    "downsampling_prob_valid = lr_model_downsampling.predict_proba(features_valid)\n",
    "downsampling_prob_valid_ones = downsampling_prob_valid[:,1]\n",
    "\n",
    "print(\"F1_score равен {:.2f}\".format(f1_score(target_valid, downsampling_predict_valid)))\n",
    "print(\"ROC_AUC_score равен {:.2f}\".format(roc_auc_score(target_valid, downsampling_prob_valid_ones)))"
   ]
  },
  {
   "cell_type": "markdown",
   "id": "30a503d7",
   "metadata": {},
   "source": [
    "Метод уменьшения выборки показал самый наихудший вариант работы модели логистической регрессии "
   ]
  },
  {
   "cell_type": "markdown",
   "id": "baa733e5",
   "metadata": {},
   "source": [
    "### Вывод"
   ]
  },
  {
   "cell_type": "markdown",
   "id": "e69d6865",
   "metadata": {},
   "source": [
    "При обучении логистической регрессии было применено 3 метода:\n",
    "1) Применение параметра `class_weight` = balanced  \n",
    "2) Увеличение выборки методом upsampling  \n",
    "3) Уменьшение выборки методом downsampling  \n",
    "\n",
    "Самый наулучший результат показала модель логистической регрессии с применение метода увеличение выборки методом **upsampling**. Получили результаты:\n",
    "- **F1_score** равен 0.48\n",
    "- **ROC_AUC_score** равен 0.77  \n",
    "\n",
    "Значение **f1_score** далеко от 1, а значит модель плохо предсказывет верные результаты, а вот значение **ROC_AUC_score** выше 0.5, что говорит о том, что модель предсказывает результаты лучше чем случайная модель.  \n",
    "Самый наихудший результат показала модель с уменьшение выборки методом downsampling."
   ]
  },
  {
   "cell_type": "markdown",
   "id": "8f2a4eff",
   "metadata": {},
   "source": [
    "## Дерево решений"
   ]
  },
  {
   "cell_type": "markdown",
   "id": "153ba133",
   "metadata": {},
   "source": [
    "Для начала обучим модель дерева решений на обучающей выборке, но так как у нас есть дисбаланс классов мы зададим параметр `class_weight` со значением **balanced**"
   ]
  },
  {
   "cell_type": "markdown",
   "id": "e040f8b8",
   "metadata": {},
   "source": [
    "### Дерево решений с `class_weight` = balanced"
   ]
  },
  {
   "cell_type": "markdown",
   "id": "a5b9e83c",
   "metadata": {},
   "source": [
    "Создадим и обучим модель дерева предсказаний"
   ]
  },
  {
   "cell_type": "code",
   "execution_count": 46,
   "id": "2007644b",
   "metadata": {},
   "outputs": [
    {
     "name": "stdout",
     "output_type": "stream",
     "text": [
      "Наилучший результат f1_score равен 0.56\n",
      "Максимальная глубина равна 6\n",
      "ROC_AUC_score равен 0.81\n"
     ]
    }
   ],
   "source": [
    "best_balanced_f1_score = 0\n",
    "best_balanced_depth = 0\n",
    "best_balanced_roc = 0\n",
    "best_balanced_tree = None\n",
    "\n",
    "for depth in range(1, 16):\n",
    "    dt_model_balanced = DecisionTreeClassifier(max_depth=depth,\n",
    "                                               class_weight='balanced',\n",
    "                                               random_state=12345)\n",
    "    dt_model_balanced.fit(features_train, target_train)\n",
    "\n",
    "    predict_valid = dt_model_balanced.predict(features_valid)\n",
    "\n",
    "    prob_valid = dt_model_balanced.predict_proba(features_valid)\n",
    "    prob_valid_ones = prob_valid[:, 1]\n",
    "    \n",
    "    f1 = f1_score(target_valid, predict_valid)\n",
    "    roc_score = roc_auc_score(target_valid, prob_valid_ones)\n",
    "\n",
    "    if f1 > best_balanced_f1_score:\n",
    "        best_balanced_f1_score = f1\n",
    "        best_balanced_depth = depth\n",
    "        best_balanced_roc = roc_score\n",
    "        best_balanced_tree = dt_model_balanced\n",
    "\n",
    "print(\"Наилучший результат f1_score равен {:.2f}\".format(best_balanced_f1_score))\n",
    "print(\"Максимальная глубина равна {}\".format(best_balanced_depth))\n",
    "print(\"ROC_AUC_score равен {:.2f}\".format(best_balanced_roc))"
   ]
  },
  {
   "cell_type": "markdown",
   "id": "3f4ac7ee",
   "metadata": {},
   "source": [
    "Как мы видим **f1_score** равен 0.56, что говорит о том, что наша модель по прежнему предсказывает результаты плохо"
   ]
  },
  {
   "cell_type": "markdown",
   "id": "6b158f21",
   "metadata": {},
   "source": [
    "### Дерево решений с увеличение выборки методом upsampling"
   ]
  },
  {
   "cell_type": "markdown",
   "id": "f4bbce1c",
   "metadata": {},
   "source": [
    "Создадим и обучим модель дерева решений"
   ]
  },
  {
   "cell_type": "code",
   "execution_count": 47,
   "id": "e3ccc4ea",
   "metadata": {},
   "outputs": [
    {
     "name": "stdout",
     "output_type": "stream",
     "text": [
      "Наилучший результат f1_score равен 0.56\n",
      "Максимальная глубина равна 6\n",
      "ROC_AUC_score равен 0.81\n"
     ]
    }
   ],
   "source": [
    "best_upsampling_f1_score = 0\n",
    "best_upsampling_depth = 0\n",
    "best_upsampling_roc = 0\n",
    "best_upsampling_tree = None\n",
    "\n",
    "for depth in range(1, 16):\n",
    "    dt_model_upsampling = DecisionTreeClassifier(max_depth=depth,\n",
    "                                               random_state=12345)\n",
    "    dt_model_upsampling.fit(features_upsampling, target_upsampling)\n",
    "\n",
    "    predict_valid = dt_model_upsampling.predict(features_valid)\n",
    "\n",
    "    prob_valid = dt_model_upsampling.predict_proba(features_valid)\n",
    "    prob_valid_ones = prob_valid[:, 1]\n",
    "    \n",
    "    f1 = f1_score(target_valid, predict_valid)\n",
    "    roc_score = roc_auc_score(target_valid, prob_valid_ones)\n",
    "\n",
    "    if f1 > best_upsampling_f1_score:\n",
    "        best_upsampling_f1_score = f1\n",
    "        best_upsampling_depth = depth\n",
    "        best_upsampling_roc = roc_score\n",
    "        best_upsampling_tree = dt_model_balanced\n",
    "\n",
    "print(\"Наилучший результат f1_score равен {:.2f}\".format(best_upsampling_f1_score))\n",
    "print(\"Максимальная глубина равна {}\".format(best_upsampling_depth))\n",
    "print(\"ROC_AUC_score равен {:.2f}\".format(best_upsampling_roc))"
   ]
  },
  {
   "cell_type": "markdown",
   "id": "340da6c5",
   "metadata": {},
   "source": [
    "Данный метод никаких улучшений не принес"
   ]
  },
  {
   "cell_type": "markdown",
   "id": "16bd8e4d",
   "metadata": {},
   "source": [
    "### Дерево решений с уменьшение выборки методом downsampling"
   ]
  },
  {
   "cell_type": "markdown",
   "id": "1a6916d0",
   "metadata": {},
   "source": [
    "Создадим и обучим модель дерева решений"
   ]
  },
  {
   "cell_type": "code",
   "execution_count": 48,
   "id": "89c29444",
   "metadata": {},
   "outputs": [
    {
     "name": "stdout",
     "output_type": "stream",
     "text": [
      "Наилучший результат f1_score равен 0.39\n",
      "ROC_AUC_score равен 0.63\n",
      "Максимальная глубина равна 4\n"
     ]
    }
   ],
   "source": [
    "best_downsampling_f1_score = 0\n",
    "best_downsampling_depth = 0\n",
    "best_downsampling_roc = 0\n",
    "best_downsampling_tree = None\n",
    "\n",
    "for depth in range(1, 16):\n",
    "    dt_model_downsampling = DecisionTreeClassifier(max_depth=depth,\n",
    "                                               random_state=12345)\n",
    "    dt_model_downsampling.fit(features_downsampling, target_downsampling)\n",
    "\n",
    "    predict_valid = dt_model_downsampling.predict(features_valid)\n",
    "\n",
    "    prob_valid = dt_model_downsampling.predict_proba(features_valid)\n",
    "    prob_valid_ones = prob_valid[:, 1]\n",
    "    \n",
    "    f1 = f1_score(target_valid, predict_valid)\n",
    "    roc_score = roc_auc_score(target_valid, prob_valid_ones)\n",
    "\n",
    "    if f1 > best_downsampling_f1_score:\n",
    "        best_downsampling_f1_score = f1\n",
    "        best_downsampling_depth = depth\n",
    "        best_downsampling_roc = roc_score\n",
    "        best_downsampling_tree = dt_model_balanced\n",
    "\n",
    "print(\"Наилучший результат f1_score равен {:.2f}\".format(best_downsampling_f1_score))\n",
    "print(\"ROC_AUC_score равен {:.2f}\".format(best_downsampling_roc))\n",
    "print(\"Максимальная глубина равна {}\".format(best_downsampling_depth))"
   ]
  },
  {
   "cell_type": "markdown",
   "id": "3ec1a1ee",
   "metadata": {},
   "source": [
    "Как мы видим, данный метод показал себя хуже всего"
   ]
  },
  {
   "cell_type": "markdown",
   "id": "5c4ff959",
   "metadata": {},
   "source": [
    "### Вывод"
   ]
  },
  {
   "cell_type": "markdown",
   "id": "e3636319",
   "metadata": {},
   "source": [
    "При обучении дерева решений было применено 3 метода:\n",
    "1) Применение параметра `class_weight` = balanced  \n",
    "2) Увеличение выборки методом upsampling  \n",
    "3) Уменьшение выборки методом downsampling  \n",
    "\n",
    "Самый наулучший результат показала модель дерева решений с применение метода увеличение выборки методом **upsampling** и применение параметра `class_weight` = balanced. Получили результаты:\n",
    "- **F1_score** равен 0.56\n",
    "- **ROC_AUC_score** равен 0.81\n",
    "- **Глубина дерева** равна 6\n",
    "\n",
    "Значение **f1_score** далеко от 1, а значит модель плохо предсказывет верные результаты, а вот значение **ROC_AUC_score** выше 0.5, что говорит о том, что модель предсказывает результаты лучше чем случайная модель.  \n",
    "Самый наихудший результат показала модель с уменьшение выборки методом downsampling."
   ]
  },
  {
   "cell_type": "markdown",
   "id": "626701b0",
   "metadata": {},
   "source": [
    "## Случайный лес"
   ]
  },
  {
   "cell_type": "markdown",
   "id": "cceabebd",
   "metadata": {},
   "source": [
    "Для начала обучим модель случайного леса на обучающей выборке, но так как у нас есть дисбаланс классов мы зададим параметр `class_weight` со значением **balanced**"
   ]
  },
  {
   "cell_type": "markdown",
   "id": "9c369641",
   "metadata": {},
   "source": [
    "### Случайный лес с `class_weight` = balanced"
   ]
  },
  {
   "cell_type": "markdown",
   "id": "dcbe6ce7",
   "metadata": {},
   "source": [
    "Создадим и обучим модель случайного леса"
   ]
  },
  {
   "cell_type": "code",
   "execution_count": 49,
   "id": "850c55b6",
   "metadata": {},
   "outputs": [
    {
     "name": "stdout",
     "output_type": "stream",
     "text": [
      "Наилучший результат f1_score равен 0.60\n",
      "ROC_AUC_score равен 0.62\n",
      "Максимальная глубина равна 11\n",
      "Количество деревьев равно 60\n"
     ]
    }
   ],
   "source": [
    "best_rf_balanced_f1_score = 0\n",
    "best_rf_balanced_depth = 0\n",
    "best_rf_balanced_roc = 0\n",
    "best_balanced_estimators = 0\n",
    "best_balanced_rf = None\n",
    "\n",
    "for estimators in range(10, 101, 10):\n",
    "    for depth in range(1, 16):\n",
    "        rf_balanced_model = RandomForestClassifier(n_estimators=estimators, \n",
    "                                                   max_depth=depth,\n",
    "                                                   class_weight='balanced',\n",
    "                                                   random_state=12345)\n",
    "        rf_balanced_model.fit(features_train, target_train)\n",
    "        \n",
    "        predict_valid = rf_balanced_model.predict(features_valid)\n",
    "        prob_valide = rf_balanced_model.predict_proba(features_valid)\n",
    "        prob_valid_ones = prob_valid[:, 1]\n",
    "        \n",
    "        f1 = f1_score(target_valid, predict_valid)\n",
    "        roc_score = roc_auc_score(target_valid, prob_valid_ones)\n",
    "        \n",
    "        if f1 > best_rf_balanced_f1_score:\n",
    "            best_rf_balanced_f1_score = f1\n",
    "            best_rf_balanced_depth = depth\n",
    "            best_rf_balanced_roc = roc_score\n",
    "            best_balanced_estimators = estimators\n",
    "            best_balanced_rf = rf_balanced_model\n",
    "            \n",
    "            \n",
    "print(\"Наилучший результат f1_score равен {:.2f}\".format(best_rf_balanced_f1_score))\n",
    "print(\"ROC_AUC_score равен {:.2f}\".format(best_rf_balanced_roc))  \n",
    "print(\"Максимальная глубина равна {}\".format(best_rf_balanced_depth))\n",
    "print(\"Количество деревьев равно {}\".format(best_balanced_estimators))"
   ]
  },
  {
   "cell_type": "markdown",
   "id": "5f89c1b7",
   "metadata": {},
   "source": [
    "### Случайный лес с увеличение выборки методом upsampling"
   ]
  },
  {
   "cell_type": "markdown",
   "id": "b2096100",
   "metadata": {},
   "source": [
    "Создадим и обучим модель дерева решений"
   ]
  },
  {
   "cell_type": "code",
   "execution_count": 50,
   "id": "5e98d619",
   "metadata": {},
   "outputs": [
    {
     "name": "stdout",
     "output_type": "stream",
     "text": [
      "Наилучший результат f1_score равен 0.60\n",
      "ROC_AUC_score равен 0.62\n",
      "Максимальная глубина равна 13\n",
      "Количество деревьев равно 80\n"
     ]
    }
   ],
   "source": [
    "best_rf_upsampling_f1_score = 0\n",
    "best_rf_upsampling_depth = 0\n",
    "best_rf_upsampling_roc = 0\n",
    "best_upsampling_estimators = 0\n",
    "best_upsampling_rf = None\n",
    "\n",
    "for estimators in range(10, 101, 10):\n",
    "    for depth in range(1, 16):\n",
    "        rf_upsampling_model = RandomForestClassifier(n_estimators=estimators, \n",
    "                                                   max_depth=depth,\n",
    "                                                   random_state=12345)\n",
    "        rf_upsampling_model.fit(features_upsampling, target_upsampling)\n",
    "        \n",
    "        predict_valid = rf_upsampling_model.predict(features_valid)\n",
    "        prob_valide = rf_upsampling_model.predict_proba(features_valid)\n",
    "        prob_valid_ones = prob_valid[:, 1]\n",
    "        \n",
    "        f1 = f1_score(target_valid, predict_valid)\n",
    "        roc_score = roc_auc_score(target_valid, prob_valid_ones)\n",
    "        \n",
    "        if f1 > best_rf_upsampling_f1_score:\n",
    "            best_rf_upsampling_f1_score = f1\n",
    "            best_rf_upsampling_depth = depth\n",
    "            best_rf_upsampling_roc = roc_score\n",
    "            best_upsampling_estimators = estimators\n",
    "            best_upsampling_rf = rf_upsampling_model\n",
    "            \n",
    "            \n",
    "print(\"Наилучший результат f1_score равен {:.2f}\".format(best_rf_upsampling_f1_score))\n",
    "print(\"ROC_AUC_score равен {:.2f}\".format(best_rf_upsampling_roc))  \n",
    "print(\"Максимальная глубина равна {}\".format(best_rf_upsampling_depth))\n",
    "print(\"Количество деревьев равно {}\".format(best_upsampling_estimators))"
   ]
  },
  {
   "cell_type": "markdown",
   "id": "871bbfb9",
   "metadata": {},
   "source": [
    "### Случайный лес с уменьшение выборки методом downsampling"
   ]
  },
  {
   "cell_type": "code",
   "execution_count": 51,
   "id": "8cb255da",
   "metadata": {},
   "outputs": [
    {
     "name": "stdout",
     "output_type": "stream",
     "text": [
      "Наилучший результат f1_score равен 0.44\n",
      "ROC_AUC_score равен 0.62\n",
      "Максимальная глубина равна 4\n",
      "Количество деревьев равно 100\n"
     ]
    }
   ],
   "source": [
    "best_rf_downsampling_f1_score = 0\n",
    "best_rf_downsampling_depth = 0\n",
    "best_rf_downsampling_roc = 0\n",
    "best_downsampling_estimators = 0\n",
    "best_downsampling_rf = None\n",
    "\n",
    "for estimators in range(10, 101, 10):\n",
    "    for depth in range(1, 16):\n",
    "        rf_downsampling_model = RandomForestClassifier(n_estimators=estimators, \n",
    "                                                   max_depth=depth,\n",
    "                                                   random_state=12345)\n",
    "        rf_downsampling_model.fit(features_downsampling, target_downsampling)\n",
    "        \n",
    "        predict_valid = rf_downsampling_model.predict(features_valid)\n",
    "        prob_valide = rf_downsampling_model.predict_proba(features_valid)\n",
    "        prob_valid_ones = prob_valid[:, 1]\n",
    "        \n",
    "        f1 = f1_score(target_valid, predict_valid)\n",
    "        roc_score = roc_auc_score(target_valid, prob_valid_ones)\n",
    "        \n",
    "        if f1 > best_rf_downsampling_f1_score:\n",
    "            best_rf_downsampling_f1_score = f1\n",
    "            best_rf_downsampling_depth = depth\n",
    "            best_rf_downsampling_roc = roc_score\n",
    "            best_downsampling_estimators = estimators\n",
    "            best_downsampling_rf = rf_downsampling_model\n",
    "            \n",
    "            \n",
    "print(\"Наилучший результат f1_score равен {:.2f}\".format(best_rf_downsampling_f1_score))\n",
    "print(\"ROC_AUC_score равен {:.2f}\".format(best_rf_downsampling_roc))  \n",
    "print(\"Максимальная глубина равна {}\".format(best_rf_downsampling_depth))\n",
    "print(\"Количество деревьев равно {}\".format(best_downsampling_estimators))"
   ]
  },
  {
   "cell_type": "markdown",
   "id": "fdc52be6",
   "metadata": {},
   "source": [
    "### Вывод"
   ]
  },
  {
   "cell_type": "markdown",
   "id": "ac8911b7",
   "metadata": {},
   "source": [
    "При обучении случайного леса было применено 3 метода:\n",
    "1) Применение параметра `class_weight` = balanced  \n",
    "2) Увеличение выборки методом upsampling  \n",
    "3) Уменьшение выборки методом downsampling  \n",
    "\n",
    "Самый наулучший результат показала модель случайного леса с применение метода увеличение выборки методом **upsampling** и применение параметра `class_weight` = balanced. Получили результаты:\n",
    "- **F1_score** равен 0.60\n",
    "- **ROC_AUC_score** равен 0.62\n",
    "- **Глубина дерева** равна 11 и 13\n",
    "\n",
    "Значение **f1_score** далеко от 1, а значит модель плохо предсказывет верные результаты, а вот значение **ROC_AUC_score** выше 0.5, что говорит о том, что модель предсказывает результаты лучше чем случайная модель.  \n",
    "Самый наихудший результат показала модель с уменьшение выборки методом downsampling."
   ]
  },
  {
   "cell_type": "markdown",
   "id": "634455e4",
   "metadata": {},
   "source": [
    "## Вывод"
   ]
  },
  {
   "cell_type": "markdown",
   "id": "517c7de3",
   "metadata": {},
   "source": [
    "На данном этапе было обучено несколько моделей машинного обучения: \n",
    "- Логистическая регрессия\n",
    "- Дерево решений\n",
    "- Случайный лес\n",
    "\n",
    "При обучении обучении моделей было применено 3 метода:\n",
    "- Применение параметра `class_weight` = balanced  \n",
    "- Увеличение выборки методом upsampling  \n",
    "- Уменьшение выборки методом downsampling  \n",
    "\n",
    "Наилучший результат среди всех моделей показала модель случайного леса ее **F1_score** равен 0.60, но при этом у нее оказался самый низкий **ROC_AUC_score** равный 0.62 с применение метода увеличение выборки методом **upsampling** и применение параметра `class_weight` = balanced. \n",
    "\n",
    "У дерева решений наилучший **F1_score** равен 0.56, а **ROC_AUC_score** равен 0.81 с применение метода увеличение выборки методом **upsampling** и применение параметра `class_weight` = balanced.\n",
    "\n",
    "У логистической регресии наилучший **F1_score** равен 0.48, а **ROC_AUC_score** равен 0.77 с применение метода увеличение выборки методом **upsampling**.  \n",
    "\n",
    "Получается, что преодолеть порог **F1_score** в 0.59 смогла только модель случайного леса, поэтому на ней и будем тестировать наш тестовый набор данных."
   ]
  },
  {
   "cell_type": "markdown",
   "id": "7b73563c",
   "metadata": {},
   "source": [
    "# Тестирование модели"
   ]
  },
  {
   "cell_type": "markdown",
   "id": "cbd57783",
   "metadata": {},
   "source": [
    "Возьмем наилучшую ранее обученную модель случайного леса с применение метода увеличение выборки методом upsampling и посмотрим на предсказания на тестовой выборке"
   ]
  },
  {
   "cell_type": "code",
   "execution_count": 52,
   "id": "8961fc4d",
   "metadata": {},
   "outputs": [
    {
     "name": "stdout",
     "output_type": "stream",
     "text": [
      "Результат f1_score на тестовой выборке равен 0.63\n",
      "ROC_AUC_score на тестовой выборке равен 0.86\n"
     ]
    }
   ],
   "source": [
    "predict_test = best_upsampling_rf.predict(features_test)\n",
    "predict_proba = best_upsampling_rf.predict_proba(features_test)\n",
    "predict_proba_ones = predict_proba[:, 1]\n",
    "\n",
    "f1 = f1_score(target_test, predict_test)\n",
    "roc_score = roc_auc_score(target_test, predict_proba_ones)\n",
    "\n",
    "print(\"Результат f1_score на тестовой выборке равен {:.2f}\".format(f1))\n",
    "print(\"ROC_AUC_score на тестовой выборке равен {:.2f}\".format(roc_score))  "
   ]
  },
  {
   "cell_type": "markdown",
   "id": "656f9606",
   "metadata": {},
   "source": [
    "Как мы выдим, на тестовой выборке мы получили **F1_score** равный 0.63 и **ROC_AUC_score** равный 0.86 - он почти равен 1, следовательно модель хорошо предсказывает результат. "
   ]
  },
  {
   "cell_type": "markdown",
   "id": "1d1f272d",
   "metadata": {},
   "source": [
    "Построим график чтобы посмотреть на важность признаков"
   ]
  },
  {
   "cell_type": "code",
   "execution_count": 64,
   "id": "488f9e54",
   "metadata": {},
   "outputs": [
    {
     "data": {
      "text/plain": [
       "<AxesSubplot:>"
      ]
     },
     "execution_count": 64,
     "metadata": {},
     "output_type": "execute_result"
    },
    {
     "data": {
      "image/png": "[encoded data removed]",
      "text/plain": [
       "<Figure size 864x360 with 1 Axes>"
      ]
     },
     "metadata": {
      "needs_background": "light"
     },
     "output_type": "display_data"
    }
   ],
   "source": [
    "features_importances = pd.DataFrame(\n",
    "    best_upsampling_rf.feature_importances_,\n",
    "    index=features_train.columns,\n",
    "    columns=['feature importance']).sort_values('feature importance',\n",
    "                                                ascending=False)\n",
    "features_importances.plot(kind='bar', figsize=(12,5))"
   ]
  },
  {
   "cell_type": "markdown",
   "id": "a4df1707",
   "metadata": {},
   "source": [
    "По графику становится понятно, что наиболее важным признаком является возраст клиента, но так же достаточно\n",
    "- NumOfProducts — количество продуктов банка, используемых клиентом \n",
    "- Balance — баланс на счёте  \n",
    "- EstimatedSalary — предполагаемая зарплата \n",
    "- CreditScore — кредитный рейтинг "
   ]
  },
  {
   "cell_type": "markdown",
   "id": "93bc649e",
   "metadata": {},
   "source": [
    "# Общий вывод"
   ]
  },
  {
   "cell_type": "markdown",
   "id": "e2244990",
   "metadata": {},
   "source": [
    "Во время изучения данных мы заметили, что столбцы необходимо привести к нижнему регистру.  \n",
    "\n",
    "Некоторые столбцы имеют тип данных `object`, необходимо будет преобразовать категориальные признаки в \n",
    "численные.  \n",
    "\n",
    "Столбцы `RowNumber`, `CustomerId`, `Surname` для дальнейшего анализа будут не нужны, необходимо их будет убрать.\n",
    "\n",
    "В столбце `Tenure` — сколько лет человек является клиентом банка, есть 909 пропусков, это 9.09% от общего количество данных. Видимо была допущена ошибка при выгрузке данных и поэтому образовались пропущенные значения. Достоверно восстановить данные не получится, но удалять их не хочется так как пропущен достаточно большой процент данных. Поэтому предлагаю сгруппировать данные по стране проживания и полу и заполнить пропущенные значения в стобце `Tenure` медианным значением по группе.  \n",
    "Дубликатов в данных нет, выбросов тоже.  \n",
    "В данных есть дисбаланс классов целевой переменной. Клиентов которые действительно ушли в 4 раза меньше тех кто является клиентом банка, их доля составляет 20% от общего количества.  \n",
    "\n",
    "На этапе предобработки данных мы сделали слеюущее:\n",
    "1) Удалили столбцы `RowNumber`, `CustomerId`, `Surname` так как для дальнейшего анализа они нам будут не нужны.  \n",
    "2) Привели столбцы к нижнему регистиру и виду snake_case.  \n",
    "3) Заполнили пропущенные значения в столбце `Tenure`, для этого мы сгруппировать данные по стране проживания и полу, а далее заполнили пропуски медианным значением по группе.  \n",
    "4) Преобразовали категориальные признаки в численные. У нас было два столбца типа **object**, это столбцы `geography` и `gender`. Мы провели их кодирование с помощью техники **One-Hot Encoding** - это процесс, с помощью которого категориальные переменные преобразуются в подходящую алгоритмам машинного обучения форму, дфля этого воспользовались функцией **get_dummies()**\n",
    "\n",
    "На этапе разбиения данных на выборки мы выполнили следующую работу:\n",
    "1) Мы определили, что перед нами стоит здача бинарной классификации, необходимо определить уйдет клиент из банка или нет.  \n",
    "Для того, чтобы обучить модель машинного обучения мы разбили данные на признаки и целую переменную. Целевой переменной выступает столбец `exited` — факт ухода клиента, а остальные столбцы будут признаками.  \n",
    "2) Мы обучили несколько моделей машинного обучения без учета дисбаланса класса: \n",
    "- Логистическая регрессия  \n",
    "- Дерево решений  \n",
    "- Случайный лес \n",
    "\n",
    "Самый наилучший результата показала модель случайного леса с **f1_score** равным 0.58, что близко к требуемому значению и **ROC_AUC_score** равный 0.69, что говорит что модель не совсем плохо предсказывает верные значения.   \n",
    "3) Далее мы масштабировали признаки. Один из методов масштабирования — стандартизации данных. Она делается чтобы привести данные к одному масштабу, для этого мы привели столбцы с числовыми данными к одному масштабу. Для этого использовали StandardScaler из библиотеки sklearn.  \n",
    "4) После этого мы написали функцию для увеличения выборки, для этого использовали обучающий набор данных. Суть метода заключается в том, чтобы увеличить количество значений того класса, которого меньше в выборке.  \n",
    "5) И написали функцию для уменьшения выборки, для этого будем использовать обучающий набор данных. Суть метода заключается в том, чтобы уменьшить количество значений того класса, которого больше в выборке. \n",
    "\n",
    "На этапе обучения было обучено несколько моделей машинного обучения: \n",
    "- Логистическая регрессия\n",
    "- Дерево решений\n",
    "- Случайный лес\n",
    "\n",
    "При обучении обучении моделей было применено 3 метода:\n",
    "- Применение параметра `class_weight` = balanced  \n",
    "- Увеличение выборки методом upsampling  \n",
    "- Уменьшение выборки методом downsampling  \n",
    "\n",
    "Наилучший результат среди всех моделей показала модель случайного леса ее **F1_score** равен 0.60, но при этом у нее оказался самый низкий **ROC_AUC_score** равный 0.62 с применение метода увеличение выборки методом **upsampling** и применение параметра `class_weight` = balanced. \n",
    "\n",
    "У дерева решений наилучший **F1_score** равен 0.56, а **ROC_AUC_score** равен 0.81 с применение метода увеличение выборки методом **upsampling** и применение параметра `class_weight` = balanced.\n",
    "\n",
    "У логистической регресии наилучший **F1_score** равен 0.48, а **ROC_AUC_score** равен 0.77 с применение метода увеличение выборки методом **upsampling**.  \n",
    "\n",
    "Получается, что преодолеть порог **F1_score** в 0.59 смогла только модель случайного леса, поэтому на ней и будем тестировать наш тестовый набор данных.\n",
    "\n",
    "При тестировании модели мы взяли наилучшию ранее обученную модель случайного леса с применение метода увеличение выборки методом **upsampling** и получили на тестовой выборке **F1_score** равный 0.63 и **ROC_AUC_score** равный 0.86 - он почти равен 1, следовательно модель хорошо предсказывает результат."
   ]
  },
  {
   "cell_type": "code",
   "execution_count": null,
   "id": "7adc3641",
   "metadata": {},
   "outputs": [],
   "source": []
  }
 ],
 "metadata": {
  "kernelspec": {
   "display_name": "Python 3.9.0 64-bit",
   "language": "python",
   "name": "python3"
  },
  "language_info": {
   "codemirror_mode": {
    "name": "ipython",
    "version": 3
   },
   "file_extension": ".py",
   "mimetype": "text/x-python",
   "name": "python",
   "nbconvert_exporter": "python",
   "pygments_lexer": "ipython3",
   "version": "3.9.0"
  },
  "toc": {
   "base_numbering": 1,
   "nav_menu": {},
   "number_sections": true,
   "sideBar": true,
   "skip_h1_title": false,
   "title_cell": "Содержание",
   "title_sidebar": "Contents",
   "toc_cell": true,
   "toc_position": {
    "height": "calc(100% - 180px)",
    "left": "10px",
    "top": "150px",
    "width": "270.59375px"
   },
   "toc_section_display": true,
   "toc_window_display": true
  },
  "vscode": {
   "interpreter": {
    "hash": "aee8b7b246df8f9039afb4144a1f6fd8d2ca17a180786b69acc140d282b71a49"
   }
  }
 },
 "nbformat": 4,
 "nbformat_minor": 5
}
