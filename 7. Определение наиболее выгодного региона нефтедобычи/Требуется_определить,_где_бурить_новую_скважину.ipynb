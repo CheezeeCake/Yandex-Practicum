{
 "cells": [
  {
   "cell_type": "markdown",
   "metadata": {
    "toc": true
   },
   "source": [
    "<h1>Содержание<span class=\"tocSkip\"></span></h1>\n",
    "<div class=\"toc\"><ul class=\"toc-item\"><li><span><a href=\"#Выбор-локации-для-скважины\" data-toc-modified-id=\"Выбор-локации-для-скважины-1\"><span class=\"toc-item-num\">1&nbsp;&nbsp;</span>Выбор локации для скважины</a></span></li><li><span><a href=\"#Описание-данных\" data-toc-modified-id=\"Описание-данных-2\"><span class=\"toc-item-num\">2&nbsp;&nbsp;</span>Описание данных</a></span></li><li><span><a href=\"#Условия-задачи\" data-toc-modified-id=\"Условия-задачи-3\"><span class=\"toc-item-num\">3&nbsp;&nbsp;</span>Условия задачи</a></span></li><li><span><a href=\"#Загрузка-и-подготовка-данных\" data-toc-modified-id=\"Загрузка-и-подготовка-данных-4\"><span class=\"toc-item-num\">4&nbsp;&nbsp;</span>Загрузка и подготовка данных</a></span><ul class=\"toc-item\"><li><span><a href=\"#Таблица-region_0\" data-toc-modified-id=\"Таблица-region_0-4.1\"><span class=\"toc-item-num\">4.1&nbsp;&nbsp;</span>Таблица region_0</a></span></li><li><span><a href=\"#Таблица-region_1\" data-toc-modified-id=\"Таблица-region_1-4.2\"><span class=\"toc-item-num\">4.2&nbsp;&nbsp;</span>Таблица region_1</a></span></li><li><span><a href=\"#Таблица-region_2\" data-toc-modified-id=\"Таблица-region_2-4.3\"><span class=\"toc-item-num\">4.3&nbsp;&nbsp;</span>Таблица region_2</a></span></li><li><span><a href=\"#Вывод\" data-toc-modified-id=\"Вывод-4.4\"><span class=\"toc-item-num\">4.4&nbsp;&nbsp;</span>Вывод</a></span></li></ul></li><li><span><a href=\"#Обучение-и-проверка-модели\" data-toc-modified-id=\"Обучение-и-проверка-модели-5\"><span class=\"toc-item-num\">5&nbsp;&nbsp;</span>Обучение и проверка модели</a></span><ul class=\"toc-item\"><li><span><a href=\"#Вывод\" data-toc-modified-id=\"Вывод-5.1\"><span class=\"toc-item-num\">5.1&nbsp;&nbsp;</span>Вывод</a></span></li></ul></li><li><span><a href=\"#Подготовка-к-расчёту-прибыли\" data-toc-modified-id=\"Подготовка-к-расчёту-прибыли-6\"><span class=\"toc-item-num\">6&nbsp;&nbsp;</span>Подготовка к расчёту прибыли</a></span><ul class=\"toc-item\"><li><span><a href=\"#Вывод\" data-toc-modified-id=\"Вывод-6.1\"><span class=\"toc-item-num\">6.1&nbsp;&nbsp;</span>Вывод</a></span></li></ul></li><li><span><a href=\"#Расчёт-прибыли-и-рисков\" data-toc-modified-id=\"Расчёт-прибыли-и-рисков-7\"><span class=\"toc-item-num\">7&nbsp;&nbsp;</span>Расчёт прибыли и рисков</a></span><ul class=\"toc-item\"><li><span><a href=\"#Прибыль-региона-0\" data-toc-modified-id=\"Прибыль-региона-0-7.1\"><span class=\"toc-item-num\">7.1&nbsp;&nbsp;</span>Прибыль региона 0</a></span></li><li><span><a href=\"#Прибыль-региона-1\" data-toc-modified-id=\"Прибыль-региона-1-7.2\"><span class=\"toc-item-num\">7.2&nbsp;&nbsp;</span>Прибыль региона 1</a></span></li><li><span><a href=\"#Прибыль-региона-2\" data-toc-modified-id=\"Прибыль-региона-2-7.3\"><span class=\"toc-item-num\">7.3&nbsp;&nbsp;</span>Прибыль региона 2</a></span></li><li><span><a href=\"#Вывод\" data-toc-modified-id=\"Вывод-7.4\"><span class=\"toc-item-num\">7.4&nbsp;&nbsp;</span>Вывод</a></span></li></ul></li><li><span><a href=\"#Общий-вывод\" data-toc-modified-id=\"Общий-вывод-8\"><span class=\"toc-item-num\">8&nbsp;&nbsp;</span>Общий вывод</a></span></li><li><span><a href=\"#Чек-лист-готовности-проекта\" data-toc-modified-id=\"Чек-лист-готовности-проекта-9\"><span class=\"toc-item-num\">9&nbsp;&nbsp;</span>Чек-лист готовности проекта</a></span></li></ul></div>"
   ]
  },
  {
   "cell_type": "markdown",
   "metadata": {},
   "source": [
    "# Выбор локации для скважины"
   ]
  },
  {
   "cell_type": "markdown",
   "metadata": {},
   "source": [
    "Допустим, вы работаете в добывающей компании «ГлавРосГосНефть». Нужно решить, где бурить новую скважину.\n",
    "\n",
    "Вам предоставлены пробы нефти в трёх регионах: в каждом 10 000 месторождений, где измерили качество нефти и объём её запасов. Постройте модель машинного обучения, которая поможет определить регион, где добыча принесёт наибольшую прибыль. Проанализируйте возможную прибыль и риски техникой *Bootstrap.*\n",
    "\n",
    "Шаги для выбора локации:\n",
    "\n",
    "- В избранном регионе ищут месторождения, для каждого определяют значения признаков;\n",
    "- Строят модель и оценивают объём запасов;\n",
    "- Выбирают месторождения с самым высокими оценками значений. Количество месторождений зависит от бюджета компании и стоимости разработки одной скважины;\n",
    "- Прибыль равна суммарной прибыли отобранных месторождений."
   ]
  },
  {
   "cell_type": "markdown",
   "metadata": {},
   "source": [
    "# Описание данных"
   ]
  },
  {
   "cell_type": "markdown",
   "metadata": {},
   "source": [
    "**Данные геологоразведки трёх регионов находятся в файлах**:\n",
    "- geo_data_0.csv  \n",
    "- geo_data_1.csv  \n",
    "- geo_data_2.csv  \n",
    "\n",
    "**Данные разбиты на столбцы**:\n",
    "- id — уникальный идентификатор скважины;  \n",
    "- f0, f1, f2 — три признака точек (неважно, что они означают, но сами признаки значимы);  \n",
    "- product — объём запасов в скважине (тыс. баррелей)."
   ]
  },
  {
   "cell_type": "markdown",
   "metadata": {},
   "source": [
    "# Условия задачи"
   ]
  },
  {
   "cell_type": "markdown",
   "metadata": {},
   "source": [
    "1) Для обучения модели подходит только линейная регрессия (остальные — недостаточно предсказуемые).  \n",
    "2) При разведке региона исследуют 500 точек, из которых с помощью машинного обучения выбирают 200 лучших для разработки.  \n",
    "3) Бюджет на разработку скважин в регионе — 10 млрд рублей.  \n",
    "4) При нынешних ценах один баррель сырья приносит 450 рублей дохода. Доход с каждой единицы продукта составляет 450 тыс. рублей, поскольку объём указан в тысячах баррелей.  \n",
    "5) После оценки рисков нужно оставить лишь те регионы, в которых вероятность убытков меньше 2.5%. Среди них выбирают регион с наибольшей средней прибылью."
   ]
  },
  {
   "cell_type": "markdown",
   "metadata": {},
   "source": [
    "# Загрузка и подготовка данных"
   ]
  },
  {
   "cell_type": "markdown",
   "metadata": {},
   "source": [
    "Импортируем необходимые библиотеки"
   ]
  },
  {
   "cell_type": "code",
   "execution_count": 1,
   "metadata": {},
   "outputs": [],
   "source": [
    "import pandas as pd\n",
    "from sklearn.model_selection import train_test_split\n",
    "from sklearn.linear_model import LinearRegression\n",
    "from sklearn.metrics import mean_squared_error\n",
    "import numpy as np"
   ]
  },
  {
   "cell_type": "markdown",
   "metadata": {},
   "source": [
    "Загрузим необходимые датасеты"
   ]
  },
  {
   "cell_type": "code",
   "execution_count": 2,
   "metadata": {},
   "outputs": [],
   "source": [
    "region_0, region_1, region_2 = [pd.read_csv(f'geo_data_{i}.csv') for i in range(3)]"
   ]
  },
  {
   "cell_type": "markdown",
   "metadata": {},
   "source": [
    "Для просмотра данных о таблицах напишем функицю **df_info**"
   ]
  },
  {
   "cell_type": "code",
   "execution_count": 3,
   "metadata": {},
   "outputs": [],
   "source": [
    "def df_info(df, name):\n",
    "    print()\n",
    "    print(f'Размер таблицы {name}: {df.shape}')\n",
    "    print()\n",
    "    print(f'Выведем 10 строк из таблицы {name}')\n",
    "    display(df.sample(10))\n",
    "    print()\n",
    "    print(f'Выведем информацию о таблице {name}')\n",
    "    print()\n",
    "    display(df.info())\n",
    "    print()\n",
    "    print(f'Посмотрим на статистическую информацию по таблице {name}')\n",
    "    display(df.describe().T)\n",
    "    print()\n",
    "    print(f'Посмотрим есть ли пропущенные значения в таблице {name}')\n",
    "    display(df.isna().sum())\n",
    "    print()\n",
    "    print(f'Количество дубликатов в таблице {name} равно {df.duplicated().sum()} шт')\n",
    "    print()"
   ]
  },
  {
   "cell_type": "markdown",
   "metadata": {},
   "source": [
    "## Таблица region_0"
   ]
  },
  {
   "cell_type": "markdown",
   "metadata": {},
   "source": [
    "Выведем информацию по таблице **region_0**"
   ]
  },
  {
   "cell_type": "code",
   "execution_count": 4,
   "metadata": {},
   "outputs": [
    {
     "name": "stdout",
     "output_type": "stream",
     "text": [
      "\n",
      "Размер таблицы region_0: (100000, 5)\n",
      "\n",
      "Выведем 10 строк из таблицы region_0\n"
     ]
    },
    {
     "data": {
      "text/html": [
       "<div>\n",
       "<style scoped>\n",
       "    .dataframe tbody tr th:only-of-type {\n",
       "        vertical-align: middle;\n",
       "    }\n",
       "\n",
       "    .dataframe tbody tr th {\n",
       "        vertical-align: top;\n",
       "    }\n",
       "\n",
       "    .dataframe thead th {\n",
       "        text-align: right;\n",
       "    }\n",
       "</style>\n",
       "<table border=\"1\" class=\"dataframe\">\n",
       "  <thead>\n",
       "    <tr style=\"text-align: right;\">\n",
       "      <th></th>\n",
       "      <th>id</th>\n",
       "      <th>f0</th>\n",
       "      <th>f1</th>\n",
       "      <th>f2</th>\n",
       "      <th>product</th>\n",
       "    </tr>\n",
       "  </thead>\n",
       "  <tbody>\n",
       "    <tr>\n",
       "      <th>25213</th>\n",
       "      <td>DeJoy</td>\n",
       "      <td>1.214464</td>\n",
       "      <td>-0.568498</td>\n",
       "      <td>-0.163404</td>\n",
       "      <td>65.023997</td>\n",
       "    </tr>\n",
       "    <tr>\n",
       "      <th>15970</th>\n",
       "      <td>q8LvI</td>\n",
       "      <td>0.903914</td>\n",
       "      <td>0.490894</td>\n",
       "      <td>4.437696</td>\n",
       "      <td>135.308481</td>\n",
       "    </tr>\n",
       "    <tr>\n",
       "      <th>79223</th>\n",
       "      <td>xBmYQ</td>\n",
       "      <td>1.526546</td>\n",
       "      <td>-0.542677</td>\n",
       "      <td>4.171536</td>\n",
       "      <td>111.921701</td>\n",
       "    </tr>\n",
       "    <tr>\n",
       "      <th>94578</th>\n",
       "      <td>P3Bwz</td>\n",
       "      <td>0.923451</td>\n",
       "      <td>0.377798</td>\n",
       "      <td>4.333785</td>\n",
       "      <td>130.948776</td>\n",
       "    </tr>\n",
       "    <tr>\n",
       "      <th>28968</th>\n",
       "      <td>vM3mT</td>\n",
       "      <td>1.943346</td>\n",
       "      <td>0.190570</td>\n",
       "      <td>2.293551</td>\n",
       "      <td>151.974982</td>\n",
       "    </tr>\n",
       "    <tr>\n",
       "      <th>42643</th>\n",
       "      <td>SX4Cw</td>\n",
       "      <td>-0.980427</td>\n",
       "      <td>-0.051535</td>\n",
       "      <td>3.603907</td>\n",
       "      <td>123.664919</td>\n",
       "    </tr>\n",
       "    <tr>\n",
       "      <th>16864</th>\n",
       "      <td>B7pUR</td>\n",
       "      <td>-0.032451</td>\n",
       "      <td>1.061813</td>\n",
       "      <td>3.811593</td>\n",
       "      <td>27.066868</td>\n",
       "    </tr>\n",
       "    <tr>\n",
       "      <th>80903</th>\n",
       "      <td>j0D3e</td>\n",
       "      <td>0.972389</td>\n",
       "      <td>0.099969</td>\n",
       "      <td>3.574197</td>\n",
       "      <td>108.811144</td>\n",
       "    </tr>\n",
       "    <tr>\n",
       "      <th>7035</th>\n",
       "      <td>04zvT</td>\n",
       "      <td>-0.761221</td>\n",
       "      <td>0.610584</td>\n",
       "      <td>0.417089</td>\n",
       "      <td>47.522551</td>\n",
       "    </tr>\n",
       "    <tr>\n",
       "      <th>72896</th>\n",
       "      <td>7edZ7</td>\n",
       "      <td>0.075439</td>\n",
       "      <td>1.010225</td>\n",
       "      <td>2.265706</td>\n",
       "      <td>27.555751</td>\n",
       "    </tr>\n",
       "  </tbody>\n",
       "</table>\n",
       "</div>"
      ],
      "text/plain": [
       "          id        f0        f1        f2     product\n",
       "25213  DeJoy  1.214464 -0.568498 -0.163404   65.023997\n",
       "15970  q8LvI  0.903914  0.490894  4.437696  135.308481\n",
       "79223  xBmYQ  1.526546 -0.542677  4.171536  111.921701\n",
       "94578  P3Bwz  0.923451  0.377798  4.333785  130.948776\n",
       "28968  vM3mT  1.943346  0.190570  2.293551  151.974982\n",
       "42643  SX4Cw -0.980427 -0.051535  3.603907  123.664919\n",
       "16864  B7pUR -0.032451  1.061813  3.811593   27.066868\n",
       "80903  j0D3e  0.972389  0.099969  3.574197  108.811144\n",
       "7035   04zvT -0.761221  0.610584  0.417089   47.522551\n",
       "72896  7edZ7  0.075439  1.010225  2.265706   27.555751"
      ]
     },
     "metadata": {},
     "output_type": "display_data"
    },
    {
     "name": "stdout",
     "output_type": "stream",
     "text": [
      "\n",
      "Выведем информацию о таблице region_0\n",
      "\n",
      "<class 'pandas.core.frame.DataFrame'>\n",
      "RangeIndex: 100000 entries, 0 to 99999\n",
      "Data columns (total 5 columns):\n",
      " #   Column   Non-Null Count   Dtype  \n",
      "---  ------   --------------   -----  \n",
      " 0   id       100000 non-null  object \n",
      " 1   f0       100000 non-null  float64\n",
      " 2   f1       100000 non-null  float64\n",
      " 3   f2       100000 non-null  float64\n",
      " 4   product  100000 non-null  float64\n",
      "dtypes: float64(4), object(1)\n",
      "memory usage: 3.8+ MB\n"
     ]
    },
    {
     "data": {
      "text/plain": [
       "None"
      ]
     },
     "metadata": {},
     "output_type": "display_data"
    },
    {
     "name": "stdout",
     "output_type": "stream",
     "text": [
      "\n",
      "Посмотрим на статистическую информацию по таблице region_0\n"
     ]
    },
    {
     "data": {
      "text/html": [
       "<div>\n",
       "<style scoped>\n",
       "    .dataframe tbody tr th:only-of-type {\n",
       "        vertical-align: middle;\n",
       "    }\n",
       "\n",
       "    .dataframe tbody tr th {\n",
       "        vertical-align: top;\n",
       "    }\n",
       "\n",
       "    .dataframe thead th {\n",
       "        text-align: right;\n",
       "    }\n",
       "</style>\n",
       "<table border=\"1\" class=\"dataframe\">\n",
       "  <thead>\n",
       "    <tr style=\"text-align: right;\">\n",
       "      <th></th>\n",
       "      <th>count</th>\n",
       "      <th>mean</th>\n",
       "      <th>std</th>\n",
       "      <th>min</th>\n",
       "      <th>25%</th>\n",
       "      <th>50%</th>\n",
       "      <th>75%</th>\n",
       "      <th>max</th>\n",
       "    </tr>\n",
       "  </thead>\n",
       "  <tbody>\n",
       "    <tr>\n",
       "      <th>f0</th>\n",
       "      <td>100000.0</td>\n",
       "      <td>0.500419</td>\n",
       "      <td>0.871832</td>\n",
       "      <td>-1.408605</td>\n",
       "      <td>-0.072580</td>\n",
       "      <td>0.502360</td>\n",
       "      <td>1.073581</td>\n",
       "      <td>2.362331</td>\n",
       "    </tr>\n",
       "    <tr>\n",
       "      <th>f1</th>\n",
       "      <td>100000.0</td>\n",
       "      <td>0.250143</td>\n",
       "      <td>0.504433</td>\n",
       "      <td>-0.848218</td>\n",
       "      <td>-0.200881</td>\n",
       "      <td>0.250252</td>\n",
       "      <td>0.700646</td>\n",
       "      <td>1.343769</td>\n",
       "    </tr>\n",
       "    <tr>\n",
       "      <th>f2</th>\n",
       "      <td>100000.0</td>\n",
       "      <td>2.502647</td>\n",
       "      <td>3.248248</td>\n",
       "      <td>-12.088328</td>\n",
       "      <td>0.287748</td>\n",
       "      <td>2.515969</td>\n",
       "      <td>4.715088</td>\n",
       "      <td>16.003790</td>\n",
       "    </tr>\n",
       "    <tr>\n",
       "      <th>product</th>\n",
       "      <td>100000.0</td>\n",
       "      <td>92.500000</td>\n",
       "      <td>44.288691</td>\n",
       "      <td>0.000000</td>\n",
       "      <td>56.497507</td>\n",
       "      <td>91.849972</td>\n",
       "      <td>128.564089</td>\n",
       "      <td>185.364347</td>\n",
       "    </tr>\n",
       "  </tbody>\n",
       "</table>\n",
       "</div>"
      ],
      "text/plain": [
       "            count       mean        std        min        25%        50%  \\\n",
       "f0       100000.0   0.500419   0.871832  -1.408605  -0.072580   0.502360   \n",
       "f1       100000.0   0.250143   0.504433  -0.848218  -0.200881   0.250252   \n",
       "f2       100000.0   2.502647   3.248248 -12.088328   0.287748   2.515969   \n",
       "product  100000.0  92.500000  44.288691   0.000000  56.497507  91.849972   \n",
       "\n",
       "                75%         max  \n",
       "f0         1.073581    2.362331  \n",
       "f1         0.700646    1.343769  \n",
       "f2         4.715088   16.003790  \n",
       "product  128.564089  185.364347  "
      ]
     },
     "metadata": {},
     "output_type": "display_data"
    },
    {
     "name": "stdout",
     "output_type": "stream",
     "text": [
      "\n",
      "Посмотрим есть ли пропущенные значения в таблице region_0\n"
     ]
    },
    {
     "data": {
      "text/plain": [
       "id         0\n",
       "f0         0\n",
       "f1         0\n",
       "f2         0\n",
       "product    0\n",
       "dtype: int64"
      ]
     },
     "metadata": {},
     "output_type": "display_data"
    },
    {
     "name": "stdout",
     "output_type": "stream",
     "text": [
      "\n",
      "Количество дубликатов в таблице region_0 равно 0 шт\n",
      "\n"
     ]
    }
   ],
   "source": [
    "df_info(region_0, 'region_0')"
   ]
  },
  {
   "cell_type": "markdown",
   "metadata": {},
   "source": [
    "## Таблица region_1"
   ]
  },
  {
   "cell_type": "markdown",
   "metadata": {},
   "source": [
    "Выведем информацию по таблице **region_1**"
   ]
  },
  {
   "cell_type": "code",
   "execution_count": 5,
   "metadata": {},
   "outputs": [
    {
     "name": "stdout",
     "output_type": "stream",
     "text": [
      "\n",
      "Размер таблицы region_1: (100000, 5)\n",
      "\n",
      "Выведем 10 строк из таблицы region_1\n"
     ]
    },
    {
     "data": {
      "text/html": [
       "<div>\n",
       "<style scoped>\n",
       "    .dataframe tbody tr th:only-of-type {\n",
       "        vertical-align: middle;\n",
       "    }\n",
       "\n",
       "    .dataframe tbody tr th {\n",
       "        vertical-align: top;\n",
       "    }\n",
       "\n",
       "    .dataframe thead th {\n",
       "        text-align: right;\n",
       "    }\n",
       "</style>\n",
       "<table border=\"1\" class=\"dataframe\">\n",
       "  <thead>\n",
       "    <tr style=\"text-align: right;\">\n",
       "      <th></th>\n",
       "      <th>id</th>\n",
       "      <th>f0</th>\n",
       "      <th>f1</th>\n",
       "      <th>f2</th>\n",
       "      <th>product</th>\n",
       "    </tr>\n",
       "  </thead>\n",
       "  <tbody>\n",
       "    <tr>\n",
       "      <th>90908</th>\n",
       "      <td>Z0zWl</td>\n",
       "      <td>11.618081</td>\n",
       "      <td>-8.342932</td>\n",
       "      <td>4.000879</td>\n",
       "      <td>107.813044</td>\n",
       "    </tr>\n",
       "    <tr>\n",
       "      <th>6587</th>\n",
       "      <td>5hlsu</td>\n",
       "      <td>-7.853967</td>\n",
       "      <td>-11.280069</td>\n",
       "      <td>3.998021</td>\n",
       "      <td>110.992147</td>\n",
       "    </tr>\n",
       "    <tr>\n",
       "      <th>18499</th>\n",
       "      <td>HDs9A</td>\n",
       "      <td>11.351424</td>\n",
       "      <td>-1.610640</td>\n",
       "      <td>0.998649</td>\n",
       "      <td>26.953261</td>\n",
       "    </tr>\n",
       "    <tr>\n",
       "      <th>54175</th>\n",
       "      <td>e18kG</td>\n",
       "      <td>7.061440</td>\n",
       "      <td>-8.954629</td>\n",
       "      <td>3.005691</td>\n",
       "      <td>80.859783</td>\n",
       "    </tr>\n",
       "    <tr>\n",
       "      <th>37702</th>\n",
       "      <td>KoLcL</td>\n",
       "      <td>-10.792651</td>\n",
       "      <td>-3.097159</td>\n",
       "      <td>2.001856</td>\n",
       "      <td>57.085625</td>\n",
       "    </tr>\n",
       "    <tr>\n",
       "      <th>59090</th>\n",
       "      <td>ahrE9</td>\n",
       "      <td>3.273989</td>\n",
       "      <td>-5.213631</td>\n",
       "      <td>2.002171</td>\n",
       "      <td>53.906522</td>\n",
       "    </tr>\n",
       "    <tr>\n",
       "      <th>25070</th>\n",
       "      <td>2tBr6</td>\n",
       "      <td>4.024453</td>\n",
       "      <td>-5.037441</td>\n",
       "      <td>3.001284</td>\n",
       "      <td>80.859783</td>\n",
       "    </tr>\n",
       "    <tr>\n",
       "      <th>92228</th>\n",
       "      <td>VnCsP</td>\n",
       "      <td>7.550341</td>\n",
       "      <td>-3.647496</td>\n",
       "      <td>0.997244</td>\n",
       "      <td>26.953261</td>\n",
       "    </tr>\n",
       "    <tr>\n",
       "      <th>53343</th>\n",
       "      <td>R22Yf</td>\n",
       "      <td>23.201227</td>\n",
       "      <td>-1.837297</td>\n",
       "      <td>0.997238</td>\n",
       "      <td>26.953261</td>\n",
       "    </tr>\n",
       "    <tr>\n",
       "      <th>59079</th>\n",
       "      <td>2lzxt</td>\n",
       "      <td>-6.989271</td>\n",
       "      <td>-1.035253</td>\n",
       "      <td>2.000363</td>\n",
       "      <td>57.085625</td>\n",
       "    </tr>\n",
       "  </tbody>\n",
       "</table>\n",
       "</div>"
      ],
      "text/plain": [
       "          id         f0         f1        f2     product\n",
       "90908  Z0zWl  11.618081  -8.342932  4.000879  107.813044\n",
       "6587   5hlsu  -7.853967 -11.280069  3.998021  110.992147\n",
       "18499  HDs9A  11.351424  -1.610640  0.998649   26.953261\n",
       "54175  e18kG   7.061440  -8.954629  3.005691   80.859783\n",
       "37702  KoLcL -10.792651  -3.097159  2.001856   57.085625\n",
       "59090  ahrE9   3.273989  -5.213631  2.002171   53.906522\n",
       "25070  2tBr6   4.024453  -5.037441  3.001284   80.859783\n",
       "92228  VnCsP   7.550341  -3.647496  0.997244   26.953261\n",
       "53343  R22Yf  23.201227  -1.837297  0.997238   26.953261\n",
       "59079  2lzxt  -6.989271  -1.035253  2.000363   57.085625"
      ]
     },
     "metadata": {},
     "output_type": "display_data"
    },
    {
     "name": "stdout",
     "output_type": "stream",
     "text": [
      "\n",
      "Выведем информацию о таблице region_1\n",
      "\n",
      "<class 'pandas.core.frame.DataFrame'>\n",
      "RangeIndex: 100000 entries, 0 to 99999\n",
      "Data columns (total 5 columns):\n",
      " #   Column   Non-Null Count   Dtype  \n",
      "---  ------   --------------   -----  \n",
      " 0   id       100000 non-null  object \n",
      " 1   f0       100000 non-null  float64\n",
      " 2   f1       100000 non-null  float64\n",
      " 3   f2       100000 non-null  float64\n",
      " 4   product  100000 non-null  float64\n",
      "dtypes: float64(4), object(1)\n",
      "memory usage: 3.8+ MB\n"
     ]
    },
    {
     "data": {
      "text/plain": [
       "None"
      ]
     },
     "metadata": {},
     "output_type": "display_data"
    },
    {
     "name": "stdout",
     "output_type": "stream",
     "text": [
      "\n",
      "Посмотрим на статистическую информацию по таблице region_1\n"
     ]
    },
    {
     "data": {
      "text/html": [
       "<div>\n",
       "<style scoped>\n",
       "    .dataframe tbody tr th:only-of-type {\n",
       "        vertical-align: middle;\n",
       "    }\n",
       "\n",
       "    .dataframe tbody tr th {\n",
       "        vertical-align: top;\n",
       "    }\n",
       "\n",
       "    .dataframe thead th {\n",
       "        text-align: right;\n",
       "    }\n",
       "</style>\n",
       "<table border=\"1\" class=\"dataframe\">\n",
       "  <thead>\n",
       "    <tr style=\"text-align: right;\">\n",
       "      <th></th>\n",
       "      <th>count</th>\n",
       "      <th>mean</th>\n",
       "      <th>std</th>\n",
       "      <th>min</th>\n",
       "      <th>25%</th>\n",
       "      <th>50%</th>\n",
       "      <th>75%</th>\n",
       "      <th>max</th>\n",
       "    </tr>\n",
       "  </thead>\n",
       "  <tbody>\n",
       "    <tr>\n",
       "      <th>f0</th>\n",
       "      <td>100000.0</td>\n",
       "      <td>1.141296</td>\n",
       "      <td>8.965932</td>\n",
       "      <td>-31.609576</td>\n",
       "      <td>-6.298551</td>\n",
       "      <td>1.153055</td>\n",
       "      <td>8.621015</td>\n",
       "      <td>29.421755</td>\n",
       "    </tr>\n",
       "    <tr>\n",
       "      <th>f1</th>\n",
       "      <td>100000.0</td>\n",
       "      <td>-4.796579</td>\n",
       "      <td>5.119872</td>\n",
       "      <td>-26.358598</td>\n",
       "      <td>-8.267985</td>\n",
       "      <td>-4.813172</td>\n",
       "      <td>-1.332816</td>\n",
       "      <td>18.734063</td>\n",
       "    </tr>\n",
       "    <tr>\n",
       "      <th>f2</th>\n",
       "      <td>100000.0</td>\n",
       "      <td>2.494541</td>\n",
       "      <td>1.703572</td>\n",
       "      <td>-0.018144</td>\n",
       "      <td>1.000021</td>\n",
       "      <td>2.011479</td>\n",
       "      <td>3.999904</td>\n",
       "      <td>5.019721</td>\n",
       "    </tr>\n",
       "    <tr>\n",
       "      <th>product</th>\n",
       "      <td>100000.0</td>\n",
       "      <td>68.825000</td>\n",
       "      <td>45.944423</td>\n",
       "      <td>0.000000</td>\n",
       "      <td>26.953261</td>\n",
       "      <td>57.085625</td>\n",
       "      <td>107.813044</td>\n",
       "      <td>137.945408</td>\n",
       "    </tr>\n",
       "  </tbody>\n",
       "</table>\n",
       "</div>"
      ],
      "text/plain": [
       "            count       mean        std        min        25%        50%  \\\n",
       "f0       100000.0   1.141296   8.965932 -31.609576  -6.298551   1.153055   \n",
       "f1       100000.0  -4.796579   5.119872 -26.358598  -8.267985  -4.813172   \n",
       "f2       100000.0   2.494541   1.703572  -0.018144   1.000021   2.011479   \n",
       "product  100000.0  68.825000  45.944423   0.000000  26.953261  57.085625   \n",
       "\n",
       "                75%         max  \n",
       "f0         8.621015   29.421755  \n",
       "f1        -1.332816   18.734063  \n",
       "f2         3.999904    5.019721  \n",
       "product  107.813044  137.945408  "
      ]
     },
     "metadata": {},
     "output_type": "display_data"
    },
    {
     "name": "stdout",
     "output_type": "stream",
     "text": [
      "\n",
      "Посмотрим есть ли пропущенные значения в таблице region_1\n"
     ]
    },
    {
     "data": {
      "text/plain": [
       "id         0\n",
       "f0         0\n",
       "f1         0\n",
       "f2         0\n",
       "product    0\n",
       "dtype: int64"
      ]
     },
     "metadata": {},
     "output_type": "display_data"
    },
    {
     "name": "stdout",
     "output_type": "stream",
     "text": [
      "\n",
      "Количество дубликатов в таблице region_1 равно 0 шт\n",
      "\n"
     ]
    }
   ],
   "source": [
    "df_info(region_1, 'region_1')"
   ]
  },
  {
   "cell_type": "markdown",
   "metadata": {},
   "source": [
    "## Таблица region_2"
   ]
  },
  {
   "cell_type": "markdown",
   "metadata": {},
   "source": [
    "Выведем информацию по таблице **region_2**"
   ]
  },
  {
   "cell_type": "code",
   "execution_count": 6,
   "metadata": {},
   "outputs": [
    {
     "name": "stdout",
     "output_type": "stream",
     "text": [
      "\n",
      "Размер таблицы region_2: (100000, 5)\n",
      "\n",
      "Выведем 10 строк из таблицы region_2\n"
     ]
    },
    {
     "data": {
      "text/html": [
       "<div>\n",
       "<style scoped>\n",
       "    .dataframe tbody tr th:only-of-type {\n",
       "        vertical-align: middle;\n",
       "    }\n",
       "\n",
       "    .dataframe tbody tr th {\n",
       "        vertical-align: top;\n",
       "    }\n",
       "\n",
       "    .dataframe thead th {\n",
       "        text-align: right;\n",
       "    }\n",
       "</style>\n",
       "<table border=\"1\" class=\"dataframe\">\n",
       "  <thead>\n",
       "    <tr style=\"text-align: right;\">\n",
       "      <th></th>\n",
       "      <th>id</th>\n",
       "      <th>f0</th>\n",
       "      <th>f1</th>\n",
       "      <th>f2</th>\n",
       "      <th>product</th>\n",
       "    </tr>\n",
       "  </thead>\n",
       "  <tbody>\n",
       "    <tr>\n",
       "      <th>72932</th>\n",
       "      <td>jOEjJ</td>\n",
       "      <td>-1.182680</td>\n",
       "      <td>-0.333583</td>\n",
       "      <td>-3.149417</td>\n",
       "      <td>62.674482</td>\n",
       "    </tr>\n",
       "    <tr>\n",
       "      <th>23065</th>\n",
       "      <td>2ZUVe</td>\n",
       "      <td>-0.300235</td>\n",
       "      <td>-2.605834</td>\n",
       "      <td>3.068233</td>\n",
       "      <td>152.491490</td>\n",
       "    </tr>\n",
       "    <tr>\n",
       "      <th>24261</th>\n",
       "      <td>6tMtb</td>\n",
       "      <td>-2.075266</td>\n",
       "      <td>1.568280</td>\n",
       "      <td>2.050910</td>\n",
       "      <td>103.987483</td>\n",
       "    </tr>\n",
       "    <tr>\n",
       "      <th>30264</th>\n",
       "      <td>DITfO</td>\n",
       "      <td>0.186468</td>\n",
       "      <td>-1.050567</td>\n",
       "      <td>2.952386</td>\n",
       "      <td>111.024628</td>\n",
       "    </tr>\n",
       "    <tr>\n",
       "      <th>43799</th>\n",
       "      <td>oT3u3</td>\n",
       "      <td>-1.256399</td>\n",
       "      <td>1.160309</td>\n",
       "      <td>1.328537</td>\n",
       "      <td>133.200473</td>\n",
       "    </tr>\n",
       "    <tr>\n",
       "      <th>26917</th>\n",
       "      <td>Nl9Qx</td>\n",
       "      <td>-1.103070</td>\n",
       "      <td>0.920230</td>\n",
       "      <td>3.040620</td>\n",
       "      <td>55.561351</td>\n",
       "    </tr>\n",
       "    <tr>\n",
       "      <th>62829</th>\n",
       "      <td>hVsf9</td>\n",
       "      <td>0.850860</td>\n",
       "      <td>3.504191</td>\n",
       "      <td>3.831136</td>\n",
       "      <td>175.211766</td>\n",
       "    </tr>\n",
       "    <tr>\n",
       "      <th>40769</th>\n",
       "      <td>ylIah</td>\n",
       "      <td>-0.983271</td>\n",
       "      <td>1.763975</td>\n",
       "      <td>5.177555</td>\n",
       "      <td>36.988705</td>\n",
       "    </tr>\n",
       "    <tr>\n",
       "      <th>21688</th>\n",
       "      <td>jSzPq</td>\n",
       "      <td>-2.314402</td>\n",
       "      <td>1.188294</td>\n",
       "      <td>0.636406</td>\n",
       "      <td>134.888513</td>\n",
       "    </tr>\n",
       "    <tr>\n",
       "      <th>48761</th>\n",
       "      <td>usNBl</td>\n",
       "      <td>-0.915180</td>\n",
       "      <td>0.065581</td>\n",
       "      <td>1.797451</td>\n",
       "      <td>55.376308</td>\n",
       "    </tr>\n",
       "  </tbody>\n",
       "</table>\n",
       "</div>"
      ],
      "text/plain": [
       "          id        f0        f1        f2     product\n",
       "72932  jOEjJ -1.182680 -0.333583 -3.149417   62.674482\n",
       "23065  2ZUVe -0.300235 -2.605834  3.068233  152.491490\n",
       "24261  6tMtb -2.075266  1.568280  2.050910  103.987483\n",
       "30264  DITfO  0.186468 -1.050567  2.952386  111.024628\n",
       "43799  oT3u3 -1.256399  1.160309  1.328537  133.200473\n",
       "26917  Nl9Qx -1.103070  0.920230  3.040620   55.561351\n",
       "62829  hVsf9  0.850860  3.504191  3.831136  175.211766\n",
       "40769  ylIah -0.983271  1.763975  5.177555   36.988705\n",
       "21688  jSzPq -2.314402  1.188294  0.636406  134.888513\n",
       "48761  usNBl -0.915180  0.065581  1.797451   55.376308"
      ]
     },
     "metadata": {},
     "output_type": "display_data"
    },
    {
     "name": "stdout",
     "output_type": "stream",
     "text": [
      "\n",
      "Выведем информацию о таблице region_2\n",
      "\n",
      "<class 'pandas.core.frame.DataFrame'>\n",
      "RangeIndex: 100000 entries, 0 to 99999\n",
      "Data columns (total 5 columns):\n",
      " #   Column   Non-Null Count   Dtype  \n",
      "---  ------   --------------   -----  \n",
      " 0   id       100000 non-null  object \n",
      " 1   f0       100000 non-null  float64\n",
      " 2   f1       100000 non-null  float64\n",
      " 3   f2       100000 non-null  float64\n",
      " 4   product  100000 non-null  float64\n",
      "dtypes: float64(4), object(1)\n",
      "memory usage: 3.8+ MB\n"
     ]
    },
    {
     "data": {
      "text/plain": [
       "None"
      ]
     },
     "metadata": {},
     "output_type": "display_data"
    },
    {
     "name": "stdout",
     "output_type": "stream",
     "text": [
      "\n",
      "Посмотрим на статистическую информацию по таблице region_2\n"
     ]
    },
    {
     "data": {
      "text/html": [
       "<div>\n",
       "<style scoped>\n",
       "    .dataframe tbody tr th:only-of-type {\n",
       "        vertical-align: middle;\n",
       "    }\n",
       "\n",
       "    .dataframe tbody tr th {\n",
       "        vertical-align: top;\n",
       "    }\n",
       "\n",
       "    .dataframe thead th {\n",
       "        text-align: right;\n",
       "    }\n",
       "</style>\n",
       "<table border=\"1\" class=\"dataframe\">\n",
       "  <thead>\n",
       "    <tr style=\"text-align: right;\">\n",
       "      <th></th>\n",
       "      <th>count</th>\n",
       "      <th>mean</th>\n",
       "      <th>std</th>\n",
       "      <th>min</th>\n",
       "      <th>25%</th>\n",
       "      <th>50%</th>\n",
       "      <th>75%</th>\n",
       "      <th>max</th>\n",
       "    </tr>\n",
       "  </thead>\n",
       "  <tbody>\n",
       "    <tr>\n",
       "      <th>f0</th>\n",
       "      <td>100000.0</td>\n",
       "      <td>0.002023</td>\n",
       "      <td>1.732045</td>\n",
       "      <td>-8.760004</td>\n",
       "      <td>-1.162288</td>\n",
       "      <td>0.009424</td>\n",
       "      <td>1.158535</td>\n",
       "      <td>7.238262</td>\n",
       "    </tr>\n",
       "    <tr>\n",
       "      <th>f1</th>\n",
       "      <td>100000.0</td>\n",
       "      <td>-0.002081</td>\n",
       "      <td>1.730417</td>\n",
       "      <td>-7.084020</td>\n",
       "      <td>-1.174820</td>\n",
       "      <td>-0.009482</td>\n",
       "      <td>1.163678</td>\n",
       "      <td>7.844801</td>\n",
       "    </tr>\n",
       "    <tr>\n",
       "      <th>f2</th>\n",
       "      <td>100000.0</td>\n",
       "      <td>2.495128</td>\n",
       "      <td>3.473445</td>\n",
       "      <td>-11.970335</td>\n",
       "      <td>0.130359</td>\n",
       "      <td>2.484236</td>\n",
       "      <td>4.858794</td>\n",
       "      <td>16.739402</td>\n",
       "    </tr>\n",
       "    <tr>\n",
       "      <th>product</th>\n",
       "      <td>100000.0</td>\n",
       "      <td>95.000000</td>\n",
       "      <td>44.749921</td>\n",
       "      <td>0.000000</td>\n",
       "      <td>59.450441</td>\n",
       "      <td>94.925613</td>\n",
       "      <td>130.595027</td>\n",
       "      <td>190.029838</td>\n",
       "    </tr>\n",
       "  </tbody>\n",
       "</table>\n",
       "</div>"
      ],
      "text/plain": [
       "            count       mean        std        min        25%        50%  \\\n",
       "f0       100000.0   0.002023   1.732045  -8.760004  -1.162288   0.009424   \n",
       "f1       100000.0  -0.002081   1.730417  -7.084020  -1.174820  -0.009482   \n",
       "f2       100000.0   2.495128   3.473445 -11.970335   0.130359   2.484236   \n",
       "product  100000.0  95.000000  44.749921   0.000000  59.450441  94.925613   \n",
       "\n",
       "                75%         max  \n",
       "f0         1.158535    7.238262  \n",
       "f1         1.163678    7.844801  \n",
       "f2         4.858794   16.739402  \n",
       "product  130.595027  190.029838  "
      ]
     },
     "metadata": {},
     "output_type": "display_data"
    },
    {
     "name": "stdout",
     "output_type": "stream",
     "text": [
      "\n",
      "Посмотрим есть ли пропущенные значения в таблице region_2\n"
     ]
    },
    {
     "data": {
      "text/plain": [
       "id         0\n",
       "f0         0\n",
       "f1         0\n",
       "f2         0\n",
       "product    0\n",
       "dtype: int64"
      ]
     },
     "metadata": {},
     "output_type": "display_data"
    },
    {
     "name": "stdout",
     "output_type": "stream",
     "text": [
      "\n",
      "Количество дубликатов в таблице region_2 равно 0 шт\n",
      "\n"
     ]
    }
   ],
   "source": [
    "df_info(region_2, 'region_2')"
   ]
  },
  {
   "cell_type": "markdown",
   "metadata": {},
   "source": [
    "## Вывод"
   ]
  },
  {
   "cell_type": "markdown",
   "metadata": {},
   "source": [
    "Как мы видим, во всех таблицах нет пропущенных значений и дубликатов.  \n",
    "Для дальнейшнего обучения модели машинного обучения необходимо удалить столбец `id` так как он не нужен."
   ]
  },
  {
   "cell_type": "markdown",
   "metadata": {},
   "source": [
    "# Обучение и проверка модели"
   ]
  },
  {
   "cell_type": "markdown",
   "metadata": {},
   "source": [
    "Напишем функцию где разделим наши данны на признаки и целевое значение.  \n",
    "В нашем случае признаками будут столбцы `f0`, `f1`, `f2`, а целевым значением будет столбец `product` .  Данные будем разбивать на обучающую и валидационную выборки в соотношении 75:25.  \n",
    "Внутри функции обучим модель **Линейной регресии** и сохраним предсказания и правильные ответы на валидационной выборке.  "
   ]
  },
  {
   "cell_type": "code",
   "execution_count": 7,
   "metadata": {},
   "outputs": [],
   "source": [
    "def prediction(df):\n",
    "    \n",
    "    features = df.drop(['id', 'product'], axis=1)\n",
    "    target = df['product']\n",
    "    \n",
    "    features_train, features_valid, target_train, target_valid = train_test_split(\n",
    "        features, target, test_size=0.25, random_state=12345)\n",
    "    \n",
    "    model = LinearRegression()\n",
    "    model.fit(features_train, target_train)\n",
    "    prediction = model.predict(features_valid)\n",
    "    \n",
    "    print('Среднее предсказание модели равно {:.2f} тыс. баррелей'.format(prediction.mean()))\n",
    "    print('Среднеквадратичная ошибка равна {:.2f}'.format(mean_squared_error(target_valid, prediction)**0.5))\n",
    "    \n",
    "    return pd.Series(target_valid), pd.Series(prediction)"
   ]
  },
  {
   "cell_type": "markdown",
   "metadata": {},
   "source": [
    "Сделаем предсказание по таблице **region_0**"
   ]
  },
  {
   "cell_type": "code",
   "execution_count": 8,
   "metadata": {},
   "outputs": [
    {
     "name": "stdout",
     "output_type": "stream",
     "text": [
      "Среднее предсказание модели равно 92.59 тыс. баррелей\n",
      "Среднеквадратичная ошибка равна 37.58\n"
     ]
    }
   ],
   "source": [
    "target_region_0, pred_region_0 = prediction(region_0)"
   ]
  },
  {
   "cell_type": "markdown",
   "metadata": {},
   "source": [
    "Сделаем предсказание по таблице **region_1**"
   ]
  },
  {
   "cell_type": "code",
   "execution_count": 9,
   "metadata": {},
   "outputs": [
    {
     "name": "stdout",
     "output_type": "stream",
     "text": [
      "Среднее предсказание модели равно 68.73 тыс. баррелей\n",
      "Среднеквадратичная ошибка равна 0.89\n"
     ]
    }
   ],
   "source": [
    "target_region_1, pred_region_1 = prediction(region_1)"
   ]
  },
  {
   "cell_type": "markdown",
   "metadata": {},
   "source": [
    "Сделаем предсказание по таблице **region_2**"
   ]
  },
  {
   "cell_type": "code",
   "execution_count": 10,
   "metadata": {},
   "outputs": [
    {
     "name": "stdout",
     "output_type": "stream",
     "text": [
      "Среднее предсказание модели равно 94.97 тыс. баррелей\n",
      "Среднеквадратичная ошибка равна 40.03\n"
     ]
    }
   ],
   "source": [
    "target_region_2, pred_region_2 = prediction(region_2)"
   ]
  },
  {
   "cell_type": "markdown",
   "metadata": {},
   "source": [
    "## Вывод"
   ]
  },
  {
   "cell_type": "markdown",
   "metadata": {},
   "source": [
    "Из полученных результатов можно сделать вывод, что в среднем наибольшее количество запасов расположено в **region_0** и **region_2**, они равны **92.59** и **94.97** тыс. баррелей, но при этом у них очень большая среднеквадратичная ошибка равная **37.58** и **40.03**, что может говорить о неточности модели.  \n",
    "В **region_1** среднее значение запасов ниже чем в других регионах и равно **68.73** тыс. баррелей, но при этом среднеквадратичная ошибка равна всего лишь **0.89**, здесь модель явно предсказывает лучше."
   ]
  },
  {
   "cell_type": "markdown",
   "metadata": {},
   "source": [
    "# Подготовка к расчёту прибыли"
   ]
  },
  {
   "cell_type": "markdown",
   "metadata": {},
   "source": [
    "Сохраним исходные данные в переменные"
   ]
  },
  {
   "cell_type": "code",
   "execution_count": 11,
   "metadata": {},
   "outputs": [],
   "source": [
    "BUDGET = 10**10\n",
    "NUM_WELLS = 500\n",
    "GOOD_WELLS = 200\n",
    "BARREL_INCOME = 450_000"
   ]
  },
  {
   "cell_type": "markdown",
   "metadata": {},
   "source": [
    "Рассчитаем достаточный объём сырья для безубыточной разработки новой скважины"
   ]
  },
  {
   "cell_type": "code",
   "execution_count": 12,
   "metadata": {},
   "outputs": [
    {
     "name": "stdout",
     "output_type": "stream",
     "text": [
      "Достаточный объём сырья для безубыточной разработки новой скважины равен 111.11 тыс. баррелей\n"
     ]
    }
   ],
   "source": [
    "min_product_level = BUDGET / (BARREL_INCOME * GOOD_WELLS)\n",
    "\n",
    "print(\n",
    "    'Достаточный объём сырья для безубыточной разработки новой скважины равен {:.2f} тыс. баррелей'\n",
    "    .format(min_product_level))"
   ]
  },
  {
   "cell_type": "markdown",
   "metadata": {},
   "source": [
    "Теперь сравним полученный объём сырья со средним запасом в каждом регионе"
   ]
  },
  {
   "cell_type": "code",
   "execution_count": 13,
   "metadata": {},
   "outputs": [
    {
     "name": "stdout",
     "output_type": "stream",
     "text": [
      "Средний запас сырья в регионе 0 равен 92.59 тыс. баррелей, такое количество не подходит для безубыточной разработки новой скважины\n",
      "Количество скважин с запасом сырья которое больше достаточного объема в регионе 0 равно 5388 шт, это составляет 21.55% от количества скважин в регионе\n",
      "\n",
      "Средний запас сырья в регионе 1 равен 68.73 тыс. баррелей, такое количество не подходит для безубыточной разработки новой скважины\n",
      "Количество скважин с запасом сырья которое больше достаточного объема в регионе 1 равно 4594 шт, это составляет 18.38% от количества скважин в регионе\n",
      "\n",
      "Средний запас сырья в регионе 2 равен 94.97 тыс. баррелей, такое количество не подходит для безубыточной разработки новой скважины\n",
      "Количество скважин с запасом сырья которое больше достаточного объема в регионе 2 равно 5234 шт, это составляет 20.94% от количества скважин в регионе\n",
      "\n"
     ]
    }
   ],
   "source": [
    "for num, reg in enumerate([pred_region_0, pred_region_1, pred_region_2]):\n",
    "    if reg.mean() >= min_product_level:\n",
    "        print(\n",
    "            f'Средний запас сырья в регионе {num} равен {reg.mean():.2f} тыс. баррелей, такое количество подходит для безубыточной разработки новой скважины'\n",
    "        )\n",
    "        print(\n",
    "            f'Количество скважин с запасом сырья которое больше достаточного объема в регионе {num} равно {(reg>min_product_level).sum()} шт, это составляет {(reg>min_product_level).mean():.2%} от количества скважин в регионе'\n",
    "        )\n",
    "        print()\n",
    "    else:\n",
    "        print(\n",
    "            f'Средний запас сырья в регионе {num} равен {reg.mean():.2f} тыс. баррелей, такое количество не подходит для безубыточной разработки новой скважины'\n",
    "        )\n",
    "        print(\n",
    "            f'Количество скважин с запасом сырья которое больше достаточного объема в регионе {num} равно {(reg>min_product_level).sum()} шт, это составляет {(reg>min_product_level).mean():.2%} от количества скважин в регионе'\n",
    "        )\n",
    "        print()"
   ]
  },
  {
   "cell_type": "markdown",
   "metadata": {},
   "source": [
    "## Вывод"
   ]
  },
  {
   "cell_type": "markdown",
   "metadata": {},
   "source": [
    "Достаточный объём сырья для безубыточной разработки новой скважины равен **111.11 тыс. баррелей**, но среднее значение в каждом регионе ниже этого значения:  \n",
    "1) В **регионе 0** оно равно **92.59 тыс. баррелей**  \n",
    "2) В **регионе 1** оно равно **68.73 тыс. баррелей**  \n",
    "3) В **регионе 2** оно равно **94.97 тыс. баррелей**  \n",
    "При этом есть скважины с объемом больше требуемого, но их количество составляет около 20% от всех скважин в регионе."
   ]
  },
  {
   "cell_type": "markdown",
   "metadata": {},
   "source": [
    "# Расчёт прибыли и рисков "
   ]
  },
  {
   "cell_type": "markdown",
   "metadata": {},
   "source": [
    "Напишем функция для расчета прибыли возвращающую значения в млрд рублей"
   ]
  },
  {
   "cell_type": "code",
   "execution_count": 14,
   "metadata": {},
   "outputs": [],
   "source": [
    "def profit_predict(target, prediction):\n",
    "    \n",
    "    sort_prediction = prediction.reset_index(drop=True).sort_values(ascending=False)\n",
    "    best_target = target.reset_index(drop=True)[sort_prediction.index][:GOOD_WELLS]\n",
    "    \n",
    "    mlrd = 10**9\n",
    "    profit = (best_target.sum()*BARREL_INCOME - BUDGET) / mlrd\n",
    "    \n",
    "    return round(profit, 2)"
   ]
  },
  {
   "cell_type": "markdown",
   "metadata": {},
   "source": [
    "Теперь напишем для функция Bootstrap с 1000 выборок, чтобы найти распределение прибыли.  \n",
    "Найдем среднюю прибыль, 95%-й доверительный интервал и риск убытков. Убыток — это отрицательная прибыль."
   ]
  },
  {
   "cell_type": "code",
   "execution_count": 15,
   "metadata": {},
   "outputs": [],
   "source": [
    "samples= 1000\n",
    "alpha = 0.025"
   ]
  },
  {
   "cell_type": "code",
   "execution_count": 16,
   "metadata": {},
   "outputs": [],
   "source": [
    "def bootstrap(target, prediction):\n",
    "    \n",
    "    values = []\n",
    "    state = np.random.RandomState(12345)\n",
    "    \n",
    "    for i in range(samples):\n",
    "        \n",
    "        target_subsample = target.reset_index(drop=True).sample(\n",
    "            n=NUM_WELLS, replace=True, random_state=state)\n",
    "        \n",
    "        probs_subsample = prediction[target_subsample.index]\n",
    "        profit = profit_predict(target_subsample, probs_subsample)\n",
    "        \n",
    "        values.append(profit)\n",
    "\n",
    "    values = pd.Series(values)\n",
    "    lower = values.quantile(alpha)\n",
    "    confidence_interval = (lower, values.quantile(1-alpha))\n",
    "    mean = values.mean()\n",
    "    \n",
    "    print(f'Средняя выручка: {mean:.2f} млрд. руб')\n",
    "    print(f'2.5%-квантиль: {lower}')\n",
    "    print(f'Доверительный интервал: {confidence_interval}')\n",
    "    print(f'Риск убытка: {(values < 0).mean()} млрд. руб')"
   ]
  },
  {
   "cell_type": "markdown",
   "metadata": {},
   "source": [
    "## Прибыль региона 0"
   ]
  },
  {
   "cell_type": "markdown",
   "metadata": {},
   "source": [
    "Применим функция bootstrap для региона 0"
   ]
  },
  {
   "cell_type": "code",
   "execution_count": 17,
   "metadata": {},
   "outputs": [
    {
     "name": "stdout",
     "output_type": "stream",
     "text": [
      "Средняя выручка: 0.40 млрд. руб\n",
      "2.5%-квантиль: -0.11\n",
      "Доверительный интервал: (-0.11, 0.9102499999999998)\n",
      "Риск убытка: 0.067 млрд. руб\n"
     ]
    }
   ],
   "source": [
    "bootstrap(target_region_0, pred_region_0)"
   ]
  },
  {
   "cell_type": "markdown",
   "metadata": {},
   "source": [
    "## Прибыль региона 1"
   ]
  },
  {
   "cell_type": "markdown",
   "metadata": {},
   "source": [
    "Применим функция bootstrap для региона 1"
   ]
  },
  {
   "cell_type": "code",
   "execution_count": 18,
   "metadata": {},
   "outputs": [
    {
     "name": "stdout",
     "output_type": "stream",
     "text": [
      "Средняя выручка: 0.46 млрд. руб\n",
      "2.5%-квантиль: 0.03\n",
      "Доверительный интервал: (0.03, 0.85)\n",
      "Риск убытка: 0.015 млрд. руб\n"
     ]
    }
   ],
   "source": [
    "bootstrap(target_region_1, pred_region_1)"
   ]
  },
  {
   "cell_type": "markdown",
   "metadata": {},
   "source": [
    "## Прибыль региона 2"
   ]
  },
  {
   "cell_type": "markdown",
   "metadata": {},
   "source": [
    "Применим функция bootstrap для региона 2"
   ]
  },
  {
   "cell_type": "code",
   "execution_count": 19,
   "metadata": {},
   "outputs": [
    {
     "name": "stdout",
     "output_type": "stream",
     "text": [
      "Средняя выручка: 0.40 млрд. руб\n",
      "2.5%-квантиль: -0.16024999999999998\n",
      "Доверительный интервал: (-0.16024999999999998, 0.95)\n",
      "Риск убытка: 0.074 млрд. руб\n"
     ]
    }
   ],
   "source": [
    "bootstrap(target_region_2, pred_region_2)"
   ]
  },
  {
   "cell_type": "markdown",
   "metadata": {},
   "source": [
    "## Вывод"
   ]
  },
  {
   "cell_type": "markdown",
   "metadata": {},
   "source": [
    "Мы получили следующую информацию по прибыли и рискам убытка в регионах:\n",
    "1) В **регионе 0** прибыль равна **0.40 млрд. руб**, с рисками убытка **0.067 млрд. руб**  \n",
    "2) В **регионе 1** прибыль равна **0.46 млрд. руб**, с рисками убытка **0.015 млрд. руб**    \n",
    "3) В **регионе 2** прибыль равна **0.40 млрд. руб**, с рисками убытка **0.074 млрд. руб**  \n",
    "\n",
    "Как мы видим, самую максимальную прибыль можно получить в **регионе 1**, при этом в этом регионе и минимальный риск убытка, поэтому этот регионам необходимо выбрать для разработки скважин"
   ]
  },
  {
   "cell_type": "markdown",
   "metadata": {},
   "source": [
    "# Общий вывод"
   ]
  },
  {
   "cell_type": "markdown",
   "metadata": {},
   "source": [
    "В данном проекте нам нужно было выбрать регион, где добыча принесёт наибольшую прибыль.  \n",
    "Нам были предоставлены пробы нефти в трёх регионах: в каждом 10 000 месторождений, где измерили качество нефти и объём её запасов.  \n",
    "При изучении данных мы определили, что таблицах нет пропущенных значений и дубликатов.  \n",
    "Далее мы написали функцию где разделили наши данны на признаки и целевое значение.  \n",
    "В нашем случае признаками являлись столбцы `f0`, `f1`, `f2`, а целевым значением был столбец `product` .  \n",
    "Данные разбивали на обучающую и валидационную выборки в соотношении 75:25.  \n",
    "Внутри функции обучили модель **Линейной регресии** и сохранили предсказания и правильные ответы на валидационной выборке.  \n",
    "\n",
    "Из полученных результатов можно сделать вывод, что в среднем наибольшее количество запасов расположено в **region_0** и **region_2**, они равны **92.59** и **94.97** тыс. баррелей, но при этом у них очень большая среднеквадратичная ошибка равная **37.58** и **40.03**, что может говорить о неточности модели.  \n",
    "В **region_1** среднее значение запасов ниже чем в других регионах и равно **68.73** тыс. баррелей, но при этом среднеквадратичная ошибка равна всего лишь **0.89**, здесь модель явно предсказывает лучше.\n",
    "\n",
    "Достаточный объём сырья для безубыточной разработки новой скважины равен **111.11 тыс. баррелей**, но среднее значение в каждом регионе ниже этого значения:  \n",
    "1) В **регионе 0** оно равно **92.59 тыс. баррелей**  \n",
    "2) В **регионе 1** оно равно **68.73 тыс. баррелей**  \n",
    "3) В **регионе 2** оно равно **94.97 тыс. баррелей**  \n",
    "При этом есть скважины с объемом больше требуемого, но их количество составляет около 20% от всех скважин в регионе.\n",
    "\n",
    "Далее мы написали функцию для расчета прибыли и функцию Bootstrap с 1000 выборок, чтобы найти распределение прибыли.\n",
    "Нашли среднюю прибыль по регионам, 95%-й доверительный интервал и риск убытков. Убыток — это отрицательная прибыль.\n",
    "\n",
    "В итоге мы получили следующую информацию по прибыли и рискам убытка в регионах:\n",
    "1) В **регионе 0** прибыль равна **0.40 млрд. руб**, с рисками убытка **0.067 млрд. руб**  \n",
    "2) В **регионе 1** прибыль равна **0.46 млрд. руб**, с рисками убытка **0.015 млрд. руб**    \n",
    "3) В **регионе 2** прибыль равна **0.40 млрд. руб**, с рисками убытка **0.074 млрд. руб**  \n",
    "\n",
    "Как мы видим, самую максимальную прибыль можно получить в **регионе 1**, при этом в этом регионе и минимальный риск убытка, поэтому этот регионам необходимо выбрать для разработки скважин"
   ]
  },
  {
   "cell_type": "code",
   "execution_count": null,
   "metadata": {},
   "outputs": [],
   "source": []
  }
 ],
 "metadata": {
  "kernelspec": {
   "display_name": "Python 3.9.0 64-bit",
   "language": "python",
   "name": "python3"
  },
  "language_info": {
   "codemirror_mode": {
    "name": "ipython",
    "version": 3
   },
   "file_extension": ".py",
   "mimetype": "text/x-python",
   "name": "python",
   "nbconvert_exporter": "python",
   "pygments_lexer": "ipython3",
   "version": "3.9.0"
  },
  "toc": {
   "base_numbering": 1,
   "nav_menu": {},
   "number_sections": true,
   "sideBar": true,
   "skip_h1_title": false,
   "title_cell": "Содержание",
   "title_sidebar": "Содержание",
   "toc_cell": true,
   "toc_position": {
    "height": "calc(100% - 180px)",
    "left": "10px",
    "top": "150px",
    "width": "272px"
   },
   "toc_section_display": true,
   "toc_window_display": false
  },
  "vscode": {
   "interpreter": {
    "hash": "aee8b7b246df8f9039afb4144a1f6fd8d2ca17a180786b69acc140d282b71a49"
   }
  }
 },
 "nbformat": 4,
 "nbformat_minor": 2
}
